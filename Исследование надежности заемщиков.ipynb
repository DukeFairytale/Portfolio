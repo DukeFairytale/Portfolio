{
 "cells": [
  {
   "cell_type": "markdown",
   "id": "650c3a3e",
   "metadata": {},
   "source": [
    "# Исследование надежности заемщиков."
   ]
  },
  {
   "cell_type": "markdown",
   "id": "ba74c1c0",
   "metadata": {},
   "source": [
    "Заказчик — кредитный отдел банка. Нужно разобраться, влияет ли уровень дохода,  семейное положение и количество детей клиента, а так же цели на которые берется заем на факт погашения кредита в срок. Входные данные от банка — статистика о платёжеспособности клиентов."
   ]
  },
  {
   "cell_type": "markdown",
   "id": "143b033f",
   "metadata": {},
   "source": [
    "### Шаг 1. Обзор данных"
   ]
  },
  {
   "cell_type": "code",
   "execution_count": 1,
   "id": "620b28f7",
   "metadata": {
    "scrolled": true
   },
   "outputs": [
    {
     "name": "stdout",
     "output_type": "stream",
     "text": [
      "<class 'pandas.core.frame.DataFrame'>\n",
      "RangeIndex: 21525 entries, 0 to 21524\n",
      "Data columns (total 12 columns):\n",
      " #   Column            Non-Null Count  Dtype  \n",
      "---  ------            --------------  -----  \n",
      " 0   children          21525 non-null  int64  \n",
      " 1   days_employed     19351 non-null  float64\n",
      " 2   dob_years         21525 non-null  int64  \n",
      " 3   education         21525 non-null  object \n",
      " 4   education_id      21525 non-null  int64  \n",
      " 5   family_status     21525 non-null  object \n",
      " 6   family_status_id  21525 non-null  int64  \n",
      " 7   gender            21525 non-null  object \n",
      " 8   income_type       21525 non-null  object \n",
      " 9   debt              21525 non-null  int64  \n",
      " 10  total_income      19351 non-null  float64\n",
      " 11  purpose           21525 non-null  object \n",
      "dtypes: float64(2), int64(5), object(5)\n",
      "memory usage: 2.0+ MB\n"
     ]
    }
   ],
   "source": [
    "import pandas as pd\n",
    "df = pd.read_csv('/datasets/data.csv')\n",
    "df.info()"
   ]
  },
  {
   "cell_type": "markdown",
   "id": "c9cc693f",
   "metadata": {},
   "source": [
    "При обзоре можно обнаружить пропуски в двух стобцах days_employed и total_income      "
   ]
  },
  {
   "cell_type": "markdown",
   "id": "deda7f06",
   "metadata": {},
   "source": [
    "### Шаг 2.1 Заполнение пропусков"
   ]
  },
  {
   "cell_type": "code",
   "execution_count": 2,
   "id": "2ab78338",
   "metadata": {},
   "outputs": [
    {
     "name": "stdout",
     "output_type": "stream",
     "text": [
      "children            0.000000\n",
      "days_employed       0.100999\n",
      "dob_years           0.000000\n",
      "education           0.000000\n",
      "education_id        0.000000\n",
      "family_status       0.000000\n",
      "family_status_id    0.000000\n",
      "gender              0.000000\n",
      "income_type         0.000000\n",
      "debt                0.000000\n",
      "total_income        0.100999\n",
      "purpose             0.000000\n",
      "dtype: float64\n"
     ]
    }
   ],
   "source": [
    "print(df.isna().sum() / df.shape[0])"
   ]
  },
  {
   "cell_type": "code",
   "execution_count": 3,
   "id": "58162435",
   "metadata": {
    "scrolled": true
   },
   "outputs": [
    {
     "name": "stdout",
     "output_type": "stream",
     "text": [
      "Значение медианы равно 145017.93753253992\n",
      "0\n"
     ]
    },
    {
     "data": {
      "text/html": [
       "<div>\n",
       "<style scoped>\n",
       "    .dataframe tbody tr th:only-of-type {\n",
       "        vertical-align: middle;\n",
       "    }\n",
       "\n",
       "    .dataframe tbody tr th {\n",
       "        vertical-align: top;\n",
       "    }\n",
       "\n",
       "    .dataframe thead th {\n",
       "        text-align: right;\n",
       "    }\n",
       "</style>\n",
       "<table border=\"1\" class=\"dataframe\">\n",
       "  <thead>\n",
       "    <tr style=\"text-align: right;\">\n",
       "      <th></th>\n",
       "      <th>children</th>\n",
       "      <th>days_employed</th>\n",
       "      <th>dob_years</th>\n",
       "      <th>education</th>\n",
       "      <th>education_id</th>\n",
       "      <th>family_status</th>\n",
       "      <th>family_status_id</th>\n",
       "      <th>gender</th>\n",
       "      <th>income_type</th>\n",
       "      <th>debt</th>\n",
       "      <th>total_income</th>\n",
       "      <th>purpose</th>\n",
       "    </tr>\n",
       "  </thead>\n",
       "  <tbody>\n",
       "    <tr>\n",
       "      <th>0</th>\n",
       "      <td>1</td>\n",
       "      <td>-8437.673028</td>\n",
       "      <td>42</td>\n",
       "      <td>высшее</td>\n",
       "      <td>0</td>\n",
       "      <td>женат / замужем</td>\n",
       "      <td>0</td>\n",
       "      <td>F</td>\n",
       "      <td>сотрудник</td>\n",
       "      <td>0</td>\n",
       "      <td>253875.639453</td>\n",
       "      <td>покупка жилья</td>\n",
       "    </tr>\n",
       "    <tr>\n",
       "      <th>1</th>\n",
       "      <td>1</td>\n",
       "      <td>-4024.803754</td>\n",
       "      <td>36</td>\n",
       "      <td>среднее</td>\n",
       "      <td>1</td>\n",
       "      <td>женат / замужем</td>\n",
       "      <td>0</td>\n",
       "      <td>F</td>\n",
       "      <td>сотрудник</td>\n",
       "      <td>0</td>\n",
       "      <td>112080.014102</td>\n",
       "      <td>приобретение автомобиля</td>\n",
       "    </tr>\n",
       "    <tr>\n",
       "      <th>2</th>\n",
       "      <td>0</td>\n",
       "      <td>-5623.422610</td>\n",
       "      <td>33</td>\n",
       "      <td>Среднее</td>\n",
       "      <td>1</td>\n",
       "      <td>женат / замужем</td>\n",
       "      <td>0</td>\n",
       "      <td>M</td>\n",
       "      <td>сотрудник</td>\n",
       "      <td>0</td>\n",
       "      <td>145885.952297</td>\n",
       "      <td>покупка жилья</td>\n",
       "    </tr>\n",
       "    <tr>\n",
       "      <th>3</th>\n",
       "      <td>3</td>\n",
       "      <td>-4124.747207</td>\n",
       "      <td>32</td>\n",
       "      <td>среднее</td>\n",
       "      <td>1</td>\n",
       "      <td>женат / замужем</td>\n",
       "      <td>0</td>\n",
       "      <td>M</td>\n",
       "      <td>сотрудник</td>\n",
       "      <td>0</td>\n",
       "      <td>267628.550329</td>\n",
       "      <td>дополнительное образование</td>\n",
       "    </tr>\n",
       "    <tr>\n",
       "      <th>4</th>\n",
       "      <td>0</td>\n",
       "      <td>340266.072047</td>\n",
       "      <td>53</td>\n",
       "      <td>среднее</td>\n",
       "      <td>1</td>\n",
       "      <td>гражданский брак</td>\n",
       "      <td>1</td>\n",
       "      <td>F</td>\n",
       "      <td>пенсионер</td>\n",
       "      <td>0</td>\n",
       "      <td>158616.077870</td>\n",
       "      <td>сыграть свадьбу</td>\n",
       "    </tr>\n",
       "    <tr>\n",
       "      <th>5</th>\n",
       "      <td>0</td>\n",
       "      <td>-926.185831</td>\n",
       "      <td>27</td>\n",
       "      <td>высшее</td>\n",
       "      <td>0</td>\n",
       "      <td>гражданский брак</td>\n",
       "      <td>1</td>\n",
       "      <td>M</td>\n",
       "      <td>компаньон</td>\n",
       "      <td>0</td>\n",
       "      <td>255763.565419</td>\n",
       "      <td>покупка жилья</td>\n",
       "    </tr>\n",
       "    <tr>\n",
       "      <th>6</th>\n",
       "      <td>0</td>\n",
       "      <td>-2879.202052</td>\n",
       "      <td>43</td>\n",
       "      <td>высшее</td>\n",
       "      <td>0</td>\n",
       "      <td>женат / замужем</td>\n",
       "      <td>0</td>\n",
       "      <td>F</td>\n",
       "      <td>компаньон</td>\n",
       "      <td>0</td>\n",
       "      <td>240525.971920</td>\n",
       "      <td>операции с жильем</td>\n",
       "    </tr>\n",
       "    <tr>\n",
       "      <th>7</th>\n",
       "      <td>0</td>\n",
       "      <td>-152.779569</td>\n",
       "      <td>50</td>\n",
       "      <td>СРЕДНЕЕ</td>\n",
       "      <td>1</td>\n",
       "      <td>женат / замужем</td>\n",
       "      <td>0</td>\n",
       "      <td>M</td>\n",
       "      <td>сотрудник</td>\n",
       "      <td>0</td>\n",
       "      <td>135823.934197</td>\n",
       "      <td>образование</td>\n",
       "    </tr>\n",
       "    <tr>\n",
       "      <th>8</th>\n",
       "      <td>2</td>\n",
       "      <td>-6929.865299</td>\n",
       "      <td>35</td>\n",
       "      <td>ВЫСШЕЕ</td>\n",
       "      <td>0</td>\n",
       "      <td>гражданский брак</td>\n",
       "      <td>1</td>\n",
       "      <td>F</td>\n",
       "      <td>сотрудник</td>\n",
       "      <td>0</td>\n",
       "      <td>95856.832424</td>\n",
       "      <td>на проведение свадьбы</td>\n",
       "    </tr>\n",
       "    <tr>\n",
       "      <th>9</th>\n",
       "      <td>0</td>\n",
       "      <td>-2188.756445</td>\n",
       "      <td>41</td>\n",
       "      <td>среднее</td>\n",
       "      <td>1</td>\n",
       "      <td>женат / замужем</td>\n",
       "      <td>0</td>\n",
       "      <td>M</td>\n",
       "      <td>сотрудник</td>\n",
       "      <td>0</td>\n",
       "      <td>144425.938277</td>\n",
       "      <td>покупка жилья для семьи</td>\n",
       "    </tr>\n",
       "  </tbody>\n",
       "</table>\n",
       "</div>"
      ],
      "text/plain": [
       "   children  days_employed  dob_years education  education_id  \\\n",
       "0         1   -8437.673028         42    высшее             0   \n",
       "1         1   -4024.803754         36   среднее             1   \n",
       "2         0   -5623.422610         33   Среднее             1   \n",
       "3         3   -4124.747207         32   среднее             1   \n",
       "4         0  340266.072047         53   среднее             1   \n",
       "5         0    -926.185831         27    высшее             0   \n",
       "6         0   -2879.202052         43    высшее             0   \n",
       "7         0    -152.779569         50   СРЕДНЕЕ             1   \n",
       "8         2   -6929.865299         35    ВЫСШЕЕ             0   \n",
       "9         0   -2188.756445         41   среднее             1   \n",
       "\n",
       "      family_status  family_status_id gender income_type  debt   total_income  \\\n",
       "0   женат / замужем                 0      F   сотрудник     0  253875.639453   \n",
       "1   женат / замужем                 0      F   сотрудник     0  112080.014102   \n",
       "2   женат / замужем                 0      M   сотрудник     0  145885.952297   \n",
       "3   женат / замужем                 0      M   сотрудник     0  267628.550329   \n",
       "4  гражданский брак                 1      F   пенсионер     0  158616.077870   \n",
       "5  гражданский брак                 1      M   компаньон     0  255763.565419   \n",
       "6   женат / замужем                 0      F   компаньон     0  240525.971920   \n",
       "7   женат / замужем                 0      M   сотрудник     0  135823.934197   \n",
       "8  гражданский брак                 1      F   сотрудник     0   95856.832424   \n",
       "9   женат / замужем                 0      M   сотрудник     0  144425.938277   \n",
       "\n",
       "                      purpose  \n",
       "0               покупка жилья  \n",
       "1     приобретение автомобиля  \n",
       "2               покупка жилья  \n",
       "3  дополнительное образование  \n",
       "4             сыграть свадьбу  \n",
       "5               покупка жилья  \n",
       "6           операции с жильем  \n",
       "7                 образование  \n",
       "8       на проведение свадьбы  \n",
       "9     покупка жилья для семьи  "
      ]
     },
     "metadata": {},
     "output_type": "display_data"
    }
   ],
   "source": [
    "median_total = df['total_income'].median()\n",
    "print('Значение медианы равно', median_total)\n",
    "df['total_income'] = df['total_income'].fillna(median_total)\n",
    "print(df['total_income'].isna().sum())\n",
    "display(df.head(10))"
   ]
  },
  {
   "cell_type": "markdown",
   "id": "7badaed1",
   "metadata": {},
   "source": [
    "1. В стоблце 'total_income' было обнаружено 2174 пропущенных значений типа NaN.\n",
    "2. По скольку в столбце отражен ежемесячный доход, пропущенный значения повлияют на конечный итог анализа, поэтому было принято решение заполнить пропущенные значения на медианное значение, согласно столбцу \n",
    "3. Проверил на наличие пропусков, командой info()\n",
    "4. Доля пропущенных значений в столбце days_employed = 10% total_income = 10%"
   ]
  },
  {
   "cell_type": "markdown",
   "id": "03716c50",
   "metadata": {},
   "source": [
    "### Шаг 2.2 Проверка данных на аномалии и исправления."
   ]
  },
  {
   "cell_type": "code",
   "execution_count": 4,
   "id": "1d197e79",
   "metadata": {},
   "outputs": [
    {
     "data": {
      "text/plain": [
       " 0     14149\n",
       " 1      4818\n",
       " 2      2055\n",
       " 3       330\n",
       " 20       76\n",
       "-1        47\n",
       " 4        41\n",
       " 5         9\n",
       "Name: children, dtype: int64"
      ]
     },
     "execution_count": 4,
     "metadata": {},
     "output_type": "execute_result"
    }
   ],
   "source": [
    "df['children'].value_counts()"
   ]
  },
  {
   "cell_type": "markdown",
   "id": "56bc34d4",
   "metadata": {},
   "source": [
    "В столбце 'children' обнаружили аномалии в виде отрицальных значений, а также в количестве детей равном 20"
   ]
  },
  {
   "cell_type": "code",
   "execution_count": 5,
   "id": "e88a042a",
   "metadata": {},
   "outputs": [
    {
     "data": {
      "text/plain": [
       "0    14149\n",
       "1     4865\n",
       "2     2131\n",
       "3      330\n",
       "4       41\n",
       "5        9\n",
       "Name: children, dtype: int64"
      ]
     },
     "execution_count": 5,
     "metadata": {},
     "output_type": "execute_result"
    }
   ],
   "source": [
    "df.loc[df['children'] == 20, 'children'] = 2\n",
    "df['children'] = abs(df['children'])\n",
    "df['children'].value_counts()"
   ]
  },
  {
   "cell_type": "code",
   "execution_count": 6,
   "id": "bcf52b4a",
   "metadata": {},
   "outputs": [
    {
     "name": "stdout",
     "output_type": "stream",
     "text": [
      "0          8437.673028\n",
      "1          4024.803754\n",
      "2          5623.422610\n",
      "3          4124.747207\n",
      "4        340266.072047\n",
      "             ...      \n",
      "21520      4529.316663\n",
      "21521    343937.404131\n",
      "21522      2113.346888\n",
      "21523      3112.481705\n",
      "21524      1984.507589\n",
      "Name: days_employed, Length: 21525, dtype: float64\n"
     ]
    }
   ],
   "source": [
    "df['days_employed'] = abs(df['days_employed'])\n",
    "days_emloyed_med = df['days_employed'].median()\n",
    "df['days_employed'] = df['days_employed'].fillna(value = days_emloyed_med)\n",
    "df['days_employed'].isna().sum()\n",
    "print(df['days_employed'])"
   ]
  },
  {
   "cell_type": "markdown",
   "id": "3875dc67",
   "metadata": {},
   "source": [
    "Аномалии были обнаружены так же в столбце days_employed, по мимо пропущенных значнений, заполненных медианой, так же были обнаружены отрицальные значения, что вполне могло произойти из-за измения формата таблицы, к примеру.\n",
    "И подозрительно больше значение вроде 343937 дней, в данном этапе это произошло уже скорее из-за человеческого фактора. Но по скольку столбец в анализе использован не будет, это можно не учитывать. Опять же в целях экономии времени"
   ]
  },
  {
   "cell_type": "markdown",
   "id": "b70ee40c",
   "metadata": {},
   "source": [
    "### Шаг 2.3. Изменение типов данных."
   ]
  },
  {
   "cell_type": "code",
   "execution_count": 7,
   "id": "c308c6fe",
   "metadata": {},
   "outputs": [
    {
     "name": "stdout",
     "output_type": "stream",
     "text": [
      "<class 'pandas.core.frame.DataFrame'>\n",
      "RangeIndex: 21525 entries, 0 to 21524\n",
      "Data columns (total 12 columns):\n",
      " #   Column            Non-Null Count  Dtype  \n",
      "---  ------            --------------  -----  \n",
      " 0   children          21525 non-null  int64  \n",
      " 1   days_employed     21525 non-null  float64\n",
      " 2   dob_years         21525 non-null  int64  \n",
      " 3   education         21525 non-null  object \n",
      " 4   education_id      21525 non-null  int64  \n",
      " 5   family_status     21525 non-null  object \n",
      " 6   family_status_id  21525 non-null  int64  \n",
      " 7   gender            21525 non-null  object \n",
      " 8   income_type       21525 non-null  object \n",
      " 9   debt              21525 non-null  int64  \n",
      " 10  total_income      21525 non-null  int64  \n",
      " 11  purpose           21525 non-null  object \n",
      "dtypes: float64(1), int64(6), object(5)\n",
      "memory usage: 2.0+ MB\n"
     ]
    }
   ],
   "source": [
    "df['total_income'] = df['total_income'].astype('int')\n",
    "df.info()"
   ]
  },
  {
   "cell_type": "markdown",
   "id": "9e3b61a9",
   "metadata": {},
   "source": [
    "Для упрощения анализа, избавились от дробных чисел в столбце с заработком, изменив тип с float на int"
   ]
  },
  {
   "cell_type": "markdown",
   "id": "48efd41c",
   "metadata": {},
   "source": [
    "### Шаг 2.4. Удаление дубликатов."
   ]
  },
  {
   "cell_type": "code",
   "execution_count": 8,
   "id": "c707b172",
   "metadata": {},
   "outputs": [
    {
     "name": "stdout",
     "output_type": "stream",
     "text": [
      "Количество дупликатов до удаления: 71\n"
     ]
    }
   ],
   "source": [
    "df['education'] = df['education'].str.lower()\n",
    "print('Количество дупликатов до удаления:', df.duplicated().sum())"
   ]
  },
  {
   "cell_type": "code",
   "execution_count": 9,
   "id": "edf8f8dc",
   "metadata": {},
   "outputs": [
    {
     "name": "stdout",
     "output_type": "stream",
     "text": [
      "['высшее' 'среднее' 'неоконченное высшее' 'начальное' 'ученая степень']\n",
      "Количество дупликатов после удаления: 0\n"
     ]
    }
   ],
   "source": [
    "df = df.drop_duplicates()\n",
    "print(df['education'].unique())\n",
    "print('Количество дупликатов после удаления:', df.duplicated().sum())"
   ]
  },
  {
   "cell_type": "markdown",
   "id": "825d2bb6",
   "metadata": {},
   "source": [
    "с помощью команды drop_duplicates(), удаляем дупликаты в таблицы, и приводим строки к единому регистру,\n",
    "проверили работу команд с помощью метода unique() и duplicated().sum()"
   ]
  },
  {
   "cell_type": "markdown",
   "id": "fe44b2c5",
   "metadata": {},
   "source": [
    "1. Выбрал метод drop_duplicates чтобы удалить все дубликаты из дата фрейма, атрибут inplace = True, для того что переименовать данные\n",
    "2. Дубликаты могут появиться по двум причинам, - Человеческий фактор и Связаннный непосредственно с системой, например когда переводим из одного формата в другой."
   ]
  },
  {
   "cell_type": "markdown",
   "id": "8b463599",
   "metadata": {},
   "source": [
    "### Шаг 2.5. Формирование дополнительных датафреймов словарей, декомпозиция исходного датафрейма."
   ]
  },
  {
   "cell_type": "code",
   "execution_count": 10,
   "id": "a823a625",
   "metadata": {},
   "outputs": [
    {
     "data": {
      "text/html": [
       "<div>\n",
       "<style scoped>\n",
       "    .dataframe tbody tr th:only-of-type {\n",
       "        vertical-align: middle;\n",
       "    }\n",
       "\n",
       "    .dataframe tbody tr th {\n",
       "        vertical-align: top;\n",
       "    }\n",
       "\n",
       "    .dataframe thead th {\n",
       "        text-align: right;\n",
       "    }\n",
       "</style>\n",
       "<table border=\"1\" class=\"dataframe\">\n",
       "  <thead>\n",
       "    <tr style=\"text-align: right;\">\n",
       "      <th></th>\n",
       "      <th>education</th>\n",
       "      <th>education_id</th>\n",
       "    </tr>\n",
       "  </thead>\n",
       "  <tbody>\n",
       "    <tr>\n",
       "      <th>0</th>\n",
       "      <td>высшее</td>\n",
       "      <td>0</td>\n",
       "    </tr>\n",
       "    <tr>\n",
       "      <th>1</th>\n",
       "      <td>среднее</td>\n",
       "      <td>1</td>\n",
       "    </tr>\n",
       "    <tr>\n",
       "      <th>2</th>\n",
       "      <td>неоконченное высшее</td>\n",
       "      <td>2</td>\n",
       "    </tr>\n",
       "    <tr>\n",
       "      <th>3</th>\n",
       "      <td>начальное</td>\n",
       "      <td>3</td>\n",
       "    </tr>\n",
       "    <tr>\n",
       "      <th>4</th>\n",
       "      <td>ученая степень</td>\n",
       "      <td>4</td>\n",
       "    </tr>\n",
       "  </tbody>\n",
       "</table>\n",
       "</div>"
      ],
      "text/plain": [
       "             education  education_id\n",
       "0               высшее             0\n",
       "1              среднее             1\n",
       "2  неоконченное высшее             2\n",
       "3            начальное             3\n",
       "4       ученая степень             4"
      ]
     },
     "metadata": {},
     "output_type": "display_data"
    },
    {
     "data": {
      "text/html": [
       "<div>\n",
       "<style scoped>\n",
       "    .dataframe tbody tr th:only-of-type {\n",
       "        vertical-align: middle;\n",
       "    }\n",
       "\n",
       "    .dataframe tbody tr th {\n",
       "        vertical-align: top;\n",
       "    }\n",
       "\n",
       "    .dataframe thead th {\n",
       "        text-align: right;\n",
       "    }\n",
       "</style>\n",
       "<table border=\"1\" class=\"dataframe\">\n",
       "  <thead>\n",
       "    <tr style=\"text-align: right;\">\n",
       "      <th></th>\n",
       "      <th>family_status</th>\n",
       "      <th>family_status_id</th>\n",
       "    </tr>\n",
       "  </thead>\n",
       "  <tbody>\n",
       "    <tr>\n",
       "      <th>0</th>\n",
       "      <td>женат / замужем</td>\n",
       "      <td>0</td>\n",
       "    </tr>\n",
       "    <tr>\n",
       "      <th>1</th>\n",
       "      <td>гражданский брак</td>\n",
       "      <td>1</td>\n",
       "    </tr>\n",
       "    <tr>\n",
       "      <th>2</th>\n",
       "      <td>вдовец / вдова</td>\n",
       "      <td>2</td>\n",
       "    </tr>\n",
       "    <tr>\n",
       "      <th>3</th>\n",
       "      <td>в разводе</td>\n",
       "      <td>3</td>\n",
       "    </tr>\n",
       "    <tr>\n",
       "      <th>4</th>\n",
       "      <td>Не женат / не замужем</td>\n",
       "      <td>4</td>\n",
       "    </tr>\n",
       "  </tbody>\n",
       "</table>\n",
       "</div>"
      ],
      "text/plain": [
       "           family_status  family_status_id\n",
       "0        женат / замужем                 0\n",
       "1       гражданский брак                 1\n",
       "2         вдовец / вдова                 2\n",
       "3              в разводе                 3\n",
       "4  Не женат / не замужем                 4"
      ]
     },
     "metadata": {},
     "output_type": "display_data"
    },
    {
     "data": {
      "text/html": [
       "<div>\n",
       "<style scoped>\n",
       "    .dataframe tbody tr th:only-of-type {\n",
       "        vertical-align: middle;\n",
       "    }\n",
       "\n",
       "    .dataframe tbody tr th {\n",
       "        vertical-align: top;\n",
       "    }\n",
       "\n",
       "    .dataframe thead th {\n",
       "        text-align: right;\n",
       "    }\n",
       "</style>\n",
       "<table border=\"1\" class=\"dataframe\">\n",
       "  <thead>\n",
       "    <tr style=\"text-align: right;\">\n",
       "      <th></th>\n",
       "      <th>children</th>\n",
       "      <th>days_employed</th>\n",
       "      <th>dob_years</th>\n",
       "      <th>education_id</th>\n",
       "      <th>family_status_id</th>\n",
       "      <th>gender</th>\n",
       "      <th>income_type</th>\n",
       "      <th>debt</th>\n",
       "      <th>total_income</th>\n",
       "      <th>purpose</th>\n",
       "    </tr>\n",
       "  </thead>\n",
       "  <tbody>\n",
       "    <tr>\n",
       "      <th>0</th>\n",
       "      <td>1</td>\n",
       "      <td>8437.673028</td>\n",
       "      <td>42</td>\n",
       "      <td>0</td>\n",
       "      <td>0</td>\n",
       "      <td>F</td>\n",
       "      <td>сотрудник</td>\n",
       "      <td>0</td>\n",
       "      <td>253875</td>\n",
       "      <td>покупка жилья</td>\n",
       "    </tr>\n",
       "    <tr>\n",
       "      <th>1</th>\n",
       "      <td>1</td>\n",
       "      <td>4024.803754</td>\n",
       "      <td>36</td>\n",
       "      <td>1</td>\n",
       "      <td>0</td>\n",
       "      <td>F</td>\n",
       "      <td>сотрудник</td>\n",
       "      <td>0</td>\n",
       "      <td>112080</td>\n",
       "      <td>приобретение автомобиля</td>\n",
       "    </tr>\n",
       "    <tr>\n",
       "      <th>2</th>\n",
       "      <td>0</td>\n",
       "      <td>5623.422610</td>\n",
       "      <td>33</td>\n",
       "      <td>1</td>\n",
       "      <td>0</td>\n",
       "      <td>M</td>\n",
       "      <td>сотрудник</td>\n",
       "      <td>0</td>\n",
       "      <td>145885</td>\n",
       "      <td>покупка жилья</td>\n",
       "    </tr>\n",
       "    <tr>\n",
       "      <th>3</th>\n",
       "      <td>3</td>\n",
       "      <td>4124.747207</td>\n",
       "      <td>32</td>\n",
       "      <td>1</td>\n",
       "      <td>0</td>\n",
       "      <td>M</td>\n",
       "      <td>сотрудник</td>\n",
       "      <td>0</td>\n",
       "      <td>267628</td>\n",
       "      <td>дополнительное образование</td>\n",
       "    </tr>\n",
       "    <tr>\n",
       "      <th>4</th>\n",
       "      <td>0</td>\n",
       "      <td>340266.072047</td>\n",
       "      <td>53</td>\n",
       "      <td>1</td>\n",
       "      <td>1</td>\n",
       "      <td>F</td>\n",
       "      <td>пенсионер</td>\n",
       "      <td>0</td>\n",
       "      <td>158616</td>\n",
       "      <td>сыграть свадьбу</td>\n",
       "    </tr>\n",
       "    <tr>\n",
       "      <th>...</th>\n",
       "      <td>...</td>\n",
       "      <td>...</td>\n",
       "      <td>...</td>\n",
       "      <td>...</td>\n",
       "      <td>...</td>\n",
       "      <td>...</td>\n",
       "      <td>...</td>\n",
       "      <td>...</td>\n",
       "      <td>...</td>\n",
       "      <td>...</td>\n",
       "    </tr>\n",
       "    <tr>\n",
       "      <th>21520</th>\n",
       "      <td>1</td>\n",
       "      <td>4529.316663</td>\n",
       "      <td>43</td>\n",
       "      <td>1</td>\n",
       "      <td>1</td>\n",
       "      <td>F</td>\n",
       "      <td>компаньон</td>\n",
       "      <td>0</td>\n",
       "      <td>224791</td>\n",
       "      <td>операции с жильем</td>\n",
       "    </tr>\n",
       "    <tr>\n",
       "      <th>21521</th>\n",
       "      <td>0</td>\n",
       "      <td>343937.404131</td>\n",
       "      <td>67</td>\n",
       "      <td>1</td>\n",
       "      <td>0</td>\n",
       "      <td>F</td>\n",
       "      <td>пенсионер</td>\n",
       "      <td>0</td>\n",
       "      <td>155999</td>\n",
       "      <td>сделка с автомобилем</td>\n",
       "    </tr>\n",
       "    <tr>\n",
       "      <th>21522</th>\n",
       "      <td>1</td>\n",
       "      <td>2113.346888</td>\n",
       "      <td>38</td>\n",
       "      <td>1</td>\n",
       "      <td>1</td>\n",
       "      <td>M</td>\n",
       "      <td>сотрудник</td>\n",
       "      <td>1</td>\n",
       "      <td>89672</td>\n",
       "      <td>недвижимость</td>\n",
       "    </tr>\n",
       "    <tr>\n",
       "      <th>21523</th>\n",
       "      <td>3</td>\n",
       "      <td>3112.481705</td>\n",
       "      <td>38</td>\n",
       "      <td>1</td>\n",
       "      <td>0</td>\n",
       "      <td>M</td>\n",
       "      <td>сотрудник</td>\n",
       "      <td>1</td>\n",
       "      <td>244093</td>\n",
       "      <td>на покупку своего автомобиля</td>\n",
       "    </tr>\n",
       "    <tr>\n",
       "      <th>21524</th>\n",
       "      <td>2</td>\n",
       "      <td>1984.507589</td>\n",
       "      <td>40</td>\n",
       "      <td>1</td>\n",
       "      <td>0</td>\n",
       "      <td>F</td>\n",
       "      <td>сотрудник</td>\n",
       "      <td>0</td>\n",
       "      <td>82047</td>\n",
       "      <td>на покупку автомобиля</td>\n",
       "    </tr>\n",
       "  </tbody>\n",
       "</table>\n",
       "<p>21454 rows × 10 columns</p>\n",
       "</div>"
      ],
      "text/plain": [
       "       children  days_employed  dob_years  education_id  family_status_id  \\\n",
       "0             1    8437.673028         42             0                 0   \n",
       "1             1    4024.803754         36             1                 0   \n",
       "2             0    5623.422610         33             1                 0   \n",
       "3             3    4124.747207         32             1                 0   \n",
       "4             0  340266.072047         53             1                 1   \n",
       "...         ...            ...        ...           ...               ...   \n",
       "21520         1    4529.316663         43             1                 1   \n",
       "21521         0  343937.404131         67             1                 0   \n",
       "21522         1    2113.346888         38             1                 1   \n",
       "21523         3    3112.481705         38             1                 0   \n",
       "21524         2    1984.507589         40             1                 0   \n",
       "\n",
       "      gender income_type  debt  total_income                       purpose  \n",
       "0          F   сотрудник     0        253875                 покупка жилья  \n",
       "1          F   сотрудник     0        112080       приобретение автомобиля  \n",
       "2          M   сотрудник     0        145885                 покупка жилья  \n",
       "3          M   сотрудник     0        267628    дополнительное образование  \n",
       "4          F   пенсионер     0        158616               сыграть свадьбу  \n",
       "...      ...         ...   ...           ...                           ...  \n",
       "21520      F   компаньон     0        224791             операции с жильем  \n",
       "21521      F   пенсионер     0        155999          сделка с автомобилем  \n",
       "21522      M   сотрудник     1         89672                  недвижимость  \n",
       "21523      M   сотрудник     1        244093  на покупку своего автомобиля  \n",
       "21524      F   сотрудник     0         82047         на покупку автомобиля  \n",
       "\n",
       "[21454 rows x 10 columns]"
      ]
     },
     "metadata": {},
     "output_type": "display_data"
    }
   ],
   "source": [
    "education = display(df[['education', 'education_id']].drop_duplicates().reset_index(drop=True))\n",
    "family = display(df[['family_status', 'family_status_id']].drop_duplicates().reset_index(drop=True))\n",
    "df = df.drop(columns = ['education', 'family_status'])\n",
    "display(df)"
   ]
  },
  {
   "cell_type": "markdown",
   "id": "26e55cab",
   "metadata": {},
   "source": [
    "Упростим анализ, удалив два столбца, поместив их в словари."
   ]
  },
  {
   "cell_type": "markdown",
   "id": "b332f08d",
   "metadata": {},
   "source": [
    "### Шаг 2.6. Категоризация дохода."
   ]
  },
  {
   "cell_type": "code",
   "execution_count": 11,
   "id": "cfa24239",
   "metadata": {},
   "outputs": [
    {
     "data": {
      "text/html": [
       "<div>\n",
       "<style scoped>\n",
       "    .dataframe tbody tr th:only-of-type {\n",
       "        vertical-align: middle;\n",
       "    }\n",
       "\n",
       "    .dataframe tbody tr th {\n",
       "        vertical-align: top;\n",
       "    }\n",
       "\n",
       "    .dataframe thead th {\n",
       "        text-align: right;\n",
       "    }\n",
       "</style>\n",
       "<table border=\"1\" class=\"dataframe\">\n",
       "  <thead>\n",
       "    <tr style=\"text-align: right;\">\n",
       "      <th></th>\n",
       "      <th>children</th>\n",
       "      <th>0</th>\n",
       "      <th>1</th>\n",
       "      <th>2</th>\n",
       "      <th>3</th>\n",
       "      <th>4</th>\n",
       "      <th>5</th>\n",
       "    </tr>\n",
       "    <tr>\n",
       "      <th>total_income_category</th>\n",
       "      <th>debt</th>\n",
       "      <th></th>\n",
       "      <th></th>\n",
       "      <th></th>\n",
       "      <th></th>\n",
       "      <th></th>\n",
       "      <th></th>\n",
       "    </tr>\n",
       "  </thead>\n",
       "  <tbody>\n",
       "    <tr>\n",
       "      <th rowspan=\"2\" valign=\"top\">A</th>\n",
       "      <th>0</th>\n",
       "      <td>11.0</td>\n",
       "      <td>8.0</td>\n",
       "      <td>3.0</td>\n",
       "      <td>1.0</td>\n",
       "      <td>NaN</td>\n",
       "      <td>NaN</td>\n",
       "    </tr>\n",
       "    <tr>\n",
       "      <th>1</th>\n",
       "      <td>1.0</td>\n",
       "      <td>1.0</td>\n",
       "      <td>NaN</td>\n",
       "      <td>NaN</td>\n",
       "      <td>NaN</td>\n",
       "      <td>NaN</td>\n",
       "    </tr>\n",
       "    <tr>\n",
       "      <th rowspan=\"2\" valign=\"top\">B</th>\n",
       "      <th>0</th>\n",
       "      <td>3025.0</td>\n",
       "      <td>1087.0</td>\n",
       "      <td>479.0</td>\n",
       "      <td>84.0</td>\n",
       "      <td>6.0</td>\n",
       "      <td>4.0</td>\n",
       "    </tr>\n",
       "    <tr>\n",
       "      <th>1</th>\n",
       "      <td>220.0</td>\n",
       "      <td>88.0</td>\n",
       "      <td>43.0</td>\n",
       "      <td>4.0</td>\n",
       "      <td>1.0</td>\n",
       "      <td>NaN</td>\n",
       "    </tr>\n",
       "    <tr>\n",
       "      <th rowspan=\"2\" valign=\"top\">C</th>\n",
       "      <th>0</th>\n",
       "      <td>9746.0</td>\n",
       "      <td>3248.0</td>\n",
       "      <td>1413.0</td>\n",
       "      <td>214.0</td>\n",
       "      <td>31.0</td>\n",
       "      <td>4.0</td>\n",
       "    </tr>\n",
       "    <tr>\n",
       "      <th>1</th>\n",
       "      <td>828.0</td>\n",
       "      <td>352.0</td>\n",
       "      <td>155.0</td>\n",
       "      <td>22.0</td>\n",
       "      <td>3.0</td>\n",
       "      <td>NaN</td>\n",
       "    </tr>\n",
       "    <tr>\n",
       "      <th rowspan=\"2\" valign=\"top\">D</th>\n",
       "      <th>0</th>\n",
       "      <td>231.0</td>\n",
       "      <td>63.0</td>\n",
       "      <td>30.0</td>\n",
       "      <td>4.0</td>\n",
       "      <td>NaN</td>\n",
       "      <td>1.0</td>\n",
       "    </tr>\n",
       "    <tr>\n",
       "      <th>1</th>\n",
       "      <td>12.0</td>\n",
       "      <td>4.0</td>\n",
       "      <td>4.0</td>\n",
       "      <td>1.0</td>\n",
       "      <td>NaN</td>\n",
       "      <td>NaN</td>\n",
       "    </tr>\n",
       "    <tr>\n",
       "      <th rowspan=\"2\" valign=\"top\">E</th>\n",
       "      <th>0</th>\n",
       "      <td>15.0</td>\n",
       "      <td>4.0</td>\n",
       "      <td>1.0</td>\n",
       "      <td>NaN</td>\n",
       "      <td>NaN</td>\n",
       "      <td>NaN</td>\n",
       "    </tr>\n",
       "    <tr>\n",
       "      <th>1</th>\n",
       "      <td>2.0</td>\n",
       "      <td>NaN</td>\n",
       "      <td>NaN</td>\n",
       "      <td>NaN</td>\n",
       "      <td>NaN</td>\n",
       "      <td>NaN</td>\n",
       "    </tr>\n",
       "  </tbody>\n",
       "</table>\n",
       "</div>"
      ],
      "text/plain": [
       "children                         0       1       2      3     4    5\n",
       "total_income_category debt                                          \n",
       "A                     0       11.0     8.0     3.0    1.0   NaN  NaN\n",
       "                      1        1.0     1.0     NaN    NaN   NaN  NaN\n",
       "B                     0     3025.0  1087.0   479.0   84.0   6.0  4.0\n",
       "                      1      220.0    88.0    43.0    4.0   1.0  NaN\n",
       "C                     0     9746.0  3248.0  1413.0  214.0  31.0  4.0\n",
       "                      1      828.0   352.0   155.0   22.0   3.0  NaN\n",
       "D                     0      231.0    63.0    30.0    4.0   NaN  1.0\n",
       "                      1       12.0     4.0     4.0    1.0   NaN  NaN\n",
       "E                     0       15.0     4.0     1.0    NaN   NaN  NaN\n",
       "                      1        2.0     NaN     NaN    NaN   NaN  NaN"
      ]
     },
     "metadata": {},
     "output_type": "display_data"
    }
   ],
   "source": [
    "def income_category(rub):\n",
    "    if rub <= 30000:\n",
    "        return 'E'\n",
    "    if rub <= 50000:\n",
    "        return 'D'\n",
    "    if rub <= 200000:\n",
    "        return 'C'\n",
    "    if rub <= 1000000:\n",
    "        return 'B'\n",
    "    return 'A'\n",
    "df['total_income_category'] = df['total_income'].apply(income_category)\n",
    "df_pivot = df.pivot_table(index=['total_income_category', 'debt'], columns='children', values='total_income', aggfunc='count')\n",
    "display(df_pivot) \n"
   ]
  },
  {
   "cell_type": "markdown",
   "id": "0ed72966",
   "metadata": {},
   "source": [
    "### Шаг 2.7. Категоризация целей кредита."
   ]
  },
  {
   "cell_type": "code",
   "execution_count": 12,
   "id": "3df0f4fe",
   "metadata": {},
   "outputs": [
    {
     "data": {
      "text/html": [
       "<div>\n",
       "<style scoped>\n",
       "    .dataframe tbody tr th:only-of-type {\n",
       "        vertical-align: middle;\n",
       "    }\n",
       "\n",
       "    .dataframe tbody tr th {\n",
       "        vertical-align: top;\n",
       "    }\n",
       "\n",
       "    .dataframe thead th {\n",
       "        text-align: right;\n",
       "    }\n",
       "</style>\n",
       "<table border=\"1\" class=\"dataframe\">\n",
       "  <thead>\n",
       "    <tr style=\"text-align: right;\">\n",
       "      <th></th>\n",
       "      <th>total_income_category</th>\n",
       "      <th>A</th>\n",
       "      <th>B</th>\n",
       "      <th>C</th>\n",
       "      <th>D</th>\n",
       "      <th>E</th>\n",
       "    </tr>\n",
       "    <tr>\n",
       "      <th>purpose_category</th>\n",
       "      <th>debt</th>\n",
       "      <th></th>\n",
       "      <th></th>\n",
       "      <th></th>\n",
       "      <th></th>\n",
       "      <th></th>\n",
       "    </tr>\n",
       "  </thead>\n",
       "  <tbody>\n",
       "    <tr>\n",
       "      <th rowspan=\"2\" valign=\"top\">(операции с автомобилем,)</th>\n",
       "      <th>0</th>\n",
       "      <td>2.0</td>\n",
       "      <td>945.0</td>\n",
       "      <td>2892.0</td>\n",
       "      <td>62.0</td>\n",
       "      <td>2.0</td>\n",
       "    </tr>\n",
       "    <tr>\n",
       "      <th>1</th>\n",
       "      <td>NaN</td>\n",
       "      <td>86.0</td>\n",
       "      <td>307.0</td>\n",
       "      <td>10.0</td>\n",
       "      <td>NaN</td>\n",
       "    </tr>\n",
       "    <tr>\n",
       "      <th rowspan=\"2\" valign=\"top\">(операции с недвижимостью,)</th>\n",
       "      <th>0</th>\n",
       "      <td>16.0</td>\n",
       "      <td>2396.0</td>\n",
       "      <td>7446.0</td>\n",
       "      <td>162.0</td>\n",
       "      <td>9.0</td>\n",
       "    </tr>\n",
       "    <tr>\n",
       "      <th>1</th>\n",
       "      <td>1.0</td>\n",
       "      <td>172.0</td>\n",
       "      <td>601.0</td>\n",
       "      <td>6.0</td>\n",
       "      <td>2.0</td>\n",
       "    </tr>\n",
       "    <tr>\n",
       "      <th rowspan=\"2\" valign=\"top\">получение образования</th>\n",
       "      <th>0</th>\n",
       "      <td>3.0</td>\n",
       "      <td>827.0</td>\n",
       "      <td>2734.0</td>\n",
       "      <td>74.0</td>\n",
       "      <td>5.0</td>\n",
       "    </tr>\n",
       "    <tr>\n",
       "      <th>1</th>\n",
       "      <td>1.0</td>\n",
       "      <td>70.0</td>\n",
       "      <td>297.0</td>\n",
       "      <td>2.0</td>\n",
       "      <td>NaN</td>\n",
       "    </tr>\n",
       "    <tr>\n",
       "      <th rowspan=\"2\" valign=\"top\">(проведение свадьбы,)</th>\n",
       "      <th>0</th>\n",
       "      <td>2.0</td>\n",
       "      <td>517.0</td>\n",
       "      <td>1584.0</td>\n",
       "      <td>31.0</td>\n",
       "      <td>4.0</td>\n",
       "    </tr>\n",
       "    <tr>\n",
       "      <th>1</th>\n",
       "      <td>NaN</td>\n",
       "      <td>28.0</td>\n",
       "      <td>155.0</td>\n",
       "      <td>3.0</td>\n",
       "      <td>NaN</td>\n",
       "    </tr>\n",
       "  </tbody>\n",
       "</table>\n",
       "</div>"
      ],
      "text/plain": [
       "total_income_category                A       B       C      D    E\n",
       "purpose_category            debt                                  \n",
       "(операции с автомобилем,)   0      2.0   945.0  2892.0   62.0  2.0\n",
       "                            1      NaN    86.0   307.0   10.0  NaN\n",
       "(операции с недвижимостью,) 0     16.0  2396.0  7446.0  162.0  9.0\n",
       "                            1      1.0   172.0   601.0    6.0  2.0\n",
       "получение образования       0      3.0   827.0  2734.0   74.0  5.0\n",
       "                            1      1.0    70.0   297.0    2.0  NaN\n",
       "(проведение свадьбы,)       0      2.0   517.0  1584.0   31.0  4.0\n",
       "                            1      NaN    28.0   155.0    3.0  NaN"
      ]
     },
     "metadata": {},
     "output_type": "display_data"
    }
   ],
   "source": [
    "\n",
    "def purpose_category(cat):\n",
    "    if 'автомоб' in cat:\n",
    "        return 'операции с автомобилем',\n",
    "    if 'недвиж' in cat:\n",
    "        return 'операции с недвижимостью',\n",
    "    if 'жиль' in cat:\n",
    "        return 'операции с недвижимостью',\n",
    "    if 'свадьб' in cat:\n",
    "        return 'проведение свадьбы',\n",
    "    if 'образов' in cat:\n",
    "        return 'получение образования'\n",
    "df['purpose_category'] = df['purpose'].apply(purpose_category)\n",
    "df_pivot_purpose = df.pivot_table(index=['purpose_category', 'debt'], columns='total_income_category', values='total_income', aggfunc='count')\n",
    "display(df_pivot_purpose) \n"
   ]
  },
  {
   "cell_type": "markdown",
   "id": "14d0cf47",
   "metadata": {},
   "source": [
    "### Шаг 2.2. Построим дополнительно таблицу с зависимостью от брака"
   ]
  },
  {
   "cell_type": "code",
   "execution_count": 13,
   "id": "c8601d2b",
   "metadata": {},
   "outputs": [
    {
     "data": {
      "text/html": [
       "<div>\n",
       "<style scoped>\n",
       "    .dataframe tbody tr th:only-of-type {\n",
       "        vertical-align: middle;\n",
       "    }\n",
       "\n",
       "    .dataframe tbody tr th {\n",
       "        vertical-align: top;\n",
       "    }\n",
       "\n",
       "    .dataframe thead th {\n",
       "        text-align: right;\n",
       "    }\n",
       "</style>\n",
       "<table border=\"1\" class=\"dataframe\">\n",
       "  <thead>\n",
       "    <tr style=\"text-align: right;\">\n",
       "      <th></th>\n",
       "      <th>family_status_id</th>\n",
       "      <th>0</th>\n",
       "      <th>1</th>\n",
       "      <th>2</th>\n",
       "      <th>3</th>\n",
       "      <th>4</th>\n",
       "    </tr>\n",
       "    <tr>\n",
       "      <th>total_income_category</th>\n",
       "      <th>debt</th>\n",
       "      <th></th>\n",
       "      <th></th>\n",
       "      <th></th>\n",
       "      <th></th>\n",
       "      <th></th>\n",
       "    </tr>\n",
       "  </thead>\n",
       "  <tbody>\n",
       "    <tr>\n",
       "      <th rowspan=\"2\" valign=\"top\">A</th>\n",
       "      <th>0</th>\n",
       "      <td>13.0</td>\n",
       "      <td>5.0</td>\n",
       "      <td>NaN</td>\n",
       "      <td>3.0</td>\n",
       "      <td>2.0</td>\n",
       "    </tr>\n",
       "    <tr>\n",
       "      <th>1</th>\n",
       "      <td>1.0</td>\n",
       "      <td>1.0</td>\n",
       "      <td>NaN</td>\n",
       "      <td>NaN</td>\n",
       "      <td>NaN</td>\n",
       "    </tr>\n",
       "    <tr>\n",
       "      <th rowspan=\"2\" valign=\"top\">B</th>\n",
       "      <th>0</th>\n",
       "      <td>2757.0</td>\n",
       "      <td>912.0</td>\n",
       "      <td>147.0</td>\n",
       "      <td>264.0</td>\n",
       "      <td>605.0</td>\n",
       "    </tr>\n",
       "    <tr>\n",
       "      <th>1</th>\n",
       "      <td>203.0</td>\n",
       "      <td>64.0</td>\n",
       "      <td>9.0</td>\n",
       "      <td>18.0</td>\n",
       "      <td>62.0</td>\n",
       "    </tr>\n",
       "    <tr>\n",
       "      <th rowspan=\"2\" valign=\"top\">C</th>\n",
       "      <th>0</th>\n",
       "      <td>8415.0</td>\n",
       "      <td>2783.0</td>\n",
       "      <td>726.0</td>\n",
       "      <td>828.0</td>\n",
       "      <td>1904.0</td>\n",
       "    </tr>\n",
       "    <tr>\n",
       "      <th>1</th>\n",
       "      <td>713.0</td>\n",
       "      <td>318.0</td>\n",
       "      <td>54.0</td>\n",
       "      <td>65.0</td>\n",
       "      <td>210.0</td>\n",
       "    </tr>\n",
       "    <tr>\n",
       "      <th rowspan=\"2\" valign=\"top\">D</th>\n",
       "      <th>0</th>\n",
       "      <td>211.0</td>\n",
       "      <td>57.0</td>\n",
       "      <td>23.0</td>\n",
       "      <td>15.0</td>\n",
       "      <td>23.0</td>\n",
       "    </tr>\n",
       "    <tr>\n",
       "      <th>1</th>\n",
       "      <td>12.0</td>\n",
       "      <td>5.0</td>\n",
       "      <td>NaN</td>\n",
       "      <td>2.0</td>\n",
       "      <td>2.0</td>\n",
       "    </tr>\n",
       "    <tr>\n",
       "      <th rowspan=\"2\" valign=\"top\">E</th>\n",
       "      <th>0</th>\n",
       "      <td>12.0</td>\n",
       "      <td>6.0</td>\n",
       "      <td>NaN</td>\n",
       "      <td>NaN</td>\n",
       "      <td>2.0</td>\n",
       "    </tr>\n",
       "    <tr>\n",
       "      <th>1</th>\n",
       "      <td>2.0</td>\n",
       "      <td>NaN</td>\n",
       "      <td>NaN</td>\n",
       "      <td>NaN</td>\n",
       "      <td>NaN</td>\n",
       "    </tr>\n",
       "  </tbody>\n",
       "</table>\n",
       "</div>"
      ],
      "text/plain": [
       "family_status_id                 0       1      2      3       4\n",
       "total_income_category debt                                      \n",
       "A                     0       13.0     5.0    NaN    3.0     2.0\n",
       "                      1        1.0     1.0    NaN    NaN     NaN\n",
       "B                     0     2757.0   912.0  147.0  264.0   605.0\n",
       "                      1      203.0    64.0    9.0   18.0    62.0\n",
       "C                     0     8415.0  2783.0  726.0  828.0  1904.0\n",
       "                      1      713.0   318.0   54.0   65.0   210.0\n",
       "D                     0      211.0    57.0   23.0   15.0    23.0\n",
       "                      1       12.0     5.0    NaN    2.0     2.0\n",
       "E                     0       12.0     6.0    NaN    NaN     2.0\n",
       "                      1        2.0     NaN    NaN    NaN     NaN"
      ]
     },
     "metadata": {},
     "output_type": "display_data"
    }
   ],
   "source": [
    "df_pivot_married = df.pivot_table(index=['total_income_category', 'debt'], columns='family_status_id', values='total_income', aggfunc='count')\n",
    "display(df_pivot_married) "
   ]
  },
  {
   "cell_type": "markdown",
   "id": "0f5d25ad",
   "metadata": {},
   "source": [
    "### Ответы на вопросы."
   ]
  },
  {
   "cell_type": "markdown",
   "id": "49565ac3",
   "metadata": {},
   "source": [
    "##### Вопрос 1: # Есть ли зависимость между количеством детей и возвратом кредита в срок?"
   ]
  },
  {
   "cell_type": "markdown",
   "id": "2db126aa",
   "metadata": {},
   "source": [
    "Согласно таблице 'df_pivot' можно сделать вывод, количество детей и задолжность по кредиту имеет зависимость. На людей у которых нет ни одного ребенка, самое большое количество задолжностей по всем категориям. Число задолжностей начинает снижается пропорцианально возрастанию количества детей в семье."
   ]
  },
  {
   "cell_type": "markdown",
   "id": "32cb68ff",
   "metadata": {},
   "source": [
    "##### Вопрос 2: # Есть ли зависимость между семейным положением и возвратом кредита в срок?"
   ]
  },
  {
   "cell_type": "markdown",
   "id": "d57ba28d",
   "metadata": {},
   "source": [
    "Женатые люди имеют самое большое число задолжностей, так же видно что задолжности снижаются согласно id таблицы и располагаются в таком порядке\n",
    "1. Женатые\n",
    "2. Гражданский брак\n",
    "3. Вдовы\n",
    "4. Разведенные\n",
    "5. Не женатые"
   ]
  },
  {
   "cell_type": "markdown",
   "id": "a7e292f7",
   "metadata": {},
   "source": [
    "##### Вопрос 3: # Есть ли зависимость между уровнем дохода и возвратом кредита в срок?"
   ]
  },
  {
   "cell_type": "markdown",
   "id": "cb08c1ef",
   "metadata": {},
   "source": [
    "Самое большое количество задолжностей наблюдается в категории \"С\" тоесть доход от 50000 до 200000, но это вполне может быть обусловлено так же тем, что в категории \"С\" больше чем в остальный берут кредит. А вот уже от категории \"С\" в сторону \"Е\" количетсво резко уменьшается вплоть до полного неимения задолжности, а в сторону категории \"А\" тоже уменьшается но более плавно. Поэтому тут можно сказать, что чем меньше заработок у людей, тем меньше они берут кредиты, а вот уже от заработка категорий \"С\" и \"В\" можно исходить, что такие доходы чаще всего являются потенциальными клиентами на кредит."
   ]
  },
  {
   "cell_type": "markdown",
   "id": "08f19a8e",
   "metadata": {},
   "source": [
    "##### Вопрос 4: # Как разные цели кредита влияют на его возврат в срок?"
   ]
  },
  {
   "cell_type": "markdown",
   "id": "241d4eb0",
   "metadata": {},
   "source": [
    "Самое высокое количество задолжностей приходиться на кредиты на недвижимость, что скорее всего вызвано длительностью таких кредитов. Самое минимальное на проведение свадеб и уже потом только образование и следом покупка автомобиля."
   ]
  },
  {
   "cell_type": "markdown",
   "id": "845ee13f",
   "metadata": {},
   "source": [
    "##### Вывод 1:"
   ]
  },
  {
   "cell_type": "markdown",
   "id": "cf74b9d3",
   "metadata": {},
   "source": [
    "Анализ показал, что самыми частыми заемщиками являются люди с заработком категории \"C\", так же что у женатых людей наиболее часто встречаются задолжности в отличии от не женатых, наличие детей не является фактором, по которому можно судить о том, что у заемщика будут задолжности, а так же цели на кредит, исходят чаще всего из своей длительности, к примеру кредиты на недвижимость в силу своей большей стоимости, растягиваются и на большее время, в отличии например от кредитов на свадьбы. "
   ]
  },
  {
   "cell_type": "markdown",
   "id": "4967d0d3",
   "metadata": {},
   "source": [
    "## Общий вывод:"
   ]
  },
  {
   "cell_type": "markdown",
   "id": "1a18161d",
   "metadata": {},
   "source": [
    "Было проведен общий обзор данных, в котором выявили пропущенные значения в двух столбцах: days_employed и total_income. Затем заменили пропущенные значения на медианные значения по столбам. Затем проверили столбцы на аномалии, которые были обнаружены в children, days_employed и education, отрицательные значения, буквы разных регистров, а так же дупликаты и ошибочно введенные значения, были исправлены. После этого декомпозировали столбцы education и family_status, в отдельные словари, а в основной таблицы оставили только id этих столбцов, чтобы можно было упростить и продолжить анализ. И в завершении анализы категоризировали данные в зависимостях от доходов, наличия детей и брака, что позволило найти закономерности и привести следующий вывод.\n",
    "На основании всех полученных данных можно сделать общий вывод, что длительность кредита и его величина, вполне может повлиять на возникновении задолжностей независимо от заработка заемщика. А так же, что размер кредита напрямую зависит от заработков заемщиков."
   ]
  }
 ],
 "metadata": {
  "ExecuteTimeLog": [
   {
    "duration": 587,
    "start_time": "2022-05-25T16:01:44.036Z"
   },
   {
    "duration": 101,
    "start_time": "2022-05-25T16:01:51.373Z"
   },
   {
    "duration": 88,
    "start_time": "2022-05-25T16:02:11.157Z"
   },
   {
    "duration": 109,
    "start_time": "2022-05-25T17:03:21.006Z"
   },
   {
    "duration": 151,
    "start_time": "2022-05-25T17:03:32.856Z"
   },
   {
    "duration": 107,
    "start_time": "2022-05-25T17:03:48.164Z"
   },
   {
    "duration": 6,
    "start_time": "2022-05-25T17:10:31.845Z"
   },
   {
    "duration": 10,
    "start_time": "2022-05-25T17:10:39.796Z"
   },
   {
    "duration": 23,
    "start_time": "2022-05-25T17:15:10.371Z"
   },
   {
    "duration": 8,
    "start_time": "2022-05-25T17:22:12.598Z"
   },
   {
    "duration": 5,
    "start_time": "2022-05-25T17:22:42.133Z"
   },
   {
    "duration": 100,
    "start_time": "2022-05-25T17:22:50.704Z"
   },
   {
    "duration": 9,
    "start_time": "2022-05-25T17:22:56.851Z"
   },
   {
    "duration": 6,
    "start_time": "2022-05-25T17:23:04.460Z"
   },
   {
    "duration": 6,
    "start_time": "2022-05-25T17:23:25.452Z"
   },
   {
    "duration": 16,
    "start_time": "2022-05-25T17:23:33.922Z"
   },
   {
    "duration": 16,
    "start_time": "2022-05-25T17:32:53.817Z"
   },
   {
    "duration": 10,
    "start_time": "2022-05-25T17:33:46.802Z"
   },
   {
    "duration": 15,
    "start_time": "2022-05-25T17:34:02.706Z"
   },
   {
    "duration": 107,
    "start_time": "2022-05-26T07:09:12.568Z"
   },
   {
    "duration": 14,
    "start_time": "2022-05-26T07:09:13.649Z"
   },
   {
    "duration": 130,
    "start_time": "2022-05-26T07:09:27.777Z"
   },
   {
    "duration": 25,
    "start_time": "2022-05-26T07:09:28.727Z"
   },
   {
    "duration": 18,
    "start_time": "2022-05-26T07:09:58.033Z"
   },
   {
    "duration": 6,
    "start_time": "2022-05-26T07:10:10.380Z"
   },
   {
    "duration": 113,
    "start_time": "2022-05-26T07:10:15.136Z"
   },
   {
    "duration": 8,
    "start_time": "2022-05-26T07:10:16.439Z"
   },
   {
    "duration": 110,
    "start_time": "2022-05-26T07:12:04.073Z"
   },
   {
    "duration": 11,
    "start_time": "2022-05-26T07:12:05.115Z"
   },
   {
    "duration": 11,
    "start_time": "2022-05-26T07:12:31.317Z"
   },
   {
    "duration": 19,
    "start_time": "2022-05-26T07:12:38.124Z"
   },
   {
    "duration": 12,
    "start_time": "2022-05-26T07:13:20.621Z"
   },
   {
    "duration": 13,
    "start_time": "2022-05-26T07:13:24.148Z"
   },
   {
    "duration": 10,
    "start_time": "2022-05-26T07:13:39.388Z"
   },
   {
    "duration": 82,
    "start_time": "2022-05-26T07:13:51.649Z"
   },
   {
    "duration": 5,
    "start_time": "2022-05-26T07:14:03.363Z"
   },
   {
    "duration": 19,
    "start_time": "2022-05-26T07:14:13.344Z"
   },
   {
    "duration": 120,
    "start_time": "2022-05-26T07:14:16.856Z"
   },
   {
    "duration": 6,
    "start_time": "2022-05-26T07:14:18.138Z"
   },
   {
    "duration": 20,
    "start_time": "2022-05-26T07:15:28.040Z"
   },
   {
    "duration": 140,
    "start_time": "2022-05-26T07:15:31.560Z"
   },
   {
    "duration": 14,
    "start_time": "2022-05-26T07:15:32.627Z"
   },
   {
    "duration": 12,
    "start_time": "2022-05-26T07:15:51.150Z"
   },
   {
    "duration": 22,
    "start_time": "2022-05-26T07:16:00.533Z"
   },
   {
    "duration": 56,
    "start_time": "2022-05-26T07:39:06.032Z"
   },
   {
    "duration": 455,
    "start_time": "2022-05-26T07:39:53.460Z"
   },
   {
    "duration": 66,
    "start_time": "2022-05-26T07:40:23.686Z"
   },
   {
    "duration": 55,
    "start_time": "2022-05-26T07:40:40.721Z"
   },
   {
    "duration": 45,
    "start_time": "2022-05-26T07:42:06.186Z"
   },
   {
    "duration": 30,
    "start_time": "2022-05-26T07:42:11.121Z"
   },
   {
    "duration": 221,
    "start_time": "2022-05-26T07:42:16.386Z"
   },
   {
    "duration": 16,
    "start_time": "2022-05-26T07:42:17.657Z"
   },
   {
    "duration": 35,
    "start_time": "2022-05-26T07:42:22.944Z"
   },
   {
    "duration": 179,
    "start_time": "2022-05-26T07:42:27.080Z"
   },
   {
    "duration": 35,
    "start_time": "2022-05-26T07:42:28.512Z"
   },
   {
    "duration": 45,
    "start_time": "2022-05-26T07:43:40.202Z"
   },
   {
    "duration": 25,
    "start_time": "2022-05-26T07:44:20.957Z"
   },
   {
    "duration": 152,
    "start_time": "2022-05-26T07:46:24.549Z"
   },
   {
    "duration": 31,
    "start_time": "2022-05-26T07:46:24.706Z"
   },
   {
    "duration": 216,
    "start_time": "2022-05-26T07:46:42.621Z"
   },
   {
    "duration": 37,
    "start_time": "2022-05-26T07:46:42.842Z"
   },
   {
    "duration": 224,
    "start_time": "2022-05-26T07:47:23.731Z"
   },
   {
    "duration": 103,
    "start_time": "2022-05-26T07:48:46.108Z"
   },
   {
    "duration": 36,
    "start_time": "2022-05-26T07:50:10.724Z"
   },
   {
    "duration": 48,
    "start_time": "2022-05-26T07:50:15.223Z"
   },
   {
    "duration": 264,
    "start_time": "2022-05-26T07:50:19.328Z"
   },
   {
    "duration": 37,
    "start_time": "2022-05-26T07:50:21.065Z"
   },
   {
    "duration": 142,
    "start_time": "2022-05-26T07:50:31.347Z"
   },
   {
    "duration": 29,
    "start_time": "2022-05-26T07:54:49.477Z"
   },
   {
    "duration": 40,
    "start_time": "2022-05-26T07:56:06.489Z"
   },
   {
    "duration": 40,
    "start_time": "2022-05-26T07:56:24.445Z"
   },
   {
    "duration": 26,
    "start_time": "2022-05-26T07:57:49.443Z"
   },
   {
    "duration": 26,
    "start_time": "2022-05-26T07:58:17.750Z"
   },
   {
    "duration": 28,
    "start_time": "2022-05-26T07:58:26.550Z"
   },
   {
    "duration": 19,
    "start_time": "2022-05-26T08:00:24.363Z"
   },
   {
    "duration": 26,
    "start_time": "2022-05-26T08:00:27.570Z"
   },
   {
    "duration": 28,
    "start_time": "2022-05-26T08:00:32.444Z"
   },
   {
    "duration": 294,
    "start_time": "2022-05-26T08:11:51.021Z"
   },
   {
    "duration": 318,
    "start_time": "2022-05-26T08:12:26.658Z"
   },
   {
    "duration": 31,
    "start_time": "2022-05-26T08:13:00.783Z"
   },
   {
    "duration": 37,
    "start_time": "2022-05-26T08:16:02.045Z"
   },
   {
    "duration": 36,
    "start_time": "2022-05-26T08:16:16.041Z"
   },
   {
    "duration": 58,
    "start_time": "2022-05-26T08:16:39.957Z"
   },
   {
    "duration": 36,
    "start_time": "2022-05-26T08:16:54.652Z"
   },
   {
    "duration": 111,
    "start_time": "2022-05-26T08:17:01.839Z"
   },
   {
    "duration": 61,
    "start_time": "2022-05-26T08:17:03.320Z"
   },
   {
    "duration": 12,
    "start_time": "2022-05-26T08:29:18.756Z"
   },
   {
    "duration": 16,
    "start_time": "2022-05-26T08:29:23.065Z"
   },
   {
    "duration": 926,
    "start_time": "2022-05-26T08:34:16.741Z"
   },
   {
    "duration": 29,
    "start_time": "2022-05-26T08:34:33.336Z"
   },
   {
    "duration": 37,
    "start_time": "2022-05-26T08:35:00.981Z"
   },
   {
    "duration": 25,
    "start_time": "2022-05-26T08:39:48.463Z"
   },
   {
    "duration": 25,
    "start_time": "2022-05-26T08:41:27.218Z"
   },
   {
    "duration": 16,
    "start_time": "2022-05-26T08:45:47.360Z"
   },
   {
    "duration": 112,
    "start_time": "2022-05-26T08:45:52.973Z"
   },
   {
    "duration": 17,
    "start_time": "2022-05-26T08:45:54.449Z"
   },
   {
    "duration": 33,
    "start_time": "2022-05-26T08:49:06.681Z"
   },
   {
    "duration": 94,
    "start_time": "2022-05-26T08:49:23.967Z"
   },
   {
    "duration": 83,
    "start_time": "2022-05-26T08:49:58.461Z"
   },
   {
    "duration": 68,
    "start_time": "2022-05-26T08:50:13.524Z"
   },
   {
    "duration": 30,
    "start_time": "2022-05-26T08:51:36.062Z"
   },
   {
    "duration": 31,
    "start_time": "2022-05-26T08:51:53.174Z"
   },
   {
    "duration": 34,
    "start_time": "2022-05-26T08:52:35.797Z"
   },
   {
    "duration": 96,
    "start_time": "2022-05-26T08:52:56.516Z"
   },
   {
    "duration": 56,
    "start_time": "2022-05-26T08:52:57.789Z"
   },
   {
    "duration": 35,
    "start_time": "2022-05-26T08:53:15.326Z"
   },
   {
    "duration": 50,
    "start_time": "2022-05-26T08:54:03.041Z"
   },
   {
    "duration": 1155,
    "start_time": "2022-05-26T08:54:26.332Z"
   },
   {
    "duration": 30,
    "start_time": "2022-05-26T08:54:42.034Z"
   },
   {
    "duration": 24,
    "start_time": "2022-05-26T08:55:07.578Z"
   },
   {
    "duration": 23,
    "start_time": "2022-05-26T08:55:28.560Z"
   },
   {
    "duration": 20,
    "start_time": "2022-05-26T08:55:44.462Z"
   },
   {
    "duration": 31,
    "start_time": "2022-05-26T08:57:47.372Z"
   },
   {
    "duration": 607,
    "start_time": "2022-05-26T08:58:32.744Z"
   },
   {
    "duration": 27,
    "start_time": "2022-05-26T08:58:54.736Z"
   },
   {
    "duration": 33,
    "start_time": "2022-05-26T09:04:04.632Z"
   },
   {
    "duration": 120,
    "start_time": "2022-05-26T09:04:11.739Z"
   },
   {
    "duration": 29,
    "start_time": "2022-05-26T09:04:13.149Z"
   },
   {
    "duration": 49,
    "start_time": "2022-05-26T09:04:42.885Z"
   },
   {
    "duration": 17,
    "start_time": "2022-05-26T09:05:17.240Z"
   },
   {
    "duration": 14,
    "start_time": "2022-05-26T09:08:54.653Z"
   },
   {
    "duration": 116,
    "start_time": "2022-05-26T09:09:22.246Z"
   },
   {
    "duration": 24,
    "start_time": "2022-05-26T09:10:10.518Z"
   },
   {
    "duration": 31,
    "start_time": "2022-05-26T09:10:15.031Z"
   },
   {
    "duration": 1929,
    "start_time": "2022-05-26T09:12:01.415Z"
   },
   {
    "duration": 15,
    "start_time": "2022-05-26T09:13:17.725Z"
   },
   {
    "duration": 21,
    "start_time": "2022-05-26T09:21:14.685Z"
   },
   {
    "duration": 29,
    "start_time": "2022-05-26T09:21:29.922Z"
   },
   {
    "duration": 467,
    "start_time": "2022-05-26T09:24:05.145Z"
   },
   {
    "duration": 62,
    "start_time": "2022-05-26T09:25:48.589Z"
   },
   {
    "duration": 27,
    "start_time": "2022-05-26T09:25:58.551Z"
   },
   {
    "duration": 22,
    "start_time": "2022-05-26T09:26:17.469Z"
   },
   {
    "duration": 230,
    "start_time": "2022-05-26T09:26:36.012Z"
   },
   {
    "duration": 312,
    "start_time": "2022-05-26T09:26:58.386Z"
   },
   {
    "duration": 32,
    "start_time": "2022-05-26T09:32:00.320Z"
   },
   {
    "duration": 24,
    "start_time": "2022-05-26T09:32:53.334Z"
   },
   {
    "duration": 18,
    "start_time": "2022-05-26T09:35:11.529Z"
   },
   {
    "duration": 19,
    "start_time": "2022-05-26T09:35:20.347Z"
   },
   {
    "duration": 620,
    "start_time": "2022-05-26T09:35:48.716Z"
   },
   {
    "duration": 19,
    "start_time": "2022-05-26T09:38:41.221Z"
   },
   {
    "duration": 82,
    "start_time": "2022-05-26T09:38:47.838Z"
   },
   {
    "duration": 20,
    "start_time": "2022-05-26T09:38:49.019Z"
   },
   {
    "duration": 12,
    "start_time": "2022-05-26T09:42:05.629Z"
   },
   {
    "duration": 35,
    "start_time": "2022-05-26T09:42:32.022Z"
   },
   {
    "duration": 21,
    "start_time": "2022-05-26T09:47:05.509Z"
   },
   {
    "duration": 13,
    "start_time": "2022-05-26T09:47:15.220Z"
   },
   {
    "duration": 14,
    "start_time": "2022-05-26T09:47:27.572Z"
   },
   {
    "duration": 17,
    "start_time": "2022-05-26T09:49:39.162Z"
   },
   {
    "duration": 5,
    "start_time": "2022-05-26T09:50:21.961Z"
   },
   {
    "duration": 8,
    "start_time": "2022-05-26T09:50:34.260Z"
   },
   {
    "duration": 13,
    "start_time": "2022-05-26T09:51:10.092Z"
   },
   {
    "duration": 6,
    "start_time": "2022-05-26T09:52:56.683Z"
   },
   {
    "duration": 17,
    "start_time": "2022-05-26T09:53:02.695Z"
   },
   {
    "duration": 83,
    "start_time": "2022-05-26T09:53:08.509Z"
   },
   {
    "duration": 13,
    "start_time": "2022-05-26T09:53:09.511Z"
   },
   {
    "duration": 8,
    "start_time": "2022-05-26T09:53:11.119Z"
   },
   {
    "duration": 9,
    "start_time": "2022-05-26T09:53:16.487Z"
   },
   {
    "duration": 10,
    "start_time": "2022-05-26T09:53:19.184Z"
   },
   {
    "duration": 9,
    "start_time": "2022-05-26T09:54:19.800Z"
   },
   {
    "duration": 14,
    "start_time": "2022-05-26T09:55:38.095Z"
   },
   {
    "duration": 9,
    "start_time": "2022-05-26T09:55:47.349Z"
   },
   {
    "duration": 5,
    "start_time": "2022-05-26T09:59:16.653Z"
   },
   {
    "duration": 11,
    "start_time": "2022-05-26T10:05:12.922Z"
   },
   {
    "duration": 19,
    "start_time": "2022-05-26T10:10:58.200Z"
   },
   {
    "duration": 17,
    "start_time": "2022-05-26T10:11:02.447Z"
   },
   {
    "duration": 124,
    "start_time": "2022-05-26T10:11:06.417Z"
   },
   {
    "duration": 17,
    "start_time": "2022-05-26T10:11:06.736Z"
   },
   {
    "duration": 6,
    "start_time": "2022-05-26T10:11:07.980Z"
   },
   {
    "duration": 11,
    "start_time": "2022-05-26T10:11:09.422Z"
   },
   {
    "duration": 9,
    "start_time": "2022-05-26T10:14:24.143Z"
   },
   {
    "duration": 12,
    "start_time": "2022-05-26T10:14:46.320Z"
   },
   {
    "duration": 9,
    "start_time": "2022-05-26T10:15:06.315Z"
   },
   {
    "duration": 28,
    "start_time": "2022-05-26T10:17:51.017Z"
   },
   {
    "duration": 30,
    "start_time": "2022-05-26T10:18:12.515Z"
   },
   {
    "duration": 18,
    "start_time": "2022-05-26T10:18:22.348Z"
   },
   {
    "duration": 19,
    "start_time": "2022-05-26T10:18:27.871Z"
   },
   {
    "duration": 16,
    "start_time": "2022-05-26T10:18:34.111Z"
   },
   {
    "duration": 14,
    "start_time": "2022-05-26T10:19:08.611Z"
   },
   {
    "duration": 13,
    "start_time": "2022-05-26T10:19:24.451Z"
   },
   {
    "duration": 10,
    "start_time": "2022-05-26T10:19:36.476Z"
   },
   {
    "duration": 10,
    "start_time": "2022-05-26T10:19:41.972Z"
   },
   {
    "duration": 8,
    "start_time": "2022-05-26T10:20:05.759Z"
   },
   {
    "duration": 8,
    "start_time": "2022-05-26T10:20:18.941Z"
   },
   {
    "duration": 10,
    "start_time": "2022-05-26T11:43:53.312Z"
   },
   {
    "duration": 4,
    "start_time": "2022-05-26T11:44:56.475Z"
   },
   {
    "duration": 8,
    "start_time": "2022-05-26T11:45:02.097Z"
   },
   {
    "duration": 28,
    "start_time": "2022-05-26T11:46:09.685Z"
   },
   {
    "duration": 9,
    "start_time": "2022-05-26T11:47:27.452Z"
   },
   {
    "duration": 4,
    "start_time": "2022-05-26T11:49:32.616Z"
   },
   {
    "duration": 24,
    "start_time": "2022-05-26T11:49:39.733Z"
   },
   {
    "duration": 10,
    "start_time": "2022-05-26T11:51:05.524Z"
   },
   {
    "duration": 11,
    "start_time": "2022-05-26T11:51:10.547Z"
   },
   {
    "duration": 23,
    "start_time": "2022-05-26T11:52:49.622Z"
   },
   {
    "duration": 27,
    "start_time": "2022-05-26T11:53:02.224Z"
   },
   {
    "duration": 7,
    "start_time": "2022-05-26T11:54:46.334Z"
   },
   {
    "duration": 5,
    "start_time": "2022-05-26T11:54:51.933Z"
   },
   {
    "duration": 6,
    "start_time": "2022-05-26T11:55:44.387Z"
   },
   {
    "duration": 11,
    "start_time": "2022-05-26T11:55:45.861Z"
   },
   {
    "duration": 24,
    "start_time": "2022-05-26T11:56:32.126Z"
   },
   {
    "duration": 8,
    "start_time": "2022-05-26T11:56:54.427Z"
   },
   {
    "duration": 55,
    "start_time": "2022-05-26T11:56:58.907Z"
   },
   {
    "duration": 46,
    "start_time": "2022-05-26T11:58:48.913Z"
   },
   {
    "duration": 36,
    "start_time": "2022-05-26T11:58:51.539Z"
   },
   {
    "duration": 50,
    "start_time": "2022-05-26T11:58:57.780Z"
   },
   {
    "duration": 65,
    "start_time": "2022-05-26T11:59:30.316Z"
   },
   {
    "duration": 68,
    "start_time": "2022-05-26T12:01:50.618Z"
   },
   {
    "duration": 94,
    "start_time": "2022-05-26T12:01:55.737Z"
   },
   {
    "duration": 155,
    "start_time": "2022-05-26T12:02:01.764Z"
   },
   {
    "duration": 80,
    "start_time": "2022-05-26T12:02:01.937Z"
   },
   {
    "duration": 22,
    "start_time": "2022-05-26T12:02:02.023Z"
   },
   {
    "duration": 196,
    "start_time": "2022-05-26T12:02:02.047Z"
   },
   {
    "duration": 160,
    "start_time": "2022-05-26T12:02:02.246Z"
   },
   {
    "duration": 268,
    "start_time": "2022-05-26T12:02:02.408Z"
   },
   {
    "duration": 115,
    "start_time": "2022-05-26T12:02:02.678Z"
   },
   {
    "duration": 110,
    "start_time": "2022-05-27T13:39:29.772Z"
   },
   {
    "duration": 26,
    "start_time": "2022-05-27T13:39:46.180Z"
   },
   {
    "duration": 27,
    "start_time": "2022-05-27T13:40:44.685Z"
   },
   {
    "duration": 33,
    "start_time": "2022-05-27T13:41:10.169Z"
   },
   {
    "duration": 42,
    "start_time": "2022-05-27T13:41:30.312Z"
   },
   {
    "duration": 46,
    "start_time": "2022-05-27T13:41:33.390Z"
   },
   {
    "duration": 48,
    "start_time": "2022-05-27T13:41:38.458Z"
   },
   {
    "duration": 46,
    "start_time": "2022-05-27T13:41:44.859Z"
   },
   {
    "duration": 51,
    "start_time": "2022-05-27T13:42:26.234Z"
   },
   {
    "duration": 48,
    "start_time": "2022-05-27T13:43:22.487Z"
   },
   {
    "duration": 52,
    "start_time": "2022-05-27T13:44:12.037Z"
   },
   {
    "duration": 29,
    "start_time": "2022-05-27T13:56:13.598Z"
   },
   {
    "duration": 24,
    "start_time": "2022-05-27T13:56:27.636Z"
   },
   {
    "duration": 19,
    "start_time": "2022-05-27T13:58:09.169Z"
   },
   {
    "duration": 33,
    "start_time": "2022-05-27T13:58:24.593Z"
   },
   {
    "duration": 29,
    "start_time": "2022-05-27T13:58:47.140Z"
   },
   {
    "duration": 27,
    "start_time": "2022-05-27T13:59:31.934Z"
   },
   {
    "duration": 24,
    "start_time": "2022-05-27T14:02:21.303Z"
   },
   {
    "duration": 33,
    "start_time": "2022-05-27T14:02:43.756Z"
   },
   {
    "duration": 464,
    "start_time": "2022-05-27T14:07:49.232Z"
   },
   {
    "duration": 22,
    "start_time": "2022-05-27T14:08:38.589Z"
   },
   {
    "duration": 5,
    "start_time": "2022-05-27T14:11:07.531Z"
   },
   {
    "duration": 11,
    "start_time": "2022-05-27T14:13:34.120Z"
   },
   {
    "duration": 78,
    "start_time": "2022-05-27T14:13:45.706Z"
   },
   {
    "duration": 22,
    "start_time": "2022-05-27T14:13:45.785Z"
   },
   {
    "duration": 6,
    "start_time": "2022-05-27T14:13:45.809Z"
   },
   {
    "duration": 30,
    "start_time": "2022-05-27T14:13:45.818Z"
   },
   {
    "duration": 9,
    "start_time": "2022-05-27T14:13:45.850Z"
   },
   {
    "duration": 21,
    "start_time": "2022-05-27T14:13:45.861Z"
   },
   {
    "duration": 82,
    "start_time": "2022-05-27T14:13:45.884Z"
   },
   {
    "duration": 31,
    "start_time": "2022-05-27T14:13:45.968Z"
   },
   {
    "duration": 48,
    "start_time": "2022-05-27T14:13:46.001Z"
   },
   {
    "duration": 36,
    "start_time": "2022-05-27T14:13:46.052Z"
   },
   {
    "duration": 6,
    "start_time": "2022-05-27T14:14:12.869Z"
   },
   {
    "duration": 86,
    "start_time": "2022-05-27T14:25:03.401Z"
   },
   {
    "duration": 33,
    "start_time": "2022-05-27T14:25:35.617Z"
   },
   {
    "duration": 22,
    "start_time": "2022-05-27T14:26:56.649Z"
   },
   {
    "duration": 68,
    "start_time": "2022-05-27T14:27:56.858Z"
   },
   {
    "duration": 20,
    "start_time": "2022-05-27T14:28:08.161Z"
   },
   {
    "duration": 13,
    "start_time": "2022-05-27T14:29:09.589Z"
   },
   {
    "duration": 14,
    "start_time": "2022-05-27T14:32:39.959Z"
   },
   {
    "duration": 25,
    "start_time": "2022-05-27T14:32:58.560Z"
   },
   {
    "duration": 16,
    "start_time": "2022-05-27T14:33:31.056Z"
   },
   {
    "duration": 44,
    "start_time": "2022-05-27T14:45:38.807Z"
   },
   {
    "duration": 37,
    "start_time": "2022-05-27T14:45:46.430Z"
   },
   {
    "duration": 39,
    "start_time": "2022-05-27T14:46:38.630Z"
   },
   {
    "duration": 79,
    "start_time": "2022-05-27T14:49:51.911Z"
   },
   {
    "duration": 21,
    "start_time": "2022-05-27T14:49:51.991Z"
   },
   {
    "duration": 5,
    "start_time": "2022-05-27T14:49:52.013Z"
   },
   {
    "duration": 25,
    "start_time": "2022-05-27T14:49:52.020Z"
   },
   {
    "duration": 7,
    "start_time": "2022-05-27T14:49:52.047Z"
   },
   {
    "duration": 17,
    "start_time": "2022-05-27T14:49:52.055Z"
   },
   {
    "duration": 41,
    "start_time": "2022-05-27T14:49:52.074Z"
   },
   {
    "duration": 33,
    "start_time": "2022-05-27T14:49:52.141Z"
   },
   {
    "duration": 24,
    "start_time": "2022-05-27T14:49:52.175Z"
   },
   {
    "duration": 70,
    "start_time": "2022-05-27T14:49:52.201Z"
   },
   {
    "duration": 38,
    "start_time": "2022-05-27T14:52:42.516Z"
   },
   {
    "duration": 36,
    "start_time": "2022-05-27T14:53:06.571Z"
   },
   {
    "duration": 42,
    "start_time": "2022-05-27T14:59:50.485Z"
   },
   {
    "duration": 117,
    "start_time": "2022-05-27T17:05:28.165Z"
   },
   {
    "duration": 35,
    "start_time": "2022-05-27T17:05:28.284Z"
   },
   {
    "duration": 17,
    "start_time": "2022-05-27T17:05:28.325Z"
   },
   {
    "duration": 9,
    "start_time": "2022-05-27T17:05:28.344Z"
   },
   {
    "duration": 7,
    "start_time": "2022-05-27T17:05:28.355Z"
   },
   {
    "duration": 43,
    "start_time": "2022-05-27T17:05:28.364Z"
   },
   {
    "duration": 82,
    "start_time": "2022-05-27T17:05:28.415Z"
   },
   {
    "duration": 59,
    "start_time": "2022-05-27T17:05:28.500Z"
   },
   {
    "duration": 53,
    "start_time": "2022-05-27T17:05:28.560Z"
   },
   {
    "duration": 68,
    "start_time": "2022-05-27T17:05:28.615Z"
   },
   {
    "duration": 37,
    "start_time": "2022-05-27T17:06:25.329Z"
   },
   {
    "duration": 54,
    "start_time": "2022-05-27T17:11:08.952Z"
   },
   {
    "duration": 69,
    "start_time": "2022-05-27T17:11:15.282Z"
   },
   {
    "duration": 48,
    "start_time": "2022-05-27T17:18:23.898Z"
   },
   {
    "duration": 22,
    "start_time": "2022-05-27T17:36:34.920Z"
   },
   {
    "duration": 101,
    "start_time": "2022-05-27T17:48:21.847Z"
   },
   {
    "duration": 25,
    "start_time": "2022-05-27T17:48:21.951Z"
   },
   {
    "duration": 52,
    "start_time": "2022-05-27T17:48:21.977Z"
   },
   {
    "duration": 42,
    "start_time": "2022-05-27T17:48:22.031Z"
   },
   {
    "duration": 60,
    "start_time": "2022-05-27T17:48:22.076Z"
   },
   {
    "duration": 36,
    "start_time": "2022-05-27T17:48:22.137Z"
   },
   {
    "duration": 85,
    "start_time": "2022-05-27T17:48:22.180Z"
   },
   {
    "duration": 44,
    "start_time": "2022-05-27T17:48:22.267Z"
   },
   {
    "duration": 56,
    "start_time": "2022-05-27T17:48:22.314Z"
   },
   {
    "duration": 103,
    "start_time": "2022-05-27T17:48:22.372Z"
   },
   {
    "duration": 56,
    "start_time": "2022-05-27T17:48:22.485Z"
   },
   {
    "duration": 82,
    "start_time": "2022-05-27T17:49:23.921Z"
   },
   {
    "duration": 32,
    "start_time": "2022-05-27T17:49:24.005Z"
   },
   {
    "duration": 4,
    "start_time": "2022-05-27T17:49:24.038Z"
   },
   {
    "duration": 7,
    "start_time": "2022-05-27T17:49:24.044Z"
   },
   {
    "duration": 24,
    "start_time": "2022-05-27T17:49:24.053Z"
   },
   {
    "duration": 24,
    "start_time": "2022-05-27T17:49:24.078Z"
   },
   {
    "duration": 65,
    "start_time": "2022-05-27T17:49:24.104Z"
   },
   {
    "duration": 59,
    "start_time": "2022-05-27T17:49:24.170Z"
   },
   {
    "duration": 33,
    "start_time": "2022-05-27T17:49:24.233Z"
   },
   {
    "duration": 61,
    "start_time": "2022-05-27T17:49:24.268Z"
   },
   {
    "duration": 20,
    "start_time": "2022-05-27T17:49:24.331Z"
   },
   {
    "duration": 8,
    "start_time": "2022-05-27T17:50:43.425Z"
   },
   {
    "duration": 642,
    "start_time": "2022-05-27T18:04:34.800Z"
   },
   {
    "duration": 34,
    "start_time": "2022-05-27T18:04:35.444Z"
   },
   {
    "duration": 7,
    "start_time": "2022-05-27T18:04:35.480Z"
   },
   {
    "duration": 14,
    "start_time": "2022-05-27T18:04:35.495Z"
   },
   {
    "duration": 20,
    "start_time": "2022-05-27T18:04:35.514Z"
   },
   {
    "duration": 42,
    "start_time": "2022-05-27T18:04:35.536Z"
   },
   {
    "duration": 51,
    "start_time": "2022-05-27T18:04:35.580Z"
   },
   {
    "duration": 32,
    "start_time": "2022-05-27T18:04:35.632Z"
   },
   {
    "duration": 52,
    "start_time": "2022-05-27T18:04:35.666Z"
   },
   {
    "duration": 43,
    "start_time": "2022-05-27T18:04:35.719Z"
   },
   {
    "duration": 45,
    "start_time": "2022-05-27T18:04:35.764Z"
   },
   {
    "duration": 549,
    "start_time": "2022-05-27T18:10:35.476Z"
   },
   {
    "duration": 32,
    "start_time": "2022-05-27T18:10:36.027Z"
   },
   {
    "duration": 34,
    "start_time": "2022-05-27T18:10:36.061Z"
   },
   {
    "duration": 11,
    "start_time": "2022-05-27T18:10:36.097Z"
   },
   {
    "duration": 7,
    "start_time": "2022-05-27T18:10:36.110Z"
   },
   {
    "duration": 17,
    "start_time": "2022-05-27T18:10:36.118Z"
   },
   {
    "duration": 65,
    "start_time": "2022-05-27T18:10:36.137Z"
   },
   {
    "duration": 37,
    "start_time": "2022-05-27T18:10:36.204Z"
   },
   {
    "duration": 53,
    "start_time": "2022-05-27T18:10:36.243Z"
   },
   {
    "duration": 39,
    "start_time": "2022-05-27T18:10:36.298Z"
   },
   {
    "duration": 23,
    "start_time": "2022-05-27T18:10:36.339Z"
   },
   {
    "duration": 83,
    "start_time": "2022-05-27T18:26:38.206Z"
   },
   {
    "duration": 18,
    "start_time": "2022-05-27T18:26:38.290Z"
   },
   {
    "duration": 4,
    "start_time": "2022-05-27T18:26:38.310Z"
   },
   {
    "duration": 7,
    "start_time": "2022-05-27T18:26:38.315Z"
   },
   {
    "duration": 7,
    "start_time": "2022-05-27T18:26:38.323Z"
   },
   {
    "duration": 12,
    "start_time": "2022-05-27T18:26:38.332Z"
   },
   {
    "duration": 51,
    "start_time": "2022-05-27T18:26:38.346Z"
   },
   {
    "duration": 0,
    "start_time": "2022-05-27T18:26:38.398Z"
   },
   {
    "duration": 0,
    "start_time": "2022-05-27T18:26:38.399Z"
   },
   {
    "duration": 0,
    "start_time": "2022-05-27T18:26:38.400Z"
   },
   {
    "duration": 0,
    "start_time": "2022-05-27T18:26:38.401Z"
   },
   {
    "duration": 83,
    "start_time": "2022-05-27T18:26:50.374Z"
   },
   {
    "duration": 30,
    "start_time": "2022-05-27T18:26:50.959Z"
   },
   {
    "duration": 6,
    "start_time": "2022-05-27T18:26:51.866Z"
   },
   {
    "duration": 7,
    "start_time": "2022-05-27T18:26:52.189Z"
   },
   {
    "duration": 7,
    "start_time": "2022-05-27T18:26:52.491Z"
   },
   {
    "duration": 15,
    "start_time": "2022-05-27T18:26:53.147Z"
   },
   {
    "duration": 21,
    "start_time": "2022-05-27T18:26:54.005Z"
   },
   {
    "duration": 15,
    "start_time": "2022-05-27T18:27:16.264Z"
   },
   {
    "duration": 12,
    "start_time": "2022-05-27T18:27:18.047Z"
   },
   {
    "duration": 12,
    "start_time": "2022-05-27T18:27:19.113Z"
   },
   {
    "duration": 7,
    "start_time": "2022-05-27T18:27:20.458Z"
   },
   {
    "duration": 78,
    "start_time": "2022-05-27T18:27:27.458Z"
   },
   {
    "duration": 19,
    "start_time": "2022-05-27T18:27:27.538Z"
   },
   {
    "duration": 5,
    "start_time": "2022-05-27T18:27:27.558Z"
   },
   {
    "duration": 26,
    "start_time": "2022-05-27T18:27:27.564Z"
   },
   {
    "duration": 19,
    "start_time": "2022-05-27T18:27:27.592Z"
   },
   {
    "duration": 18,
    "start_time": "2022-05-27T18:27:27.613Z"
   },
   {
    "duration": 21,
    "start_time": "2022-05-27T18:27:27.632Z"
   },
   {
    "duration": 0,
    "start_time": "2022-05-27T18:27:27.655Z"
   },
   {
    "duration": 0,
    "start_time": "2022-05-27T18:27:27.656Z"
   },
   {
    "duration": 0,
    "start_time": "2022-05-27T18:27:27.657Z"
   },
   {
    "duration": 0,
    "start_time": "2022-05-27T18:27:27.658Z"
   },
   {
    "duration": 12,
    "start_time": "2022-05-27T18:27:32.924Z"
   },
   {
    "duration": 8,
    "start_time": "2022-05-27T18:29:18.255Z"
   },
   {
    "duration": 88,
    "start_time": "2022-05-27T18:30:28.628Z"
   },
   {
    "duration": 19,
    "start_time": "2022-05-27T18:30:30.952Z"
   },
   {
    "duration": 6,
    "start_time": "2022-05-27T18:30:33.302Z"
   },
   {
    "duration": 10,
    "start_time": "2022-05-27T18:30:34.270Z"
   },
   {
    "duration": 9,
    "start_time": "2022-05-27T18:30:35.396Z"
   },
   {
    "duration": 14,
    "start_time": "2022-05-27T18:30:37.111Z"
   },
   {
    "duration": 53,
    "start_time": "2022-05-27T18:30:39.029Z"
   },
   {
    "duration": 33,
    "start_time": "2022-05-27T18:32:43.922Z"
   },
   {
    "duration": 36,
    "start_time": "2022-05-27T18:32:51.217Z"
   },
   {
    "duration": 46,
    "start_time": "2022-05-27T18:33:30.024Z"
   },
   {
    "duration": 52,
    "start_time": "2022-05-27T18:33:38.398Z"
   },
   {
    "duration": 68,
    "start_time": "2022-05-27T18:34:17.373Z"
   },
   {
    "duration": 66,
    "start_time": "2022-05-27T18:34:22.653Z"
   },
   {
    "duration": 61,
    "start_time": "2022-05-27T18:35:32.797Z"
   },
   {
    "duration": 29,
    "start_time": "2022-05-27T18:35:55.416Z"
   },
   {
    "duration": 33,
    "start_time": "2022-05-27T18:35:57.708Z"
   },
   {
    "duration": 29,
    "start_time": "2022-05-27T18:36:00.130Z"
   },
   {
    "duration": 31,
    "start_time": "2022-05-27T18:36:29.498Z"
   },
   {
    "duration": 28,
    "start_time": "2022-05-27T18:36:32.614Z"
   },
   {
    "duration": 43,
    "start_time": "2022-05-27T18:36:34.215Z"
   },
   {
    "duration": 24,
    "start_time": "2022-05-27T18:36:35.557Z"
   },
   {
    "duration": 6,
    "start_time": "2022-05-27T18:51:24.802Z"
   },
   {
    "duration": 27,
    "start_time": "2022-05-27T18:56:21.867Z"
   },
   {
    "duration": 14,
    "start_time": "2022-05-27T18:57:02.577Z"
   },
   {
    "duration": 80,
    "start_time": "2022-05-27T18:57:07.472Z"
   },
   {
    "duration": 11,
    "start_time": "2022-05-27T18:57:10.386Z"
   },
   {
    "duration": 16,
    "start_time": "2022-05-27T18:57:23.896Z"
   },
   {
    "duration": 15,
    "start_time": "2022-05-27T18:57:43.390Z"
   },
   {
    "duration": 9,
    "start_time": "2022-05-27T18:57:49.690Z"
   },
   {
    "duration": 15,
    "start_time": "2022-05-27T18:57:50.822Z"
   },
   {
    "duration": 9,
    "start_time": "2022-05-27T18:58:54.731Z"
   },
   {
    "duration": 14,
    "start_time": "2022-05-27T18:58:56.796Z"
   },
   {
    "duration": 16,
    "start_time": "2022-05-27T19:36:29.405Z"
   },
   {
    "duration": 9,
    "start_time": "2022-05-27T19:36:34.343Z"
   },
   {
    "duration": 251,
    "start_time": "2022-05-27T19:45:37.415Z"
   },
   {
    "duration": 12,
    "start_time": "2022-05-27T19:45:37.668Z"
   },
   {
    "duration": 33,
    "start_time": "2022-05-27T19:45:37.681Z"
   },
   {
    "duration": 22,
    "start_time": "2022-05-27T19:45:37.716Z"
   },
   {
    "duration": 32,
    "start_time": "2022-05-27T19:45:37.740Z"
   },
   {
    "duration": 26,
    "start_time": "2022-05-27T19:45:37.773Z"
   },
   {
    "duration": 37,
    "start_time": "2022-05-27T19:45:37.802Z"
   },
   {
    "duration": 37,
    "start_time": "2022-05-27T19:45:37.841Z"
   },
   {
    "duration": 30,
    "start_time": "2022-05-27T19:45:37.880Z"
   },
   {
    "duration": 36,
    "start_time": "2022-05-27T19:45:37.913Z"
   },
   {
    "duration": 65,
    "start_time": "2022-05-27T19:45:37.951Z"
   },
   {
    "duration": 67,
    "start_time": "2022-05-27T19:45:38.019Z"
   },
   {
    "duration": 31,
    "start_time": "2022-05-27T19:45:38.088Z"
   },
   {
    "duration": 493,
    "start_time": "2022-05-28T10:33:30.395Z"
   },
   {
    "duration": 10,
    "start_time": "2022-05-28T10:33:30.891Z"
   },
   {
    "duration": 26,
    "start_time": "2022-05-28T10:33:30.903Z"
   },
   {
    "duration": 5,
    "start_time": "2022-05-28T10:33:30.931Z"
   },
   {
    "duration": 18,
    "start_time": "2022-05-28T10:33:30.937Z"
   },
   {
    "duration": 20,
    "start_time": "2022-05-28T10:33:30.958Z"
   },
   {
    "duration": 16,
    "start_time": "2022-05-28T10:33:30.980Z"
   },
   {
    "duration": 27,
    "start_time": "2022-05-28T10:33:30.998Z"
   },
   {
    "duration": 37,
    "start_time": "2022-05-28T10:33:31.027Z"
   },
   {
    "duration": 30,
    "start_time": "2022-05-28T10:33:31.067Z"
   },
   {
    "duration": 27,
    "start_time": "2022-05-28T10:33:31.099Z"
   },
   {
    "duration": 62,
    "start_time": "2022-05-28T10:33:31.128Z"
   },
   {
    "duration": 20,
    "start_time": "2022-05-28T10:33:31.191Z"
   },
   {
    "duration": 430,
    "start_time": "2022-05-28T10:37:22.900Z"
   },
   {
    "duration": 11,
    "start_time": "2022-05-28T10:37:23.332Z"
   },
   {
    "duration": 24,
    "start_time": "2022-05-28T10:37:23.344Z"
   },
   {
    "duration": 4,
    "start_time": "2022-05-28T10:37:23.369Z"
   },
   {
    "duration": 8,
    "start_time": "2022-05-28T10:37:23.375Z"
   },
   {
    "duration": 7,
    "start_time": "2022-05-28T10:37:23.385Z"
   },
   {
    "duration": 16,
    "start_time": "2022-05-28T10:37:23.393Z"
   },
   {
    "duration": 22,
    "start_time": "2022-05-28T10:37:23.410Z"
   },
   {
    "duration": 27,
    "start_time": "2022-05-28T10:37:23.459Z"
   },
   {
    "duration": 29,
    "start_time": "2022-05-28T10:37:23.489Z"
   },
   {
    "duration": 46,
    "start_time": "2022-05-28T10:37:23.519Z"
   },
   {
    "duration": 33,
    "start_time": "2022-05-28T10:37:23.566Z"
   },
   {
    "duration": 18,
    "start_time": "2022-05-28T10:37:23.601Z"
   }
  ],
  "kernelspec": {
   "display_name": "Python 3 (ipykernel)",
   "language": "python",
   "name": "python3"
  },
  "language_info": {
   "codemirror_mode": {
    "name": "ipython",
    "version": 3
   },
   "file_extension": ".py",
   "mimetype": "text/x-python",
   "name": "python",
   "nbconvert_exporter": "python",
   "pygments_lexer": "ipython3",
   "version": "3.9.13"
  },
  "toc": {
   "base_numbering": 1,
   "nav_menu": {},
   "number_sections": true,
   "sideBar": true,
   "skip_h1_title": true,
   "title_cell": "Table of Contents",
   "title_sidebar": "Contents",
   "toc_cell": false,
   "toc_position": {},
   "toc_section_display": true,
   "toc_window_display": false
  }
 },
 "nbformat": 4,
 "nbformat_minor": 5
}
