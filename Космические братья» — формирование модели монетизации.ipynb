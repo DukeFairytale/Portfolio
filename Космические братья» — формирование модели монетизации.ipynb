{
 "cells": [
  {
   "cell_type": "code",
   "execution_count": 1,
   "metadata": {},
   "outputs": [],
   "source": [
    "import pandas as pd\n",
    "import seaborn as sns\n",
    "import numpy as np\n",
    "import datetime as dt\n",
    "from matplotlib import pyplot as plt\n",
    "from scipy import stats as st\n",
    "from datetime import datetime, timedelta\n",
    "import datetime as dt\n",
    "from plotly import graph_objects as go\n",
    "import math as mth"
   ]
  },
  {
   "cell_type": "markdown",
   "metadata": {},
   "source": [
    "# Космические братья» — формирование модели монетизации"
   ]
  },
  {
   "cell_type": "markdown",
   "metadata": {},
   "source": [
    "# Описание проекта"
   ]
  },
  {
   "cell_type": "markdown",
   "metadata": {},
   "source": [
    "Основной датасет содержит данные о событиях, совершенных в мобильной игре «Космические братья». В ней пользователи строят свою космическую программу и пытаются преуспеть в нелёгком деле колонизации галактики.\n",
    "\n",
    "Основная монетизация игры — только планируется. Но предполагается, что в приложении будет происходить показ рекламы на экране с выбором типа объекта для постройки.\n",
    "\n",
    "Цель: \n",
    "1. Проведем исследовательский анализ данных. \n",
    "2. Проанализируем влияние событий на совершение целевого события.\n",
    "3. Проверим статистические гипотезы:\n",
    "- различие времени прохождения уровня между пользователями, которые заканчивают уровень через реализацию проекта, и пользователями, которые заканчивают уровень победой над другим игроком;\n",
    "- динамика строительства зданий у клиентов с вероятностью ухода и в среднем по остальной выборке.."
   ]
  },
  {
   "cell_type": "markdown",
   "metadata": {},
   "source": [
    "## Обзор и предобработка данных"
   ]
  },
  {
   "cell_type": "code",
   "execution_count": 2,
   "metadata": {},
   "outputs": [
    {
     "name": "stdout",
     "output_type": "stream",
     "text": [
      "<class 'pandas.core.frame.DataFrame'>\n",
      "RangeIndex: 28 entries, 0 to 27\n",
      "Data columns (total 3 columns):\n",
      " #   Column  Non-Null Count  Dtype  \n",
      "---  ------  --------------  -----  \n",
      " 0   source  28 non-null     object \n",
      " 1   day     28 non-null     object \n",
      " 2   cost    28 non-null     float64\n",
      "dtypes: float64(1), object(2)\n",
      "memory usage: 800.0+ bytes\n"
     ]
    },
    {
     "data": {
      "text/html": [
       "<div>\n",
       "<style scoped>\n",
       "    .dataframe tbody tr th:only-of-type {\n",
       "        vertical-align: middle;\n",
       "    }\n",
       "\n",
       "    .dataframe tbody tr th {\n",
       "        vertical-align: top;\n",
       "    }\n",
       "\n",
       "    .dataframe thead th {\n",
       "        text-align: right;\n",
       "    }\n",
       "</style>\n",
       "<table border=\"1\" class=\"dataframe\">\n",
       "  <thead>\n",
       "    <tr style=\"text-align: right;\">\n",
       "      <th></th>\n",
       "      <th>source</th>\n",
       "      <th>day</th>\n",
       "      <th>cost</th>\n",
       "    </tr>\n",
       "  </thead>\n",
       "  <tbody>\n",
       "    <tr>\n",
       "      <th>0</th>\n",
       "      <td>facebook_ads</td>\n",
       "      <td>2020-05-03</td>\n",
       "      <td>935.882786</td>\n",
       "    </tr>\n",
       "    <tr>\n",
       "      <th>1</th>\n",
       "      <td>facebook_ads</td>\n",
       "      <td>2020-05-04</td>\n",
       "      <td>548.354480</td>\n",
       "    </tr>\n",
       "    <tr>\n",
       "      <th>2</th>\n",
       "      <td>facebook_ads</td>\n",
       "      <td>2020-05-05</td>\n",
       "      <td>260.185754</td>\n",
       "    </tr>\n",
       "    <tr>\n",
       "      <th>3</th>\n",
       "      <td>facebook_ads</td>\n",
       "      <td>2020-05-06</td>\n",
       "      <td>177.982200</td>\n",
       "    </tr>\n",
       "    <tr>\n",
       "      <th>4</th>\n",
       "      <td>facebook_ads</td>\n",
       "      <td>2020-05-07</td>\n",
       "      <td>111.766796</td>\n",
       "    </tr>\n",
       "  </tbody>\n",
       "</table>\n",
       "</div>"
      ],
      "text/plain": [
       "         source         day        cost\n",
       "0  facebook_ads  2020-05-03  935.882786\n",
       "1  facebook_ads  2020-05-04  548.354480\n",
       "2  facebook_ads  2020-05-05  260.185754\n",
       "3  facebook_ads  2020-05-06  177.982200\n",
       "4  facebook_ads  2020-05-07  111.766796"
      ]
     },
     "execution_count": 2,
     "metadata": {},
     "output_type": "execute_result"
    }
   ],
   "source": [
    "costs = pd.read_csv('/datasets/ad_costs.csv')\n",
    "costs.info()\n",
    "costs.head()"
   ]
  },
  {
   "cell_type": "code",
   "execution_count": 3,
   "metadata": {},
   "outputs": [
    {
     "name": "stdout",
     "output_type": "stream",
     "text": [
      "<class 'pandas.core.frame.DataFrame'>\n",
      "RangeIndex: 135640 entries, 0 to 135639\n",
      "Data columns (total 5 columns):\n",
      " #   Column          Non-Null Count   Dtype \n",
      "---  ------          --------------   ----- \n",
      " 0   event_datetime  135640 non-null  object\n",
      " 1   event           135640 non-null  object\n",
      " 2   building_type   127957 non-null  object\n",
      " 3   user_id         135640 non-null  object\n",
      " 4   project_type    1866 non-null    object\n",
      "dtypes: object(5)\n",
      "memory usage: 5.2+ MB\n"
     ]
    },
    {
     "data": {
      "text/html": [
       "<div>\n",
       "<style scoped>\n",
       "    .dataframe tbody tr th:only-of-type {\n",
       "        vertical-align: middle;\n",
       "    }\n",
       "\n",
       "    .dataframe tbody tr th {\n",
       "        vertical-align: top;\n",
       "    }\n",
       "\n",
       "    .dataframe thead th {\n",
       "        text-align: right;\n",
       "    }\n",
       "</style>\n",
       "<table border=\"1\" class=\"dataframe\">\n",
       "  <thead>\n",
       "    <tr style=\"text-align: right;\">\n",
       "      <th></th>\n",
       "      <th>event_datetime</th>\n",
       "      <th>event</th>\n",
       "      <th>building_type</th>\n",
       "      <th>user_id</th>\n",
       "      <th>project_type</th>\n",
       "    </tr>\n",
       "  </thead>\n",
       "  <tbody>\n",
       "    <tr>\n",
       "      <th>0</th>\n",
       "      <td>2020-05-04 00:00:01</td>\n",
       "      <td>building</td>\n",
       "      <td>assembly_shop</td>\n",
       "      <td>55e92310-cb8e-4754-b622-597e124b03de</td>\n",
       "      <td>NaN</td>\n",
       "    </tr>\n",
       "    <tr>\n",
       "      <th>1</th>\n",
       "      <td>2020-05-04 00:00:03</td>\n",
       "      <td>building</td>\n",
       "      <td>assembly_shop</td>\n",
       "      <td>c07b1c10-f477-44dc-81dc-ec82254b1347</td>\n",
       "      <td>NaN</td>\n",
       "    </tr>\n",
       "    <tr>\n",
       "      <th>2</th>\n",
       "      <td>2020-05-04 00:00:16</td>\n",
       "      <td>building</td>\n",
       "      <td>assembly_shop</td>\n",
       "      <td>6edd42cc-e753-4ff6-a947-2107cd560710</td>\n",
       "      <td>NaN</td>\n",
       "    </tr>\n",
       "    <tr>\n",
       "      <th>3</th>\n",
       "      <td>2020-05-04 00:00:16</td>\n",
       "      <td>building</td>\n",
       "      <td>assembly_shop</td>\n",
       "      <td>92c69003-d60a-444a-827f-8cc51bf6bf4c</td>\n",
       "      <td>NaN</td>\n",
       "    </tr>\n",
       "    <tr>\n",
       "      <th>4</th>\n",
       "      <td>2020-05-04 00:00:35</td>\n",
       "      <td>building</td>\n",
       "      <td>assembly_shop</td>\n",
       "      <td>cdc6bb92-0ccb-4490-9866-ef142f09139d</td>\n",
       "      <td>NaN</td>\n",
       "    </tr>\n",
       "  </tbody>\n",
       "</table>\n",
       "</div>"
      ],
      "text/plain": [
       "        event_datetime     event  building_type  \\\n",
       "0  2020-05-04 00:00:01  building  assembly_shop   \n",
       "1  2020-05-04 00:00:03  building  assembly_shop   \n",
       "2  2020-05-04 00:00:16  building  assembly_shop   \n",
       "3  2020-05-04 00:00:16  building  assembly_shop   \n",
       "4  2020-05-04 00:00:35  building  assembly_shop   \n",
       "\n",
       "                                user_id project_type  \n",
       "0  55e92310-cb8e-4754-b622-597e124b03de          NaN  \n",
       "1  c07b1c10-f477-44dc-81dc-ec82254b1347          NaN  \n",
       "2  6edd42cc-e753-4ff6-a947-2107cd560710          NaN  \n",
       "3  92c69003-d60a-444a-827f-8cc51bf6bf4c          NaN  \n",
       "4  cdc6bb92-0ccb-4490-9866-ef142f09139d          NaN  "
      ]
     },
     "execution_count": 3,
     "metadata": {},
     "output_type": "execute_result"
    }
   ],
   "source": [
    "game = pd.read_csv('/datasets/game_actions.csv')\n",
    "game.info()\n",
    "game.head()"
   ]
  },
  {
   "cell_type": "code",
   "execution_count": 4,
   "metadata": {},
   "outputs": [
    {
     "name": "stdout",
     "output_type": "stream",
     "text": [
      "<class 'pandas.core.frame.DataFrame'>\n",
      "RangeIndex: 13576 entries, 0 to 13575\n",
      "Data columns (total 2 columns):\n",
      " #   Column   Non-Null Count  Dtype \n",
      "---  ------   --------------  ----- \n",
      " 0   user_id  13576 non-null  object\n",
      " 1   source   13576 non-null  object\n",
      "dtypes: object(2)\n",
      "memory usage: 212.2+ KB\n"
     ]
    },
    {
     "data": {
      "text/html": [
       "<div>\n",
       "<style scoped>\n",
       "    .dataframe tbody tr th:only-of-type {\n",
       "        vertical-align: middle;\n",
       "    }\n",
       "\n",
       "    .dataframe tbody tr th {\n",
       "        vertical-align: top;\n",
       "    }\n",
       "\n",
       "    .dataframe thead th {\n",
       "        text-align: right;\n",
       "    }\n",
       "</style>\n",
       "<table border=\"1\" class=\"dataframe\">\n",
       "  <thead>\n",
       "    <tr style=\"text-align: right;\">\n",
       "      <th></th>\n",
       "      <th>user_id</th>\n",
       "      <th>source</th>\n",
       "    </tr>\n",
       "  </thead>\n",
       "  <tbody>\n",
       "    <tr>\n",
       "      <th>0</th>\n",
       "      <td>0001f83c-c6ac-4621-b7f0-8a28b283ac30</td>\n",
       "      <td>facebook_ads</td>\n",
       "    </tr>\n",
       "    <tr>\n",
       "      <th>1</th>\n",
       "      <td>00151b4f-ba38-44a8-a650-d7cf130a0105</td>\n",
       "      <td>yandex_direct</td>\n",
       "    </tr>\n",
       "    <tr>\n",
       "      <th>2</th>\n",
       "      <td>001aaea6-3d14-43f1-8ca8-7f48820f17aa</td>\n",
       "      <td>youtube_channel_reklama</td>\n",
       "    </tr>\n",
       "    <tr>\n",
       "      <th>3</th>\n",
       "      <td>001d39dc-366c-4021-9604-6a3b9ff01e25</td>\n",
       "      <td>instagram_new_adverts</td>\n",
       "    </tr>\n",
       "    <tr>\n",
       "      <th>4</th>\n",
       "      <td>002f508f-67b6-479f-814b-b05f00d4e995</td>\n",
       "      <td>facebook_ads</td>\n",
       "    </tr>\n",
       "  </tbody>\n",
       "</table>\n",
       "</div>"
      ],
      "text/plain": [
       "                                user_id                   source\n",
       "0  0001f83c-c6ac-4621-b7f0-8a28b283ac30             facebook_ads\n",
       "1  00151b4f-ba38-44a8-a650-d7cf130a0105            yandex_direct\n",
       "2  001aaea6-3d14-43f1-8ca8-7f48820f17aa  youtube_channel_reklama\n",
       "3  001d39dc-366c-4021-9604-6a3b9ff01e25    instagram_new_adverts\n",
       "4  002f508f-67b6-479f-814b-b05f00d4e995             facebook_ads"
      ]
     },
     "execution_count": 4,
     "metadata": {},
     "output_type": "execute_result"
    }
   ],
   "source": [
    "users = pd.read_csv('/datasets/user_source.csv')\n",
    "users.info()\n",
    "users.head()"
   ]
  },
  {
   "cell_type": "markdown",
   "metadata": {},
   "source": [
    "### Поиск пропусков и дубликатов"
   ]
  },
  {
   "cell_type": "code",
   "execution_count": 5,
   "metadata": {},
   "outputs": [
    {
     "data": {
      "text/plain": [
       "event_datetime         0\n",
       "event                  0\n",
       "building_type       7683\n",
       "user_id                0\n",
       "project_type      133774\n",
       "dtype: int64"
      ]
     },
     "execution_count": 5,
     "metadata": {},
     "output_type": "execute_result"
    }
   ],
   "source": [
    "game.isna().sum()"
   ]
  },
  {
   "cell_type": "code",
   "execution_count": 6,
   "metadata": {},
   "outputs": [
    {
     "name": "stdout",
     "output_type": "stream",
     "text": [
      "Количество дубликатов до удаления: 1\n",
      "Количество дубликатов после удаления: 0\n"
     ]
    }
   ],
   "source": [
    "print('Количество дубликатов до удаления:', game.duplicated().sum())\n",
    "game = game.drop_duplicates()\n",
    "print('Количество дубликатов после удаления:', game.duplicated().sum())"
   ]
  },
  {
   "cell_type": "code",
   "execution_count": 7,
   "metadata": {},
   "outputs": [
    {
     "data": {
      "text/plain": [
       "0"
      ]
     },
     "execution_count": 7,
     "metadata": {},
     "output_type": "execute_result"
    }
   ],
   "source": [
    "costs.duplicated().sum()"
   ]
  },
  {
   "cell_type": "code",
   "execution_count": 8,
   "metadata": {},
   "outputs": [
    {
     "data": {
      "text/plain": [
       "0"
      ]
     },
     "execution_count": 8,
     "metadata": {},
     "output_type": "execute_result"
    }
   ],
   "source": [
    "users.duplicated().sum()"
   ]
  },
  {
   "cell_type": "markdown",
   "metadata": {},
   "source": [
    "При обзорре обнаружены пропуски в таблице game, в столбцах building_type и project_type.\n",
    "\n",
    "При поиске дубликатов, был найден всего один дубликат в той же таблице.\n",
    "\n",
    "Остальные данные выглядят нормально."
   ]
  },
  {
   "cell_type": "markdown",
   "metadata": {},
   "source": [
    "### Приведение к нужным типам данных"
   ]
  },
  {
   "cell_type": "code",
   "execution_count": 9,
   "metadata": {
    "scrolled": true
   },
   "outputs": [
    {
     "name": "stdout",
     "output_type": "stream",
     "text": [
      "<class 'pandas.core.frame.DataFrame'>\n",
      "Int64Index: 135639 entries, 0 to 135639\n",
      "Data columns (total 7 columns):\n",
      " #   Column          Non-Null Count   Dtype         \n",
      "---  ------          --------------   -----         \n",
      " 0   event_datetime  135639 non-null  datetime64[ns]\n",
      " 1   event           135639 non-null  object        \n",
      " 2   building_type   127956 non-null  object        \n",
      " 3   user_id         135639 non-null  object        \n",
      " 4   project_type    1866 non-null    object        \n",
      " 5   date            135639 non-null  datetime64[ns]\n",
      " 6   day             135639 non-null  datetime64[ns]\n",
      "dtypes: datetime64[ns](3), object(4)\n",
      "memory usage: 8.3+ MB\n"
     ]
    }
   ],
   "source": [
    "game['event_datetime'] = pd.to_datetime(game['event_datetime'])\n",
    "game['date'] = pd.to_datetime(game['event_datetime'].dt.date)\n",
    "game['day'] = pd.to_datetime(game['event_datetime'].dt.day)\n",
    "game.head()\n",
    "game.info()"
   ]
  },
  {
   "cell_type": "code",
   "execution_count": 10,
   "metadata": {},
   "outputs": [
    {
     "data": {
      "text/html": [
       "<div>\n",
       "<style scoped>\n",
       "    .dataframe tbody tr th:only-of-type {\n",
       "        vertical-align: middle;\n",
       "    }\n",
       "\n",
       "    .dataframe tbody tr th {\n",
       "        vertical-align: top;\n",
       "    }\n",
       "\n",
       "    .dataframe thead th {\n",
       "        text-align: right;\n",
       "    }\n",
       "</style>\n",
       "<table border=\"1\" class=\"dataframe\">\n",
       "  <thead>\n",
       "    <tr style=\"text-align: right;\">\n",
       "      <th></th>\n",
       "      <th>source</th>\n",
       "      <th>date</th>\n",
       "      <th>cost</th>\n",
       "    </tr>\n",
       "  </thead>\n",
       "  <tbody>\n",
       "    <tr>\n",
       "      <th>0</th>\n",
       "      <td>facebook_ads</td>\n",
       "      <td>2020-05-03</td>\n",
       "      <td>935.882786</td>\n",
       "    </tr>\n",
       "    <tr>\n",
       "      <th>1</th>\n",
       "      <td>facebook_ads</td>\n",
       "      <td>2020-05-04</td>\n",
       "      <td>548.354480</td>\n",
       "    </tr>\n",
       "    <tr>\n",
       "      <th>2</th>\n",
       "      <td>facebook_ads</td>\n",
       "      <td>2020-05-05</td>\n",
       "      <td>260.185754</td>\n",
       "    </tr>\n",
       "    <tr>\n",
       "      <th>3</th>\n",
       "      <td>facebook_ads</td>\n",
       "      <td>2020-05-06</td>\n",
       "      <td>177.982200</td>\n",
       "    </tr>\n",
       "    <tr>\n",
       "      <th>4</th>\n",
       "      <td>facebook_ads</td>\n",
       "      <td>2020-05-07</td>\n",
       "      <td>111.766796</td>\n",
       "    </tr>\n",
       "  </tbody>\n",
       "</table>\n",
       "</div>"
      ],
      "text/plain": [
       "         source       date        cost\n",
       "0  facebook_ads 2020-05-03  935.882786\n",
       "1  facebook_ads 2020-05-04  548.354480\n",
       "2  facebook_ads 2020-05-05  260.185754\n",
       "3  facebook_ads 2020-05-06  177.982200\n",
       "4  facebook_ads 2020-05-07  111.766796"
      ]
     },
     "execution_count": 10,
     "metadata": {},
     "output_type": "execute_result"
    }
   ],
   "source": [
    "costs = costs.rename(columns={'day':'date'})\n",
    "costs['date'] = pd.to_datetime(costs['date'])\n",
    "costs.head()"
   ]
  },
  {
   "cell_type": "markdown",
   "metadata": {},
   "source": [
    "### Обработаем пропуски"
   ]
  },
  {
   "cell_type": "markdown",
   "metadata": {},
   "source": [
    "#### Колонка building_type"
   ]
  },
  {
   "cell_type": "code",
   "execution_count": 11,
   "metadata": {},
   "outputs": [
    {
     "name": "stderr",
     "output_type": "stream",
     "text": [
      "/tmp/ipykernel_120/3023694967.py:2: FutureWarning: Treating datetime data as categorical rather than numeric in `.describe` is deprecated and will be removed in a future version of pandas. Specify `datetime_is_numeric=True` to silence this warning and adopt the future behavior now.\n",
      "  omis_bt.describe()\n",
      "/tmp/ipykernel_120/3023694967.py:2: FutureWarning: Treating datetime data as categorical rather than numeric in `.describe` is deprecated and will be removed in a future version of pandas. Specify `datetime_is_numeric=True` to silence this warning and adopt the future behavior now.\n",
      "  omis_bt.describe()\n",
      "/tmp/ipykernel_120/3023694967.py:2: FutureWarning: Treating datetime data as categorical rather than numeric in `.describe` is deprecated and will be removed in a future version of pandas. Specify `datetime_is_numeric=True` to silence this warning and adopt the future behavior now.\n",
      "  omis_bt.describe()\n"
     ]
    },
    {
     "data": {
      "text/html": [
       "<div>\n",
       "<style scoped>\n",
       "    .dataframe tbody tr th:only-of-type {\n",
       "        vertical-align: middle;\n",
       "    }\n",
       "\n",
       "    .dataframe tbody tr th {\n",
       "        vertical-align: top;\n",
       "    }\n",
       "\n",
       "    .dataframe thead th {\n",
       "        text-align: right;\n",
       "    }\n",
       "</style>\n",
       "<table border=\"1\" class=\"dataframe\">\n",
       "  <thead>\n",
       "    <tr style=\"text-align: right;\">\n",
       "      <th></th>\n",
       "      <th>event_datetime</th>\n",
       "      <th>event</th>\n",
       "      <th>building_type</th>\n",
       "      <th>user_id</th>\n",
       "      <th>project_type</th>\n",
       "      <th>date</th>\n",
       "      <th>day</th>\n",
       "    </tr>\n",
       "  </thead>\n",
       "  <tbody>\n",
       "    <tr>\n",
       "      <th>count</th>\n",
       "      <td>7683</td>\n",
       "      <td>7683</td>\n",
       "      <td>0</td>\n",
       "      <td>7683</td>\n",
       "      <td>1866</td>\n",
       "      <td>7683</td>\n",
       "      <td>7683</td>\n",
       "    </tr>\n",
       "    <tr>\n",
       "      <th>unique</th>\n",
       "      <td>7663</td>\n",
       "      <td>2</td>\n",
       "      <td>0</td>\n",
       "      <td>5817</td>\n",
       "      <td>1</td>\n",
       "      <td>33</td>\n",
       "      <td>31</td>\n",
       "    </tr>\n",
       "    <tr>\n",
       "      <th>top</th>\n",
       "      <td>2020-05-12 11:55:56</td>\n",
       "      <td>finished_stage_1</td>\n",
       "      <td>NaN</td>\n",
       "      <td>1f71fdae-2afd-4dcc-8734-7ff7fb0939dc</td>\n",
       "      <td>satellite_orbital_assembly</td>\n",
       "      <td>2020-05-16 00:00:00</td>\n",
       "      <td>1970-01-01 00:00:00.000000016</td>\n",
       "    </tr>\n",
       "    <tr>\n",
       "      <th>freq</th>\n",
       "      <td>2</td>\n",
       "      <td>5817</td>\n",
       "      <td>NaN</td>\n",
       "      <td>2</td>\n",
       "      <td>1866</td>\n",
       "      <td>856</td>\n",
       "      <td>856</td>\n",
       "    </tr>\n",
       "    <tr>\n",
       "      <th>first</th>\n",
       "      <td>2020-05-04 19:47:29</td>\n",
       "      <td>NaN</td>\n",
       "      <td>NaN</td>\n",
       "      <td>NaN</td>\n",
       "      <td>NaN</td>\n",
       "      <td>2020-05-04 00:00:00</td>\n",
       "      <td>1970-01-01 00:00:00.000000001</td>\n",
       "    </tr>\n",
       "    <tr>\n",
       "      <th>last</th>\n",
       "      <td>2020-06-05 12:32:49</td>\n",
       "      <td>NaN</td>\n",
       "      <td>NaN</td>\n",
       "      <td>NaN</td>\n",
       "      <td>NaN</td>\n",
       "      <td>2020-06-05 00:00:00</td>\n",
       "      <td>1970-01-01 00:00:00.000000031</td>\n",
       "    </tr>\n",
       "  </tbody>\n",
       "</table>\n",
       "</div>"
      ],
      "text/plain": [
       "             event_datetime             event building_type  \\\n",
       "count                  7683              7683             0   \n",
       "unique                 7663                 2             0   \n",
       "top     2020-05-12 11:55:56  finished_stage_1           NaN   \n",
       "freq                      2              5817           NaN   \n",
       "first   2020-05-04 19:47:29               NaN           NaN   \n",
       "last    2020-06-05 12:32:49               NaN           NaN   \n",
       "\n",
       "                                     user_id                project_type  \\\n",
       "count                                   7683                        1866   \n",
       "unique                                  5817                           1   \n",
       "top     1f71fdae-2afd-4dcc-8734-7ff7fb0939dc  satellite_orbital_assembly   \n",
       "freq                                       2                        1866   \n",
       "first                                    NaN                         NaN   \n",
       "last                                     NaN                         NaN   \n",
       "\n",
       "                       date                            day  \n",
       "count                  7683                           7683  \n",
       "unique                   33                             31  \n",
       "top     2020-05-16 00:00:00  1970-01-01 00:00:00.000000016  \n",
       "freq                    856                            856  \n",
       "first   2020-05-04 00:00:00  1970-01-01 00:00:00.000000001  \n",
       "last    2020-06-05 00:00:00  1970-01-01 00:00:00.000000031  "
      ]
     },
     "execution_count": 11,
     "metadata": {},
     "output_type": "execute_result"
    }
   ],
   "source": [
    "omis_bt=game[game['building_type'].isnull()]\n",
    "omis_bt.describe()"
   ]
  },
  {
   "cell_type": "markdown",
   "metadata": {},
   "source": [
    "Вс столбце event только два уникальных значения, посмотрим них"
   ]
  },
  {
   "cell_type": "code",
   "execution_count": 12,
   "metadata": {},
   "outputs": [
    {
     "data": {
      "text/plain": [
       "array(['finished_stage_1', 'project'], dtype=object)"
      ]
     },
     "execution_count": 12,
     "metadata": {},
     "output_type": "execute_result"
    }
   ],
   "source": [
    "omis_bt['event'].unique() "
   ]
  },
  {
   "cell_type": "code",
   "execution_count": 13,
   "metadata": {},
   "outputs": [],
   "source": [
    "game.loc[game['project_type'].isna() &\n",
    "                 (game['event'] == 'finished_stage_1'),\n",
    "                 'project_type'] = 'finish_game'"
   ]
  },
  {
   "cell_type": "code",
   "execution_count": 14,
   "metadata": {},
   "outputs": [],
   "source": [
    "game.loc[game['project_type'].isna(), 'project_type'] = 'not_finish_game'"
   ]
  },
  {
   "cell_type": "code",
   "execution_count": 15,
   "metadata": {},
   "outputs": [],
   "source": [
    "game['building_type'] = game['building_type'].fillna('no_buildings')"
   ]
  },
  {
   "cell_type": "markdown",
   "metadata": {},
   "source": [
    "В данных имеются только значения finished_stage_1 и project, подсчитаем их количество по датасету в целом:"
   ]
  },
  {
   "cell_type": "code",
   "execution_count": 16,
   "metadata": {},
   "outputs": [
    {
     "data": {
      "text/plain": [
       "7683"
      ]
     },
     "execution_count": 16,
     "metadata": {},
     "output_type": "execute_result"
    }
   ],
   "source": [
    "fs_len=len(game[game['event'] == 'finished_stage_1'])\n",
    "pr_len=len(game[game['event'] == 'project'])\n",
    "fs_len+pr_len"
   ]
  },
  {
   "cell_type": "markdown",
   "metadata": {},
   "source": [
    "Пропуски в колонке building_type обусловлены тем, что для событий finished_stage_1 и project не происходит строительства какого-либо здания, а соответственно с этими пропусками ничего делать не будем."
   ]
  },
  {
   "cell_type": "markdown",
   "metadata": {},
   "source": [
    "#### Колонка project_type \n",
    "\n",
    "Повторим те же действия "
   ]
  },
  {
   "cell_type": "code",
   "execution_count": 17,
   "metadata": {},
   "outputs": [
    {
     "data": {
      "text/html": [
       "<div>\n",
       "<style scoped>\n",
       "    .dataframe tbody tr th:only-of-type {\n",
       "        vertical-align: middle;\n",
       "    }\n",
       "\n",
       "    .dataframe tbody tr th {\n",
       "        vertical-align: top;\n",
       "    }\n",
       "\n",
       "    .dataframe thead th {\n",
       "        text-align: right;\n",
       "    }\n",
       "</style>\n",
       "<table border=\"1\" class=\"dataframe\">\n",
       "  <thead>\n",
       "    <tr style=\"text-align: right;\">\n",
       "      <th></th>\n",
       "      <th>event_datetime</th>\n",
       "      <th>event</th>\n",
       "      <th>building_type</th>\n",
       "      <th>user_id</th>\n",
       "      <th>project_type</th>\n",
       "      <th>date</th>\n",
       "      <th>day</th>\n",
       "    </tr>\n",
       "  </thead>\n",
       "  <tbody>\n",
       "    <tr>\n",
       "      <th>count</th>\n",
       "      <td>0</td>\n",
       "      <td>0</td>\n",
       "      <td>0</td>\n",
       "      <td>0</td>\n",
       "      <td>0</td>\n",
       "      <td>0</td>\n",
       "      <td>0</td>\n",
       "    </tr>\n",
       "    <tr>\n",
       "      <th>unique</th>\n",
       "      <td>0</td>\n",
       "      <td>0</td>\n",
       "      <td>0</td>\n",
       "      <td>0</td>\n",
       "      <td>0</td>\n",
       "      <td>0</td>\n",
       "      <td>0</td>\n",
       "    </tr>\n",
       "    <tr>\n",
       "      <th>top</th>\n",
       "      <td>NaN</td>\n",
       "      <td>NaN</td>\n",
       "      <td>NaN</td>\n",
       "      <td>NaN</td>\n",
       "      <td>NaN</td>\n",
       "      <td>NaN</td>\n",
       "      <td>NaN</td>\n",
       "    </tr>\n",
       "    <tr>\n",
       "      <th>freq</th>\n",
       "      <td>NaN</td>\n",
       "      <td>NaN</td>\n",
       "      <td>NaN</td>\n",
       "      <td>NaN</td>\n",
       "      <td>NaN</td>\n",
       "      <td>NaN</td>\n",
       "      <td>NaN</td>\n",
       "    </tr>\n",
       "  </tbody>\n",
       "</table>\n",
       "</div>"
      ],
      "text/plain": [
       "       event_datetime event building_type user_id project_type date  day\n",
       "count               0     0             0       0            0    0    0\n",
       "unique              0     0             0       0            0    0    0\n",
       "top               NaN   NaN           NaN     NaN          NaN  NaN  NaN\n",
       "freq              NaN   NaN           NaN     NaN          NaN  NaN  NaN"
      ]
     },
     "execution_count": 17,
     "metadata": {},
     "output_type": "execute_result"
    }
   ],
   "source": [
    "omis_pr=game[game['project_type'].isnull()]\n",
    "omis_pr.describe()"
   ]
  },
  {
   "cell_type": "code",
   "execution_count": 18,
   "metadata": {},
   "outputs": [
    {
     "data": {
      "text/plain": [
       "array([], dtype=object)"
      ]
     },
     "execution_count": 18,
     "metadata": {},
     "output_type": "execute_result"
    }
   ],
   "source": [
    "omis_pr['event'].unique()"
   ]
  },
  {
   "cell_type": "markdown",
   "metadata": {},
   "source": [
    "Видим, что для данной выборки отсутствует значение project, посмотим их количество в общем датасете:"
   ]
  },
  {
   "cell_type": "code",
   "execution_count": 19,
   "metadata": {},
   "outputs": [
    {
     "data": {
      "text/plain": [
       "1866"
      ]
     },
     "execution_count": 19,
     "metadata": {},
     "output_type": "execute_result"
    }
   ],
   "source": [
    "pr_len"
   ]
  },
  {
   "cell_type": "markdown",
   "metadata": {},
   "source": [
    "Значение project в колонке event полностью соответствует заполненным данным с типом проекта satellite_orbital_assembly, соответственно данные верны и обработка пропусков не требуется."
   ]
  },
  {
   "cell_type": "markdown",
   "metadata": {},
   "source": [
    "### Вывод:"
   ]
  },
  {
   "cell_type": "markdown",
   "metadata": {},
   "source": [
    "- Изменены форматы данных времени на datetime\n",
    "- Добавлен столбец с датой сессии 'date'\n",
    "- Удалены дубликаты \n",
    "- Пропуски обрабатывать нет необходимости\n",
    "\n",
    "Данные изучены можно приступать к анализу"
   ]
  },
  {
   "cell_type": "markdown",
   "metadata": {},
   "source": [
    "## Иследовательский анализ"
   ]
  },
  {
   "cell_type": "markdown",
   "metadata": {},
   "source": [
    "### Количество игроков по типам событий"
   ]
  },
  {
   "cell_type": "code",
   "execution_count": 20,
   "metadata": {},
   "outputs": [
    {
     "data": {
      "text/html": [
       "<div>\n",
       "<style scoped>\n",
       "    .dataframe tbody tr th:only-of-type {\n",
       "        vertical-align: middle;\n",
       "    }\n",
       "\n",
       "    .dataframe tbody tr th {\n",
       "        vertical-align: top;\n",
       "    }\n",
       "\n",
       "    .dataframe thead th {\n",
       "        text-align: right;\n",
       "    }\n",
       "</style>\n",
       "<table border=\"1\" class=\"dataframe\">\n",
       "  <thead>\n",
       "    <tr style=\"text-align: right;\">\n",
       "      <th></th>\n",
       "      <th>event</th>\n",
       "      <th>user_id</th>\n",
       "    </tr>\n",
       "  </thead>\n",
       "  <tbody>\n",
       "    <tr>\n",
       "      <th>0</th>\n",
       "      <td>building</td>\n",
       "      <td>13576</td>\n",
       "    </tr>\n",
       "    <tr>\n",
       "      <th>1</th>\n",
       "      <td>finished_stage_1</td>\n",
       "      <td>5817</td>\n",
       "    </tr>\n",
       "    <tr>\n",
       "      <th>2</th>\n",
       "      <td>project</td>\n",
       "      <td>1866</td>\n",
       "    </tr>\n",
       "  </tbody>\n",
       "</table>\n",
       "</div>"
      ],
      "text/plain": [
       "              event  user_id\n",
       "0          building    13576\n",
       "1  finished_stage_1     5817\n",
       "2           project     1866"
      ]
     },
     "execution_count": 20,
     "metadata": {},
     "output_type": "execute_result"
    }
   ],
   "source": [
    "gamers_type = game.groupby('event').agg({'user_id':'nunique'}).reset_index()\n",
    "gamers_type"
   ]
  },
  {
   "cell_type": "code",
   "execution_count": 21,
   "metadata": {},
   "outputs": [
    {
     "data": {
      "text/html": [
       "<div>\n",
       "<style scoped>\n",
       "    .dataframe tbody tr th:only-of-type {\n",
       "        vertical-align: middle;\n",
       "    }\n",
       "\n",
       "    .dataframe tbody tr th {\n",
       "        vertical-align: top;\n",
       "    }\n",
       "\n",
       "    .dataframe thead th {\n",
       "        text-align: right;\n",
       "    }\n",
       "</style>\n",
       "<table border=\"1\" class=\"dataframe\">\n",
       "  <thead>\n",
       "    <tr style=\"text-align: right;\">\n",
       "      <th></th>\n",
       "      <th>user_id</th>\n",
       "    </tr>\n",
       "    <tr>\n",
       "      <th>date</th>\n",
       "      <th></th>\n",
       "    </tr>\n",
       "  </thead>\n",
       "  <tbody>\n",
       "    <tr>\n",
       "      <th>2020-05-04</th>\n",
       "      <td>5860</td>\n",
       "    </tr>\n",
       "    <tr>\n",
       "      <th>2020-05-05</th>\n",
       "      <td>6382</td>\n",
       "    </tr>\n",
       "    <tr>\n",
       "      <th>2020-05-06</th>\n",
       "      <td>6854</td>\n",
       "    </tr>\n",
       "    <tr>\n",
       "      <th>2020-05-07</th>\n",
       "      <td>7384</td>\n",
       "    </tr>\n",
       "    <tr>\n",
       "      <th>2020-05-08</th>\n",
       "      <td>7891</td>\n",
       "    </tr>\n",
       "  </tbody>\n",
       "</table>\n",
       "</div>"
      ],
      "text/plain": [
       "            user_id\n",
       "date               \n",
       "2020-05-04     5860\n",
       "2020-05-05     6382\n",
       "2020-05-06     6854\n",
       "2020-05-07     7384\n",
       "2020-05-08     7891"
      ]
     },
     "metadata": {},
     "output_type": "display_data"
    },
    {
     "data": {
      "image/png": "[encoded data removed]",
      "text/plain": [
       "<Figure size 1656x360 with 1 Axes>"
      ]
     },
     "metadata": {
      "needs_background": "light"
     },
     "output_type": "display_data"
    }
   ],
   "source": [
    "dau_total = game.groupby('date').agg({'user_id': 'nunique'})\n",
    "display(dau_total.head())\n",
    "dau_total.plot(grid=True, title='Количество пользователей в день', figsize=(23, 5),legend=False)\n",
    "plt.gca().set(xlabel='Дни', ylabel='Количество пользователей, чел.')\n",
    "plt.show()\n",
    "     "
   ]
  },
  {
   "cell_type": "code",
   "execution_count": 22,
   "metadata": {},
   "outputs": [
    {
     "data": {
      "text/html": [
       "<div>\n",
       "<style scoped>\n",
       "    .dataframe tbody tr th:only-of-type {\n",
       "        vertical-align: middle;\n",
       "    }\n",
       "\n",
       "    .dataframe tbody tr th {\n",
       "        vertical-align: top;\n",
       "    }\n",
       "\n",
       "    .dataframe thead th {\n",
       "        text-align: right;\n",
       "    }\n",
       "</style>\n",
       "<table border=\"1\" class=\"dataframe\">\n",
       "  <thead>\n",
       "    <tr style=\"text-align: right;\">\n",
       "      <th></th>\n",
       "      <th>user_id</th>\n",
       "    </tr>\n",
       "  </thead>\n",
       "  <tbody>\n",
       "    <tr>\n",
       "      <th>count</th>\n",
       "      <td>33.000000</td>\n",
       "    </tr>\n",
       "    <tr>\n",
       "      <th>mean</th>\n",
       "      <td>2884.878788</td>\n",
       "    </tr>\n",
       "    <tr>\n",
       "      <th>std</th>\n",
       "      <td>3083.784493</td>\n",
       "    </tr>\n",
       "    <tr>\n",
       "      <th>min</th>\n",
       "      <td>4.000000</td>\n",
       "    </tr>\n",
       "    <tr>\n",
       "      <th>25%</th>\n",
       "      <td>91.000000</td>\n",
       "    </tr>\n",
       "    <tr>\n",
       "      <th>50%</th>\n",
       "      <td>1480.000000</td>\n",
       "    </tr>\n",
       "    <tr>\n",
       "      <th>75%</th>\n",
       "      <td>5776.000000</td>\n",
       "    </tr>\n",
       "    <tr>\n",
       "      <th>max</th>\n",
       "      <td>9219.000000</td>\n",
       "    </tr>\n",
       "  </tbody>\n",
       "</table>\n",
       "</div>"
      ],
      "text/plain": [
       "           user_id\n",
       "count    33.000000\n",
       "mean   2884.878788\n",
       "std    3083.784493\n",
       "min       4.000000\n",
       "25%      91.000000\n",
       "50%    1480.000000\n",
       "75%    5776.000000\n",
       "max    9219.000000"
      ]
     },
     "execution_count": 22,
     "metadata": {},
     "output_type": "execute_result"
    }
   ],
   "source": [
    "dau_total.describe()"
   ]
  },
  {
   "cell_type": "markdown",
   "metadata": {},
   "source": [
    "В выборке отмечаем увеличение количества пользователей в день до 2020-05-10 в размере до 9219 человек, но 11 мая 2020 произошел резкий спад количества игроков. Возможно из - за окончания выходных, а возможно из - за окончания рекламной компании, которая проводилась:"
   ]
  },
  {
   "cell_type": "code",
   "execution_count": 23,
   "metadata": {},
   "outputs": [
    {
     "name": "stdout",
     "output_type": "stream",
     "text": [
      "с 03.05.2020 по 09.05.2020\n"
     ]
    }
   ],
   "source": [
    "print('с {:%d.%m.%Y} по {:%d.%m.%Y}'.format(costs['date'].min(), costs['date'].max()))"
   ]
  },
  {
   "cell_type": "markdown",
   "metadata": {},
   "source": [
    "### График отображающий количество событий по дням"
   ]
  },
  {
   "cell_type": "code",
   "execution_count": 24,
   "metadata": {},
   "outputs": [
    {
     "data": {
      "text/html": [
       "<div>\n",
       "<style scoped>\n",
       "    .dataframe tbody tr th:only-of-type {\n",
       "        vertical-align: middle;\n",
       "    }\n",
       "\n",
       "    .dataframe tbody tr th {\n",
       "        vertical-align: top;\n",
       "    }\n",
       "\n",
       "    .dataframe thead th {\n",
       "        text-align: right;\n",
       "    }\n",
       "</style>\n",
       "<table border=\"1\" class=\"dataframe\">\n",
       "  <thead>\n",
       "    <tr style=\"text-align: right;\">\n",
       "      <th></th>\n",
       "      <th>event</th>\n",
       "    </tr>\n",
       "    <tr>\n",
       "      <th>date</th>\n",
       "      <th></th>\n",
       "    </tr>\n",
       "  </thead>\n",
       "  <tbody>\n",
       "    <tr>\n",
       "      <th>2020-05-04</th>\n",
       "      <td>8171</td>\n",
       "    </tr>\n",
       "    <tr>\n",
       "      <th>2020-05-05</th>\n",
       "      <td>9055</td>\n",
       "    </tr>\n",
       "    <tr>\n",
       "      <th>2020-05-06</th>\n",
       "      <td>9925</td>\n",
       "    </tr>\n",
       "    <tr>\n",
       "      <th>2020-05-07</th>\n",
       "      <td>10858</td>\n",
       "    </tr>\n",
       "    <tr>\n",
       "      <th>2020-05-08</th>\n",
       "      <td>12059</td>\n",
       "    </tr>\n",
       "  </tbody>\n",
       "</table>\n",
       "</div>"
      ],
      "text/plain": [
       "            event\n",
       "date             \n",
       "2020-05-04   8171\n",
       "2020-05-05   9055\n",
       "2020-05-06   9925\n",
       "2020-05-07  10858\n",
       "2020-05-08  12059"
      ]
     },
     "metadata": {},
     "output_type": "display_data"
    },
    {
     "data": {
      "image/png": "[encoded data removed]",
      "text/plain": [
       "<Figure size 1656x360 with 1 Axes>"
      ]
     },
     "metadata": {
      "needs_background": "light"
     },
     "output_type": "display_data"
    }
   ],
   "source": [
    "dau_total_events = game.groupby('date').agg({'event': 'count'})\n",
    "display(dau_total_events.head())\n",
    "\n",
    "dau_total_events.plot(grid=True, title='Количество событий в день', figsize=(23, 5),legend=False)\n",
    "plt.gca().set(xlabel='Дни', ylabel='Количество событий, шт.')\n",
    "plt.show()"
   ]
  },
  {
   "cell_type": "code",
   "execution_count": 25,
   "metadata": {},
   "outputs": [
    {
     "data": {
      "text/html": [
       "<div>\n",
       "<style scoped>\n",
       "    .dataframe tbody tr th:only-of-type {\n",
       "        vertical-align: middle;\n",
       "    }\n",
       "\n",
       "    .dataframe tbody tr th {\n",
       "        vertical-align: top;\n",
       "    }\n",
       "\n",
       "    .dataframe thead th {\n",
       "        text-align: right;\n",
       "    }\n",
       "</style>\n",
       "<table border=\"1\" class=\"dataframe\">\n",
       "  <thead>\n",
       "    <tr style=\"text-align: right;\">\n",
       "      <th></th>\n",
       "      <th>event</th>\n",
       "    </tr>\n",
       "  </thead>\n",
       "  <tbody>\n",
       "    <tr>\n",
       "      <th>count</th>\n",
       "      <td>33.000000</td>\n",
       "    </tr>\n",
       "    <tr>\n",
       "      <th>mean</th>\n",
       "      <td>4110.272727</td>\n",
       "    </tr>\n",
       "    <tr>\n",
       "      <th>std</th>\n",
       "      <td>4639.714311</td>\n",
       "    </tr>\n",
       "    <tr>\n",
       "      <th>min</th>\n",
       "      <td>5.000000</td>\n",
       "    </tr>\n",
       "    <tr>\n",
       "      <th>25%</th>\n",
       "      <td>118.000000</td>\n",
       "    </tr>\n",
       "    <tr>\n",
       "      <th>50%</th>\n",
       "      <td>1837.000000</td>\n",
       "    </tr>\n",
       "    <tr>\n",
       "      <th>75%</th>\n",
       "      <td>7918.000000</td>\n",
       "    </tr>\n",
       "    <tr>\n",
       "      <th>max</th>\n",
       "      <td>15207.000000</td>\n",
       "    </tr>\n",
       "  </tbody>\n",
       "</table>\n",
       "</div>"
      ],
      "text/plain": [
       "              event\n",
       "count     33.000000\n",
       "mean    4110.272727\n",
       "std     4639.714311\n",
       "min        5.000000\n",
       "25%      118.000000\n",
       "50%     1837.000000\n",
       "75%     7918.000000\n",
       "max    15207.000000"
      ]
     },
     "execution_count": 25,
     "metadata": {},
     "output_type": "execute_result"
    }
   ],
   "source": [
    "dau_total_events.describe()"
   ]
  },
  {
   "cell_type": "markdown",
   "metadata": {},
   "source": [
    "График количества событий коррелирует с графиком количества пользователей в день - до 2020-05-10 достигает 15 207 событий, но к 2020-06-05 этот показатель снижается до 5."
   ]
  },
  {
   "cell_type": "markdown",
   "metadata": {},
   "source": [
    "### Среднеее количетсво событий на пользователя"
   ]
  },
  {
   "cell_type": "code",
   "execution_count": 26,
   "metadata": {},
   "outputs": [
    {
     "name": "stdout",
     "output_type": "stream",
     "text": [
      "9 событий\n"
     ]
    }
   ],
   "source": [
    "events_per_user=game.groupby('user_id').agg({'event': 'count'}).mean()\n",
    "print(f'{int(events_per_user)} событий')"
   ]
  },
  {
   "cell_type": "markdown",
   "metadata": {},
   "source": [
    "### График распределения количества построенных объектов"
   ]
  },
  {
   "cell_type": "code",
   "execution_count": 27,
   "metadata": {},
   "outputs": [
    {
     "data": {
      "image/png": "[encoded data removed]",
      "text/plain": [
       "<Figure size 720x360 with 1 Axes>"
      ]
     },
     "metadata": {
      "needs_background": "light"
     },
     "output_type": "display_data"
    }
   ],
   "source": [
    "events_by_building_type=game.groupby('building_type')['user_id'].count().reset_index().sort_values(by='user_id', ascending=False)\n",
    "\n",
    "ax=events_by_building_type.plot(x='building_type', y='user_id', kind='bar', grid=True, figsize=(10, 5), rot=360)\n",
    "ax.get_legend().remove()\n",
    "for p in ax.patches:\n",
    "    height = p.get_height()\n",
    "    ax.text(p.get_x()+p.get_width()/2,\n",
    "            height + 5,\n",
    "            '{:.0f}'.format(height),\n",
    "            fontsize=10,\n",
    "            ha=\"center\")\n",
    "plt.show()"
   ]
  },
  {
   "cell_type": "markdown",
   "metadata": {},
   "source": [
    "Больше всего было построено spaceport, за ними идут assembly_shop, research_center строят в разы меньше."
   ]
  },
  {
   "cell_type": "markdown",
   "metadata": {},
   "source": [
    "### Среднее количество построенных зданий в трех группах пользователей:"
   ]
  },
  {
   "cell_type": "markdown",
   "metadata": {},
   "source": [
    " - завершивших проект:"
   ]
  },
  {
   "cell_type": "code",
   "execution_count": 28,
   "metadata": {},
   "outputs": [
    {
     "data": {
      "text/plain": [
       "building_type    14.65\n",
       "dtype: float64"
      ]
     },
     "execution_count": 28,
     "metadata": {},
     "output_type": "execute_result"
    }
   ],
   "source": [
    "events_pr=game.query('event==\"project\"')\n",
    "users_pr=events_pr['user_id'].unique()\n",
    "round(game[game['user_id'].isin(users_pr)].groupby('user_id').agg({'building_type': 'count'}).mean(),2)"
   ]
  },
  {
   "cell_type": "markdown",
   "metadata": {},
   "source": [
    "- победивших врага:"
   ]
  },
  {
   "cell_type": "code",
   "execution_count": 29,
   "metadata": {},
   "outputs": [
    {
     "data": {
      "text/plain": [
       "building_type    11.77\n",
       "dtype: float64"
      ]
     },
     "execution_count": 29,
     "metadata": {},
     "output_type": "execute_result"
    }
   ],
   "source": [
    "events_fs=game.query('event==\"finished_stage_1\"')\n",
    "users_fs=events_fs['user_id'].unique()\n",
    "round(game[game['user_id'].isin(users_fs)].groupby('user_id').agg({'building_type': 'count'}).mean(),2)"
   ]
  },
  {
   "cell_type": "markdown",
   "metadata": {},
   "source": [
    "- не прошедших первый уровень:"
   ]
  },
  {
   "cell_type": "code",
   "execution_count": 30,
   "metadata": {},
   "outputs": [
    {
     "data": {
      "text/plain": [
       "building_type    8.66\n",
       "dtype: float64"
      ]
     },
     "execution_count": 30,
     "metadata": {},
     "output_type": "execute_result"
    }
   ],
   "source": [
    "events_not_win=game[~game['user_id'].isin(users_fs)][~game[~game['user_id'].isin(users_fs)]['user_id'].isin(users_pr)]\n",
    "users_not_win=events_not_win['user_id'].unique()\n",
    "round(game[game['user_id'].isin(users_not_win)].groupby('user_id').agg({'building_type': 'count'}).mean(),2)"
   ]
  },
  {
   "cell_type": "markdown",
   "metadata": {},
   "source": [
    "### Построим график, отображающий количество пользователей, пришедших из разных рекламных источников"
   ]
  },
  {
   "cell_type": "markdown",
   "metadata": {},
   "source": [
    "Для начала добавим в датасет source дату первого входа в игру - first_enter:"
   ]
  },
  {
   "cell_type": "code",
   "execution_count": 31,
   "metadata": {
    "scrolled": false
   },
   "outputs": [
    {
     "data": {
      "text/html": [
       "<div>\n",
       "<style scoped>\n",
       "    .dataframe tbody tr th:only-of-type {\n",
       "        vertical-align: middle;\n",
       "    }\n",
       "\n",
       "    .dataframe tbody tr th {\n",
       "        vertical-align: top;\n",
       "    }\n",
       "\n",
       "    .dataframe thead th {\n",
       "        text-align: right;\n",
       "    }\n",
       "</style>\n",
       "<table border=\"1\" class=\"dataframe\">\n",
       "  <thead>\n",
       "    <tr style=\"text-align: right;\">\n",
       "      <th></th>\n",
       "      <th>user_id</th>\n",
       "      <th>source</th>\n",
       "      <th>first_enter</th>\n",
       "    </tr>\n",
       "  </thead>\n",
       "  <tbody>\n",
       "    <tr>\n",
       "      <th>0</th>\n",
       "      <td>0001f83c-c6ac-4621-b7f0-8a28b283ac30</td>\n",
       "      <td>facebook_ads</td>\n",
       "      <td>2020-05-06</td>\n",
       "    </tr>\n",
       "    <tr>\n",
       "      <th>1</th>\n",
       "      <td>00151b4f-ba38-44a8-a650-d7cf130a0105</td>\n",
       "      <td>yandex_direct</td>\n",
       "      <td>2020-05-06</td>\n",
       "    </tr>\n",
       "    <tr>\n",
       "      <th>2</th>\n",
       "      <td>001aaea6-3d14-43f1-8ca8-7f48820f17aa</td>\n",
       "      <td>youtube_channel_reklama</td>\n",
       "      <td>2020-05-05</td>\n",
       "    </tr>\n",
       "    <tr>\n",
       "      <th>3</th>\n",
       "      <td>001d39dc-366c-4021-9604-6a3b9ff01e25</td>\n",
       "      <td>instagram_new_adverts</td>\n",
       "      <td>2020-05-05</td>\n",
       "    </tr>\n",
       "    <tr>\n",
       "      <th>4</th>\n",
       "      <td>002f508f-67b6-479f-814b-b05f00d4e995</td>\n",
       "      <td>facebook_ads</td>\n",
       "      <td>2020-05-05</td>\n",
       "    </tr>\n",
       "  </tbody>\n",
       "</table>\n",
       "</div>"
      ],
      "text/plain": [
       "                                user_id                   source first_enter\n",
       "0  0001f83c-c6ac-4621-b7f0-8a28b283ac30             facebook_ads  2020-05-06\n",
       "1  00151b4f-ba38-44a8-a650-d7cf130a0105            yandex_direct  2020-05-06\n",
       "2  001aaea6-3d14-43f1-8ca8-7f48820f17aa  youtube_channel_reklama  2020-05-05\n",
       "3  001d39dc-366c-4021-9604-6a3b9ff01e25    instagram_new_adverts  2020-05-05\n",
       "4  002f508f-67b6-479f-814b-b05f00d4e995             facebook_ads  2020-05-05"
      ]
     },
     "execution_count": 31,
     "metadata": {},
     "output_type": "execute_result"
    }
   ],
   "source": [
    "first_enter = game.groupby(['user_id'])['date'].min()\n",
    "first_enter.name = 'first_enter'\n",
    "users = users.join(first_enter,on='user_id')\n",
    "users.head()"
   ]
  },
  {
   "cell_type": "markdown",
   "metadata": {},
   "source": [
    "Подсчитаем количество пользователей по каждому источнику рекламы:"
   ]
  },
  {
   "cell_type": "code",
   "execution_count": 32,
   "metadata": {},
   "outputs": [
    {
     "data": {
      "text/html": [
       "<div>\n",
       "<style scoped>\n",
       "    .dataframe tbody tr th:only-of-type {\n",
       "        vertical-align: middle;\n",
       "    }\n",
       "\n",
       "    .dataframe tbody tr th {\n",
       "        vertical-align: top;\n",
       "    }\n",
       "\n",
       "    .dataframe thead th {\n",
       "        text-align: right;\n",
       "    }\n",
       "</style>\n",
       "<table border=\"1\" class=\"dataframe\">\n",
       "  <thead>\n",
       "    <tr style=\"text-align: right;\">\n",
       "      <th></th>\n",
       "      <th>source</th>\n",
       "      <th>users_number</th>\n",
       "    </tr>\n",
       "  </thead>\n",
       "  <tbody>\n",
       "    <tr>\n",
       "      <th>2</th>\n",
       "      <td>yandex_direct</td>\n",
       "      <td>4817</td>\n",
       "    </tr>\n",
       "    <tr>\n",
       "      <th>1</th>\n",
       "      <td>instagram_new_adverts</td>\n",
       "      <td>3347</td>\n",
       "    </tr>\n",
       "    <tr>\n",
       "      <th>0</th>\n",
       "      <td>facebook_ads</td>\n",
       "      <td>2726</td>\n",
       "    </tr>\n",
       "    <tr>\n",
       "      <th>3</th>\n",
       "      <td>youtube_channel_reklama</td>\n",
       "      <td>2686</td>\n",
       "    </tr>\n",
       "  </tbody>\n",
       "</table>\n",
       "</div>"
      ],
      "text/plain": [
       "                    source  users_number\n",
       "2            yandex_direct          4817\n",
       "1    instagram_new_adverts          3347\n",
       "0             facebook_ads          2726\n",
       "3  youtube_channel_reklama          2686"
      ]
     },
     "execution_count": 32,
     "metadata": {},
     "output_type": "execute_result"
    }
   ],
   "source": [
    "users_per_source=users.groupby(['source']).agg({'user_id':'nunique'}).reset_index().sort_values(by='user_id', ascending=False)\n",
    "users_per_source.columns=['source', 'users_number']\n",
    "users_per_source.head()"
   ]
  },
  {
   "cell_type": "code",
   "execution_count": 33,
   "metadata": {},
   "outputs": [
    {
     "data": {
      "image/png": "[encoded data removed]",
      "text/plain": [
       "<Figure size 1080x576 with 1 Axes>"
      ]
     },
     "metadata": {},
     "output_type": "display_data"
    }
   ],
   "source": [
    "sns.set(rc={'figure.figsize':(15,8)})\n",
    "ax = sns.barplot(x='source', y='users_number', data=users_per_source)\n",
    "ax.set_title('Реклама')\n",
    "ax.set_ylabel('Количество пользователей')\n",
    "ax.set_xlabel('Источники трафика')\n",
    "old_ticks, old_labels = plt.xticks()\n",
    "plt.xticks(old_ticks, ['\\n'.join(label.get_text().split()) for label in old_labels], rotation=0)\n",
    "plt.show()"
   ]
  },
  {
   "cell_type": "markdown",
   "metadata": {},
   "source": [
    "Большинство пользователей пришли из yandex_direct."
   ]
  },
  {
   "cell_type": "markdown",
   "metadata": {},
   "source": [
    "### Суммарные траты на рекламу"
   ]
  },
  {
   "cell_type": "code",
   "execution_count": 34,
   "metadata": {},
   "outputs": [
    {
     "name": "stdout",
     "output_type": "stream",
     "text": [
      "Всего трат - 7603.58\n"
     ]
    }
   ],
   "source": [
    "print('Всего трат -', round(costs['cost'].sum(),2))"
   ]
  },
  {
   "cell_type": "markdown",
   "metadata": {},
   "source": [
    "### Сколько стоило привлечение одного покупателя из каждого источника?"
   ]
  },
  {
   "cell_type": "code",
   "execution_count": 35,
   "metadata": {},
   "outputs": [
    {
     "data": {
      "text/html": [
       "<div>\n",
       "<style scoped>\n",
       "    .dataframe tbody tr th:only-of-type {\n",
       "        vertical-align: middle;\n",
       "    }\n",
       "\n",
       "    .dataframe tbody tr th {\n",
       "        vertical-align: top;\n",
       "    }\n",
       "\n",
       "    .dataframe thead th {\n",
       "        text-align: right;\n",
       "    }\n",
       "</style>\n",
       "<table border=\"1\" class=\"dataframe\">\n",
       "  <thead>\n",
       "    <tr style=\"text-align: right;\">\n",
       "      <th></th>\n",
       "      <th>source</th>\n",
       "      <th>cost</th>\n",
       "      <th>users_number</th>\n",
       "      <th>cost_per_user</th>\n",
       "    </tr>\n",
       "  </thead>\n",
       "  <tbody>\n",
       "    <tr>\n",
       "      <th>0</th>\n",
       "      <td>facebook_ads</td>\n",
       "      <td>2140.904643</td>\n",
       "      <td>2726</td>\n",
       "      <td>0.785365</td>\n",
       "    </tr>\n",
       "    <tr>\n",
       "      <th>1</th>\n",
       "      <td>instagram_new_adverts</td>\n",
       "      <td>2161.441691</td>\n",
       "      <td>3347</td>\n",
       "      <td>0.645785</td>\n",
       "    </tr>\n",
       "    <tr>\n",
       "      <th>2</th>\n",
       "      <td>yandex_direct</td>\n",
       "      <td>2233.111449</td>\n",
       "      <td>4817</td>\n",
       "      <td>0.463590</td>\n",
       "    </tr>\n",
       "    <tr>\n",
       "      <th>3</th>\n",
       "      <td>youtube_channel_reklama</td>\n",
       "      <td>1068.119204</td>\n",
       "      <td>2686</td>\n",
       "      <td>0.397662</td>\n",
       "    </tr>\n",
       "  </tbody>\n",
       "</table>\n",
       "</div>"
      ],
      "text/plain": [
       "                    source         cost  users_number  cost_per_user\n",
       "0             facebook_ads  2140.904643          2726       0.785365\n",
       "1    instagram_new_adverts  2161.441691          3347       0.645785\n",
       "2            yandex_direct  2233.111449          4817       0.463590\n",
       "3  youtube_channel_reklama  1068.119204          2686       0.397662"
      ]
     },
     "execution_count": 35,
     "metadata": {},
     "output_type": "execute_result"
    }
   ],
   "source": [
    "# Подсчитаем количество пользователей по дате первого входа в игру и источнику рекламы:\n",
    "users_date_source=users.groupby(['first_enter', 'source']).agg({'user_id': 'nunique'}).reset_index() \n",
    "users_date_source.columns=['first_enter','source', 'users_number']\n",
    "users_date_source.head()\n",
    "# Переведем столбец с датой в соответствующий формат:\n",
    "users_date_source['first_enter'] = users_date_source['first_enter'].astype('datetime64[s]')\n",
    "# Cоздадим дополнительный столбец для выравнивания дат:\n",
    "users_date_source['shifted_date'] = users_date_source['first_enter'] - pd.Timedelta(days=1)\n",
    "# Объединим полученный датасет с данными по затратам:\n",
    "costs = pd.merge(costs, users_date_source,  how='left', left_on=['date','source'], right_on = ['shifted_date','source'])\n",
    "# Сгруппируем данные по источнику рекламы и просуммируем затраты и количество пользователей:\n",
    "costs_source=costs.groupby('source').agg({'cost':'sum', 'users_number':'sum'}).reset_index()\n",
    "# Теперь рассчитаем CAC по рекламному источнику:\n",
    "costs_source['cost_per_user'] = costs_source['cost'] / costs_source['users_number']\n",
    "costs_source"
   ]
  },
  {
   "cell_type": "code",
   "execution_count": 36,
   "metadata": {},
   "outputs": [
    {
     "data": {
      "image/png": "[encoded data removed]",
      "text/plain": [
       "<Figure size 1080x576 with 1 Axes>"
      ]
     },
     "metadata": {},
     "output_type": "display_data"
    }
   ],
   "source": [
    "sns.set(rc={'figure.figsize':(15,8)})\n",
    "ax = sns.barplot(x='source', y='cost_per_user', data=costs_source)\n",
    "ax.set_title('Динамика САС по каналам привлечения')\n",
    "ax.set_ylabel('Стоимость')\n",
    "ax.set_xlabel('Источники')\n",
    "old_ticks, old_labels = plt.xticks()\n",
    "plt.xticks(old_ticks, ['\\n'.join(label.get_text().split()) for label in old_labels], rotation=0)\n",
    "plt.show()"
   ]
  },
  {
   "cell_type": "markdown",
   "metadata": {},
   "source": [
    "Диапазон затрат на привлечение 1 пользователя разнится от 0,40 до 0,79, самым выгодным источником является youtube_channel_reklama."
   ]
  },
  {
   "cell_type": "markdown",
   "metadata": {},
   "source": [
    "### Вывод:"
   ]
  },
  {
   "cell_type": "markdown",
   "metadata": {},
   "source": [
    "- Рекодрное количество игроков в день - 9219, но 11 мая начался резкий спад. Возможно из-за окончания рекламной компании.\n",
    "- Максимальное количетсво событий - 15208, но затем снижается до 5.\n",
    "- В среднем на одного пользователя приходится 9 событий.\n",
    "- Больше всего строят spaceport.\n",
    "- Наименьшее количнество построек наблюдается в группе \"не прошедших первый уровень\".\n",
    "- Суммарные затраты на рекламу составили: 7603.58.\n",
    "- Самым дешевым источником рекламы оказался youtube_channel_reklama.\n",
    "- Больше всего пользователей пришли из yandex_direct."
   ]
  },
  {
   "cell_type": "markdown",
   "metadata": {},
   "source": [
    "## Проверим гипотезы"
   ]
  },
  {
   "cell_type": "markdown",
   "metadata": {},
   "source": [
    "### Различие времени прохождения уровня между пользователями, которые заканчивают уровень через реализацию проекта, и пользователями, которые заканчивают уровень победой над другим игроком"
   ]
  },
  {
   "cell_type": "markdown",
   "metadata": {},
   "source": [
    "Выведем в отдельную колонку разницу во времени с момента начала игры и до момента прохождения 1го уровня.\n",
    "\n",
    "для этого расчитаем время:"
   ]
  },
  {
   "cell_type": "code",
   "execution_count": 37,
   "metadata": {},
   "outputs": [
    {
     "name": "stderr",
     "output_type": "stream",
     "text": [
      "/opt/conda/lib/python3.9/site-packages/seaborn/distributions.py:2557: FutureWarning: `distplot` is a deprecated function and will be removed in a future version. Please adapt your code to use either `displot` (a figure-level function with similar flexibility) or `histplot` (an axes-level function for histograms).\n",
      "  warnings.warn(msg, FutureWarning)\n"
     ]
    },
    {
     "data": {
      "image/png": "[encoded data removed]",
      "text/plain": [
       "<Figure size 1080x576 with 1 Axes>"
      ]
     },
     "metadata": {},
     "output_type": "display_data"
    }
   ],
   "source": [
    "user_filter = game[game['project_type'] != 'not_finish_game']['user_id']\n",
    "level_time = (game\n",
    "              .query('user_id in @user_filter')\n",
    "              .groupby('user_id')\n",
    "              .agg({'event_datetime':['min','max']}))\n",
    "level_time['level_time'] = level_time[('event_datetime', 'max')] - level_time[('event_datetime', 'min')]\n",
    "level_time.columns = level_time.columns.droplevel(1)\n",
    "level_time = level_time.reset_index().sort_values(by='level_time')\n",
    "level_time.head()\n",
    "level_time['level_time_h'] = level_time['level_time'] / np.timedelta64(1, 'h')\n",
    "sns.distplot(level_time['level_time_h'])\n",
    "plt.show()"
   ]
  },
  {
   "cell_type": "code",
   "execution_count": 38,
   "metadata": {},
   "outputs": [
    {
     "data": {
      "text/plain": [
       "210     123.374167\n",
       "228     127.371111\n",
       "274     134.270278\n",
       "276     134.403889\n",
       "314     139.484722\n",
       "           ...    \n",
       "5802    646.824167\n",
       "5806    661.009444\n",
       "5807    687.631944\n",
       "5808    689.624444\n",
       "5811    699.228611\n",
       "Name: level_time_h, Length: 1866, dtype: float64"
      ]
     },
     "metadata": {},
     "output_type": "display_data"
    },
    {
     "data": {
      "text/plain": [
       "0         9.650278\n",
       "1        19.568889\n",
       "2        19.734444\n",
       "3        22.623333\n",
       "4        24.302222\n",
       "           ...    \n",
       "5812    702.478333\n",
       "5813    727.772500\n",
       "5814    729.606667\n",
       "5815    741.203611\n",
       "5816    741.981389\n",
       "Name: level_time_h, Length: 3951, dtype: float64"
      ]
     },
     "execution_count": 38,
     "metadata": {},
     "output_type": "execute_result"
    }
   ],
   "source": [
    "# получим пользователей одержавших победу\n",
    "user_finish = game[(game['project_type'] != 'not_finish_game')][['user_id', 'project_type']]\n",
    "# получим пользователей одержавших победу через строительство\n",
    "user_project = game[game['project_type'] == 'satellite_orbital_assembly'][['user_id', 'project_type']]\n",
    "# получим пользователей одержавших победу над игроком\n",
    "user_fight = user_finish[~user_finish.isin(user_project['user_id'].unique())].dropna()\n",
    "# добавим данные c бойцами и строителями к таблице\n",
    "level_passing_time_project = level_time[['user_id', 'level_time_h']].merge(user_project, how='left', on='user_id').dropna()\n",
    "level_passing_time_user_fight = level_time[['user_id', 'level_time_h']].merge(user_fight, how='left', on='user_id').dropna()\n",
    "# разделим таблицу на 2 по типу проекта\n",
    "victory_over_enemy = level_passing_time_user_fight['level_time_h']\n",
    "satellite_orbital_assembly = level_passing_time_project['level_time_h']\n",
    "display(satellite_orbital_assembly)\n",
    "victory_over_enemy"
   ]
  },
  {
   "cell_type": "markdown",
   "metadata": {},
   "source": [
    "<div class=\"alert alert-info\"> <b>Комментарий студента:</b> Для ревью: </div>"
   ]
  },
  {
   "cell_type": "markdown",
   "metadata": {},
   "source": [
    "Воспользуемся T-тестом для разности двух средних.\n",
    "\n",
    "H0: Время прохождения одинаково\n",
    "\n",
    "H1: Время прохождения различно"
   ]
  },
  {
   "cell_type": "code",
   "execution_count": 39,
   "metadata": {},
   "outputs": [
    {
     "name": "stdout",
     "output_type": "stream",
     "text": [
      "p-значение: 7.256845329495443e-98\n",
      "Отвергаем нулевую гипотезу\n",
      "\n",
      "Среднее значения времени прохождения уровня \n",
      "PvP - 266.51\n",
      "Строительство орбитальнойстанции - 323.01\n",
      "Разница - 56.51\n"
     ]
    }
   ],
   "source": [
    " #задаем уровень статистической значимости\n",
    "alpha = .05\n",
    "\n",
    "results = st.ttest_ind(\n",
    "    satellite_orbital_assembly, \n",
    "    victory_over_enemy)\n",
    "\n",
    "print('p-значение:', results.pvalue)\n",
    "\n",
    "if (results.pvalue < alpha):\n",
    "    print(\"Отвергаем нулевую гипотезу\")\n",
    "else:\n",
    "    print(\"Не получилось отвергнуть нулевую гипотезу\")\n",
    "\n",
    "print('\\nСреднее значения времени прохождения уровня \\nPvP - {}\\nСтроительство орбитальнойстанции - {}\\nРазница - {}'\n",
    "      .format(level_passing_time_user_fight['level_time_h'].mean().round(2),\n",
    "              level_passing_time_project['level_time_h'].mean().round(2),\n",
    "              (level_passing_time_project['level_time_h'].mean() -\n",
    "              level_passing_time_user_fight['level_time_h'].mean()).round(2)))"
   ]
  },
  {
   "cell_type": "markdown",
   "metadata": {},
   "source": [
    "Скорость прохождения уровня зависит от способа/"
   ]
  },
  {
   "cell_type": "markdown",
   "metadata": {},
   "source": [
    "### Динамика строительства зданий у клиентов с вероятностью ухода и в среднем по остальной выборке"
   ]
  },
  {
   "cell_type": "markdown",
   "metadata": {},
   "source": [
    "Для проверки этой гипотезы нужно сперва обозначить пользователей, которые с большой долей вероятности прекратят пользоваться игрой."
   ]
  },
  {
   "cell_type": "markdown",
   "metadata": {},
   "source": [
    "Основной активностью в игре является постройка зданий. Сперва сгруппируем данные по когорте first_enter и дате постройки зданий session_date:"
   ]
  },
  {
   "cell_type": "code",
   "execution_count": 40,
   "metadata": {},
   "outputs": [],
   "source": [
    "events = game.join(first_enter,on='user_id')"
   ]
  },
  {
   "cell_type": "code",
   "execution_count": 41,
   "metadata": {},
   "outputs": [
    {
     "data": {
      "text/html": [
       "<div>\n",
       "<style scoped>\n",
       "    .dataframe tbody tr th:only-of-type {\n",
       "        vertical-align: middle;\n",
       "    }\n",
       "\n",
       "    .dataframe tbody tr th {\n",
       "        vertical-align: top;\n",
       "    }\n",
       "\n",
       "    .dataframe thead th {\n",
       "        text-align: right;\n",
       "    }\n",
       "</style>\n",
       "<table border=\"1\" class=\"dataframe\">\n",
       "  <thead>\n",
       "    <tr style=\"text-align: right;\">\n",
       "      <th></th>\n",
       "      <th>first_enter</th>\n",
       "      <th>date</th>\n",
       "      <th>users_number</th>\n",
       "      <th>events_number</th>\n",
       "      <th>buildings_per_user</th>\n",
       "    </tr>\n",
       "  </thead>\n",
       "  <tbody>\n",
       "    <tr>\n",
       "      <th>0</th>\n",
       "      <td>2020-05-04</td>\n",
       "      <td>2020-05-04</td>\n",
       "      <td>5860</td>\n",
       "      <td>8170</td>\n",
       "      <td>1.394198</td>\n",
       "    </tr>\n",
       "    <tr>\n",
       "      <th>1</th>\n",
       "      <td>2020-05-04</td>\n",
       "      <td>2020-05-05</td>\n",
       "      <td>3020</td>\n",
       "      <td>4332</td>\n",
       "      <td>1.434437</td>\n",
       "    </tr>\n",
       "    <tr>\n",
       "      <th>2</th>\n",
       "      <td>2020-05-04</td>\n",
       "      <td>2020-05-06</td>\n",
       "      <td>3203</td>\n",
       "      <td>4709</td>\n",
       "      <td>1.470184</td>\n",
       "    </tr>\n",
       "    <tr>\n",
       "      <th>3</th>\n",
       "      <td>2020-05-04</td>\n",
       "      <td>2020-05-07</td>\n",
       "      <td>3411</td>\n",
       "      <td>5075</td>\n",
       "      <td>1.487833</td>\n",
       "    </tr>\n",
       "    <tr>\n",
       "      <th>4</th>\n",
       "      <td>2020-05-04</td>\n",
       "      <td>2020-05-08</td>\n",
       "      <td>3557</td>\n",
       "      <td>5640</td>\n",
       "      <td>1.585606</td>\n",
       "    </tr>\n",
       "  </tbody>\n",
       "</table>\n",
       "</div>"
      ],
      "text/plain": [
       "  first_enter       date  users_number  events_number  buildings_per_user\n",
       "0  2020-05-04 2020-05-04          5860           8170            1.394198\n",
       "1  2020-05-04 2020-05-05          3020           4332            1.434437\n",
       "2  2020-05-04 2020-05-06          3203           4709            1.470184\n",
       "3  2020-05-04 2020-05-07          3411           5075            1.487833\n",
       "4  2020-05-04 2020-05-08          3557           5640            1.585606"
      ]
     },
     "execution_count": 41,
     "metadata": {},
     "output_type": "execute_result"
    }
   ],
   "source": [
    "buildings_grouped_by_cohorts = events.query('event==\"building\"').groupby(\n",
    "    ['first_enter', 'date']\n",
    ").agg({'user_id': 'nunique', 'event': 'count'}).reset_index()\n",
    "buildings_grouped_by_cohorts.columns=['first_enter', 'date','users_number', 'events_number']\n",
    "# Определим среднее количество построек у одного пользователя \n",
    "buildings_grouped_by_cohorts['buildings_per_user'] = (\n",
    "    buildings_grouped_by_cohorts['events_number']\n",
    "    / buildings_grouped_by_cohorts['users_number']\n",
    ")\n",
    "buildings_grouped_by_cohorts.head()"
   ]
  },
  {
   "cell_type": "markdown",
   "metadata": {},
   "source": [
    "Найдём lifetime когорты. Из даты постройки здания date вычтем дату когорты first_enter:"
   ]
  },
  {
   "cell_type": "code",
   "execution_count": 42,
   "metadata": {},
   "outputs": [
    {
     "data": {
      "text/html": [
       "<div>\n",
       "<style scoped>\n",
       "    .dataframe tbody tr th:only-of-type {\n",
       "        vertical-align: middle;\n",
       "    }\n",
       "\n",
       "    .dataframe tbody tr th {\n",
       "        vertical-align: top;\n",
       "    }\n",
       "\n",
       "    .dataframe thead th {\n",
       "        text-align: right;\n",
       "    }\n",
       "</style>\n",
       "<table border=\"1\" class=\"dataframe\">\n",
       "  <thead>\n",
       "    <tr style=\"text-align: right;\">\n",
       "      <th></th>\n",
       "      <th>first_enter</th>\n",
       "      <th>date</th>\n",
       "      <th>users_number</th>\n",
       "      <th>events_number</th>\n",
       "      <th>buildings_per_user</th>\n",
       "      <th>cohort_lifetime</th>\n",
       "    </tr>\n",
       "  </thead>\n",
       "  <tbody>\n",
       "    <tr>\n",
       "      <th>0</th>\n",
       "      <td>2020-05-04</td>\n",
       "      <td>2020-05-04</td>\n",
       "      <td>5860</td>\n",
       "      <td>8170</td>\n",
       "      <td>1.394198</td>\n",
       "      <td>0</td>\n",
       "    </tr>\n",
       "    <tr>\n",
       "      <th>1</th>\n",
       "      <td>2020-05-04</td>\n",
       "      <td>2020-05-05</td>\n",
       "      <td>3020</td>\n",
       "      <td>4332</td>\n",
       "      <td>1.434437</td>\n",
       "      <td>1</td>\n",
       "    </tr>\n",
       "    <tr>\n",
       "      <th>2</th>\n",
       "      <td>2020-05-04</td>\n",
       "      <td>2020-05-06</td>\n",
       "      <td>3203</td>\n",
       "      <td>4709</td>\n",
       "      <td>1.470184</td>\n",
       "      <td>2</td>\n",
       "    </tr>\n",
       "    <tr>\n",
       "      <th>3</th>\n",
       "      <td>2020-05-04</td>\n",
       "      <td>2020-05-07</td>\n",
       "      <td>3411</td>\n",
       "      <td>5075</td>\n",
       "      <td>1.487833</td>\n",
       "      <td>3</td>\n",
       "    </tr>\n",
       "    <tr>\n",
       "      <th>4</th>\n",
       "      <td>2020-05-04</td>\n",
       "      <td>2020-05-08</td>\n",
       "      <td>3557</td>\n",
       "      <td>5640</td>\n",
       "      <td>1.585606</td>\n",
       "      <td>4</td>\n",
       "    </tr>\n",
       "  </tbody>\n",
       "</table>\n",
       "</div>"
      ],
      "text/plain": [
       "  first_enter       date  users_number  events_number  buildings_per_user  \\\n",
       "0  2020-05-04 2020-05-04          5860           8170            1.394198   \n",
       "1  2020-05-04 2020-05-05          3020           4332            1.434437   \n",
       "2  2020-05-04 2020-05-06          3203           4709            1.470184   \n",
       "3  2020-05-04 2020-05-07          3411           5075            1.487833   \n",
       "4  2020-05-04 2020-05-08          3557           5640            1.585606   \n",
       "\n",
       "   cohort_lifetime  \n",
       "0                0  \n",
       "1                1  \n",
       "2                2  \n",
       "3                3  \n",
       "4                4  "
      ]
     },
     "execution_count": 42,
     "metadata": {},
     "output_type": "execute_result"
    }
   ],
   "source": [
    "buildings_grouped_by_cohorts = buildings_grouped_by_cohorts\n",
    "buildings_grouped_by_cohorts['cohort_lifetime'] = (\n",
    "    (buildings_grouped_by_cohorts['date']\n",
    "    - buildings_grouped_by_cohorts['first_enter'])/ np.timedelta64(1, 'D')\n",
    ")\n",
    "buildings_grouped_by_cohorts['cohort_lifetime'] = buildings_grouped_by_cohorts['cohort_lifetime'].round().astype('int')\n",
    "buildings_grouped_by_cohorts.head()"
   ]
  },
  {
   "cell_type": "markdown",
   "metadata": {},
   "source": [
    "Построим сводную таблицу изменения среднего количества построенных зданий, где в столбцах будет lifetime, а строках — когорты:"
   ]
  },
  {
   "cell_type": "code",
   "execution_count": 43,
   "metadata": {},
   "outputs": [
    {
     "data": {
      "text/html": [
       "<div>\n",
       "<style scoped>\n",
       "    .dataframe tbody tr th:only-of-type {\n",
       "        vertical-align: middle;\n",
       "    }\n",
       "\n",
       "    .dataframe tbody tr th {\n",
       "        vertical-align: top;\n",
       "    }\n",
       "\n",
       "    .dataframe thead th {\n",
       "        text-align: right;\n",
       "    }\n",
       "</style>\n",
       "<table border=\"1\" class=\"dataframe\">\n",
       "  <thead>\n",
       "    <tr style=\"text-align: right;\">\n",
       "      <th>cohort_lifetime</th>\n",
       "      <th>0</th>\n",
       "      <th>1</th>\n",
       "      <th>2</th>\n",
       "      <th>3</th>\n",
       "      <th>4</th>\n",
       "      <th>5</th>\n",
       "      <th>6</th>\n",
       "      <th>7</th>\n",
       "      <th>8</th>\n",
       "      <th>9</th>\n",
       "      <th>...</th>\n",
       "      <th>22</th>\n",
       "      <th>23</th>\n",
       "      <th>24</th>\n",
       "      <th>25</th>\n",
       "      <th>26</th>\n",
       "      <th>27</th>\n",
       "      <th>28</th>\n",
       "      <th>29</th>\n",
       "      <th>30</th>\n",
       "      <th>31</th>\n",
       "    </tr>\n",
       "    <tr>\n",
       "      <th>first_enter</th>\n",
       "      <th></th>\n",
       "      <th></th>\n",
       "      <th></th>\n",
       "      <th></th>\n",
       "      <th></th>\n",
       "      <th></th>\n",
       "      <th></th>\n",
       "      <th></th>\n",
       "      <th></th>\n",
       "      <th></th>\n",
       "      <th></th>\n",
       "      <th></th>\n",
       "      <th></th>\n",
       "      <th></th>\n",
       "      <th></th>\n",
       "      <th></th>\n",
       "      <th></th>\n",
       "      <th></th>\n",
       "      <th></th>\n",
       "      <th></th>\n",
       "      <th></th>\n",
       "    </tr>\n",
       "  </thead>\n",
       "  <tbody>\n",
       "    <tr>\n",
       "      <th>2020-05-04</th>\n",
       "      <td>1.394198</td>\n",
       "      <td>1.434437</td>\n",
       "      <td>1.470184</td>\n",
       "      <td>1.487833</td>\n",
       "      <td>1.585606</td>\n",
       "      <td>1.617254</td>\n",
       "      <td>1.688544</td>\n",
       "      <td>1.382543</td>\n",
       "      <td>1.357322</td>\n",
       "      <td>1.310592</td>\n",
       "      <td>...</td>\n",
       "      <td>1.142857</td>\n",
       "      <td>1.095238</td>\n",
       "      <td>1.058824</td>\n",
       "      <td>1.375</td>\n",
       "      <td>1.25</td>\n",
       "      <td>1.0</td>\n",
       "      <td>1.0</td>\n",
       "      <td>NaN</td>\n",
       "      <td>1.0</td>\n",
       "      <td>1.0</td>\n",
       "    </tr>\n",
       "    <tr>\n",
       "      <th>2020-05-05</th>\n",
       "      <td>1.404344</td>\n",
       "      <td>1.479201</td>\n",
       "      <td>1.480547</td>\n",
       "      <td>1.522141</td>\n",
       "      <td>1.564767</td>\n",
       "      <td>1.653461</td>\n",
       "      <td>1.357834</td>\n",
       "      <td>1.357481</td>\n",
       "      <td>1.337662</td>\n",
       "      <td>1.280067</td>\n",
       "      <td>...</td>\n",
       "      <td>1.062500</td>\n",
       "      <td>1.083333</td>\n",
       "      <td>1.000000</td>\n",
       "      <td>1.200</td>\n",
       "      <td>1.00</td>\n",
       "      <td>1.0</td>\n",
       "      <td>1.0</td>\n",
       "      <td>NaN</td>\n",
       "      <td>NaN</td>\n",
       "      <td>NaN</td>\n",
       "    </tr>\n",
       "    <tr>\n",
       "      <th>2020-05-06</th>\n",
       "      <td>1.377910</td>\n",
       "      <td>1.478125</td>\n",
       "      <td>1.485236</td>\n",
       "      <td>1.531839</td>\n",
       "      <td>1.680624</td>\n",
       "      <td>1.324873</td>\n",
       "      <td>1.360149</td>\n",
       "      <td>1.323037</td>\n",
       "      <td>1.317972</td>\n",
       "      <td>1.278571</td>\n",
       "      <td>...</td>\n",
       "      <td>1.000000</td>\n",
       "      <td>1.000000</td>\n",
       "      <td>1.250000</td>\n",
       "      <td>1.500</td>\n",
       "      <td>1.00</td>\n",
       "      <td>1.0</td>\n",
       "      <td>1.0</td>\n",
       "      <td>NaN</td>\n",
       "      <td>1.0</td>\n",
       "      <td>NaN</td>\n",
       "    </tr>\n",
       "    <tr>\n",
       "      <th>2020-05-07</th>\n",
       "      <td>1.385933</td>\n",
       "      <td>1.486631</td>\n",
       "      <td>1.530278</td>\n",
       "      <td>1.552870</td>\n",
       "      <td>1.276850</td>\n",
       "      <td>1.294785</td>\n",
       "      <td>1.328685</td>\n",
       "      <td>1.334129</td>\n",
       "      <td>1.301724</td>\n",
       "      <td>1.253333</td>\n",
       "      <td>...</td>\n",
       "      <td>1.285714</td>\n",
       "      <td>1.400000</td>\n",
       "      <td>1.000000</td>\n",
       "      <td>1.000</td>\n",
       "      <td>1.00</td>\n",
       "      <td>1.0</td>\n",
       "      <td>1.0</td>\n",
       "      <td>1.0</td>\n",
       "      <td>NaN</td>\n",
       "      <td>NaN</td>\n",
       "    </tr>\n",
       "    <tr>\n",
       "      <th>2020-05-08</th>\n",
       "      <td>1.335756</td>\n",
       "      <td>1.432024</td>\n",
       "      <td>1.478378</td>\n",
       "      <td>1.256410</td>\n",
       "      <td>1.232558</td>\n",
       "      <td>1.255319</td>\n",
       "      <td>1.387205</td>\n",
       "      <td>1.283401</td>\n",
       "      <td>1.254335</td>\n",
       "      <td>1.256158</td>\n",
       "      <td>...</td>\n",
       "      <td>1.000000</td>\n",
       "      <td>1.500000</td>\n",
       "      <td>1.000000</td>\n",
       "      <td>NaN</td>\n",
       "      <td>1.00</td>\n",
       "      <td>NaN</td>\n",
       "      <td>NaN</td>\n",
       "      <td>NaN</td>\n",
       "      <td>NaN</td>\n",
       "      <td>NaN</td>\n",
       "    </tr>\n",
       "  </tbody>\n",
       "</table>\n",
       "<p>5 rows × 32 columns</p>\n",
       "</div>"
      ],
      "text/plain": [
       "cohort_lifetime        0         1         2         3         4         5   \\\n",
       "first_enter                                                                   \n",
       "2020-05-04       1.394198  1.434437  1.470184  1.487833  1.585606  1.617254   \n",
       "2020-05-05       1.404344  1.479201  1.480547  1.522141  1.564767  1.653461   \n",
       "2020-05-06       1.377910  1.478125  1.485236  1.531839  1.680624  1.324873   \n",
       "2020-05-07       1.385933  1.486631  1.530278  1.552870  1.276850  1.294785   \n",
       "2020-05-08       1.335756  1.432024  1.478378  1.256410  1.232558  1.255319   \n",
       "\n",
       "cohort_lifetime        6         7         8         9   ...        22  \\\n",
       "first_enter                                              ...             \n",
       "2020-05-04       1.688544  1.382543  1.357322  1.310592  ...  1.142857   \n",
       "2020-05-05       1.357834  1.357481  1.337662  1.280067  ...  1.062500   \n",
       "2020-05-06       1.360149  1.323037  1.317972  1.278571  ...  1.000000   \n",
       "2020-05-07       1.328685  1.334129  1.301724  1.253333  ...  1.285714   \n",
       "2020-05-08       1.387205  1.283401  1.254335  1.256158  ...  1.000000   \n",
       "\n",
       "cohort_lifetime        23        24     25    26   27   28   29   30   31  \n",
       "first_enter                                                                \n",
       "2020-05-04       1.095238  1.058824  1.375  1.25  1.0  1.0  NaN  1.0  1.0  \n",
       "2020-05-05       1.083333  1.000000  1.200  1.00  1.0  1.0  NaN  NaN  NaN  \n",
       "2020-05-06       1.000000  1.250000  1.500  1.00  1.0  1.0  NaN  1.0  NaN  \n",
       "2020-05-07       1.400000  1.000000  1.000  1.00  1.0  1.0  1.0  NaN  NaN  \n",
       "2020-05-08       1.500000  1.000000    NaN  1.00  NaN  NaN  NaN  NaN  NaN  \n",
       "\n",
       "[5 rows x 32 columns]"
      ]
     },
     "execution_count": 43,
     "metadata": {},
     "output_type": "execute_result"
    }
   ],
   "source": [
    "buildings_per_user_pivot = buildings_grouped_by_cohorts.pivot_table(\n",
    "    index='first_enter',\n",
    "    columns='cohort_lifetime',\n",
    "    values='buildings_per_user',\n",
    "    aggfunc='mean',\n",
    ")\n",
    "buildings_per_user_pivot.head()"
   ]
  },
  {
   "cell_type": "code",
   "execution_count": 44,
   "metadata": {},
   "outputs": [
    {
     "data": {
      "image/png": "[encoded data removed]",
      "text/plain": [
       "<Figure size 1728x720 with 2 Axes>"
      ]
     },
     "metadata": {},
     "output_type": "display_data"
    }
   ],
   "source": [
    "sns.set(style='dark')\n",
    "plt.figure(figsize=(24, 10))\n",
    "plt.title('Когорты: Среднее количество зданий', size=14)\n",
    "ax=sns.heatmap(buildings_per_user_pivot, annot=True, fmt='.1f', linewidths=.01, linecolor='gray', cmap=\"viridis\")\n",
    "ax.set_ylabel('День когорты')\n",
    "ax.set_xlabel('День жизни когорты')\n",
    "plt.show()"
   ]
  },
  {
   "cell_type": "markdown",
   "metadata": {},
   "source": [
    "Максимальное среднее количество простроенных зданий в день - 1,7."
   ]
  },
  {
   "cell_type": "markdown",
   "metadata": {},
   "source": [
    "Добавим признак churn по пользователям у которых с даты последнего события прошло от 3 недель и проверим гипотезу."
   ]
  },
  {
   "cell_type": "markdown",
   "metadata": {},
   "source": [
    "Найдем последнее событие по каждому пользователю:"
   ]
  },
  {
   "cell_type": "code",
   "execution_count": 45,
   "metadata": {},
   "outputs": [
    {
     "data": {
      "text/html": [
       "<div>\n",
       "<style scoped>\n",
       "    .dataframe tbody tr th:only-of-type {\n",
       "        vertical-align: middle;\n",
       "    }\n",
       "\n",
       "    .dataframe tbody tr th {\n",
       "        vertical-align: top;\n",
       "    }\n",
       "\n",
       "    .dataframe thead th {\n",
       "        text-align: right;\n",
       "    }\n",
       "</style>\n",
       "<table border=\"1\" class=\"dataframe\">\n",
       "  <thead>\n",
       "    <tr style=\"text-align: right;\">\n",
       "      <th></th>\n",
       "      <th>user_id</th>\n",
       "      <th>last_enter</th>\n",
       "      <th>na_days</th>\n",
       "    </tr>\n",
       "  </thead>\n",
       "  <tbody>\n",
       "    <tr>\n",
       "      <th>0</th>\n",
       "      <td>0001f83c-c6ac-4621-b7f0-8a28b283ac30</td>\n",
       "      <td>2020-05-20</td>\n",
       "      <td>16</td>\n",
       "    </tr>\n",
       "    <tr>\n",
       "      <th>1</th>\n",
       "      <td>00151b4f-ba38-44a8-a650-d7cf130a0105</td>\n",
       "      <td>2020-05-18</td>\n",
       "      <td>18</td>\n",
       "    </tr>\n",
       "    <tr>\n",
       "      <th>2</th>\n",
       "      <td>001aaea6-3d14-43f1-8ca8-7f48820f17aa</td>\n",
       "      <td>2020-05-14</td>\n",
       "      <td>22</td>\n",
       "    </tr>\n",
       "    <tr>\n",
       "      <th>3</th>\n",
       "      <td>001d39dc-366c-4021-9604-6a3b9ff01e25</td>\n",
       "      <td>2020-05-12</td>\n",
       "      <td>24</td>\n",
       "    </tr>\n",
       "    <tr>\n",
       "      <th>4</th>\n",
       "      <td>002f508f-67b6-479f-814b-b05f00d4e995</td>\n",
       "      <td>2020-05-22</td>\n",
       "      <td>14</td>\n",
       "    </tr>\n",
       "  </tbody>\n",
       "</table>\n",
       "</div>"
      ],
      "text/plain": [
       "                                user_id last_enter  na_days\n",
       "0  0001f83c-c6ac-4621-b7f0-8a28b283ac30 2020-05-20       16\n",
       "1  00151b4f-ba38-44a8-a650-d7cf130a0105 2020-05-18       18\n",
       "2  001aaea6-3d14-43f1-8ca8-7f48820f17aa 2020-05-14       22\n",
       "3  001d39dc-366c-4021-9604-6a3b9ff01e25 2020-05-12       24\n",
       "4  002f508f-67b6-479f-814b-b05f00d4e995 2020-05-22       14"
      ]
     },
     "execution_count": 45,
     "metadata": {},
     "output_type": "execute_result"
    }
   ],
   "source": [
    "last_enter = game.groupby(['user_id'])['date'].max()\n",
    "last_enter.name = 'last_enter'\n",
    "last_enter=last_enter.to_frame().reset_index()\n",
    "last_enter['na_days']=events['date'].max()-last_enter['last_enter']\n",
    "last_enter['na_days']=last_enter['na_days'].dt.days\n",
    "last_enter.head()"
   ]
  },
  {
   "cell_type": "markdown",
   "metadata": {},
   "source": [
    "Добавим колонку Churn"
   ]
  },
  {
   "cell_type": "code",
   "execution_count": 46,
   "metadata": {},
   "outputs": [],
   "source": [
    "def churn_flag(row):\n",
    "    if row['na_days']>= 21:\n",
    "        return 1\n",
    "    return 0\n",
    "last_enter['churn'] = last_enter.apply(churn_flag, axis=1)"
   ]
  },
  {
   "cell_type": "code",
   "execution_count": 47,
   "metadata": {},
   "outputs": [
    {
     "data": {
      "text/html": [
       "<div>\n",
       "<style scoped>\n",
       "    .dataframe tbody tr th:only-of-type {\n",
       "        vertical-align: middle;\n",
       "    }\n",
       "\n",
       "    .dataframe tbody tr th {\n",
       "        vertical-align: top;\n",
       "    }\n",
       "\n",
       "    .dataframe thead th {\n",
       "        text-align: right;\n",
       "    }\n",
       "</style>\n",
       "<table border=\"1\" class=\"dataframe\">\n",
       "  <thead>\n",
       "    <tr style=\"text-align: right;\">\n",
       "      <th></th>\n",
       "      <th>event_datetime</th>\n",
       "      <th>event</th>\n",
       "      <th>building_type</th>\n",
       "      <th>user_id</th>\n",
       "      <th>project_type</th>\n",
       "      <th>date</th>\n",
       "      <th>day</th>\n",
       "      <th>first_enter</th>\n",
       "      <th>last_enter</th>\n",
       "      <th>na_days</th>\n",
       "      <th>churn</th>\n",
       "    </tr>\n",
       "  </thead>\n",
       "  <tbody>\n",
       "    <tr>\n",
       "      <th>0</th>\n",
       "      <td>2020-05-04 00:00:01</td>\n",
       "      <td>building</td>\n",
       "      <td>assembly_shop</td>\n",
       "      <td>55e92310-cb8e-4754-b622-597e124b03de</td>\n",
       "      <td>not_finish_game</td>\n",
       "      <td>2020-05-04</td>\n",
       "      <td>1970-01-01 00:00:00.000000004</td>\n",
       "      <td>2020-05-04</td>\n",
       "      <td>2020-05-10</td>\n",
       "      <td>26</td>\n",
       "      <td>1</td>\n",
       "    </tr>\n",
       "    <tr>\n",
       "      <th>1</th>\n",
       "      <td>2020-05-05 05:20:15</td>\n",
       "      <td>building</td>\n",
       "      <td>assembly_shop</td>\n",
       "      <td>55e92310-cb8e-4754-b622-597e124b03de</td>\n",
       "      <td>not_finish_game</td>\n",
       "      <td>2020-05-05</td>\n",
       "      <td>1970-01-01 00:00:00.000000005</td>\n",
       "      <td>2020-05-04</td>\n",
       "      <td>2020-05-10</td>\n",
       "      <td>26</td>\n",
       "      <td>1</td>\n",
       "    </tr>\n",
       "    <tr>\n",
       "      <th>2</th>\n",
       "      <td>2020-05-05 19:24:02</td>\n",
       "      <td>building</td>\n",
       "      <td>assembly_shop</td>\n",
       "      <td>55e92310-cb8e-4754-b622-597e124b03de</td>\n",
       "      <td>not_finish_game</td>\n",
       "      <td>2020-05-05</td>\n",
       "      <td>1970-01-01 00:00:00.000000005</td>\n",
       "      <td>2020-05-04</td>\n",
       "      <td>2020-05-10</td>\n",
       "      <td>26</td>\n",
       "      <td>1</td>\n",
       "    </tr>\n",
       "    <tr>\n",
       "      <th>3</th>\n",
       "      <td>2020-05-05 20:59:19</td>\n",
       "      <td>building</td>\n",
       "      <td>assembly_shop</td>\n",
       "      <td>55e92310-cb8e-4754-b622-597e124b03de</td>\n",
       "      <td>not_finish_game</td>\n",
       "      <td>2020-05-05</td>\n",
       "      <td>1970-01-01 00:00:00.000000005</td>\n",
       "      <td>2020-05-04</td>\n",
       "      <td>2020-05-10</td>\n",
       "      <td>26</td>\n",
       "      <td>1</td>\n",
       "    </tr>\n",
       "    <tr>\n",
       "      <th>4</th>\n",
       "      <td>2020-05-06 00:52:56</td>\n",
       "      <td>building</td>\n",
       "      <td>assembly_shop</td>\n",
       "      <td>55e92310-cb8e-4754-b622-597e124b03de</td>\n",
       "      <td>not_finish_game</td>\n",
       "      <td>2020-05-06</td>\n",
       "      <td>1970-01-01 00:00:00.000000006</td>\n",
       "      <td>2020-05-04</td>\n",
       "      <td>2020-05-10</td>\n",
       "      <td>26</td>\n",
       "      <td>1</td>\n",
       "    </tr>\n",
       "  </tbody>\n",
       "</table>\n",
       "</div>"
      ],
      "text/plain": [
       "       event_datetime     event  building_type  \\\n",
       "0 2020-05-04 00:00:01  building  assembly_shop   \n",
       "1 2020-05-05 05:20:15  building  assembly_shop   \n",
       "2 2020-05-05 19:24:02  building  assembly_shop   \n",
       "3 2020-05-05 20:59:19  building  assembly_shop   \n",
       "4 2020-05-06 00:52:56  building  assembly_shop   \n",
       "\n",
       "                                user_id     project_type       date  \\\n",
       "0  55e92310-cb8e-4754-b622-597e124b03de  not_finish_game 2020-05-04   \n",
       "1  55e92310-cb8e-4754-b622-597e124b03de  not_finish_game 2020-05-05   \n",
       "2  55e92310-cb8e-4754-b622-597e124b03de  not_finish_game 2020-05-05   \n",
       "3  55e92310-cb8e-4754-b622-597e124b03de  not_finish_game 2020-05-05   \n",
       "4  55e92310-cb8e-4754-b622-597e124b03de  not_finish_game 2020-05-06   \n",
       "\n",
       "                            day first_enter last_enter  na_days  churn  \n",
       "0 1970-01-01 00:00:00.000000004  2020-05-04 2020-05-10       26      1  \n",
       "1 1970-01-01 00:00:00.000000005  2020-05-04 2020-05-10       26      1  \n",
       "2 1970-01-01 00:00:00.000000005  2020-05-04 2020-05-10       26      1  \n",
       "3 1970-01-01 00:00:00.000000005  2020-05-04 2020-05-10       26      1  \n",
       "4 1970-01-01 00:00:00.000000006  2020-05-04 2020-05-10       26      1  "
      ]
     },
     "execution_count": 47,
     "metadata": {},
     "output_type": "execute_result"
    }
   ],
   "source": [
    "events = events.merge(last_enter,on='user_id')\n",
    "events.head()"
   ]
  },
  {
   "cell_type": "markdown",
   "metadata": {},
   "source": [
    "Воспользуемся T-тестом для разности двух средних.\n",
    "\n",
    "H0: Динамика строительства зданий у клиентов с вероятностью ухода и в среднем по выборке одинакова\n",
    "\n",
    "H1: Динамика строительства зданий у клиентов с вероятностью ухода и в среднем по выборке различна"
   ]
  },
  {
   "cell_type": "code",
   "execution_count": 48,
   "metadata": {},
   "outputs": [
    {
     "name": "stdout",
     "output_type": "stream",
     "text": [
      "p-значение: 0.0\n",
      "Отвергаем нулевую гипотезу\n"
     ]
    }
   ],
   "source": [
    "alpha = .05 # критический уровень статистической значимости\n",
    "            # если p-value окажется меньше него - отвергнем гипотезу\n",
    "\n",
    "results = st.ttest_ind(\n",
    "    events.query('churn==0').groupby('user_id').agg({'building_type': 'count'}).reset_index()['building_type'],\n",
    "    events.query('churn==1').groupby('user_id').agg({'building_type': 'count'}).reset_index()['building_type'])\n",
    "\n",
    "print('p-значение:', results.pvalue)\n",
    "\n",
    "if (results.pvalue < alpha):\n",
    "    print(\"Отвергаем нулевую гипотезу\")\n",
    "else:\n",
    "    print(\"Не получилось отвергнуть нулевую гипотезу\")"
   ]
  },
  {
   "cell_type": "markdown",
   "metadata": {},
   "source": [
    "Выдвинутая гипотеза подтвердила различие в динамике строительства зданий у активных пользователей и пользователей попавших в отток."
   ]
  },
  {
   "cell_type": "markdown",
   "metadata": {},
   "source": [
    "### Вывод"
   ]
  },
  {
   "cell_type": "markdown",
   "metadata": {},
   "source": [
    "На основании проведенных тестов можно сказать что:\n",
    "- Время прохождения уровня не так сильно зависит, от победы или постройки.\n",
    "- Наблюдается различие в динамике строительства зданий у активных пользователей и пользователей попавших в отток"
   ]
  },
  {
   "cell_type": "markdown",
   "metadata": {},
   "source": [
    "## Итоговый вывод\n"
   ]
  },
  {
   "cell_type": "markdown",
   "metadata": {},
   "source": [
    "1. Учитывая затраты на рекламу и количетсво пришедших игроков, стоит выделить yandex_direct. Так как, по цене он почти самый дешевый, а по количетсву привлеченных пользователей на первом месте.\n",
    "2. Так как время прохождение уровня в зависимости от способа различно, монетизацию можно интегрировать в постройку для игроков, желающих играть на таких правилах, но с возможностью ускорения строительства за счет монетизации. Но в таком случае нужно будет рассмотреть баланс между PVP и строительством.\n",
    "3. По типу построек самое популярное это spaceport. Так что в монетизацию можно вшить некоторые донаты связанные с этим типом постройки."
   ]
  }
 ],
 "metadata": {
  "ExecuteTimeLog": [
   {
    "duration": 1399,
    "start_time": "2022-12-25T08:47:08.908Z"
   },
   {
    "duration": 58,
    "start_time": "2022-12-26T06:24:34.012Z"
   },
   {
    "duration": 1362,
    "start_time": "2022-12-26T06:24:36.719Z"
   },
   {
    "duration": 55,
    "start_time": "2022-12-26T06:24:38.083Z"
   },
   {
    "duration": 605,
    "start_time": "2022-12-26T06:25:25.398Z"
   },
   {
    "duration": 54,
    "start_time": "2022-12-26T06:26:27.870Z"
   },
   {
    "duration": 90,
    "start_time": "2022-12-26T06:26:30.110Z"
   },
   {
    "duration": 257,
    "start_time": "2022-12-26T06:26:30.357Z"
   },
   {
    "duration": 36,
    "start_time": "2022-12-26T06:26:43.150Z"
   },
   {
    "duration": 69,
    "start_time": "2023-01-25T22:04:32.104Z"
   },
   {
    "duration": 1488,
    "start_time": "2023-01-25T22:04:35.181Z"
   },
   {
    "duration": 77,
    "start_time": "2023-01-25T22:04:36.672Z"
   },
   {
    "duration": 788,
    "start_time": "2023-01-25T22:04:36.751Z"
   },
   {
    "duration": 91,
    "start_time": "2023-01-25T22:04:37.542Z"
   },
   {
    "duration": 32,
    "start_time": "2023-01-25T22:04:37.634Z"
   },
   {
    "duration": 47,
    "start_time": "2023-01-25T22:05:15.557Z"
   },
   {
    "duration": 55,
    "start_time": "2023-01-25T22:06:09.365Z"
   },
   {
    "duration": 52,
    "start_time": "2023-01-25T22:06:39.902Z"
   },
   {
    "duration": 33,
    "start_time": "2023-01-25T22:06:54.495Z"
   },
   {
    "duration": 790,
    "start_time": "2023-01-25T22:08:04.812Z"
   },
   {
    "duration": 14,
    "start_time": "2023-01-25T22:08:15.057Z"
   },
   {
    "duration": 9,
    "start_time": "2023-01-25T22:08:30.639Z"
   },
   {
    "duration": 6,
    "start_time": "2023-01-25T22:08:35.104Z"
   },
   {
    "duration": 11,
    "start_time": "2023-01-25T22:08:43.113Z"
   },
   {
    "duration": 93,
    "start_time": "2023-01-25T22:10:03.155Z"
   },
   {
    "duration": 121,
    "start_time": "2023-01-25T22:10:09.806Z"
   },
   {
    "duration": 10,
    "start_time": "2023-01-25T22:10:47.668Z"
   },
   {
    "duration": 13,
    "start_time": "2023-01-25T22:10:58.755Z"
   },
   {
    "duration": 49,
    "start_time": "2023-01-25T22:13:31.965Z"
   },
   {
    "duration": 10,
    "start_time": "2023-01-25T22:13:34.149Z"
   },
   {
    "duration": 34,
    "start_time": "2023-01-25T22:13:41.005Z"
   },
   {
    "duration": 83,
    "start_time": "2023-01-25T22:14:20.214Z"
   },
   {
    "duration": 63,
    "start_time": "2023-01-25T22:14:42.142Z"
   },
   {
    "duration": 91,
    "start_time": "2023-01-25T22:14:46.533Z"
   },
   {
    "duration": 72,
    "start_time": "2023-01-25T22:14:57.813Z"
   },
   {
    "duration": 6,
    "start_time": "2023-01-25T22:16:58.880Z"
   },
   {
    "duration": 13,
    "start_time": "2023-01-25T22:17:38.682Z"
   },
   {
    "duration": 13,
    "start_time": "2023-01-26T01:56:42.825Z"
   },
   {
    "duration": 73,
    "start_time": "2023-01-26T02:00:12.405Z"
   },
   {
    "duration": 1476,
    "start_time": "2023-01-26T02:00:16.615Z"
   },
   {
    "duration": 77,
    "start_time": "2023-01-26T02:00:18.093Z"
   },
   {
    "duration": 746,
    "start_time": "2023-01-26T02:00:18.172Z"
   },
   {
    "duration": 83,
    "start_time": "2023-01-26T02:00:18.920Z"
   },
   {
    "duration": 35,
    "start_time": "2023-01-26T02:00:19.006Z"
   },
   {
    "duration": 96,
    "start_time": "2023-01-26T02:00:19.043Z"
   },
   {
    "duration": 6,
    "start_time": "2023-01-26T02:00:19.141Z"
   },
   {
    "duration": 23,
    "start_time": "2023-01-26T02:00:19.149Z"
   },
   {
    "duration": 112,
    "start_time": "2023-01-26T02:00:19.174Z"
   },
   {
    "duration": 13,
    "start_time": "2023-01-26T02:00:19.288Z"
   },
   {
    "duration": 7,
    "start_time": "2023-01-26T02:00:19.303Z"
   },
   {
    "duration": 321,
    "start_time": "2023-01-26T02:00:19.312Z"
   },
   {
    "duration": 7,
    "start_time": "2023-01-26T02:01:01.519Z"
   },
   {
    "duration": 95,
    "start_time": "2023-01-26T02:02:06.442Z"
   },
   {
    "duration": 127,
    "start_time": "2023-01-26T02:02:43.345Z"
   },
   {
    "duration": 18,
    "start_time": "2023-01-26T02:02:45.706Z"
   },
   {
    "duration": 7,
    "start_time": "2023-01-26T02:02:46.273Z"
   },
   {
    "duration": 168,
    "start_time": "2023-01-26T02:02:46.737Z"
   },
   {
    "duration": 7,
    "start_time": "2023-01-26T02:03:36.192Z"
   },
   {
    "duration": 220,
    "start_time": "2023-01-26T02:03:36.841Z"
   },
   {
    "duration": 8,
    "start_time": "2023-01-26T02:06:31.707Z"
   },
   {
    "duration": 176,
    "start_time": "2023-01-26T02:06:32.394Z"
   },
   {
    "duration": 7,
    "start_time": "2023-01-26T02:06:54.803Z"
   },
   {
    "duration": 187,
    "start_time": "2023-01-26T02:06:55.242Z"
   },
   {
    "duration": 15,
    "start_time": "2023-01-26T02:07:29.646Z"
   },
   {
    "duration": 918,
    "start_time": "2023-01-26T02:07:41.221Z"
   },
   {
    "duration": 877,
    "start_time": "2023-01-26T02:07:48.446Z"
   },
   {
    "duration": 893,
    "start_time": "2023-01-26T02:08:58.902Z"
   },
   {
    "duration": 4,
    "start_time": "2023-01-26T02:09:07.525Z"
   },
   {
    "duration": 7,
    "start_time": "2023-01-26T02:09:10.669Z"
   },
   {
    "duration": 192,
    "start_time": "2023-01-26T02:09:10.997Z"
   },
   {
    "duration": 208,
    "start_time": "2023-01-26T02:09:16.757Z"
   },
   {
    "duration": 6,
    "start_time": "2023-01-26T02:11:59.919Z"
   },
   {
    "duration": 192,
    "start_time": "2023-01-26T02:12:01.015Z"
   },
   {
    "duration": 16,
    "start_time": "2023-01-26T02:13:03.119Z"
   },
   {
    "duration": 5,
    "start_time": "2023-01-26T02:13:15.895Z"
   },
   {
    "duration": 44,
    "start_time": "2023-01-26T02:13:15.903Z"
   },
   {
    "duration": 288,
    "start_time": "2023-01-26T02:13:15.949Z"
   },
   {
    "duration": 39,
    "start_time": "2023-01-26T02:13:16.238Z"
   },
   {
    "duration": 33,
    "start_time": "2023-01-26T02:13:16.285Z"
   },
   {
    "duration": 97,
    "start_time": "2023-01-26T02:13:16.320Z"
   },
   {
    "duration": 7,
    "start_time": "2023-01-26T02:13:16.420Z"
   },
   {
    "duration": 29,
    "start_time": "2023-01-26T02:13:16.429Z"
   },
   {
    "duration": 146,
    "start_time": "2023-01-26T02:13:16.460Z"
   },
   {
    "duration": 5,
    "start_time": "2023-01-26T02:13:16.608Z"
   },
   {
    "duration": 14,
    "start_time": "2023-01-26T02:13:25.787Z"
   },
   {
    "duration": 4,
    "start_time": "2023-01-26T02:13:36.395Z"
   },
   {
    "duration": 68,
    "start_time": "2023-01-26T02:13:36.401Z"
   },
   {
    "duration": 270,
    "start_time": "2023-01-26T02:13:36.471Z"
   },
   {
    "duration": 39,
    "start_time": "2023-01-26T02:13:36.743Z"
   },
   {
    "duration": 47,
    "start_time": "2023-01-26T02:13:36.785Z"
   },
   {
    "duration": 111,
    "start_time": "2023-01-26T02:13:36.833Z"
   },
   {
    "duration": 5,
    "start_time": "2023-01-26T02:13:36.946Z"
   },
   {
    "duration": 57,
    "start_time": "2023-01-26T02:13:36.953Z"
   },
   {
    "duration": 173,
    "start_time": "2023-01-26T02:13:37.011Z"
   },
   {
    "duration": 11,
    "start_time": "2023-01-26T02:13:37.186Z"
   },
   {
    "duration": 10,
    "start_time": "2023-01-26T02:13:41.578Z"
   },
   {
    "duration": 1253,
    "start_time": "2023-01-26T02:13:52.941Z"
   },
   {
    "duration": 41,
    "start_time": "2023-01-26T02:13:54.197Z"
   },
   {
    "duration": 283,
    "start_time": "2023-01-26T02:13:54.240Z"
   },
   {
    "duration": 40,
    "start_time": "2023-01-26T02:13:54.526Z"
   },
   {
    "duration": 39,
    "start_time": "2023-01-26T02:13:54.568Z"
   },
   {
    "duration": 104,
    "start_time": "2023-01-26T02:13:54.609Z"
   },
   {
    "duration": 5,
    "start_time": "2023-01-26T02:13:54.715Z"
   },
   {
    "duration": 18,
    "start_time": "2023-01-26T02:13:54.722Z"
   },
   {
    "duration": 165,
    "start_time": "2023-01-26T02:13:54.742Z"
   },
   {
    "duration": 9,
    "start_time": "2023-01-26T02:13:54.909Z"
   },
   {
    "duration": 109,
    "start_time": "2023-01-26T02:14:05.496Z"
   },
   {
    "duration": 4,
    "start_time": "2023-01-26T02:14:08.868Z"
   },
   {
    "duration": 40,
    "start_time": "2023-01-26T02:14:08.874Z"
   },
   {
    "duration": 280,
    "start_time": "2023-01-26T02:14:08.916Z"
   },
   {
    "duration": 39,
    "start_time": "2023-01-26T02:14:09.197Z"
   },
   {
    "duration": 32,
    "start_time": "2023-01-26T02:14:09.238Z"
   },
   {
    "duration": 82,
    "start_time": "2023-01-26T02:14:09.285Z"
   },
   {
    "duration": 19,
    "start_time": "2023-01-26T02:14:09.369Z"
   },
   {
    "duration": 15,
    "start_time": "2023-01-26T02:14:09.390Z"
   },
   {
    "duration": 180,
    "start_time": "2023-01-26T02:14:09.407Z"
   },
   {
    "duration": 19,
    "start_time": "2023-01-26T02:14:09.589Z"
   },
   {
    "duration": 19,
    "start_time": "2023-01-26T02:19:29.986Z"
   },
   {
    "duration": 25,
    "start_time": "2023-01-26T02:20:33.587Z"
   },
   {
    "duration": 25,
    "start_time": "2023-01-26T02:20:38.739Z"
   },
   {
    "duration": 24,
    "start_time": "2023-01-26T02:21:36.562Z"
   },
   {
    "duration": 33,
    "start_time": "2023-01-26T02:22:23.267Z"
   },
   {
    "duration": 48,
    "start_time": "2023-01-26T15:53:21.149Z"
   },
   {
    "duration": 1400,
    "start_time": "2023-01-26T15:53:24.462Z"
   },
   {
    "duration": 92,
    "start_time": "2023-01-26T15:53:25.865Z"
   },
   {
    "duration": 602,
    "start_time": "2023-01-26T15:53:25.959Z"
   },
   {
    "duration": 158,
    "start_time": "2023-01-26T15:53:26.564Z"
   },
   {
    "duration": 33,
    "start_time": "2023-01-26T15:53:26.724Z"
   },
   {
    "duration": 90,
    "start_time": "2023-01-26T15:53:26.758Z"
   },
   {
    "duration": 6,
    "start_time": "2023-01-26T15:53:26.850Z"
   },
   {
    "duration": 22,
    "start_time": "2023-01-26T15:53:26.858Z"
   },
   {
    "duration": 179,
    "start_time": "2023-01-26T15:53:26.890Z"
   },
   {
    "duration": 11,
    "start_time": "2023-01-26T15:53:27.072Z"
   },
   {
    "duration": 122,
    "start_time": "2023-01-26T15:53:27.085Z"
   },
   {
    "duration": 26,
    "start_time": "2023-01-26T15:53:38.918Z"
   },
   {
    "duration": 1339,
    "start_time": "2023-01-28T01:17:44.571Z"
   },
   {
    "duration": 99,
    "start_time": "2023-01-28T01:17:45.912Z"
   },
   {
    "duration": 645,
    "start_time": "2023-01-28T01:17:46.013Z"
   },
   {
    "duration": 180,
    "start_time": "2023-01-28T01:17:46.660Z"
   },
   {
    "duration": 32,
    "start_time": "2023-01-28T01:17:46.842Z"
   },
   {
    "duration": 92,
    "start_time": "2023-01-28T01:17:46.876Z"
   },
   {
    "duration": 5,
    "start_time": "2023-01-28T01:17:46.971Z"
   },
   {
    "duration": 21,
    "start_time": "2023-01-28T01:17:46.978Z"
   },
   {
    "duration": 141,
    "start_time": "2023-01-28T01:17:47.001Z"
   },
   {
    "duration": 9,
    "start_time": "2023-01-28T01:17:47.144Z"
   },
   {
    "duration": 41,
    "start_time": "2023-01-28T01:17:47.154Z"
   },
   {
    "duration": 63,
    "start_time": "2023-01-28T01:18:00.788Z"
   },
   {
    "duration": 15,
    "start_time": "2023-01-28T01:19:05.100Z"
   },
   {
    "duration": 55,
    "start_time": "2023-01-28T01:19:16.343Z"
   },
   {
    "duration": 66,
    "start_time": "2023-01-28T16:55:43.557Z"
   },
   {
    "duration": 1448,
    "start_time": "2023-01-28T16:55:49.233Z"
   },
   {
    "duration": 111,
    "start_time": "2023-01-28T16:55:50.684Z"
   },
   {
    "duration": 1009,
    "start_time": "2023-01-28T16:55:50.797Z"
   },
   {
    "duration": 113,
    "start_time": "2023-01-28T16:55:51.809Z"
   },
   {
    "duration": 42,
    "start_time": "2023-01-28T16:55:51.924Z"
   },
   {
    "duration": 138,
    "start_time": "2023-01-28T16:55:51.968Z"
   },
   {
    "duration": 6,
    "start_time": "2023-01-28T16:55:52.108Z"
   },
   {
    "duration": 49,
    "start_time": "2023-01-28T16:55:52.116Z"
   },
   {
    "duration": 200,
    "start_time": "2023-01-28T16:55:52.166Z"
   },
   {
    "duration": 15,
    "start_time": "2023-01-28T16:55:52.370Z"
   },
   {
    "duration": 83,
    "start_time": "2023-01-28T16:55:52.387Z"
   },
   {
    "duration": 80,
    "start_time": "2023-01-28T16:55:52.472Z"
   },
   {
    "duration": 62,
    "start_time": "2023-01-28T16:55:52.558Z"
   },
   {
    "duration": 305,
    "start_time": "2023-01-28T16:56:08.071Z"
   },
   {
    "duration": 286,
    "start_time": "2023-01-28T16:56:20.515Z"
   },
   {
    "duration": 18,
    "start_time": "2023-01-28T16:56:55.526Z"
   },
   {
    "duration": 72,
    "start_time": "2023-01-28T16:58:01.329Z"
   },
   {
    "duration": 11,
    "start_time": "2023-01-28T16:58:05.816Z"
   },
   {
    "duration": 250,
    "start_time": "2023-01-28T16:58:26.585Z"
   },
   {
    "duration": 16,
    "start_time": "2023-01-28T16:58:52.962Z"
   },
   {
    "duration": 10,
    "start_time": "2023-01-28T17:00:45.670Z"
   },
   {
    "duration": 54,
    "start_time": "2023-01-28T17:00:53.971Z"
   },
   {
    "duration": 157,
    "start_time": "2023-01-28T17:01:15.529Z"
   },
   {
    "duration": 9,
    "start_time": "2023-01-28T17:02:02.992Z"
   },
   {
    "duration": 21,
    "start_time": "2023-01-28T17:02:52.386Z"
   },
   {
    "duration": 42,
    "start_time": "2023-01-28T17:03:08.468Z"
   },
   {
    "duration": 84,
    "start_time": "2023-01-28T17:11:31.606Z"
   },
   {
    "duration": 155,
    "start_time": "2023-01-28T17:11:38.419Z"
   },
   {
    "duration": 1291,
    "start_time": "2023-01-29T02:47:38.672Z"
   },
   {
    "duration": 95,
    "start_time": "2023-01-29T02:47:39.965Z"
   },
   {
    "duration": 567,
    "start_time": "2023-01-29T02:47:40.062Z"
   },
   {
    "duration": 168,
    "start_time": "2023-01-29T02:47:40.631Z"
   },
   {
    "duration": 32,
    "start_time": "2023-01-29T02:47:40.801Z"
   },
   {
    "duration": 81,
    "start_time": "2023-01-29T02:47:40.835Z"
   },
   {
    "duration": 5,
    "start_time": "2023-01-29T02:47:40.917Z"
   },
   {
    "duration": 20,
    "start_time": "2023-01-29T02:47:40.924Z"
   },
   {
    "duration": 139,
    "start_time": "2023-01-29T02:47:40.946Z"
   },
   {
    "duration": 9,
    "start_time": "2023-01-29T02:47:41.087Z"
   },
   {
    "duration": 60,
    "start_time": "2023-01-29T02:47:41.098Z"
   },
   {
    "duration": 52,
    "start_time": "2023-01-29T02:47:41.159Z"
   },
   {
    "duration": 334,
    "start_time": "2023-01-29T02:47:41.213Z"
   },
   {
    "duration": 11,
    "start_time": "2023-01-29T02:47:41.549Z"
   },
   {
    "duration": 278,
    "start_time": "2023-01-29T02:47:41.562Z"
   },
   {
    "duration": 11,
    "start_time": "2023-01-29T02:47:41.842Z"
   },
   {
    "duration": 76,
    "start_time": "2023-01-29T02:47:41.855Z"
   },
   {
    "duration": 186,
    "start_time": "2023-01-29T02:47:41.932Z"
   },
   {
    "duration": 45,
    "start_time": "2023-01-29T02:47:42.119Z"
   },
   {
    "duration": 155,
    "start_time": "2023-01-29T02:48:36.327Z"
   },
   {
    "duration": 130,
    "start_time": "2023-01-29T02:50:45.873Z"
   },
   {
    "duration": 47,
    "start_time": "2023-01-29T02:50:54.569Z"
   },
   {
    "duration": 44,
    "start_time": "2023-01-29T02:51:25.448Z"
   },
   {
    "duration": 82,
    "start_time": "2023-01-29T02:51:49.063Z"
   },
   {
    "duration": 9,
    "start_time": "2023-01-29T05:06:34.258Z"
   },
   {
    "duration": 4,
    "start_time": "2023-01-29T05:06:37.587Z"
   },
   {
    "duration": 58,
    "start_time": "2023-01-29T05:06:37.593Z"
   },
   {
    "duration": 272,
    "start_time": "2023-01-29T05:06:37.653Z"
   },
   {
    "duration": 46,
    "start_time": "2023-01-29T05:06:37.928Z"
   },
   {
    "duration": 30,
    "start_time": "2023-01-29T05:06:37.976Z"
   },
   {
    "duration": 101,
    "start_time": "2023-01-29T05:06:38.008Z"
   },
   {
    "duration": 5,
    "start_time": "2023-01-29T05:06:38.111Z"
   },
   {
    "duration": 35,
    "start_time": "2023-01-29T05:06:38.118Z"
   },
   {
    "duration": 167,
    "start_time": "2023-01-29T05:06:38.156Z"
   },
   {
    "duration": 19,
    "start_time": "2023-01-29T05:06:38.324Z"
   },
   {
    "duration": 58,
    "start_time": "2023-01-29T05:06:38.345Z"
   },
   {
    "duration": 58,
    "start_time": "2023-01-29T05:06:38.405Z"
   },
   {
    "duration": 286,
    "start_time": "2023-01-29T05:06:38.465Z"
   },
   {
    "duration": 12,
    "start_time": "2023-01-29T05:06:38.754Z"
   },
   {
    "duration": 303,
    "start_time": "2023-01-29T05:06:38.768Z"
   },
   {
    "duration": 11,
    "start_time": "2023-01-29T05:06:39.074Z"
   },
   {
    "duration": 55,
    "start_time": "2023-01-29T05:06:39.087Z"
   },
   {
    "duration": 232,
    "start_time": "2023-01-29T05:06:39.145Z"
   },
   {
    "duration": 32,
    "start_time": "2023-01-29T05:06:39.379Z"
   },
   {
    "duration": 67,
    "start_time": "2023-01-29T05:06:39.413Z"
   },
   {
    "duration": 100,
    "start_time": "2023-01-29T05:06:39.483Z"
   },
   {
    "duration": 9,
    "start_time": "2023-01-29T05:06:39.585Z"
   },
   {
    "duration": 12,
    "start_time": "2023-01-29T05:07:58.901Z"
   },
   {
    "duration": 49,
    "start_time": "2023-01-29T05:08:04.942Z"
   },
   {
    "duration": 48,
    "start_time": "2023-01-29T05:08:13.373Z"
   },
   {
    "duration": 48,
    "start_time": "2023-01-29T05:08:43.796Z"
   },
   {
    "duration": 40,
    "start_time": "2023-01-29T05:09:36.420Z"
   },
   {
    "duration": 69,
    "start_time": "2023-01-29T05:09:45.524Z"
   },
   {
    "duration": 43,
    "start_time": "2023-01-29T05:09:57.797Z"
   },
   {
    "duration": 12,
    "start_time": "2023-01-29T05:10:15.464Z"
   },
   {
    "duration": 14,
    "start_time": "2023-01-29T05:10:34.144Z"
   },
   {
    "duration": 218,
    "start_time": "2023-01-29T05:13:13.435Z"
   },
   {
    "duration": 15,
    "start_time": "2023-01-29T05:13:47.706Z"
   },
   {
    "duration": 187,
    "start_time": "2023-01-29T05:13:50.186Z"
   },
   {
    "duration": 190,
    "start_time": "2023-01-29T05:14:37.722Z"
   },
   {
    "duration": 200,
    "start_time": "2023-01-29T05:14:58.147Z"
   },
   {
    "duration": 174,
    "start_time": "2023-01-29T05:15:21.857Z"
   },
   {
    "duration": 4,
    "start_time": "2023-01-29T05:15:39.327Z"
   },
   {
    "duration": 18,
    "start_time": "2023-01-29T05:16:06.639Z"
   },
   {
    "duration": 19,
    "start_time": "2023-01-29T05:16:10.843Z"
   },
   {
    "duration": 16,
    "start_time": "2023-01-29T05:16:27.463Z"
   },
   {
    "duration": 20,
    "start_time": "2023-01-29T05:16:32.371Z"
   },
   {
    "duration": 21,
    "start_time": "2023-01-29T05:17:09.691Z"
   },
   {
    "duration": 25,
    "start_time": "2023-01-29T05:18:45.409Z"
   },
   {
    "duration": 19,
    "start_time": "2023-01-29T05:19:05.762Z"
   },
   {
    "duration": 31,
    "start_time": "2023-01-29T05:19:11.358Z"
   },
   {
    "duration": 21,
    "start_time": "2023-01-29T05:19:57.597Z"
   },
   {
    "duration": 29,
    "start_time": "2023-01-29T05:20:06.060Z"
   },
   {
    "duration": 31,
    "start_time": "2023-01-29T05:21:01.292Z"
   },
   {
    "duration": 21,
    "start_time": "2023-01-29T05:23:54.941Z"
   },
   {
    "duration": 30,
    "start_time": "2023-01-29T05:24:15.137Z"
   },
   {
    "duration": 32,
    "start_time": "2023-01-29T05:24:19.804Z"
   },
   {
    "duration": 3,
    "start_time": "2023-01-29T05:24:21.909Z"
   },
   {
    "duration": 40,
    "start_time": "2023-01-29T05:24:21.914Z"
   },
   {
    "duration": 254,
    "start_time": "2023-01-29T05:24:21.956Z"
   },
   {
    "duration": 44,
    "start_time": "2023-01-29T05:24:22.212Z"
   },
   {
    "duration": 32,
    "start_time": "2023-01-29T05:24:22.258Z"
   },
   {
    "duration": 88,
    "start_time": "2023-01-29T05:24:22.292Z"
   },
   {
    "duration": 6,
    "start_time": "2023-01-29T05:24:22.381Z"
   },
   {
    "duration": 15,
    "start_time": "2023-01-29T05:24:22.388Z"
   },
   {
    "duration": 184,
    "start_time": "2023-01-29T05:24:22.405Z"
   },
   {
    "duration": 11,
    "start_time": "2023-01-29T05:24:22.591Z"
   },
   {
    "duration": 57,
    "start_time": "2023-01-29T05:24:22.604Z"
   },
   {
    "duration": 76,
    "start_time": "2023-01-29T05:24:22.663Z"
   },
   {
    "duration": 418,
    "start_time": "2023-01-29T05:24:22.741Z"
   },
   {
    "duration": 12,
    "start_time": "2023-01-29T05:24:23.163Z"
   },
   {
    "duration": 431,
    "start_time": "2023-01-29T05:24:23.176Z"
   },
   {
    "duration": 12,
    "start_time": "2023-01-29T05:24:23.609Z"
   },
   {
    "duration": 41,
    "start_time": "2023-01-29T05:24:23.638Z"
   },
   {
    "duration": 160,
    "start_time": "2023-01-29T05:24:23.681Z"
   },
   {
    "duration": 28,
    "start_time": "2023-01-29T05:24:23.843Z"
   },
   {
    "duration": 43,
    "start_time": "2023-01-29T05:24:23.873Z"
   },
   {
    "duration": 93,
    "start_time": "2023-01-29T05:24:23.918Z"
   },
   {
    "duration": 62,
    "start_time": "2023-01-29T05:24:24.013Z"
   },
   {
    "duration": 15,
    "start_time": "2023-01-29T05:24:24.077Z"
   },
   {
    "duration": 211,
    "start_time": "2023-01-29T05:24:24.094Z"
   },
   {
    "duration": 3,
    "start_time": "2023-01-29T05:24:24.307Z"
   },
   {
    "duration": 42,
    "start_time": "2023-01-29T05:24:24.312Z"
   },
   {
    "duration": 15,
    "start_time": "2023-01-29T05:24:24.356Z"
   },
   {
    "duration": 13,
    "start_time": "2023-01-29T05:24:33.908Z"
   },
   {
    "duration": 200,
    "start_time": "2023-01-29T05:25:51.521Z"
   },
   {
    "duration": 78,
    "start_time": "2023-01-29T05:39:30.870Z"
   },
   {
    "duration": 86,
    "start_time": "2023-01-29T05:39:41.670Z"
   },
   {
    "duration": 544,
    "start_time": "2023-01-29T05:39:47.021Z"
   },
   {
    "duration": 462,
    "start_time": "2023-01-29T05:39:52.981Z"
   },
   {
    "duration": 14,
    "start_time": "2023-01-29T05:40:23.316Z"
   },
   {
    "duration": 66,
    "start_time": "2023-01-29T05:43:28.750Z"
   },
   {
    "duration": 76,
    "start_time": "2023-01-29T05:43:36.743Z"
   },
   {
    "duration": 79,
    "start_time": "2023-01-29T05:44:11.642Z"
   },
   {
    "duration": 1394,
    "start_time": "2023-01-29T05:45:08.513Z"
   },
   {
    "duration": 21,
    "start_time": "2023-01-29T05:45:29.270Z"
   },
   {
    "duration": 14,
    "start_time": "2023-01-29T05:45:40.033Z"
   },
   {
    "duration": 17,
    "start_time": "2023-01-29T05:46:09.336Z"
   },
   {
    "duration": 31,
    "start_time": "2023-01-29T05:46:17.600Z"
   },
   {
    "duration": 1596,
    "start_time": "2023-01-29T05:46:48.672Z"
   },
   {
    "duration": 1490,
    "start_time": "2023-01-29T05:47:02.653Z"
   },
   {
    "duration": 1619,
    "start_time": "2023-01-29T05:47:09.548Z"
   },
   {
    "duration": 14,
    "start_time": "2023-01-29T05:48:19.835Z"
   },
   {
    "duration": 35,
    "start_time": "2023-01-29T05:48:25.507Z"
   },
   {
    "duration": 1222,
    "start_time": "2023-01-29T05:48:42.263Z"
   },
   {
    "duration": 72,
    "start_time": "2023-01-29T05:48:48.610Z"
   },
   {
    "duration": 49,
    "start_time": "2023-01-29T05:48:58.084Z"
   },
   {
    "duration": 45,
    "start_time": "2023-01-29T05:50:03.561Z"
   },
   {
    "duration": 52,
    "start_time": "2023-01-29T05:50:16.846Z"
   },
   {
    "duration": 46,
    "start_time": "2023-01-29T05:50:55.686Z"
   },
   {
    "duration": 32,
    "start_time": "2023-01-29T05:51:09.213Z"
   },
   {
    "duration": 120,
    "start_time": "2023-01-29T05:51:28.671Z"
   },
   {
    "duration": 53,
    "start_time": "2023-01-29T05:51:29.857Z"
   },
   {
    "duration": 97,
    "start_time": "2023-01-29T05:51:32.611Z"
   },
   {
    "duration": 61,
    "start_time": "2023-01-29T05:55:29.179Z"
   },
   {
    "duration": 266,
    "start_time": "2023-01-29T05:56:05.319Z"
   },
   {
    "duration": 214,
    "start_time": "2023-01-29T05:57:01.828Z"
   },
   {
    "duration": 198,
    "start_time": "2023-01-29T05:58:39.524Z"
   },
   {
    "duration": 6,
    "start_time": "2023-01-29T06:02:33.232Z"
   },
   {
    "duration": 25,
    "start_time": "2023-01-29T06:03:07.345Z"
   },
   {
    "duration": 65,
    "start_time": "2023-01-29T06:04:58.034Z"
   },
   {
    "duration": 47,
    "start_time": "2023-01-29T06:05:11.271Z"
   },
   {
    "duration": 121,
    "start_time": "2023-01-29T06:05:31.993Z"
   },
   {
    "duration": 12,
    "start_time": "2023-01-29T06:06:50.223Z"
   },
   {
    "duration": 9,
    "start_time": "2023-01-29T06:07:01.583Z"
   },
   {
    "duration": 11,
    "start_time": "2023-01-29T06:08:15.495Z"
   },
   {
    "duration": 6,
    "start_time": "2023-01-29T06:08:38.338Z"
   },
   {
    "duration": 1148,
    "start_time": "2023-01-29T06:21:09.463Z"
   },
   {
    "duration": 5,
    "start_time": "2023-01-29T06:21:23.788Z"
   },
   {
    "duration": 248,
    "start_time": "2023-01-29T06:22:05.999Z"
   },
   {
    "duration": 350,
    "start_time": "2023-01-29T06:22:27.463Z"
   },
   {
    "duration": 93,
    "start_time": "2023-01-29T06:22:46.309Z"
   },
   {
    "duration": 60,
    "start_time": "2023-01-29T06:29:22.812Z"
   },
   {
    "duration": 39,
    "start_time": "2023-01-29T06:41:48.614Z"
   },
   {
    "duration": 38,
    "start_time": "2023-01-29T06:41:52.708Z"
   },
   {
    "duration": 113,
    "start_time": "2023-01-29T06:51:15.296Z"
   },
   {
    "duration": 546,
    "start_time": "2023-01-29T06:52:24.830Z"
   },
   {
    "duration": 211,
    "start_time": "2023-01-29T06:53:16.391Z"
   },
   {
    "duration": 446,
    "start_time": "2023-01-29T06:53:24.278Z"
   },
   {
    "duration": 710,
    "start_time": "2023-01-29T06:53:36.021Z"
   },
   {
    "duration": 1391,
    "start_time": "2023-01-29T18:07:43.305Z"
   },
   {
    "duration": 101,
    "start_time": "2023-01-29T18:07:44.698Z"
   },
   {
    "duration": 791,
    "start_time": "2023-01-29T18:07:44.801Z"
   },
   {
    "duration": 195,
    "start_time": "2023-01-29T18:07:45.594Z"
   },
   {
    "duration": 128,
    "start_time": "2023-01-29T18:07:45.790Z"
   },
   {
    "duration": 410,
    "start_time": "2023-01-29T18:07:45.920Z"
   },
   {
    "duration": 51,
    "start_time": "2023-01-29T18:07:46.332Z"
   },
   {
    "duration": 12,
    "start_time": "2023-01-29T18:07:46.386Z"
   },
   {
    "duration": 200,
    "start_time": "2023-01-29T18:07:46.400Z"
   },
   {
    "duration": 9,
    "start_time": "2023-01-29T18:07:46.602Z"
   },
   {
    "duration": 39,
    "start_time": "2023-01-29T18:07:46.613Z"
   },
   {
    "duration": 4,
    "start_time": "2023-01-29T18:07:46.654Z"
   },
   {
    "duration": 107,
    "start_time": "2023-01-29T18:07:46.681Z"
   },
   {
    "duration": 0,
    "start_time": "2023-01-29T18:07:46.790Z"
   },
   {
    "duration": 0,
    "start_time": "2023-01-29T18:07:46.791Z"
   },
   {
    "duration": 0,
    "start_time": "2023-01-29T18:07:46.792Z"
   },
   {
    "duration": 0,
    "start_time": "2023-01-29T18:07:46.793Z"
   },
   {
    "duration": 0,
    "start_time": "2023-01-29T18:07:46.794Z"
   },
   {
    "duration": 0,
    "start_time": "2023-01-29T18:07:46.795Z"
   },
   {
    "duration": 1,
    "start_time": "2023-01-29T18:07:46.796Z"
   },
   {
    "duration": 0,
    "start_time": "2023-01-29T18:07:46.797Z"
   },
   {
    "duration": 0,
    "start_time": "2023-01-29T18:07:46.798Z"
   },
   {
    "duration": 0,
    "start_time": "2023-01-29T18:07:46.799Z"
   },
   {
    "duration": 0,
    "start_time": "2023-01-29T18:07:46.800Z"
   },
   {
    "duration": 0,
    "start_time": "2023-01-29T18:07:46.801Z"
   },
   {
    "duration": 0,
    "start_time": "2023-01-29T18:07:46.802Z"
   },
   {
    "duration": 0,
    "start_time": "2023-01-29T18:07:46.803Z"
   },
   {
    "duration": 0,
    "start_time": "2023-01-29T18:07:46.804Z"
   },
   {
    "duration": 0,
    "start_time": "2023-01-29T18:07:46.805Z"
   },
   {
    "duration": 0,
    "start_time": "2023-01-29T18:07:46.806Z"
   },
   {
    "duration": 0,
    "start_time": "2023-01-29T18:07:46.807Z"
   },
   {
    "duration": 0,
    "start_time": "2023-01-29T18:07:46.808Z"
   },
   {
    "duration": 0,
    "start_time": "2023-01-29T18:07:46.809Z"
   },
   {
    "duration": 0,
    "start_time": "2023-01-29T18:07:46.810Z"
   },
   {
    "duration": 0,
    "start_time": "2023-01-29T18:07:46.811Z"
   },
   {
    "duration": 0,
    "start_time": "2023-01-29T18:07:46.812Z"
   },
   {
    "duration": 0,
    "start_time": "2023-01-29T18:07:46.813Z"
   },
   {
    "duration": 0,
    "start_time": "2023-01-29T18:07:46.814Z"
   },
   {
    "duration": 0,
    "start_time": "2023-01-29T18:07:46.815Z"
   },
   {
    "duration": 0,
    "start_time": "2023-01-29T18:07:46.816Z"
   },
   {
    "duration": 0,
    "start_time": "2023-01-29T18:07:46.817Z"
   },
   {
    "duration": 0,
    "start_time": "2023-01-29T18:07:46.818Z"
   },
   {
    "duration": 0,
    "start_time": "2023-01-29T18:07:46.819Z"
   },
   {
    "duration": 0,
    "start_time": "2023-01-29T18:07:46.821Z"
   },
   {
    "duration": 0,
    "start_time": "2023-01-29T18:07:46.822Z"
   },
   {
    "duration": 1575,
    "start_time": "2023-01-30T05:01:25.596Z"
   },
   {
    "duration": 98,
    "start_time": "2023-01-30T05:01:27.174Z"
   },
   {
    "duration": 638,
    "start_time": "2023-01-30T05:01:27.274Z"
   },
   {
    "duration": 164,
    "start_time": "2023-01-30T05:01:27.915Z"
   },
   {
    "duration": 46,
    "start_time": "2023-01-30T05:01:28.080Z"
   },
   {
    "duration": 253,
    "start_time": "2023-01-30T05:01:28.128Z"
   },
   {
    "duration": 10,
    "start_time": "2023-01-30T05:01:28.383Z"
   },
   {
    "duration": 10,
    "start_time": "2023-01-30T05:01:28.395Z"
   },
   {
    "duration": 177,
    "start_time": "2023-01-30T05:01:28.407Z"
   },
   {
    "duration": 15,
    "start_time": "2023-01-30T05:01:28.590Z"
   },
   {
    "duration": 53,
    "start_time": "2023-01-30T05:01:28.607Z"
   },
   {
    "duration": 6,
    "start_time": "2023-01-30T05:01:28.662Z"
   },
   {
    "duration": 149,
    "start_time": "2023-01-30T05:01:28.670Z"
   },
   {
    "duration": 0,
    "start_time": "2023-01-30T05:01:28.821Z"
   },
   {
    "duration": 0,
    "start_time": "2023-01-30T05:01:28.823Z"
   },
   {
    "duration": 0,
    "start_time": "2023-01-30T05:01:28.824Z"
   },
   {
    "duration": 0,
    "start_time": "2023-01-30T05:01:28.826Z"
   },
   {
    "duration": 0,
    "start_time": "2023-01-30T05:01:28.827Z"
   },
   {
    "duration": 1,
    "start_time": "2023-01-30T05:01:28.828Z"
   },
   {
    "duration": 0,
    "start_time": "2023-01-30T05:01:28.830Z"
   },
   {
    "duration": 0,
    "start_time": "2023-01-30T05:01:28.831Z"
   },
   {
    "duration": 0,
    "start_time": "2023-01-30T05:01:28.832Z"
   },
   {
    "duration": 0,
    "start_time": "2023-01-30T05:01:28.834Z"
   },
   {
    "duration": 0,
    "start_time": "2023-01-30T05:01:28.835Z"
   },
   {
    "duration": 0,
    "start_time": "2023-01-30T05:01:28.836Z"
   },
   {
    "duration": 0,
    "start_time": "2023-01-30T05:01:28.837Z"
   },
   {
    "duration": 0,
    "start_time": "2023-01-30T05:01:28.839Z"
   },
   {
    "duration": 0,
    "start_time": "2023-01-30T05:01:28.840Z"
   },
   {
    "duration": 0,
    "start_time": "2023-01-30T05:01:28.841Z"
   },
   {
    "duration": 0,
    "start_time": "2023-01-30T05:01:28.843Z"
   },
   {
    "duration": 0,
    "start_time": "2023-01-30T05:01:28.891Z"
   },
   {
    "duration": 0,
    "start_time": "2023-01-30T05:01:28.893Z"
   },
   {
    "duration": 0,
    "start_time": "2023-01-30T05:01:28.896Z"
   },
   {
    "duration": 0,
    "start_time": "2023-01-30T05:01:28.898Z"
   },
   {
    "duration": 0,
    "start_time": "2023-01-30T05:01:28.900Z"
   },
   {
    "duration": 0,
    "start_time": "2023-01-30T05:01:28.902Z"
   },
   {
    "duration": 0,
    "start_time": "2023-01-30T05:01:28.904Z"
   },
   {
    "duration": 0,
    "start_time": "2023-01-30T05:01:28.906Z"
   },
   {
    "duration": 0,
    "start_time": "2023-01-30T05:01:28.908Z"
   },
   {
    "duration": 0,
    "start_time": "2023-01-30T05:01:28.909Z"
   },
   {
    "duration": 0,
    "start_time": "2023-01-30T05:01:28.911Z"
   },
   {
    "duration": 0,
    "start_time": "2023-01-30T05:01:28.913Z"
   },
   {
    "duration": 0,
    "start_time": "2023-01-30T05:01:28.915Z"
   },
   {
    "duration": 0,
    "start_time": "2023-01-30T05:01:28.916Z"
   },
   {
    "duration": 20,
    "start_time": "2023-01-30T05:02:08.646Z"
   },
   {
    "duration": 4,
    "start_time": "2023-01-30T05:02:11.787Z"
   },
   {
    "duration": 49,
    "start_time": "2023-01-30T05:02:11.796Z"
   },
   {
    "duration": 304,
    "start_time": "2023-01-30T05:02:11.847Z"
   },
   {
    "duration": 40,
    "start_time": "2023-01-30T05:02:12.153Z"
   },
   {
    "duration": 33,
    "start_time": "2023-01-30T05:02:12.195Z"
   },
   {
    "duration": 246,
    "start_time": "2023-01-30T05:02:12.230Z"
   },
   {
    "duration": 5,
    "start_time": "2023-01-30T05:02:12.478Z"
   },
   {
    "duration": 14,
    "start_time": "2023-01-30T05:02:12.493Z"
   },
   {
    "duration": 153,
    "start_time": "2023-01-30T05:02:12.509Z"
   },
   {
    "duration": 9,
    "start_time": "2023-01-30T05:02:12.664Z"
   },
   {
    "duration": 58,
    "start_time": "2023-01-30T05:02:12.675Z"
   },
   {
    "duration": 5,
    "start_time": "2023-01-30T05:02:12.734Z"
   },
   {
    "duration": 25,
    "start_time": "2023-01-30T05:02:12.741Z"
   },
   {
    "duration": 137,
    "start_time": "2023-01-30T05:02:12.767Z"
   },
   {
    "duration": 12,
    "start_time": "2023-01-30T05:02:12.906Z"
   },
   {
    "duration": 7,
    "start_time": "2023-01-30T05:02:12.920Z"
   },
   {
    "duration": 74,
    "start_time": "2023-01-30T05:02:12.928Z"
   },
   {
    "duration": 315,
    "start_time": "2023-01-30T05:02:13.004Z"
   },
   {
    "duration": 12,
    "start_time": "2023-01-30T05:02:13.321Z"
   },
   {
    "duration": 5,
    "start_time": "2023-01-30T05:02:13.334Z"
   },
   {
    "duration": 331,
    "start_time": "2023-01-30T05:02:13.341Z"
   },
   {
    "duration": 11,
    "start_time": "2023-01-30T05:02:13.673Z"
   },
   {
    "duration": 46,
    "start_time": "2023-01-30T05:02:13.696Z"
   },
   {
    "duration": 186,
    "start_time": "2023-01-30T05:02:13.743Z"
   },
   {
    "duration": 32,
    "start_time": "2023-01-30T05:02:13.932Z"
   },
   {
    "duration": 85,
    "start_time": "2023-01-30T05:02:13.966Z"
   },
   {
    "duration": 105,
    "start_time": "2023-01-30T05:02:14.053Z"
   },
   {
    "duration": 73,
    "start_time": "2023-01-30T05:02:14.161Z"
   },
   {
    "duration": 12,
    "start_time": "2023-01-30T05:02:14.236Z"
   },
   {
    "duration": 0,
    "start_time": "2023-01-30T05:02:14.249Z"
   },
   {
    "duration": 0,
    "start_time": "2023-01-30T05:02:14.251Z"
   },
   {
    "duration": 0,
    "start_time": "2023-01-30T05:02:14.252Z"
   },
   {
    "duration": 0,
    "start_time": "2023-01-30T05:02:14.253Z"
   },
   {
    "duration": 0,
    "start_time": "2023-01-30T05:02:14.255Z"
   },
   {
    "duration": 0,
    "start_time": "2023-01-30T05:02:14.256Z"
   },
   {
    "duration": 0,
    "start_time": "2023-01-30T05:02:14.258Z"
   },
   {
    "duration": 0,
    "start_time": "2023-01-30T05:02:14.259Z"
   },
   {
    "duration": 0,
    "start_time": "2023-01-30T05:02:14.261Z"
   },
   {
    "duration": 0,
    "start_time": "2023-01-30T05:02:14.262Z"
   },
   {
    "duration": 0,
    "start_time": "2023-01-30T05:02:14.294Z"
   },
   {
    "duration": 0,
    "start_time": "2023-01-30T05:02:14.295Z"
   },
   {
    "duration": 0,
    "start_time": "2023-01-30T05:02:14.298Z"
   },
   {
    "duration": 0,
    "start_time": "2023-01-30T05:02:14.300Z"
   },
   {
    "duration": 0,
    "start_time": "2023-01-30T05:02:14.303Z"
   },
   {
    "duration": 10,
    "start_time": "2023-01-30T05:02:34.048Z"
   },
   {
    "duration": 9,
    "start_time": "2023-01-30T05:02:36.117Z"
   },
   {
    "duration": 1221,
    "start_time": "2023-01-30T05:02:40.760Z"
   },
   {
    "duration": 46,
    "start_time": "2023-01-30T05:02:41.983Z"
   },
   {
    "duration": 267,
    "start_time": "2023-01-30T05:02:42.031Z"
   },
   {
    "duration": 41,
    "start_time": "2023-01-30T05:02:42.302Z"
   },
   {
    "duration": 29,
    "start_time": "2023-01-30T05:02:42.345Z"
   },
   {
    "duration": 271,
    "start_time": "2023-01-30T05:02:42.376Z"
   },
   {
    "duration": 5,
    "start_time": "2023-01-30T05:02:42.649Z"
   },
   {
    "duration": 32,
    "start_time": "2023-01-30T05:02:42.656Z"
   },
   {
    "duration": 161,
    "start_time": "2023-01-30T05:02:42.689Z"
   },
   {
    "duration": 10,
    "start_time": "2023-01-30T05:02:42.853Z"
   },
   {
    "duration": 72,
    "start_time": "2023-01-30T05:02:42.864Z"
   },
   {
    "duration": 4,
    "start_time": "2023-01-30T05:02:42.938Z"
   },
   {
    "duration": 24,
    "start_time": "2023-01-30T05:02:42.943Z"
   },
   {
    "duration": 146,
    "start_time": "2023-01-30T05:02:42.968Z"
   },
   {
    "duration": 10,
    "start_time": "2023-01-30T05:02:43.115Z"
   },
   {
    "duration": 8,
    "start_time": "2023-01-30T05:02:43.126Z"
   },
   {
    "duration": 71,
    "start_time": "2023-01-30T05:02:43.135Z"
   },
   {
    "duration": 330,
    "start_time": "2023-01-30T05:02:43.209Z"
   },
   {
    "duration": 12,
    "start_time": "2023-01-30T05:02:43.540Z"
   },
   {
    "duration": 12,
    "start_time": "2023-01-30T05:02:43.554Z"
   },
   {
    "duration": 310,
    "start_time": "2023-01-30T05:02:43.567Z"
   },
   {
    "duration": 26,
    "start_time": "2023-01-30T05:02:43.879Z"
   },
   {
    "duration": 48,
    "start_time": "2023-01-30T05:02:43.907Z"
   },
   {
    "duration": 178,
    "start_time": "2023-01-30T05:02:43.957Z"
   },
   {
    "duration": 26,
    "start_time": "2023-01-30T05:02:44.137Z"
   },
   {
    "duration": 68,
    "start_time": "2023-01-30T05:02:44.165Z"
   },
   {
    "duration": 87,
    "start_time": "2023-01-30T05:02:44.235Z"
   },
   {
    "duration": 39,
    "start_time": "2023-01-30T05:02:44.326Z"
   },
   {
    "duration": 132,
    "start_time": "2023-01-30T05:02:44.366Z"
   },
   {
    "duration": 0,
    "start_time": "2023-01-30T05:02:44.500Z"
   },
   {
    "duration": 0,
    "start_time": "2023-01-30T05:02:44.502Z"
   },
   {
    "duration": 0,
    "start_time": "2023-01-30T05:02:44.504Z"
   },
   {
    "duration": 0,
    "start_time": "2023-01-30T05:02:44.506Z"
   },
   {
    "duration": 0,
    "start_time": "2023-01-30T05:02:44.507Z"
   },
   {
    "duration": 0,
    "start_time": "2023-01-30T05:02:44.509Z"
   },
   {
    "duration": 0,
    "start_time": "2023-01-30T05:02:44.510Z"
   },
   {
    "duration": 0,
    "start_time": "2023-01-30T05:02:44.512Z"
   },
   {
    "duration": 0,
    "start_time": "2023-01-30T05:02:44.514Z"
   },
   {
    "duration": 0,
    "start_time": "2023-01-30T05:02:44.516Z"
   },
   {
    "duration": 0,
    "start_time": "2023-01-30T05:02:44.517Z"
   },
   {
    "duration": 0,
    "start_time": "2023-01-30T05:02:44.518Z"
   },
   {
    "duration": 0,
    "start_time": "2023-01-30T05:02:44.520Z"
   },
   {
    "duration": 0,
    "start_time": "2023-01-30T05:02:44.521Z"
   },
   {
    "duration": 0,
    "start_time": "2023-01-30T05:02:44.523Z"
   },
   {
    "duration": 4,
    "start_time": "2023-01-30T05:02:56.985Z"
   },
   {
    "duration": 30,
    "start_time": "2023-01-30T05:02:58.723Z"
   },
   {
    "duration": 206,
    "start_time": "2023-01-30T05:02:59.840Z"
   },
   {
    "duration": 101,
    "start_time": "2023-01-30T05:03:12.376Z"
   },
   {
    "duration": 482,
    "start_time": "2023-01-30T05:03:23.583Z"
   },
   {
    "duration": 12,
    "start_time": "2023-01-30T05:03:27.813Z"
   },
   {
    "duration": 88,
    "start_time": "2023-01-30T05:03:42.097Z"
   },
   {
    "duration": 12,
    "start_time": "2023-01-30T05:03:42.860Z"
   },
   {
    "duration": 40,
    "start_time": "2023-01-30T05:03:43.775Z"
   },
   {
    "duration": 1849,
    "start_time": "2023-01-30T05:03:44.064Z"
   },
   {
    "duration": 55,
    "start_time": "2023-01-30T05:03:46.205Z"
   },
   {
    "duration": 160,
    "start_time": "2023-01-30T05:03:46.967Z"
   },
   {
    "duration": 62,
    "start_time": "2023-01-30T05:03:47.151Z"
   },
   {
    "duration": 74,
    "start_time": "2023-01-30T05:03:47.552Z"
   },
   {
    "duration": 17,
    "start_time": "2023-01-30T05:05:48.031Z"
   },
   {
    "duration": 73,
    "start_time": "2023-01-30T05:05:50.349Z"
   },
   {
    "duration": 187,
    "start_time": "2023-01-30T05:05:55.396Z"
   },
   {
    "duration": 1137,
    "start_time": "2023-01-30T05:07:10.244Z"
   },
   {
    "duration": 49,
    "start_time": "2023-01-30T05:07:11.384Z"
   },
   {
    "duration": 298,
    "start_time": "2023-01-30T05:07:11.434Z"
   },
   {
    "duration": 41,
    "start_time": "2023-01-30T05:07:11.735Z"
   },
   {
    "duration": 58,
    "start_time": "2023-01-30T05:07:11.778Z"
   },
   {
    "duration": 268,
    "start_time": "2023-01-30T05:07:11.838Z"
   },
   {
    "duration": 8,
    "start_time": "2023-01-30T05:07:12.109Z"
   },
   {
    "duration": 25,
    "start_time": "2023-01-30T05:07:12.119Z"
   },
   {
    "duration": 169,
    "start_time": "2023-01-30T05:07:12.145Z"
   },
   {
    "duration": 10,
    "start_time": "2023-01-30T05:07:12.317Z"
   },
   {
    "duration": 56,
    "start_time": "2023-01-30T05:07:12.329Z"
   },
   {
    "duration": 11,
    "start_time": "2023-01-30T05:07:12.392Z"
   },
   {
    "duration": 26,
    "start_time": "2023-01-30T05:07:12.405Z"
   },
   {
    "duration": 147,
    "start_time": "2023-01-30T05:07:12.432Z"
   },
   {
    "duration": 20,
    "start_time": "2023-01-30T05:07:12.580Z"
   },
   {
    "duration": 21,
    "start_time": "2023-01-30T05:07:12.602Z"
   },
   {
    "duration": 55,
    "start_time": "2023-01-30T05:07:12.624Z"
   },
   {
    "duration": 293,
    "start_time": "2023-01-30T05:07:12.681Z"
   },
   {
    "duration": 17,
    "start_time": "2023-01-30T05:07:12.976Z"
   },
   {
    "duration": 8,
    "start_time": "2023-01-30T05:07:12.995Z"
   },
   {
    "duration": 320,
    "start_time": "2023-01-30T05:07:13.006Z"
   },
   {
    "duration": 12,
    "start_time": "2023-01-30T05:07:13.328Z"
   },
   {
    "duration": 68,
    "start_time": "2023-01-30T05:07:13.342Z"
   },
   {
    "duration": 179,
    "start_time": "2023-01-30T05:07:13.413Z"
   },
   {
    "duration": 38,
    "start_time": "2023-01-30T05:07:13.595Z"
   },
   {
    "duration": 76,
    "start_time": "2023-01-30T05:07:13.634Z"
   },
   {
    "duration": 110,
    "start_time": "2023-01-30T05:07:13.713Z"
   },
   {
    "duration": 53,
    "start_time": "2023-01-30T05:07:13.827Z"
   },
   {
    "duration": 29,
    "start_time": "2023-01-30T05:07:13.881Z"
   },
   {
    "duration": 222,
    "start_time": "2023-01-30T05:07:13.913Z"
   },
   {
    "duration": 5,
    "start_time": "2023-01-30T05:07:14.136Z"
   },
   {
    "duration": 30,
    "start_time": "2023-01-30T05:07:14.142Z"
   },
   {
    "duration": 243,
    "start_time": "2023-01-30T05:07:14.174Z"
   },
   {
    "duration": 112,
    "start_time": "2023-01-30T05:07:14.419Z"
   },
   {
    "duration": 490,
    "start_time": "2023-01-30T05:07:14.533Z"
   },
   {
    "duration": 11,
    "start_time": "2023-01-30T05:07:15.025Z"
   },
   {
    "duration": 105,
    "start_time": "2023-01-30T05:07:15.038Z"
   },
   {
    "duration": 12,
    "start_time": "2023-01-30T05:07:15.144Z"
   },
   {
    "duration": 58,
    "start_time": "2023-01-30T05:07:15.158Z"
   },
   {
    "duration": 1834,
    "start_time": "2023-01-30T05:07:15.218Z"
   },
   {
    "duration": 42,
    "start_time": "2023-01-30T05:07:17.054Z"
   },
   {
    "duration": 129,
    "start_time": "2023-01-30T05:07:17.099Z"
   },
   {
    "duration": 62,
    "start_time": "2023-01-30T05:07:17.229Z"
   },
   {
    "duration": 66,
    "start_time": "2023-01-30T05:07:17.293Z"
   },
   {
    "duration": 1180,
    "start_time": "2023-01-30T18:16:56.367Z"
   },
   {
    "duration": 83,
    "start_time": "2023-01-30T18:16:57.549Z"
   },
   {
    "duration": 1086,
    "start_time": "2023-01-30T18:16:57.633Z"
   },
   {
    "duration": 113,
    "start_time": "2023-01-30T18:16:58.721Z"
   },
   {
    "duration": 70,
    "start_time": "2023-01-30T18:16:58.835Z"
   },
   {
    "duration": 439,
    "start_time": "2023-01-30T18:16:58.906Z"
   },
   {
    "duration": 57,
    "start_time": "2023-01-30T18:16:59.346Z"
   },
   {
    "duration": 31,
    "start_time": "2023-01-30T18:16:59.405Z"
   },
   {
    "duration": 223,
    "start_time": "2023-01-30T18:16:59.438Z"
   },
   {
    "duration": 35,
    "start_time": "2023-01-30T18:16:59.664Z"
   },
   {
    "duration": 54,
    "start_time": "2023-01-30T18:16:59.701Z"
   },
   {
    "duration": 4,
    "start_time": "2023-01-30T18:16:59.757Z"
   },
   {
    "duration": 33,
    "start_time": "2023-01-30T18:16:59.763Z"
   },
   {
    "duration": 120,
    "start_time": "2023-01-30T18:16:59.797Z"
   },
   {
    "duration": 8,
    "start_time": "2023-01-30T18:16:59.919Z"
   },
   {
    "duration": 14,
    "start_time": "2023-01-30T18:16:59.929Z"
   },
   {
    "duration": 65,
    "start_time": "2023-01-30T18:16:59.944Z"
   },
   {
    "duration": 304,
    "start_time": "2023-01-30T18:17:00.011Z"
   },
   {
    "duration": 12,
    "start_time": "2023-01-30T18:17:00.317Z"
   },
   {
    "duration": 44,
    "start_time": "2023-01-30T18:17:00.331Z"
   },
   {
    "duration": 304,
    "start_time": "2023-01-30T18:17:00.377Z"
   },
   {
    "duration": 19,
    "start_time": "2023-01-30T18:17:00.684Z"
   },
   {
    "duration": 85,
    "start_time": "2023-01-30T18:17:00.705Z"
   },
   {
    "duration": 140,
    "start_time": "2023-01-30T18:17:00.792Z"
   },
   {
    "duration": 27,
    "start_time": "2023-01-30T18:17:00.934Z"
   },
   {
    "duration": 89,
    "start_time": "2023-01-30T18:17:00.963Z"
   },
   {
    "duration": 140,
    "start_time": "2023-01-30T18:17:01.054Z"
   },
   {
    "duration": 49,
    "start_time": "2023-01-30T18:17:01.197Z"
   },
   {
    "duration": 20,
    "start_time": "2023-01-30T18:17:01.248Z"
   },
   {
    "duration": 222,
    "start_time": "2023-01-30T18:17:01.270Z"
   },
   {
    "duration": 4,
    "start_time": "2023-01-30T18:17:01.494Z"
   },
   {
    "duration": 69,
    "start_time": "2023-01-30T18:17:01.500Z"
   },
   {
    "duration": 289,
    "start_time": "2023-01-30T18:17:01.571Z"
   },
   {
    "duration": 92,
    "start_time": "2023-01-30T18:17:01.862Z"
   },
   {
    "duration": 432,
    "start_time": "2023-01-30T18:17:01.955Z"
   },
   {
    "duration": 19,
    "start_time": "2023-01-30T18:17:02.389Z"
   },
   {
    "duration": 133,
    "start_time": "2023-01-30T18:17:02.409Z"
   },
   {
    "duration": 11,
    "start_time": "2023-01-30T18:17:02.544Z"
   },
   {
    "duration": 83,
    "start_time": "2023-01-30T18:17:02.557Z"
   },
   {
    "duration": 1613,
    "start_time": "2023-01-30T18:17:02.642Z"
   },
   {
    "duration": 60,
    "start_time": "2023-01-30T18:17:04.258Z"
   },
   {
    "duration": 135,
    "start_time": "2023-01-30T18:17:04.320Z"
   },
   {
    "duration": 63,
    "start_time": "2023-01-30T18:17:04.457Z"
   },
   {
    "duration": 60,
    "start_time": "2023-01-30T18:17:04.522Z"
   },
   {
    "duration": 20,
    "start_time": "2023-01-30T18:17:10.791Z"
   },
   {
    "duration": 7,
    "start_time": "2023-01-30T18:17:52.426Z"
   },
   {
    "duration": 45,
    "start_time": "2023-01-31T00:01:28.772Z"
   },
   {
    "duration": 1273,
    "start_time": "2023-01-31T00:01:31.799Z"
   },
   {
    "duration": 97,
    "start_time": "2023-01-31T00:01:33.073Z"
   },
   {
    "duration": 533,
    "start_time": "2023-01-31T00:01:33.171Z"
   },
   {
    "duration": 172,
    "start_time": "2023-01-31T00:01:33.706Z"
   },
   {
    "duration": 26,
    "start_time": "2023-01-31T00:01:33.880Z"
   },
   {
    "duration": 213,
    "start_time": "2023-01-31T00:01:33.908Z"
   },
   {
    "duration": 4,
    "start_time": "2023-01-31T00:01:34.123Z"
   },
   {
    "duration": 11,
    "start_time": "2023-01-31T00:01:34.128Z"
   },
   {
    "duration": 141,
    "start_time": "2023-01-31T00:01:34.141Z"
   },
   {
    "duration": 8,
    "start_time": "2023-01-31T00:01:34.291Z"
   },
   {
    "duration": 39,
    "start_time": "2023-01-31T00:01:34.301Z"
   },
   {
    "duration": 3,
    "start_time": "2023-01-31T00:01:34.342Z"
   },
   {
    "duration": 19,
    "start_time": "2023-01-31T00:01:34.347Z"
   },
   {
    "duration": 135,
    "start_time": "2023-01-31T00:01:34.367Z"
   },
   {
    "duration": 9,
    "start_time": "2023-01-31T00:01:34.504Z"
   },
   {
    "duration": 3,
    "start_time": "2023-01-31T00:01:34.514Z"
   },
   {
    "duration": 73,
    "start_time": "2023-01-31T00:01:34.519Z"
   },
   {
    "duration": 269,
    "start_time": "2023-01-31T00:01:34.594Z"
   },
   {
    "duration": 10,
    "start_time": "2023-01-31T00:01:34.865Z"
   },
   {
    "duration": 14,
    "start_time": "2023-01-31T00:01:34.877Z"
   },
   {
    "duration": 244,
    "start_time": "2023-01-31T00:01:34.893Z"
   },
   {
    "duration": 12,
    "start_time": "2023-01-31T00:01:35.138Z"
   },
   {
    "duration": 56,
    "start_time": "2023-01-31T00:01:35.151Z"
   },
   {
    "duration": 133,
    "start_time": "2023-01-31T00:01:35.208Z"
   },
   {
    "duration": 25,
    "start_time": "2023-01-31T00:01:35.343Z"
   },
   {
    "duration": 52,
    "start_time": "2023-01-31T00:01:35.370Z"
   },
   {
    "duration": 88,
    "start_time": "2023-01-31T00:01:35.424Z"
   },
   {
    "duration": 38,
    "start_time": "2023-01-31T00:01:35.516Z"
   },
   {
    "duration": 14,
    "start_time": "2023-01-31T00:01:35.555Z"
   },
   {
    "duration": 156,
    "start_time": "2023-01-31T00:01:35.591Z"
   },
   {
    "duration": 4,
    "start_time": "2023-01-31T00:01:35.748Z"
   },
   {
    "duration": 42,
    "start_time": "2023-01-31T00:01:35.753Z"
   },
   {
    "duration": 171,
    "start_time": "2023-01-31T00:01:35.796Z"
   },
   {
    "duration": 144,
    "start_time": "2023-01-31T00:01:35.969Z"
   },
   {
    "duration": 0,
    "start_time": "2023-01-31T00:01:36.114Z"
   },
   {
    "duration": 0,
    "start_time": "2023-01-31T00:01:36.115Z"
   },
   {
    "duration": 0,
    "start_time": "2023-01-31T00:01:36.116Z"
   },
   {
    "duration": 0,
    "start_time": "2023-01-31T00:01:36.117Z"
   },
   {
    "duration": 0,
    "start_time": "2023-01-31T00:01:36.118Z"
   },
   {
    "duration": 0,
    "start_time": "2023-01-31T00:01:36.120Z"
   },
   {
    "duration": 0,
    "start_time": "2023-01-31T00:01:36.121Z"
   },
   {
    "duration": 0,
    "start_time": "2023-01-31T00:01:36.121Z"
   },
   {
    "duration": 0,
    "start_time": "2023-01-31T00:01:36.122Z"
   },
   {
    "duration": 0,
    "start_time": "2023-01-31T00:01:36.123Z"
   },
   {
    "duration": 0,
    "start_time": "2023-01-31T00:01:36.124Z"
   },
   {
    "duration": 1084,
    "start_time": "2023-01-31T00:01:55.915Z"
   },
   {
    "duration": 41,
    "start_time": "2023-01-31T00:01:57.001Z"
   },
   {
    "duration": 240,
    "start_time": "2023-01-31T00:01:57.043Z"
   },
   {
    "duration": 38,
    "start_time": "2023-01-31T00:01:57.291Z"
   },
   {
    "duration": 27,
    "start_time": "2023-01-31T00:01:57.331Z"
   },
   {
    "duration": 208,
    "start_time": "2023-01-31T00:01:57.359Z"
   },
   {
    "duration": 5,
    "start_time": "2023-01-31T00:01:57.568Z"
   },
   {
    "duration": 23,
    "start_time": "2023-01-31T00:01:57.575Z"
   },
   {
    "duration": 134,
    "start_time": "2023-01-31T00:01:57.600Z"
   },
   {
    "duration": 9,
    "start_time": "2023-01-31T00:01:57.737Z"
   },
   {
    "duration": 62,
    "start_time": "2023-01-31T00:01:57.748Z"
   },
   {
    "duration": 6,
    "start_time": "2023-01-31T00:01:57.812Z"
   },
   {
    "duration": 24,
    "start_time": "2023-01-31T00:01:57.819Z"
   },
   {
    "duration": 126,
    "start_time": "2023-01-31T00:01:57.844Z"
   },
   {
    "duration": 10,
    "start_time": "2023-01-31T00:01:57.972Z"
   },
   {
    "duration": 16,
    "start_time": "2023-01-31T00:01:57.983Z"
   },
   {
    "duration": 53,
    "start_time": "2023-01-31T00:01:58.001Z"
   },
   {
    "duration": 297,
    "start_time": "2023-01-31T00:01:58.056Z"
   },
   {
    "duration": 13,
    "start_time": "2023-01-31T00:01:58.355Z"
   },
   {
    "duration": 23,
    "start_time": "2023-01-31T00:01:58.370Z"
   },
   {
    "duration": 260,
    "start_time": "2023-01-31T00:01:58.395Z"
   },
   {
    "duration": 10,
    "start_time": "2023-01-31T00:01:58.657Z"
   },
   {
    "duration": 54,
    "start_time": "2023-01-31T00:01:58.669Z"
   },
   {
    "duration": 138,
    "start_time": "2023-01-31T00:01:58.724Z"
   },
   {
    "duration": 35,
    "start_time": "2023-01-31T00:01:58.863Z"
   },
   {
    "duration": 40,
    "start_time": "2023-01-31T00:01:58.900Z"
   },
   {
    "duration": 98,
    "start_time": "2023-01-31T00:01:58.941Z"
   },
   {
    "duration": 50,
    "start_time": "2023-01-31T00:01:59.042Z"
   },
   {
    "duration": 14,
    "start_time": "2023-01-31T00:01:59.093Z"
   },
   {
    "duration": 177,
    "start_time": "2023-01-31T00:01:59.108Z"
   },
   {
    "duration": 4,
    "start_time": "2023-01-31T00:01:59.287Z"
   },
   {
    "duration": 26,
    "start_time": "2023-01-31T00:01:59.293Z"
   },
   {
    "duration": 186,
    "start_time": "2023-01-31T00:01:59.321Z"
   },
   {
    "duration": 175,
    "start_time": "2023-01-31T00:01:59.509Z"
   },
   {
    "duration": 0,
    "start_time": "2023-01-31T00:01:59.685Z"
   },
   {
    "duration": 0,
    "start_time": "2023-01-31T00:01:59.686Z"
   },
   {
    "duration": 0,
    "start_time": "2023-01-31T00:01:59.691Z"
   },
   {
    "duration": 0,
    "start_time": "2023-01-31T00:01:59.692Z"
   },
   {
    "duration": 0,
    "start_time": "2023-01-31T00:01:59.693Z"
   },
   {
    "duration": 0,
    "start_time": "2023-01-31T00:01:59.694Z"
   },
   {
    "duration": 0,
    "start_time": "2023-01-31T00:01:59.695Z"
   },
   {
    "duration": 0,
    "start_time": "2023-01-31T00:01:59.696Z"
   },
   {
    "duration": 0,
    "start_time": "2023-01-31T00:01:59.697Z"
   },
   {
    "duration": 0,
    "start_time": "2023-01-31T00:01:59.698Z"
   },
   {
    "duration": 0,
    "start_time": "2023-01-31T00:01:59.699Z"
   },
   {
    "duration": 59,
    "start_time": "2023-02-03T09:30:06.979Z"
   },
   {
    "duration": 1440,
    "start_time": "2023-02-03T09:30:09.592Z"
   },
   {
    "duration": 105,
    "start_time": "2023-02-03T09:30:11.035Z"
   },
   {
    "duration": 599,
    "start_time": "2023-02-03T09:30:11.141Z"
   },
   {
    "duration": 186,
    "start_time": "2023-02-03T09:30:11.742Z"
   },
   {
    "duration": 29,
    "start_time": "2023-02-03T09:30:11.929Z"
   },
   {
    "duration": 246,
    "start_time": "2023-02-03T09:30:11.960Z"
   },
   {
    "duration": 5,
    "start_time": "2023-02-03T09:30:12.208Z"
   },
   {
    "duration": 13,
    "start_time": "2023-02-03T09:30:12.214Z"
   },
   {
    "duration": 162,
    "start_time": "2023-02-03T09:30:12.228Z"
   },
   {
    "duration": 9,
    "start_time": "2023-02-03T09:30:12.393Z"
   },
   {
    "duration": 40,
    "start_time": "2023-02-03T09:30:12.404Z"
   },
   {
    "duration": 29,
    "start_time": "2023-02-03T09:30:12.446Z"
   },
   {
    "duration": 34,
    "start_time": "2023-02-03T09:30:12.477Z"
   },
   {
    "duration": 141,
    "start_time": "2023-02-03T09:30:12.513Z"
   },
   {
    "duration": 31,
    "start_time": "2023-02-03T09:30:12.656Z"
   },
   {
    "duration": 5,
    "start_time": "2023-02-03T09:30:12.689Z"
   },
   {
    "duration": 55,
    "start_time": "2023-02-03T09:30:12.696Z"
   },
   {
    "duration": 334,
    "start_time": "2023-02-03T09:30:12.753Z"
   },
   {
    "duration": 11,
    "start_time": "2023-02-03T09:30:13.089Z"
   },
   {
    "duration": 5,
    "start_time": "2023-02-03T09:30:13.101Z"
   },
   {
    "duration": 298,
    "start_time": "2023-02-03T09:30:13.107Z"
   },
   {
    "duration": 14,
    "start_time": "2023-02-03T09:30:13.407Z"
   },
   {
    "duration": 62,
    "start_time": "2023-02-03T09:30:13.423Z"
   },
   {
    "duration": 180,
    "start_time": "2023-02-03T09:30:13.487Z"
   },
   {
    "duration": 43,
    "start_time": "2023-02-03T09:30:13.677Z"
   },
   {
    "duration": 74,
    "start_time": "2023-02-03T09:30:13.723Z"
   },
   {
    "duration": 114,
    "start_time": "2023-02-03T09:30:13.799Z"
   },
   {
    "duration": 80,
    "start_time": "2023-02-03T09:30:13.919Z"
   },
   {
    "duration": 18,
    "start_time": "2023-02-03T09:30:14.001Z"
   },
   {
    "duration": 214,
    "start_time": "2023-02-03T09:30:14.020Z"
   },
   {
    "duration": 4,
    "start_time": "2023-02-03T09:30:14.236Z"
   },
   {
    "duration": 51,
    "start_time": "2023-02-03T09:30:14.242Z"
   },
   {
    "duration": 200,
    "start_time": "2023-02-03T09:30:14.295Z"
   },
   {
    "duration": 158,
    "start_time": "2023-02-03T09:30:14.506Z"
   },
   {
    "duration": 0,
    "start_time": "2023-02-03T09:30:14.666Z"
   },
   {
    "duration": 0,
    "start_time": "2023-02-03T09:30:14.668Z"
   },
   {
    "duration": 0,
    "start_time": "2023-02-03T09:30:14.669Z"
   },
   {
    "duration": 0,
    "start_time": "2023-02-03T09:30:14.670Z"
   },
   {
    "duration": 0,
    "start_time": "2023-02-03T09:30:14.672Z"
   },
   {
    "duration": 0,
    "start_time": "2023-02-03T09:30:14.674Z"
   },
   {
    "duration": 0,
    "start_time": "2023-02-03T09:30:14.675Z"
   },
   {
    "duration": 0,
    "start_time": "2023-02-03T09:30:14.677Z"
   },
   {
    "duration": 0,
    "start_time": "2023-02-03T09:30:14.679Z"
   },
   {
    "duration": 0,
    "start_time": "2023-02-03T09:30:14.681Z"
   },
   {
    "duration": 0,
    "start_time": "2023-02-03T09:30:14.683Z"
   },
   {
    "duration": 75,
    "start_time": "2023-02-03T09:30:40.792Z"
   },
   {
    "duration": 90,
    "start_time": "2023-02-03T09:30:45.346Z"
   },
   {
    "duration": 88,
    "start_time": "2023-02-03T09:36:22.783Z"
   },
   {
    "duration": 94,
    "start_time": "2023-02-03T09:36:45.744Z"
   },
   {
    "duration": 88,
    "start_time": "2023-02-03T09:39:40.777Z"
   },
   {
    "duration": 70,
    "start_time": "2023-02-03T09:40:00.137Z"
   },
   {
    "duration": 76,
    "start_time": "2023-02-03T09:40:24.064Z"
   },
   {
    "duration": 84,
    "start_time": "2023-02-03T09:41:06.330Z"
   },
   {
    "duration": 104,
    "start_time": "2023-02-03T09:41:27.132Z"
   },
   {
    "duration": 197,
    "start_time": "2023-02-03T09:42:23.531Z"
   },
   {
    "duration": 91,
    "start_time": "2023-02-03T09:43:20.105Z"
   },
   {
    "duration": 99,
    "start_time": "2023-02-03T09:43:32.347Z"
   },
   {
    "duration": 454,
    "start_time": "2023-02-03T09:44:30.747Z"
   },
   {
    "duration": 678,
    "start_time": "2023-02-03T09:44:34.842Z"
   },
   {
    "duration": 1196,
    "start_time": "2023-02-03T09:44:46.433Z"
   },
   {
    "duration": 46,
    "start_time": "2023-02-03T09:44:47.631Z"
   },
   {
    "duration": 258,
    "start_time": "2023-02-03T09:44:47.679Z"
   },
   {
    "duration": 51,
    "start_time": "2023-02-03T09:44:47.939Z"
   },
   {
    "duration": 30,
    "start_time": "2023-02-03T09:44:47.991Z"
   },
   {
    "duration": 257,
    "start_time": "2023-02-03T09:44:48.022Z"
   },
   {
    "duration": 4,
    "start_time": "2023-02-03T09:44:48.283Z"
   },
   {
    "duration": 13,
    "start_time": "2023-02-03T09:44:48.289Z"
   },
   {
    "duration": 139,
    "start_time": "2023-02-03T09:44:48.303Z"
   },
   {
    "duration": 9,
    "start_time": "2023-02-03T09:44:48.445Z"
   },
   {
    "duration": 58,
    "start_time": "2023-02-03T09:44:48.455Z"
   },
   {
    "duration": 4,
    "start_time": "2023-02-03T09:44:48.514Z"
   },
   {
    "duration": 20,
    "start_time": "2023-02-03T09:44:48.520Z"
   },
   {
    "duration": 147,
    "start_time": "2023-02-03T09:44:48.542Z"
   },
   {
    "duration": 10,
    "start_time": "2023-02-03T09:44:48.690Z"
   },
   {
    "duration": 14,
    "start_time": "2023-02-03T09:44:48.701Z"
   },
   {
    "duration": 66,
    "start_time": "2023-02-03T09:44:48.716Z"
   },
   {
    "duration": 287,
    "start_time": "2023-02-03T09:44:48.783Z"
   },
   {
    "duration": 14,
    "start_time": "2023-02-03T09:44:49.073Z"
   },
   {
    "duration": 18,
    "start_time": "2023-02-03T09:44:49.090Z"
   },
   {
    "duration": 279,
    "start_time": "2023-02-03T09:44:49.110Z"
   },
   {
    "duration": 11,
    "start_time": "2023-02-03T09:44:49.391Z"
   },
   {
    "duration": 69,
    "start_time": "2023-02-03T09:44:49.404Z"
   },
   {
    "duration": 172,
    "start_time": "2023-02-03T09:44:49.475Z"
   },
   {
    "duration": 48,
    "start_time": "2023-02-03T09:44:49.650Z"
   },
   {
    "duration": 44,
    "start_time": "2023-02-03T09:44:49.700Z"
   },
   {
    "duration": 93,
    "start_time": "2023-02-03T09:44:49.745Z"
   },
   {
    "duration": 63,
    "start_time": "2023-02-03T09:44:49.841Z"
   },
   {
    "duration": 14,
    "start_time": "2023-02-03T09:44:49.905Z"
   },
   {
    "duration": 200,
    "start_time": "2023-02-03T09:44:49.920Z"
   },
   {
    "duration": 4,
    "start_time": "2023-02-03T09:44:50.121Z"
   },
   {
    "duration": 33,
    "start_time": "2023-02-03T09:44:50.127Z"
   },
   {
    "duration": 221,
    "start_time": "2023-02-03T09:44:50.162Z"
   },
   {
    "duration": 205,
    "start_time": "2023-02-03T09:44:50.385Z"
   },
   {
    "duration": 515,
    "start_time": "2023-02-03T09:44:50.591Z"
   },
   {
    "duration": 12,
    "start_time": "2023-02-03T09:44:51.107Z"
   },
   {
    "duration": 29,
    "start_time": "2023-02-03T09:44:51.120Z"
   },
   {
    "duration": 92,
    "start_time": "2023-02-03T09:44:51.151Z"
   },
   {
    "duration": 12,
    "start_time": "2023-02-03T09:44:51.245Z"
   },
   {
    "duration": 49,
    "start_time": "2023-02-03T09:44:51.259Z"
   },
   {
    "duration": 1594,
    "start_time": "2023-02-03T09:44:51.310Z"
   },
   {
    "duration": 50,
    "start_time": "2023-02-03T09:44:52.906Z"
   },
   {
    "duration": 146,
    "start_time": "2023-02-03T09:44:52.957Z"
   },
   {
    "duration": 75,
    "start_time": "2023-02-03T09:44:53.105Z"
   },
   {
    "duration": 59,
    "start_time": "2023-02-03T09:44:53.181Z"
   },
   {
    "duration": 14,
    "start_time": "2023-02-03T09:45:25.959Z"
   },
   {
    "duration": 110,
    "start_time": "2023-02-03T09:46:42.783Z"
   },
   {
    "duration": 32,
    "start_time": "2023-02-03T09:47:03.446Z"
   },
   {
    "duration": 6,
    "start_time": "2023-02-03T09:47:16.885Z"
   },
   {
    "duration": 7,
    "start_time": "2023-02-03T09:47:52.428Z"
   },
   {
    "duration": 120,
    "start_time": "2023-02-03T09:49:40.313Z"
   },
   {
    "duration": 86,
    "start_time": "2023-02-03T09:50:11.304Z"
   },
   {
    "duration": 107,
    "start_time": "2023-02-03T09:50:43.120Z"
   },
   {
    "duration": 111,
    "start_time": "2023-02-03T09:50:50.557Z"
   },
   {
    "duration": 11,
    "start_time": "2023-02-03T09:50:54.367Z"
   },
   {
    "duration": 498,
    "start_time": "2023-02-03T09:50:56.063Z"
   },
   {
    "duration": 8,
    "start_time": "2023-02-03T09:51:05.236Z"
   },
   {
    "duration": 98,
    "start_time": "2023-02-03T09:51:27.931Z"
   },
   {
    "duration": 5,
    "start_time": "2023-02-03T09:51:31.484Z"
   },
   {
    "duration": 468,
    "start_time": "2023-02-03T09:51:33.391Z"
   },
   {
    "duration": 359,
    "start_time": "2023-02-03T09:51:57.516Z"
   },
   {
    "duration": 119,
    "start_time": "2023-02-03T09:52:05.617Z"
   },
   {
    "duration": 7,
    "start_time": "2023-02-03T09:52:07.154Z"
   },
   {
    "duration": 431,
    "start_time": "2023-02-03T09:52:08.602Z"
   },
   {
    "duration": 126,
    "start_time": "2023-02-03T09:52:49.389Z"
   },
   {
    "duration": 117,
    "start_time": "2023-02-03T09:53:46.106Z"
   },
   {
    "duration": 9,
    "start_time": "2023-02-03T09:53:47.666Z"
   },
   {
    "duration": 730,
    "start_time": "2023-02-03T09:53:50.259Z"
   },
   {
    "duration": 23,
    "start_time": "2023-02-03T09:54:03.389Z"
   },
   {
    "duration": 14,
    "start_time": "2023-02-03T09:54:33.580Z"
   },
   {
    "duration": 9,
    "start_time": "2023-02-03T09:54:46.757Z"
   },
   {
    "duration": 50,
    "start_time": "2023-02-04T12:33:51.940Z"
   },
   {
    "duration": 8,
    "start_time": "2023-02-04T12:33:55.396Z"
   },
   {
    "duration": 7,
    "start_time": "2023-02-04T12:33:56.498Z"
   },
   {
    "duration": 1275,
    "start_time": "2023-02-04T12:34:01.058Z"
   },
   {
    "duration": 78,
    "start_time": "2023-02-04T12:34:02.335Z"
   },
   {
    "duration": 733,
    "start_time": "2023-02-04T12:34:02.415Z"
   },
   {
    "duration": 90,
    "start_time": "2023-02-04T12:34:03.150Z"
   },
   {
    "duration": 28,
    "start_time": "2023-02-04T12:34:03.242Z"
   },
   {
    "duration": 225,
    "start_time": "2023-02-04T12:34:03.272Z"
   },
   {
    "duration": 5,
    "start_time": "2023-02-04T12:34:03.499Z"
   },
   {
    "duration": 25,
    "start_time": "2023-02-04T12:34:03.505Z"
   },
   {
    "duration": 136,
    "start_time": "2023-02-04T12:34:03.532Z"
   },
   {
    "duration": 10,
    "start_time": "2023-02-04T12:34:03.669Z"
   },
   {
    "duration": 53,
    "start_time": "2023-02-04T12:34:03.680Z"
   },
   {
    "duration": 4,
    "start_time": "2023-02-04T12:34:03.734Z"
   },
   {
    "duration": 26,
    "start_time": "2023-02-04T12:34:03.740Z"
   },
   {
    "duration": 119,
    "start_time": "2023-02-04T12:34:03.769Z"
   },
   {
    "duration": 12,
    "start_time": "2023-02-04T12:34:03.890Z"
   },
   {
    "duration": 7,
    "start_time": "2023-02-04T12:34:03.904Z"
   },
   {
    "duration": 49,
    "start_time": "2023-02-04T12:34:03.926Z"
   },
   {
    "duration": 304,
    "start_time": "2023-02-04T12:34:03.977Z"
   },
   {
    "duration": 12,
    "start_time": "2023-02-04T12:34:04.283Z"
   },
   {
    "duration": 7,
    "start_time": "2023-02-04T12:34:04.297Z"
   },
   {
    "duration": 289,
    "start_time": "2023-02-04T12:34:04.306Z"
   },
   {
    "duration": 12,
    "start_time": "2023-02-04T12:34:04.596Z"
   },
   {
    "duration": 51,
    "start_time": "2023-02-04T12:34:04.610Z"
   },
   {
    "duration": 164,
    "start_time": "2023-02-04T12:34:04.663Z"
   },
   {
    "duration": 27,
    "start_time": "2023-02-04T12:34:04.829Z"
   },
   {
    "duration": 46,
    "start_time": "2023-02-04T12:34:04.857Z"
   },
   {
    "duration": 96,
    "start_time": "2023-02-04T12:34:04.904Z"
   },
   {
    "duration": 48,
    "start_time": "2023-02-04T12:34:05.001Z"
   },
   {
    "duration": 14,
    "start_time": "2023-02-04T12:34:05.051Z"
   },
   {
    "duration": 193,
    "start_time": "2023-02-04T12:34:05.066Z"
   },
   {
    "duration": 5,
    "start_time": "2023-02-04T12:34:05.261Z"
   },
   {
    "duration": 37,
    "start_time": "2023-02-04T12:34:05.267Z"
   },
   {
    "duration": 192,
    "start_time": "2023-02-04T12:34:05.305Z"
   },
   {
    "duration": 115,
    "start_time": "2023-02-04T12:34:05.498Z"
   },
   {
    "duration": 113,
    "start_time": "2023-02-04T12:34:05.615Z"
   },
   {
    "duration": 0,
    "start_time": "2023-02-04T12:34:05.730Z"
   },
   {
    "duration": 0,
    "start_time": "2023-02-04T12:34:05.731Z"
   },
   {
    "duration": 0,
    "start_time": "2023-02-04T12:34:05.732Z"
   },
   {
    "duration": 0,
    "start_time": "2023-02-04T12:34:05.733Z"
   },
   {
    "duration": 0,
    "start_time": "2023-02-04T12:34:05.734Z"
   },
   {
    "duration": 0,
    "start_time": "2023-02-04T12:34:05.736Z"
   },
   {
    "duration": 0,
    "start_time": "2023-02-04T12:34:05.737Z"
   },
   {
    "duration": 0,
    "start_time": "2023-02-04T12:34:05.737Z"
   },
   {
    "duration": 1,
    "start_time": "2023-02-04T12:34:05.738Z"
   },
   {
    "duration": 0,
    "start_time": "2023-02-04T12:34:05.740Z"
   },
   {
    "duration": 0,
    "start_time": "2023-02-04T12:34:05.741Z"
   },
   {
    "duration": 13,
    "start_time": "2023-02-04T12:34:20.995Z"
   },
   {
    "duration": 5,
    "start_time": "2023-02-04T12:34:37.268Z"
   },
   {
    "duration": 438,
    "start_time": "2023-02-04T12:38:35.727Z"
   },
   {
    "duration": 78,
    "start_time": "2023-02-04T12:40:53.602Z"
   },
   {
    "duration": 73,
    "start_time": "2023-02-04T12:41:02.065Z"
   },
   {
    "duration": 74,
    "start_time": "2023-02-04T12:41:16.432Z"
   },
   {
    "duration": 73,
    "start_time": "2023-02-04T12:43:27.879Z"
   },
   {
    "duration": 75,
    "start_time": "2023-02-04T12:43:31.280Z"
   },
   {
    "duration": 1238,
    "start_time": "2023-02-04T12:43:40.482Z"
   },
   {
    "duration": 40,
    "start_time": "2023-02-04T12:43:41.721Z"
   },
   {
    "duration": 235,
    "start_time": "2023-02-04T12:43:41.762Z"
   },
   {
    "duration": 37,
    "start_time": "2023-02-04T12:43:41.999Z"
   },
   {
    "duration": 27,
    "start_time": "2023-02-04T12:43:42.037Z"
   },
   {
    "duration": 238,
    "start_time": "2023-02-04T12:43:42.066Z"
   },
   {
    "duration": 6,
    "start_time": "2023-02-04T12:43:42.306Z"
   },
   {
    "duration": 16,
    "start_time": "2023-02-04T12:43:42.326Z"
   },
   {
    "duration": 145,
    "start_time": "2023-02-04T12:43:42.344Z"
   },
   {
    "duration": 13,
    "start_time": "2023-02-04T12:43:42.493Z"
   },
   {
    "duration": 108,
    "start_time": "2023-02-04T12:43:42.509Z"
   },
   {
    "duration": 4,
    "start_time": "2023-02-04T12:43:42.619Z"
   },
   {
    "duration": 28,
    "start_time": "2023-02-04T12:43:42.625Z"
   },
   {
    "duration": 117,
    "start_time": "2023-02-04T12:43:42.655Z"
   },
   {
    "duration": 12,
    "start_time": "2023-02-04T12:43:42.774Z"
   },
   {
    "duration": 20,
    "start_time": "2023-02-04T12:43:42.788Z"
   },
   {
    "duration": 89,
    "start_time": "2023-02-04T12:43:42.810Z"
   },
   {
    "duration": 302,
    "start_time": "2023-02-04T12:43:42.901Z"
   },
   {
    "duration": 12,
    "start_time": "2023-02-04T12:43:43.204Z"
   },
   {
    "duration": 29,
    "start_time": "2023-02-04T12:43:43.218Z"
   },
   {
    "duration": 294,
    "start_time": "2023-02-04T12:43:43.249Z"
   },
   {
    "duration": 11,
    "start_time": "2023-02-04T12:43:43.545Z"
   },
   {
    "duration": 42,
    "start_time": "2023-02-04T12:43:43.557Z"
   },
   {
    "duration": 167,
    "start_time": "2023-02-04T12:43:43.601Z"
   },
   {
    "duration": 30,
    "start_time": "2023-02-04T12:43:43.770Z"
   },
   {
    "duration": 74,
    "start_time": "2023-02-04T12:43:43.802Z"
   },
   {
    "duration": 85,
    "start_time": "2023-02-04T12:43:43.878Z"
   },
   {
    "duration": 44,
    "start_time": "2023-02-04T12:43:43.966Z"
   },
   {
    "duration": 27,
    "start_time": "2023-02-04T12:43:44.012Z"
   },
   {
    "duration": 177,
    "start_time": "2023-02-04T12:43:44.041Z"
   },
   {
    "duration": 9,
    "start_time": "2023-02-04T12:43:44.219Z"
   },
   {
    "duration": 33,
    "start_time": "2023-02-04T12:43:44.230Z"
   },
   {
    "duration": 189,
    "start_time": "2023-02-04T12:43:44.265Z"
   },
   {
    "duration": 174,
    "start_time": "2023-02-04T12:43:44.456Z"
   },
   {
    "duration": 0,
    "start_time": "2023-02-04T12:43:44.632Z"
   },
   {
    "duration": 0,
    "start_time": "2023-02-04T12:43:44.633Z"
   },
   {
    "duration": 0,
    "start_time": "2023-02-04T12:43:44.634Z"
   },
   {
    "duration": 0,
    "start_time": "2023-02-04T12:43:44.635Z"
   },
   {
    "duration": 0,
    "start_time": "2023-02-04T12:43:44.637Z"
   },
   {
    "duration": 0,
    "start_time": "2023-02-04T12:43:44.638Z"
   },
   {
    "duration": 0,
    "start_time": "2023-02-04T12:43:44.639Z"
   },
   {
    "duration": 0,
    "start_time": "2023-02-04T12:43:44.640Z"
   },
   {
    "duration": 0,
    "start_time": "2023-02-04T12:43:44.641Z"
   },
   {
    "duration": 0,
    "start_time": "2023-02-04T12:43:44.642Z"
   },
   {
    "duration": 0,
    "start_time": "2023-02-04T12:43:44.643Z"
   },
   {
    "duration": 0,
    "start_time": "2023-02-04T12:43:44.644Z"
   },
   {
    "duration": 102,
    "start_time": "2023-02-04T12:47:28.980Z"
   },
   {
    "duration": 280,
    "start_time": "2023-02-04T12:48:33.822Z"
   },
   {
    "duration": 217,
    "start_time": "2023-02-04T12:48:43.044Z"
   },
   {
    "duration": 5,
    "start_time": "2023-02-04T12:48:48.593Z"
   },
   {
    "duration": 305,
    "start_time": "2023-02-04T12:48:49.949Z"
   },
   {
    "duration": 72,
    "start_time": "2023-02-04T12:51:08.753Z"
   },
   {
    "duration": 76,
    "start_time": "2023-02-04T12:51:15.980Z"
   },
   {
    "duration": 75,
    "start_time": "2023-02-04T12:51:22.584Z"
   },
   {
    "duration": 70,
    "start_time": "2023-02-04T12:52:02.224Z"
   },
   {
    "duration": 1100,
    "start_time": "2023-02-04T12:52:10.858Z"
   },
   {
    "duration": 41,
    "start_time": "2023-02-04T12:52:11.960Z"
   },
   {
    "duration": 223,
    "start_time": "2023-02-04T12:52:12.002Z"
   },
   {
    "duration": 36,
    "start_time": "2023-02-04T12:52:12.227Z"
   },
   {
    "duration": 27,
    "start_time": "2023-02-04T12:52:12.264Z"
   },
   {
    "duration": 222,
    "start_time": "2023-02-04T12:52:12.293Z"
   },
   {
    "duration": 13,
    "start_time": "2023-02-04T12:52:12.517Z"
   },
   {
    "duration": 28,
    "start_time": "2023-02-04T12:52:12.531Z"
   },
   {
    "duration": 132,
    "start_time": "2023-02-04T12:52:12.560Z"
   },
   {
    "duration": 10,
    "start_time": "2023-02-04T12:52:12.694Z"
   },
   {
    "duration": 52,
    "start_time": "2023-02-04T12:52:12.706Z"
   },
   {
    "duration": 4,
    "start_time": "2023-02-04T12:52:12.759Z"
   },
   {
    "duration": 39,
    "start_time": "2023-02-04T12:52:12.765Z"
   },
   {
    "duration": 106,
    "start_time": "2023-02-04T12:52:12.806Z"
   },
   {
    "duration": 14,
    "start_time": "2023-02-04T12:52:12.914Z"
   },
   {
    "duration": 3,
    "start_time": "2023-02-04T12:52:12.930Z"
   },
   {
    "duration": 76,
    "start_time": "2023-02-04T12:52:12.935Z"
   },
   {
    "duration": 293,
    "start_time": "2023-02-04T12:52:13.013Z"
   },
   {
    "duration": 20,
    "start_time": "2023-02-04T12:52:13.308Z"
   },
   {
    "duration": 5,
    "start_time": "2023-02-04T12:52:13.330Z"
   },
   {
    "duration": 268,
    "start_time": "2023-02-04T12:52:13.337Z"
   },
   {
    "duration": 22,
    "start_time": "2023-02-04T12:52:13.607Z"
   },
   {
    "duration": 40,
    "start_time": "2023-02-04T12:52:13.630Z"
   },
   {
    "duration": 157,
    "start_time": "2023-02-04T12:52:13.672Z"
   },
   {
    "duration": 29,
    "start_time": "2023-02-04T12:52:13.831Z"
   },
   {
    "duration": 43,
    "start_time": "2023-02-04T12:52:13.862Z"
   },
   {
    "duration": 77,
    "start_time": "2023-02-04T12:52:13.926Z"
   },
   {
    "duration": 51,
    "start_time": "2023-02-04T12:52:14.007Z"
   },
   {
    "duration": 16,
    "start_time": "2023-02-04T12:52:14.060Z"
   },
   {
    "duration": 197,
    "start_time": "2023-02-04T12:52:14.078Z"
   },
   {
    "duration": 5,
    "start_time": "2023-02-04T12:52:14.277Z"
   },
   {
    "duration": 35,
    "start_time": "2023-02-04T12:52:14.284Z"
   },
   {
    "duration": 185,
    "start_time": "2023-02-04T12:52:14.327Z"
   },
   {
    "duration": 173,
    "start_time": "2023-02-04T12:52:14.514Z"
   },
   {
    "duration": 0,
    "start_time": "2023-02-04T12:52:14.689Z"
   },
   {
    "duration": 0,
    "start_time": "2023-02-04T12:52:14.690Z"
   },
   {
    "duration": 0,
    "start_time": "2023-02-04T12:52:14.691Z"
   },
   {
    "duration": 0,
    "start_time": "2023-02-04T12:52:14.692Z"
   },
   {
    "duration": 0,
    "start_time": "2023-02-04T12:52:14.693Z"
   },
   {
    "duration": 0,
    "start_time": "2023-02-04T12:52:14.695Z"
   },
   {
    "duration": 0,
    "start_time": "2023-02-04T12:52:14.696Z"
   },
   {
    "duration": 0,
    "start_time": "2023-02-04T12:52:14.697Z"
   },
   {
    "duration": 0,
    "start_time": "2023-02-04T12:52:14.699Z"
   },
   {
    "duration": 0,
    "start_time": "2023-02-04T12:52:14.700Z"
   },
   {
    "duration": 0,
    "start_time": "2023-02-04T12:52:14.701Z"
   },
   {
    "duration": 0,
    "start_time": "2023-02-04T12:52:14.702Z"
   },
   {
    "duration": 82,
    "start_time": "2023-02-04T12:52:27.384Z"
   },
   {
    "duration": 315,
    "start_time": "2023-02-04T12:52:35.590Z"
   },
   {
    "duration": 206,
    "start_time": "2023-02-04T12:54:53.993Z"
   },
   {
    "duration": 82,
    "start_time": "2023-02-04T12:55:13.946Z"
   },
   {
    "duration": 86,
    "start_time": "2023-02-04T12:55:35.258Z"
   },
   {
    "duration": 2700,
    "start_time": "2023-02-04T12:58:09.491Z"
   },
   {
    "duration": 2572,
    "start_time": "2023-02-04T12:58:33.203Z"
   },
   {
    "duration": 2532,
    "start_time": "2023-02-04T12:58:59.651Z"
   },
   {
    "duration": 2502,
    "start_time": "2023-02-04T12:59:35.054Z"
   },
   {
    "duration": 2549,
    "start_time": "2023-02-04T12:59:52.523Z"
   },
   {
    "duration": 87,
    "start_time": "2023-02-04T13:00:17.542Z"
   },
   {
    "duration": 93,
    "start_time": "2023-02-04T13:00:22.263Z"
   },
   {
    "duration": 91,
    "start_time": "2023-02-04T13:00:30.805Z"
   },
   {
    "duration": 1158,
    "start_time": "2023-02-04T13:00:39.765Z"
   },
   {
    "duration": 41,
    "start_time": "2023-02-04T13:00:40.926Z"
   },
   {
    "duration": 231,
    "start_time": "2023-02-04T13:00:40.969Z"
   },
   {
    "duration": 37,
    "start_time": "2023-02-04T13:00:41.202Z"
   },
   {
    "duration": 29,
    "start_time": "2023-02-04T13:00:41.240Z"
   },
   {
    "duration": 244,
    "start_time": "2023-02-04T13:00:41.270Z"
   },
   {
    "duration": 12,
    "start_time": "2023-02-04T13:00:41.516Z"
   },
   {
    "duration": 16,
    "start_time": "2023-02-04T13:00:41.529Z"
   },
   {
    "duration": 136,
    "start_time": "2023-02-04T13:00:41.546Z"
   },
   {
    "duration": 10,
    "start_time": "2023-02-04T13:00:41.685Z"
   },
   {
    "duration": 55,
    "start_time": "2023-02-04T13:00:41.696Z"
   },
   {
    "duration": 4,
    "start_time": "2023-02-04T13:00:41.753Z"
   },
   {
    "duration": 21,
    "start_time": "2023-02-04T13:00:41.759Z"
   },
   {
    "duration": 127,
    "start_time": "2023-02-04T13:00:41.782Z"
   },
   {
    "duration": 16,
    "start_time": "2023-02-04T13:00:41.912Z"
   },
   {
    "duration": 11,
    "start_time": "2023-02-04T13:00:41.930Z"
   },
   {
    "duration": 56,
    "start_time": "2023-02-04T13:00:41.942Z"
   },
   {
    "duration": 309,
    "start_time": "2023-02-04T13:00:42.000Z"
   },
   {
    "duration": 21,
    "start_time": "2023-02-04T13:00:42.312Z"
   },
   {
    "duration": 5,
    "start_time": "2023-02-04T13:00:42.335Z"
   },
   {
    "duration": 280,
    "start_time": "2023-02-04T13:00:42.342Z"
   },
   {
    "duration": 13,
    "start_time": "2023-02-04T13:00:42.627Z"
   },
   {
    "duration": 41,
    "start_time": "2023-02-04T13:00:42.642Z"
   },
   {
    "duration": 169,
    "start_time": "2023-02-04T13:00:42.685Z"
   },
   {
    "duration": 29,
    "start_time": "2023-02-04T13:00:42.856Z"
   },
   {
    "duration": 56,
    "start_time": "2023-02-04T13:00:42.887Z"
   },
   {
    "duration": 90,
    "start_time": "2023-02-04T13:00:42.945Z"
   },
   {
    "duration": 43,
    "start_time": "2023-02-04T13:00:43.038Z"
   },
   {
    "duration": 14,
    "start_time": "2023-02-04T13:00:43.083Z"
   },
   {
    "duration": 199,
    "start_time": "2023-02-04T13:00:43.099Z"
   },
   {
    "duration": 3,
    "start_time": "2023-02-04T13:00:43.300Z"
   },
   {
    "duration": 43,
    "start_time": "2023-02-04T13:00:43.305Z"
   },
   {
    "duration": 187,
    "start_time": "2023-02-04T13:00:43.349Z"
   },
   {
    "duration": 206,
    "start_time": "2023-02-04T13:00:43.538Z"
   },
   {
    "duration": 0,
    "start_time": "2023-02-04T13:00:43.746Z"
   },
   {
    "duration": 0,
    "start_time": "2023-02-04T13:00:43.747Z"
   },
   {
    "duration": 0,
    "start_time": "2023-02-04T13:00:43.748Z"
   },
   {
    "duration": 0,
    "start_time": "2023-02-04T13:00:43.749Z"
   },
   {
    "duration": 0,
    "start_time": "2023-02-04T13:00:43.750Z"
   },
   {
    "duration": 0,
    "start_time": "2023-02-04T13:00:43.751Z"
   },
   {
    "duration": 0,
    "start_time": "2023-02-04T13:00:43.752Z"
   },
   {
    "duration": 0,
    "start_time": "2023-02-04T13:00:43.753Z"
   },
   {
    "duration": 0,
    "start_time": "2023-02-04T13:00:43.755Z"
   },
   {
    "duration": 0,
    "start_time": "2023-02-04T13:00:43.756Z"
   },
   {
    "duration": 0,
    "start_time": "2023-02-04T13:00:43.757Z"
   },
   {
    "duration": 0,
    "start_time": "2023-02-04T13:00:43.758Z"
   },
   {
    "duration": 0,
    "start_time": "2023-02-04T13:00:43.759Z"
   },
   {
    "duration": 106,
    "start_time": "2023-02-04T13:01:16.622Z"
   },
   {
    "duration": 114,
    "start_time": "2023-02-04T13:01:29.726Z"
   },
   {
    "duration": 2582,
    "start_time": "2023-02-04T13:01:49.231Z"
   },
   {
    "duration": 2614,
    "start_time": "2023-02-04T13:02:14.911Z"
   },
   {
    "duration": 2581,
    "start_time": "2023-02-04T13:02:23.595Z"
   },
   {
    "duration": 2746,
    "start_time": "2023-02-04T13:02:37.501Z"
   },
   {
    "duration": 2532,
    "start_time": "2023-02-04T13:03:12.556Z"
   },
   {
    "duration": 2560,
    "start_time": "2023-02-04T13:04:15.488Z"
   },
   {
    "duration": 2672,
    "start_time": "2023-02-04T13:04:46.088Z"
   },
   {
    "duration": 2590,
    "start_time": "2023-02-04T13:05:07.916Z"
   },
   {
    "duration": 2725,
    "start_time": "2023-02-04T13:05:19.628Z"
   },
   {
    "duration": 59,
    "start_time": "2023-02-05T12:48:53.904Z"
   },
   {
    "duration": 1397,
    "start_time": "2023-02-05T12:48:57.466Z"
   },
   {
    "duration": 98,
    "start_time": "2023-02-05T12:48:58.865Z"
   },
   {
    "duration": 890,
    "start_time": "2023-02-05T12:48:58.965Z"
   },
   {
    "duration": 100,
    "start_time": "2023-02-05T12:48:59.857Z"
   },
   {
    "duration": 49,
    "start_time": "2023-02-05T12:48:59.959Z"
   },
   {
    "duration": 24,
    "start_time": "2023-02-05T12:49:00.012Z"
   },
   {
    "duration": 260,
    "start_time": "2023-02-05T12:49:00.038Z"
   },
   {
    "duration": 15,
    "start_time": "2023-02-05T12:49:00.300Z"
   },
   {
    "duration": 42,
    "start_time": "2023-02-05T12:49:00.317Z"
   },
   {
    "duration": 212,
    "start_time": "2023-02-05T12:49:00.363Z"
   },
   {
    "duration": 11,
    "start_time": "2023-02-05T12:49:00.577Z"
   },
   {
    "duration": 80,
    "start_time": "2023-02-05T12:49:00.590Z"
   },
   {
    "duration": 18,
    "start_time": "2023-02-05T12:49:00.672Z"
   },
   {
    "duration": 93,
    "start_time": "2023-02-05T12:49:00.692Z"
   },
   {
    "duration": 141,
    "start_time": "2023-02-05T12:49:00.787Z"
   },
   {
    "duration": 16,
    "start_time": "2023-02-05T12:49:00.932Z"
   },
   {
    "duration": 27,
    "start_time": "2023-02-05T12:49:00.950Z"
   },
   {
    "duration": 88,
    "start_time": "2023-02-05T12:49:00.979Z"
   },
   {
    "duration": 363,
    "start_time": "2023-02-05T12:49:01.069Z"
   },
   {
    "duration": 15,
    "start_time": "2023-02-05T12:49:01.434Z"
   },
   {
    "duration": 12,
    "start_time": "2023-02-05T12:49:01.450Z"
   },
   {
    "duration": 311,
    "start_time": "2023-02-05T12:49:01.464Z"
   },
   {
    "duration": 11,
    "start_time": "2023-02-05T12:49:01.777Z"
   },
   {
    "duration": 64,
    "start_time": "2023-02-05T12:49:01.790Z"
   },
   {
    "duration": 145,
    "start_time": "2023-02-05T12:49:01.856Z"
   },
   {
    "duration": 37,
    "start_time": "2023-02-05T12:49:02.005Z"
   },
   {
    "duration": 43,
    "start_time": "2023-02-05T12:49:02.045Z"
   },
   {
    "duration": 92,
    "start_time": "2023-02-05T12:49:02.104Z"
   },
   {
    "duration": 63,
    "start_time": "2023-02-05T12:49:02.202Z"
   },
   {
    "duration": 16,
    "start_time": "2023-02-05T12:49:02.267Z"
   },
   {
    "duration": 186,
    "start_time": "2023-02-05T12:49:02.305Z"
   },
   {
    "duration": 11,
    "start_time": "2023-02-05T12:49:02.493Z"
   },
   {
    "duration": 47,
    "start_time": "2023-02-05T12:49:02.509Z"
   },
   {
    "duration": 196,
    "start_time": "2023-02-05T12:49:02.558Z"
   },
   {
    "duration": 3106,
    "start_time": "2023-02-05T12:49:02.756Z"
   },
   {
    "duration": 82,
    "start_time": "2023-02-05T12:49:05.863Z"
   },
   {
    "duration": 0,
    "start_time": "2023-02-05T12:49:05.947Z"
   },
   {
    "duration": 0,
    "start_time": "2023-02-05T12:49:05.949Z"
   },
   {
    "duration": 0,
    "start_time": "2023-02-05T12:49:05.950Z"
   },
   {
    "duration": 0,
    "start_time": "2023-02-05T12:49:05.951Z"
   },
   {
    "duration": 0,
    "start_time": "2023-02-05T12:49:05.952Z"
   },
   {
    "duration": 0,
    "start_time": "2023-02-05T12:49:05.954Z"
   },
   {
    "duration": 0,
    "start_time": "2023-02-05T12:49:05.955Z"
   },
   {
    "duration": 0,
    "start_time": "2023-02-05T12:49:05.956Z"
   },
   {
    "duration": 0,
    "start_time": "2023-02-05T12:49:05.957Z"
   },
   {
    "duration": 0,
    "start_time": "2023-02-05T12:49:05.958Z"
   },
   {
    "duration": 0,
    "start_time": "2023-02-05T12:49:05.960Z"
   },
   {
    "duration": 0,
    "start_time": "2023-02-05T12:49:05.961Z"
   },
   {
    "duration": 23,
    "start_time": "2023-02-05T12:50:37.594Z"
   },
   {
    "duration": 12,
    "start_time": "2023-02-05T12:51:13.257Z"
   },
   {
    "duration": 11,
    "start_time": "2023-02-05T12:51:19.281Z"
   },
   {
    "duration": 17,
    "start_time": "2023-02-05T12:51:23.898Z"
   },
   {
    "duration": 22,
    "start_time": "2023-02-05T12:51:24.527Z"
   },
   {
    "duration": 9,
    "start_time": "2023-02-05T12:51:50.763Z"
   },
   {
    "duration": 3,
    "start_time": "2023-02-05T12:56:36.703Z"
   },
   {
    "duration": 12,
    "start_time": "2023-02-05T12:56:43.157Z"
   },
   {
    "duration": 39,
    "start_time": "2023-02-05T12:57:04.782Z"
   },
   {
    "duration": 62,
    "start_time": "2023-02-05T12:58:59.392Z"
   },
   {
    "duration": 3,
    "start_time": "2023-02-05T12:59:06.052Z"
   },
   {
    "duration": 34,
    "start_time": "2023-02-05T12:59:06.760Z"
   },
   {
    "duration": 64,
    "start_time": "2023-02-05T13:00:22.679Z"
   },
   {
    "duration": 356,
    "start_time": "2023-02-05T13:00:39.175Z"
   },
   {
    "duration": 53,
    "start_time": "2023-02-05T13:01:07.880Z"
   },
   {
    "duration": 8,
    "start_time": "2023-02-05T13:02:18.950Z"
   },
   {
    "duration": 93,
    "start_time": "2023-02-05T13:03:03.580Z"
   },
   {
    "duration": 14,
    "start_time": "2023-02-05T13:03:04.444Z"
   },
   {
    "duration": 40,
    "start_time": "2023-02-05T13:03:04.899Z"
   },
   {
    "duration": 1787,
    "start_time": "2023-02-05T13:03:05.153Z"
   },
   {
    "duration": 44,
    "start_time": "2023-02-05T13:03:07.841Z"
   },
   {
    "duration": 183,
    "start_time": "2023-02-05T13:03:08.890Z"
   },
   {
    "duration": 57,
    "start_time": "2023-02-05T13:03:09.145Z"
   },
   {
    "duration": 114,
    "start_time": "2023-02-05T13:03:09.554Z"
   },
   {
    "duration": 48,
    "start_time": "2023-02-05T13:03:51.050Z"
   },
   {
    "duration": 54,
    "start_time": "2023-02-05T13:03:54.562Z"
   },
   {
    "duration": 1200,
    "start_time": "2023-02-05T13:04:24.664Z"
   },
   {
    "duration": 46,
    "start_time": "2023-02-05T13:04:25.866Z"
   },
   {
    "duration": 255,
    "start_time": "2023-02-05T13:04:25.919Z"
   },
   {
    "duration": 45,
    "start_time": "2023-02-05T13:04:26.177Z"
   },
   {
    "duration": 33,
    "start_time": "2023-02-05T13:04:26.223Z"
   },
   {
    "duration": 267,
    "start_time": "2023-02-05T13:04:26.258Z"
   },
   {
    "duration": 5,
    "start_time": "2023-02-05T13:04:26.526Z"
   },
   {
    "duration": 13,
    "start_time": "2023-02-05T13:04:26.534Z"
   },
   {
    "duration": 166,
    "start_time": "2023-02-05T13:04:26.548Z"
   },
   {
    "duration": 12,
    "start_time": "2023-02-05T13:04:26.717Z"
   },
   {
    "duration": 45,
    "start_time": "2023-02-05T13:04:26.730Z"
   },
   {
    "duration": 5,
    "start_time": "2023-02-05T13:04:26.776Z"
   },
   {
    "duration": 38,
    "start_time": "2023-02-05T13:04:26.783Z"
   },
   {
    "duration": 11,
    "start_time": "2023-02-05T13:04:26.823Z"
   },
   {
    "duration": 8,
    "start_time": "2023-02-05T13:04:26.836Z"
   },
   {
    "duration": 22,
    "start_time": "2023-02-05T13:04:26.846Z"
   },
   {
    "duration": 53,
    "start_time": "2023-02-05T13:04:26.870Z"
   },
   {
    "duration": 4,
    "start_time": "2023-02-05T13:04:26.925Z"
   },
   {
    "duration": 5,
    "start_time": "2023-02-05T13:04:26.930Z"
   },
   {
    "duration": 80,
    "start_time": "2023-02-05T13:04:26.937Z"
   },
   {
    "duration": 317,
    "start_time": "2023-02-05T13:04:27.019Z"
   },
   {
    "duration": 12,
    "start_time": "2023-02-05T13:04:27.338Z"
   },
   {
    "duration": 6,
    "start_time": "2023-02-05T13:04:27.352Z"
   },
   {
    "duration": 301,
    "start_time": "2023-02-05T13:04:27.360Z"
   },
   {
    "duration": 12,
    "start_time": "2023-02-05T13:04:27.663Z"
   },
   {
    "duration": 55,
    "start_time": "2023-02-05T13:04:27.677Z"
   },
   {
    "duration": 174,
    "start_time": "2023-02-05T13:04:27.733Z"
   },
   {
    "duration": 31,
    "start_time": "2023-02-05T13:04:27.912Z"
   },
   {
    "duration": 73,
    "start_time": "2023-02-05T13:04:27.945Z"
   },
   {
    "duration": 84,
    "start_time": "2023-02-05T13:04:28.020Z"
   },
   {
    "duration": 48,
    "start_time": "2023-02-05T13:04:28.111Z"
   },
   {
    "duration": 17,
    "start_time": "2023-02-05T13:04:28.161Z"
   },
   {
    "duration": 193,
    "start_time": "2023-02-05T13:04:28.180Z"
   },
   {
    "duration": 4,
    "start_time": "2023-02-05T13:04:28.375Z"
   },
   {
    "duration": 64,
    "start_time": "2023-02-05T13:04:28.381Z"
   },
   {
    "duration": 185,
    "start_time": "2023-02-05T13:04:28.447Z"
   },
   {
    "duration": 332,
    "start_time": "2023-02-05T13:04:28.634Z"
   },
   {
    "duration": 57,
    "start_time": "2023-02-05T13:04:28.968Z"
   },
   {
    "duration": 7,
    "start_time": "2023-02-05T13:04:29.027Z"
   },
   {
    "duration": 126,
    "start_time": "2023-02-05T13:04:29.035Z"
   },
   {
    "duration": 0,
    "start_time": "2023-02-05T13:04:29.163Z"
   },
   {
    "duration": 0,
    "start_time": "2023-02-05T13:04:29.164Z"
   },
   {
    "duration": 0,
    "start_time": "2023-02-05T13:04:29.165Z"
   },
   {
    "duration": 0,
    "start_time": "2023-02-05T13:04:29.166Z"
   },
   {
    "duration": 0,
    "start_time": "2023-02-05T13:04:29.167Z"
   },
   {
    "duration": 0,
    "start_time": "2023-02-05T13:04:29.168Z"
   },
   {
    "duration": 0,
    "start_time": "2023-02-05T13:04:29.169Z"
   },
   {
    "duration": 26,
    "start_time": "2023-02-05T13:09:22.021Z"
   },
   {
    "duration": 30,
    "start_time": "2023-02-05T13:10:20.696Z"
   },
   {
    "duration": 47,
    "start_time": "2023-02-05T13:10:23.222Z"
   },
   {
    "duration": 24,
    "start_time": "2023-02-05T13:10:24.674Z"
   },
   {
    "duration": 79,
    "start_time": "2023-02-05T13:10:54.989Z"
   },
   {
    "duration": 17,
    "start_time": "2023-02-05T13:10:57.321Z"
   },
   {
    "duration": 36,
    "start_time": "2023-02-05T13:10:58.290Z"
   },
   {
    "duration": 1802,
    "start_time": "2023-02-05T13:10:58.855Z"
   },
   {
    "duration": 53,
    "start_time": "2023-02-05T13:11:00.691Z"
   },
   {
    "duration": 114,
    "start_time": "2023-02-05T13:11:02.031Z"
   },
   {
    "duration": 53,
    "start_time": "2023-02-05T13:11:02.591Z"
   },
   {
    "duration": 57,
    "start_time": "2023-02-05T13:11:03.844Z"
   },
   {
    "duration": 1138,
    "start_time": "2023-02-05T13:11:11.643Z"
   },
   {
    "duration": 43,
    "start_time": "2023-02-05T13:11:12.783Z"
   },
   {
    "duration": 255,
    "start_time": "2023-02-05T13:11:12.828Z"
   },
   {
    "duration": 41,
    "start_time": "2023-02-05T13:11:13.085Z"
   },
   {
    "duration": 28,
    "start_time": "2023-02-05T13:11:13.128Z"
   },
   {
    "duration": 253,
    "start_time": "2023-02-05T13:11:13.157Z"
   },
   {
    "duration": 5,
    "start_time": "2023-02-05T13:11:13.413Z"
   },
   {
    "duration": 19,
    "start_time": "2023-02-05T13:11:13.420Z"
   },
   {
    "duration": 162,
    "start_time": "2023-02-05T13:11:13.441Z"
   },
   {
    "duration": 10,
    "start_time": "2023-02-05T13:11:13.607Z"
   },
   {
    "duration": 44,
    "start_time": "2023-02-05T13:11:13.619Z"
   },
   {
    "duration": 5,
    "start_time": "2023-02-05T13:11:13.665Z"
   },
   {
    "duration": 43,
    "start_time": "2023-02-05T13:11:13.672Z"
   },
   {
    "duration": 11,
    "start_time": "2023-02-05T13:11:13.717Z"
   },
   {
    "duration": 12,
    "start_time": "2023-02-05T13:11:13.730Z"
   },
   {
    "duration": 26,
    "start_time": "2023-02-05T13:11:13.743Z"
   },
   {
    "duration": 50,
    "start_time": "2023-02-05T13:11:13.771Z"
   },
   {
    "duration": 4,
    "start_time": "2023-02-05T13:11:13.822Z"
   },
   {
    "duration": 9,
    "start_time": "2023-02-05T13:11:13.827Z"
   },
   {
    "duration": 69,
    "start_time": "2023-02-05T13:11:13.838Z"
   },
   {
    "duration": 355,
    "start_time": "2023-02-05T13:11:13.909Z"
   },
   {
    "duration": 15,
    "start_time": "2023-02-05T13:11:14.265Z"
   },
   {
    "duration": 25,
    "start_time": "2023-02-05T13:11:14.282Z"
   },
   {
    "duration": 272,
    "start_time": "2023-02-05T13:11:14.309Z"
   },
   {
    "duration": 12,
    "start_time": "2023-02-05T13:11:14.582Z"
   },
   {
    "duration": 42,
    "start_time": "2023-02-05T13:11:14.604Z"
   },
   {
    "duration": 191,
    "start_time": "2023-02-05T13:11:14.648Z"
   },
   {
    "duration": 29,
    "start_time": "2023-02-05T13:11:14.842Z"
   },
   {
    "duration": 51,
    "start_time": "2023-02-05T13:11:14.873Z"
   },
   {
    "duration": 89,
    "start_time": "2023-02-05T13:11:14.925Z"
   },
   {
    "duration": 45,
    "start_time": "2023-02-05T13:11:15.017Z"
   },
   {
    "duration": 21,
    "start_time": "2023-02-05T13:11:15.064Z"
   },
   {
    "duration": 195,
    "start_time": "2023-02-05T13:11:15.087Z"
   },
   {
    "duration": 4,
    "start_time": "2023-02-05T13:11:15.284Z"
   },
   {
    "duration": 47,
    "start_time": "2023-02-05T13:11:15.289Z"
   },
   {
    "duration": 182,
    "start_time": "2023-02-05T13:11:15.337Z"
   },
   {
    "duration": 322,
    "start_time": "2023-02-05T13:11:15.521Z"
   },
   {
    "duration": 47,
    "start_time": "2023-02-05T13:11:15.845Z"
   },
   {
    "duration": 6,
    "start_time": "2023-02-05T13:11:15.905Z"
   },
   {
    "duration": 39,
    "start_time": "2023-02-05T13:11:15.913Z"
   },
   {
    "duration": 85,
    "start_time": "2023-02-05T13:11:15.953Z"
   },
   {
    "duration": 12,
    "start_time": "2023-02-05T13:11:16.040Z"
   },
   {
    "duration": 56,
    "start_time": "2023-02-05T13:11:16.053Z"
   },
   {
    "duration": 1626,
    "start_time": "2023-02-05T13:11:16.111Z"
   },
   {
    "duration": 54,
    "start_time": "2023-02-05T13:11:17.738Z"
   },
   {
    "duration": 118,
    "start_time": "2023-02-05T13:11:17.794Z"
   },
   {
    "duration": 53,
    "start_time": "2023-02-05T13:11:17.914Z"
   },
   {
    "duration": 70,
    "start_time": "2023-02-05T13:11:17.969Z"
   }
  ],
  "kernelspec": {
   "display_name": "Python 3 (ipykernel)",
   "language": "python",
   "name": "python3"
  },
  "language_info": {
   "codemirror_mode": {
    "name": "ipython",
    "version": 3
   },
   "file_extension": ".py",
   "mimetype": "text/x-python",
   "name": "python",
   "nbconvert_exporter": "python",
   "pygments_lexer": "ipython3",
   "version": "3.9.13"
  },
  "toc": {
   "base_numbering": 1,
   "nav_menu": {},
   "number_sections": true,
   "sideBar": true,
   "skip_h1_title": true,
   "title_cell": "Table of Contents",
   "title_sidebar": "Contents",
   "toc_cell": false,
   "toc_position": {
    "height": "calc(100% - 180px)",
    "left": "10px",
    "top": "150px",
    "width": "349.091px"
   },
   "toc_section_display": true,
   "toc_window_display": true
  }
 },
 "nbformat": 4,
 "nbformat_minor": 2
}
