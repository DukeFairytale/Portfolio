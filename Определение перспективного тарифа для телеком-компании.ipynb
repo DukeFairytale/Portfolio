{
 "cells": [
  {
   "cell_type": "markdown",
   "metadata": {},
   "source": [
    "# Определение перспективного тарифа для телеком-компании\n",
    "\n",
    "Описание проекта\n",
    "Компания «Мегалайн» — федеральный оператор сотовой связи. Клиентам предлагают два тарифных плана: «Смарт» и «Ультра». Чтобы скорректировать рекламный бюджет, коммерческий департамент хочет понять, какой тариф приносит больше денег.\n",
    "Нужно сделать предварительный анализ тарифов на небольшой выборке клиентов. В вашем распоряжении данные 500 пользователей «Мегалайна»: кто они, откуда, каким тарифом пользуются, сколько звонков и сообщений каждый отправил за 2018 год. Нужно проанализировать поведение клиентов и сделать вывод — какой тариф лучше.\n",
    "\n",
    "1. Изучим полученные данные\n",
    "2. Проведем предобработку: Заполним пропуски, проверим на дубликаты, поменяем типы данных, совместим полученные таблицы\n",
    "3. Посчитаем и добавим в таблицу. Звонки в минутах, количество отправленных смс каждым пользователем,  трафик в гб, общую выручку\n",
    "4. Проведем анализ, посчитаем среднее, дисперсию и стандартное отклонение для звонков, смс и интернет трафика. Построим графики.\n",
    "5. Сотавим и проверим гипозеты.\n",
    "6. Общий вывод"
   ]
  },
  {
   "cell_type": "code",
   "execution_count": 2,
   "metadata": {},
   "outputs": [],
   "source": [
    "import pandas as pd\n",
    "import seaborn as sns\n",
    "import numpy as np\n",
    "import matplotlib as plt\n",
    "import math\n",
    "from scipy import stats as st\n",
    "pd.set_option('display.max_columns', 50) "
   ]
  },
  {
   "cell_type": "markdown",
   "metadata": {},
   "source": [
    "## Изучение данных"
   ]
  },
  {
   "cell_type": "code",
   "execution_count": 3,
   "metadata": {},
   "outputs": [],
   "source": [
    "users = pd.read_csv('/datasets/users.csv')\n",
    "calls = pd.read_csv('/datasets/calls.csv')\n",
    "messages = pd.read_csv('/datasets/messages.csv')\n",
    "internet = pd.read_csv('/datasets/internet.csv')\n",
    "tariffs =pd.read_csv('/datasets/tariffs.csv')"
   ]
  },
  {
   "cell_type": "markdown",
   "metadata": {},
   "source": [
    "Изучим каждую таблицу отдельно"
   ]
  },
  {
   "cell_type": "code",
   "execution_count": 4,
   "metadata": {},
   "outputs": [
    {
     "data": {
      "text/html": [
       "<div>\n",
       "<style scoped>\n",
       "    .dataframe tbody tr th:only-of-type {\n",
       "        vertical-align: middle;\n",
       "    }\n",
       "\n",
       "    .dataframe tbody tr th {\n",
       "        vertical-align: top;\n",
       "    }\n",
       "\n",
       "    .dataframe thead th {\n",
       "        text-align: right;\n",
       "    }\n",
       "</style>\n",
       "<table border=\"1\" class=\"dataframe\">\n",
       "  <thead>\n",
       "    <tr style=\"text-align: right;\">\n",
       "      <th></th>\n",
       "      <th>user_id</th>\n",
       "      <th>age</th>\n",
       "      <th>churn_date</th>\n",
       "      <th>city</th>\n",
       "      <th>first_name</th>\n",
       "      <th>last_name</th>\n",
       "      <th>reg_date</th>\n",
       "      <th>tariff</th>\n",
       "    </tr>\n",
       "  </thead>\n",
       "  <tbody>\n",
       "    <tr>\n",
       "      <th>0</th>\n",
       "      <td>1000</td>\n",
       "      <td>52</td>\n",
       "      <td>NaN</td>\n",
       "      <td>Краснодар</td>\n",
       "      <td>Рафаил</td>\n",
       "      <td>Верещагин</td>\n",
       "      <td>2018-05-25</td>\n",
       "      <td>ultra</td>\n",
       "    </tr>\n",
       "    <tr>\n",
       "      <th>1</th>\n",
       "      <td>1001</td>\n",
       "      <td>41</td>\n",
       "      <td>NaN</td>\n",
       "      <td>Москва</td>\n",
       "      <td>Иван</td>\n",
       "      <td>Ежов</td>\n",
       "      <td>2018-11-01</td>\n",
       "      <td>smart</td>\n",
       "    </tr>\n",
       "    <tr>\n",
       "      <th>2</th>\n",
       "      <td>1002</td>\n",
       "      <td>59</td>\n",
       "      <td>NaN</td>\n",
       "      <td>Стерлитамак</td>\n",
       "      <td>Евгений</td>\n",
       "      <td>Абрамович</td>\n",
       "      <td>2018-06-17</td>\n",
       "      <td>smart</td>\n",
       "    </tr>\n",
       "    <tr>\n",
       "      <th>3</th>\n",
       "      <td>1003</td>\n",
       "      <td>23</td>\n",
       "      <td>NaN</td>\n",
       "      <td>Москва</td>\n",
       "      <td>Белла</td>\n",
       "      <td>Белякова</td>\n",
       "      <td>2018-08-17</td>\n",
       "      <td>ultra</td>\n",
       "    </tr>\n",
       "    <tr>\n",
       "      <th>4</th>\n",
       "      <td>1004</td>\n",
       "      <td>68</td>\n",
       "      <td>NaN</td>\n",
       "      <td>Новокузнецк</td>\n",
       "      <td>Татьяна</td>\n",
       "      <td>Авдеенко</td>\n",
       "      <td>2018-05-14</td>\n",
       "      <td>ultra</td>\n",
       "    </tr>\n",
       "  </tbody>\n",
       "</table>\n",
       "</div>"
      ],
      "text/plain": [
       "   user_id  age churn_date         city first_name  last_name    reg_date  \\\n",
       "0     1000   52        NaN    Краснодар     Рафаил  Верещагин  2018-05-25   \n",
       "1     1001   41        NaN       Москва       Иван       Ежов  2018-11-01   \n",
       "2     1002   59        NaN  Стерлитамак    Евгений  Абрамович  2018-06-17   \n",
       "3     1003   23        NaN       Москва      Белла   Белякова  2018-08-17   \n",
       "4     1004   68        NaN  Новокузнецк    Татьяна   Авдеенко  2018-05-14   \n",
       "\n",
       "  tariff  \n",
       "0  ultra  \n",
       "1  smart  \n",
       "2  smart  \n",
       "3  ultra  \n",
       "4  ultra  "
      ]
     },
     "metadata": {},
     "output_type": "display_data"
    },
    {
     "name": "stdout",
     "output_type": "stream",
     "text": [
      "<class 'pandas.core.frame.DataFrame'>\n",
      "RangeIndex: 500 entries, 0 to 499\n",
      "Data columns (total 8 columns):\n",
      " #   Column      Non-Null Count  Dtype \n",
      "---  ------      --------------  ----- \n",
      " 0   user_id     500 non-null    int64 \n",
      " 1   age         500 non-null    int64 \n",
      " 2   churn_date  38 non-null     object\n",
      " 3   city        500 non-null    object\n",
      " 4   first_name  500 non-null    object\n",
      " 5   last_name   500 non-null    object\n",
      " 6   reg_date    500 non-null    object\n",
      " 7   tariff      500 non-null    object\n",
      "dtypes: int64(2), object(6)\n",
      "memory usage: 31.4+ KB\n"
     ]
    },
    {
     "data": {
      "text/plain": [
       "user_id         0\n",
       "age             0\n",
       "churn_date    462\n",
       "city            0\n",
       "first_name      0\n",
       "last_name       0\n",
       "reg_date        0\n",
       "tariff          0\n",
       "dtype: int64"
      ]
     },
     "execution_count": 4,
     "metadata": {},
     "output_type": "execute_result"
    }
   ],
   "source": [
    "display(users.head())\n",
    "users.info()\n",
    "users.isna().sum()"
   ]
  },
  {
   "cell_type": "code",
   "execution_count": 5,
   "metadata": {},
   "outputs": [
    {
     "data": {
      "text/html": [
       "<div>\n",
       "<style scoped>\n",
       "    .dataframe tbody tr th:only-of-type {\n",
       "        vertical-align: middle;\n",
       "    }\n",
       "\n",
       "    .dataframe tbody tr th {\n",
       "        vertical-align: top;\n",
       "    }\n",
       "\n",
       "    .dataframe thead th {\n",
       "        text-align: right;\n",
       "    }\n",
       "</style>\n",
       "<table border=\"1\" class=\"dataframe\">\n",
       "  <thead>\n",
       "    <tr style=\"text-align: right;\">\n",
       "      <th></th>\n",
       "      <th>id</th>\n",
       "      <th>call_date</th>\n",
       "      <th>duration</th>\n",
       "      <th>user_id</th>\n",
       "    </tr>\n",
       "  </thead>\n",
       "  <tbody>\n",
       "    <tr>\n",
       "      <th>0</th>\n",
       "      <td>1000_0</td>\n",
       "      <td>2018-07-25</td>\n",
       "      <td>0.00</td>\n",
       "      <td>1000</td>\n",
       "    </tr>\n",
       "    <tr>\n",
       "      <th>1</th>\n",
       "      <td>1000_1</td>\n",
       "      <td>2018-08-17</td>\n",
       "      <td>0.00</td>\n",
       "      <td>1000</td>\n",
       "    </tr>\n",
       "    <tr>\n",
       "      <th>2</th>\n",
       "      <td>1000_2</td>\n",
       "      <td>2018-06-11</td>\n",
       "      <td>2.85</td>\n",
       "      <td>1000</td>\n",
       "    </tr>\n",
       "    <tr>\n",
       "      <th>3</th>\n",
       "      <td>1000_3</td>\n",
       "      <td>2018-09-21</td>\n",
       "      <td>13.80</td>\n",
       "      <td>1000</td>\n",
       "    </tr>\n",
       "    <tr>\n",
       "      <th>4</th>\n",
       "      <td>1000_4</td>\n",
       "      <td>2018-12-15</td>\n",
       "      <td>5.18</td>\n",
       "      <td>1000</td>\n",
       "    </tr>\n",
       "  </tbody>\n",
       "</table>\n",
       "</div>"
      ],
      "text/plain": [
       "       id   call_date  duration  user_id\n",
       "0  1000_0  2018-07-25      0.00     1000\n",
       "1  1000_1  2018-08-17      0.00     1000\n",
       "2  1000_2  2018-06-11      2.85     1000\n",
       "3  1000_3  2018-09-21     13.80     1000\n",
       "4  1000_4  2018-12-15      5.18     1000"
      ]
     },
     "metadata": {},
     "output_type": "display_data"
    },
    {
     "name": "stdout",
     "output_type": "stream",
     "text": [
      "<class 'pandas.core.frame.DataFrame'>\n",
      "RangeIndex: 202607 entries, 0 to 202606\n",
      "Data columns (total 4 columns):\n",
      " #   Column     Non-Null Count   Dtype  \n",
      "---  ------     --------------   -----  \n",
      " 0   id         202607 non-null  object \n",
      " 1   call_date  202607 non-null  object \n",
      " 2   duration   202607 non-null  float64\n",
      " 3   user_id    202607 non-null  int64  \n",
      "dtypes: float64(1), int64(1), object(2)\n",
      "memory usage: 6.2+ MB\n"
     ]
    },
    {
     "data": {
      "text/plain": [
       "id           0\n",
       "call_date    0\n",
       "duration     0\n",
       "user_id      0\n",
       "dtype: int64"
      ]
     },
     "execution_count": 5,
     "metadata": {},
     "output_type": "execute_result"
    }
   ],
   "source": [
    "display(calls.head())\n",
    "calls.info()\n",
    "calls.isna().sum()"
   ]
  },
  {
   "cell_type": "code",
   "execution_count": 6,
   "metadata": {},
   "outputs": [
    {
     "data": {
      "text/html": [
       "<div>\n",
       "<style scoped>\n",
       "    .dataframe tbody tr th:only-of-type {\n",
       "        vertical-align: middle;\n",
       "    }\n",
       "\n",
       "    .dataframe tbody tr th {\n",
       "        vertical-align: top;\n",
       "    }\n",
       "\n",
       "    .dataframe thead th {\n",
       "        text-align: right;\n",
       "    }\n",
       "</style>\n",
       "<table border=\"1\" class=\"dataframe\">\n",
       "  <thead>\n",
       "    <tr style=\"text-align: right;\">\n",
       "      <th></th>\n",
       "      <th>id</th>\n",
       "      <th>message_date</th>\n",
       "      <th>user_id</th>\n",
       "    </tr>\n",
       "  </thead>\n",
       "  <tbody>\n",
       "    <tr>\n",
       "      <th>0</th>\n",
       "      <td>1000_0</td>\n",
       "      <td>2018-06-27</td>\n",
       "      <td>1000</td>\n",
       "    </tr>\n",
       "    <tr>\n",
       "      <th>1</th>\n",
       "      <td>1000_1</td>\n",
       "      <td>2018-10-08</td>\n",
       "      <td>1000</td>\n",
       "    </tr>\n",
       "    <tr>\n",
       "      <th>2</th>\n",
       "      <td>1000_2</td>\n",
       "      <td>2018-08-04</td>\n",
       "      <td>1000</td>\n",
       "    </tr>\n",
       "    <tr>\n",
       "      <th>3</th>\n",
       "      <td>1000_3</td>\n",
       "      <td>2018-06-16</td>\n",
       "      <td>1000</td>\n",
       "    </tr>\n",
       "    <tr>\n",
       "      <th>4</th>\n",
       "      <td>1000_4</td>\n",
       "      <td>2018-12-05</td>\n",
       "      <td>1000</td>\n",
       "    </tr>\n",
       "  </tbody>\n",
       "</table>\n",
       "</div>"
      ],
      "text/plain": [
       "       id message_date  user_id\n",
       "0  1000_0   2018-06-27     1000\n",
       "1  1000_1   2018-10-08     1000\n",
       "2  1000_2   2018-08-04     1000\n",
       "3  1000_3   2018-06-16     1000\n",
       "4  1000_4   2018-12-05     1000"
      ]
     },
     "metadata": {},
     "output_type": "display_data"
    },
    {
     "name": "stdout",
     "output_type": "stream",
     "text": [
      "<class 'pandas.core.frame.DataFrame'>\n",
      "RangeIndex: 123036 entries, 0 to 123035\n",
      "Data columns (total 3 columns):\n",
      " #   Column        Non-Null Count   Dtype \n",
      "---  ------        --------------   ----- \n",
      " 0   id            123036 non-null  object\n",
      " 1   message_date  123036 non-null  object\n",
      " 2   user_id       123036 non-null  int64 \n",
      "dtypes: int64(1), object(2)\n",
      "memory usage: 2.8+ MB\n"
     ]
    },
    {
     "data": {
      "text/plain": [
       "id              0\n",
       "message_date    0\n",
       "user_id         0\n",
       "dtype: int64"
      ]
     },
     "execution_count": 6,
     "metadata": {},
     "output_type": "execute_result"
    }
   ],
   "source": [
    "display(messages.head())\n",
    "messages.info()\n",
    "messages.isna().sum()"
   ]
  },
  {
   "cell_type": "code",
   "execution_count": 7,
   "metadata": {},
   "outputs": [
    {
     "data": {
      "text/html": [
       "<div>\n",
       "<style scoped>\n",
       "    .dataframe tbody tr th:only-of-type {\n",
       "        vertical-align: middle;\n",
       "    }\n",
       "\n",
       "    .dataframe tbody tr th {\n",
       "        vertical-align: top;\n",
       "    }\n",
       "\n",
       "    .dataframe thead th {\n",
       "        text-align: right;\n",
       "    }\n",
       "</style>\n",
       "<table border=\"1\" class=\"dataframe\">\n",
       "  <thead>\n",
       "    <tr style=\"text-align: right;\">\n",
       "      <th></th>\n",
       "      <th>Unnamed: 0</th>\n",
       "      <th>id</th>\n",
       "      <th>mb_used</th>\n",
       "      <th>session_date</th>\n",
       "      <th>user_id</th>\n",
       "    </tr>\n",
       "  </thead>\n",
       "  <tbody>\n",
       "    <tr>\n",
       "      <th>0</th>\n",
       "      <td>0</td>\n",
       "      <td>1000_0</td>\n",
       "      <td>112.95</td>\n",
       "      <td>2018-11-25</td>\n",
       "      <td>1000</td>\n",
       "    </tr>\n",
       "    <tr>\n",
       "      <th>1</th>\n",
       "      <td>1</td>\n",
       "      <td>1000_1</td>\n",
       "      <td>1052.81</td>\n",
       "      <td>2018-09-07</td>\n",
       "      <td>1000</td>\n",
       "    </tr>\n",
       "    <tr>\n",
       "      <th>2</th>\n",
       "      <td>2</td>\n",
       "      <td>1000_2</td>\n",
       "      <td>1197.26</td>\n",
       "      <td>2018-06-25</td>\n",
       "      <td>1000</td>\n",
       "    </tr>\n",
       "    <tr>\n",
       "      <th>3</th>\n",
       "      <td>3</td>\n",
       "      <td>1000_3</td>\n",
       "      <td>550.27</td>\n",
       "      <td>2018-08-22</td>\n",
       "      <td>1000</td>\n",
       "    </tr>\n",
       "    <tr>\n",
       "      <th>4</th>\n",
       "      <td>4</td>\n",
       "      <td>1000_4</td>\n",
       "      <td>302.56</td>\n",
       "      <td>2018-09-24</td>\n",
       "      <td>1000</td>\n",
       "    </tr>\n",
       "  </tbody>\n",
       "</table>\n",
       "</div>"
      ],
      "text/plain": [
       "   Unnamed: 0      id  mb_used session_date  user_id\n",
       "0           0  1000_0   112.95   2018-11-25     1000\n",
       "1           1  1000_1  1052.81   2018-09-07     1000\n",
       "2           2  1000_2  1197.26   2018-06-25     1000\n",
       "3           3  1000_3   550.27   2018-08-22     1000\n",
       "4           4  1000_4   302.56   2018-09-24     1000"
      ]
     },
     "metadata": {},
     "output_type": "display_data"
    },
    {
     "name": "stdout",
     "output_type": "stream",
     "text": [
      "<class 'pandas.core.frame.DataFrame'>\n",
      "RangeIndex: 149396 entries, 0 to 149395\n",
      "Data columns (total 5 columns):\n",
      " #   Column        Non-Null Count   Dtype  \n",
      "---  ------        --------------   -----  \n",
      " 0   Unnamed: 0    149396 non-null  int64  \n",
      " 1   id            149396 non-null  object \n",
      " 2   mb_used       149396 non-null  float64\n",
      " 3   session_date  149396 non-null  object \n",
      " 4   user_id       149396 non-null  int64  \n",
      "dtypes: float64(1), int64(2), object(2)\n",
      "memory usage: 5.7+ MB\n"
     ]
    },
    {
     "data": {
      "text/plain": [
       "Unnamed: 0      0\n",
       "id              0\n",
       "mb_used         0\n",
       "session_date    0\n",
       "user_id         0\n",
       "dtype: int64"
      ]
     },
     "execution_count": 7,
     "metadata": {},
     "output_type": "execute_result"
    }
   ],
   "source": [
    "display(internet.head())\n",
    "internet.info()\n",
    "internet.isna().sum()"
   ]
  },
  {
   "cell_type": "code",
   "execution_count": 8,
   "metadata": {},
   "outputs": [
    {
     "data": {
      "text/html": [
       "<div>\n",
       "<style scoped>\n",
       "    .dataframe tbody tr th:only-of-type {\n",
       "        vertical-align: middle;\n",
       "    }\n",
       "\n",
       "    .dataframe tbody tr th {\n",
       "        vertical-align: top;\n",
       "    }\n",
       "\n",
       "    .dataframe thead th {\n",
       "        text-align: right;\n",
       "    }\n",
       "</style>\n",
       "<table border=\"1\" class=\"dataframe\">\n",
       "  <thead>\n",
       "    <tr style=\"text-align: right;\">\n",
       "      <th></th>\n",
       "      <th>messages_included</th>\n",
       "      <th>mb_per_month_included</th>\n",
       "      <th>minutes_included</th>\n",
       "      <th>rub_monthly_fee</th>\n",
       "      <th>rub_per_gb</th>\n",
       "      <th>rub_per_message</th>\n",
       "      <th>rub_per_minute</th>\n",
       "      <th>tariff_name</th>\n",
       "    </tr>\n",
       "  </thead>\n",
       "  <tbody>\n",
       "    <tr>\n",
       "      <th>0</th>\n",
       "      <td>50</td>\n",
       "      <td>15360</td>\n",
       "      <td>500</td>\n",
       "      <td>550</td>\n",
       "      <td>200</td>\n",
       "      <td>3</td>\n",
       "      <td>3</td>\n",
       "      <td>smart</td>\n",
       "    </tr>\n",
       "    <tr>\n",
       "      <th>1</th>\n",
       "      <td>1000</td>\n",
       "      <td>30720</td>\n",
       "      <td>3000</td>\n",
       "      <td>1950</td>\n",
       "      <td>150</td>\n",
       "      <td>1</td>\n",
       "      <td>1</td>\n",
       "      <td>ultra</td>\n",
       "    </tr>\n",
       "  </tbody>\n",
       "</table>\n",
       "</div>"
      ],
      "text/plain": [
       "   messages_included  mb_per_month_included  minutes_included  \\\n",
       "0                 50                  15360               500   \n",
       "1               1000                  30720              3000   \n",
       "\n",
       "   rub_monthly_fee  rub_per_gb  rub_per_message  rub_per_minute tariff_name  \n",
       "0              550         200                3               3       smart  \n",
       "1             1950         150                1               1       ultra  "
      ]
     },
     "metadata": {},
     "output_type": "display_data"
    },
    {
     "name": "stdout",
     "output_type": "stream",
     "text": [
      "<class 'pandas.core.frame.DataFrame'>\n",
      "RangeIndex: 2 entries, 0 to 1\n",
      "Data columns (total 8 columns):\n",
      " #   Column                 Non-Null Count  Dtype \n",
      "---  ------                 --------------  ----- \n",
      " 0   messages_included      2 non-null      int64 \n",
      " 1   mb_per_month_included  2 non-null      int64 \n",
      " 2   minutes_included       2 non-null      int64 \n",
      " 3   rub_monthly_fee        2 non-null      int64 \n",
      " 4   rub_per_gb             2 non-null      int64 \n",
      " 5   rub_per_message        2 non-null      int64 \n",
      " 6   rub_per_minute         2 non-null      int64 \n",
      " 7   tariff_name            2 non-null      object\n",
      "dtypes: int64(7), object(1)\n",
      "memory usage: 256.0+ bytes\n"
     ]
    }
   ],
   "source": [
    "display(tariffs.head())\n",
    "tariffs.info()"
   ]
  },
  {
   "cell_type": "markdown",
   "metadata": {},
   "source": [
    "Данные выглядят в порядке, но нужно будет объедить все таблицы, заполнить пропуски в churn_date."
   ]
  },
  {
   "cell_type": "code",
   "execution_count": 9,
   "metadata": {},
   "outputs": [
    {
     "data": {
      "text/plain": [
       "<AxesSubplot:>"
      ]
     },
     "execution_count": 9,
     "metadata": {},
     "output_type": "execute_result"
    },
    {
     "data": {
      "image/png": "[encoded data removed]",
      "text/plain": [
       "<Figure size 432x288 with 1 Axes>"
      ]
     },
     "metadata": {
      "needs_background": "light"
     },
     "output_type": "display_data"
    }
   ],
   "source": [
    "internet['mb_used'].hist()"
   ]
  },
  {
   "cell_type": "markdown",
   "metadata": {},
   "source": [
    "На гистограме интернет трафика, пик находиться на \"0\", скорее всего это вызвано тем, что много пользователей не использовали интернет либо вовсе не использовали свои тарифы, но зарегистрировались, поэтому удалять такие строки не нужно."
   ]
  },
  {
   "cell_type": "markdown",
   "metadata": {},
   "source": []
  },
  {
   "cell_type": "markdown",
   "metadata": {},
   "source": [
    "## Подготовка данных"
   ]
  },
  {
   "cell_type": "markdown",
   "metadata": {},
   "source": [
    "Перед тем, как собирать данные в таблицу переименуем повторяющиеся названия столбцов в таблицах, что соединение таблиц прошло корректно."
   ]
  },
  {
   "cell_type": "code",
   "execution_count": 10,
   "metadata": {},
   "outputs": [
    {
     "data": {
      "text/html": [
       "<div>\n",
       "<style scoped>\n",
       "    .dataframe tbody tr th:only-of-type {\n",
       "        vertical-align: middle;\n",
       "    }\n",
       "\n",
       "    .dataframe tbody tr th {\n",
       "        vertical-align: top;\n",
       "    }\n",
       "\n",
       "    .dataframe thead th {\n",
       "        text-align: right;\n",
       "    }\n",
       "</style>\n",
       "<table border=\"1\" class=\"dataframe\">\n",
       "  <thead>\n",
       "    <tr style=\"text-align: right;\">\n",
       "      <th></th>\n",
       "      <th>calls_id</th>\n",
       "      <th>call_date</th>\n",
       "      <th>duration</th>\n",
       "      <th>user_id</th>\n",
       "    </tr>\n",
       "  </thead>\n",
       "  <tbody>\n",
       "    <tr>\n",
       "      <th>0</th>\n",
       "      <td>1000_0</td>\n",
       "      <td>2018-07-25</td>\n",
       "      <td>0.00</td>\n",
       "      <td>1000</td>\n",
       "    </tr>\n",
       "    <tr>\n",
       "      <th>1</th>\n",
       "      <td>1000_1</td>\n",
       "      <td>2018-08-17</td>\n",
       "      <td>0.00</td>\n",
       "      <td>1000</td>\n",
       "    </tr>\n",
       "    <tr>\n",
       "      <th>2</th>\n",
       "      <td>1000_2</td>\n",
       "      <td>2018-06-11</td>\n",
       "      <td>2.85</td>\n",
       "      <td>1000</td>\n",
       "    </tr>\n",
       "    <tr>\n",
       "      <th>3</th>\n",
       "      <td>1000_3</td>\n",
       "      <td>2018-09-21</td>\n",
       "      <td>13.80</td>\n",
       "      <td>1000</td>\n",
       "    </tr>\n",
       "    <tr>\n",
       "      <th>4</th>\n",
       "      <td>1000_4</td>\n",
       "      <td>2018-12-15</td>\n",
       "      <td>5.18</td>\n",
       "      <td>1000</td>\n",
       "    </tr>\n",
       "  </tbody>\n",
       "</table>\n",
       "</div>"
      ],
      "text/plain": [
       "  calls_id   call_date  duration  user_id\n",
       "0   1000_0  2018-07-25      0.00     1000\n",
       "1   1000_1  2018-08-17      0.00     1000\n",
       "2   1000_2  2018-06-11      2.85     1000\n",
       "3   1000_3  2018-09-21     13.80     1000\n",
       "4   1000_4  2018-12-15      5.18     1000"
      ]
     },
     "metadata": {},
     "output_type": "display_data"
    },
    {
     "data": {
      "text/html": [
       "<div>\n",
       "<style scoped>\n",
       "    .dataframe tbody tr th:only-of-type {\n",
       "        vertical-align: middle;\n",
       "    }\n",
       "\n",
       "    .dataframe tbody tr th {\n",
       "        vertical-align: top;\n",
       "    }\n",
       "\n",
       "    .dataframe thead th {\n",
       "        text-align: right;\n",
       "    }\n",
       "</style>\n",
       "<table border=\"1\" class=\"dataframe\">\n",
       "  <thead>\n",
       "    <tr style=\"text-align: right;\">\n",
       "      <th></th>\n",
       "      <th>messages_id</th>\n",
       "      <th>message_date</th>\n",
       "      <th>user_id</th>\n",
       "    </tr>\n",
       "  </thead>\n",
       "  <tbody>\n",
       "    <tr>\n",
       "      <th>0</th>\n",
       "      <td>1000_0</td>\n",
       "      <td>2018-06-27</td>\n",
       "      <td>1000</td>\n",
       "    </tr>\n",
       "    <tr>\n",
       "      <th>1</th>\n",
       "      <td>1000_1</td>\n",
       "      <td>2018-10-08</td>\n",
       "      <td>1000</td>\n",
       "    </tr>\n",
       "    <tr>\n",
       "      <th>2</th>\n",
       "      <td>1000_2</td>\n",
       "      <td>2018-08-04</td>\n",
       "      <td>1000</td>\n",
       "    </tr>\n",
       "    <tr>\n",
       "      <th>3</th>\n",
       "      <td>1000_3</td>\n",
       "      <td>2018-06-16</td>\n",
       "      <td>1000</td>\n",
       "    </tr>\n",
       "    <tr>\n",
       "      <th>4</th>\n",
       "      <td>1000_4</td>\n",
       "      <td>2018-12-05</td>\n",
       "      <td>1000</td>\n",
       "    </tr>\n",
       "  </tbody>\n",
       "</table>\n",
       "</div>"
      ],
      "text/plain": [
       "  messages_id message_date  user_id\n",
       "0      1000_0   2018-06-27     1000\n",
       "1      1000_1   2018-10-08     1000\n",
       "2      1000_2   2018-08-04     1000\n",
       "3      1000_3   2018-06-16     1000\n",
       "4      1000_4   2018-12-05     1000"
      ]
     },
     "metadata": {},
     "output_type": "display_data"
    },
    {
     "data": {
      "text/html": [
       "<div>\n",
       "<style scoped>\n",
       "    .dataframe tbody tr th:only-of-type {\n",
       "        vertical-align: middle;\n",
       "    }\n",
       "\n",
       "    .dataframe tbody tr th {\n",
       "        vertical-align: top;\n",
       "    }\n",
       "\n",
       "    .dataframe thead th {\n",
       "        text-align: right;\n",
       "    }\n",
       "</style>\n",
       "<table border=\"1\" class=\"dataframe\">\n",
       "  <thead>\n",
       "    <tr style=\"text-align: right;\">\n",
       "      <th></th>\n",
       "      <th>Unnamed: 0</th>\n",
       "      <th>internet_id</th>\n",
       "      <th>mb_used</th>\n",
       "      <th>session_date</th>\n",
       "      <th>user_id</th>\n",
       "    </tr>\n",
       "  </thead>\n",
       "  <tbody>\n",
       "    <tr>\n",
       "      <th>0</th>\n",
       "      <td>0</td>\n",
       "      <td>1000_0</td>\n",
       "      <td>112.95</td>\n",
       "      <td>2018-11-25</td>\n",
       "      <td>1000</td>\n",
       "    </tr>\n",
       "    <tr>\n",
       "      <th>1</th>\n",
       "      <td>1</td>\n",
       "      <td>1000_1</td>\n",
       "      <td>1052.81</td>\n",
       "      <td>2018-09-07</td>\n",
       "      <td>1000</td>\n",
       "    </tr>\n",
       "    <tr>\n",
       "      <th>2</th>\n",
       "      <td>2</td>\n",
       "      <td>1000_2</td>\n",
       "      <td>1197.26</td>\n",
       "      <td>2018-06-25</td>\n",
       "      <td>1000</td>\n",
       "    </tr>\n",
       "    <tr>\n",
       "      <th>3</th>\n",
       "      <td>3</td>\n",
       "      <td>1000_3</td>\n",
       "      <td>550.27</td>\n",
       "      <td>2018-08-22</td>\n",
       "      <td>1000</td>\n",
       "    </tr>\n",
       "    <tr>\n",
       "      <th>4</th>\n",
       "      <td>4</td>\n",
       "      <td>1000_4</td>\n",
       "      <td>302.56</td>\n",
       "      <td>2018-09-24</td>\n",
       "      <td>1000</td>\n",
       "    </tr>\n",
       "  </tbody>\n",
       "</table>\n",
       "</div>"
      ],
      "text/plain": [
       "   Unnamed: 0 internet_id  mb_used session_date  user_id\n",
       "0           0      1000_0   112.95   2018-11-25     1000\n",
       "1           1      1000_1  1052.81   2018-09-07     1000\n",
       "2           2      1000_2  1197.26   2018-06-25     1000\n",
       "3           3      1000_3   550.27   2018-08-22     1000\n",
       "4           4      1000_4   302.56   2018-09-24     1000"
      ]
     },
     "metadata": {},
     "output_type": "display_data"
    }
   ],
   "source": [
    "calls = calls.rename(columns ={'id' : 'calls_id'})\n",
    "messages = messages.rename(columns ={'id' : 'messages_id'})\n",
    "internet = internet.rename(columns ={'id' : 'internet_id'})\n",
    "tariffs = tariffs.rename(columns={'tariff_name':'tariff'})\n",
    "tariffs\n",
    "display(calls.head())\n",
    "display(messages.head())\n",
    "display(internet.head())"
   ]
  },
  {
   "cell_type": "markdown",
   "metadata": {},
   "source": [
    "Стобце 'unnamed: 0' повторяет номер строки, соотвествественно от него можно избавиться."
   ]
  },
  {
   "cell_type": "code",
   "execution_count": 11,
   "metadata": {},
   "outputs": [
    {
     "data": {
      "text/html": [
       "<div>\n",
       "<style scoped>\n",
       "    .dataframe tbody tr th:only-of-type {\n",
       "        vertical-align: middle;\n",
       "    }\n",
       "\n",
       "    .dataframe tbody tr th {\n",
       "        vertical-align: top;\n",
       "    }\n",
       "\n",
       "    .dataframe thead th {\n",
       "        text-align: right;\n",
       "    }\n",
       "</style>\n",
       "<table border=\"1\" class=\"dataframe\">\n",
       "  <thead>\n",
       "    <tr style=\"text-align: right;\">\n",
       "      <th></th>\n",
       "      <th>internet_id</th>\n",
       "      <th>mb_used</th>\n",
       "      <th>session_date</th>\n",
       "      <th>user_id</th>\n",
       "    </tr>\n",
       "  </thead>\n",
       "  <tbody>\n",
       "    <tr>\n",
       "      <th>0</th>\n",
       "      <td>1000_0</td>\n",
       "      <td>112.95</td>\n",
       "      <td>2018-11-25</td>\n",
       "      <td>1000</td>\n",
       "    </tr>\n",
       "  </tbody>\n",
       "</table>\n",
       "</div>"
      ],
      "text/plain": [
       "  internet_id  mb_used session_date  user_id\n",
       "0      1000_0   112.95   2018-11-25     1000"
      ]
     },
     "metadata": {},
     "output_type": "display_data"
    }
   ],
   "source": [
    "del internet['Unnamed: 0']\n",
    "display(internet.head(1))"
   ]
  },
  {
   "cell_type": "markdown",
   "metadata": {},
   "source": [
    "### Замена пропусков"
   ]
  },
  {
   "cell_type": "markdown",
   "metadata": {},
   "source": [
    "Будем считать, что пропуски в стобце 'churn_date' означают то, что тариф до сих пор используется."
   ]
  },
  {
   "cell_type": "code",
   "execution_count": 12,
   "metadata": {},
   "outputs": [
    {
     "data": {
      "text/plain": [
       "0"
      ]
     },
     "execution_count": 12,
     "metadata": {},
     "output_type": "execute_result"
    }
   ],
   "source": [
    "users['churn_date'] = users['churn_date'].fillna('active')\n",
    "users['churn_date'].isna().sum()"
   ]
  },
  {
   "cell_type": "markdown",
   "metadata": {},
   "source": []
  },
  {
   "cell_type": "markdown",
   "metadata": {},
   "source": [
    "### Приводим стобцы с датой в формат datetime, добавляем стобец 'month'"
   ]
  },
  {
   "cell_type": "markdown",
   "metadata": {},
   "source": [
    "Меняем форматы столбцов с датой на datetime, для того, чтобы добавить столбец 'month' с помощью, которого сможем распределить значения по месяцам."
   ]
  },
  {
   "cell_type": "code",
   "execution_count": 13,
   "metadata": {},
   "outputs": [
    {
     "data": {
      "text/html": [
       "<div>\n",
       "<style scoped>\n",
       "    .dataframe tbody tr th:only-of-type {\n",
       "        vertical-align: middle;\n",
       "    }\n",
       "\n",
       "    .dataframe tbody tr th {\n",
       "        vertical-align: top;\n",
       "    }\n",
       "\n",
       "    .dataframe thead th {\n",
       "        text-align: right;\n",
       "    }\n",
       "</style>\n",
       "<table border=\"1\" class=\"dataframe\">\n",
       "  <thead>\n",
       "    <tr style=\"text-align: right;\">\n",
       "      <th></th>\n",
       "      <th>user_id</th>\n",
       "      <th>age</th>\n",
       "      <th>churn_date</th>\n",
       "      <th>city</th>\n",
       "      <th>first_name</th>\n",
       "      <th>last_name</th>\n",
       "      <th>reg_date</th>\n",
       "      <th>tariff</th>\n",
       "    </tr>\n",
       "  </thead>\n",
       "  <tbody>\n",
       "    <tr>\n",
       "      <th>0</th>\n",
       "      <td>1000</td>\n",
       "      <td>52</td>\n",
       "      <td>active</td>\n",
       "      <td>Краснодар</td>\n",
       "      <td>Рафаил</td>\n",
       "      <td>Верещагин</td>\n",
       "      <td>2018-05-25</td>\n",
       "      <td>ultra</td>\n",
       "    </tr>\n",
       "    <tr>\n",
       "      <th>1</th>\n",
       "      <td>1001</td>\n",
       "      <td>41</td>\n",
       "      <td>active</td>\n",
       "      <td>Москва</td>\n",
       "      <td>Иван</td>\n",
       "      <td>Ежов</td>\n",
       "      <td>2018-11-01</td>\n",
       "      <td>smart</td>\n",
       "    </tr>\n",
       "    <tr>\n",
       "      <th>2</th>\n",
       "      <td>1002</td>\n",
       "      <td>59</td>\n",
       "      <td>active</td>\n",
       "      <td>Стерлитамак</td>\n",
       "      <td>Евгений</td>\n",
       "      <td>Абрамович</td>\n",
       "      <td>2018-06-17</td>\n",
       "      <td>smart</td>\n",
       "    </tr>\n",
       "    <tr>\n",
       "      <th>3</th>\n",
       "      <td>1003</td>\n",
       "      <td>23</td>\n",
       "      <td>active</td>\n",
       "      <td>Москва</td>\n",
       "      <td>Белла</td>\n",
       "      <td>Белякова</td>\n",
       "      <td>2018-08-17</td>\n",
       "      <td>ultra</td>\n",
       "    </tr>\n",
       "    <tr>\n",
       "      <th>4</th>\n",
       "      <td>1004</td>\n",
       "      <td>68</td>\n",
       "      <td>active</td>\n",
       "      <td>Новокузнецк</td>\n",
       "      <td>Татьяна</td>\n",
       "      <td>Авдеенко</td>\n",
       "      <td>2018-05-14</td>\n",
       "      <td>ultra</td>\n",
       "    </tr>\n",
       "  </tbody>\n",
       "</table>\n",
       "</div>"
      ],
      "text/plain": [
       "   user_id  age churn_date         city first_name  last_name   reg_date  \\\n",
       "0     1000   52     active    Краснодар     Рафаил  Верещагин 2018-05-25   \n",
       "1     1001   41     active       Москва       Иван       Ежов 2018-11-01   \n",
       "2     1002   59     active  Стерлитамак    Евгений  Абрамович 2018-06-17   \n",
       "3     1003   23     active       Москва      Белла   Белякова 2018-08-17   \n",
       "4     1004   68     active  Новокузнецк    Татьяна   Авдеенко 2018-05-14   \n",
       "\n",
       "  tariff  \n",
       "0  ultra  \n",
       "1  smart  \n",
       "2  smart  \n",
       "3  ultra  \n",
       "4  ultra  "
      ]
     },
     "metadata": {},
     "output_type": "display_data"
    }
   ],
   "source": [
    "users['reg_date'] = pd.to_datetime(users['reg_date'], format='%Y.%m.%d')\n",
    "display(users.head())"
   ]
  },
  {
   "cell_type": "code",
   "execution_count": 14,
   "metadata": {},
   "outputs": [
    {
     "data": {
      "text/html": [
       "<div>\n",
       "<style scoped>\n",
       "    .dataframe tbody tr th:only-of-type {\n",
       "        vertical-align: middle;\n",
       "    }\n",
       "\n",
       "    .dataframe tbody tr th {\n",
       "        vertical-align: top;\n",
       "    }\n",
       "\n",
       "    .dataframe thead th {\n",
       "        text-align: right;\n",
       "    }\n",
       "</style>\n",
       "<table border=\"1\" class=\"dataframe\">\n",
       "  <thead>\n",
       "    <tr style=\"text-align: right;\">\n",
       "      <th></th>\n",
       "      <th>messages_id</th>\n",
       "      <th>message_date</th>\n",
       "      <th>user_id</th>\n",
       "      <th>month</th>\n",
       "    </tr>\n",
       "  </thead>\n",
       "  <tbody>\n",
       "    <tr>\n",
       "      <th>0</th>\n",
       "      <td>1000_0</td>\n",
       "      <td>2018-06-27</td>\n",
       "      <td>1000</td>\n",
       "      <td>6</td>\n",
       "    </tr>\n",
       "    <tr>\n",
       "      <th>1</th>\n",
       "      <td>1000_1</td>\n",
       "      <td>2018-10-08</td>\n",
       "      <td>1000</td>\n",
       "      <td>10</td>\n",
       "    </tr>\n",
       "    <tr>\n",
       "      <th>2</th>\n",
       "      <td>1000_2</td>\n",
       "      <td>2018-08-04</td>\n",
       "      <td>1000</td>\n",
       "      <td>8</td>\n",
       "    </tr>\n",
       "    <tr>\n",
       "      <th>3</th>\n",
       "      <td>1000_3</td>\n",
       "      <td>2018-06-16</td>\n",
       "      <td>1000</td>\n",
       "      <td>6</td>\n",
       "    </tr>\n",
       "    <tr>\n",
       "      <th>4</th>\n",
       "      <td>1000_4</td>\n",
       "      <td>2018-12-05</td>\n",
       "      <td>1000</td>\n",
       "      <td>12</td>\n",
       "    </tr>\n",
       "  </tbody>\n",
       "</table>\n",
       "</div>"
      ],
      "text/plain": [
       "  messages_id message_date  user_id  month\n",
       "0      1000_0   2018-06-27     1000      6\n",
       "1      1000_1   2018-10-08     1000     10\n",
       "2      1000_2   2018-08-04     1000      8\n",
       "3      1000_3   2018-06-16     1000      6\n",
       "4      1000_4   2018-12-05     1000     12"
      ]
     },
     "metadata": {},
     "output_type": "display_data"
    }
   ],
   "source": [
    "messages['message_date'] = pd.to_datetime(messages['message_date'], format='%Y.%m.%d')\n",
    "messages['month'] = messages['message_date'].dt.month\n",
    "display(messages.head())"
   ]
  },
  {
   "cell_type": "code",
   "execution_count": 15,
   "metadata": {},
   "outputs": [
    {
     "data": {
      "text/html": [
       "<div>\n",
       "<style scoped>\n",
       "    .dataframe tbody tr th:only-of-type {\n",
       "        vertical-align: middle;\n",
       "    }\n",
       "\n",
       "    .dataframe tbody tr th {\n",
       "        vertical-align: top;\n",
       "    }\n",
       "\n",
       "    .dataframe thead th {\n",
       "        text-align: right;\n",
       "    }\n",
       "</style>\n",
       "<table border=\"1\" class=\"dataframe\">\n",
       "  <thead>\n",
       "    <tr style=\"text-align: right;\">\n",
       "      <th></th>\n",
       "      <th>calls_id</th>\n",
       "      <th>call_date</th>\n",
       "      <th>duration</th>\n",
       "      <th>user_id</th>\n",
       "      <th>month</th>\n",
       "    </tr>\n",
       "  </thead>\n",
       "  <tbody>\n",
       "    <tr>\n",
       "      <th>0</th>\n",
       "      <td>1000_0</td>\n",
       "      <td>2018-07-25</td>\n",
       "      <td>0.00</td>\n",
       "      <td>1000</td>\n",
       "      <td>7</td>\n",
       "    </tr>\n",
       "    <tr>\n",
       "      <th>1</th>\n",
       "      <td>1000_1</td>\n",
       "      <td>2018-08-17</td>\n",
       "      <td>0.00</td>\n",
       "      <td>1000</td>\n",
       "      <td>8</td>\n",
       "    </tr>\n",
       "    <tr>\n",
       "      <th>2</th>\n",
       "      <td>1000_2</td>\n",
       "      <td>2018-06-11</td>\n",
       "      <td>2.85</td>\n",
       "      <td>1000</td>\n",
       "      <td>6</td>\n",
       "    </tr>\n",
       "    <tr>\n",
       "      <th>3</th>\n",
       "      <td>1000_3</td>\n",
       "      <td>2018-09-21</td>\n",
       "      <td>13.80</td>\n",
       "      <td>1000</td>\n",
       "      <td>9</td>\n",
       "    </tr>\n",
       "    <tr>\n",
       "      <th>4</th>\n",
       "      <td>1000_4</td>\n",
       "      <td>2018-12-15</td>\n",
       "      <td>5.18</td>\n",
       "      <td>1000</td>\n",
       "      <td>12</td>\n",
       "    </tr>\n",
       "  </tbody>\n",
       "</table>\n",
       "</div>"
      ],
      "text/plain": [
       "  calls_id  call_date  duration  user_id  month\n",
       "0   1000_0 2018-07-25      0.00     1000      7\n",
       "1   1000_1 2018-08-17      0.00     1000      8\n",
       "2   1000_2 2018-06-11      2.85     1000      6\n",
       "3   1000_3 2018-09-21     13.80     1000      9\n",
       "4   1000_4 2018-12-15      5.18     1000     12"
      ]
     },
     "metadata": {},
     "output_type": "display_data"
    }
   ],
   "source": [
    "calls['call_date'] = pd.to_datetime(calls['call_date'], format='%Y.%m.%d')\n",
    "calls['month'] = calls['call_date'].dt.month\n",
    "display(calls.head())"
   ]
  },
  {
   "cell_type": "code",
   "execution_count": 16,
   "metadata": {},
   "outputs": [
    {
     "data": {
      "text/html": [
       "<div>\n",
       "<style scoped>\n",
       "    .dataframe tbody tr th:only-of-type {\n",
       "        vertical-align: middle;\n",
       "    }\n",
       "\n",
       "    .dataframe tbody tr th {\n",
       "        vertical-align: top;\n",
       "    }\n",
       "\n",
       "    .dataframe thead th {\n",
       "        text-align: right;\n",
       "    }\n",
       "</style>\n",
       "<table border=\"1\" class=\"dataframe\">\n",
       "  <thead>\n",
       "    <tr style=\"text-align: right;\">\n",
       "      <th></th>\n",
       "      <th>internet_id</th>\n",
       "      <th>mb_used</th>\n",
       "      <th>session_date</th>\n",
       "      <th>user_id</th>\n",
       "      <th>month</th>\n",
       "    </tr>\n",
       "  </thead>\n",
       "  <tbody>\n",
       "    <tr>\n",
       "      <th>0</th>\n",
       "      <td>1000_0</td>\n",
       "      <td>112.95</td>\n",
       "      <td>2018-11-25</td>\n",
       "      <td>1000</td>\n",
       "      <td>11</td>\n",
       "    </tr>\n",
       "    <tr>\n",
       "      <th>1</th>\n",
       "      <td>1000_1</td>\n",
       "      <td>1052.81</td>\n",
       "      <td>2018-09-07</td>\n",
       "      <td>1000</td>\n",
       "      <td>9</td>\n",
       "    </tr>\n",
       "    <tr>\n",
       "      <th>2</th>\n",
       "      <td>1000_2</td>\n",
       "      <td>1197.26</td>\n",
       "      <td>2018-06-25</td>\n",
       "      <td>1000</td>\n",
       "      <td>6</td>\n",
       "    </tr>\n",
       "    <tr>\n",
       "      <th>3</th>\n",
       "      <td>1000_3</td>\n",
       "      <td>550.27</td>\n",
       "      <td>2018-08-22</td>\n",
       "      <td>1000</td>\n",
       "      <td>8</td>\n",
       "    </tr>\n",
       "    <tr>\n",
       "      <th>4</th>\n",
       "      <td>1000_4</td>\n",
       "      <td>302.56</td>\n",
       "      <td>2018-09-24</td>\n",
       "      <td>1000</td>\n",
       "      <td>9</td>\n",
       "    </tr>\n",
       "  </tbody>\n",
       "</table>\n",
       "</div>"
      ],
      "text/plain": [
       "  internet_id  mb_used session_date  user_id  month\n",
       "0      1000_0   112.95   2018-11-25     1000     11\n",
       "1      1000_1  1052.81   2018-09-07     1000      9\n",
       "2      1000_2  1197.26   2018-06-25     1000      6\n",
       "3      1000_3   550.27   2018-08-22     1000      8\n",
       "4      1000_4   302.56   2018-09-24     1000      9"
      ]
     },
     "metadata": {},
     "output_type": "display_data"
    }
   ],
   "source": [
    "internet['session_date'] = pd.to_datetime(internet['session_date'], format='%Y.%m.%d')\n",
    "internet['month'] = internet['session_date'].dt.month\n",
    "display(internet.head())"
   ]
  },
  {
   "cell_type": "markdown",
   "metadata": {},
   "source": [
    "#### Приводим данные по звонкам и трафику к заявленому условиями оператором для расчетов"
   ]
  },
  {
   "cell_type": "markdown",
   "metadata": {},
   "source": [
    "Из условий известно, что оператор взимает плату или списывает минуты, гигабайты даже если пользователь израсходовал 1 секунду или 1 мегабайт. Обсулавливается это тем, что на сл месяц сохраненные ранее минуты, смс, и трафик не переводятся, а обновляются снова с значениям выбранного тарифа. А при покупки дополнительных пакетов, цена указана за 1 гб, за 1 минуту и за 1 сбщ, поэтому приведем продолжительность звонков в минуты. Мегабайты переведем в гб позже."
   ]
  },
  {
   "cell_type": "code",
   "execution_count": 17,
   "metadata": {},
   "outputs": [
    {
     "name": "stdout",
     "output_type": "stream",
     "text": [
      "[ 0  3 14  6 19  8 10  5 13 16  9  2 15 11 24 12 23  7 20  1  4 17 21 18\n",
      " 25 22 27 26 29 28 30 37 31 33 34 32 36 35 38]\n"
     ]
    }
   ],
   "source": [
    "calls['duration'] = np.ceil(calls['duration']).astype('int')\n",
    "print(calls['duration'].unique())"
   ]
  },
  {
   "cell_type": "markdown",
   "metadata": {},
   "source": [
    "#### Формируем сводные таблицы"
   ]
  },
  {
   "cell_type": "markdown",
   "metadata": {},
   "source": [
    "1. По скольку у нас есть столбец с номером каждого месяца, формируем данные в удобный для соединия таблиц вид\n",
    "2. Тут же посчитаем суммарное количество на каждого пользователя за каждый месяц:\n",
    "* минут\n",
    "* сообщение\n",
    "* трафика в мегабайтах"
   ]
  },
  {
   "cell_type": "code",
   "execution_count": 18,
   "metadata": {},
   "outputs": [
    {
     "data": {
      "text/html": [
       "<div>\n",
       "<style scoped>\n",
       "    .dataframe tbody tr th:only-of-type {\n",
       "        vertical-align: middle;\n",
       "    }\n",
       "\n",
       "    .dataframe tbody tr th {\n",
       "        vertical-align: top;\n",
       "    }\n",
       "\n",
       "    .dataframe thead th {\n",
       "        text-align: right;\n",
       "    }\n",
       "</style>\n",
       "<table border=\"1\" class=\"dataframe\">\n",
       "  <thead>\n",
       "    <tr style=\"text-align: right;\">\n",
       "      <th></th>\n",
       "      <th>user_id</th>\n",
       "      <th>month</th>\n",
       "      <th>duration</th>\n",
       "    </tr>\n",
       "  </thead>\n",
       "  <tbody>\n",
       "    <tr>\n",
       "      <th>0</th>\n",
       "      <td>1000</td>\n",
       "      <td>5</td>\n",
       "      <td>159</td>\n",
       "    </tr>\n",
       "    <tr>\n",
       "      <th>1</th>\n",
       "      <td>1000</td>\n",
       "      <td>6</td>\n",
       "      <td>172</td>\n",
       "    </tr>\n",
       "    <tr>\n",
       "      <th>2</th>\n",
       "      <td>1000</td>\n",
       "      <td>7</td>\n",
       "      <td>340</td>\n",
       "    </tr>\n",
       "    <tr>\n",
       "      <th>3</th>\n",
       "      <td>1000</td>\n",
       "      <td>8</td>\n",
       "      <td>408</td>\n",
       "    </tr>\n",
       "    <tr>\n",
       "      <th>4</th>\n",
       "      <td>1000</td>\n",
       "      <td>9</td>\n",
       "      <td>466</td>\n",
       "    </tr>\n",
       "    <tr>\n",
       "      <th>...</th>\n",
       "      <td>...</td>\n",
       "      <td>...</td>\n",
       "      <td>...</td>\n",
       "    </tr>\n",
       "    <tr>\n",
       "      <th>3169</th>\n",
       "      <td>1498</td>\n",
       "      <td>10</td>\n",
       "      <td>247</td>\n",
       "    </tr>\n",
       "    <tr>\n",
       "      <th>3170</th>\n",
       "      <td>1499</td>\n",
       "      <td>9</td>\n",
       "      <td>70</td>\n",
       "    </tr>\n",
       "    <tr>\n",
       "      <th>3171</th>\n",
       "      <td>1499</td>\n",
       "      <td>10</td>\n",
       "      <td>449</td>\n",
       "    </tr>\n",
       "    <tr>\n",
       "      <th>3172</th>\n",
       "      <td>1499</td>\n",
       "      <td>11</td>\n",
       "      <td>612</td>\n",
       "    </tr>\n",
       "    <tr>\n",
       "      <th>3173</th>\n",
       "      <td>1499</td>\n",
       "      <td>12</td>\n",
       "      <td>492</td>\n",
       "    </tr>\n",
       "  </tbody>\n",
       "</table>\n",
       "<p>3174 rows × 3 columns</p>\n",
       "</div>"
      ],
      "text/plain": [
       "      user_id  month  duration\n",
       "0        1000      5       159\n",
       "1        1000      6       172\n",
       "2        1000      7       340\n",
       "3        1000      8       408\n",
       "4        1000      9       466\n",
       "...       ...    ...       ...\n",
       "3169     1498     10       247\n",
       "3170     1499      9        70\n",
       "3171     1499     10       449\n",
       "3172     1499     11       612\n",
       "3173     1499     12       492\n",
       "\n",
       "[3174 rows x 3 columns]"
      ]
     },
     "metadata": {},
     "output_type": "display_data"
    }
   ],
   "source": [
    "calls_df = calls.groupby(['user_id', 'month'])['duration'].sum().reset_index()\n",
    "display(calls_df)"
   ]
  },
  {
   "cell_type": "code",
   "execution_count": 19,
   "metadata": {},
   "outputs": [
    {
     "data": {
      "text/html": [
       "<div>\n",
       "<style scoped>\n",
       "    .dataframe tbody tr th:only-of-type {\n",
       "        vertical-align: middle;\n",
       "    }\n",
       "\n",
       "    .dataframe tbody tr th {\n",
       "        vertical-align: top;\n",
       "    }\n",
       "\n",
       "    .dataframe thead th {\n",
       "        text-align: right;\n",
       "    }\n",
       "</style>\n",
       "<table border=\"1\" class=\"dataframe\">\n",
       "  <thead>\n",
       "    <tr style=\"text-align: right;\">\n",
       "      <th></th>\n",
       "      <th>user_id</th>\n",
       "      <th>month</th>\n",
       "      <th>messages_id</th>\n",
       "    </tr>\n",
       "  </thead>\n",
       "  <tbody>\n",
       "    <tr>\n",
       "      <th>0</th>\n",
       "      <td>1000</td>\n",
       "      <td>5</td>\n",
       "      <td>22</td>\n",
       "    </tr>\n",
       "    <tr>\n",
       "      <th>1</th>\n",
       "      <td>1000</td>\n",
       "      <td>6</td>\n",
       "      <td>60</td>\n",
       "    </tr>\n",
       "    <tr>\n",
       "      <th>2</th>\n",
       "      <td>1000</td>\n",
       "      <td>7</td>\n",
       "      <td>75</td>\n",
       "    </tr>\n",
       "    <tr>\n",
       "      <th>3</th>\n",
       "      <td>1000</td>\n",
       "      <td>8</td>\n",
       "      <td>81</td>\n",
       "    </tr>\n",
       "    <tr>\n",
       "      <th>4</th>\n",
       "      <td>1000</td>\n",
       "      <td>9</td>\n",
       "      <td>57</td>\n",
       "    </tr>\n",
       "    <tr>\n",
       "      <th>...</th>\n",
       "      <td>...</td>\n",
       "      <td>...</td>\n",
       "      <td>...</td>\n",
       "    </tr>\n",
       "    <tr>\n",
       "      <th>2712</th>\n",
       "      <td>1498</td>\n",
       "      <td>10</td>\n",
       "      <td>42</td>\n",
       "    </tr>\n",
       "    <tr>\n",
       "      <th>2713</th>\n",
       "      <td>1499</td>\n",
       "      <td>9</td>\n",
       "      <td>11</td>\n",
       "    </tr>\n",
       "    <tr>\n",
       "      <th>2714</th>\n",
       "      <td>1499</td>\n",
       "      <td>10</td>\n",
       "      <td>48</td>\n",
       "    </tr>\n",
       "    <tr>\n",
       "      <th>2715</th>\n",
       "      <td>1499</td>\n",
       "      <td>11</td>\n",
       "      <td>59</td>\n",
       "    </tr>\n",
       "    <tr>\n",
       "      <th>2716</th>\n",
       "      <td>1499</td>\n",
       "      <td>12</td>\n",
       "      <td>66</td>\n",
       "    </tr>\n",
       "  </tbody>\n",
       "</table>\n",
       "<p>2717 rows × 3 columns</p>\n",
       "</div>"
      ],
      "text/plain": [
       "      user_id  month  messages_id\n",
       "0        1000      5           22\n",
       "1        1000      6           60\n",
       "2        1000      7           75\n",
       "3        1000      8           81\n",
       "4        1000      9           57\n",
       "...       ...    ...          ...\n",
       "2712     1498     10           42\n",
       "2713     1499      9           11\n",
       "2714     1499     10           48\n",
       "2715     1499     11           59\n",
       "2716     1499     12           66\n",
       "\n",
       "[2717 rows x 3 columns]"
      ]
     },
     "metadata": {},
     "output_type": "display_data"
    }
   ],
   "source": [
    "messages_df = messages.groupby(['user_id', 'month'])['messages_id'].count().reset_index()\n",
    "display(messages_df)"
   ]
  },
  {
   "cell_type": "code",
   "execution_count": 20,
   "metadata": {},
   "outputs": [
    {
     "data": {
      "text/html": [
       "<div>\n",
       "<style scoped>\n",
       "    .dataframe tbody tr th:only-of-type {\n",
       "        vertical-align: middle;\n",
       "    }\n",
       "\n",
       "    .dataframe tbody tr th {\n",
       "        vertical-align: top;\n",
       "    }\n",
       "\n",
       "    .dataframe thead th {\n",
       "        text-align: right;\n",
       "    }\n",
       "</style>\n",
       "<table border=\"1\" class=\"dataframe\">\n",
       "  <thead>\n",
       "    <tr style=\"text-align: right;\">\n",
       "      <th></th>\n",
       "      <th>user_id</th>\n",
       "      <th>month</th>\n",
       "      <th>mb_used</th>\n",
       "    </tr>\n",
       "  </thead>\n",
       "  <tbody>\n",
       "    <tr>\n",
       "      <th>0</th>\n",
       "      <td>1000</td>\n",
       "      <td>5</td>\n",
       "      <td>2253.49</td>\n",
       "    </tr>\n",
       "    <tr>\n",
       "      <th>1</th>\n",
       "      <td>1000</td>\n",
       "      <td>6</td>\n",
       "      <td>23233.77</td>\n",
       "    </tr>\n",
       "    <tr>\n",
       "      <th>2</th>\n",
       "      <td>1000</td>\n",
       "      <td>7</td>\n",
       "      <td>14003.64</td>\n",
       "    </tr>\n",
       "    <tr>\n",
       "      <th>3</th>\n",
       "      <td>1000</td>\n",
       "      <td>8</td>\n",
       "      <td>14055.93</td>\n",
       "    </tr>\n",
       "    <tr>\n",
       "      <th>4</th>\n",
       "      <td>1000</td>\n",
       "      <td>9</td>\n",
       "      <td>14568.91</td>\n",
       "    </tr>\n",
       "    <tr>\n",
       "      <th>...</th>\n",
       "      <td>...</td>\n",
       "      <td>...</td>\n",
       "      <td>...</td>\n",
       "    </tr>\n",
       "    <tr>\n",
       "      <th>3198</th>\n",
       "      <td>1498</td>\n",
       "      <td>10</td>\n",
       "      <td>20579.36</td>\n",
       "    </tr>\n",
       "    <tr>\n",
       "      <th>3199</th>\n",
       "      <td>1499</td>\n",
       "      <td>9</td>\n",
       "      <td>1845.75</td>\n",
       "    </tr>\n",
       "    <tr>\n",
       "      <th>3200</th>\n",
       "      <td>1499</td>\n",
       "      <td>10</td>\n",
       "      <td>17788.51</td>\n",
       "    </tr>\n",
       "    <tr>\n",
       "      <th>3201</th>\n",
       "      <td>1499</td>\n",
       "      <td>11</td>\n",
       "      <td>17963.31</td>\n",
       "    </tr>\n",
       "    <tr>\n",
       "      <th>3202</th>\n",
       "      <td>1499</td>\n",
       "      <td>12</td>\n",
       "      <td>13055.58</td>\n",
       "    </tr>\n",
       "  </tbody>\n",
       "</table>\n",
       "<p>3203 rows × 3 columns</p>\n",
       "</div>"
      ],
      "text/plain": [
       "      user_id  month   mb_used\n",
       "0        1000      5   2253.49\n",
       "1        1000      6  23233.77\n",
       "2        1000      7  14003.64\n",
       "3        1000      8  14055.93\n",
       "4        1000      9  14568.91\n",
       "...       ...    ...       ...\n",
       "3198     1498     10  20579.36\n",
       "3199     1499      9   1845.75\n",
       "3200     1499     10  17788.51\n",
       "3201     1499     11  17963.31\n",
       "3202     1499     12  13055.58\n",
       "\n",
       "[3203 rows x 3 columns]"
      ]
     },
     "metadata": {},
     "output_type": "display_data"
    }
   ],
   "source": [
    "internet_df = internet.groupby(['user_id', 'month'])['mb_used'].sum().reset_index()\n",
    "display(internet_df)"
   ]
  },
  {
   "cell_type": "markdown",
   "metadata": {},
   "source": [
    "Получив сводные таблицы, собираем их в единый датафрейм."
   ]
  },
  {
   "cell_type": "markdown",
   "metadata": {},
   "source": [
    "### Собираем датафрейм"
   ]
  },
  {
   "cell_type": "code",
   "execution_count": 21,
   "metadata": {
    "scrolled": false
   },
   "outputs": [
    {
     "data": {
      "text/html": [
       "<div>\n",
       "<style scoped>\n",
       "    .dataframe tbody tr th:only-of-type {\n",
       "        vertical-align: middle;\n",
       "    }\n",
       "\n",
       "    .dataframe tbody tr th {\n",
       "        vertical-align: top;\n",
       "    }\n",
       "\n",
       "    .dataframe thead th {\n",
       "        text-align: right;\n",
       "    }\n",
       "</style>\n",
       "<table border=\"1\" class=\"dataframe\">\n",
       "  <thead>\n",
       "    <tr style=\"text-align: right;\">\n",
       "      <th></th>\n",
       "      <th>user_id</th>\n",
       "      <th>month</th>\n",
       "      <th>duration</th>\n",
       "      <th>mb_used</th>\n",
       "      <th>messages_id</th>\n",
       "      <th>age</th>\n",
       "      <th>churn_date</th>\n",
       "      <th>city</th>\n",
       "      <th>first_name</th>\n",
       "      <th>last_name</th>\n",
       "      <th>reg_date</th>\n",
       "      <th>tariff</th>\n",
       "      <th>messages_included</th>\n",
       "      <th>mb_per_month_included</th>\n",
       "      <th>minutes_included</th>\n",
       "      <th>rub_monthly_fee</th>\n",
       "      <th>rub_per_gb</th>\n",
       "      <th>rub_per_message</th>\n",
       "      <th>rub_per_minute</th>\n",
       "    </tr>\n",
       "  </thead>\n",
       "  <tbody>\n",
       "    <tr>\n",
       "      <th>0</th>\n",
       "      <td>1000</td>\n",
       "      <td>5</td>\n",
       "      <td>159.0</td>\n",
       "      <td>2253.49</td>\n",
       "      <td>22.0</td>\n",
       "      <td>52</td>\n",
       "      <td>active</td>\n",
       "      <td>Краснодар</td>\n",
       "      <td>Рафаил</td>\n",
       "      <td>Верещагин</td>\n",
       "      <td>2018-05-25</td>\n",
       "      <td>ultra</td>\n",
       "      <td>1000</td>\n",
       "      <td>30720</td>\n",
       "      <td>3000</td>\n",
       "      <td>1950</td>\n",
       "      <td>150</td>\n",
       "      <td>1</td>\n",
       "      <td>1</td>\n",
       "    </tr>\n",
       "    <tr>\n",
       "      <th>1</th>\n",
       "      <td>1000</td>\n",
       "      <td>6</td>\n",
       "      <td>172.0</td>\n",
       "      <td>23233.77</td>\n",
       "      <td>60.0</td>\n",
       "      <td>52</td>\n",
       "      <td>active</td>\n",
       "      <td>Краснодар</td>\n",
       "      <td>Рафаил</td>\n",
       "      <td>Верещагин</td>\n",
       "      <td>2018-05-25</td>\n",
       "      <td>ultra</td>\n",
       "      <td>1000</td>\n",
       "      <td>30720</td>\n",
       "      <td>3000</td>\n",
       "      <td>1950</td>\n",
       "      <td>150</td>\n",
       "      <td>1</td>\n",
       "      <td>1</td>\n",
       "    </tr>\n",
       "    <tr>\n",
       "      <th>2</th>\n",
       "      <td>1000</td>\n",
       "      <td>7</td>\n",
       "      <td>340.0</td>\n",
       "      <td>14003.64</td>\n",
       "      <td>75.0</td>\n",
       "      <td>52</td>\n",
       "      <td>active</td>\n",
       "      <td>Краснодар</td>\n",
       "      <td>Рафаил</td>\n",
       "      <td>Верещагин</td>\n",
       "      <td>2018-05-25</td>\n",
       "      <td>ultra</td>\n",
       "      <td>1000</td>\n",
       "      <td>30720</td>\n",
       "      <td>3000</td>\n",
       "      <td>1950</td>\n",
       "      <td>150</td>\n",
       "      <td>1</td>\n",
       "      <td>1</td>\n",
       "    </tr>\n",
       "    <tr>\n",
       "      <th>3</th>\n",
       "      <td>1000</td>\n",
       "      <td>8</td>\n",
       "      <td>408.0</td>\n",
       "      <td>14055.93</td>\n",
       "      <td>81.0</td>\n",
       "      <td>52</td>\n",
       "      <td>active</td>\n",
       "      <td>Краснодар</td>\n",
       "      <td>Рафаил</td>\n",
       "      <td>Верещагин</td>\n",
       "      <td>2018-05-25</td>\n",
       "      <td>ultra</td>\n",
       "      <td>1000</td>\n",
       "      <td>30720</td>\n",
       "      <td>3000</td>\n",
       "      <td>1950</td>\n",
       "      <td>150</td>\n",
       "      <td>1</td>\n",
       "      <td>1</td>\n",
       "    </tr>\n",
       "    <tr>\n",
       "      <th>4</th>\n",
       "      <td>1000</td>\n",
       "      <td>9</td>\n",
       "      <td>466.0</td>\n",
       "      <td>14568.91</td>\n",
       "      <td>57.0</td>\n",
       "      <td>52</td>\n",
       "      <td>active</td>\n",
       "      <td>Краснодар</td>\n",
       "      <td>Рафаил</td>\n",
       "      <td>Верещагин</td>\n",
       "      <td>2018-05-25</td>\n",
       "      <td>ultra</td>\n",
       "      <td>1000</td>\n",
       "      <td>30720</td>\n",
       "      <td>3000</td>\n",
       "      <td>1950</td>\n",
       "      <td>150</td>\n",
       "      <td>1</td>\n",
       "      <td>1</td>\n",
       "    </tr>\n",
       "    <tr>\n",
       "      <th>...</th>\n",
       "      <td>...</td>\n",
       "      <td>...</td>\n",
       "      <td>...</td>\n",
       "      <td>...</td>\n",
       "      <td>...</td>\n",
       "      <td>...</td>\n",
       "      <td>...</td>\n",
       "      <td>...</td>\n",
       "      <td>...</td>\n",
       "      <td>...</td>\n",
       "      <td>...</td>\n",
       "      <td>...</td>\n",
       "      <td>...</td>\n",
       "      <td>...</td>\n",
       "      <td>...</td>\n",
       "      <td>...</td>\n",
       "      <td>...</td>\n",
       "      <td>...</td>\n",
       "      <td>...</td>\n",
       "    </tr>\n",
       "    <tr>\n",
       "      <th>3209</th>\n",
       "      <td>1489</td>\n",
       "      <td>8</td>\n",
       "      <td>NaN</td>\n",
       "      <td>11050.56</td>\n",
       "      <td>17.0</td>\n",
       "      <td>35</td>\n",
       "      <td>active</td>\n",
       "      <td>Санкт-Петербург</td>\n",
       "      <td>Павел</td>\n",
       "      <td>Гончаров</td>\n",
       "      <td>2018-08-15</td>\n",
       "      <td>smart</td>\n",
       "      <td>50</td>\n",
       "      <td>15360</td>\n",
       "      <td>500</td>\n",
       "      <td>550</td>\n",
       "      <td>200</td>\n",
       "      <td>3</td>\n",
       "      <td>3</td>\n",
       "    </tr>\n",
       "    <tr>\n",
       "      <th>3210</th>\n",
       "      <td>1489</td>\n",
       "      <td>9</td>\n",
       "      <td>NaN</td>\n",
       "      <td>17206.30</td>\n",
       "      <td>32.0</td>\n",
       "      <td>35</td>\n",
       "      <td>active</td>\n",
       "      <td>Санкт-Петербург</td>\n",
       "      <td>Павел</td>\n",
       "      <td>Гончаров</td>\n",
       "      <td>2018-08-15</td>\n",
       "      <td>smart</td>\n",
       "      <td>50</td>\n",
       "      <td>15360</td>\n",
       "      <td>500</td>\n",
       "      <td>550</td>\n",
       "      <td>200</td>\n",
       "      <td>3</td>\n",
       "      <td>3</td>\n",
       "    </tr>\n",
       "    <tr>\n",
       "      <th>3211</th>\n",
       "      <td>1489</td>\n",
       "      <td>10</td>\n",
       "      <td>NaN</td>\n",
       "      <td>19559.44</td>\n",
       "      <td>21.0</td>\n",
       "      <td>35</td>\n",
       "      <td>active</td>\n",
       "      <td>Санкт-Петербург</td>\n",
       "      <td>Павел</td>\n",
       "      <td>Гончаров</td>\n",
       "      <td>2018-08-15</td>\n",
       "      <td>smart</td>\n",
       "      <td>50</td>\n",
       "      <td>15360</td>\n",
       "      <td>500</td>\n",
       "      <td>550</td>\n",
       "      <td>200</td>\n",
       "      <td>3</td>\n",
       "      <td>3</td>\n",
       "    </tr>\n",
       "    <tr>\n",
       "      <th>3212</th>\n",
       "      <td>1489</td>\n",
       "      <td>11</td>\n",
       "      <td>NaN</td>\n",
       "      <td>17491.56</td>\n",
       "      <td>20.0</td>\n",
       "      <td>35</td>\n",
       "      <td>active</td>\n",
       "      <td>Санкт-Петербург</td>\n",
       "      <td>Павел</td>\n",
       "      <td>Гончаров</td>\n",
       "      <td>2018-08-15</td>\n",
       "      <td>smart</td>\n",
       "      <td>50</td>\n",
       "      <td>15360</td>\n",
       "      <td>500</td>\n",
       "      <td>550</td>\n",
       "      <td>200</td>\n",
       "      <td>3</td>\n",
       "      <td>3</td>\n",
       "    </tr>\n",
       "    <tr>\n",
       "      <th>3213</th>\n",
       "      <td>1489</td>\n",
       "      <td>12</td>\n",
       "      <td>NaN</td>\n",
       "      <td>17322.51</td>\n",
       "      <td>35.0</td>\n",
       "      <td>35</td>\n",
       "      <td>active</td>\n",
       "      <td>Санкт-Петербург</td>\n",
       "      <td>Павел</td>\n",
       "      <td>Гончаров</td>\n",
       "      <td>2018-08-15</td>\n",
       "      <td>smart</td>\n",
       "      <td>50</td>\n",
       "      <td>15360</td>\n",
       "      <td>500</td>\n",
       "      <td>550</td>\n",
       "      <td>200</td>\n",
       "      <td>3</td>\n",
       "      <td>3</td>\n",
       "    </tr>\n",
       "  </tbody>\n",
       "</table>\n",
       "<p>3214 rows × 19 columns</p>\n",
       "</div>"
      ],
      "text/plain": [
       "      user_id  month  duration   mb_used  messages_id  age churn_date  \\\n",
       "0        1000      5     159.0   2253.49         22.0   52     active   \n",
       "1        1000      6     172.0  23233.77         60.0   52     active   \n",
       "2        1000      7     340.0  14003.64         75.0   52     active   \n",
       "3        1000      8     408.0  14055.93         81.0   52     active   \n",
       "4        1000      9     466.0  14568.91         57.0   52     active   \n",
       "...       ...    ...       ...       ...          ...  ...        ...   \n",
       "3209     1489      8       NaN  11050.56         17.0   35     active   \n",
       "3210     1489      9       NaN  17206.30         32.0   35     active   \n",
       "3211     1489     10       NaN  19559.44         21.0   35     active   \n",
       "3212     1489     11       NaN  17491.56         20.0   35     active   \n",
       "3213     1489     12       NaN  17322.51         35.0   35     active   \n",
       "\n",
       "                 city first_name  last_name   reg_date tariff  \\\n",
       "0           Краснодар     Рафаил  Верещагин 2018-05-25  ultra   \n",
       "1           Краснодар     Рафаил  Верещагин 2018-05-25  ultra   \n",
       "2           Краснодар     Рафаил  Верещагин 2018-05-25  ultra   \n",
       "3           Краснодар     Рафаил  Верещагин 2018-05-25  ultra   \n",
       "4           Краснодар     Рафаил  Верещагин 2018-05-25  ultra   \n",
       "...               ...        ...        ...        ...    ...   \n",
       "3209  Санкт-Петербург      Павел   Гончаров 2018-08-15  smart   \n",
       "3210  Санкт-Петербург      Павел   Гончаров 2018-08-15  smart   \n",
       "3211  Санкт-Петербург      Павел   Гончаров 2018-08-15  smart   \n",
       "3212  Санкт-Петербург      Павел   Гончаров 2018-08-15  smart   \n",
       "3213  Санкт-Петербург      Павел   Гончаров 2018-08-15  smart   \n",
       "\n",
       "      messages_included  mb_per_month_included  minutes_included  \\\n",
       "0                  1000                  30720              3000   \n",
       "1                  1000                  30720              3000   \n",
       "2                  1000                  30720              3000   \n",
       "3                  1000                  30720              3000   \n",
       "4                  1000                  30720              3000   \n",
       "...                 ...                    ...               ...   \n",
       "3209                 50                  15360               500   \n",
       "3210                 50                  15360               500   \n",
       "3211                 50                  15360               500   \n",
       "3212                 50                  15360               500   \n",
       "3213                 50                  15360               500   \n",
       "\n",
       "      rub_monthly_fee  rub_per_gb  rub_per_message  rub_per_minute  \n",
       "0                1950         150                1               1  \n",
       "1                1950         150                1               1  \n",
       "2                1950         150                1               1  \n",
       "3                1950         150                1               1  \n",
       "4                1950         150                1               1  \n",
       "...               ...         ...              ...             ...  \n",
       "3209              550         200                3               3  \n",
       "3210              550         200                3               3  \n",
       "3211              550         200                3               3  \n",
       "3212              550         200                3               3  \n",
       "3213              550         200                3               3  \n",
       "\n",
       "[3214 rows x 19 columns]"
      ]
     },
     "metadata": {},
     "output_type": "display_data"
    },
    {
     "data": {
      "text/plain": [
       "user_id                    0\n",
       "month                      0\n",
       "duration                  40\n",
       "mb_used                   11\n",
       "messages_id              497\n",
       "age                        0\n",
       "churn_date                 0\n",
       "city                       0\n",
       "first_name                 0\n",
       "last_name                  0\n",
       "reg_date                   0\n",
       "tariff                     0\n",
       "messages_included          0\n",
       "mb_per_month_included      0\n",
       "minutes_included           0\n",
       "rub_monthly_fee            0\n",
       "rub_per_gb                 0\n",
       "rub_per_message            0\n",
       "rub_per_minute             0\n",
       "dtype: int64"
      ]
     },
     "execution_count": 21,
     "metadata": {},
     "output_type": "execute_result"
    }
   ],
   "source": [
    "df = calls_df.merge(internet_df, on =['user_id', 'month'], how = 'outer')\n",
    "df = df.merge(messages_df, on=['user_id', 'month'], how='left')\n",
    "df = df.merge(users, on='user_id', how='left')\n",
    "df = df.merge(tariffs, on = 'tariff')\n",
    "display(df)\n",
    "df.isna().sum()"
   ]
  },
  {
   "cell_type": "markdown",
   "metadata": {},
   "source": [
    "Появились пропуски, которые появились из-за разного количества строк."
   ]
  },
  {
   "cell_type": "markdown",
   "metadata": {},
   "source": [
    "### Редактируем датафрейм"
   ]
  },
  {
   "cell_type": "markdown",
   "metadata": {},
   "source": [
    "#### Изменение названий стобцов"
   ]
  },
  {
   "cell_type": "markdown",
   "metadata": {},
   "source": [
    "Приведем названия столбцов с количесвтом сообщений и продолжительностью звонков в минутах, к более подходящим названиям. "
   ]
  },
  {
   "cell_type": "code",
   "execution_count": 22,
   "metadata": {},
   "outputs": [
    {
     "data": {
      "text/html": [
       "<div>\n",
       "<style scoped>\n",
       "    .dataframe tbody tr th:only-of-type {\n",
       "        vertical-align: middle;\n",
       "    }\n",
       "\n",
       "    .dataframe tbody tr th {\n",
       "        vertical-align: top;\n",
       "    }\n",
       "\n",
       "    .dataframe thead th {\n",
       "        text-align: right;\n",
       "    }\n",
       "</style>\n",
       "<table border=\"1\" class=\"dataframe\">\n",
       "  <thead>\n",
       "    <tr style=\"text-align: right;\">\n",
       "      <th></th>\n",
       "      <th>user_id</th>\n",
       "      <th>month</th>\n",
       "      <th>call_min</th>\n",
       "      <th>mb_used</th>\n",
       "      <th>message_count</th>\n",
       "      <th>age</th>\n",
       "      <th>churn_date</th>\n",
       "      <th>city</th>\n",
       "      <th>first_name</th>\n",
       "      <th>last_name</th>\n",
       "      <th>reg_date</th>\n",
       "      <th>tariff</th>\n",
       "      <th>messages_included</th>\n",
       "      <th>mb_per_month_included</th>\n",
       "      <th>minutes_included</th>\n",
       "      <th>rub_monthly_fee</th>\n",
       "      <th>rub_per_gb</th>\n",
       "      <th>rub_per_message</th>\n",
       "      <th>rub_per_minute</th>\n",
       "    </tr>\n",
       "  </thead>\n",
       "  <tbody>\n",
       "  </tbody>\n",
       "</table>\n",
       "</div>"
      ],
      "text/plain": [
       "Empty DataFrame\n",
       "Columns: [user_id, month, call_min, mb_used, message_count, age, churn_date, city, first_name, last_name, reg_date, tariff, messages_included, mb_per_month_included, minutes_included, rub_monthly_fee, rub_per_gb, rub_per_message, rub_per_minute]\n",
       "Index: []"
      ]
     },
     "execution_count": 22,
     "metadata": {},
     "output_type": "execute_result"
    }
   ],
   "source": [
    "df = df.rename(columns={'messages_id':'message_count', 'duration': 'call_min'})\n",
    "df.head(0)"
   ]
  },
  {
   "cell_type": "markdown",
   "metadata": {},
   "source": [
    "#### Заполняем пропуски"
   ]
  },
  {
   "cell_type": "markdown",
   "metadata": {},
   "source": [
    "Пропуски можно заполнить нулями, так как эти значения появились из-за совмещения таблиц, а значит если заполнить их средним или медианным значением, мы получим данные, которых вообще никогда не существовало."
   ]
  },
  {
   "cell_type": "code",
   "execution_count": 23,
   "metadata": {},
   "outputs": [
    {
     "data": {
      "text/plain": [
       "user_id                  0\n",
       "month                    0\n",
       "call_min                 0\n",
       "mb_used                  0\n",
       "message_count            0\n",
       "age                      0\n",
       "churn_date               0\n",
       "city                     0\n",
       "first_name               0\n",
       "last_name                0\n",
       "reg_date                 0\n",
       "tariff                   0\n",
       "messages_included        0\n",
       "mb_per_month_included    0\n",
       "minutes_included         0\n",
       "rub_monthly_fee          0\n",
       "rub_per_gb               0\n",
       "rub_per_message          0\n",
       "rub_per_minute           0\n",
       "dtype: int64"
      ]
     },
     "execution_count": 23,
     "metadata": {},
     "output_type": "execute_result"
    }
   ],
   "source": [
    "df['message_count'] = df['message_count'].fillna(0)\n",
    "df['call_min'] = df['call_min'].fillna(0)\n",
    "df['mb_used'] = df['mb_used'].fillna(0)\n",
    "df.isna().sum()"
   ]
  },
  {
   "cell_type": "markdown",
   "metadata": {},
   "source": [
    "#### Расчитаем и добавим в таблицу столбцы с гигабайтами"
   ]
  },
  {
   "cell_type": "markdown",
   "metadata": {},
   "source": [
    "Создаем столбцем с количеством гигабайтов используемых в течение каждого месяца, округляем в большую сторону исходя из условий оператора сотовой связи. В этом же блоке сразу приведем значения трафика указанном в условиях тарифных планов к гигабайтам."
   ]
  },
  {
   "cell_type": "code",
   "execution_count": 24,
   "metadata": {},
   "outputs": [
    {
     "data": {
      "text/plain": [
       "array([ 3, 23, 14, 15, 10,  9, 13, 12, 18, 22, 28, 19, 16, 21,  8,  6,  5,\n",
       "        7, 11,  1, 20, 27,  4, 43, 36, 25, 24, 35, 30, 17, 26,  0,  2, 49,\n",
       "       39, 29, 33, 34, 32, 38, 42, 37, 31, 40, 41, 48, 45, 44])"
      ]
     },
     "execution_count": 24,
     "metadata": {},
     "output_type": "execute_result"
    }
   ],
   "source": [
    "df['gb_used'] = df['mb_used'] / 1024\n",
    "df['gb_used'] = np.ceil(df['gb_used']).astype('int')\n",
    "df['gb_used'].unique()"
   ]
  },
  {
   "cell_type": "code",
   "execution_count": 25,
   "metadata": {},
   "outputs": [
    {
     "data": {
      "text/html": [
       "<div>\n",
       "<style scoped>\n",
       "    .dataframe tbody tr th:only-of-type {\n",
       "        vertical-align: middle;\n",
       "    }\n",
       "\n",
       "    .dataframe tbody tr th {\n",
       "        vertical-align: top;\n",
       "    }\n",
       "\n",
       "    .dataframe thead th {\n",
       "        text-align: right;\n",
       "    }\n",
       "</style>\n",
       "<table border=\"1\" class=\"dataframe\">\n",
       "  <thead>\n",
       "    <tr style=\"text-align: right;\">\n",
       "      <th></th>\n",
       "      <th>user_id</th>\n",
       "      <th>month</th>\n",
       "      <th>call_min</th>\n",
       "      <th>mb_used</th>\n",
       "      <th>message_count</th>\n",
       "      <th>age</th>\n",
       "      <th>churn_date</th>\n",
       "      <th>city</th>\n",
       "      <th>first_name</th>\n",
       "      <th>last_name</th>\n",
       "      <th>reg_date</th>\n",
       "      <th>tariff</th>\n",
       "      <th>messages_included</th>\n",
       "      <th>gb_per_month_included</th>\n",
       "      <th>minutes_included</th>\n",
       "      <th>rub_monthly_fee</th>\n",
       "      <th>rub_per_gb</th>\n",
       "      <th>rub_per_message</th>\n",
       "      <th>rub_per_minute</th>\n",
       "      <th>gb_used</th>\n",
       "    </tr>\n",
       "  </thead>\n",
       "  <tbody>\n",
       "  </tbody>\n",
       "</table>\n",
       "</div>"
      ],
      "text/plain": [
       "Empty DataFrame\n",
       "Columns: [user_id, month, call_min, mb_used, message_count, age, churn_date, city, first_name, last_name, reg_date, tariff, messages_included, gb_per_month_included, minutes_included, rub_monthly_fee, rub_per_gb, rub_per_message, rub_per_minute, gb_used]\n",
       "Index: []"
      ]
     },
     "execution_count": 25,
     "metadata": {},
     "output_type": "execute_result"
    }
   ],
   "source": [
    "df['mb_per_month_included'] = df['mb_per_month_included'] / 1024\n",
    "df = df.rename(columns={'mb_per_month_included':'gb_per_month_included'})\n",
    "df.head(0)"
   ]
  },
  {
   "cell_type": "markdown",
   "metadata": {},
   "source": [
    "#### Рассчитываем и добавляем недостающие данные"
   ]
  },
  {
   "cell_type": "markdown",
   "metadata": {},
   "source": [
    "Посчитаем количество звонков"
   ]
  },
  {
   "cell_type": "code",
   "execution_count": 26,
   "metadata": {},
   "outputs": [
    {
     "data": {
      "text/plain": [
       "user_id\n",
       "1000    368\n",
       "1001    122\n",
       "1002    217\n",
       "1003    520\n",
       "1004    176\n",
       "       ... \n",
       "1495    565\n",
       "1496    828\n",
       "1497    201\n",
       "1498    180\n",
       "1499    220\n",
       "Name: calls_id, Length: 492, dtype: int64"
      ]
     },
     "metadata": {},
     "output_type": "display_data"
    }
   ],
   "source": [
    "calls_count = calls.groupby('user_id')['calls_id'].count()\n",
    "display(calls_count)"
   ]
  },
  {
   "cell_type": "markdown",
   "metadata": {},
   "source": [
    "1. Посчитаем и добавим в таблицу выручку за каждый месяц с каждого абонента в соотвествии с условиями тарифного плана\n",
    "2. Добавим столбец с общей выручкой по месяцам за каждого абонента"
   ]
  },
  {
   "cell_type": "code",
   "execution_count": 27,
   "metadata": {},
   "outputs": [
    {
     "data": {
      "text/html": [
       "<div>\n",
       "<style scoped>\n",
       "    .dataframe tbody tr th:only-of-type {\n",
       "        vertical-align: middle;\n",
       "    }\n",
       "\n",
       "    .dataframe tbody tr th {\n",
       "        vertical-align: top;\n",
       "    }\n",
       "\n",
       "    .dataframe thead th {\n",
       "        text-align: right;\n",
       "    }\n",
       "</style>\n",
       "<table border=\"1\" class=\"dataframe\">\n",
       "  <thead>\n",
       "    <tr style=\"text-align: right;\">\n",
       "      <th></th>\n",
       "      <th>user_id</th>\n",
       "      <th>month</th>\n",
       "      <th>call_min</th>\n",
       "      <th>mb_used</th>\n",
       "      <th>message_count</th>\n",
       "      <th>age</th>\n",
       "      <th>churn_date</th>\n",
       "      <th>city</th>\n",
       "      <th>first_name</th>\n",
       "      <th>last_name</th>\n",
       "      <th>reg_date</th>\n",
       "      <th>tariff</th>\n",
       "      <th>messages_included</th>\n",
       "      <th>gb_per_month_included</th>\n",
       "      <th>minutes_included</th>\n",
       "      <th>rub_monthly_fee</th>\n",
       "      <th>rub_per_gb</th>\n",
       "      <th>rub_per_message</th>\n",
       "      <th>rub_per_minute</th>\n",
       "      <th>gb_used</th>\n",
       "      <th>price_min</th>\n",
       "      <th>price_message</th>\n",
       "      <th>price_internet</th>\n",
       "      <th>full_price</th>\n",
       "    </tr>\n",
       "  </thead>\n",
       "  <tbody>\n",
       "    <tr>\n",
       "      <th>0</th>\n",
       "      <td>1000</td>\n",
       "      <td>5</td>\n",
       "      <td>159.0</td>\n",
       "      <td>2253.49</td>\n",
       "      <td>22.0</td>\n",
       "      <td>52</td>\n",
       "      <td>active</td>\n",
       "      <td>Краснодар</td>\n",
       "      <td>Рафаил</td>\n",
       "      <td>Верещагин</td>\n",
       "      <td>2018-05-25</td>\n",
       "      <td>ultra</td>\n",
       "      <td>1000</td>\n",
       "      <td>30.0</td>\n",
       "      <td>3000</td>\n",
       "      <td>1950</td>\n",
       "      <td>150</td>\n",
       "      <td>1</td>\n",
       "      <td>1</td>\n",
       "      <td>3</td>\n",
       "      <td>0.0</td>\n",
       "      <td>0.0</td>\n",
       "      <td>0.0</td>\n",
       "      <td>1950.0</td>\n",
       "    </tr>\n",
       "    <tr>\n",
       "      <th>1</th>\n",
       "      <td>1000</td>\n",
       "      <td>6</td>\n",
       "      <td>172.0</td>\n",
       "      <td>23233.77</td>\n",
       "      <td>60.0</td>\n",
       "      <td>52</td>\n",
       "      <td>active</td>\n",
       "      <td>Краснодар</td>\n",
       "      <td>Рафаил</td>\n",
       "      <td>Верещагин</td>\n",
       "      <td>2018-05-25</td>\n",
       "      <td>ultra</td>\n",
       "      <td>1000</td>\n",
       "      <td>30.0</td>\n",
       "      <td>3000</td>\n",
       "      <td>1950</td>\n",
       "      <td>150</td>\n",
       "      <td>1</td>\n",
       "      <td>1</td>\n",
       "      <td>23</td>\n",
       "      <td>0.0</td>\n",
       "      <td>0.0</td>\n",
       "      <td>0.0</td>\n",
       "      <td>1950.0</td>\n",
       "    </tr>\n",
       "    <tr>\n",
       "      <th>2</th>\n",
       "      <td>1000</td>\n",
       "      <td>7</td>\n",
       "      <td>340.0</td>\n",
       "      <td>14003.64</td>\n",
       "      <td>75.0</td>\n",
       "      <td>52</td>\n",
       "      <td>active</td>\n",
       "      <td>Краснодар</td>\n",
       "      <td>Рафаил</td>\n",
       "      <td>Верещагин</td>\n",
       "      <td>2018-05-25</td>\n",
       "      <td>ultra</td>\n",
       "      <td>1000</td>\n",
       "      <td>30.0</td>\n",
       "      <td>3000</td>\n",
       "      <td>1950</td>\n",
       "      <td>150</td>\n",
       "      <td>1</td>\n",
       "      <td>1</td>\n",
       "      <td>14</td>\n",
       "      <td>0.0</td>\n",
       "      <td>0.0</td>\n",
       "      <td>0.0</td>\n",
       "      <td>1950.0</td>\n",
       "    </tr>\n",
       "    <tr>\n",
       "      <th>3</th>\n",
       "      <td>1000</td>\n",
       "      <td>8</td>\n",
       "      <td>408.0</td>\n",
       "      <td>14055.93</td>\n",
       "      <td>81.0</td>\n",
       "      <td>52</td>\n",
       "      <td>active</td>\n",
       "      <td>Краснодар</td>\n",
       "      <td>Рафаил</td>\n",
       "      <td>Верещагин</td>\n",
       "      <td>2018-05-25</td>\n",
       "      <td>ultra</td>\n",
       "      <td>1000</td>\n",
       "      <td>30.0</td>\n",
       "      <td>3000</td>\n",
       "      <td>1950</td>\n",
       "      <td>150</td>\n",
       "      <td>1</td>\n",
       "      <td>1</td>\n",
       "      <td>14</td>\n",
       "      <td>0.0</td>\n",
       "      <td>0.0</td>\n",
       "      <td>0.0</td>\n",
       "      <td>1950.0</td>\n",
       "    </tr>\n",
       "    <tr>\n",
       "      <th>4</th>\n",
       "      <td>1000</td>\n",
       "      <td>9</td>\n",
       "      <td>466.0</td>\n",
       "      <td>14568.91</td>\n",
       "      <td>57.0</td>\n",
       "      <td>52</td>\n",
       "      <td>active</td>\n",
       "      <td>Краснодар</td>\n",
       "      <td>Рафаил</td>\n",
       "      <td>Верещагин</td>\n",
       "      <td>2018-05-25</td>\n",
       "      <td>ultra</td>\n",
       "      <td>1000</td>\n",
       "      <td>30.0</td>\n",
       "      <td>3000</td>\n",
       "      <td>1950</td>\n",
       "      <td>150</td>\n",
       "      <td>1</td>\n",
       "      <td>1</td>\n",
       "      <td>15</td>\n",
       "      <td>0.0</td>\n",
       "      <td>0.0</td>\n",
       "      <td>0.0</td>\n",
       "      <td>1950.0</td>\n",
       "    </tr>\n",
       "    <tr>\n",
       "      <th>...</th>\n",
       "      <td>...</td>\n",
       "      <td>...</td>\n",
       "      <td>...</td>\n",
       "      <td>...</td>\n",
       "      <td>...</td>\n",
       "      <td>...</td>\n",
       "      <td>...</td>\n",
       "      <td>...</td>\n",
       "      <td>...</td>\n",
       "      <td>...</td>\n",
       "      <td>...</td>\n",
       "      <td>...</td>\n",
       "      <td>...</td>\n",
       "      <td>...</td>\n",
       "      <td>...</td>\n",
       "      <td>...</td>\n",
       "      <td>...</td>\n",
       "      <td>...</td>\n",
       "      <td>...</td>\n",
       "      <td>...</td>\n",
       "      <td>...</td>\n",
       "      <td>...</td>\n",
       "      <td>...</td>\n",
       "      <td>...</td>\n",
       "    </tr>\n",
       "    <tr>\n",
       "      <th>3209</th>\n",
       "      <td>1489</td>\n",
       "      <td>8</td>\n",
       "      <td>0.0</td>\n",
       "      <td>11050.56</td>\n",
       "      <td>17.0</td>\n",
       "      <td>35</td>\n",
       "      <td>active</td>\n",
       "      <td>Санкт-Петербург</td>\n",
       "      <td>Павел</td>\n",
       "      <td>Гончаров</td>\n",
       "      <td>2018-08-15</td>\n",
       "      <td>smart</td>\n",
       "      <td>50</td>\n",
       "      <td>15.0</td>\n",
       "      <td>500</td>\n",
       "      <td>550</td>\n",
       "      <td>200</td>\n",
       "      <td>3</td>\n",
       "      <td>3</td>\n",
       "      <td>11</td>\n",
       "      <td>0.0</td>\n",
       "      <td>0.0</td>\n",
       "      <td>0.0</td>\n",
       "      <td>550.0</td>\n",
       "    </tr>\n",
       "    <tr>\n",
       "      <th>3210</th>\n",
       "      <td>1489</td>\n",
       "      <td>9</td>\n",
       "      <td>0.0</td>\n",
       "      <td>17206.30</td>\n",
       "      <td>32.0</td>\n",
       "      <td>35</td>\n",
       "      <td>active</td>\n",
       "      <td>Санкт-Петербург</td>\n",
       "      <td>Павел</td>\n",
       "      <td>Гончаров</td>\n",
       "      <td>2018-08-15</td>\n",
       "      <td>smart</td>\n",
       "      <td>50</td>\n",
       "      <td>15.0</td>\n",
       "      <td>500</td>\n",
       "      <td>550</td>\n",
       "      <td>200</td>\n",
       "      <td>3</td>\n",
       "      <td>3</td>\n",
       "      <td>17</td>\n",
       "      <td>0.0</td>\n",
       "      <td>0.0</td>\n",
       "      <td>400.0</td>\n",
       "      <td>950.0</td>\n",
       "    </tr>\n",
       "    <tr>\n",
       "      <th>3211</th>\n",
       "      <td>1489</td>\n",
       "      <td>10</td>\n",
       "      <td>0.0</td>\n",
       "      <td>19559.44</td>\n",
       "      <td>21.0</td>\n",
       "      <td>35</td>\n",
       "      <td>active</td>\n",
       "      <td>Санкт-Петербург</td>\n",
       "      <td>Павел</td>\n",
       "      <td>Гончаров</td>\n",
       "      <td>2018-08-15</td>\n",
       "      <td>smart</td>\n",
       "      <td>50</td>\n",
       "      <td>15.0</td>\n",
       "      <td>500</td>\n",
       "      <td>550</td>\n",
       "      <td>200</td>\n",
       "      <td>3</td>\n",
       "      <td>3</td>\n",
       "      <td>20</td>\n",
       "      <td>0.0</td>\n",
       "      <td>0.0</td>\n",
       "      <td>1000.0</td>\n",
       "      <td>1550.0</td>\n",
       "    </tr>\n",
       "    <tr>\n",
       "      <th>3212</th>\n",
       "      <td>1489</td>\n",
       "      <td>11</td>\n",
       "      <td>0.0</td>\n",
       "      <td>17491.56</td>\n",
       "      <td>20.0</td>\n",
       "      <td>35</td>\n",
       "      <td>active</td>\n",
       "      <td>Санкт-Петербург</td>\n",
       "      <td>Павел</td>\n",
       "      <td>Гончаров</td>\n",
       "      <td>2018-08-15</td>\n",
       "      <td>smart</td>\n",
       "      <td>50</td>\n",
       "      <td>15.0</td>\n",
       "      <td>500</td>\n",
       "      <td>550</td>\n",
       "      <td>200</td>\n",
       "      <td>3</td>\n",
       "      <td>3</td>\n",
       "      <td>18</td>\n",
       "      <td>0.0</td>\n",
       "      <td>0.0</td>\n",
       "      <td>600.0</td>\n",
       "      <td>1150.0</td>\n",
       "    </tr>\n",
       "    <tr>\n",
       "      <th>3213</th>\n",
       "      <td>1489</td>\n",
       "      <td>12</td>\n",
       "      <td>0.0</td>\n",
       "      <td>17322.51</td>\n",
       "      <td>35.0</td>\n",
       "      <td>35</td>\n",
       "      <td>active</td>\n",
       "      <td>Санкт-Петербург</td>\n",
       "      <td>Павел</td>\n",
       "      <td>Гончаров</td>\n",
       "      <td>2018-08-15</td>\n",
       "      <td>smart</td>\n",
       "      <td>50</td>\n",
       "      <td>15.0</td>\n",
       "      <td>500</td>\n",
       "      <td>550</td>\n",
       "      <td>200</td>\n",
       "      <td>3</td>\n",
       "      <td>3</td>\n",
       "      <td>17</td>\n",
       "      <td>0.0</td>\n",
       "      <td>0.0</td>\n",
       "      <td>400.0</td>\n",
       "      <td>950.0</td>\n",
       "    </tr>\n",
       "  </tbody>\n",
       "</table>\n",
       "<p>3214 rows × 24 columns</p>\n",
       "</div>"
      ],
      "text/plain": [
       "      user_id  month  call_min   mb_used  message_count  age churn_date  \\\n",
       "0        1000      5     159.0   2253.49           22.0   52     active   \n",
       "1        1000      6     172.0  23233.77           60.0   52     active   \n",
       "2        1000      7     340.0  14003.64           75.0   52     active   \n",
       "3        1000      8     408.0  14055.93           81.0   52     active   \n",
       "4        1000      9     466.0  14568.91           57.0   52     active   \n",
       "...       ...    ...       ...       ...            ...  ...        ...   \n",
       "3209     1489      8       0.0  11050.56           17.0   35     active   \n",
       "3210     1489      9       0.0  17206.30           32.0   35     active   \n",
       "3211     1489     10       0.0  19559.44           21.0   35     active   \n",
       "3212     1489     11       0.0  17491.56           20.0   35     active   \n",
       "3213     1489     12       0.0  17322.51           35.0   35     active   \n",
       "\n",
       "                 city first_name  last_name   reg_date tariff  \\\n",
       "0           Краснодар     Рафаил  Верещагин 2018-05-25  ultra   \n",
       "1           Краснодар     Рафаил  Верещагин 2018-05-25  ultra   \n",
       "2           Краснодар     Рафаил  Верещагин 2018-05-25  ultra   \n",
       "3           Краснодар     Рафаил  Верещагин 2018-05-25  ultra   \n",
       "4           Краснодар     Рафаил  Верещагин 2018-05-25  ultra   \n",
       "...               ...        ...        ...        ...    ...   \n",
       "3209  Санкт-Петербург      Павел   Гончаров 2018-08-15  smart   \n",
       "3210  Санкт-Петербург      Павел   Гончаров 2018-08-15  smart   \n",
       "3211  Санкт-Петербург      Павел   Гончаров 2018-08-15  smart   \n",
       "3212  Санкт-Петербург      Павел   Гончаров 2018-08-15  smart   \n",
       "3213  Санкт-Петербург      Павел   Гончаров 2018-08-15  smart   \n",
       "\n",
       "      messages_included  gb_per_month_included  minutes_included  \\\n",
       "0                  1000                   30.0              3000   \n",
       "1                  1000                   30.0              3000   \n",
       "2                  1000                   30.0              3000   \n",
       "3                  1000                   30.0              3000   \n",
       "4                  1000                   30.0              3000   \n",
       "...                 ...                    ...               ...   \n",
       "3209                 50                   15.0               500   \n",
       "3210                 50                   15.0               500   \n",
       "3211                 50                   15.0               500   \n",
       "3212                 50                   15.0               500   \n",
       "3213                 50                   15.0               500   \n",
       "\n",
       "      rub_monthly_fee  rub_per_gb  rub_per_message  rub_per_minute  gb_used  \\\n",
       "0                1950         150                1               1        3   \n",
       "1                1950         150                1               1       23   \n",
       "2                1950         150                1               1       14   \n",
       "3                1950         150                1               1       14   \n",
       "4                1950         150                1               1       15   \n",
       "...               ...         ...              ...             ...      ...   \n",
       "3209              550         200                3               3       11   \n",
       "3210              550         200                3               3       17   \n",
       "3211              550         200                3               3       20   \n",
       "3212              550         200                3               3       18   \n",
       "3213              550         200                3               3       17   \n",
       "\n",
       "      price_min  price_message  price_internet  full_price  \n",
       "0           0.0            0.0             0.0      1950.0  \n",
       "1           0.0            0.0             0.0      1950.0  \n",
       "2           0.0            0.0             0.0      1950.0  \n",
       "3           0.0            0.0             0.0      1950.0  \n",
       "4           0.0            0.0             0.0      1950.0  \n",
       "...         ...            ...             ...         ...  \n",
       "3209        0.0            0.0             0.0       550.0  \n",
       "3210        0.0            0.0           400.0       950.0  \n",
       "3211        0.0            0.0          1000.0      1550.0  \n",
       "3212        0.0            0.0           600.0      1150.0  \n",
       "3213        0.0            0.0           400.0       950.0  \n",
       "\n",
       "[3214 rows x 24 columns]"
      ]
     },
     "metadata": {},
     "output_type": "display_data"
    }
   ],
   "source": [
    "def price(row):\n",
    "    if row['tariff'] == 'smart':\n",
    "        if row['call_min'] > row['minutes_included']:\n",
    "            mins = (row['call_min'] - row['minutes_included']) * 3\n",
    "            return mins\n",
    "        else:\n",
    "            return 0\n",
    "    if row['tariff'] == 'ultra':\n",
    "        if row['call_min'] > row['minutes_included']:\n",
    "            minute = (row['call_min'] - row['minutes_included']) * 1 \n",
    "            return minute\n",
    "        else:\n",
    "            return 0\n",
    "df['price_min'] = df.apply(price, axis=1)\n",
    "def price_mes(row):\n",
    "    if row['tariff'] == 'smart':\n",
    "        if row['message_count'] > row['messages_included']:\n",
    "            mins = (row['message_count'] - row['messages_included']) * 3\n",
    "            return mins\n",
    "        else:\n",
    "            return 0\n",
    "    if row['tariff'] == 'ultra':\n",
    "        if row['message_count'] > row['messages_included']:\n",
    "            minute = (row['message_count'] - row['messages_included']) * 1 \n",
    "            return minute\n",
    "        else:\n",
    "            return 0\n",
    "df['price_message'] = df.apply(price_mes, axis=1)\n",
    "def price_internet(row):\n",
    "    if row['tariff'] == 'smart':\n",
    "        if row['gb_used'] > row['gb_per_month_included']:\n",
    "            mins = (row['gb_used'] - row['gb_per_month_included']) * 200\n",
    "            return mins\n",
    "        else:\n",
    "            return 0\n",
    "    if row['tariff'] == 'ultra':\n",
    "        if row['gb_used'] > row['gb_per_month_included']:\n",
    "            minute = (row['gb_used'] - row['gb_per_month_included']) * 150\n",
    "            return minute\n",
    "        else:\n",
    "            return 0\n",
    "df['price_internet'] = df.apply(price_internet, axis=1) \n",
    "df['full_price'] = df['rub_monthly_fee'] + df['price_internet'] + df['price_message'] + df['price_min']\n",
    "display(df)"
   ]
  },
  {
   "cell_type": "code",
   "execution_count": 28,
   "metadata": {},
   "outputs": [
    {
     "data": {
      "text/plain": [
       "4914451.0"
      ]
     },
     "execution_count": 28,
     "metadata": {},
     "output_type": "execute_result"
    }
   ],
   "source": [
    "# check\n",
    "df['full_price'].sum()"
   ]
  },
  {
   "cell_type": "code",
   "execution_count": 29,
   "metadata": {},
   "outputs": [
    {
     "data": {
      "text/html": [
       "<div>\n",
       "<style scoped>\n",
       "    .dataframe tbody tr th:only-of-type {\n",
       "        vertical-align: middle;\n",
       "    }\n",
       "\n",
       "    .dataframe tbody tr th {\n",
       "        vertical-align: top;\n",
       "    }\n",
       "\n",
       "    .dataframe thead th {\n",
       "        text-align: right;\n",
       "    }\n",
       "</style>\n",
       "<table border=\"1\" class=\"dataframe\">\n",
       "  <thead>\n",
       "    <tr style=\"text-align: right;\">\n",
       "      <th></th>\n",
       "      <th>user_id</th>\n",
       "      <th>city</th>\n",
       "      <th>reg_date</th>\n",
       "      <th>tariff</th>\n",
       "      <th>month</th>\n",
       "      <th>mb_used</th>\n",
       "      <th>message_count</th>\n",
       "      <th>call_min</th>\n",
       "      <th>gb_used</th>\n",
       "      <th>price_min</th>\n",
       "      <th>price_message</th>\n",
       "      <th>price_internet</th>\n",
       "      <th>full_price</th>\n",
       "    </tr>\n",
       "  </thead>\n",
       "  <tbody>\n",
       "    <tr>\n",
       "      <th>3195</th>\n",
       "      <td>1496</td>\n",
       "      <td>Вологда</td>\n",
       "      <td>2018-01-27</td>\n",
       "      <td>smart</td>\n",
       "      <td>11</td>\n",
       "      <td>25063.40</td>\n",
       "      <td>46.0</td>\n",
       "      <td>662.0</td>\n",
       "      <td>25</td>\n",
       "      <td>486.0</td>\n",
       "      <td>0.0</td>\n",
       "      <td>2000.0</td>\n",
       "      <td>3036.0</td>\n",
       "    </tr>\n",
       "    <tr>\n",
       "      <th>3196</th>\n",
       "      <td>1496</td>\n",
       "      <td>Вологда</td>\n",
       "      <td>2018-01-27</td>\n",
       "      <td>smart</td>\n",
       "      <td>12</td>\n",
       "      <td>20736.15</td>\n",
       "      <td>51.0</td>\n",
       "      <td>518.0</td>\n",
       "      <td>21</td>\n",
       "      <td>54.0</td>\n",
       "      <td>3.0</td>\n",
       "      <td>1200.0</td>\n",
       "      <td>1807.0</td>\n",
       "    </tr>\n",
       "    <tr>\n",
       "      <th>3199</th>\n",
       "      <td>1497</td>\n",
       "      <td>Челябинск</td>\n",
       "      <td>2018-10-09</td>\n",
       "      <td>smart</td>\n",
       "      <td>12</td>\n",
       "      <td>19918.60</td>\n",
       "      <td>17.0</td>\n",
       "      <td>545.0</td>\n",
       "      <td>20</td>\n",
       "      <td>135.0</td>\n",
       "      <td>0.0</td>\n",
       "      <td>1000.0</td>\n",
       "      <td>1685.0</td>\n",
       "    </tr>\n",
       "    <tr>\n",
       "      <th>3206</th>\n",
       "      <td>1499</td>\n",
       "      <td>Пермь</td>\n",
       "      <td>2018-09-27</td>\n",
       "      <td>smart</td>\n",
       "      <td>11</td>\n",
       "      <td>17963.31</td>\n",
       "      <td>59.0</td>\n",
       "      <td>612.0</td>\n",
       "      <td>18</td>\n",
       "      <td>336.0</td>\n",
       "      <td>27.0</td>\n",
       "      <td>600.0</td>\n",
       "      <td>1513.0</td>\n",
       "    </tr>\n",
       "  </tbody>\n",
       "</table>\n",
       "</div>"
      ],
      "text/plain": [
       "      user_id       city   reg_date tariff  month   mb_used  message_count  \\\n",
       "3195     1496    Вологда 2018-01-27  smart     11  25063.40           46.0   \n",
       "3196     1496    Вологда 2018-01-27  smart     12  20736.15           51.0   \n",
       "3199     1497  Челябинск 2018-10-09  smart     12  19918.60           17.0   \n",
       "3206     1499      Пермь 2018-09-27  smart     11  17963.31           59.0   \n",
       "\n",
       "      call_min  gb_used  price_min  price_message  price_internet  full_price  \n",
       "3195     662.0       25      486.0            0.0          2000.0      3036.0  \n",
       "3196     518.0       21       54.0            3.0          1200.0      1807.0  \n",
       "3199     545.0       20      135.0            0.0          1000.0      1685.0  \n",
       "3206     612.0       18      336.0           27.0           600.0      1513.0  "
      ]
     },
     "execution_count": 29,
     "metadata": {},
     "output_type": "execute_result"
    }
   ],
   "source": [
    "# check\n",
    "df[df['call_min'] > 500][['user_id', 'city', \n",
    "       'reg_date', 'tariff', 'month', 'mb_used', 'message_count', 'call_min',\n",
    "       'gb_used', 'price_min', 'price_message', 'price_internet',\n",
    "       'full_price']].tail(4)"
   ]
  },
  {
   "cell_type": "markdown",
   "metadata": {},
   "source": [
    "## Анализ данных"
   ]
  },
  {
   "cell_type": "markdown",
   "metadata": {},
   "source": [
    "### Цели: \n",
    "1. Посчитать для каждого пользователя количество минут, сообщений и трафика на каждый месяц. \n",
    "2. Посчитать: дисперсию, среднее, стандартное отклонение. \n",
    "3. Построить графики."
   ]
  },
  {
   "cell_type": "markdown",
   "metadata": {},
   "source": [
    "Для того, чтобы построить графики, переведом формат столбца с месяцами в целочисленный 'int'"
   ]
  },
  {
   "cell_type": "code",
   "execution_count": 30,
   "metadata": {},
   "outputs": [],
   "source": [
    "df['month'] = df['month'].astype('int')"
   ]
  },
  {
   "cell_type": "markdown",
   "metadata": {},
   "source": [
    "### Расчет указанных в целях параметров и построение графиков"
   ]
  },
  {
   "cell_type": "code",
   "execution_count": 31,
   "metadata": {
    "scrolled": false
   },
   "outputs": [
    {
     "data": {
      "text/html": [
       "<div>\n",
       "<style scoped>\n",
       "    .dataframe tbody tr th:only-of-type {\n",
       "        vertical-align: middle;\n",
       "    }\n",
       "\n",
       "    .dataframe tbody tr th {\n",
       "        vertical-align: top;\n",
       "    }\n",
       "\n",
       "    .dataframe thead th {\n",
       "        text-align: right;\n",
       "    }\n",
       "</style>\n",
       "<table border=\"1\" class=\"dataframe\">\n",
       "  <thead>\n",
       "    <tr style=\"text-align: right;\">\n",
       "      <th>tariff</th>\n",
       "      <th>smart</th>\n",
       "      <th>ultra</th>\n",
       "    </tr>\n",
       "    <tr>\n",
       "      <th>month</th>\n",
       "      <th></th>\n",
       "      <th></th>\n",
       "    </tr>\n",
       "  </thead>\n",
       "  <tbody>\n",
       "    <tr>\n",
       "      <th>1</th>\n",
       "      <td>203.852941</td>\n",
       "      <td>428.111111</td>\n",
       "    </tr>\n",
       "    <tr>\n",
       "      <th>2</th>\n",
       "      <td>298.689655</td>\n",
       "      <td>297.125000</td>\n",
       "    </tr>\n",
       "    <tr>\n",
       "      <th>3</th>\n",
       "      <td>390.051948</td>\n",
       "      <td>489.648649</td>\n",
       "    </tr>\n",
       "    <tr>\n",
       "      <th>4</th>\n",
       "      <td>367.133929</td>\n",
       "      <td>458.018182</td>\n",
       "    </tr>\n",
       "    <tr>\n",
       "      <th>5</th>\n",
       "      <td>387.361702</td>\n",
       "      <td>510.328358</td>\n",
       "    </tr>\n",
       "    <tr>\n",
       "      <th>6</th>\n",
       "      <td>395.640244</td>\n",
       "      <td>479.702381</td>\n",
       "    </tr>\n",
       "    <tr>\n",
       "      <th>7</th>\n",
       "      <td>408.353234</td>\n",
       "      <td>545.791209</td>\n",
       "    </tr>\n",
       "    <tr>\n",
       "      <th>8</th>\n",
       "      <td>421.468085</td>\n",
       "      <td>510.775701</td>\n",
       "    </tr>\n",
       "    <tr>\n",
       "      <th>9</th>\n",
       "      <td>428.611538</td>\n",
       "      <td>539.443478</td>\n",
       "    </tr>\n",
       "    <tr>\n",
       "      <th>10</th>\n",
       "      <td>426.136054</td>\n",
       "      <td>558.081301</td>\n",
       "    </tr>\n",
       "    <tr>\n",
       "      <th>11</th>\n",
       "      <td>435.265823</td>\n",
       "      <td>541.380597</td>\n",
       "    </tr>\n",
       "    <tr>\n",
       "      <th>12</th>\n",
       "      <td>478.560831</td>\n",
       "      <td>592.805755</td>\n",
       "    </tr>\n",
       "  </tbody>\n",
       "</table>\n",
       "</div>"
      ],
      "text/plain": [
       "tariff       smart       ultra\n",
       "month                         \n",
       "1       203.852941  428.111111\n",
       "2       298.689655  297.125000\n",
       "3       390.051948  489.648649\n",
       "4       367.133929  458.018182\n",
       "5       387.361702  510.328358\n",
       "6       395.640244  479.702381\n",
       "7       408.353234  545.791209\n",
       "8       421.468085  510.775701\n",
       "9       428.611538  539.443478\n",
       "10      426.136054  558.081301\n",
       "11      435.265823  541.380597\n",
       "12      478.560831  592.805755"
      ]
     },
     "metadata": {},
     "output_type": "display_data"
    },
    {
     "data": {
      "text/plain": [
       "<AxesSubplot:xlabel='month'>"
      ]
     },
     "execution_count": 31,
     "metadata": {},
     "output_type": "execute_result"
    },
    {
     "data": {
      "image/png": "[encoded data removed]",
      "text/plain": [
       "<Figure size 864x432 with 1 Axes>"
      ]
     },
     "metadata": {
      "needs_background": "light"
     },
     "output_type": "display_data"
    }
   ],
   "source": [
    "minut_mean = df.pivot_table(index='month', columns='tariff', values='call_min', aggfunc='mean')\n",
    "display(minut_mean)\n",
    "minut_mean.plot(kind='bar', figsize=(12,6))"
   ]
  },
  {
   "cell_type": "markdown",
   "metadata": {},
   "source": [
    "Как видно из графика, абоненты тарифа ультра используют звонки больше чем абоненты тарифа смарт. Так же наблюдается схожая динамика роста и снижения в зависимости от месяцев."
   ]
  },
  {
   "cell_type": "code",
   "execution_count": 32,
   "metadata": {},
   "outputs": [
    {
     "data": {
      "text/html": [
       "<div>\n",
       "<style scoped>\n",
       "    .dataframe tbody tr th:only-of-type {\n",
       "        vertical-align: middle;\n",
       "    }\n",
       "\n",
       "    .dataframe tbody tr th {\n",
       "        vertical-align: top;\n",
       "    }\n",
       "\n",
       "    .dataframe thead th {\n",
       "        text-align: right;\n",
       "    }\n",
       "</style>\n",
       "<table border=\"1\" class=\"dataframe\">\n",
       "  <thead>\n",
       "    <tr style=\"text-align: right;\">\n",
       "      <th>tariff</th>\n",
       "      <th>smart</th>\n",
       "      <th>ultra</th>\n",
       "    </tr>\n",
       "    <tr>\n",
       "      <th>month</th>\n",
       "      <th></th>\n",
       "      <th></th>\n",
       "    </tr>\n",
       "  </thead>\n",
       "  <tbody>\n",
       "    <tr>\n",
       "      <th>1</th>\n",
       "      <td>23787.341355</td>\n",
       "      <td>72769.361111</td>\n",
       "    </tr>\n",
       "    <tr>\n",
       "      <th>2</th>\n",
       "      <td>36412.287961</td>\n",
       "      <td>87919.679348</td>\n",
       "    </tr>\n",
       "    <tr>\n",
       "      <th>3</th>\n",
       "      <td>36823.155161</td>\n",
       "      <td>111384.900901</td>\n",
       "    </tr>\n",
       "    <tr>\n",
       "      <th>4</th>\n",
       "      <td>34778.207127</td>\n",
       "      <td>71653.870034</td>\n",
       "    </tr>\n",
       "    <tr>\n",
       "      <th>5</th>\n",
       "      <td>34820.061094</td>\n",
       "      <td>83870.193578</td>\n",
       "    </tr>\n",
       "    <tr>\n",
       "      <th>6</th>\n",
       "      <td>30742.918861</td>\n",
       "      <td>91535.946500</td>\n",
       "    </tr>\n",
       "    <tr>\n",
       "      <th>7</th>\n",
       "      <td>32250.269602</td>\n",
       "      <td>94322.278144</td>\n",
       "    </tr>\n",
       "    <tr>\n",
       "      <th>8</th>\n",
       "      <td>34793.583379</td>\n",
       "      <td>97956.496385</td>\n",
       "    </tr>\n",
       "    <tr>\n",
       "      <th>9</th>\n",
       "      <td>33535.342723</td>\n",
       "      <td>105716.775286</td>\n",
       "    </tr>\n",
       "    <tr>\n",
       "      <th>10</th>\n",
       "      <td>35392.336375</td>\n",
       "      <td>106464.583500</td>\n",
       "    </tr>\n",
       "    <tr>\n",
       "      <th>11</th>\n",
       "      <td>31605.237050</td>\n",
       "      <td>96570.057064</td>\n",
       "    </tr>\n",
       "    <tr>\n",
       "      <th>12</th>\n",
       "      <td>39698.622033</td>\n",
       "      <td>117276.331561</td>\n",
       "    </tr>\n",
       "  </tbody>\n",
       "</table>\n",
       "</div>"
      ],
      "text/plain": [
       "tariff         smart          ultra\n",
       "month                              \n",
       "1       23787.341355   72769.361111\n",
       "2       36412.287961   87919.679348\n",
       "3       36823.155161  111384.900901\n",
       "4       34778.207127   71653.870034\n",
       "5       34820.061094   83870.193578\n",
       "6       30742.918861   91535.946500\n",
       "7       32250.269602   94322.278144\n",
       "8       34793.583379   97956.496385\n",
       "9       33535.342723  105716.775286\n",
       "10      35392.336375  106464.583500\n",
       "11      31605.237050   96570.057064\n",
       "12      39698.622033  117276.331561"
      ]
     },
     "metadata": {},
     "output_type": "display_data"
    },
    {
     "data": {
      "text/plain": [
       "<AxesSubplot:xlabel='month'>"
      ]
     },
     "execution_count": 32,
     "metadata": {},
     "output_type": "execute_result"
    },
    {
     "data": {
      "image/png": "[encoded data removed]",
      "text/plain": [
       "<Figure size 864x432 with 1 Axes>"
      ]
     },
     "metadata": {
      "needs_background": "light"
     },
     "output_type": "display_data"
    }
   ],
   "source": [
    "minut_var = df.pivot_table(index='month', columns='tariff', values='call_min', aggfunc='var')\n",
    "display(minut_var)\n",
    "minut_var.plot(kind='bar', figsize=(12,6))"
   ]
  },
  {
   "cell_type": "markdown",
   "metadata": {},
   "source": [
    "Показатели дисперсии имеют схожую динамику исходя из тарифов, но на тарифе ультра, значения дисперсии намного выше."
   ]
  },
  {
   "cell_type": "code",
   "execution_count": 33,
   "metadata": {},
   "outputs": [
    {
     "data": {
      "text/plain": [
       "<AxesSubplot:xlabel='month'>"
      ]
     },
     "execution_count": 33,
     "metadata": {},
     "output_type": "execute_result"
    },
    {
     "data": {
      "image/png": "[encoded data removed]",
      "text/plain": [
       "<Figure size 864x432 with 1 Axes>"
      ]
     },
     "metadata": {
      "needs_background": "light"
     },
     "output_type": "display_data"
    }
   ],
   "source": [
    "minut_std = df.pivot_table(index='month', columns='tariff', values='call_min', aggfunc='std')\n",
    "minut_std.plot(kind='bar', figsize=(12,6))"
   ]
  },
  {
   "cell_type": "markdown",
   "metadata": {},
   "source": [
    "Стандартное отклонение по тарифам, намного ближе друг к другу в сравнении с остальными параметрами."
   ]
  },
  {
   "cell_type": "code",
   "execution_count": 34,
   "metadata": {},
   "outputs": [
    {
     "data": {
      "text/html": [
       "<div>\n",
       "<style scoped>\n",
       "    .dataframe tbody tr th:only-of-type {\n",
       "        vertical-align: middle;\n",
       "    }\n",
       "\n",
       "    .dataframe tbody tr th {\n",
       "        vertical-align: top;\n",
       "    }\n",
       "\n",
       "    .dataframe thead th {\n",
       "        text-align: right;\n",
       "    }\n",
       "</style>\n",
       "<table border=\"1\" class=\"dataframe\">\n",
       "  <thead>\n",
       "    <tr style=\"text-align: right;\">\n",
       "      <th>tariff</th>\n",
       "      <th>smart</th>\n",
       "      <th>ultra</th>\n",
       "    </tr>\n",
       "    <tr>\n",
       "      <th>month</th>\n",
       "      <th></th>\n",
       "      <th></th>\n",
       "    </tr>\n",
       "  </thead>\n",
       "  <tbody>\n",
       "    <tr>\n",
       "      <th>1</th>\n",
       "      <td>18.235294</td>\n",
       "      <td>33.777778</td>\n",
       "    </tr>\n",
       "    <tr>\n",
       "      <th>2</th>\n",
       "      <td>24.086207</td>\n",
       "      <td>21.958333</td>\n",
       "    </tr>\n",
       "    <tr>\n",
       "      <th>3</th>\n",
       "      <td>31.857143</td>\n",
       "      <td>32.297297</td>\n",
       "    </tr>\n",
       "    <tr>\n",
       "      <th>4</th>\n",
       "      <td>30.741071</td>\n",
       "      <td>31.563636</td>\n",
       "    </tr>\n",
       "    <tr>\n",
       "      <th>5</th>\n",
       "      <td>33.773050</td>\n",
       "      <td>37.850746</td>\n",
       "    </tr>\n",
       "    <tr>\n",
       "      <th>6</th>\n",
       "      <td>33.402439</td>\n",
       "      <td>41.726190</td>\n",
       "    </tr>\n",
       "    <tr>\n",
       "      <th>7</th>\n",
       "      <td>33.751244</td>\n",
       "      <td>49.846154</td>\n",
       "    </tr>\n",
       "    <tr>\n",
       "      <th>8</th>\n",
       "      <td>33.638298</td>\n",
       "      <td>48.439252</td>\n",
       "    </tr>\n",
       "    <tr>\n",
       "      <th>9</th>\n",
       "      <td>33.638462</td>\n",
       "      <td>52.286957</td>\n",
       "    </tr>\n",
       "    <tr>\n",
       "      <th>10</th>\n",
       "      <td>33.765306</td>\n",
       "      <td>58.430894</td>\n",
       "    </tr>\n",
       "    <tr>\n",
       "      <th>11</th>\n",
       "      <td>34.075949</td>\n",
       "      <td>55.791045</td>\n",
       "    </tr>\n",
       "    <tr>\n",
       "      <th>12</th>\n",
       "      <td>35.994065</td>\n",
       "      <td>60.611511</td>\n",
       "    </tr>\n",
       "  </tbody>\n",
       "</table>\n",
       "</div>"
      ],
      "text/plain": [
       "tariff      smart      ultra\n",
       "month                       \n",
       "1       18.235294  33.777778\n",
       "2       24.086207  21.958333\n",
       "3       31.857143  32.297297\n",
       "4       30.741071  31.563636\n",
       "5       33.773050  37.850746\n",
       "6       33.402439  41.726190\n",
       "7       33.751244  49.846154\n",
       "8       33.638298  48.439252\n",
       "9       33.638462  52.286957\n",
       "10      33.765306  58.430894\n",
       "11      34.075949  55.791045\n",
       "12      35.994065  60.611511"
      ]
     },
     "metadata": {},
     "output_type": "display_data"
    },
    {
     "data": {
      "text/plain": [
       "<AxesSubplot:xlabel='month'>"
      ]
     },
     "execution_count": 34,
     "metadata": {},
     "output_type": "execute_result"
    },
    {
     "data": {
      "image/png": "[encoded data removed]",
      "text/plain": [
       "<Figure size 864x432 with 1 Axes>"
      ]
     },
     "metadata": {
      "needs_background": "light"
     },
     "output_type": "display_data"
    }
   ],
   "source": [
    "message_mean = df.pivot_table(index='month', columns='tariff', values='message_count', aggfunc='mean')\n",
    "display(message_mean)\n",
    "message_mean.plot(kind='bar', figsize=(12,6))"
   ]
  },
  {
   "cell_type": "code",
   "execution_count": 35,
   "metadata": {},
   "outputs": [
    {
     "data": {
      "text/html": [
       "<div>\n",
       "<style scoped>\n",
       "    .dataframe tbody tr th:only-of-type {\n",
       "        vertical-align: middle;\n",
       "    }\n",
       "\n",
       "    .dataframe tbody tr th {\n",
       "        vertical-align: top;\n",
       "    }\n",
       "\n",
       "    .dataframe thead th {\n",
       "        text-align: right;\n",
       "    }\n",
       "</style>\n",
       "<table border=\"1\" class=\"dataframe\">\n",
       "  <thead>\n",
       "    <tr style=\"text-align: right;\">\n",
       "      <th>tariff</th>\n",
       "      <th>smart</th>\n",
       "      <th>ultra</th>\n",
       "    </tr>\n",
       "    <tr>\n",
       "      <th>month</th>\n",
       "      <th></th>\n",
       "      <th></th>\n",
       "    </tr>\n",
       "  </thead>\n",
       "  <tbody>\n",
       "    <tr>\n",
       "      <th>1</th>\n",
       "      <td>262.367201</td>\n",
       "      <td>940.694444</td>\n",
       "    </tr>\n",
       "    <tr>\n",
       "      <th>2</th>\n",
       "      <td>473.097701</td>\n",
       "      <td>716.824275</td>\n",
       "    </tr>\n",
       "    <tr>\n",
       "      <th>3</th>\n",
       "      <td>718.492481</td>\n",
       "      <td>1732.381381</td>\n",
       "    </tr>\n",
       "    <tr>\n",
       "      <th>4</th>\n",
       "      <td>602.139559</td>\n",
       "      <td>1407.287542</td>\n",
       "    </tr>\n",
       "    <tr>\n",
       "      <th>5</th>\n",
       "      <td>730.990983</td>\n",
       "      <td>1624.644052</td>\n",
       "    </tr>\n",
       "    <tr>\n",
       "      <th>6</th>\n",
       "      <td>806.806374</td>\n",
       "      <td>1986.297619</td>\n",
       "    </tr>\n",
       "    <tr>\n",
       "      <th>7</th>\n",
       "      <td>799.887811</td>\n",
       "      <td>2372.042735</td>\n",
       "    </tr>\n",
       "    <tr>\n",
       "      <th>8</th>\n",
       "      <td>838.257501</td>\n",
       "      <td>2171.739199</td>\n",
       "    </tr>\n",
       "    <tr>\n",
       "      <th>9</th>\n",
       "      <td>790.617820</td>\n",
       "      <td>2152.855530</td>\n",
       "    </tr>\n",
       "    <tr>\n",
       "      <th>10</th>\n",
       "      <td>816.111966</td>\n",
       "      <td>2697.181661</td>\n",
       "    </tr>\n",
       "    <tr>\n",
       "      <th>11</th>\n",
       "      <td>805.937071</td>\n",
       "      <td>2476.948491</td>\n",
       "    </tr>\n",
       "    <tr>\n",
       "      <th>12</th>\n",
       "      <td>934.952346</td>\n",
       "      <td>2681.978417</td>\n",
       "    </tr>\n",
       "  </tbody>\n",
       "</table>\n",
       "</div>"
      ],
      "text/plain": [
       "tariff       smart        ultra\n",
       "month                          \n",
       "1       262.367201   940.694444\n",
       "2       473.097701   716.824275\n",
       "3       718.492481  1732.381381\n",
       "4       602.139559  1407.287542\n",
       "5       730.990983  1624.644052\n",
       "6       806.806374  1986.297619\n",
       "7       799.887811  2372.042735\n",
       "8       838.257501  2171.739199\n",
       "9       790.617820  2152.855530\n",
       "10      816.111966  2697.181661\n",
       "11      805.937071  2476.948491\n",
       "12      934.952346  2681.978417"
      ]
     },
     "metadata": {},
     "output_type": "display_data"
    },
    {
     "data": {
      "text/plain": [
       "<AxesSubplot:xlabel='month'>"
      ]
     },
     "execution_count": 35,
     "metadata": {},
     "output_type": "execute_result"
    },
    {
     "data": {
      "image/png": "[encoded data removed]",
      "text/plain": [
       "<Figure size 864x432 with 1 Axes>"
      ]
     },
     "metadata": {
      "needs_background": "light"
     },
     "output_type": "display_data"
    }
   ],
   "source": [
    "message_var = df.pivot_table(index='month', columns='tariff', values='message_count', aggfunc='var')\n",
    "display(message_var)\n",
    "message_var.plot(kind='bar', figsize=(12,6))"
   ]
  },
  {
   "cell_type": "code",
   "execution_count": 36,
   "metadata": {
    "scrolled": true
   },
   "outputs": [
    {
     "data": {
      "text/html": [
       "<div>\n",
       "<style scoped>\n",
       "    .dataframe tbody tr th:only-of-type {\n",
       "        vertical-align: middle;\n",
       "    }\n",
       "\n",
       "    .dataframe tbody tr th {\n",
       "        vertical-align: top;\n",
       "    }\n",
       "\n",
       "    .dataframe thead th {\n",
       "        text-align: right;\n",
       "    }\n",
       "</style>\n",
       "<table border=\"1\" class=\"dataframe\">\n",
       "  <thead>\n",
       "    <tr style=\"text-align: right;\">\n",
       "      <th>tariff</th>\n",
       "      <th>smart</th>\n",
       "      <th>ultra</th>\n",
       "    </tr>\n",
       "    <tr>\n",
       "      <th>month</th>\n",
       "      <th></th>\n",
       "      <th></th>\n",
       "    </tr>\n",
       "  </thead>\n",
       "  <tbody>\n",
       "    <tr>\n",
       "      <th>1</th>\n",
       "      <td>16.197753</td>\n",
       "      <td>30.670742</td>\n",
       "    </tr>\n",
       "    <tr>\n",
       "      <th>2</th>\n",
       "      <td>21.750809</td>\n",
       "      <td>26.773574</td>\n",
       "    </tr>\n",
       "    <tr>\n",
       "      <th>3</th>\n",
       "      <td>26.804710</td>\n",
       "      <td>41.621886</td>\n",
       "    </tr>\n",
       "    <tr>\n",
       "      <th>4</th>\n",
       "      <td>24.538532</td>\n",
       "      <td>37.513831</td>\n",
       "    </tr>\n",
       "    <tr>\n",
       "      <th>5</th>\n",
       "      <td>27.036845</td>\n",
       "      <td>40.306874</td>\n",
       "    </tr>\n",
       "    <tr>\n",
       "      <th>6</th>\n",
       "      <td>28.404337</td>\n",
       "      <td>44.567899</td>\n",
       "    </tr>\n",
       "    <tr>\n",
       "      <th>7</th>\n",
       "      <td>28.282288</td>\n",
       "      <td>48.703621</td>\n",
       "    </tr>\n",
       "    <tr>\n",
       "      <th>8</th>\n",
       "      <td>28.952677</td>\n",
       "      <td>46.601923</td>\n",
       "    </tr>\n",
       "    <tr>\n",
       "      <th>9</th>\n",
       "      <td>28.117927</td>\n",
       "      <td>46.398874</td>\n",
       "    </tr>\n",
       "    <tr>\n",
       "      <th>10</th>\n",
       "      <td>28.567673</td>\n",
       "      <td>51.934398</td>\n",
       "    </tr>\n",
       "    <tr>\n",
       "      <th>11</th>\n",
       "      <td>28.389031</td>\n",
       "      <td>49.768951</td>\n",
       "    </tr>\n",
       "    <tr>\n",
       "      <th>12</th>\n",
       "      <td>30.576990</td>\n",
       "      <td>51.787821</td>\n",
       "    </tr>\n",
       "  </tbody>\n",
       "</table>\n",
       "</div>"
      ],
      "text/plain": [
       "tariff      smart      ultra\n",
       "month                       \n",
       "1       16.197753  30.670742\n",
       "2       21.750809  26.773574\n",
       "3       26.804710  41.621886\n",
       "4       24.538532  37.513831\n",
       "5       27.036845  40.306874\n",
       "6       28.404337  44.567899\n",
       "7       28.282288  48.703621\n",
       "8       28.952677  46.601923\n",
       "9       28.117927  46.398874\n",
       "10      28.567673  51.934398\n",
       "11      28.389031  49.768951\n",
       "12      30.576990  51.787821"
      ]
     },
     "metadata": {},
     "output_type": "display_data"
    },
    {
     "data": {
      "text/plain": [
       "<AxesSubplot:xlabel='month'>"
      ]
     },
     "execution_count": 36,
     "metadata": {},
     "output_type": "execute_result"
    },
    {
     "data": {
      "image/png": "[encoded data removed]",
      "text/plain": [
       "<Figure size 864x432 with 1 Axes>"
      ]
     },
     "metadata": {
      "needs_background": "light"
     },
     "output_type": "display_data"
    }
   ],
   "source": [
    "message_std = df.pivot_table(index='month', columns='tariff', values='message_count', aggfunc='std')\n",
    "display(message_std)\n",
    "message_std.plot(kind='bar', figsize=(12,6))"
   ]
  },
  {
   "cell_type": "markdown",
   "metadata": {},
   "source": [
    "По сообщениям, динамика среднего, дисперсии и стандартного отклонения одинаковы, с небольшими различиями в значениях."
   ]
  },
  {
   "cell_type": "code",
   "execution_count": 37,
   "metadata": {},
   "outputs": [
    {
     "data": {
      "text/html": [
       "<div>\n",
       "<style scoped>\n",
       "    .dataframe tbody tr th:only-of-type {\n",
       "        vertical-align: middle;\n",
       "    }\n",
       "\n",
       "    .dataframe tbody tr th {\n",
       "        vertical-align: top;\n",
       "    }\n",
       "\n",
       "    .dataframe thead th {\n",
       "        text-align: right;\n",
       "    }\n",
       "</style>\n",
       "<table border=\"1\" class=\"dataframe\">\n",
       "  <thead>\n",
       "    <tr style=\"text-align: right;\">\n",
       "      <th>tariff</th>\n",
       "      <th>smart</th>\n",
       "      <th>ultra</th>\n",
       "    </tr>\n",
       "    <tr>\n",
       "      <th>month</th>\n",
       "      <th></th>\n",
       "      <th></th>\n",
       "    </tr>\n",
       "  </thead>\n",
       "  <tbody>\n",
       "    <tr>\n",
       "      <th>1</th>\n",
       "      <td>8.735294</td>\n",
       "      <td>13.222222</td>\n",
       "    </tr>\n",
       "    <tr>\n",
       "      <th>2</th>\n",
       "      <td>11.844828</td>\n",
       "      <td>12.000000</td>\n",
       "    </tr>\n",
       "    <tr>\n",
       "      <th>3</th>\n",
       "      <td>15.233766</td>\n",
       "      <td>17.648649</td>\n",
       "    </tr>\n",
       "    <tr>\n",
       "      <th>4</th>\n",
       "      <td>13.625000</td>\n",
       "      <td>16.963636</td>\n",
       "    </tr>\n",
       "    <tr>\n",
       "      <th>5</th>\n",
       "      <td>15.907801</td>\n",
       "      <td>19.373134</td>\n",
       "    </tr>\n",
       "    <tr>\n",
       "      <th>6</th>\n",
       "      <td>15.951220</td>\n",
       "      <td>18.940476</td>\n",
       "    </tr>\n",
       "    <tr>\n",
       "      <th>7</th>\n",
       "      <td>15.875622</td>\n",
       "      <td>20.505495</td>\n",
       "    </tr>\n",
       "    <tr>\n",
       "      <th>8</th>\n",
       "      <td>16.736170</td>\n",
       "      <td>19.598131</td>\n",
       "    </tr>\n",
       "    <tr>\n",
       "      <th>9</th>\n",
       "      <td>16.392308</td>\n",
       "      <td>19.243478</td>\n",
       "    </tr>\n",
       "    <tr>\n",
       "      <th>10</th>\n",
       "      <td>16.880952</td>\n",
       "      <td>20.065041</td>\n",
       "    </tr>\n",
       "    <tr>\n",
       "      <th>11</th>\n",
       "      <td>17.000000</td>\n",
       "      <td>19.805970</td>\n",
       "    </tr>\n",
       "    <tr>\n",
       "      <th>12</th>\n",
       "      <td>18.201780</td>\n",
       "      <td>21.741007</td>\n",
       "    </tr>\n",
       "  </tbody>\n",
       "</table>\n",
       "</div>"
      ],
      "text/plain": [
       "tariff      smart      ultra\n",
       "month                       \n",
       "1        8.735294  13.222222\n",
       "2       11.844828  12.000000\n",
       "3       15.233766  17.648649\n",
       "4       13.625000  16.963636\n",
       "5       15.907801  19.373134\n",
       "6       15.951220  18.940476\n",
       "7       15.875622  20.505495\n",
       "8       16.736170  19.598131\n",
       "9       16.392308  19.243478\n",
       "10      16.880952  20.065041\n",
       "11      17.000000  19.805970\n",
       "12      18.201780  21.741007"
      ]
     },
     "metadata": {},
     "output_type": "display_data"
    },
    {
     "data": {
      "text/plain": [
       "<AxesSubplot:xlabel='month'>"
      ]
     },
     "execution_count": 37,
     "metadata": {},
     "output_type": "execute_result"
    },
    {
     "data": {
      "image/png": "[encoded data removed]",
      "text/plain": [
       "<Figure size 864x432 with 1 Axes>"
      ]
     },
     "metadata": {
      "needs_background": "light"
     },
     "output_type": "display_data"
    }
   ],
   "source": [
    "internet_mean = df.pivot_table(index='month', columns='tariff', values='gb_used', aggfunc='mean')\n",
    "display(internet_mean)\n",
    "internet_mean.plot(kind='bar', figsize=(12,6))"
   ]
  },
  {
   "cell_type": "code",
   "execution_count": 38,
   "metadata": {},
   "outputs": [
    {
     "data": {
      "text/html": [
       "<div>\n",
       "<style scoped>\n",
       "    .dataframe tbody tr th:only-of-type {\n",
       "        vertical-align: middle;\n",
       "    }\n",
       "\n",
       "    .dataframe tbody tr th {\n",
       "        vertical-align: top;\n",
       "    }\n",
       "\n",
       "    .dataframe thead th {\n",
       "        text-align: right;\n",
       "    }\n",
       "</style>\n",
       "<table border=\"1\" class=\"dataframe\">\n",
       "  <thead>\n",
       "    <tr style=\"text-align: right;\">\n",
       "      <th>tariff</th>\n",
       "      <th>smart</th>\n",
       "      <th>ultra</th>\n",
       "    </tr>\n",
       "    <tr>\n",
       "      <th>month</th>\n",
       "      <th></th>\n",
       "      <th></th>\n",
       "    </tr>\n",
       "  </thead>\n",
       "  <tbody>\n",
       "    <tr>\n",
       "      <th>1</th>\n",
       "      <td>39.412656</td>\n",
       "      <td>44.444444</td>\n",
       "    </tr>\n",
       "    <tr>\n",
       "      <th>2</th>\n",
       "      <td>37.150938</td>\n",
       "      <td>109.130435</td>\n",
       "    </tr>\n",
       "    <tr>\n",
       "      <th>3</th>\n",
       "      <td>32.549897</td>\n",
       "      <td>114.345345</td>\n",
       "    </tr>\n",
       "    <tr>\n",
       "      <th>4</th>\n",
       "      <td>31.299550</td>\n",
       "      <td>89.443098</td>\n",
       "    </tr>\n",
       "    <tr>\n",
       "      <th>5</th>\n",
       "      <td>34.370010</td>\n",
       "      <td>95.631389</td>\n",
       "    </tr>\n",
       "    <tr>\n",
       "      <th>6</th>\n",
       "      <td>31.911716</td>\n",
       "      <td>82.394005</td>\n",
       "    </tr>\n",
       "    <tr>\n",
       "      <th>7</th>\n",
       "      <td>33.419453</td>\n",
       "      <td>96.430525</td>\n",
       "    </tr>\n",
       "    <tr>\n",
       "      <th>8</th>\n",
       "      <td>30.041207</td>\n",
       "      <td>105.148298</td>\n",
       "    </tr>\n",
       "    <tr>\n",
       "      <th>9</th>\n",
       "      <td>25.884110</td>\n",
       "      <td>86.255988</td>\n",
       "    </tr>\n",
       "    <tr>\n",
       "      <th>10</th>\n",
       "      <td>32.897042</td>\n",
       "      <td>91.258030</td>\n",
       "    </tr>\n",
       "    <tr>\n",
       "      <th>11</th>\n",
       "      <td>27.180952</td>\n",
       "      <td>93.796656</td>\n",
       "    </tr>\n",
       "    <tr>\n",
       "      <th>12</th>\n",
       "      <td>29.786544</td>\n",
       "      <td>103.236784</td>\n",
       "    </tr>\n",
       "  </tbody>\n",
       "</table>\n",
       "</div>"
      ],
      "text/plain": [
       "tariff      smart       ultra\n",
       "month                        \n",
       "1       39.412656   44.444444\n",
       "2       37.150938  109.130435\n",
       "3       32.549897  114.345345\n",
       "4       31.299550   89.443098\n",
       "5       34.370010   95.631389\n",
       "6       31.911716   82.394005\n",
       "7       33.419453   96.430525\n",
       "8       30.041207  105.148298\n",
       "9       25.884110   86.255988\n",
       "10      32.897042   91.258030\n",
       "11      27.180952   93.796656\n",
       "12      29.786544  103.236784"
      ]
     },
     "metadata": {},
     "output_type": "display_data"
    },
    {
     "data": {
      "text/plain": [
       "<AxesSubplot:xlabel='month'>"
      ]
     },
     "execution_count": 38,
     "metadata": {},
     "output_type": "execute_result"
    },
    {
     "data": {
      "image/png": "[encoded data removed]",
      "text/plain": [
       "<Figure size 864x432 with 1 Axes>"
      ]
     },
     "metadata": {
      "needs_background": "light"
     },
     "output_type": "display_data"
    }
   ],
   "source": [
    "internet_var = df.pivot_table(index='month', columns='tariff', values='gb_used', aggfunc='var')\n",
    "display(internet_var)\n",
    "internet_var.plot(kind='bar', figsize=(12,6))"
   ]
  },
  {
   "cell_type": "code",
   "execution_count": 39,
   "metadata": {},
   "outputs": [
    {
     "data": {
      "text/html": [
       "<div>\n",
       "<style scoped>\n",
       "    .dataframe tbody tr th:only-of-type {\n",
       "        vertical-align: middle;\n",
       "    }\n",
       "\n",
       "    .dataframe tbody tr th {\n",
       "        vertical-align: top;\n",
       "    }\n",
       "\n",
       "    .dataframe thead th {\n",
       "        text-align: right;\n",
       "    }\n",
       "</style>\n",
       "<table border=\"1\" class=\"dataframe\">\n",
       "  <thead>\n",
       "    <tr style=\"text-align: right;\">\n",
       "      <th>tariff</th>\n",
       "      <th>smart</th>\n",
       "      <th>ultra</th>\n",
       "    </tr>\n",
       "    <tr>\n",
       "      <th>month</th>\n",
       "      <th></th>\n",
       "      <th></th>\n",
       "    </tr>\n",
       "  </thead>\n",
       "  <tbody>\n",
       "    <tr>\n",
       "      <th>1</th>\n",
       "      <td>6.277950</td>\n",
       "      <td>6.666667</td>\n",
       "    </tr>\n",
       "    <tr>\n",
       "      <th>2</th>\n",
       "      <td>6.095157</td>\n",
       "      <td>10.446551</td>\n",
       "    </tr>\n",
       "    <tr>\n",
       "      <th>3</th>\n",
       "      <td>5.705252</td>\n",
       "      <td>10.693238</td>\n",
       "    </tr>\n",
       "    <tr>\n",
       "      <th>4</th>\n",
       "      <td>5.594600</td>\n",
       "      <td>9.457436</td>\n",
       "    </tr>\n",
       "    <tr>\n",
       "      <th>5</th>\n",
       "      <td>5.862594</td>\n",
       "      <td>9.779130</td>\n",
       "    </tr>\n",
       "    <tr>\n",
       "      <th>6</th>\n",
       "      <td>5.649046</td>\n",
       "      <td>9.077114</td>\n",
       "    </tr>\n",
       "    <tr>\n",
       "      <th>7</th>\n",
       "      <td>5.780956</td>\n",
       "      <td>9.819905</td>\n",
       "    </tr>\n",
       "    <tr>\n",
       "      <th>8</th>\n",
       "      <td>5.480986</td>\n",
       "      <td>10.254184</td>\n",
       "    </tr>\n",
       "    <tr>\n",
       "      <th>9</th>\n",
       "      <td>5.087643</td>\n",
       "      <td>9.287410</td>\n",
       "    </tr>\n",
       "    <tr>\n",
       "      <th>10</th>\n",
       "      <td>5.735594</td>\n",
       "      <td>9.552907</td>\n",
       "    </tr>\n",
       "    <tr>\n",
       "      <th>11</th>\n",
       "      <td>5.213535</td>\n",
       "      <td>9.684867</td>\n",
       "    </tr>\n",
       "    <tr>\n",
       "      <th>12</th>\n",
       "      <td>5.457705</td>\n",
       "      <td>10.160550</td>\n",
       "    </tr>\n",
       "  </tbody>\n",
       "</table>\n",
       "</div>"
      ],
      "text/plain": [
       "tariff     smart      ultra\n",
       "month                      \n",
       "1       6.277950   6.666667\n",
       "2       6.095157  10.446551\n",
       "3       5.705252  10.693238\n",
       "4       5.594600   9.457436\n",
       "5       5.862594   9.779130\n",
       "6       5.649046   9.077114\n",
       "7       5.780956   9.819905\n",
       "8       5.480986  10.254184\n",
       "9       5.087643   9.287410\n",
       "10      5.735594   9.552907\n",
       "11      5.213535   9.684867\n",
       "12      5.457705  10.160550"
      ]
     },
     "metadata": {},
     "output_type": "display_data"
    },
    {
     "data": {
      "text/plain": [
       "<AxesSubplot:xlabel='month'>"
      ]
     },
     "execution_count": 39,
     "metadata": {},
     "output_type": "execute_result"
    },
    {
     "data": {
      "image/png": "[encoded data removed]",
      "text/plain": [
       "<Figure size 864x432 with 1 Axes>"
      ]
     },
     "metadata": {
      "needs_background": "light"
     },
     "output_type": "display_data"
    }
   ],
   "source": [
    "internet_std = df.pivot_table(index='month', columns='tariff', values='gb_used', aggfunc='std')\n",
    "display(internet_std)\n",
    "internet_std.plot(kind='bar', figsize=(12,6))"
   ]
  },
  {
   "cell_type": "markdown",
   "metadata": {},
   "source": [
    "По данным трафика, результаты схожие с прошлыми"
   ]
  },
  {
   "cell_type": "markdown",
   "metadata": {},
   "source": [
    "Построим общие гистрограмы и определим их тип:"
   ]
  },
  {
   "cell_type": "code",
   "execution_count": 40,
   "metadata": {},
   "outputs": [
    {
     "data": {
      "text/plain": [
       "<AxesSubplot:>"
      ]
     },
     "execution_count": 40,
     "metadata": {},
     "output_type": "execute_result"
    },
    {
     "data": {
      "image/png": "[encoded data removed]",
      "text/plain": [
       "<Figure size 432x288 with 1 Axes>"
      ]
     },
     "metadata": {
      "needs_background": "light"
     },
     "output_type": "display_data"
    }
   ],
   "source": [
    "df['call_min'].hist()"
   ]
  },
  {
   "cell_type": "markdown",
   "metadata": {},
   "source": [
    "Гистограмма скошенна вправо, значит является положительной а среднее больше чем медианна "
   ]
  },
  {
   "cell_type": "code",
   "execution_count": 41,
   "metadata": {},
   "outputs": [
    {
     "data": {
      "text/plain": [
       "<AxesSubplot:>"
      ]
     },
     "execution_count": 41,
     "metadata": {},
     "output_type": "execute_result"
    },
    {
     "data": {
      "image/png": "[encoded data removed]",
      "text/plain": [
       "<Figure size 432x288 with 1 Axes>"
      ]
     },
     "metadata": {
      "needs_background": "light"
     },
     "output_type": "display_data"
    }
   ],
   "source": [
    "df['message_count'].hist()\n"
   ]
  },
  {
   "cell_type": "markdown",
   "metadata": {},
   "source": [
    "Гистограмма скошенна вправо, значит является положительной а среднее больше чем медианна "
   ]
  },
  {
   "cell_type": "code",
   "execution_count": 42,
   "metadata": {},
   "outputs": [
    {
     "data": {
      "text/plain": [
       "<AxesSubplot:>"
      ]
     },
     "execution_count": 42,
     "metadata": {},
     "output_type": "execute_result"
    },
    {
     "data": {
      "image/png": "[encoded data removed]",
      "text/plain": [
       "<Figure size 432x288 with 1 Axes>"
      ]
     },
     "metadata": {
      "needs_background": "light"
     },
     "output_type": "display_data"
    }
   ],
   "source": [
    "df['gb_used'].hist()"
   ]
  },
  {
   "cell_type": "markdown",
   "metadata": {},
   "source": [
    "Гистограмма скошенна вправо, значит является положительной а среднее больше чем медианна "
   ]
  },
  {
   "cell_type": "markdown",
   "metadata": {},
   "source": [
    "### Вывод\n",
    "1. Наиболее часто абоненты используют интеренет и текстовые сообщения, чем звонки, об этом можно судить по данным полученным при расчетах и построенных графиков, но на звонки тратиться больше времени.\n",
    "2. Динамика роста, наиболее выражена в начале и конце года.\n",
    "3. Эти данные можно использовать к примеру для промоакций на эти периоды, что позволит привлечь еще больше пользователей именно к этому оператору, таким образом возомжно увеличение выручки.\n",
    "4. Определили скошенность данных, все гистрограмы имеют скошенность вправо. в гистрограмме по сообщениям также замечем пик рядом с 0, это могло быть вызвано, тем что пропущенные значения после совмещения таблица мы заполнили \"0\""
   ]
  },
  {
   "cell_type": "markdown",
   "metadata": {},
   "source": [
    "## Проверка гипотез"
   ]
  },
  {
   "cell_type": "markdown",
   "metadata": {},
   "source": [
    "1. Cредняя выручка пользователей тарифов «Ультра» и «Смарт» различаются;\n",
    "2. Cредняя выручка пользователей из Москвы отличается от выручки пользователей из других регионов."
   ]
  },
  {
   "cell_type": "markdown",
   "metadata": {},
   "source": [
    "Для проверки гипотез применим t-тест, котоый возвращет p-value, по которому определяем какую из гипотез отвергать. В случае если p-value больше alpha, принимаем нулевую гипотезу, в обратном - альтернативную"
   ]
  },
  {
   "cell_type": "markdown",
   "metadata": {},
   "source": [
    "Н0: Средние выручки по тарифам равны\n",
    "Н1: Средние выручки по тарифам различаются"
   ]
  },
  {
   "cell_type": "code",
   "execution_count": 43,
   "metadata": {},
   "outputs": [],
   "source": [
    "smart = df[df['tariff'] == 'smart']['full_price']\n",
    "ultra = df[df['tariff'] == 'ultra']['full_price']"
   ]
  },
  {
   "cell_type": "code",
   "execution_count": 44,
   "metadata": {},
   "outputs": [
    {
     "name": "stdout",
     "output_type": "stream",
     "text": [
      "p-значение: 1.4229814360764067e-160\n",
      "Отвергаем нулевую гипотезу\n"
     ]
    }
   ],
   "source": [
    "alpha = .05\n",
    "\n",
    "results = st.ttest_ind(smart, ultra,nan_policy='omit')\n",
    "\n",
    "print('p-значение:', results.pvalue)\n",
    "\n",
    "if results.pvalue < alpha:\n",
    "    print(\"Отвергаем нулевую гипотезу\")\n",
    "else:\n",
    "    print(\"Не получилось отвергнуть нулевую гипотезу\") "
   ]
  },
  {
   "cell_type": "code",
   "execution_count": 45,
   "metadata": {},
   "outputs": [
    {
     "data": {
      "text/html": [
       "<div>\n",
       "<style scoped>\n",
       "    .dataframe tbody tr th:only-of-type {\n",
       "        vertical-align: middle;\n",
       "    }\n",
       "\n",
       "    .dataframe tbody tr th {\n",
       "        vertical-align: top;\n",
       "    }\n",
       "\n",
       "    .dataframe thead th {\n",
       "        text-align: right;\n",
       "    }\n",
       "</style>\n",
       "<table border=\"1\" class=\"dataframe\">\n",
       "  <thead>\n",
       "    <tr style=\"text-align: right;\">\n",
       "      <th>tariff</th>\n",
       "      <th>smart</th>\n",
       "      <th>ultra</th>\n",
       "    </tr>\n",
       "    <tr>\n",
       "      <th>month</th>\n",
       "      <th></th>\n",
       "      <th></th>\n",
       "    </tr>\n",
       "  </thead>\n",
       "  <tbody>\n",
       "    <tr>\n",
       "      <th>1</th>\n",
       "      <td>721.323529</td>\n",
       "      <td>1950.000000</td>\n",
       "    </tr>\n",
       "    <tr>\n",
       "      <th>2</th>\n",
       "      <td>827.603448</td>\n",
       "      <td>1975.000000</td>\n",
       "    </tr>\n",
       "    <tr>\n",
       "      <th>3</th>\n",
       "      <td>1164.623377</td>\n",
       "      <td>2014.864865</td>\n",
       "    </tr>\n",
       "    <tr>\n",
       "      <th>4</th>\n",
       "      <td>963.089286</td>\n",
       "      <td>2001.818182</td>\n",
       "    </tr>\n",
       "    <tr>\n",
       "      <th>5</th>\n",
       "      <td>1197.510638</td>\n",
       "      <td>2059.701493</td>\n",
       "    </tr>\n",
       "    <tr>\n",
       "      <th>6</th>\n",
       "      <td>1204.018293</td>\n",
       "      <td>2039.285714</td>\n",
       "    </tr>\n",
       "    <tr>\n",
       "      <th>7</th>\n",
       "      <td>1223.950249</td>\n",
       "      <td>2118.131868</td>\n",
       "    </tr>\n",
       "    <tr>\n",
       "      <th>8</th>\n",
       "      <td>1320.595745</td>\n",
       "      <td>2083.177570</td>\n",
       "    </tr>\n",
       "    <tr>\n",
       "      <th>9</th>\n",
       "      <td>1249.946154</td>\n",
       "      <td>2024.347826</td>\n",
       "    </tr>\n",
       "    <tr>\n",
       "      <th>10</th>\n",
       "      <td>1364.853741</td>\n",
       "      <td>2065.853659</td>\n",
       "    </tr>\n",
       "    <tr>\n",
       "      <th>11</th>\n",
       "      <td>1343.047468</td>\n",
       "      <td>2092.164179</td>\n",
       "    </tr>\n",
       "    <tr>\n",
       "      <th>12</th>\n",
       "      <td>1578.531157</td>\n",
       "      <td>2138.848921</td>\n",
       "    </tr>\n",
       "  </tbody>\n",
       "</table>\n",
       "</div>"
      ],
      "text/plain": [
       "tariff        smart        ultra\n",
       "month                           \n",
       "1        721.323529  1950.000000\n",
       "2        827.603448  1975.000000\n",
       "3       1164.623377  2014.864865\n",
       "4        963.089286  2001.818182\n",
       "5       1197.510638  2059.701493\n",
       "6       1204.018293  2039.285714\n",
       "7       1223.950249  2118.131868\n",
       "8       1320.595745  2083.177570\n",
       "9       1249.946154  2024.347826\n",
       "10      1364.853741  2065.853659\n",
       "11      1343.047468  2092.164179\n",
       "12      1578.531157  2138.848921"
      ]
     },
     "metadata": {},
     "output_type": "display_data"
    },
    {
     "data": {
      "text/plain": [
       "<AxesSubplot:xlabel='month'>"
      ]
     },
     "execution_count": 45,
     "metadata": {},
     "output_type": "execute_result"
    },
    {
     "data": {
      "image/png": "[encoded data removed]",
      "text/plain": [
       "<Figure size 864x432 with 1 Axes>"
      ]
     },
     "metadata": {
      "needs_background": "light"
     },
     "output_type": "display_data"
    }
   ],
   "source": [
    "mean_price = df.pivot_table(index='month', columns='tariff', values='full_price', aggfunc='mean')\n",
    "display(mean_price)\n",
    "mean_price.plot(kind='bar', figsize=(12,6))"
   ]
  },
  {
   "cell_type": "markdown",
   "metadata": {},
   "source": [
    "Проверили первую гипотезу с помощью t теста, так же построили график чтобы наглядно показать результаты t теста, на основании этих можно можно утверждать, что исходя из этой выборки выручки по тарифам действительно различаются и наиболее прибыльной оказывается тариф \"Ультра\". Таким образом отвергаем нулевую гипотезу о том что, выручки по тарифам равны, и принимаем гипотезу о том, что тариф ультра приносит больше денег."
   ]
  },
  {
   "cell_type": "markdown",
   "metadata": {},
   "source": [
    "Н0: Средняя выручка пользователей из Москвы равна средней выручки из других регионов\n",
    "Н1: Средняя выручка пользователей их Москвы отличается"
   ]
  },
  {
   "cell_type": "code",
   "execution_count": 46,
   "metadata": {},
   "outputs": [],
   "source": [
    "moscow = df[df['city'] == 'Москва']['full_price']\n",
    "other = df[df['city'] != 'Москва']['full_price']"
   ]
  },
  {
   "cell_type": "code",
   "execution_count": 47,
   "metadata": {},
   "outputs": [
    {
     "name": "stdout",
     "output_type": "stream",
     "text": [
      "p-значение: 0.5440152911670224\n",
      "Не получилось отвергнуть нулевую гипотезу\n"
     ]
    }
   ],
   "source": [
    "alpha = .05\n",
    "\n",
    "results = st.ttest_ind(moscow, other,nan_policy='omit')\n",
    "\n",
    "print('p-значение:', results.pvalue)\n",
    "\n",
    "if results.pvalue < alpha:\n",
    "    print(\"Отвергаем нулевую гипотезу\")\n",
    "else:\n",
    "    print(\"Не получилось отвергнуть нулевую гипотезу\") "
   ]
  },
  {
   "cell_type": "code",
   "execution_count": 48,
   "metadata": {},
   "outputs": [
    {
     "name": "stdout",
     "output_type": "stream",
     "text": [
      "p-значение: 0.1912450522572209\n",
      "Не получилось отвергнуть нулевую гипотезу\n"
     ]
    }
   ],
   "source": [
    "# Приведены два датасета: сумма покупок, совершённых за месяц посетителями ...\n",
    "\n",
    "sample_1 = [3071, 3636, 3454, 3151, 2185, 3259, 1727, 2263, 2015,\n",
    "2582, 4815, 633, 3186, 887, 2028, 3589, 2564, 1422, 1785,\n",
    "3180, 1770, 2716, 2546, 1848, 4644, 3134, 475, 2686,\n",
    "1838, 3352]\n",
    "sample_2 = [1211, 1228, 2157, 3699, 600, 1898, 1688, 1420, 5048, 3007,\n",
    "509, 3777, 5583, 3949, 121, 1674, 4300, 1338, 3066,\n",
    "3562, 1010, 2311, 462, 863, 2021, 528, 1849, 255,\n",
    "1740, 2596]\n",
    "alpha = .05 # критический уровень статистической значимости\n",
    "# если p-value окажется меньше него - отвергнем гипотезу\n",
    "results = st.ttest_ind(\n",
    "sample_1,\n",
    "sample_2)\n",
    "print('p-значение:', results.pvalue)\n",
    "if (results.pvalue < alpha):\n",
    "    print(\"Отвергаем нулевую гипотезу\")\n",
    "else:\n",
    "\n",
    "    print(\"Не получилось отвергнуть нулевую гипотезу\")"
   ]
  },
  {
   "cell_type": "code",
   "execution_count": 49,
   "metadata": {},
   "outputs": [
    {
     "data": {
      "text/plain": [
       "<AxesSubplot:>"
      ]
     },
     "execution_count": 49,
     "metadata": {},
     "output_type": "execute_result"
    },
    {
     "data": {
      "image/png": "[encoded data removed]",
      "text/plain": [
       "<Figure size 432x288 with 1 Axes>"
      ]
     },
     "metadata": {
      "needs_background": "light"
     },
     "output_type": "display_data"
    }
   ],
   "source": [
    "moscow.hist(bins=40, range=(0,3000))\n",
    "other.hist(bins=40, range=(0,3000))"
   ]
  },
  {
   "cell_type": "markdown",
   "metadata": {},
   "source": [
    "В этом случае проверили гипотезу о том, что выручки по городу Москва и остальным регионам равны. По результатам расчетов и построенном графике видно, что выручки дейтсвительно равны или незначительно различаются. Отвергаем альтернативную гипотезу и принимаем нулевую"
   ]
  },
  {
   "cell_type": "markdown",
   "metadata": {},
   "source": [
    "## Общий вывод"
   ]
  },
  {
   "cell_type": "markdown",
   "metadata": {},
   "source": [
    "1. В этом кейсе изучали тарифы для телеком компании\n",
    "2. Подготовили данные для обработки состоящии из 5 разных таблиц данных: \n",
    "* Пользователи\n",
    "* Звонки\n",
    "* Сообщения\n",
    "* Интернет-трафик\n",
    "* Данные о тарифах\n",
    "3. Добавили распределение по месяцам, перевели данные в формат в соотвествии с требованиями к оплате от оператора, соединили данные в одну таблицу.\n",
    "4. Посчитали для каждого пользователя из выборки:\n",
    "* среднее число звонков, сообщений, интернет трафика,\n",
    "* дисперсию для звонков, сообщений, интернет трафика,\n",
    "* стандартное отклонение для звонков, сообщений, интернет трафика,\n",
    "* выручку исходя из оплаты за тариф и сверху тарифа за доп трафик, минуты звонков и сообщений\n",
    "5. Распределили данные по месяцам для каждого пользователя.\n",
    "6. Из построенных графиков видно, что абоненты разных тарифов используют их практически одинаково, со схожей динамикой роста в начале и конце года. \n",
    "7. Сотавили гипотезы исходя из интересующих нас данных о выручках, о том:\n",
    "* Различаются ли выручки по тарифам\n",
    "* Различаются ли выручки исходя из города Москва и других регионов.\n",
    "8. Построили графики после проведения тестов и принятия нулевой гипотезы в первом случае о том, что выручка различается. И о том, что в среднем выручка по Москве и других регионах равна.\n",
    "9. Поэтому наиболее перспективным тарифом можно считать тариф \"Ультра\", он более гибок, имеет большие пакеты, да он дороже, но так же имеет сниженные цены на дополнительные пакеты, а если исходить из динамики роста, то можно добавить сезонные промоакции, которые помогут привлечь новый абонентов именно к данной телекомпании, что позволит увеличить выручку.\n",
    "10. По тарифу \"Смарт\", если учесть что показатели для него практически равны, значит им тоже пользуются активно, скорее всего абоненты иного сегмента, таким образом, \"Ультру\" можно развивать, и предлагать чаще, а \"Смарт\" использовать для более обычного пользования, исходя из динамики, понижение и рост активности на смарте, гораздно плавнее чем на \"Ультра\".\n",
    "11. Для наглядной оценки прикладываю:\n",
    "* График сравнения выручки по двум тарифам\n",
    "* Таблица среднего использования трафика и сообщений по месяцам"
   ]
  },
  {
   "cell_type": "code",
   "execution_count": 50,
   "metadata": {},
   "outputs": [
    {
     "data": {
      "text/html": [
       "<div>\n",
       "<style scoped>\n",
       "    .dataframe tbody tr th:only-of-type {\n",
       "        vertical-align: middle;\n",
       "    }\n",
       "\n",
       "    .dataframe tbody tr th {\n",
       "        vertical-align: top;\n",
       "    }\n",
       "\n",
       "    .dataframe thead th {\n",
       "        text-align: right;\n",
       "    }\n",
       "</style>\n",
       "<table border=\"1\" class=\"dataframe\">\n",
       "  <thead>\n",
       "    <tr style=\"text-align: right;\">\n",
       "      <th>tariff</th>\n",
       "      <th>smart</th>\n",
       "      <th>ultra</th>\n",
       "    </tr>\n",
       "    <tr>\n",
       "      <th>month</th>\n",
       "      <th></th>\n",
       "      <th></th>\n",
       "    </tr>\n",
       "  </thead>\n",
       "  <tbody>\n",
       "    <tr>\n",
       "      <th>1</th>\n",
       "      <td>8.735294</td>\n",
       "      <td>13.222222</td>\n",
       "    </tr>\n",
       "    <tr>\n",
       "      <th>2</th>\n",
       "      <td>11.844828</td>\n",
       "      <td>12.000000</td>\n",
       "    </tr>\n",
       "    <tr>\n",
       "      <th>3</th>\n",
       "      <td>15.233766</td>\n",
       "      <td>17.648649</td>\n",
       "    </tr>\n",
       "    <tr>\n",
       "      <th>4</th>\n",
       "      <td>13.625000</td>\n",
       "      <td>16.963636</td>\n",
       "    </tr>\n",
       "    <tr>\n",
       "      <th>5</th>\n",
       "      <td>15.907801</td>\n",
       "      <td>19.373134</td>\n",
       "    </tr>\n",
       "    <tr>\n",
       "      <th>6</th>\n",
       "      <td>15.951220</td>\n",
       "      <td>18.940476</td>\n",
       "    </tr>\n",
       "    <tr>\n",
       "      <th>7</th>\n",
       "      <td>15.875622</td>\n",
       "      <td>20.505495</td>\n",
       "    </tr>\n",
       "    <tr>\n",
       "      <th>8</th>\n",
       "      <td>16.736170</td>\n",
       "      <td>19.598131</td>\n",
       "    </tr>\n",
       "    <tr>\n",
       "      <th>9</th>\n",
       "      <td>16.392308</td>\n",
       "      <td>19.243478</td>\n",
       "    </tr>\n",
       "    <tr>\n",
       "      <th>10</th>\n",
       "      <td>16.880952</td>\n",
       "      <td>20.065041</td>\n",
       "    </tr>\n",
       "    <tr>\n",
       "      <th>11</th>\n",
       "      <td>17.000000</td>\n",
       "      <td>19.805970</td>\n",
       "    </tr>\n",
       "    <tr>\n",
       "      <th>12</th>\n",
       "      <td>18.201780</td>\n",
       "      <td>21.741007</td>\n",
       "    </tr>\n",
       "  </tbody>\n",
       "</table>\n",
       "</div>"
      ],
      "text/plain": [
       "tariff      smart      ultra\n",
       "month                       \n",
       "1        8.735294  13.222222\n",
       "2       11.844828  12.000000\n",
       "3       15.233766  17.648649\n",
       "4       13.625000  16.963636\n",
       "5       15.907801  19.373134\n",
       "6       15.951220  18.940476\n",
       "7       15.875622  20.505495\n",
       "8       16.736170  19.598131\n",
       "9       16.392308  19.243478\n",
       "10      16.880952  20.065041\n",
       "11      17.000000  19.805970\n",
       "12      18.201780  21.741007"
      ]
     },
     "metadata": {},
     "output_type": "display_data"
    },
    {
     "data": {
      "text/html": [
       "<div>\n",
       "<style scoped>\n",
       "    .dataframe tbody tr th:only-of-type {\n",
       "        vertical-align: middle;\n",
       "    }\n",
       "\n",
       "    .dataframe tbody tr th {\n",
       "        vertical-align: top;\n",
       "    }\n",
       "\n",
       "    .dataframe thead th {\n",
       "        text-align: right;\n",
       "    }\n",
       "</style>\n",
       "<table border=\"1\" class=\"dataframe\">\n",
       "  <thead>\n",
       "    <tr style=\"text-align: right;\">\n",
       "      <th>tariff</th>\n",
       "      <th>smart</th>\n",
       "      <th>ultra</th>\n",
       "    </tr>\n",
       "    <tr>\n",
       "      <th>month</th>\n",
       "      <th></th>\n",
       "      <th></th>\n",
       "    </tr>\n",
       "  </thead>\n",
       "  <tbody>\n",
       "    <tr>\n",
       "      <th>1</th>\n",
       "      <td>18.235294</td>\n",
       "      <td>33.777778</td>\n",
       "    </tr>\n",
       "    <tr>\n",
       "      <th>2</th>\n",
       "      <td>24.086207</td>\n",
       "      <td>21.958333</td>\n",
       "    </tr>\n",
       "    <tr>\n",
       "      <th>3</th>\n",
       "      <td>31.857143</td>\n",
       "      <td>32.297297</td>\n",
       "    </tr>\n",
       "    <tr>\n",
       "      <th>4</th>\n",
       "      <td>30.741071</td>\n",
       "      <td>31.563636</td>\n",
       "    </tr>\n",
       "    <tr>\n",
       "      <th>5</th>\n",
       "      <td>33.773050</td>\n",
       "      <td>37.850746</td>\n",
       "    </tr>\n",
       "    <tr>\n",
       "      <th>6</th>\n",
       "      <td>33.402439</td>\n",
       "      <td>41.726190</td>\n",
       "    </tr>\n",
       "    <tr>\n",
       "      <th>7</th>\n",
       "      <td>33.751244</td>\n",
       "      <td>49.846154</td>\n",
       "    </tr>\n",
       "    <tr>\n",
       "      <th>8</th>\n",
       "      <td>33.638298</td>\n",
       "      <td>48.439252</td>\n",
       "    </tr>\n",
       "    <tr>\n",
       "      <th>9</th>\n",
       "      <td>33.638462</td>\n",
       "      <td>52.286957</td>\n",
       "    </tr>\n",
       "    <tr>\n",
       "      <th>10</th>\n",
       "      <td>33.765306</td>\n",
       "      <td>58.430894</td>\n",
       "    </tr>\n",
       "    <tr>\n",
       "      <th>11</th>\n",
       "      <td>34.075949</td>\n",
       "      <td>55.791045</td>\n",
       "    </tr>\n",
       "    <tr>\n",
       "      <th>12</th>\n",
       "      <td>35.994065</td>\n",
       "      <td>60.611511</td>\n",
       "    </tr>\n",
       "  </tbody>\n",
       "</table>\n",
       "</div>"
      ],
      "text/plain": [
       "tariff      smart      ultra\n",
       "month                       \n",
       "1       18.235294  33.777778\n",
       "2       24.086207  21.958333\n",
       "3       31.857143  32.297297\n",
       "4       30.741071  31.563636\n",
       "5       33.773050  37.850746\n",
       "6       33.402439  41.726190\n",
       "7       33.751244  49.846154\n",
       "8       33.638298  48.439252\n",
       "9       33.638462  52.286957\n",
       "10      33.765306  58.430894\n",
       "11      34.075949  55.791045\n",
       "12      35.994065  60.611511"
      ]
     },
     "metadata": {},
     "output_type": "display_data"
    },
    {
     "data": {
      "image/png": "[encoded data removed]",
      "text/plain": [
       "<Figure size 432x288 with 1 Axes>"
      ]
     },
     "metadata": {
      "needs_background": "light"
     },
     "output_type": "display_data"
    }
   ],
   "source": [
    "full_price = df.pivot_table(index='month', columns='tariff', values='full_price', aggfunc='sum')\n",
    "mean_price.plot(kind='bar')\n",
    "display(internet_mean)\n",
    "display(message_mean)"
   ]
  },
  {
   "cell_type": "markdown",
   "metadata": {},
   "source": [
    "## Бонус"
   ]
  },
  {
   "cell_type": "code",
   "execution_count": 51,
   "metadata": {},
   "outputs": [],
   "source": [
    "import seaborn as sns\n",
    "import matplotlib.pyplot as plt"
   ]
  },
  {
   "cell_type": "code",
   "execution_count": 52,
   "metadata": {},
   "outputs": [],
   "source": [
    "revenue = df.copy()"
   ]
  },
  {
   "cell_type": "code",
   "execution_count": 53,
   "metadata": {},
   "outputs": [
    {
     "data": {
      "image/png": "[encoded data removed]",
      "text/plain": [
       "<Figure size 864x144 with 1 Axes>"
      ]
     },
     "metadata": {
      "needs_background": "light"
     },
     "output_type": "display_data"
    },
    {
     "data": {
      "image/png": "[encoded data removed]",
      "text/plain": [
       "<Figure size 864x144 with 1 Axes>"
      ]
     },
     "metadata": {
      "needs_background": "light"
     },
     "output_type": "display_data"
    },
    {
     "data": {
      "image/png": "[encoded data removed]",
      "text/plain": [
       "<Figure size 864x144 with 1 Axes>"
      ]
     },
     "metadata": {
      "needs_background": "light"
     },
     "output_type": "display_data"
    },
    {
     "data": {
      "image/png": "[encoded data removed]",
      "text/plain": [
       "<Figure size 864x144 with 1 Axes>"
      ]
     },
     "metadata": {
      "needs_background": "light"
     },
     "output_type": "display_data"
    }
   ],
   "source": [
    "for column in ['call_min', 'message_count', 'gb_used', 'full_price']:    \n",
    "    g = sns.catplot(y='tariff', x=column, kind=\"box\", data= revenue, orient='h', palette = 'pastel')\n",
    "    g.fig.set_figwidth(12)\n",
    "    g.fig.set_figheight(2)\n",
    "    g.set(xlim=(-50, None))"
   ]
  },
  {
   "cell_type": "code",
   "execution_count": 54,
   "metadata": {},
   "outputs": [
    {
     "data": {
      "image/png": "[encoded data removed]",
      "text/plain": [
       "<Figure size 720x288 with 1 Axes>"
      ]
     },
     "metadata": {
      "needs_background": "light"
     },
     "output_type": "display_data"
    }
   ],
   "source": [
    "(revenue\n",
    " .pivot_table(index='tariff', columns='month', values='user_id', aggfunc='count')\n",
    " .T\n",
    " .plot"
   ]
  },
  {
   "cell_type": "code",
   "execution_count": 55,
   "metadata": {
    "colab": {
     "base_uri": "https://localhost:8080/",
     "height": 330
    },
    "id": "V4Vo2tdzJ3G6",
    "outputId": "9cfd13a1-35e4-4421-9f10-349b8932486b"
   },
   "outputs": [
    {
     "data": {
      "image/png": "[encoded data removed]",
      "text/plain": [
       "<Figure size 720x288 with 1 Axes>"
      ]
     },
     "metadata": {
      "needs_background": "light"
     },
     "output_type": "display_data"
    }
   ],
   "source": [
    "(revenue\n",
    " .pivot_table(index='tariff', columns='month', values='full_price', aggfunc='mean')\n",
    " .T\n",
    " .plot(kind='line', figsize=(10,4),  style = 'o-')\n",
    ")\n",
    "plt.title('Средняя ежемесячная выручка от одного абонента'+ \"\\n\")\n",
    "plt.xlabel('Месяц')\n",
    "plt.ylabel('Рубли');"
   ]
  },
  {
   "cell_type": "code",
   "execution_count": 56,
   "metadata": {},
   "outputs": [
    {
     "data": {
      "image/png": "[encoded data removed]",
      "text/plain": [
       "<Figure size 720x288 with 1 Axes>"
      ]
     },
     "metadata": {
      "needs_background": "light"
     },
     "output_type": "display_data"
    }
   ],
   "source": [
    "(revenue\n",
    " .pivot_table(index='tariff', columns='month', values='full_price', aggfunc='sum')\n",
    " .T\n",
    " .plot(kind='line', figsize=(10,4),  style = 'o-')\n",
    ")\n",
    "plt.title('Суммарная ежемесячная выручка по 2-м тарифам'+ \"\\n\")\n",
    "plt.xlabel('Месяц')\n",
    "plt.ylabel('Рубли');"
   ]
  },
  {
   "cell_type": "markdown",
   "metadata": {},
   "source": [
    "# выручка от смартов уже в два раза выше выручки от ультры, но есть опасность - убегут клиенты смарт от такой счастливой жизни к конкурентам :)"
   ]
  },
  {
   "cell_type": "code",
   "execution_count": 57,
   "metadata": {},
   "outputs": [
    {
     "name": "stdout",
     "output_type": "stream",
     "text": [
      "Кол-во клентов покинувших компанию за год 38\n",
      "Кол-во клентов покинувших компанию за посл. 4 мес. 2018 г. на двух тарифах 35\n",
      "%  от общего кол-ва всех клиентов, покинувших компанию за посл. 4 мес. 2018 г. на двух тарифах 92.1\n",
      "Распределение оттока клиентов на тарифах за посл. 4 мес. 2018 г.\n"
     ]
    },
    {
     "data": {
      "text/html": [
       "<div>\n",
       "<style scoped>\n",
       "    .dataframe tbody tr th:only-of-type {\n",
       "        vertical-align: middle;\n",
       "    }\n",
       "\n",
       "    .dataframe tbody tr th {\n",
       "        vertical-align: top;\n",
       "    }\n",
       "\n",
       "    .dataframe thead th {\n",
       "        text-align: right;\n",
       "    }\n",
       "</style>\n",
       "<table border=\"1\" class=\"dataframe\">\n",
       "  <thead>\n",
       "    <tr style=\"text-align: right;\">\n",
       "      <th></th>\n",
       "      <th>churn_date</th>\n",
       "    </tr>\n",
       "    <tr>\n",
       "      <th>tariff</th>\n",
       "      <th></th>\n",
       "    </tr>\n",
       "  </thead>\n",
       "  <tbody>\n",
       "    <tr>\n",
       "      <th>smart</th>\n",
       "      <td>22</td>\n",
       "    </tr>\n",
       "    <tr>\n",
       "      <th>ultra</th>\n",
       "      <td>13</td>\n",
       "    </tr>\n",
       "  </tbody>\n",
       "</table>\n",
       "</div>"
      ],
      "text/plain": [
       "        churn_date\n",
       "tariff            \n",
       "smart           22\n",
       "ultra           13"
      ]
     },
     "execution_count": 57,
     "metadata": {},
     "output_type": "execute_result"
    }
   ],
   "source": [
    "# на скорую руку\n",
    "df_users = pd.read_csv('/datasets/users.csv')\n",
    "\n",
    "print ('Кол-во клентов покинувших компанию за год', df_users.churn_date.notna().sum())\n",
    "\n",
    "print ('Кол-во клентов покинувших компанию за посл. 4 мес. 2018 г. на двух тарифах',\n",
    "       df_users.query('churn_date > \"2018-09-25\"').churn_date.notna().sum()\n",
    "      )\n",
    "print ('%  от общего кол-ва всех клиентов, покинувших компанию за посл. 4 мес. 2018 г. на двух тарифах',\n",
    "    (df_users.query('churn_date > \"2018-09-25\"').churn_date.notna().sum()/df_users.churn_date.notna().sum()*100).round(1)\n",
    ")\n",
    "\n",
    "print ('Распределение оттока клиентов на тарифах за посл. 4 мес. 2018 г.')\n",
    "df_users.query('churn_date > \"2018-09-25\"').groupby('tariff')['churn_date'].count().to_frame()"
   ]
  },
  {
   "cell_type": "markdown",
   "metadata": {},
   "source": [
    "# отток усиливается?\n",
    "\n",
    "# мы не ограничены в рекомендациях бизнесу только двумя тарифами, если мы видим риски для бизнеса мы можем предложить и третий и четвертый вариант развития тарифной политики"
   ]
  },
  {
   "cell_type": "code",
   "execution_count": null,
   "metadata": {},
   "outputs": [],
   "source": []
  }
 ],
 "metadata": {
  "ExecuteTimeLog": [
   {
    "duration": 441,
    "start_time": "2022-06-21T14:28:27.777Z"
   },
   {
    "duration": 498,
    "start_time": "2022-06-21T14:28:34.777Z"
   },
   {
    "duration": 1167,
    "start_time": "2022-06-21T14:42:59.634Z"
   },
   {
    "duration": 2,
    "start_time": "2022-06-21T14:43:01.975Z"
   },
   {
    "duration": 426,
    "start_time": "2022-06-21T14:43:03.565Z"
   },
   {
    "duration": 697,
    "start_time": "2022-06-21T14:44:27.225Z"
   },
   {
    "duration": 438,
    "start_time": "2022-06-21T15:48:22.585Z"
   },
   {
    "duration": 446,
    "start_time": "2022-06-21T15:49:03.082Z"
   },
   {
    "duration": 920,
    "start_time": "2022-06-23T11:01:59.626Z"
   },
   {
    "duration": 1227,
    "start_time": "2022-06-23T11:02:00.548Z"
   },
   {
    "duration": 445,
    "start_time": "2022-06-23T11:03:11.797Z"
   },
   {
    "duration": 26,
    "start_time": "2022-06-23T11:04:42.006Z"
   },
   {
    "duration": 29,
    "start_time": "2022-06-23T11:05:40.119Z"
   },
   {
    "duration": 25,
    "start_time": "2022-06-23T11:07:01.124Z"
   },
   {
    "duration": 36,
    "start_time": "2022-06-23T11:07:01.838Z"
   },
   {
    "duration": 19,
    "start_time": "2022-06-23T11:07:02.442Z"
   },
   {
    "duration": 19,
    "start_time": "2022-06-23T11:31:02.629Z"
   },
   {
    "duration": 66,
    "start_time": "2022-06-23T11:31:48.412Z"
   },
   {
    "duration": 56,
    "start_time": "2022-06-23T11:32:01.251Z"
   },
   {
    "duration": 39,
    "start_time": "2022-06-23T11:32:30.691Z"
   },
   {
    "duration": 8,
    "start_time": "2022-06-23T11:40:40.853Z"
   },
   {
    "duration": 52,
    "start_time": "2022-06-23T11:43:35.152Z"
   },
   {
    "duration": 46,
    "start_time": "2022-06-23T11:43:40.190Z"
   },
   {
    "duration": 14,
    "start_time": "2022-06-23T11:44:22.956Z"
   },
   {
    "duration": 41,
    "start_time": "2022-06-23T11:46:11.159Z"
   },
   {
    "duration": 33,
    "start_time": "2022-06-23T11:46:43.261Z"
   },
   {
    "duration": 104,
    "start_time": "2022-06-23T11:51:19.728Z"
   },
   {
    "duration": 36,
    "start_time": "2022-06-23T11:51:37.849Z"
   },
   {
    "duration": 8,
    "start_time": "2022-06-23T11:51:46.823Z"
   },
   {
    "duration": 8,
    "start_time": "2022-06-23T11:53:09.918Z"
   },
   {
    "duration": 4,
    "start_time": "2022-06-23T11:53:15.198Z"
   },
   {
    "duration": 11,
    "start_time": "2022-06-23T11:53:19.173Z"
   },
   {
    "duration": 11,
    "start_time": "2022-06-23T11:53:29.157Z"
   },
   {
    "duration": 9,
    "start_time": "2022-06-23T11:54:32.084Z"
   },
   {
    "duration": 1142,
    "start_time": "2022-06-23T11:54:44.735Z"
   },
   {
    "duration": 2,
    "start_time": "2022-06-23T11:54:51.982Z"
   },
   {
    "duration": 387,
    "start_time": "2022-06-23T11:54:52.029Z"
   },
   {
    "duration": 20,
    "start_time": "2022-06-23T11:54:52.417Z"
   },
   {
    "duration": 47,
    "start_time": "2022-06-23T11:54:52.439Z"
   },
   {
    "duration": 33,
    "start_time": "2022-06-23T11:54:52.488Z"
   },
   {
    "duration": 59,
    "start_time": "2022-06-23T11:54:52.522Z"
   },
   {
    "duration": 14,
    "start_time": "2022-06-23T11:54:52.583Z"
   },
   {
    "duration": 34,
    "start_time": "2022-06-23T11:54:52.598Z"
   },
   {
    "duration": 26,
    "start_time": "2022-06-23T11:54:52.634Z"
   },
   {
    "duration": 1196,
    "start_time": "2022-06-23T11:55:13.657Z"
   },
   {
    "duration": 3,
    "start_time": "2022-06-23T11:55:22.417Z"
   },
   {
    "duration": 394,
    "start_time": "2022-06-23T11:55:22.422Z"
   },
   {
    "duration": 23,
    "start_time": "2022-06-23T11:55:22.818Z"
   },
   {
    "duration": 50,
    "start_time": "2022-06-23T11:55:22.843Z"
   },
   {
    "duration": 36,
    "start_time": "2022-06-23T11:55:22.895Z"
   },
   {
    "duration": 85,
    "start_time": "2022-06-23T11:55:22.933Z"
   },
   {
    "duration": 39,
    "start_time": "2022-06-23T11:55:23.020Z"
   },
   {
    "duration": 41,
    "start_time": "2022-06-23T11:55:23.061Z"
   },
   {
    "duration": 7,
    "start_time": "2022-06-23T11:55:23.103Z"
   },
   {
    "duration": 1424,
    "start_time": "2022-06-23T11:55:36.581Z"
   },
   {
    "duration": 893,
    "start_time": "2022-06-23T11:55:44.559Z"
   },
   {
    "duration": 389,
    "start_time": "2022-06-23T11:55:45.454Z"
   },
   {
    "duration": 25,
    "start_time": "2022-06-23T11:55:45.845Z"
   },
   {
    "duration": 45,
    "start_time": "2022-06-23T11:55:45.872Z"
   },
   {
    "duration": 62,
    "start_time": "2022-06-23T11:55:45.919Z"
   },
   {
    "duration": 37,
    "start_time": "2022-06-23T11:55:45.982Z"
   },
   {
    "duration": 38,
    "start_time": "2022-06-23T11:55:46.021Z"
   },
   {
    "duration": 32,
    "start_time": "2022-06-23T11:55:46.061Z"
   },
   {
    "duration": 8,
    "start_time": "2022-06-23T11:55:46.094Z"
   },
   {
    "duration": 5,
    "start_time": "2022-06-23T12:05:45.576Z"
   },
   {
    "duration": 4,
    "start_time": "2022-06-23T12:09:52.005Z"
   },
   {
    "duration": 4,
    "start_time": "2022-06-23T12:09:58.969Z"
   },
   {
    "duration": 5,
    "start_time": "2022-06-23T12:10:22.321Z"
   },
   {
    "duration": 6,
    "start_time": "2022-06-23T12:35:51.343Z"
   },
   {
    "duration": 93,
    "start_time": "2022-06-23T12:36:32.113Z"
   },
   {
    "duration": 11,
    "start_time": "2022-06-23T12:36:36.902Z"
   },
   {
    "duration": 12,
    "start_time": "2022-06-23T12:36:46.135Z"
   },
   {
    "duration": 15,
    "start_time": "2022-06-23T12:37:02.465Z"
   },
   {
    "duration": 16,
    "start_time": "2022-06-23T12:38:31.371Z"
   },
   {
    "duration": 20,
    "start_time": "2022-06-23T12:51:45.372Z"
   },
   {
    "duration": 32,
    "start_time": "2022-06-23T12:53:22.621Z"
   },
   {
    "duration": 19,
    "start_time": "2022-06-23T12:53:52.286Z"
   },
   {
    "duration": 55,
    "start_time": "2022-06-23T12:54:25.966Z"
   },
   {
    "duration": 3,
    "start_time": "2022-06-23T13:02:59.244Z"
   },
   {
    "duration": 16,
    "start_time": "2022-06-23T13:05:00.282Z"
   },
   {
    "duration": 918,
    "start_time": "2022-06-23T13:05:09.957Z"
   },
   {
    "duration": 479,
    "start_time": "2022-06-23T13:05:10.877Z"
   },
   {
    "duration": 48,
    "start_time": "2022-06-23T13:05:11.358Z"
   },
   {
    "duration": 115,
    "start_time": "2022-06-23T13:05:11.409Z"
   },
   {
    "duration": 74,
    "start_time": "2022-06-23T13:05:11.527Z"
   },
   {
    "duration": 63,
    "start_time": "2022-06-23T13:05:11.603Z"
   },
   {
    "duration": 49,
    "start_time": "2022-06-23T13:05:11.668Z"
   },
   {
    "duration": 70,
    "start_time": "2022-06-23T13:05:11.719Z"
   },
   {
    "duration": 15,
    "start_time": "2022-06-23T13:05:11.792Z"
   },
   {
    "duration": 49,
    "start_time": "2022-06-23T13:05:11.810Z"
   },
   {
    "duration": 59,
    "start_time": "2022-06-23T13:05:11.862Z"
   },
   {
    "duration": 97,
    "start_time": "2022-06-23T13:05:11.923Z"
   },
   {
    "duration": 111,
    "start_time": "2022-06-23T13:05:12.022Z"
   },
   {
    "duration": 61,
    "start_time": "2022-06-23T13:05:12.135Z"
   },
   {
    "duration": 120,
    "start_time": "2022-06-23T13:05:12.198Z"
   },
   {
    "duration": 7,
    "start_time": "2022-06-23T13:05:52.180Z"
   },
   {
    "duration": 9,
    "start_time": "2022-06-23T13:06:02.193Z"
   },
   {
    "duration": 6,
    "start_time": "2022-06-23T13:06:17.815Z"
   },
   {
    "duration": 11,
    "start_time": "2022-06-23T13:06:27.549Z"
   },
   {
    "duration": 7,
    "start_time": "2022-06-23T13:08:18.322Z"
   },
   {
    "duration": 27,
    "start_time": "2022-06-23T13:08:42.256Z"
   },
   {
    "duration": 13,
    "start_time": "2022-06-23T13:09:11.959Z"
   },
   {
    "duration": 23,
    "start_time": "2022-06-23T13:09:20.805Z"
   },
   {
    "duration": 15,
    "start_time": "2022-06-23T13:13:30.635Z"
   },
   {
    "duration": 32,
    "start_time": "2022-06-23T13:13:45.141Z"
   },
   {
    "duration": 27,
    "start_time": "2022-06-23T13:14:04.999Z"
   },
   {
    "duration": 1659,
    "start_time": "2022-06-23T13:14:22.203Z"
   },
   {
    "duration": 1308,
    "start_time": "2022-06-23T13:14:38.954Z"
   },
   {
    "duration": 621,
    "start_time": "2022-06-23T13:14:40.271Z"
   },
   {
    "duration": 47,
    "start_time": "2022-06-23T13:14:40.894Z"
   },
   {
    "duration": 89,
    "start_time": "2022-06-23T13:14:40.944Z"
   },
   {
    "duration": 57,
    "start_time": "2022-06-23T13:14:41.037Z"
   },
   {
    "duration": 90,
    "start_time": "2022-06-23T13:14:41.096Z"
   },
   {
    "duration": 42,
    "start_time": "2022-06-23T13:14:41.189Z"
   },
   {
    "duration": 53,
    "start_time": "2022-06-23T13:14:41.233Z"
   },
   {
    "duration": 17,
    "start_time": "2022-06-23T13:14:41.288Z"
   },
   {
    "duration": 38,
    "start_time": "2022-06-23T13:14:41.307Z"
   },
   {
    "duration": 33,
    "start_time": "2022-06-23T13:14:41.347Z"
   },
   {
    "duration": 98,
    "start_time": "2022-06-23T13:14:41.382Z"
   },
   {
    "duration": 109,
    "start_time": "2022-06-23T13:14:41.493Z"
   },
   {
    "duration": 79,
    "start_time": "2022-06-23T13:14:41.609Z"
   },
   {
    "duration": 25,
    "start_time": "2022-06-23T13:14:41.698Z"
   },
   {
    "duration": 29,
    "start_time": "2022-06-23T13:14:41.725Z"
   },
   {
    "duration": 21,
    "start_time": "2022-06-23T13:17:22.403Z"
   },
   {
    "duration": 6,
    "start_time": "2022-06-23T13:18:07.045Z"
   },
   {
    "duration": 180,
    "start_time": "2022-06-23T13:18:13.225Z"
   },
   {
    "duration": 31,
    "start_time": "2022-06-23T13:18:21.436Z"
   },
   {
    "duration": 1045,
    "start_time": "2022-06-23T13:18:26.975Z"
   },
   {
    "duration": 531,
    "start_time": "2022-06-23T13:18:28.022Z"
   },
   {
    "duration": 54,
    "start_time": "2022-06-23T13:18:28.556Z"
   },
   {
    "duration": 79,
    "start_time": "2022-06-23T13:18:28.613Z"
   },
   {
    "duration": 46,
    "start_time": "2022-06-23T13:18:28.695Z"
   },
   {
    "duration": 90,
    "start_time": "2022-06-23T13:18:28.743Z"
   },
   {
    "duration": 19,
    "start_time": "2022-06-23T13:18:28.836Z"
   },
   {
    "duration": 96,
    "start_time": "2022-06-23T13:18:28.857Z"
   },
   {
    "duration": 29,
    "start_time": "2022-06-23T13:18:28.955Z"
   },
   {
    "duration": 35,
    "start_time": "2022-06-23T13:18:28.987Z"
   },
   {
    "duration": 17,
    "start_time": "2022-06-23T13:18:29.024Z"
   },
   {
    "duration": 43,
    "start_time": "2022-06-23T13:18:29.043Z"
   },
   {
    "duration": 81,
    "start_time": "2022-06-23T13:18:29.088Z"
   },
   {
    "duration": 65,
    "start_time": "2022-06-23T13:18:29.172Z"
   },
   {
    "duration": 7,
    "start_time": "2022-06-23T13:18:29.239Z"
   },
   {
    "duration": 31,
    "start_time": "2022-06-23T13:18:29.261Z"
   },
   {
    "duration": 19,
    "start_time": "2022-06-23T13:18:35.530Z"
   },
   {
    "duration": 927,
    "start_time": "2022-06-23T13:18:45.335Z"
   },
   {
    "duration": 483,
    "start_time": "2022-06-23T13:18:46.264Z"
   },
   {
    "duration": 34,
    "start_time": "2022-06-23T13:18:46.749Z"
   },
   {
    "duration": 67,
    "start_time": "2022-06-23T13:18:46.787Z"
   },
   {
    "duration": 57,
    "start_time": "2022-06-23T13:18:46.860Z"
   },
   {
    "duration": 84,
    "start_time": "2022-06-23T13:18:46.919Z"
   },
   {
    "duration": 24,
    "start_time": "2022-06-23T13:18:47.006Z"
   },
   {
    "duration": 69,
    "start_time": "2022-06-23T13:18:47.032Z"
   },
   {
    "duration": 11,
    "start_time": "2022-06-23T13:18:47.103Z"
   },
   {
    "duration": 7,
    "start_time": "2022-06-23T13:18:47.116Z"
   },
   {
    "duration": 49,
    "start_time": "2022-06-23T13:18:47.125Z"
   },
   {
    "duration": 49,
    "start_time": "2022-06-23T13:18:47.176Z"
   },
   {
    "duration": 109,
    "start_time": "2022-06-23T13:18:47.228Z"
   },
   {
    "duration": 73,
    "start_time": "2022-06-23T13:18:47.339Z"
   },
   {
    "duration": 9,
    "start_time": "2022-06-23T13:18:47.414Z"
   },
   {
    "duration": 63,
    "start_time": "2022-06-23T13:18:47.425Z"
   },
   {
    "duration": 8,
    "start_time": "2022-06-23T13:19:50.121Z"
   },
   {
    "duration": 26,
    "start_time": "2022-06-23T13:19:56.076Z"
   },
   {
    "duration": 29,
    "start_time": "2022-06-23T13:20:01.347Z"
   },
   {
    "duration": 1024,
    "start_time": "2022-06-23T13:20:15.883Z"
   },
   {
    "duration": 565,
    "start_time": "2022-06-23T13:20:16.909Z"
   },
   {
    "duration": 39,
    "start_time": "2022-06-23T13:20:17.482Z"
   },
   {
    "duration": 93,
    "start_time": "2022-06-23T13:20:17.523Z"
   },
   {
    "duration": 74,
    "start_time": "2022-06-23T13:20:17.618Z"
   },
   {
    "duration": 52,
    "start_time": "2022-06-23T13:20:17.695Z"
   },
   {
    "duration": 23,
    "start_time": "2022-06-23T13:20:17.749Z"
   },
   {
    "duration": 81,
    "start_time": "2022-06-23T13:20:17.774Z"
   },
   {
    "duration": 33,
    "start_time": "2022-06-23T13:20:17.856Z"
   },
   {
    "duration": 29,
    "start_time": "2022-06-23T13:20:17.891Z"
   },
   {
    "duration": 23,
    "start_time": "2022-06-23T13:20:17.922Z"
   },
   {
    "duration": 66,
    "start_time": "2022-06-23T13:20:17.947Z"
   },
   {
    "duration": 81,
    "start_time": "2022-06-23T13:20:18.015Z"
   },
   {
    "duration": 47,
    "start_time": "2022-06-23T13:20:18.101Z"
   },
   {
    "duration": 22,
    "start_time": "2022-06-23T13:20:18.163Z"
   },
   {
    "duration": 37,
    "start_time": "2022-06-23T13:20:18.192Z"
   },
   {
    "duration": 10,
    "start_time": "2022-06-23T13:20:51.504Z"
   },
   {
    "duration": 1572,
    "start_time": "2022-06-23T13:21:08.752Z"
   },
   {
    "duration": 922,
    "start_time": "2022-06-23T13:21:19.988Z"
   },
   {
    "duration": 493,
    "start_time": "2022-06-23T13:21:20.914Z"
   },
   {
    "duration": 28,
    "start_time": "2022-06-23T13:21:21.409Z"
   },
   {
    "duration": 82,
    "start_time": "2022-06-23T13:21:21.440Z"
   },
   {
    "duration": 58,
    "start_time": "2022-06-23T13:21:21.524Z"
   },
   {
    "duration": 54,
    "start_time": "2022-06-23T13:21:21.583Z"
   },
   {
    "duration": 23,
    "start_time": "2022-06-23T13:21:21.639Z"
   },
   {
    "duration": 51,
    "start_time": "2022-06-23T13:21:21.664Z"
   },
   {
    "duration": 9,
    "start_time": "2022-06-23T13:21:21.716Z"
   },
   {
    "duration": 5,
    "start_time": "2022-06-23T13:21:21.726Z"
   },
   {
    "duration": 24,
    "start_time": "2022-06-23T13:21:21.763Z"
   },
   {
    "duration": 55,
    "start_time": "2022-06-23T13:21:21.789Z"
   },
   {
    "duration": 80,
    "start_time": "2022-06-23T13:21:21.846Z"
   },
   {
    "duration": 67,
    "start_time": "2022-06-23T13:21:21.927Z"
   },
   {
    "duration": 13,
    "start_time": "2022-06-23T13:21:22.000Z"
   },
   {
    "duration": 15,
    "start_time": "2022-06-23T13:21:22.015Z"
   },
   {
    "duration": 128,
    "start_time": "2022-06-23T13:27:06.029Z"
   },
   {
    "duration": 443,
    "start_time": "2022-06-23T13:27:20.235Z"
   },
   {
    "duration": 435,
    "start_time": "2022-06-23T13:27:25.103Z"
   },
   {
    "duration": 37,
    "start_time": "2022-06-23T13:28:05.899Z"
   },
   {
    "duration": 962,
    "start_time": "2022-06-23T13:28:30.948Z"
   },
   {
    "duration": 552,
    "start_time": "2022-06-23T13:28:31.912Z"
   },
   {
    "duration": 37,
    "start_time": "2022-06-23T13:28:32.466Z"
   },
   {
    "duration": 102,
    "start_time": "2022-06-23T13:28:32.504Z"
   },
   {
    "duration": 33,
    "start_time": "2022-06-23T13:28:32.610Z"
   },
   {
    "duration": 71,
    "start_time": "2022-06-23T13:28:32.645Z"
   },
   {
    "duration": 18,
    "start_time": "2022-06-23T13:28:32.718Z"
   },
   {
    "duration": 75,
    "start_time": "2022-06-23T13:28:32.738Z"
   },
   {
    "duration": 14,
    "start_time": "2022-06-23T13:28:32.814Z"
   },
   {
    "duration": 7,
    "start_time": "2022-06-23T13:28:32.830Z"
   },
   {
    "duration": 37,
    "start_time": "2022-06-23T13:28:32.838Z"
   },
   {
    "duration": 72,
    "start_time": "2022-06-23T13:28:32.877Z"
   },
   {
    "duration": 84,
    "start_time": "2022-06-23T13:28:32.950Z"
   },
   {
    "duration": 78,
    "start_time": "2022-06-23T13:28:33.037Z"
   },
   {
    "duration": 10,
    "start_time": "2022-06-23T13:28:33.120Z"
   },
   {
    "duration": 16,
    "start_time": "2022-06-23T13:28:33.132Z"
   },
   {
    "duration": 80,
    "start_time": "2022-06-23T13:28:33.150Z"
   },
   {
    "duration": 56,
    "start_time": "2022-06-23T13:28:55.389Z"
   },
   {
    "duration": 76,
    "start_time": "2022-06-23T13:29:06.645Z"
   },
   {
    "duration": 66,
    "start_time": "2022-06-23T13:30:37.590Z"
   },
   {
    "duration": 75,
    "start_time": "2022-06-23T13:30:47.126Z"
   },
   {
    "duration": 24,
    "start_time": "2022-06-23T13:31:52.528Z"
   },
   {
    "duration": 47,
    "start_time": "2022-06-23T13:32:01.187Z"
   },
   {
    "duration": 1005,
    "start_time": "2022-06-24T17:30:06.288Z"
   },
   {
    "duration": 1473,
    "start_time": "2022-06-24T17:30:07.295Z"
   },
   {
    "duration": 29,
    "start_time": "2022-06-24T17:30:08.770Z"
   },
   {
    "duration": 46,
    "start_time": "2022-06-24T17:30:08.801Z"
   },
   {
    "duration": 60,
    "start_time": "2022-06-24T17:30:08.849Z"
   },
   {
    "duration": 73,
    "start_time": "2022-06-24T17:30:08.911Z"
   },
   {
    "duration": 21,
    "start_time": "2022-06-24T17:30:08.986Z"
   },
   {
    "duration": 65,
    "start_time": "2022-06-24T17:30:09.009Z"
   },
   {
    "duration": 10,
    "start_time": "2022-06-24T17:30:09.076Z"
   },
   {
    "duration": 11,
    "start_time": "2022-06-24T17:30:09.088Z"
   },
   {
    "duration": 18,
    "start_time": "2022-06-24T17:30:09.100Z"
   },
   {
    "duration": 58,
    "start_time": "2022-06-24T17:30:09.120Z"
   },
   {
    "duration": 60,
    "start_time": "2022-06-24T17:30:09.180Z"
   },
   {
    "duration": 63,
    "start_time": "2022-06-24T17:30:09.241Z"
   },
   {
    "duration": 9,
    "start_time": "2022-06-24T17:30:09.306Z"
   },
   {
    "duration": 15,
    "start_time": "2022-06-24T17:30:09.318Z"
   },
   {
    "duration": 75,
    "start_time": "2022-06-24T17:30:09.335Z"
   },
   {
    "duration": 42,
    "start_time": "2022-06-24T17:30:09.411Z"
   },
   {
    "duration": 42,
    "start_time": "2022-06-24T17:30:09.466Z"
   },
   {
    "duration": 4,
    "start_time": "2022-06-24T17:31:26.343Z"
   },
   {
    "duration": 465,
    "start_time": "2022-06-24T17:31:26.349Z"
   },
   {
    "duration": 23,
    "start_time": "2022-06-24T17:31:26.816Z"
   },
   {
    "duration": 54,
    "start_time": "2022-06-24T17:31:26.842Z"
   },
   {
    "duration": 35,
    "start_time": "2022-06-24T17:31:26.898Z"
   },
   {
    "duration": 68,
    "start_time": "2022-06-24T17:31:26.935Z"
   },
   {
    "duration": 22,
    "start_time": "2022-06-24T17:31:27.006Z"
   },
   {
    "duration": 64,
    "start_time": "2022-06-24T17:31:27.031Z"
   },
   {
    "duration": 11,
    "start_time": "2022-06-24T17:31:27.098Z"
   },
   {
    "duration": 8,
    "start_time": "2022-06-24T17:31:27.111Z"
   },
   {
    "duration": 18,
    "start_time": "2022-06-24T17:31:27.120Z"
   },
   {
    "duration": 68,
    "start_time": "2022-06-24T17:31:27.139Z"
   },
   {
    "duration": 76,
    "start_time": "2022-06-24T17:31:27.209Z"
   },
   {
    "duration": 46,
    "start_time": "2022-06-24T17:31:27.287Z"
   },
   {
    "duration": 7,
    "start_time": "2022-06-24T17:31:27.335Z"
   },
   {
    "duration": 69,
    "start_time": "2022-06-24T17:31:27.344Z"
   },
   {
    "duration": 60,
    "start_time": "2022-06-24T17:31:27.414Z"
   },
   {
    "duration": 99,
    "start_time": "2022-06-24T17:31:27.476Z"
   },
   {
    "duration": 39,
    "start_time": "2022-06-24T17:31:38.215Z"
   },
   {
    "duration": 12,
    "start_time": "2022-06-24T17:42:06.631Z"
   },
   {
    "duration": 13,
    "start_time": "2022-06-24T17:47:17.506Z"
   },
   {
    "duration": 5,
    "start_time": "2022-06-24T17:47:39.943Z"
   },
   {
    "duration": 15,
    "start_time": "2022-06-24T17:47:47.809Z"
   },
   {
    "duration": 62,
    "start_time": "2022-06-24T17:49:15.454Z"
   },
   {
    "duration": 18,
    "start_time": "2022-06-24T17:49:21.644Z"
   },
   {
    "duration": 29,
    "start_time": "2022-06-24T17:49:30.065Z"
   },
   {
    "duration": 15,
    "start_time": "2022-06-24T17:49:46.420Z"
   },
   {
    "duration": 24,
    "start_time": "2022-06-24T17:50:10.702Z"
   },
   {
    "duration": 38,
    "start_time": "2022-06-24T17:50:56.387Z"
   },
   {
    "duration": 36,
    "start_time": "2022-06-24T17:50:56.989Z"
   },
   {
    "duration": 28,
    "start_time": "2022-06-24T17:50:58.440Z"
   },
   {
    "duration": 31,
    "start_time": "2022-06-24T17:50:59.228Z"
   },
   {
    "duration": 14,
    "start_time": "2022-06-24T17:51:14.638Z"
   },
   {
    "duration": 22,
    "start_time": "2022-06-24T17:51:27.800Z"
   },
   {
    "duration": 12,
    "start_time": "2022-06-24T17:51:55.907Z"
   },
   {
    "duration": 15,
    "start_time": "2022-06-24T17:52:10.732Z"
   },
   {
    "duration": 14,
    "start_time": "2022-06-24T17:52:49.742Z"
   },
   {
    "duration": 28,
    "start_time": "2022-06-24T17:53:35.067Z"
   },
   {
    "duration": 21,
    "start_time": "2022-06-24T17:55:28.790Z"
   },
   {
    "duration": 29,
    "start_time": "2022-06-24T17:55:33.759Z"
   },
   {
    "duration": 966,
    "start_time": "2022-06-24T17:55:39.873Z"
   },
   {
    "duration": 463,
    "start_time": "2022-06-24T17:55:40.841Z"
   },
   {
    "duration": 29,
    "start_time": "2022-06-24T17:55:41.306Z"
   },
   {
    "duration": 68,
    "start_time": "2022-06-24T17:55:41.338Z"
   },
   {
    "duration": 33,
    "start_time": "2022-06-24T17:55:41.408Z"
   },
   {
    "duration": 69,
    "start_time": "2022-06-24T17:55:41.443Z"
   },
   {
    "duration": 17,
    "start_time": "2022-06-24T17:55:41.514Z"
   },
   {
    "duration": 67,
    "start_time": "2022-06-24T17:55:41.533Z"
   },
   {
    "duration": 8,
    "start_time": "2022-06-24T17:55:41.602Z"
   },
   {
    "duration": 11,
    "start_time": "2022-06-24T17:55:41.613Z"
   },
   {
    "duration": 21,
    "start_time": "2022-06-24T17:55:41.626Z"
   },
   {
    "duration": 48,
    "start_time": "2022-06-24T17:55:41.670Z"
   },
   {
    "duration": 93,
    "start_time": "2022-06-24T17:55:41.720Z"
   },
   {
    "duration": 46,
    "start_time": "2022-06-24T17:55:41.815Z"
   },
   {
    "duration": 11,
    "start_time": "2022-06-24T17:55:41.868Z"
   },
   {
    "duration": 59,
    "start_time": "2022-06-24T17:55:41.882Z"
   },
   {
    "duration": 58,
    "start_time": "2022-06-24T17:55:41.942Z"
   },
   {
    "duration": 27,
    "start_time": "2022-06-24T17:55:42.002Z"
   },
   {
    "duration": 20,
    "start_time": "2022-06-24T17:55:42.031Z"
   },
   {
    "duration": 108,
    "start_time": "2022-06-24T18:03:21.200Z"
   },
   {
    "duration": 72,
    "start_time": "2022-06-24T18:03:43.495Z"
   },
   {
    "duration": 82,
    "start_time": "2022-06-24T18:03:49.198Z"
   },
   {
    "duration": 54,
    "start_time": "2022-06-24T18:04:35.318Z"
   },
   {
    "duration": 1052,
    "start_time": "2022-06-24T18:04:44.567Z"
   },
   {
    "duration": 1233,
    "start_time": "2022-06-24T18:04:45.621Z"
   },
   {
    "duration": 42,
    "start_time": "2022-06-24T18:04:46.855Z"
   },
   {
    "duration": 46,
    "start_time": "2022-06-24T18:04:46.902Z"
   },
   {
    "duration": 60,
    "start_time": "2022-06-24T18:04:46.949Z"
   },
   {
    "duration": 34,
    "start_time": "2022-06-24T18:04:47.010Z"
   },
   {
    "duration": 47,
    "start_time": "2022-06-24T18:04:47.046Z"
   },
   {
    "duration": 43,
    "start_time": "2022-06-24T18:04:47.095Z"
   },
   {
    "duration": 8,
    "start_time": "2022-06-24T18:04:47.140Z"
   },
   {
    "duration": 11,
    "start_time": "2022-06-24T18:04:47.169Z"
   },
   {
    "duration": 33,
    "start_time": "2022-06-24T18:04:47.181Z"
   },
   {
    "duration": 37,
    "start_time": "2022-06-24T18:04:47.216Z"
   },
   {
    "duration": 70,
    "start_time": "2022-06-24T18:04:47.254Z"
   },
   {
    "duration": 65,
    "start_time": "2022-06-24T18:04:47.325Z"
   },
   {
    "duration": 10,
    "start_time": "2022-06-24T18:04:47.392Z"
   },
   {
    "duration": 41,
    "start_time": "2022-06-24T18:04:47.403Z"
   },
   {
    "duration": 56,
    "start_time": "2022-06-24T18:04:47.446Z"
   },
   {
    "duration": 27,
    "start_time": "2022-06-24T18:04:47.504Z"
   },
   {
    "duration": 926,
    "start_time": "2022-06-24T18:05:00.998Z"
   },
   {
    "duration": 1200,
    "start_time": "2022-06-24T18:05:01.927Z"
   },
   {
    "duration": 29,
    "start_time": "2022-06-24T18:05:03.129Z"
   },
   {
    "duration": 73,
    "start_time": "2022-06-24T18:05:03.159Z"
   },
   {
    "duration": 45,
    "start_time": "2022-06-24T18:05:03.234Z"
   },
   {
    "duration": 44,
    "start_time": "2022-06-24T18:05:03.281Z"
   },
   {
    "duration": 18,
    "start_time": "2022-06-24T18:05:03.326Z"
   },
   {
    "duration": 42,
    "start_time": "2022-06-24T18:05:03.375Z"
   },
   {
    "duration": 11,
    "start_time": "2022-06-24T18:05:03.419Z"
   },
   {
    "duration": 14,
    "start_time": "2022-06-24T18:05:03.431Z"
   },
   {
    "duration": 52,
    "start_time": "2022-06-24T18:05:03.446Z"
   },
   {
    "duration": 45,
    "start_time": "2022-06-24T18:05:03.502Z"
   },
   {
    "duration": 77,
    "start_time": "2022-06-24T18:05:03.549Z"
   },
   {
    "duration": 59,
    "start_time": "2022-06-24T18:05:03.629Z"
   },
   {
    "duration": 16,
    "start_time": "2022-06-24T18:05:03.690Z"
   },
   {
    "duration": 46,
    "start_time": "2022-06-24T18:05:03.708Z"
   },
   {
    "duration": 53,
    "start_time": "2022-06-24T18:05:03.756Z"
   },
   {
    "duration": 28,
    "start_time": "2022-06-24T18:05:03.811Z"
   },
   {
    "duration": 72,
    "start_time": "2022-06-24T18:06:03.136Z"
   },
   {
    "duration": 0,
    "start_time": "2022-06-24T18:06:15.501Z"
   },
   {
    "duration": 0,
    "start_time": "2022-06-24T18:06:15.502Z"
   },
   {
    "duration": 0,
    "start_time": "2022-06-24T18:06:15.503Z"
   },
   {
    "duration": 0,
    "start_time": "2022-06-24T18:06:15.504Z"
   },
   {
    "duration": 0,
    "start_time": "2022-06-24T18:06:15.506Z"
   },
   {
    "duration": 0,
    "start_time": "2022-06-24T18:06:15.507Z"
   },
   {
    "duration": 0,
    "start_time": "2022-06-24T18:06:15.508Z"
   },
   {
    "duration": 0,
    "start_time": "2022-06-24T18:06:15.510Z"
   },
   {
    "duration": 0,
    "start_time": "2022-06-24T18:06:15.511Z"
   },
   {
    "duration": 0,
    "start_time": "2022-06-24T18:06:15.513Z"
   },
   {
    "duration": 0,
    "start_time": "2022-06-24T18:06:15.514Z"
   },
   {
    "duration": 1,
    "start_time": "2022-06-24T18:06:15.514Z"
   },
   {
    "duration": 0,
    "start_time": "2022-06-24T18:06:15.516Z"
   },
   {
    "duration": 0,
    "start_time": "2022-06-24T18:06:15.517Z"
   },
   {
    "duration": 0,
    "start_time": "2022-06-24T18:06:15.518Z"
   },
   {
    "duration": 0,
    "start_time": "2022-06-24T18:06:15.519Z"
   },
   {
    "duration": 1,
    "start_time": "2022-06-24T18:06:15.520Z"
   },
   {
    "duration": 0,
    "start_time": "2022-06-24T18:06:15.521Z"
   },
   {
    "duration": 0,
    "start_time": "2022-06-24T18:06:15.522Z"
   },
   {
    "duration": 879,
    "start_time": "2022-06-24T18:07:27.094Z"
   },
   {
    "duration": 472,
    "start_time": "2022-06-24T18:07:27.975Z"
   },
   {
    "duration": 35,
    "start_time": "2022-06-24T18:07:28.448Z"
   },
   {
    "duration": 109,
    "start_time": "2022-06-24T18:07:28.485Z"
   },
   {
    "duration": 56,
    "start_time": "2022-06-24T18:07:28.599Z"
   },
   {
    "duration": 57,
    "start_time": "2022-06-24T18:07:28.657Z"
   },
   {
    "duration": 14,
    "start_time": "2022-06-24T18:07:28.716Z"
   },
   {
    "duration": 71,
    "start_time": "2022-06-24T18:07:28.732Z"
   },
   {
    "duration": 8,
    "start_time": "2022-06-24T18:07:28.805Z"
   },
   {
    "duration": 10,
    "start_time": "2022-06-24T18:07:28.815Z"
   },
   {
    "duration": 19,
    "start_time": "2022-06-24T18:07:28.826Z"
   },
   {
    "duration": 71,
    "start_time": "2022-06-24T18:07:28.847Z"
   },
   {
    "duration": 95,
    "start_time": "2022-06-24T18:07:28.921Z"
   },
   {
    "duration": 62,
    "start_time": "2022-06-24T18:07:29.020Z"
   },
   {
    "duration": 17,
    "start_time": "2022-06-24T18:07:29.090Z"
   },
   {
    "duration": 43,
    "start_time": "2022-06-24T18:07:29.111Z"
   },
   {
    "duration": 51,
    "start_time": "2022-06-24T18:07:29.157Z"
   },
   {
    "duration": 33,
    "start_time": "2022-06-24T18:07:29.210Z"
   },
   {
    "duration": 143,
    "start_time": "2022-06-24T18:07:29.245Z"
   },
   {
    "duration": 28,
    "start_time": "2022-06-24T18:08:24.262Z"
   },
   {
    "duration": 20,
    "start_time": "2022-06-24T18:10:19.387Z"
   },
   {
    "duration": 1042,
    "start_time": "2022-06-24T18:10:30.067Z"
   },
   {
    "duration": 510,
    "start_time": "2022-06-24T18:10:31.111Z"
   },
   {
    "duration": 29,
    "start_time": "2022-06-24T18:10:31.623Z"
   },
   {
    "duration": 83,
    "start_time": "2022-06-24T18:10:31.654Z"
   },
   {
    "duration": 53,
    "start_time": "2022-06-24T18:10:31.739Z"
   },
   {
    "duration": 40,
    "start_time": "2022-06-24T18:10:31.794Z"
   },
   {
    "duration": 17,
    "start_time": "2022-06-24T18:10:31.836Z"
   },
   {
    "duration": 55,
    "start_time": "2022-06-24T18:10:31.855Z"
   },
   {
    "duration": 10,
    "start_time": "2022-06-24T18:10:31.913Z"
   },
   {
    "duration": 16,
    "start_time": "2022-06-24T18:10:31.926Z"
   },
   {
    "duration": 43,
    "start_time": "2022-06-24T18:10:31.943Z"
   },
   {
    "duration": 63,
    "start_time": "2022-06-24T18:10:31.988Z"
   },
   {
    "duration": 80,
    "start_time": "2022-06-24T18:10:32.053Z"
   },
   {
    "duration": 63,
    "start_time": "2022-06-24T18:10:32.135Z"
   },
   {
    "duration": 10,
    "start_time": "2022-06-24T18:10:32.201Z"
   },
   {
    "duration": 71,
    "start_time": "2022-06-24T18:10:32.213Z"
   },
   {
    "duration": 43,
    "start_time": "2022-06-24T18:10:32.287Z"
   },
   {
    "duration": 43,
    "start_time": "2022-06-24T18:10:32.331Z"
   },
   {
    "duration": 127,
    "start_time": "2022-06-24T18:10:32.375Z"
   },
   {
    "duration": 99,
    "start_time": "2022-06-24T18:10:39.205Z"
   },
   {
    "duration": 49,
    "start_time": "2022-06-24T18:17:48.324Z"
   },
   {
    "duration": 9,
    "start_time": "2022-06-24T18:18:01.549Z"
   },
   {
    "duration": 919,
    "start_time": "2022-06-24T18:18:07.738Z"
   },
   {
    "duration": 980,
    "start_time": "2022-06-24T18:18:08.658Z"
   },
   {
    "duration": 30,
    "start_time": "2022-06-24T18:18:09.639Z"
   },
   {
    "duration": 53,
    "start_time": "2022-06-24T18:18:09.671Z"
   },
   {
    "duration": 57,
    "start_time": "2022-06-24T18:18:09.726Z"
   },
   {
    "duration": 41,
    "start_time": "2022-06-24T18:18:09.785Z"
   },
   {
    "duration": 42,
    "start_time": "2022-06-24T18:18:09.828Z"
   },
   {
    "duration": 37,
    "start_time": "2022-06-24T18:18:09.872Z"
   },
   {
    "duration": 11,
    "start_time": "2022-06-24T18:18:09.912Z"
   },
   {
    "duration": 8,
    "start_time": "2022-06-24T18:18:09.926Z"
   },
   {
    "duration": 46,
    "start_time": "2022-06-24T18:18:09.935Z"
   },
   {
    "duration": 43,
    "start_time": "2022-06-24T18:18:09.984Z"
   },
   {
    "duration": 74,
    "start_time": "2022-06-24T18:18:10.028Z"
   },
   {
    "duration": 44,
    "start_time": "2022-06-24T18:18:10.104Z"
   },
   {
    "duration": 26,
    "start_time": "2022-06-24T18:18:10.150Z"
   },
   {
    "duration": 40,
    "start_time": "2022-06-24T18:18:10.178Z"
   },
   {
    "duration": 49,
    "start_time": "2022-06-24T18:18:10.220Z"
   },
   {
    "duration": 27,
    "start_time": "2022-06-24T18:18:10.271Z"
   },
   {
    "duration": 47,
    "start_time": "2022-06-24T18:20:17.961Z"
   },
   {
    "duration": 838,
    "start_time": "2022-06-24T18:20:24.820Z"
   },
   {
    "duration": 889,
    "start_time": "2022-06-24T18:20:25.661Z"
   },
   {
    "duration": 26,
    "start_time": "2022-06-24T18:20:26.554Z"
   },
   {
    "duration": 40,
    "start_time": "2022-06-24T18:20:26.582Z"
   },
   {
    "duration": 55,
    "start_time": "2022-06-24T18:20:26.623Z"
   },
   {
    "duration": 36,
    "start_time": "2022-06-24T18:20:26.679Z"
   },
   {
    "duration": 15,
    "start_time": "2022-06-24T18:20:26.717Z"
   },
   {
    "duration": 55,
    "start_time": "2022-06-24T18:20:26.733Z"
   },
   {
    "duration": 7,
    "start_time": "2022-06-24T18:20:26.791Z"
   },
   {
    "duration": 10,
    "start_time": "2022-06-24T18:20:26.800Z"
   },
   {
    "duration": 15,
    "start_time": "2022-06-24T18:20:26.812Z"
   },
   {
    "duration": 59,
    "start_time": "2022-06-24T18:20:26.829Z"
   },
   {
    "duration": 57,
    "start_time": "2022-06-24T18:20:26.890Z"
   },
   {
    "duration": 59,
    "start_time": "2022-06-24T18:20:26.949Z"
   },
   {
    "duration": 8,
    "start_time": "2022-06-24T18:20:27.009Z"
   },
   {
    "duration": 55,
    "start_time": "2022-06-24T18:20:27.019Z"
   },
   {
    "duration": 34,
    "start_time": "2022-06-24T18:20:27.075Z"
   },
   {
    "duration": 25,
    "start_time": "2022-06-24T18:20:27.111Z"
   },
   {
    "duration": 111,
    "start_time": "2022-06-24T18:20:27.138Z"
   },
   {
    "duration": 16,
    "start_time": "2022-06-24T18:20:38.499Z"
   },
   {
    "duration": 16,
    "start_time": "2022-06-24T18:21:38.661Z"
   },
   {
    "duration": 9,
    "start_time": "2022-06-24T18:30:25.797Z"
   },
   {
    "duration": 8,
    "start_time": "2022-06-24T18:30:31.049Z"
   },
   {
    "duration": 8,
    "start_time": "2022-06-24T18:37:23.864Z"
   },
   {
    "duration": 13,
    "start_time": "2022-06-24T18:37:32.099Z"
   },
   {
    "duration": 46,
    "start_time": "2022-06-24T18:39:34.414Z"
   },
   {
    "duration": 879,
    "start_time": "2022-06-24T18:39:40.615Z"
   },
   {
    "duration": 924,
    "start_time": "2022-06-24T18:39:41.496Z"
   },
   {
    "duration": 30,
    "start_time": "2022-06-24T18:39:42.421Z"
   },
   {
    "duration": 50,
    "start_time": "2022-06-24T18:39:42.453Z"
   },
   {
    "duration": 34,
    "start_time": "2022-06-24T18:39:42.505Z"
   },
   {
    "duration": 54,
    "start_time": "2022-06-24T18:39:42.541Z"
   },
   {
    "duration": 16,
    "start_time": "2022-06-24T18:39:42.597Z"
   },
   {
    "duration": 60,
    "start_time": "2022-06-24T18:39:42.615Z"
   },
   {
    "duration": 9,
    "start_time": "2022-06-24T18:39:42.677Z"
   },
   {
    "duration": 6,
    "start_time": "2022-06-24T18:39:42.688Z"
   },
   {
    "duration": 17,
    "start_time": "2022-06-24T18:39:42.695Z"
   },
   {
    "duration": 69,
    "start_time": "2022-06-24T18:39:42.714Z"
   },
   {
    "duration": 60,
    "start_time": "2022-06-24T18:39:42.785Z"
   },
   {
    "duration": 58,
    "start_time": "2022-06-24T18:39:42.848Z"
   },
   {
    "duration": 11,
    "start_time": "2022-06-24T18:39:42.908Z"
   },
   {
    "duration": 116,
    "start_time": "2022-06-24T18:39:42.921Z"
   },
   {
    "duration": 0,
    "start_time": "2022-06-24T18:39:43.039Z"
   },
   {
    "duration": 0,
    "start_time": "2022-06-24T18:39:43.040Z"
   },
   {
    "duration": 0,
    "start_time": "2022-06-24T18:39:43.041Z"
   },
   {
    "duration": 25,
    "start_time": "2022-06-24T18:39:56.397Z"
   },
   {
    "duration": 9,
    "start_time": "2022-06-24T18:40:55.467Z"
   },
   {
    "duration": 22,
    "start_time": "2022-06-24T18:41:02.267Z"
   },
   {
    "duration": 20,
    "start_time": "2022-06-24T18:41:54.122Z"
   },
   {
    "duration": 12,
    "start_time": "2022-06-24T18:42:27.193Z"
   },
   {
    "duration": 32,
    "start_time": "2022-06-24T18:42:37.925Z"
   },
   {
    "duration": 23,
    "start_time": "2022-06-24T18:42:38.474Z"
   },
   {
    "duration": 19,
    "start_time": "2022-06-24T18:42:41.634Z"
   },
   {
    "duration": 18,
    "start_time": "2022-06-24T18:43:03.693Z"
   },
   {
    "duration": 18,
    "start_time": "2022-06-24T18:43:12.704Z"
   },
   {
    "duration": 38,
    "start_time": "2022-06-24T18:51:59.095Z"
   },
   {
    "duration": 22,
    "start_time": "2022-06-24T18:53:49.829Z"
   },
   {
    "duration": 30,
    "start_time": "2022-06-24T18:53:58.178Z"
   },
   {
    "duration": 39,
    "start_time": "2022-06-24T18:54:18.393Z"
   },
   {
    "duration": 19,
    "start_time": "2022-06-24T18:57:46.629Z"
   },
   {
    "duration": 29,
    "start_time": "2022-06-24T18:58:29.573Z"
   },
   {
    "duration": 40,
    "start_time": "2022-06-24T18:58:40.804Z"
   },
   {
    "duration": 32,
    "start_time": "2022-06-24T19:03:03.878Z"
   },
   {
    "duration": 34,
    "start_time": "2022-06-24T19:03:40.823Z"
   },
   {
    "duration": 15,
    "start_time": "2022-06-24T19:06:43.343Z"
   },
   {
    "duration": 1166,
    "start_time": "2022-06-24T19:07:08.229Z"
   },
   {
    "duration": 1338,
    "start_time": "2022-06-24T19:07:24.808Z"
   },
   {
    "duration": 930,
    "start_time": "2022-06-24T19:07:32.130Z"
   },
   {
    "duration": 448,
    "start_time": "2022-06-24T19:07:33.062Z"
   },
   {
    "duration": 28,
    "start_time": "2022-06-24T19:07:33.511Z"
   },
   {
    "duration": 62,
    "start_time": "2022-06-24T19:07:33.542Z"
   },
   {
    "duration": 38,
    "start_time": "2022-06-24T19:07:33.606Z"
   },
   {
    "duration": 57,
    "start_time": "2022-06-24T19:07:33.646Z"
   },
   {
    "duration": 19,
    "start_time": "2022-06-24T19:07:33.705Z"
   },
   {
    "duration": 52,
    "start_time": "2022-06-24T19:07:33.726Z"
   },
   {
    "duration": 9,
    "start_time": "2022-06-24T19:07:33.781Z"
   },
   {
    "duration": 25,
    "start_time": "2022-06-24T19:07:33.793Z"
   },
   {
    "duration": 32,
    "start_time": "2022-06-24T19:07:33.820Z"
   },
   {
    "duration": 56,
    "start_time": "2022-06-24T19:07:33.854Z"
   },
   {
    "duration": 60,
    "start_time": "2022-06-24T19:07:33.912Z"
   },
   {
    "duration": 51,
    "start_time": "2022-06-24T19:07:33.974Z"
   },
   {
    "duration": 1197,
    "start_time": "2022-06-24T19:07:34.026Z"
   },
   {
    "duration": 0,
    "start_time": "2022-06-24T19:07:35.225Z"
   },
   {
    "duration": 0,
    "start_time": "2022-06-24T19:07:35.226Z"
   },
   {
    "duration": 0,
    "start_time": "2022-06-24T19:07:35.227Z"
   },
   {
    "duration": 0,
    "start_time": "2022-06-24T19:07:35.228Z"
   },
   {
    "duration": 1415,
    "start_time": "2022-06-24T19:08:02.113Z"
   },
   {
    "duration": 988,
    "start_time": "2022-06-24T19:09:02.812Z"
   },
   {
    "duration": 1344,
    "start_time": "2022-06-24T19:09:33.223Z"
   },
   {
    "duration": 928,
    "start_time": "2022-06-24T19:09:42.004Z"
   },
   {
    "duration": 462,
    "start_time": "2022-06-24T19:09:42.934Z"
   },
   {
    "duration": 28,
    "start_time": "2022-06-24T19:09:43.401Z"
   },
   {
    "duration": 65,
    "start_time": "2022-06-24T19:09:43.431Z"
   },
   {
    "duration": 32,
    "start_time": "2022-06-24T19:09:43.499Z"
   },
   {
    "duration": 74,
    "start_time": "2022-06-24T19:09:43.533Z"
   },
   {
    "duration": 19,
    "start_time": "2022-06-24T19:09:43.609Z"
   },
   {
    "duration": 65,
    "start_time": "2022-06-24T19:09:43.630Z"
   },
   {
    "duration": 9,
    "start_time": "2022-06-24T19:09:43.697Z"
   },
   {
    "duration": 7,
    "start_time": "2022-06-24T19:09:43.708Z"
   },
   {
    "duration": 14,
    "start_time": "2022-06-24T19:09:43.716Z"
   },
   {
    "duration": 77,
    "start_time": "2022-06-24T19:09:43.732Z"
   },
   {
    "duration": 78,
    "start_time": "2022-06-24T19:09:43.810Z"
   },
   {
    "duration": 42,
    "start_time": "2022-06-24T19:09:43.890Z"
   },
   {
    "duration": 8,
    "start_time": "2022-06-24T19:09:43.933Z"
   },
   {
    "duration": 54,
    "start_time": "2022-06-24T19:09:43.943Z"
   },
   {
    "duration": 21,
    "start_time": "2022-06-24T19:09:43.999Z"
   },
   {
    "duration": 21,
    "start_time": "2022-06-24T19:09:44.022Z"
   },
   {
    "duration": 73,
    "start_time": "2022-06-24T19:09:44.045Z"
   },
   {
    "duration": 54,
    "start_time": "2022-06-24T19:10:53.771Z"
   },
   {
    "duration": 939,
    "start_time": "2022-06-24T19:11:09.730Z"
   },
   {
    "duration": 450,
    "start_time": "2022-06-24T19:11:10.673Z"
   },
   {
    "duration": 28,
    "start_time": "2022-06-24T19:11:11.125Z"
   },
   {
    "duration": 62,
    "start_time": "2022-06-24T19:11:11.155Z"
   },
   {
    "duration": 50,
    "start_time": "2022-06-24T19:11:11.219Z"
   },
   {
    "duration": 48,
    "start_time": "2022-06-24T19:11:11.271Z"
   },
   {
    "duration": 50,
    "start_time": "2022-06-24T19:11:11.320Z"
   },
   {
    "duration": 39,
    "start_time": "2022-06-24T19:11:11.372Z"
   },
   {
    "duration": 9,
    "start_time": "2022-06-24T19:11:11.413Z"
   },
   {
    "duration": 12,
    "start_time": "2022-06-24T19:11:11.425Z"
   },
   {
    "duration": 50,
    "start_time": "2022-06-24T19:11:11.439Z"
   },
   {
    "duration": 47,
    "start_time": "2022-06-24T19:11:11.491Z"
   },
   {
    "duration": 86,
    "start_time": "2022-06-24T19:11:11.541Z"
   },
   {
    "duration": 57,
    "start_time": "2022-06-24T19:11:11.629Z"
   },
   {
    "duration": 7,
    "start_time": "2022-06-24T19:11:11.689Z"
   },
   {
    "duration": 31,
    "start_time": "2022-06-24T19:11:11.698Z"
   },
   {
    "duration": 37,
    "start_time": "2022-06-24T19:11:11.731Z"
   },
   {
    "duration": 26,
    "start_time": "2022-06-24T19:11:11.770Z"
   },
   {
    "duration": 34,
    "start_time": "2022-06-24T19:11:11.798Z"
   },
   {
    "duration": 136,
    "start_time": "2022-06-24T19:11:29.051Z"
   },
   {
    "duration": 992,
    "start_time": "2022-06-24T19:11:38.401Z"
   },
   {
    "duration": 443,
    "start_time": "2022-06-24T19:11:39.395Z"
   },
   {
    "duration": 30,
    "start_time": "2022-06-24T19:11:39.839Z"
   },
   {
    "duration": 59,
    "start_time": "2022-06-24T19:11:39.871Z"
   },
   {
    "duration": 71,
    "start_time": "2022-06-24T19:11:39.934Z"
   },
   {
    "duration": 39,
    "start_time": "2022-06-24T19:11:40.007Z"
   },
   {
    "duration": 34,
    "start_time": "2022-06-24T19:11:40.047Z"
   },
   {
    "duration": 43,
    "start_time": "2022-06-24T19:11:40.083Z"
   },
   {
    "duration": 39,
    "start_time": "2022-06-24T19:11:40.128Z"
   },
   {
    "duration": 10,
    "start_time": "2022-06-24T19:11:40.172Z"
   },
   {
    "duration": 22,
    "start_time": "2022-06-24T19:11:40.184Z"
   },
   {
    "duration": 67,
    "start_time": "2022-06-24T19:11:40.208Z"
   },
   {
    "duration": 66,
    "start_time": "2022-06-24T19:11:40.277Z"
   },
   {
    "duration": 70,
    "start_time": "2022-06-24T19:11:40.346Z"
   },
   {
    "duration": 8,
    "start_time": "2022-06-24T19:11:40.418Z"
   },
   {
    "duration": 59,
    "start_time": "2022-06-24T19:11:40.429Z"
   },
   {
    "duration": 24,
    "start_time": "2022-06-24T19:11:40.489Z"
   },
   {
    "duration": 23,
    "start_time": "2022-06-24T19:11:40.514Z"
   },
   {
    "duration": 145,
    "start_time": "2022-06-24T19:11:40.538Z"
   },
   {
    "duration": 20,
    "start_time": "2022-06-24T19:17:04.845Z"
   },
   {
    "duration": 32,
    "start_time": "2022-06-24T19:17:24.318Z"
   },
   {
    "duration": 48,
    "start_time": "2022-06-24T19:17:45.061Z"
   },
   {
    "duration": 948,
    "start_time": "2022-06-24T19:17:57.918Z"
   },
   {
    "duration": 563,
    "start_time": "2022-06-24T19:17:58.869Z"
   },
   {
    "duration": 54,
    "start_time": "2022-06-24T19:17:59.434Z"
   },
   {
    "duration": 57,
    "start_time": "2022-06-24T19:17:59.492Z"
   },
   {
    "duration": 59,
    "start_time": "2022-06-24T19:17:59.551Z"
   },
   {
    "duration": 93,
    "start_time": "2022-06-24T19:17:59.614Z"
   },
   {
    "duration": 18,
    "start_time": "2022-06-24T19:17:59.709Z"
   },
   {
    "duration": 61,
    "start_time": "2022-06-24T19:17:59.730Z"
   },
   {
    "duration": 10,
    "start_time": "2022-06-24T19:17:59.795Z"
   },
   {
    "duration": 21,
    "start_time": "2022-06-24T19:17:59.808Z"
   },
   {
    "duration": 26,
    "start_time": "2022-06-24T19:17:59.831Z"
   },
   {
    "duration": 56,
    "start_time": "2022-06-24T19:17:59.876Z"
   },
   {
    "duration": 67,
    "start_time": "2022-06-24T19:17:59.934Z"
   },
   {
    "duration": 47,
    "start_time": "2022-06-24T19:18:00.003Z"
   },
   {
    "duration": 21,
    "start_time": "2022-06-24T19:18:00.052Z"
   },
   {
    "duration": 45,
    "start_time": "2022-06-24T19:18:00.076Z"
   },
   {
    "duration": 21,
    "start_time": "2022-06-24T19:18:00.124Z"
   },
   {
    "duration": 35,
    "start_time": "2022-06-24T19:18:00.168Z"
   },
   {
    "duration": 34,
    "start_time": "2022-06-24T19:18:00.204Z"
   },
   {
    "duration": 114,
    "start_time": "2022-06-24T19:24:08.193Z"
   },
   {
    "duration": 20,
    "start_time": "2022-06-24T19:24:21.706Z"
   },
   {
    "duration": 878,
    "start_time": "2022-06-24T19:26:30.579Z"
   },
   {
    "duration": 438,
    "start_time": "2022-06-24T19:26:31.459Z"
   },
   {
    "duration": 26,
    "start_time": "2022-06-24T19:26:31.899Z"
   },
   {
    "duration": 59,
    "start_time": "2022-06-24T19:26:31.927Z"
   },
   {
    "duration": 32,
    "start_time": "2022-06-24T19:26:31.988Z"
   },
   {
    "duration": 55,
    "start_time": "2022-06-24T19:26:32.021Z"
   },
   {
    "duration": 16,
    "start_time": "2022-06-24T19:26:32.078Z"
   },
   {
    "duration": 47,
    "start_time": "2022-06-24T19:26:32.096Z"
   },
   {
    "duration": 9,
    "start_time": "2022-06-24T19:26:32.145Z"
   },
   {
    "duration": 24,
    "start_time": "2022-06-24T19:26:32.155Z"
   },
   {
    "duration": 53,
    "start_time": "2022-06-24T19:26:32.181Z"
   },
   {
    "duration": 65,
    "start_time": "2022-06-24T19:26:32.236Z"
   },
   {
    "duration": 64,
    "start_time": "2022-06-24T19:26:32.304Z"
   },
   {
    "duration": 53,
    "start_time": "2022-06-24T19:26:32.371Z"
   },
   {
    "duration": 8,
    "start_time": "2022-06-24T19:26:32.425Z"
   },
   {
    "duration": 51,
    "start_time": "2022-06-24T19:26:32.435Z"
   },
   {
    "duration": 21,
    "start_time": "2022-06-24T19:26:32.487Z"
   },
   {
    "duration": 34,
    "start_time": "2022-06-24T19:26:32.510Z"
   },
   {
    "duration": 45,
    "start_time": "2022-06-24T19:26:32.545Z"
   },
   {
    "duration": 39,
    "start_time": "2022-06-24T19:27:13.528Z"
   },
   {
    "duration": 5,
    "start_time": "2022-06-24T19:29:32.850Z"
   },
   {
    "duration": 9,
    "start_time": "2022-06-24T19:29:46.447Z"
   },
   {
    "duration": 92,
    "start_time": "2022-06-24T19:33:04.977Z"
   },
   {
    "duration": 5,
    "start_time": "2022-06-24T19:33:11.589Z"
   },
   {
    "duration": 9,
    "start_time": "2022-06-24T19:33:21.557Z"
   },
   {
    "duration": 9,
    "start_time": "2022-06-24T19:34:40.831Z"
   },
   {
    "duration": 16,
    "start_time": "2022-06-24T21:01:46.505Z"
   },
   {
    "duration": 32,
    "start_time": "2022-06-24T21:01:53.184Z"
   },
   {
    "duration": 15,
    "start_time": "2022-06-24T21:02:19.902Z"
   },
   {
    "duration": 16,
    "start_time": "2022-06-24T21:03:32.779Z"
   },
   {
    "duration": 39,
    "start_time": "2022-06-24T21:03:37.643Z"
   },
   {
    "duration": 16,
    "start_time": "2022-06-24T21:04:34.480Z"
   },
   {
    "duration": 3,
    "start_time": "2022-06-24T21:29:51.836Z"
   },
   {
    "duration": 3,
    "start_time": "2022-06-24T21:29:54.718Z"
   },
   {
    "duration": 662,
    "start_time": "2022-06-24T21:30:30.518Z"
   },
   {
    "duration": 911,
    "start_time": "2022-06-24T21:30:45.976Z"
   },
   {
    "duration": 445,
    "start_time": "2022-06-24T21:30:46.890Z"
   },
   {
    "duration": 28,
    "start_time": "2022-06-24T21:30:47.337Z"
   },
   {
    "duration": 47,
    "start_time": "2022-06-24T21:30:47.367Z"
   },
   {
    "duration": 55,
    "start_time": "2022-06-24T21:30:47.416Z"
   },
   {
    "duration": 47,
    "start_time": "2022-06-24T21:30:47.473Z"
   },
   {
    "duration": 17,
    "start_time": "2022-06-24T21:30:47.522Z"
   },
   {
    "duration": 70,
    "start_time": "2022-06-24T21:30:47.540Z"
   },
   {
    "duration": 12,
    "start_time": "2022-06-24T21:30:47.613Z"
   },
   {
    "duration": 13,
    "start_time": "2022-06-24T21:30:47.626Z"
   },
   {
    "duration": 14,
    "start_time": "2022-06-24T21:30:47.668Z"
   },
   {
    "duration": 42,
    "start_time": "2022-06-24T21:30:47.683Z"
   },
   {
    "duration": 87,
    "start_time": "2022-06-24T21:30:47.727Z"
   },
   {
    "duration": 53,
    "start_time": "2022-06-24T21:30:47.816Z"
   },
   {
    "duration": 7,
    "start_time": "2022-06-24T21:30:47.871Z"
   },
   {
    "duration": 33,
    "start_time": "2022-06-24T21:30:47.880Z"
   },
   {
    "duration": 24,
    "start_time": "2022-06-24T21:30:47.915Z"
   },
   {
    "duration": 25,
    "start_time": "2022-06-24T21:30:47.969Z"
   },
   {
    "duration": 40,
    "start_time": "2022-06-24T21:30:47.997Z"
   },
   {
    "duration": 34,
    "start_time": "2022-06-24T21:30:48.038Z"
   },
   {
    "duration": 18,
    "start_time": "2022-06-24T21:30:48.074Z"
   },
   {
    "duration": 18,
    "start_time": "2022-06-24T21:30:48.094Z"
   },
   {
    "duration": 29,
    "start_time": "2022-06-24T21:30:48.114Z"
   },
   {
    "duration": 826,
    "start_time": "2022-06-24T21:30:48.145Z"
   },
   {
    "duration": 587,
    "start_time": "2022-06-24T21:31:16.564Z"
   },
   {
    "duration": 17,
    "start_time": "2022-06-24T21:31:36.094Z"
   },
   {
    "duration": 16,
    "start_time": "2022-06-24T21:32:20.555Z"
   },
   {
    "duration": 605,
    "start_time": "2022-06-24T21:32:38.302Z"
   },
   {
    "duration": 48,
    "start_time": "2022-06-24T21:34:54.011Z"
   },
   {
    "duration": 68,
    "start_time": "2022-06-24T21:35:05.645Z"
   },
   {
    "duration": 63,
    "start_time": "2022-06-24T21:36:33.451Z"
   },
   {
    "duration": 64,
    "start_time": "2022-06-24T21:36:58.113Z"
   },
   {
    "duration": 48,
    "start_time": "2022-06-24T21:53:47.731Z"
   },
   {
    "duration": 24,
    "start_time": "2022-06-24T21:53:56.716Z"
   },
   {
    "duration": 872,
    "start_time": "2022-06-24T21:54:04.401Z"
   },
   {
    "duration": 422,
    "start_time": "2022-06-24T21:54:05.275Z"
   },
   {
    "duration": 29,
    "start_time": "2022-06-24T21:54:05.698Z"
   },
   {
    "duration": 56,
    "start_time": "2022-06-24T21:54:05.730Z"
   },
   {
    "duration": 35,
    "start_time": "2022-06-24T21:54:05.788Z"
   },
   {
    "duration": 64,
    "start_time": "2022-06-24T21:54:05.825Z"
   },
   {
    "duration": 17,
    "start_time": "2022-06-24T21:54:05.891Z"
   },
   {
    "duration": 64,
    "start_time": "2022-06-24T21:54:05.910Z"
   },
   {
    "duration": 9,
    "start_time": "2022-06-24T21:54:05.977Z"
   },
   {
    "duration": 4,
    "start_time": "2022-06-24T21:54:05.990Z"
   },
   {
    "duration": 15,
    "start_time": "2022-06-24T21:54:05.996Z"
   },
   {
    "duration": 66,
    "start_time": "2022-06-24T21:54:06.013Z"
   },
   {
    "duration": 63,
    "start_time": "2022-06-24T21:54:06.081Z"
   },
   {
    "duration": 58,
    "start_time": "2022-06-24T21:54:06.146Z"
   },
   {
    "duration": 6,
    "start_time": "2022-06-24T21:54:06.206Z"
   },
   {
    "duration": 25,
    "start_time": "2022-06-24T21:54:06.214Z"
   },
   {
    "duration": 44,
    "start_time": "2022-06-24T21:54:06.241Z"
   },
   {
    "duration": 31,
    "start_time": "2022-06-24T21:54:06.287Z"
   },
   {
    "duration": 51,
    "start_time": "2022-06-24T21:54:06.320Z"
   },
   {
    "duration": 9,
    "start_time": "2022-06-24T21:54:06.373Z"
   },
   {
    "duration": 10,
    "start_time": "2022-06-24T21:54:06.384Z"
   },
   {
    "duration": 9,
    "start_time": "2022-06-24T21:54:06.396Z"
   },
   {
    "duration": 16,
    "start_time": "2022-06-24T21:54:06.407Z"
   },
   {
    "duration": 145,
    "start_time": "2022-06-24T21:54:06.424Z"
   },
   {
    "duration": 27,
    "start_time": "2022-06-24T21:55:01.820Z"
   },
   {
    "duration": 880,
    "start_time": "2022-06-24T21:55:12.287Z"
   },
   {
    "duration": 407,
    "start_time": "2022-06-24T21:55:13.169Z"
   },
   {
    "duration": 28,
    "start_time": "2022-06-24T21:55:13.578Z"
   },
   {
    "duration": 41,
    "start_time": "2022-06-24T21:55:13.609Z"
   },
   {
    "duration": 43,
    "start_time": "2022-06-24T21:55:13.651Z"
   },
   {
    "duration": 37,
    "start_time": "2022-06-24T21:55:13.695Z"
   },
   {
    "duration": 40,
    "start_time": "2022-06-24T21:55:13.733Z"
   },
   {
    "duration": 35,
    "start_time": "2022-06-24T21:55:13.774Z"
   },
   {
    "duration": 9,
    "start_time": "2022-06-24T21:55:13.811Z"
   },
   {
    "duration": 4,
    "start_time": "2022-06-24T21:55:13.823Z"
   },
   {
    "duration": 48,
    "start_time": "2022-06-24T21:55:13.829Z"
   },
   {
    "duration": 44,
    "start_time": "2022-06-24T21:55:13.879Z"
   },
   {
    "duration": 66,
    "start_time": "2022-06-24T21:55:13.925Z"
   },
   {
    "duration": 44,
    "start_time": "2022-06-24T21:55:13.993Z"
   },
   {
    "duration": 6,
    "start_time": "2022-06-24T21:55:14.039Z"
   },
   {
    "duration": 45,
    "start_time": "2022-06-24T21:55:14.047Z"
   },
   {
    "duration": 24,
    "start_time": "2022-06-24T21:55:14.093Z"
   },
   {
    "duration": 20,
    "start_time": "2022-06-24T21:55:14.119Z"
   },
   {
    "duration": 58,
    "start_time": "2022-06-24T21:55:14.141Z"
   },
   {
    "duration": 9,
    "start_time": "2022-06-24T21:55:14.200Z"
   },
   {
    "duration": 13,
    "start_time": "2022-06-24T21:55:14.210Z"
   },
   {
    "duration": 13,
    "start_time": "2022-06-24T21:55:14.225Z"
   },
   {
    "duration": 33,
    "start_time": "2022-06-24T21:55:14.239Z"
   },
   {
    "duration": 111,
    "start_time": "2022-06-24T21:55:14.273Z"
   },
   {
    "duration": 56,
    "start_time": "2022-06-24T21:57:09.564Z"
   },
   {
    "duration": 51,
    "start_time": "2022-06-24T22:00:15.995Z"
   },
   {
    "duration": 81,
    "start_time": "2022-06-24T22:00:21.580Z"
   },
   {
    "duration": 64,
    "start_time": "2022-06-24T22:00:45.918Z"
   },
   {
    "duration": 824,
    "start_time": "2022-06-24T22:01:52.019Z"
   },
   {
    "duration": 387,
    "start_time": "2022-06-24T22:01:52.844Z"
   },
   {
    "duration": 25,
    "start_time": "2022-06-24T22:01:53.232Z"
   },
   {
    "duration": 38,
    "start_time": "2022-06-24T22:01:53.259Z"
   },
   {
    "duration": 28,
    "start_time": "2022-06-24T22:01:53.299Z"
   },
   {
    "duration": 54,
    "start_time": "2022-06-24T22:01:53.328Z"
   },
   {
    "duration": 15,
    "start_time": "2022-06-24T22:01:53.383Z"
   },
   {
    "duration": 33,
    "start_time": "2022-06-24T22:01:53.399Z"
   },
   {
    "duration": 37,
    "start_time": "2022-06-24T22:01:53.433Z"
   },
   {
    "duration": 5,
    "start_time": "2022-06-24T22:01:53.472Z"
   },
   {
    "duration": 11,
    "start_time": "2022-06-24T22:01:53.479Z"
   },
   {
    "duration": 37,
    "start_time": "2022-06-24T22:01:53.491Z"
   },
   {
    "duration": 83,
    "start_time": "2022-06-24T22:01:53.529Z"
   },
   {
    "duration": 41,
    "start_time": "2022-06-24T22:01:53.614Z"
   },
   {
    "duration": 6,
    "start_time": "2022-06-24T22:01:53.667Z"
   },
   {
    "duration": 25,
    "start_time": "2022-06-24T22:01:53.674Z"
   },
   {
    "duration": 19,
    "start_time": "2022-06-24T22:01:53.700Z"
   },
   {
    "duration": 20,
    "start_time": "2022-06-24T22:01:53.721Z"
   },
   {
    "duration": 34,
    "start_time": "2022-06-24T22:01:53.767Z"
   },
   {
    "duration": 10,
    "start_time": "2022-06-24T22:01:53.803Z"
   },
   {
    "duration": 8,
    "start_time": "2022-06-24T22:01:53.815Z"
   },
   {
    "duration": 11,
    "start_time": "2022-06-24T22:01:53.825Z"
   },
   {
    "duration": 41,
    "start_time": "2022-06-24T22:01:53.837Z"
   },
   {
    "duration": 62,
    "start_time": "2022-06-24T22:01:53.879Z"
   },
   {
    "duration": 8,
    "start_time": "2022-06-24T22:07:50.815Z"
   },
   {
    "duration": 8,
    "start_time": "2022-06-24T22:08:08.662Z"
   },
   {
    "duration": 49,
    "start_time": "2022-06-24T22:08:35.221Z"
   },
   {
    "duration": 832,
    "start_time": "2022-06-24T22:08:51.802Z"
   },
   {
    "duration": 384,
    "start_time": "2022-06-24T22:08:52.636Z"
   },
   {
    "duration": 26,
    "start_time": "2022-06-24T22:08:53.021Z"
   },
   {
    "duration": 39,
    "start_time": "2022-06-24T22:08:53.049Z"
   },
   {
    "duration": 31,
    "start_time": "2022-06-24T22:08:53.089Z"
   },
   {
    "duration": 53,
    "start_time": "2022-06-24T22:08:53.121Z"
   },
   {
    "duration": 15,
    "start_time": "2022-06-24T22:08:53.175Z"
   },
   {
    "duration": 34,
    "start_time": "2022-06-24T22:08:53.191Z"
   },
   {
    "duration": 7,
    "start_time": "2022-06-24T22:08:53.227Z"
   },
   {
    "duration": 6,
    "start_time": "2022-06-24T22:08:53.266Z"
   },
   {
    "duration": 12,
    "start_time": "2022-06-24T22:08:53.273Z"
   },
   {
    "duration": 38,
    "start_time": "2022-06-24T22:08:53.287Z"
   },
   {
    "duration": 71,
    "start_time": "2022-06-24T22:08:53.327Z"
   },
   {
    "duration": 40,
    "start_time": "2022-06-24T22:08:53.400Z"
   },
   {
    "duration": 8,
    "start_time": "2022-06-24T22:08:53.442Z"
   },
   {
    "duration": 9,
    "start_time": "2022-06-24T22:08:53.467Z"
   },
   {
    "duration": 26,
    "start_time": "2022-06-24T22:08:53.477Z"
   },
   {
    "duration": 18,
    "start_time": "2022-06-24T22:08:53.505Z"
   },
   {
    "duration": 19,
    "start_time": "2022-06-24T22:08:53.524Z"
   },
   {
    "duration": 41,
    "start_time": "2022-06-24T22:08:53.567Z"
   },
   {
    "duration": 8,
    "start_time": "2022-06-24T22:08:53.610Z"
   },
   {
    "duration": 9,
    "start_time": "2022-06-24T22:08:53.620Z"
   },
   {
    "duration": 8,
    "start_time": "2022-06-24T22:08:53.631Z"
   },
   {
    "duration": 39,
    "start_time": "2022-06-24T22:08:53.640Z"
   },
   {
    "duration": 66,
    "start_time": "2022-06-24T22:08:53.680Z"
   },
   {
    "duration": 79,
    "start_time": "2022-06-24T22:10:22.434Z"
   },
   {
    "duration": 47,
    "start_time": "2022-06-24T22:25:42.403Z"
   },
   {
    "duration": 84,
    "start_time": "2022-06-24T22:25:50.093Z"
   },
   {
    "duration": 77,
    "start_time": "2022-06-24T22:28:06.739Z"
   },
   {
    "duration": 74,
    "start_time": "2022-06-24T22:28:40.429Z"
   },
   {
    "duration": 756,
    "start_time": "2022-06-24T22:29:51.296Z"
   },
   {
    "duration": 774,
    "start_time": "2022-06-24T22:30:29.192Z"
   },
   {
    "duration": 76,
    "start_time": "2022-06-24T22:31:49.989Z"
   },
   {
    "duration": 78,
    "start_time": "2022-06-24T22:32:10.516Z"
   },
   {
    "duration": 67,
    "start_time": "2022-06-24T22:32:22.168Z"
   },
   {
    "duration": 68,
    "start_time": "2022-06-24T22:33:30.810Z"
   },
   {
    "duration": 22,
    "start_time": "2022-06-24T22:36:09.189Z"
   },
   {
    "duration": 22,
    "start_time": "2022-06-24T22:43:15.135Z"
   },
   {
    "duration": 22,
    "start_time": "2022-06-24T22:44:34.393Z"
   },
   {
    "duration": 79,
    "start_time": "2022-06-24T22:45:09.756Z"
   },
   {
    "duration": 78,
    "start_time": "2022-06-24T22:45:39.457Z"
   },
   {
    "duration": 78,
    "start_time": "2022-06-24T22:46:17.787Z"
   },
   {
    "duration": 77,
    "start_time": "2022-06-24T22:46:29.234Z"
   },
   {
    "duration": 94,
    "start_time": "2022-06-24T22:47:08.699Z"
   },
   {
    "duration": 56,
    "start_time": "2022-06-24T22:51:29.167Z"
   },
   {
    "duration": 103,
    "start_time": "2022-06-24T22:52:35.650Z"
   },
   {
    "duration": 124,
    "start_time": "2022-06-24T22:52:39.766Z"
   },
   {
    "duration": 126,
    "start_time": "2022-06-24T22:54:33.254Z"
   },
   {
    "duration": 3,
    "start_time": "2022-06-24T22:56:55.674Z"
   },
   {
    "duration": 398,
    "start_time": "2022-06-24T22:56:55.679Z"
   },
   {
    "duration": 18,
    "start_time": "2022-06-24T22:56:56.079Z"
   },
   {
    "duration": 39,
    "start_time": "2022-06-24T22:56:56.099Z"
   },
   {
    "duration": 43,
    "start_time": "2022-06-24T22:56:56.140Z"
   },
   {
    "duration": 34,
    "start_time": "2022-06-24T22:56:56.185Z"
   },
   {
    "duration": 14,
    "start_time": "2022-06-24T22:56:56.220Z"
   },
   {
    "duration": 55,
    "start_time": "2022-06-24T22:56:56.235Z"
   },
   {
    "duration": 8,
    "start_time": "2022-06-24T22:56:56.292Z"
   },
   {
    "duration": 10,
    "start_time": "2022-06-24T22:56:56.301Z"
   },
   {
    "duration": 18,
    "start_time": "2022-06-24T22:56:56.314Z"
   },
   {
    "duration": 50,
    "start_time": "2022-06-24T22:56:56.333Z"
   },
   {
    "duration": 56,
    "start_time": "2022-06-24T22:56:56.384Z"
   },
   {
    "duration": 54,
    "start_time": "2022-06-24T22:56:56.442Z"
   },
   {
    "duration": 6,
    "start_time": "2022-06-24T22:56:56.498Z"
   },
   {
    "duration": 10,
    "start_time": "2022-06-24T22:56:56.505Z"
   },
   {
    "duration": 28,
    "start_time": "2022-06-24T22:56:56.516Z"
   },
   {
    "duration": 34,
    "start_time": "2022-06-24T22:56:56.546Z"
   },
   {
    "duration": 20,
    "start_time": "2022-06-24T22:56:56.582Z"
   },
   {
    "duration": 39,
    "start_time": "2022-06-24T22:56:56.603Z"
   },
   {
    "duration": 32,
    "start_time": "2022-06-24T22:56:56.643Z"
   },
   {
    "duration": 9,
    "start_time": "2022-06-24T22:56:56.677Z"
   },
   {
    "duration": 8,
    "start_time": "2022-06-24T22:56:56.687Z"
   },
   {
    "duration": 19,
    "start_time": "2022-06-24T22:56:56.696Z"
   },
   {
    "duration": 139,
    "start_time": "2022-06-24T22:56:56.717Z"
   },
   {
    "duration": 870,
    "start_time": "2022-06-24T22:58:19.653Z"
   },
   {
    "duration": 395,
    "start_time": "2022-06-24T22:58:20.525Z"
   },
   {
    "duration": 26,
    "start_time": "2022-06-24T22:58:20.922Z"
   },
   {
    "duration": 44,
    "start_time": "2022-06-24T22:58:20.949Z"
   },
   {
    "duration": 28,
    "start_time": "2022-06-24T22:58:20.996Z"
   },
   {
    "duration": 49,
    "start_time": "2022-06-24T22:58:21.026Z"
   },
   {
    "duration": 15,
    "start_time": "2022-06-24T22:58:21.076Z"
   },
   {
    "duration": 33,
    "start_time": "2022-06-24T22:58:21.092Z"
   },
   {
    "duration": 8,
    "start_time": "2022-06-24T22:58:21.126Z"
   },
   {
    "duration": 35,
    "start_time": "2022-06-24T22:58:21.135Z"
   },
   {
    "duration": 17,
    "start_time": "2022-06-24T22:58:21.172Z"
   },
   {
    "duration": 38,
    "start_time": "2022-06-24T22:58:21.191Z"
   },
   {
    "duration": 68,
    "start_time": "2022-06-24T22:58:21.230Z"
   },
   {
    "duration": 41,
    "start_time": "2022-06-24T22:58:21.301Z"
   },
   {
    "duration": 6,
    "start_time": "2022-06-24T22:58:21.344Z"
   },
   {
    "duration": 7,
    "start_time": "2022-06-24T22:58:21.368Z"
   },
   {
    "duration": 27,
    "start_time": "2022-06-24T22:58:21.377Z"
   },
   {
    "duration": 19,
    "start_time": "2022-06-24T22:58:21.405Z"
   },
   {
    "duration": 43,
    "start_time": "2022-06-24T22:58:21.425Z"
   },
   {
    "duration": 39,
    "start_time": "2022-06-24T22:58:21.470Z"
   },
   {
    "duration": 9,
    "start_time": "2022-06-24T22:58:21.511Z"
   },
   {
    "duration": 8,
    "start_time": "2022-06-24T22:58:21.521Z"
   },
   {
    "duration": 7,
    "start_time": "2022-06-24T22:58:21.531Z"
   },
   {
    "duration": 20,
    "start_time": "2022-06-24T22:58:21.567Z"
   },
   {
    "duration": 129,
    "start_time": "2022-06-24T22:58:21.589Z"
   },
   {
    "duration": 117,
    "start_time": "2022-06-24T22:59:32.158Z"
   },
   {
    "duration": 53,
    "start_time": "2022-06-24T23:04:06.462Z"
   },
   {
    "duration": 4,
    "start_time": "2022-06-24T23:04:11.918Z"
   },
   {
    "duration": 918,
    "start_time": "2022-06-24T23:04:23.711Z"
   },
   {
    "duration": 872,
    "start_time": "2022-06-24T23:04:36.165Z"
   },
   {
    "duration": 411,
    "start_time": "2022-06-24T23:04:37.039Z"
   },
   {
    "duration": 26,
    "start_time": "2022-06-24T23:04:37.452Z"
   },
   {
    "duration": 42,
    "start_time": "2022-06-24T23:04:37.479Z"
   },
   {
    "duration": 49,
    "start_time": "2022-06-24T23:04:37.523Z"
   },
   {
    "duration": 37,
    "start_time": "2022-06-24T23:04:37.573Z"
   },
   {
    "duration": 13,
    "start_time": "2022-06-24T23:04:37.612Z"
   },
   {
    "duration": 62,
    "start_time": "2022-06-24T23:04:37.627Z"
   },
   {
    "duration": 7,
    "start_time": "2022-06-24T23:04:37.691Z"
   },
   {
    "duration": 6,
    "start_time": "2022-06-24T23:04:37.701Z"
   },
   {
    "duration": 12,
    "start_time": "2022-06-24T23:04:37.708Z"
   },
   {
    "duration": 56,
    "start_time": "2022-06-24T23:04:37.722Z"
   },
   {
    "duration": 58,
    "start_time": "2022-06-24T23:04:37.780Z"
   },
   {
    "duration": 55,
    "start_time": "2022-06-24T23:04:37.839Z"
   },
   {
    "duration": 6,
    "start_time": "2022-06-24T23:04:37.896Z"
   },
   {
    "duration": 8,
    "start_time": "2022-06-24T23:04:37.903Z"
   },
   {
    "duration": 25,
    "start_time": "2022-06-24T23:04:37.913Z"
   },
   {
    "duration": 42,
    "start_time": "2022-06-24T23:04:37.939Z"
   },
   {
    "duration": 21,
    "start_time": "2022-06-24T23:04:37.983Z"
   },
   {
    "duration": 39,
    "start_time": "2022-06-24T23:04:38.006Z"
   },
   {
    "duration": 28,
    "start_time": "2022-06-24T23:04:38.047Z"
   },
   {
    "duration": 8,
    "start_time": "2022-06-24T23:04:38.076Z"
   },
   {
    "duration": 7,
    "start_time": "2022-06-24T23:04:38.086Z"
   },
   {
    "duration": 9,
    "start_time": "2022-06-24T23:04:38.095Z"
   },
   {
    "duration": 16,
    "start_time": "2022-06-24T23:04:38.106Z"
   },
   {
    "duration": 136,
    "start_time": "2022-06-24T23:04:38.124Z"
   },
   {
    "duration": 165,
    "start_time": "2022-06-24T23:06:24.926Z"
   },
   {
    "duration": 172,
    "start_time": "2022-06-24T23:06:32.857Z"
   },
   {
    "duration": 821,
    "start_time": "2022-06-24T23:06:55.120Z"
   },
   {
    "duration": 399,
    "start_time": "2022-06-24T23:06:55.943Z"
   },
   {
    "duration": 27,
    "start_time": "2022-06-24T23:06:56.344Z"
   },
   {
    "duration": 42,
    "start_time": "2022-06-24T23:06:56.373Z"
   },
   {
    "duration": 51,
    "start_time": "2022-06-24T23:06:56.417Z"
   },
   {
    "duration": 35,
    "start_time": "2022-06-24T23:06:56.469Z"
   },
   {
    "duration": 15,
    "start_time": "2022-06-24T23:06:56.506Z"
   },
   {
    "duration": 60,
    "start_time": "2022-06-24T23:06:56.522Z"
   },
   {
    "duration": 8,
    "start_time": "2022-06-24T23:06:56.584Z"
   },
   {
    "duration": 7,
    "start_time": "2022-06-24T23:06:56.594Z"
   },
   {
    "duration": 15,
    "start_time": "2022-06-24T23:06:56.603Z"
   },
   {
    "duration": 57,
    "start_time": "2022-06-24T23:06:56.620Z"
   },
   {
    "duration": 59,
    "start_time": "2022-06-24T23:06:56.679Z"
   },
   {
    "duration": 63,
    "start_time": "2022-06-24T23:06:56.739Z"
   },
   {
    "duration": 7,
    "start_time": "2022-06-24T23:06:56.803Z"
   },
   {
    "duration": 8,
    "start_time": "2022-06-24T23:06:56.812Z"
   },
   {
    "duration": 48,
    "start_time": "2022-06-24T23:06:56.822Z"
   },
   {
    "duration": 22,
    "start_time": "2022-06-24T23:06:56.872Z"
   },
   {
    "duration": 22,
    "start_time": "2022-06-24T23:06:56.896Z"
   },
   {
    "duration": 65,
    "start_time": "2022-06-24T23:06:56.919Z"
   },
   {
    "duration": 10,
    "start_time": "2022-06-24T23:06:56.985Z"
   },
   {
    "duration": 22,
    "start_time": "2022-06-24T23:06:56.997Z"
   },
   {
    "duration": 8,
    "start_time": "2022-06-24T23:06:57.020Z"
   },
   {
    "duration": 18,
    "start_time": "2022-06-24T23:06:57.030Z"
   },
   {
    "duration": 23,
    "start_time": "2022-06-24T23:06:57.050Z"
   },
   {
    "duration": 188,
    "start_time": "2022-06-24T23:06:57.075Z"
   },
   {
    "duration": 171,
    "start_time": "2022-06-24T23:07:20.654Z"
   },
   {
    "duration": 178,
    "start_time": "2022-06-24T23:08:44.537Z"
   },
   {
    "duration": 765,
    "start_time": "2022-06-25T08:58:52.590Z"
   },
   {
    "duration": 989,
    "start_time": "2022-06-25T08:58:53.357Z"
   },
   {
    "duration": 24,
    "start_time": "2022-06-25T08:58:54.348Z"
   },
   {
    "duration": 46,
    "start_time": "2022-06-25T08:58:54.374Z"
   },
   {
    "duration": 50,
    "start_time": "2022-06-25T08:58:54.422Z"
   },
   {
    "duration": 45,
    "start_time": "2022-06-25T08:58:54.474Z"
   },
   {
    "duration": 32,
    "start_time": "2022-06-25T08:58:54.522Z"
   },
   {
    "duration": 30,
    "start_time": "2022-06-25T08:58:54.556Z"
   },
   {
    "duration": 7,
    "start_time": "2022-06-25T08:58:54.588Z"
   },
   {
    "duration": 5,
    "start_time": "2022-06-25T08:58:54.598Z"
   },
   {
    "duration": 11,
    "start_time": "2022-06-25T08:58:54.604Z"
   },
   {
    "duration": 63,
    "start_time": "2022-06-25T08:58:54.617Z"
   },
   {
    "duration": 50,
    "start_time": "2022-06-25T08:58:54.682Z"
   },
   {
    "duration": 47,
    "start_time": "2022-06-25T08:58:54.733Z"
   },
   {
    "duration": 5,
    "start_time": "2022-06-25T08:58:54.781Z"
   },
   {
    "duration": 6,
    "start_time": "2022-06-25T08:58:54.788Z"
   },
   {
    "duration": 22,
    "start_time": "2022-06-25T08:58:54.795Z"
   },
   {
    "duration": 35,
    "start_time": "2022-06-25T08:58:54.818Z"
   },
   {
    "duration": 16,
    "start_time": "2022-06-25T08:58:54.854Z"
   },
   {
    "duration": 33,
    "start_time": "2022-06-25T08:58:54.872Z"
   },
   {
    "duration": 7,
    "start_time": "2022-06-25T08:58:54.906Z"
   },
   {
    "duration": 9,
    "start_time": "2022-06-25T08:58:54.915Z"
   },
   {
    "duration": 31,
    "start_time": "2022-06-25T08:58:54.925Z"
   },
   {
    "duration": 8,
    "start_time": "2022-06-25T08:58:54.957Z"
   },
   {
    "duration": 13,
    "start_time": "2022-06-25T08:58:54.966Z"
   },
   {
    "duration": 177,
    "start_time": "2022-06-25T08:58:54.980Z"
   },
   {
    "duration": 12,
    "start_time": "2022-06-25T10:17:43.119Z"
   },
   {
    "duration": 26,
    "start_time": "2022-06-25T10:17:48.902Z"
   },
   {
    "duration": 27,
    "start_time": "2022-06-25T10:18:07.877Z"
   },
   {
    "duration": 1055,
    "start_time": "2022-06-25T10:18:42.168Z"
   },
   {
    "duration": 809,
    "start_time": "2022-06-25T10:19:55.153Z"
   },
   {
    "duration": 837,
    "start_time": "2022-06-25T12:36:59.802Z"
   },
   {
    "duration": 806,
    "start_time": "2022-06-25T12:37:14.516Z"
   },
   {
    "duration": 740,
    "start_time": "2022-06-25T12:37:36.422Z"
   },
   {
    "duration": 816,
    "start_time": "2022-06-25T12:37:47.533Z"
   },
   {
    "duration": 52,
    "start_time": "2022-06-25T12:41:21.834Z"
   },
   {
    "duration": 59,
    "start_time": "2022-06-25T12:46:38.732Z"
   },
   {
    "duration": 8,
    "start_time": "2022-06-25T12:51:12.170Z"
   },
   {
    "duration": 129,
    "start_time": "2022-06-25T12:51:23.951Z"
   },
   {
    "duration": 8,
    "start_time": "2022-06-25T12:53:00.252Z"
   },
   {
    "duration": 9,
    "start_time": "2022-06-25T12:53:08.462Z"
   },
   {
    "duration": 11,
    "start_time": "2022-06-25T12:55:55.081Z"
   },
   {
    "duration": 66,
    "start_time": "2022-06-25T12:56:18.226Z"
   },
   {
    "duration": 391,
    "start_time": "2022-06-25T12:56:18.293Z"
   },
   {
    "duration": 21,
    "start_time": "2022-06-25T12:56:18.686Z"
   },
   {
    "duration": 79,
    "start_time": "2022-06-25T12:56:18.710Z"
   },
   {
    "duration": 30,
    "start_time": "2022-06-25T12:56:18.790Z"
   },
   {
    "duration": 75,
    "start_time": "2022-06-25T12:56:18.822Z"
   },
   {
    "duration": 19,
    "start_time": "2022-06-25T12:56:18.899Z"
   },
   {
    "duration": 62,
    "start_time": "2022-06-25T12:56:18.919Z"
   },
   {
    "duration": 12,
    "start_time": "2022-06-25T12:56:18.984Z"
   },
   {
    "duration": 10,
    "start_time": "2022-06-25T12:56:19.000Z"
   },
   {
    "duration": 40,
    "start_time": "2022-06-25T12:56:19.012Z"
   },
   {
    "duration": 42,
    "start_time": "2022-06-25T12:56:19.054Z"
   },
   {
    "duration": 62,
    "start_time": "2022-06-25T12:56:19.098Z"
   },
   {
    "duration": 43,
    "start_time": "2022-06-25T12:56:19.161Z"
   },
   {
    "duration": 8,
    "start_time": "2022-06-25T12:56:19.205Z"
   },
   {
    "duration": 9,
    "start_time": "2022-06-25T12:56:19.215Z"
   },
   {
    "duration": 23,
    "start_time": "2022-06-25T12:56:19.251Z"
   },
   {
    "duration": 21,
    "start_time": "2022-06-25T12:56:19.276Z"
   },
   {
    "duration": 20,
    "start_time": "2022-06-25T12:56:19.299Z"
   },
   {
    "duration": 65,
    "start_time": "2022-06-25T12:56:19.321Z"
   },
   {
    "duration": 9,
    "start_time": "2022-06-25T12:56:19.387Z"
   },
   {
    "duration": 10,
    "start_time": "2022-06-25T12:56:19.398Z"
   },
   {
    "duration": 8,
    "start_time": "2022-06-25T12:56:19.409Z"
   },
   {
    "duration": 40,
    "start_time": "2022-06-25T12:56:19.419Z"
   },
   {
    "duration": 20,
    "start_time": "2022-06-25T12:56:19.461Z"
   },
   {
    "duration": 187,
    "start_time": "2022-06-25T12:56:19.483Z"
   },
   {
    "duration": 19,
    "start_time": "2022-06-25T12:56:19.672Z"
   },
   {
    "duration": 17,
    "start_time": "2022-06-25T12:57:49.462Z"
   },
   {
    "duration": 84,
    "start_time": "2022-06-25T12:58:02.119Z"
   },
   {
    "duration": 91,
    "start_time": "2022-06-25T12:58:13.202Z"
   },
   {
    "duration": 47,
    "start_time": "2022-06-25T13:00:38.870Z"
   },
   {
    "duration": 32,
    "start_time": "2022-06-25T13:00:52.354Z"
   },
   {
    "duration": 21,
    "start_time": "2022-06-25T13:03:53.581Z"
   },
   {
    "duration": 910,
    "start_time": "2022-06-25T13:04:49.926Z"
   },
   {
    "duration": 189,
    "start_time": "2022-06-25T13:05:16.284Z"
   },
   {
    "duration": 25,
    "start_time": "2022-06-25T13:05:25.938Z"
   },
   {
    "duration": 87,
    "start_time": "2022-06-25T13:05:50.665Z"
   },
   {
    "duration": 29,
    "start_time": "2022-06-25T13:05:56.873Z"
   },
   {
    "duration": 23,
    "start_time": "2022-06-25T13:06:15.697Z"
   },
   {
    "duration": 18,
    "start_time": "2022-06-25T13:07:02.251Z"
   },
   {
    "duration": 23,
    "start_time": "2022-06-25T13:07:58.269Z"
   },
   {
    "duration": 217,
    "start_time": "2022-06-25T13:08:12.885Z"
   },
   {
    "duration": 136,
    "start_time": "2022-06-25T13:09:16.514Z"
   },
   {
    "duration": 81,
    "start_time": "2022-06-25T13:09:34.227Z"
   },
   {
    "duration": 18,
    "start_time": "2022-06-25T13:09:42.832Z"
   },
   {
    "duration": 15,
    "start_time": "2022-06-25T13:09:54.233Z"
   },
   {
    "duration": 18,
    "start_time": "2022-06-25T13:10:46.192Z"
   },
   {
    "duration": 25,
    "start_time": "2022-06-25T13:10:55.494Z"
   },
   {
    "duration": 5,
    "start_time": "2022-06-25T13:13:00.186Z"
   },
   {
    "duration": 18,
    "start_time": "2022-06-25T13:13:03.084Z"
   },
   {
    "duration": 1073,
    "start_time": "2022-06-25T13:13:13.339Z"
   },
   {
    "duration": 394,
    "start_time": "2022-06-25T13:13:14.413Z"
   },
   {
    "duration": 22,
    "start_time": "2022-06-25T13:13:14.809Z"
   },
   {
    "duration": 51,
    "start_time": "2022-06-25T13:13:14.833Z"
   },
   {
    "duration": 27,
    "start_time": "2022-06-25T13:13:14.885Z"
   },
   {
    "duration": 73,
    "start_time": "2022-06-25T13:13:14.914Z"
   },
   {
    "duration": 18,
    "start_time": "2022-06-25T13:13:14.989Z"
   },
   {
    "duration": 61,
    "start_time": "2022-06-25T13:13:15.009Z"
   },
   {
    "duration": 9,
    "start_time": "2022-06-25T13:13:15.072Z"
   },
   {
    "duration": 6,
    "start_time": "2022-06-25T13:13:15.084Z"
   },
   {
    "duration": 14,
    "start_time": "2022-06-25T13:13:15.091Z"
   },
   {
    "duration": 55,
    "start_time": "2022-06-25T13:13:15.106Z"
   },
   {
    "duration": 53,
    "start_time": "2022-06-25T13:13:15.163Z"
   },
   {
    "duration": 53,
    "start_time": "2022-06-25T13:13:15.217Z"
   },
   {
    "duration": 7,
    "start_time": "2022-06-25T13:13:15.271Z"
   },
   {
    "duration": 9,
    "start_time": "2022-06-25T13:13:15.280Z"
   },
   {
    "duration": 25,
    "start_time": "2022-06-25T13:13:15.291Z"
   },
   {
    "duration": 46,
    "start_time": "2022-06-25T13:13:15.317Z"
   },
   {
    "duration": 23,
    "start_time": "2022-06-25T13:13:15.364Z"
   },
   {
    "duration": 39,
    "start_time": "2022-06-25T13:13:15.388Z"
   },
   {
    "duration": 29,
    "start_time": "2022-06-25T13:13:15.429Z"
   },
   {
    "duration": 11,
    "start_time": "2022-06-25T13:13:15.459Z"
   },
   {
    "duration": 8,
    "start_time": "2022-06-25T13:13:15.471Z"
   },
   {
    "duration": 9,
    "start_time": "2022-06-25T13:13:15.481Z"
   },
   {
    "duration": 16,
    "start_time": "2022-06-25T13:13:15.491Z"
   },
   {
    "duration": 211,
    "start_time": "2022-06-25T13:13:15.509Z"
   },
   {
    "duration": 3,
    "start_time": "2022-06-25T13:13:15.722Z"
   },
   {
    "duration": 123,
    "start_time": "2022-06-25T13:13:15.729Z"
   },
   {
    "duration": 22,
    "start_time": "2022-06-25T13:13:49.880Z"
   },
   {
    "duration": 230,
    "start_time": "2022-06-25T13:15:20.670Z"
   },
   {
    "duration": 223,
    "start_time": "2022-06-25T13:17:22.185Z"
   },
   {
    "duration": 60,
    "start_time": "2022-06-25T13:19:17.653Z"
   },
   {
    "duration": 209,
    "start_time": "2022-06-25T13:19:28.068Z"
   },
   {
    "duration": 271,
    "start_time": "2022-06-25T13:19:50.220Z"
   },
   {
    "duration": 229,
    "start_time": "2022-06-25T13:19:58.345Z"
   },
   {
    "duration": 204,
    "start_time": "2022-06-25T13:20:08.801Z"
   },
   {
    "duration": 994,
    "start_time": "2022-06-25T13:20:15.216Z"
   },
   {
    "duration": 366,
    "start_time": "2022-06-25T13:20:16.212Z"
   },
   {
    "duration": 24,
    "start_time": "2022-06-25T13:20:16.579Z"
   },
   {
    "duration": 54,
    "start_time": "2022-06-25T13:20:16.606Z"
   },
   {
    "duration": 38,
    "start_time": "2022-06-25T13:20:16.661Z"
   },
   {
    "duration": 50,
    "start_time": "2022-06-25T13:20:16.701Z"
   },
   {
    "duration": 15,
    "start_time": "2022-06-25T13:20:16.753Z"
   },
   {
    "duration": 30,
    "start_time": "2022-06-25T13:20:16.770Z"
   },
   {
    "duration": 7,
    "start_time": "2022-06-25T13:20:16.801Z"
   },
   {
    "duration": 4,
    "start_time": "2022-06-25T13:20:16.810Z"
   },
   {
    "duration": 11,
    "start_time": "2022-06-25T13:20:16.815Z"
   },
   {
    "duration": 43,
    "start_time": "2022-06-25T13:20:16.827Z"
   },
   {
    "duration": 51,
    "start_time": "2022-06-25T13:20:16.872Z"
   },
   {
    "duration": 46,
    "start_time": "2022-06-25T13:20:16.924Z"
   },
   {
    "duration": 6,
    "start_time": "2022-06-25T13:20:16.971Z"
   },
   {
    "duration": 8,
    "start_time": "2022-06-25T13:20:16.978Z"
   },
   {
    "duration": 24,
    "start_time": "2022-06-25T13:20:16.987Z"
   },
   {
    "duration": 23,
    "start_time": "2022-06-25T13:20:17.012Z"
   },
   {
    "duration": 23,
    "start_time": "2022-06-25T13:20:17.037Z"
   },
   {
    "duration": 36,
    "start_time": "2022-06-25T13:20:17.062Z"
   },
   {
    "duration": 58,
    "start_time": "2022-06-25T13:20:17.100Z"
   },
   {
    "duration": 12,
    "start_time": "2022-06-25T13:20:17.160Z"
   },
   {
    "duration": 9,
    "start_time": "2022-06-25T13:20:17.173Z"
   },
   {
    "duration": 10,
    "start_time": "2022-06-25T13:20:17.184Z"
   },
   {
    "duration": 69,
    "start_time": "2022-06-25T13:20:17.196Z"
   },
   {
    "duration": 261,
    "start_time": "2022-06-25T13:20:17.269Z"
   },
   {
    "duration": 4,
    "start_time": "2022-06-25T13:20:17.532Z"
   },
   {
    "duration": 233,
    "start_time": "2022-06-25T13:20:17.553Z"
   },
   {
    "duration": 216,
    "start_time": "2022-06-25T13:20:50.515Z"
   },
   {
    "duration": 90,
    "start_time": "2022-06-25T13:22:07.065Z"
   },
   {
    "duration": 61,
    "start_time": "2022-06-25T13:23:38.229Z"
   },
   {
    "duration": 48,
    "start_time": "2022-06-25T13:23:46.973Z"
   },
   {
    "duration": 1067,
    "start_time": "2022-06-25T13:23:54.046Z"
   },
   {
    "duration": 386,
    "start_time": "2022-06-25T13:23:55.114Z"
   },
   {
    "duration": 39,
    "start_time": "2022-06-25T13:23:55.505Z"
   },
   {
    "duration": 70,
    "start_time": "2022-06-25T13:23:55.546Z"
   },
   {
    "duration": 71,
    "start_time": "2022-06-25T13:23:55.618Z"
   },
   {
    "duration": 91,
    "start_time": "2022-06-25T13:23:55.692Z"
   },
   {
    "duration": 16,
    "start_time": "2022-06-25T13:23:55.785Z"
   },
   {
    "duration": 52,
    "start_time": "2022-06-25T13:23:55.803Z"
   },
   {
    "duration": 9,
    "start_time": "2022-06-25T13:23:55.857Z"
   },
   {
    "duration": 6,
    "start_time": "2022-06-25T13:23:55.868Z"
   },
   {
    "duration": 14,
    "start_time": "2022-06-25T13:23:55.875Z"
   },
   {
    "duration": 73,
    "start_time": "2022-06-25T13:23:55.890Z"
   },
   {
    "duration": 60,
    "start_time": "2022-06-25T13:23:55.966Z"
   },
   {
    "duration": 61,
    "start_time": "2022-06-25T13:23:56.029Z"
   },
   {
    "duration": 9,
    "start_time": "2022-06-25T13:23:56.093Z"
   },
   {
    "duration": 12,
    "start_time": "2022-06-25T13:23:56.104Z"
   },
   {
    "duration": 48,
    "start_time": "2022-06-25T13:23:56.118Z"
   },
   {
    "duration": 22,
    "start_time": "2022-06-25T13:23:56.168Z"
   },
   {
    "duration": 20,
    "start_time": "2022-06-25T13:23:56.191Z"
   },
   {
    "duration": 88,
    "start_time": "2022-06-25T13:23:56.213Z"
   },
   {
    "duration": 11,
    "start_time": "2022-06-25T13:23:56.302Z"
   },
   {
    "duration": 11,
    "start_time": "2022-06-25T13:23:56.315Z"
   },
   {
    "duration": 11,
    "start_time": "2022-06-25T13:23:56.350Z"
   },
   {
    "duration": 12,
    "start_time": "2022-06-25T13:23:56.362Z"
   },
   {
    "duration": 26,
    "start_time": "2022-06-25T13:23:56.376Z"
   },
   {
    "duration": 252,
    "start_time": "2022-06-25T13:23:56.404Z"
   },
   {
    "duration": 4,
    "start_time": "2022-06-25T13:23:56.659Z"
   },
   {
    "duration": 310,
    "start_time": "2022-06-25T13:23:56.665Z"
   },
   {
    "duration": 48,
    "start_time": "2022-06-25T13:23:56.977Z"
   },
   {
    "duration": 19,
    "start_time": "2022-06-25T13:24:04.411Z"
   },
   {
    "duration": 211,
    "start_time": "2022-06-25T13:25:11.924Z"
   },
   {
    "duration": 1048,
    "start_time": "2022-06-25T13:25:31.688Z"
   },
   {
    "duration": 397,
    "start_time": "2022-06-25T13:25:32.737Z"
   },
   {
    "duration": 26,
    "start_time": "2022-06-25T13:25:33.135Z"
   },
   {
    "duration": 70,
    "start_time": "2022-06-25T13:25:33.163Z"
   },
   {
    "duration": 54,
    "start_time": "2022-06-25T13:25:33.235Z"
   },
   {
    "duration": 33,
    "start_time": "2022-06-25T13:25:33.291Z"
   },
   {
    "duration": 18,
    "start_time": "2022-06-25T13:25:33.351Z"
   },
   {
    "duration": 43,
    "start_time": "2022-06-25T13:25:33.371Z"
   },
   {
    "duration": 9,
    "start_time": "2022-06-25T13:25:33.415Z"
   },
   {
    "duration": 10,
    "start_time": "2022-06-25T13:25:33.453Z"
   },
   {
    "duration": 25,
    "start_time": "2022-06-25T13:25:33.466Z"
   },
   {
    "duration": 66,
    "start_time": "2022-06-25T13:25:33.494Z"
   },
   {
    "duration": 68,
    "start_time": "2022-06-25T13:25:33.562Z"
   },
   {
    "duration": 50,
    "start_time": "2022-06-25T13:25:33.632Z"
   },
   {
    "duration": 7,
    "start_time": "2022-06-25T13:25:33.683Z"
   },
   {
    "duration": 12,
    "start_time": "2022-06-25T13:25:33.691Z"
   },
   {
    "duration": 23,
    "start_time": "2022-06-25T13:25:33.705Z"
   },
   {
    "duration": 20,
    "start_time": "2022-06-25T13:25:33.751Z"
   },
   {
    "duration": 30,
    "start_time": "2022-06-25T13:25:33.773Z"
   },
   {
    "duration": 60,
    "start_time": "2022-06-25T13:25:33.805Z"
   },
   {
    "duration": 9,
    "start_time": "2022-06-25T13:25:33.866Z"
   },
   {
    "duration": 8,
    "start_time": "2022-06-25T13:25:33.876Z"
   },
   {
    "duration": 9,
    "start_time": "2022-06-25T13:25:33.885Z"
   },
   {
    "duration": 9,
    "start_time": "2022-06-25T13:25:33.895Z"
   },
   {
    "duration": 51,
    "start_time": "2022-06-25T13:25:33.905Z"
   },
   {
    "duration": 224,
    "start_time": "2022-06-25T13:25:33.957Z"
   },
   {
    "duration": 2,
    "start_time": "2022-06-25T13:25:34.183Z"
   },
   {
    "duration": 253,
    "start_time": "2022-06-25T13:25:34.188Z"
   },
   {
    "duration": 282,
    "start_time": "2022-06-25T13:25:34.442Z"
   },
   {
    "duration": 4,
    "start_time": "2022-06-25T14:23:24.261Z"
   },
   {
    "duration": 3,
    "start_time": "2022-06-25T14:23:27.246Z"
   },
   {
    "duration": 495,
    "start_time": "2022-06-25T14:23:27.252Z"
   },
   {
    "duration": 29,
    "start_time": "2022-06-25T14:23:27.748Z"
   },
   {
    "duration": 49,
    "start_time": "2022-06-25T14:23:27.779Z"
   },
   {
    "duration": 44,
    "start_time": "2022-06-25T14:23:27.851Z"
   },
   {
    "duration": 34,
    "start_time": "2022-06-25T14:23:27.897Z"
   },
   {
    "duration": 14,
    "start_time": "2022-06-25T14:23:27.951Z"
   },
   {
    "duration": 31,
    "start_time": "2022-06-25T14:23:27.967Z"
   },
   {
    "duration": 10,
    "start_time": "2022-06-25T14:23:27.999Z"
   },
   {
    "duration": 41,
    "start_time": "2022-06-25T14:23:28.011Z"
   },
   {
    "duration": 15,
    "start_time": "2022-06-25T14:23:28.054Z"
   },
   {
    "duration": 39,
    "start_time": "2022-06-25T14:23:28.071Z"
   },
   {
    "duration": 70,
    "start_time": "2022-06-25T14:23:28.112Z"
   },
   {
    "duration": 69,
    "start_time": "2022-06-25T14:23:28.184Z"
   },
   {
    "duration": 7,
    "start_time": "2022-06-25T14:23:28.255Z"
   },
   {
    "duration": 9,
    "start_time": "2022-06-25T14:23:28.264Z"
   },
   {
    "duration": 31,
    "start_time": "2022-06-25T14:23:28.275Z"
   },
   {
    "duration": 46,
    "start_time": "2022-06-25T14:23:28.308Z"
   },
   {
    "duration": 26,
    "start_time": "2022-06-25T14:23:28.356Z"
   },
   {
    "duration": 54,
    "start_time": "2022-06-25T14:23:28.384Z"
   },
   {
    "duration": 13,
    "start_time": "2022-06-25T14:23:28.450Z"
   },
   {
    "duration": 9,
    "start_time": "2022-06-25T14:23:28.465Z"
   },
   {
    "duration": 7,
    "start_time": "2022-06-25T14:23:28.476Z"
   },
   {
    "duration": 20,
    "start_time": "2022-06-25T14:23:28.485Z"
   },
   {
    "duration": 15,
    "start_time": "2022-06-25T14:23:28.506Z"
   },
   {
    "duration": 239,
    "start_time": "2022-06-25T14:23:28.522Z"
   },
   {
    "duration": 5,
    "start_time": "2022-06-25T14:23:28.763Z"
   },
   {
    "duration": 376,
    "start_time": "2022-06-25T14:23:28.770Z"
   },
   {
    "duration": 278,
    "start_time": "2022-06-25T14:23:29.152Z"
   },
   {
    "duration": 650,
    "start_time": "2022-06-25T14:24:42.886Z"
   },
   {
    "duration": 198,
    "start_time": "2022-06-25T14:25:09.315Z"
   },
   {
    "duration": 276,
    "start_time": "2022-06-25T14:26:06.531Z"
   },
   {
    "duration": 187,
    "start_time": "2022-06-25T14:27:35.135Z"
   },
   {
    "duration": 194,
    "start_time": "2022-06-25T14:28:06.570Z"
   },
   {
    "duration": 165,
    "start_time": "2022-06-25T14:28:44.548Z"
   },
   {
    "duration": 46,
    "start_time": "2022-06-25T14:29:11.601Z"
   },
   {
    "duration": 42,
    "start_time": "2022-06-25T14:29:42.998Z"
   },
   {
    "duration": 53,
    "start_time": "2022-06-25T14:29:49.907Z"
   },
   {
    "duration": 19,
    "start_time": "2022-06-25T14:29:57.119Z"
   },
   {
    "duration": 32,
    "start_time": "2022-06-25T14:33:51.918Z"
   },
   {
    "duration": 20,
    "start_time": "2022-06-25T14:33:59.807Z"
   },
   {
    "duration": 21,
    "start_time": "2022-06-25T14:34:10.457Z"
   },
   {
    "duration": 208,
    "start_time": "2022-06-25T14:34:26.714Z"
   },
   {
    "duration": 203,
    "start_time": "2022-06-25T14:35:09.134Z"
   },
   {
    "duration": 207,
    "start_time": "2022-06-25T14:36:16.629Z"
   },
   {
    "duration": 212,
    "start_time": "2022-06-25T14:38:42.697Z"
   },
   {
    "duration": 210,
    "start_time": "2022-06-25T14:38:43.902Z"
   },
   {
    "duration": 217,
    "start_time": "2022-06-25T14:38:44.765Z"
   },
   {
    "duration": 185,
    "start_time": "2022-06-25T14:39:38.038Z"
   },
   {
    "duration": 310,
    "start_time": "2022-06-25T14:40:05.404Z"
   },
   {
    "duration": 1079,
    "start_time": "2022-06-25T14:40:31.653Z"
   },
   {
    "duration": 395,
    "start_time": "2022-06-25T14:40:32.734Z"
   },
   {
    "duration": 23,
    "start_time": "2022-06-25T14:40:33.130Z"
   },
   {
    "duration": 44,
    "start_time": "2022-06-25T14:40:33.156Z"
   },
   {
    "duration": 50,
    "start_time": "2022-06-25T14:40:33.201Z"
   },
   {
    "duration": 33,
    "start_time": "2022-06-25T14:40:33.253Z"
   },
   {
    "duration": 14,
    "start_time": "2022-06-25T14:40:33.287Z"
   },
   {
    "duration": 55,
    "start_time": "2022-06-25T14:40:33.303Z"
   },
   {
    "duration": 9,
    "start_time": "2022-06-25T14:40:33.359Z"
   },
   {
    "duration": 6,
    "start_time": "2022-06-25T14:40:33.370Z"
   },
   {
    "duration": 16,
    "start_time": "2022-06-25T14:40:33.377Z"
   },
   {
    "duration": 61,
    "start_time": "2022-06-25T14:40:33.394Z"
   },
   {
    "duration": 80,
    "start_time": "2022-06-25T14:40:33.458Z"
   },
   {
    "duration": 42,
    "start_time": "2022-06-25T14:40:33.550Z"
   },
   {
    "duration": 7,
    "start_time": "2022-06-25T14:40:33.593Z"
   },
   {
    "duration": 7,
    "start_time": "2022-06-25T14:40:33.602Z"
   },
   {
    "duration": 47,
    "start_time": "2022-06-25T14:40:33.610Z"
   },
   {
    "duration": 17,
    "start_time": "2022-06-25T14:40:33.659Z"
   },
   {
    "duration": 18,
    "start_time": "2022-06-25T14:40:33.678Z"
   },
   {
    "duration": 63,
    "start_time": "2022-06-25T14:40:33.698Z"
   },
   {
    "duration": 7,
    "start_time": "2022-06-25T14:40:33.763Z"
   },
   {
    "duration": 9,
    "start_time": "2022-06-25T14:40:33.772Z"
   },
   {
    "duration": 8,
    "start_time": "2022-06-25T14:40:33.783Z"
   },
   {
    "duration": 10,
    "start_time": "2022-06-25T14:40:33.792Z"
   },
   {
    "duration": 13,
    "start_time": "2022-06-25T14:40:33.804Z"
   },
   {
    "duration": 189,
    "start_time": "2022-06-25T14:40:33.818Z"
   },
   {
    "duration": 3,
    "start_time": "2022-06-25T14:40:34.009Z"
   },
   {
    "duration": 216,
    "start_time": "2022-06-25T14:40:34.015Z"
   },
   {
    "duration": 220,
    "start_time": "2022-06-25T14:40:34.233Z"
   },
   {
    "duration": 238,
    "start_time": "2022-06-25T14:40:34.455Z"
   },
   {
    "duration": 203,
    "start_time": "2022-06-25T14:40:34.694Z"
   },
   {
    "duration": 201,
    "start_time": "2022-06-25T14:40:34.898Z"
   },
   {
    "duration": 215,
    "start_time": "2022-06-25T14:40:35.101Z"
   },
   {
    "duration": 233,
    "start_time": "2022-06-25T14:42:30.673Z"
   },
   {
    "duration": 339,
    "start_time": "2022-06-25T14:44:30.273Z"
   },
   {
    "duration": 318,
    "start_time": "2022-06-25T14:44:31.724Z"
   },
   {
    "duration": 265,
    "start_time": "2022-06-25T14:44:33.057Z"
   },
   {
    "duration": 21,
    "start_time": "2022-06-25T14:57:07.997Z"
   },
   {
    "duration": 139,
    "start_time": "2022-06-25T14:57:56.713Z"
   },
   {
    "duration": 50,
    "start_time": "2022-06-25T14:58:03.293Z"
   },
   {
    "duration": 7,
    "start_time": "2022-06-25T15:00:16.340Z"
   },
   {
    "duration": 11,
    "start_time": "2022-06-25T15:00:20.284Z"
   },
   {
    "duration": 14,
    "start_time": "2022-06-25T15:03:54.628Z"
   },
   {
    "duration": 8,
    "start_time": "2022-06-25T15:07:34.247Z"
   },
   {
    "duration": 9,
    "start_time": "2022-06-25T15:08:32.222Z"
   },
   {
    "duration": 7,
    "start_time": "2022-06-25T15:08:55.034Z"
   },
   {
    "duration": 58,
    "start_time": "2022-06-25T15:09:33.912Z"
   },
   {
    "duration": 51,
    "start_time": "2022-06-25T15:09:56.018Z"
   },
   {
    "duration": 5,
    "start_time": "2022-06-25T15:11:09.551Z"
   },
   {
    "duration": 20,
    "start_time": "2022-06-25T15:14:12.935Z"
   },
   {
    "duration": 1335,
    "start_time": "2022-06-25T15:15:05.926Z"
   },
   {
    "duration": 503,
    "start_time": "2022-06-25T15:15:07.264Z"
   },
   {
    "duration": 32,
    "start_time": "2022-06-25T15:15:07.769Z"
   },
   {
    "duration": 62,
    "start_time": "2022-06-25T15:15:07.803Z"
   },
   {
    "duration": 41,
    "start_time": "2022-06-25T15:15:07.867Z"
   },
   {
    "duration": 66,
    "start_time": "2022-06-25T15:15:07.911Z"
   },
   {
    "duration": 18,
    "start_time": "2022-06-25T15:15:07.979Z"
   },
   {
    "duration": 67,
    "start_time": "2022-06-25T15:15:07.998Z"
   },
   {
    "duration": 11,
    "start_time": "2022-06-25T15:15:08.068Z"
   },
   {
    "duration": 21,
    "start_time": "2022-06-25T15:15:08.083Z"
   },
   {
    "duration": 38,
    "start_time": "2022-06-25T15:15:08.106Z"
   },
   {
    "duration": 56,
    "start_time": "2022-06-25T15:15:08.146Z"
   },
   {
    "duration": 74,
    "start_time": "2022-06-25T15:15:08.204Z"
   },
   {
    "duration": 54,
    "start_time": "2022-06-25T15:15:08.280Z"
   },
   {
    "duration": 9,
    "start_time": "2022-06-25T15:15:08.350Z"
   },
   {
    "duration": 11,
    "start_time": "2022-06-25T15:15:08.360Z"
   },
   {
    "duration": 34,
    "start_time": "2022-06-25T15:15:08.372Z"
   },
   {
    "duration": 60,
    "start_time": "2022-06-25T15:15:08.408Z"
   },
   {
    "duration": 24,
    "start_time": "2022-06-25T15:15:08.470Z"
   },
   {
    "duration": 68,
    "start_time": "2022-06-25T15:15:08.495Z"
   },
   {
    "duration": 11,
    "start_time": "2022-06-25T15:15:08.565Z"
   },
   {
    "duration": 12,
    "start_time": "2022-06-25T15:15:08.578Z"
   },
   {
    "duration": 10,
    "start_time": "2022-06-25T15:15:08.592Z"
   },
   {
    "duration": 55,
    "start_time": "2022-06-25T15:15:08.603Z"
   },
   {
    "duration": 20,
    "start_time": "2022-06-25T15:15:08.660Z"
   },
   {
    "duration": 248,
    "start_time": "2022-06-25T15:15:08.682Z"
   },
   {
    "duration": 4,
    "start_time": "2022-06-25T15:15:08.932Z"
   },
   {
    "duration": 275,
    "start_time": "2022-06-25T15:15:08.955Z"
   },
   {
    "duration": 270,
    "start_time": "2022-06-25T15:15:09.232Z"
   },
   {
    "duration": 262,
    "start_time": "2022-06-25T15:15:09.504Z"
   },
   {
    "duration": 266,
    "start_time": "2022-06-25T15:15:09.768Z"
   },
   {
    "duration": 309,
    "start_time": "2022-06-25T15:15:10.036Z"
   },
   {
    "duration": 271,
    "start_time": "2022-06-25T15:15:10.347Z"
   },
   {
    "duration": 282,
    "start_time": "2022-06-25T15:15:10.620Z"
   },
   {
    "duration": 378,
    "start_time": "2022-06-25T15:15:10.905Z"
   },
   {
    "duration": 375,
    "start_time": "2022-06-25T15:15:11.285Z"
   },
   {
    "duration": 137,
    "start_time": "2022-06-25T15:15:11.662Z"
   },
   {
    "duration": 0,
    "start_time": "2022-06-25T15:15:11.801Z"
   },
   {
    "duration": 9,
    "start_time": "2022-06-25T15:15:21.845Z"
   },
   {
    "duration": 8,
    "start_time": "2022-06-25T15:15:49.705Z"
   },
   {
    "duration": 96,
    "start_time": "2022-06-25T15:16:17.491Z"
   },
   {
    "duration": 5,
    "start_time": "2022-06-25T15:17:10.429Z"
   },
   {
    "duration": 13,
    "start_time": "2022-06-25T15:19:29.942Z"
   },
   {
    "duration": 9,
    "start_time": "2022-06-25T15:21:45.047Z"
   },
   {
    "duration": 8,
    "start_time": "2022-06-25T15:30:37.511Z"
   },
   {
    "duration": 6,
    "start_time": "2022-06-25T15:31:07.933Z"
   },
   {
    "duration": 5,
    "start_time": "2022-06-25T15:31:25.777Z"
   },
   {
    "duration": 5,
    "start_time": "2022-06-25T15:31:30.620Z"
   },
   {
    "duration": 6,
    "start_time": "2022-06-25T15:31:31.221Z"
   },
   {
    "duration": 13,
    "start_time": "2022-06-25T15:32:53.591Z"
   },
   {
    "duration": 5,
    "start_time": "2022-06-25T15:32:54.102Z"
   },
   {
    "duration": 6,
    "start_time": "2022-06-25T15:32:57.063Z"
   },
   {
    "duration": 56,
    "start_time": "2022-06-25T18:00:05.966Z"
   },
   {
    "duration": 1622,
    "start_time": "2022-06-25T18:00:09.311Z"
   },
   {
    "duration": 1400,
    "start_time": "2022-06-25T18:00:10.935Z"
   },
   {
    "duration": 38,
    "start_time": "2022-06-25T18:00:12.337Z"
   },
   {
    "duration": 56,
    "start_time": "2022-06-25T18:00:12.378Z"
   },
   {
    "duration": 61,
    "start_time": "2022-06-25T18:00:12.436Z"
   },
   {
    "duration": 70,
    "start_time": "2022-06-25T18:00:12.499Z"
   },
   {
    "duration": 22,
    "start_time": "2022-06-25T18:00:12.573Z"
   },
   {
    "duration": 66,
    "start_time": "2022-06-25T18:00:12.597Z"
   },
   {
    "duration": 12,
    "start_time": "2022-06-25T18:00:12.666Z"
   },
   {
    "duration": 6,
    "start_time": "2022-06-25T18:00:12.682Z"
   },
   {
    "duration": 15,
    "start_time": "2022-06-25T18:00:12.691Z"
   },
   {
    "duration": 85,
    "start_time": "2022-06-25T18:00:12.708Z"
   },
   {
    "duration": 91,
    "start_time": "2022-06-25T18:00:12.795Z"
   },
   {
    "duration": 51,
    "start_time": "2022-06-25T18:00:12.889Z"
   },
   {
    "duration": 12,
    "start_time": "2022-06-25T18:00:12.956Z"
   },
   {
    "duration": 11,
    "start_time": "2022-06-25T18:00:12.970Z"
   },
   {
    "duration": 34,
    "start_time": "2022-06-25T18:00:12.983Z"
   },
   {
    "duration": 48,
    "start_time": "2022-06-25T18:00:13.019Z"
   },
   {
    "duration": 34,
    "start_time": "2022-06-25T18:00:13.070Z"
   },
   {
    "duration": 92,
    "start_time": "2022-06-25T18:00:13.107Z"
   },
   {
    "duration": 10,
    "start_time": "2022-06-25T18:00:13.201Z"
   },
   {
    "duration": 11,
    "start_time": "2022-06-25T18:00:13.213Z"
   },
   {
    "duration": 38,
    "start_time": "2022-06-25T18:00:13.226Z"
   },
   {
    "duration": 13,
    "start_time": "2022-06-25T18:00:13.267Z"
   },
   {
    "duration": 18,
    "start_time": "2022-06-25T18:00:13.282Z"
   },
   {
    "duration": 277,
    "start_time": "2022-06-25T18:00:13.302Z"
   },
   {
    "duration": 4,
    "start_time": "2022-06-25T18:00:13.581Z"
   },
   {
    "duration": 289,
    "start_time": "2022-06-25T18:00:13.589Z"
   },
   {
    "duration": 285,
    "start_time": "2022-06-25T18:00:13.880Z"
   },
   {
    "duration": 277,
    "start_time": "2022-06-25T18:00:14.167Z"
   },
   {
    "duration": 365,
    "start_time": "2022-06-25T18:00:14.450Z"
   },
   {
    "duration": 277,
    "start_time": "2022-06-25T18:00:14.817Z"
   },
   {
    "duration": 271,
    "start_time": "2022-06-25T18:00:15.096Z"
   },
   {
    "duration": 277,
    "start_time": "2022-06-25T18:00:15.369Z"
   },
   {
    "duration": 347,
    "start_time": "2022-06-25T18:00:15.648Z"
   },
   {
    "duration": 274,
    "start_time": "2022-06-25T18:00:15.997Z"
   },
   {
    "duration": 23,
    "start_time": "2022-06-25T18:00:16.273Z"
   },
   {
    "duration": 97,
    "start_time": "2022-06-25T18:00:16.298Z"
   },
   {
    "duration": 9,
    "start_time": "2022-06-25T18:00:30.776Z"
   },
   {
    "duration": 15,
    "start_time": "2022-06-25T18:02:02.427Z"
   },
   {
    "duration": 6,
    "start_time": "2022-06-25T18:02:33.668Z"
   },
   {
    "duration": 6,
    "start_time": "2022-06-25T18:02:55.244Z"
   },
   {
    "duration": 6,
    "start_time": "2022-06-25T18:03:00.531Z"
   },
   {
    "duration": 1368,
    "start_time": "2022-06-25T18:03:06.923Z"
   },
   {
    "duration": 495,
    "start_time": "2022-06-25T18:03:08.293Z"
   },
   {
    "duration": 32,
    "start_time": "2022-06-25T18:03:08.790Z"
   },
   {
    "duration": 84,
    "start_time": "2022-06-25T18:03:08.824Z"
   },
   {
    "duration": 64,
    "start_time": "2022-06-25T18:03:08.910Z"
   },
   {
    "duration": 52,
    "start_time": "2022-06-25T18:03:08.977Z"
   },
   {
    "duration": 44,
    "start_time": "2022-06-25T18:03:09.031Z"
   },
   {
    "duration": 61,
    "start_time": "2022-06-25T18:03:09.077Z"
   },
   {
    "duration": 22,
    "start_time": "2022-06-25T18:03:09.141Z"
   },
   {
    "duration": 25,
    "start_time": "2022-06-25T18:03:09.168Z"
   },
   {
    "duration": 33,
    "start_time": "2022-06-25T18:03:09.195Z"
   },
   {
    "duration": 72,
    "start_time": "2022-06-25T18:03:09.230Z"
   },
   {
    "duration": 83,
    "start_time": "2022-06-25T18:03:09.304Z"
   },
   {
    "duration": 69,
    "start_time": "2022-06-25T18:03:09.391Z"
   },
   {
    "duration": 11,
    "start_time": "2022-06-25T18:03:09.461Z"
   },
   {
    "duration": 36,
    "start_time": "2022-06-25T18:03:09.474Z"
   },
   {
    "duration": 54,
    "start_time": "2022-06-25T18:03:09.513Z"
   },
   {
    "duration": 27,
    "start_time": "2022-06-25T18:03:09.573Z"
   },
   {
    "duration": 25,
    "start_time": "2022-06-25T18:03:09.601Z"
   },
   {
    "duration": 75,
    "start_time": "2022-06-25T18:03:09.628Z"
   },
   {
    "duration": 11,
    "start_time": "2022-06-25T18:03:09.704Z"
   },
   {
    "duration": 17,
    "start_time": "2022-06-25T18:03:09.718Z"
   },
   {
    "duration": 16,
    "start_time": "2022-06-25T18:03:09.752Z"
   },
   {
    "duration": 24,
    "start_time": "2022-06-25T18:03:09.770Z"
   },
   {
    "duration": 26,
    "start_time": "2022-06-25T18:03:09.797Z"
   },
   {
    "duration": 369,
    "start_time": "2022-06-25T18:03:09.826Z"
   },
   {
    "duration": 4,
    "start_time": "2022-06-25T18:03:10.197Z"
   },
   {
    "duration": 339,
    "start_time": "2022-06-25T18:03:10.202Z"
   },
   {
    "duration": 298,
    "start_time": "2022-06-25T18:03:10.543Z"
   },
   {
    "duration": 296,
    "start_time": "2022-06-25T18:03:10.843Z"
   },
   {
    "duration": 284,
    "start_time": "2022-06-25T18:03:11.142Z"
   },
   {
    "duration": 278,
    "start_time": "2022-06-25T18:03:11.428Z"
   },
   {
    "duration": 312,
    "start_time": "2022-06-25T18:03:11.708Z"
   },
   {
    "duration": 270,
    "start_time": "2022-06-25T18:03:12.021Z"
   },
   {
    "duration": 372,
    "start_time": "2022-06-25T18:03:12.293Z"
   },
   {
    "duration": 263,
    "start_time": "2022-06-25T18:03:12.667Z"
   },
   {
    "duration": 30,
    "start_time": "2022-06-25T18:03:12.932Z"
   },
   {
    "duration": 6,
    "start_time": "2022-06-25T18:03:12.968Z"
   },
   {
    "duration": 12,
    "start_time": "2022-06-25T18:03:40.211Z"
   },
   {
    "duration": 125,
    "start_time": "2022-06-25T18:03:41.166Z"
   },
   {
    "duration": 8,
    "start_time": "2022-06-25T18:03:57.884Z"
   },
   {
    "duration": 6,
    "start_time": "2022-06-25T18:04:15.226Z"
   },
   {
    "duration": 12,
    "start_time": "2022-06-25T18:05:49.646Z"
   },
   {
    "duration": 5,
    "start_time": "2022-06-25T18:05:50.212Z"
   },
   {
    "duration": 6,
    "start_time": "2022-06-25T18:06:23.222Z"
   },
   {
    "duration": 5,
    "start_time": "2022-06-25T18:06:39.092Z"
   },
   {
    "duration": 5,
    "start_time": "2022-06-25T18:06:45.766Z"
   },
   {
    "duration": 6,
    "start_time": "2022-06-25T18:06:49.230Z"
   },
   {
    "duration": 53,
    "start_time": "2022-06-25T18:18:05.570Z"
   },
   {
    "duration": 9,
    "start_time": "2022-06-25T18:18:36.730Z"
   },
   {
    "duration": 224,
    "start_time": "2022-06-25T18:20:56.314Z"
   },
   {
    "duration": 218,
    "start_time": "2022-06-25T18:23:23.810Z"
   },
   {
    "duration": 4,
    "start_time": "2022-06-25T18:23:38.595Z"
   },
   {
    "duration": 501,
    "start_time": "2022-06-25T18:23:38.601Z"
   },
   {
    "duration": 31,
    "start_time": "2022-06-25T18:23:39.103Z"
   },
   {
    "duration": 73,
    "start_time": "2022-06-25T18:23:39.137Z"
   },
   {
    "duration": 55,
    "start_time": "2022-06-25T18:23:39.213Z"
   },
   {
    "duration": 39,
    "start_time": "2022-06-25T18:23:39.271Z"
   },
   {
    "duration": 19,
    "start_time": "2022-06-25T18:23:39.311Z"
   },
   {
    "duration": 55,
    "start_time": "2022-06-25T18:23:39.332Z"
   },
   {
    "duration": 10,
    "start_time": "2022-06-25T18:23:39.388Z"
   },
   {
    "duration": 7,
    "start_time": "2022-06-25T18:23:39.400Z"
   },
   {
    "duration": 62,
    "start_time": "2022-06-25T18:23:39.409Z"
   },
   {
    "duration": 53,
    "start_time": "2022-06-25T18:23:39.474Z"
   },
   {
    "duration": 80,
    "start_time": "2022-06-25T18:23:39.531Z"
   },
   {
    "duration": 59,
    "start_time": "2022-06-25T18:23:39.613Z"
   },
   {
    "duration": 7,
    "start_time": "2022-06-25T18:23:39.674Z"
   },
   {
    "duration": 11,
    "start_time": "2022-06-25T18:23:39.682Z"
   },
   {
    "duration": 25,
    "start_time": "2022-06-25T18:23:39.694Z"
   },
   {
    "duration": 55,
    "start_time": "2022-06-25T18:23:39.721Z"
   },
   {
    "duration": 22,
    "start_time": "2022-06-25T18:23:39.777Z"
   },
   {
    "duration": 73,
    "start_time": "2022-06-25T18:23:39.801Z"
   },
   {
    "duration": 13,
    "start_time": "2022-06-25T18:23:39.876Z"
   },
   {
    "duration": 15,
    "start_time": "2022-06-25T18:23:39.891Z"
   },
   {
    "duration": 9,
    "start_time": "2022-06-25T18:23:39.908Z"
   },
   {
    "duration": 51,
    "start_time": "2022-06-25T18:23:39.920Z"
   },
   {
    "duration": 18,
    "start_time": "2022-06-25T18:23:39.973Z"
   },
   {
    "duration": 302,
    "start_time": "2022-06-25T18:23:39.993Z"
   },
   {
    "duration": 4,
    "start_time": "2022-06-25T18:23:40.298Z"
   },
   {
    "duration": 334,
    "start_time": "2022-06-25T18:23:40.304Z"
   },
   {
    "duration": 299,
    "start_time": "2022-06-25T18:23:40.640Z"
   },
   {
    "duration": 257,
    "start_time": "2022-06-25T18:23:40.941Z"
   },
   {
    "duration": 293,
    "start_time": "2022-06-25T18:23:41.200Z"
   },
   {
    "duration": 290,
    "start_time": "2022-06-25T18:23:41.496Z"
   },
   {
    "duration": 383,
    "start_time": "2022-06-25T18:23:41.789Z"
   },
   {
    "duration": 300,
    "start_time": "2022-06-25T18:23:42.174Z"
   },
   {
    "duration": 294,
    "start_time": "2022-06-25T18:23:42.477Z"
   },
   {
    "duration": 279,
    "start_time": "2022-06-25T18:23:42.774Z"
   },
   {
    "duration": 14,
    "start_time": "2022-06-25T18:23:43.063Z"
   },
   {
    "duration": 131,
    "start_time": "2022-06-25T18:23:43.079Z"
   },
   {
    "duration": 0,
    "start_time": "2022-06-25T18:23:43.212Z"
   },
   {
    "duration": 117,
    "start_time": "2022-06-25T18:25:51.843Z"
   },
   {
    "duration": 131,
    "start_time": "2022-06-25T18:27:22.166Z"
   },
   {
    "duration": 7,
    "start_time": "2022-06-25T18:28:27.011Z"
   },
   {
    "duration": 11,
    "start_time": "2022-06-25T18:28:28.322Z"
   },
   {
    "duration": 6,
    "start_time": "2022-06-25T18:28:40.881Z"
   },
   {
    "duration": 5,
    "start_time": "2022-06-25T18:29:07.015Z"
   },
   {
    "duration": 290,
    "start_time": "2022-06-25T18:29:29.413Z"
   },
   {
    "duration": 1368,
    "start_time": "2022-06-25T18:29:44.114Z"
   },
   {
    "duration": 498,
    "start_time": "2022-06-25T18:29:45.484Z"
   },
   {
    "duration": 31,
    "start_time": "2022-06-25T18:29:45.983Z"
   },
   {
    "duration": 64,
    "start_time": "2022-06-25T18:29:46.017Z"
   },
   {
    "duration": 39,
    "start_time": "2022-06-25T18:29:46.083Z"
   },
   {
    "duration": 69,
    "start_time": "2022-06-25T18:29:46.124Z"
   },
   {
    "duration": 19,
    "start_time": "2022-06-25T18:29:46.195Z"
   },
   {
    "duration": 78,
    "start_time": "2022-06-25T18:29:46.216Z"
   },
   {
    "duration": 11,
    "start_time": "2022-06-25T18:29:46.297Z"
   },
   {
    "duration": 5,
    "start_time": "2022-06-25T18:29:46.312Z"
   },
   {
    "duration": 49,
    "start_time": "2022-06-25T18:29:46.319Z"
   },
   {
    "duration": 46,
    "start_time": "2022-06-25T18:29:46.371Z"
   },
   {
    "duration": 96,
    "start_time": "2022-06-25T18:29:46.419Z"
   },
   {
    "duration": 57,
    "start_time": "2022-06-25T18:29:46.517Z"
   },
   {
    "duration": 9,
    "start_time": "2022-06-25T18:29:46.575Z"
   },
   {
    "duration": 12,
    "start_time": "2022-06-25T18:29:46.586Z"
   },
   {
    "duration": 68,
    "start_time": "2022-06-25T18:29:46.600Z"
   },
   {
    "duration": 26,
    "start_time": "2022-06-25T18:29:46.671Z"
   },
   {
    "duration": 25,
    "start_time": "2022-06-25T18:29:46.699Z"
   },
   {
    "duration": 75,
    "start_time": "2022-06-25T18:29:46.726Z"
   },
   {
    "duration": 11,
    "start_time": "2022-06-25T18:29:46.804Z"
   },
   {
    "duration": 10,
    "start_time": "2022-06-25T18:29:46.817Z"
   },
   {
    "duration": 21,
    "start_time": "2022-06-25T18:29:46.854Z"
   },
   {
    "duration": 13,
    "start_time": "2022-06-25T18:29:46.877Z"
   },
   {
    "duration": 21,
    "start_time": "2022-06-25T18:29:46.892Z"
   },
   {
    "duration": 270,
    "start_time": "2022-06-25T18:29:46.915Z"
   },
   {
    "duration": 4,
    "start_time": "2022-06-25T18:29:47.187Z"
   },
   {
    "duration": 313,
    "start_time": "2022-06-25T18:29:47.196Z"
   },
   {
    "duration": 273,
    "start_time": "2022-06-25T18:29:47.511Z"
   },
   {
    "duration": 282,
    "start_time": "2022-06-25T18:29:47.786Z"
   },
   {
    "duration": 317,
    "start_time": "2022-06-25T18:29:48.070Z"
   },
   {
    "duration": 283,
    "start_time": "2022-06-25T18:29:48.390Z"
   },
   {
    "duration": 271,
    "start_time": "2022-06-25T18:29:48.675Z"
   },
   {
    "duration": 278,
    "start_time": "2022-06-25T18:29:48.948Z"
   },
   {
    "duration": 372,
    "start_time": "2022-06-25T18:29:49.228Z"
   },
   {
    "duration": 280,
    "start_time": "2022-06-25T18:29:49.602Z"
   },
   {
    "duration": 8,
    "start_time": "2022-06-25T18:29:49.883Z"
   },
   {
    "duration": 6,
    "start_time": "2022-06-25T18:29:49.893Z"
   },
   {
    "duration": 323,
    "start_time": "2022-06-25T18:29:49.902Z"
   },
   {
    "duration": 9,
    "start_time": "2022-06-25T18:32:41.968Z"
   },
   {
    "duration": 1366,
    "start_time": "2022-06-25T18:32:57.767Z"
   },
   {
    "duration": 534,
    "start_time": "2022-06-25T18:32:59.135Z"
   },
   {
    "duration": 32,
    "start_time": "2022-06-25T18:32:59.671Z"
   },
   {
    "duration": 73,
    "start_time": "2022-06-25T18:32:59.705Z"
   },
   {
    "duration": 78,
    "start_time": "2022-06-25T18:32:59.780Z"
   },
   {
    "duration": 49,
    "start_time": "2022-06-25T18:32:59.863Z"
   },
   {
    "duration": 46,
    "start_time": "2022-06-25T18:32:59.915Z"
   },
   {
    "duration": 54,
    "start_time": "2022-06-25T18:32:59.968Z"
   },
   {
    "duration": 30,
    "start_time": "2022-06-25T18:33:00.025Z"
   },
   {
    "duration": 9,
    "start_time": "2022-06-25T18:33:00.068Z"
   },
   {
    "duration": 19,
    "start_time": "2022-06-25T18:33:00.079Z"
   },
   {
    "duration": 81,
    "start_time": "2022-06-25T18:33:00.101Z"
   },
   {
    "duration": 96,
    "start_time": "2022-06-25T18:33:00.185Z"
   },
   {
    "duration": 68,
    "start_time": "2022-06-25T18:33:00.286Z"
   },
   {
    "duration": 15,
    "start_time": "2022-06-25T18:33:00.356Z"
   },
   {
    "duration": 21,
    "start_time": "2022-06-25T18:33:00.376Z"
   },
   {
    "duration": 69,
    "start_time": "2022-06-25T18:33:00.399Z"
   },
   {
    "duration": 30,
    "start_time": "2022-06-25T18:33:00.470Z"
   },
   {
    "duration": 25,
    "start_time": "2022-06-25T18:33:00.503Z"
   },
   {
    "duration": 73,
    "start_time": "2022-06-25T18:33:00.531Z"
   },
   {
    "duration": 12,
    "start_time": "2022-06-25T18:33:00.607Z"
   },
   {
    "duration": 38,
    "start_time": "2022-06-25T18:33:00.622Z"
   },
   {
    "duration": 39,
    "start_time": "2022-06-25T18:33:00.664Z"
   },
   {
    "duration": 34,
    "start_time": "2022-06-25T18:33:00.705Z"
   },
   {
    "duration": 31,
    "start_time": "2022-06-25T18:33:00.742Z"
   },
   {
    "duration": 280,
    "start_time": "2022-06-25T18:33:00.775Z"
   },
   {
    "duration": 5,
    "start_time": "2022-06-25T18:33:01.062Z"
   },
   {
    "duration": 334,
    "start_time": "2022-06-25T18:33:01.072Z"
   },
   {
    "duration": 322,
    "start_time": "2022-06-25T18:33:01.408Z"
   },
   {
    "duration": 335,
    "start_time": "2022-06-25T18:33:01.732Z"
   },
   {
    "duration": 277,
    "start_time": "2022-06-25T18:33:02.069Z"
   },
   {
    "duration": 326,
    "start_time": "2022-06-25T18:33:02.351Z"
   },
   {
    "duration": 309,
    "start_time": "2022-06-25T18:33:02.680Z"
   },
   {
    "duration": 284,
    "start_time": "2022-06-25T18:33:02.991Z"
   },
   {
    "duration": 413,
    "start_time": "2022-06-25T18:33:03.278Z"
   },
   {
    "duration": 287,
    "start_time": "2022-06-25T18:33:03.693Z"
   },
   {
    "duration": 7,
    "start_time": "2022-06-25T18:33:03.983Z"
   },
   {
    "duration": 9,
    "start_time": "2022-06-25T18:33:03.992Z"
   },
   {
    "duration": 311,
    "start_time": "2022-06-25T18:33:04.003Z"
   },
   {
    "duration": 14,
    "start_time": "2022-06-25T18:38:19.535Z"
   },
   {
    "duration": 218,
    "start_time": "2022-06-25T18:38:38.034Z"
   },
   {
    "duration": 52,
    "start_time": "2022-06-25T18:39:10.618Z"
   },
   {
    "duration": 13,
    "start_time": "2022-06-25T18:40:17.455Z"
   },
   {
    "duration": 8,
    "start_time": "2022-06-25T18:40:20.346Z"
   },
   {
    "duration": 6,
    "start_time": "2022-06-25T18:42:06.013Z"
   },
   {
    "duration": 5,
    "start_time": "2022-06-25T18:42:18.608Z"
   },
   {
    "duration": 64,
    "start_time": "2022-06-25T18:42:51.307Z"
   },
   {
    "duration": 49,
    "start_time": "2022-06-25T18:43:09.810Z"
   },
   {
    "duration": 39204,
    "start_time": "2022-06-25T18:43:14.407Z"
   },
   {
    "duration": 13,
    "start_time": "2022-06-25T18:45:06.715Z"
   },
   {
    "duration": 151,
    "start_time": "2022-06-25T18:45:34.115Z"
   },
   {
    "duration": 231,
    "start_time": "2022-06-25T18:45:44.236Z"
   },
   {
    "duration": 175,
    "start_time": "2022-06-25T18:46:04.069Z"
   },
   {
    "duration": 290,
    "start_time": "2022-06-25T18:46:26.279Z"
   },
   {
    "duration": 375,
    "start_time": "2022-06-25T18:47:02.118Z"
   },
   {
    "duration": 374,
    "start_time": "2022-06-25T18:47:35.928Z"
   },
   {
    "duration": 277,
    "start_time": "2022-06-25T18:47:47.144Z"
   },
   {
    "duration": 16,
    "start_time": "2022-06-25T18:50:08.318Z"
   },
   {
    "duration": 406,
    "start_time": "2022-06-25T18:50:16.699Z"
   },
   {
    "duration": 280,
    "start_time": "2022-06-25T18:50:28.906Z"
   },
   {
    "duration": 1449,
    "start_time": "2022-06-25T18:59:09.328Z"
   },
   {
    "duration": 529,
    "start_time": "2022-06-25T18:59:10.780Z"
   },
   {
    "duration": 55,
    "start_time": "2022-06-25T18:59:11.311Z"
   },
   {
    "duration": 62,
    "start_time": "2022-06-25T18:59:11.368Z"
   },
   {
    "duration": 62,
    "start_time": "2022-06-25T18:59:11.434Z"
   },
   {
    "duration": 75,
    "start_time": "2022-06-25T18:59:11.499Z"
   },
   {
    "duration": 21,
    "start_time": "2022-06-25T18:59:11.576Z"
   },
   {
    "duration": 81,
    "start_time": "2022-06-25T18:59:11.599Z"
   },
   {
    "duration": 12,
    "start_time": "2022-06-25T18:59:11.682Z"
   },
   {
    "duration": 12,
    "start_time": "2022-06-25T18:59:11.697Z"
   },
   {
    "duration": 49,
    "start_time": "2022-06-25T18:59:11.711Z"
   },
   {
    "duration": 86,
    "start_time": "2022-06-25T18:59:11.763Z"
   },
   {
    "duration": 87,
    "start_time": "2022-06-25T18:59:11.858Z"
   },
   {
    "duration": 64,
    "start_time": "2022-06-25T18:59:11.950Z"
   },
   {
    "duration": 7,
    "start_time": "2022-06-25T18:59:12.017Z"
   },
   {
    "duration": 60,
    "start_time": "2022-06-25T18:59:12.026Z"
   },
   {
    "duration": 26,
    "start_time": "2022-06-25T18:59:12.088Z"
   },
   {
    "duration": 59,
    "start_time": "2022-06-25T18:59:12.115Z"
   },
   {
    "duration": 100,
    "start_time": "2022-06-25T18:59:12.176Z"
   },
   {
    "duration": 13,
    "start_time": "2022-06-25T18:59:12.278Z"
   },
   {
    "duration": 15,
    "start_time": "2022-06-25T18:59:12.294Z"
   },
   {
    "duration": 12,
    "start_time": "2022-06-25T18:59:12.311Z"
   },
   {
    "duration": 22,
    "start_time": "2022-06-25T18:59:12.350Z"
   },
   {
    "duration": 27,
    "start_time": "2022-06-25T18:59:12.375Z"
   },
   {
    "duration": 310,
    "start_time": "2022-06-25T18:59:12.404Z"
   },
   {
    "duration": 4,
    "start_time": "2022-06-25T18:59:12.716Z"
   },
   {
    "duration": 325,
    "start_time": "2022-06-25T18:59:12.722Z"
   },
   {
    "duration": 280,
    "start_time": "2022-06-25T18:59:13.051Z"
   },
   {
    "duration": 313,
    "start_time": "2022-06-25T18:59:13.333Z"
   },
   {
    "duration": 287,
    "start_time": "2022-06-25T18:59:13.650Z"
   },
   {
    "duration": 299,
    "start_time": "2022-06-25T18:59:13.940Z"
   },
   {
    "duration": 312,
    "start_time": "2022-06-25T18:59:14.241Z"
   },
   {
    "duration": 355,
    "start_time": "2022-06-25T18:59:14.556Z"
   },
   {
    "duration": 385,
    "start_time": "2022-06-25T18:59:14.914Z"
   },
   {
    "duration": 290,
    "start_time": "2022-06-25T18:59:15.301Z"
   },
   {
    "duration": 7,
    "start_time": "2022-06-25T18:59:15.593Z"
   },
   {
    "duration": 8,
    "start_time": "2022-06-25T18:59:15.602Z"
   },
   {
    "duration": 329,
    "start_time": "2022-06-25T18:59:15.613Z"
   },
   {
    "duration": 15,
    "start_time": "2022-06-25T18:59:15.943Z"
   },
   {
    "duration": 20,
    "start_time": "2022-06-25T18:59:15.964Z"
   },
   {
    "duration": 305,
    "start_time": "2022-06-25T18:59:15.988Z"
   },
   {
    "duration": 40,
    "start_time": "2022-06-25T19:01:46.999Z"
   },
   {
    "duration": 320,
    "start_time": "2022-06-25T20:23:03.874Z"
   },
   {
    "duration": 278,
    "start_time": "2022-06-25T20:26:35.734Z"
   },
   {
    "duration": 40,
    "start_time": "2022-06-26T18:13:28.500Z"
   },
   {
    "duration": 1199,
    "start_time": "2022-06-26T18:13:34.777Z"
   },
   {
    "duration": 1159,
    "start_time": "2022-06-26T18:13:35.977Z"
   },
   {
    "duration": 21,
    "start_time": "2022-06-26T18:13:37.137Z"
   },
   {
    "duration": 44,
    "start_time": "2022-06-26T18:13:37.160Z"
   },
   {
    "duration": 27,
    "start_time": "2022-06-26T18:13:37.205Z"
   },
   {
    "duration": 36,
    "start_time": "2022-06-26T18:13:37.233Z"
   },
   {
    "duration": 31,
    "start_time": "2022-06-26T18:13:37.270Z"
   },
   {
    "duration": 38,
    "start_time": "2022-06-26T18:13:37.303Z"
   },
   {
    "duration": 8,
    "start_time": "2022-06-26T18:13:37.342Z"
   },
   {
    "duration": 30,
    "start_time": "2022-06-26T18:13:37.352Z"
   },
   {
    "duration": 39,
    "start_time": "2022-06-26T18:13:37.383Z"
   },
   {
    "duration": 64,
    "start_time": "2022-06-26T18:13:37.423Z"
   },
   {
    "duration": 62,
    "start_time": "2022-06-26T18:13:37.489Z"
   },
   {
    "duration": 48,
    "start_time": "2022-06-26T18:13:37.553Z"
   },
   {
    "duration": 7,
    "start_time": "2022-06-26T18:13:37.603Z"
   },
   {
    "duration": 35,
    "start_time": "2022-06-26T18:13:37.611Z"
   },
   {
    "duration": 20,
    "start_time": "2022-06-26T18:13:37.647Z"
   },
   {
    "duration": 25,
    "start_time": "2022-06-26T18:13:37.669Z"
   },
   {
    "duration": 43,
    "start_time": "2022-06-26T18:13:37.696Z"
   },
   {
    "duration": 9,
    "start_time": "2022-06-26T18:13:37.740Z"
   },
   {
    "duration": 10,
    "start_time": "2022-06-26T18:13:37.752Z"
   },
   {
    "duration": 23,
    "start_time": "2022-06-26T18:13:37.764Z"
   },
   {
    "duration": 27,
    "start_time": "2022-06-26T18:13:37.789Z"
   },
   {
    "duration": 25,
    "start_time": "2022-06-26T18:13:37.817Z"
   },
   {
    "duration": 177,
    "start_time": "2022-06-26T18:13:37.843Z"
   },
   {
    "duration": 4,
    "start_time": "2022-06-26T18:13:38.021Z"
   },
   {
    "duration": 23,
    "start_time": "2022-06-26T18:13:38.026Z"
   },
   {
    "duration": 210,
    "start_time": "2022-06-26T18:13:38.051Z"
   },
   {
    "duration": 191,
    "start_time": "2022-06-26T18:13:38.262Z"
   },
   {
    "duration": 183,
    "start_time": "2022-06-26T18:13:38.455Z"
   },
   {
    "duration": 196,
    "start_time": "2022-06-26T18:13:38.640Z"
   },
   {
    "duration": 190,
    "start_time": "2022-06-26T18:13:38.838Z"
   },
   {
    "duration": 190,
    "start_time": "2022-06-26T18:13:39.029Z"
   },
   {
    "duration": 184,
    "start_time": "2022-06-26T18:13:39.221Z"
   },
   {
    "duration": 248,
    "start_time": "2022-06-26T18:13:39.407Z"
   },
   {
    "duration": 190,
    "start_time": "2022-06-26T18:13:39.656Z"
   },
   {
    "duration": 5,
    "start_time": "2022-06-26T18:13:39.847Z"
   },
   {
    "duration": 4,
    "start_time": "2022-06-26T18:13:39.853Z"
   },
   {
    "duration": 207,
    "start_time": "2022-06-26T18:13:39.858Z"
   },
   {
    "duration": 6,
    "start_time": "2022-06-26T18:13:40.066Z"
   },
   {
    "duration": 7,
    "start_time": "2022-06-26T18:13:40.073Z"
   },
   {
    "duration": 188,
    "start_time": "2022-06-26T18:13:40.090Z"
   },
   {
    "duration": 4,
    "start_time": "2022-06-26T18:13:57.528Z"
   },
   {
    "duration": 1919,
    "start_time": "2022-06-26T18:14:53.017Z"
   },
   {
    "duration": 15,
    "start_time": "2022-06-26T18:15:23.299Z"
   },
   {
    "duration": 1008,
    "start_time": "2022-06-26T18:25:53.333Z"
   },
   {
    "duration": 334,
    "start_time": "2022-06-26T18:25:54.342Z"
   },
   {
    "duration": 22,
    "start_time": "2022-06-26T18:25:54.677Z"
   },
   {
    "duration": 35,
    "start_time": "2022-06-26T18:25:54.700Z"
   },
   {
    "duration": 26,
    "start_time": "2022-06-26T18:25:54.737Z"
   },
   {
    "duration": 51,
    "start_time": "2022-06-26T18:25:54.764Z"
   },
   {
    "duration": 12,
    "start_time": "2022-06-26T18:25:54.817Z"
   },
   {
    "duration": 28,
    "start_time": "2022-06-26T18:25:54.830Z"
   },
   {
    "duration": 6,
    "start_time": "2022-06-26T18:25:54.860Z"
   },
   {
    "duration": 26,
    "start_time": "2022-06-26T18:25:54.867Z"
   },
   {
    "duration": 13,
    "start_time": "2022-06-26T18:25:54.894Z"
   },
   {
    "duration": 32,
    "start_time": "2022-06-26T18:25:54.908Z"
   },
   {
    "duration": 62,
    "start_time": "2022-06-26T18:25:54.941Z"
   },
   {
    "duration": 38,
    "start_time": "2022-06-26T18:25:55.005Z"
   },
   {
    "duration": 6,
    "start_time": "2022-06-26T18:25:55.045Z"
   },
   {
    "duration": 40,
    "start_time": "2022-06-26T18:25:55.052Z"
   },
   {
    "duration": 18,
    "start_time": "2022-06-26T18:25:55.094Z"
   },
   {
    "duration": 17,
    "start_time": "2022-06-26T18:25:55.113Z"
   },
   {
    "duration": 33,
    "start_time": "2022-06-26T18:25:55.132Z"
   },
   {
    "duration": 31,
    "start_time": "2022-06-26T18:25:55.166Z"
   },
   {
    "duration": 7,
    "start_time": "2022-06-26T18:25:55.199Z"
   },
   {
    "duration": 6,
    "start_time": "2022-06-26T18:25:55.208Z"
   },
   {
    "duration": 8,
    "start_time": "2022-06-26T18:25:55.216Z"
   },
   {
    "duration": 12,
    "start_time": "2022-06-26T18:25:55.226Z"
   },
   {
    "duration": 204,
    "start_time": "2022-06-26T18:25:55.239Z"
   },
   {
    "duration": 4,
    "start_time": "2022-06-26T18:25:55.444Z"
   },
   {
    "duration": 18,
    "start_time": "2022-06-26T18:25:55.449Z"
   },
   {
    "duration": 3,
    "start_time": "2022-06-26T18:25:55.469Z"
   },
   {
    "duration": 215,
    "start_time": "2022-06-26T18:25:55.473Z"
   },
   {
    "duration": 209,
    "start_time": "2022-06-26T18:25:55.691Z"
   },
   {
    "duration": 181,
    "start_time": "2022-06-26T18:25:55.902Z"
   },
   {
    "duration": 195,
    "start_time": "2022-06-26T18:25:56.084Z"
   },
   {
    "duration": 182,
    "start_time": "2022-06-26T18:25:56.280Z"
   },
   {
    "duration": 190,
    "start_time": "2022-06-26T18:25:56.464Z"
   },
   {
    "duration": 181,
    "start_time": "2022-06-26T18:25:56.656Z"
   },
   {
    "duration": 266,
    "start_time": "2022-06-26T18:25:56.838Z"
   },
   {
    "duration": 189,
    "start_time": "2022-06-26T18:25:57.106Z"
   },
   {
    "duration": 6,
    "start_time": "2022-06-26T18:25:57.296Z"
   },
   {
    "duration": 5,
    "start_time": "2022-06-26T18:25:57.303Z"
   },
   {
    "duration": 200,
    "start_time": "2022-06-26T18:25:57.310Z"
   },
   {
    "duration": 4,
    "start_time": "2022-06-26T18:25:57.513Z"
   },
   {
    "duration": 6,
    "start_time": "2022-06-26T18:25:57.519Z"
   },
   {
    "duration": 189,
    "start_time": "2022-06-26T18:25:57.527Z"
   },
   {
    "duration": 4,
    "start_time": "2022-06-26T18:25:57.717Z"
   },
   {
    "duration": 46,
    "start_time": "2022-06-26T21:19:11.603Z"
   },
   {
    "duration": 1338,
    "start_time": "2022-06-26T21:19:14.919Z"
   },
   {
    "duration": 827,
    "start_time": "2022-06-26T21:19:16.260Z"
   },
   {
    "duration": 27,
    "start_time": "2022-06-26T21:19:17.089Z"
   },
   {
    "duration": 46,
    "start_time": "2022-06-26T21:19:17.117Z"
   },
   {
    "duration": 31,
    "start_time": "2022-06-26T21:19:17.165Z"
   },
   {
    "duration": 50,
    "start_time": "2022-06-26T21:19:17.198Z"
   },
   {
    "duration": 22,
    "start_time": "2022-06-26T21:19:17.250Z"
   },
   {
    "duration": 174,
    "start_time": "2022-06-26T21:19:17.274Z"
   },
   {
    "duration": 38,
    "start_time": "2022-06-26T21:19:17.449Z"
   },
   {
    "duration": 7,
    "start_time": "2022-06-26T21:19:17.490Z"
   },
   {
    "duration": 6,
    "start_time": "2022-06-26T21:19:17.498Z"
   },
   {
    "duration": 29,
    "start_time": "2022-06-26T21:19:17.505Z"
   },
   {
    "duration": 37,
    "start_time": "2022-06-26T21:19:17.536Z"
   },
   {
    "duration": 70,
    "start_time": "2022-06-26T21:19:17.575Z"
   },
   {
    "duration": 41,
    "start_time": "2022-06-26T21:19:17.646Z"
   },
   {
    "duration": 7,
    "start_time": "2022-06-26T21:19:17.689Z"
   },
   {
    "duration": 50,
    "start_time": "2022-06-26T21:19:17.697Z"
   },
   {
    "duration": 21,
    "start_time": "2022-06-26T21:19:17.748Z"
   },
   {
    "duration": 20,
    "start_time": "2022-06-26T21:19:17.770Z"
   },
   {
    "duration": 62,
    "start_time": "2022-06-26T21:19:17.792Z"
   },
   {
    "duration": 9,
    "start_time": "2022-06-26T21:19:17.856Z"
   },
   {
    "duration": 10,
    "start_time": "2022-06-26T21:19:17.867Z"
   },
   {
    "duration": 9,
    "start_time": "2022-06-26T21:19:17.878Z"
   },
   {
    "duration": 9,
    "start_time": "2022-06-26T21:19:17.888Z"
   },
   {
    "duration": 42,
    "start_time": "2022-06-26T21:19:17.899Z"
   },
   {
    "duration": 187,
    "start_time": "2022-06-26T21:19:17.943Z"
   },
   {
    "duration": 4,
    "start_time": "2022-06-26T21:19:18.132Z"
   },
   {
    "duration": 19,
    "start_time": "2022-06-26T21:19:18.139Z"
   },
   {
    "duration": 3,
    "start_time": "2022-06-26T21:19:18.159Z"
   },
   {
    "duration": 227,
    "start_time": "2022-06-26T21:19:18.164Z"
   },
   {
    "duration": 210,
    "start_time": "2022-06-26T21:19:18.392Z"
   },
   {
    "duration": 220,
    "start_time": "2022-06-26T21:19:18.603Z"
   },
   {
    "duration": 217,
    "start_time": "2022-06-26T21:19:18.825Z"
   },
   {
    "duration": 230,
    "start_time": "2022-06-26T21:19:19.044Z"
   },
   {
    "duration": 219,
    "start_time": "2022-06-26T21:19:19.275Z"
   },
   {
    "duration": 284,
    "start_time": "2022-06-26T21:19:19.496Z"
   },
   {
    "duration": 224,
    "start_time": "2022-06-26T21:19:19.782Z"
   },
   {
    "duration": 211,
    "start_time": "2022-06-26T21:19:20.008Z"
   },
   {
    "duration": 12,
    "start_time": "2022-06-26T21:19:20.220Z"
   },
   {
    "duration": 6,
    "start_time": "2022-06-26T21:19:20.234Z"
   },
   {
    "duration": 233,
    "start_time": "2022-06-26T21:19:20.242Z"
   },
   {
    "duration": 6,
    "start_time": "2022-06-26T21:19:20.477Z"
   },
   {
    "duration": 19,
    "start_time": "2022-06-26T21:19:20.484Z"
   },
   {
    "duration": 198,
    "start_time": "2022-06-26T21:19:20.504Z"
   },
   {
    "duration": 4,
    "start_time": "2022-06-26T21:19:20.704Z"
   },
   {
    "duration": 77,
    "start_time": "2022-06-26T21:30:01.374Z"
   },
   {
    "duration": 26,
    "start_time": "2022-06-26T21:32:20.451Z"
   },
   {
    "duration": 281,
    "start_time": "2022-06-26T21:32:46.033Z"
   },
   {
    "duration": 50,
    "start_time": "2022-06-26T21:34:29.891Z"
   },
   {
    "duration": 47,
    "start_time": "2022-06-26T21:34:36.005Z"
   },
   {
    "duration": 30,
    "start_time": "2022-06-26T21:34:42.100Z"
   },
   {
    "duration": 41,
    "start_time": "2022-06-26T21:34:50.385Z"
   },
   {
    "duration": 64,
    "start_time": "2022-06-26T21:35:53.764Z"
   },
   {
    "duration": 61,
    "start_time": "2022-06-26T21:36:09.500Z"
   },
   {
    "duration": 19,
    "start_time": "2022-06-26T21:38:13.504Z"
   },
   {
    "duration": 39,
    "start_time": "2022-06-26T21:38:24.129Z"
   },
   {
    "duration": 40,
    "start_time": "2022-06-26T21:38:44.440Z"
   },
   {
    "duration": 44,
    "start_time": "2022-06-26T21:38:58.055Z"
   },
   {
    "duration": 60,
    "start_time": "2022-06-26T21:41:32.498Z"
   },
   {
    "duration": 47,
    "start_time": "2022-06-26T21:41:57.053Z"
   },
   {
    "duration": 11,
    "start_time": "2022-06-26T21:42:07.918Z"
   },
   {
    "duration": 12,
    "start_time": "2022-06-26T21:42:40.561Z"
   },
   {
    "duration": 1119,
    "start_time": "2022-06-26T21:42:50.036Z"
   },
   {
    "duration": 377,
    "start_time": "2022-06-26T21:42:51.156Z"
   },
   {
    "duration": 26,
    "start_time": "2022-06-26T21:42:51.534Z"
   },
   {
    "duration": 46,
    "start_time": "2022-06-26T21:42:51.562Z"
   },
   {
    "duration": 51,
    "start_time": "2022-06-26T21:42:51.609Z"
   },
   {
    "duration": 40,
    "start_time": "2022-06-26T21:42:51.662Z"
   },
   {
    "duration": 37,
    "start_time": "2022-06-26T21:42:51.704Z"
   },
   {
    "duration": 176,
    "start_time": "2022-06-26T21:42:51.742Z"
   },
   {
    "duration": 44,
    "start_time": "2022-06-26T21:42:51.919Z"
   },
   {
    "duration": 8,
    "start_time": "2022-06-26T21:42:51.966Z"
   },
   {
    "duration": 10,
    "start_time": "2022-06-26T21:42:51.975Z"
   },
   {
    "duration": 14,
    "start_time": "2022-06-26T21:42:51.987Z"
   },
   {
    "duration": 63,
    "start_time": "2022-06-26T21:42:52.002Z"
   },
   {
    "duration": 68,
    "start_time": "2022-06-26T21:42:52.067Z"
   },
   {
    "duration": 43,
    "start_time": "2022-06-26T21:42:52.136Z"
   },
   {
    "duration": 8,
    "start_time": "2022-06-26T21:42:52.180Z"
   },
   {
    "duration": 47,
    "start_time": "2022-06-26T21:42:52.189Z"
   },
   {
    "duration": 20,
    "start_time": "2022-06-26T21:42:52.237Z"
   },
   {
    "duration": 20,
    "start_time": "2022-06-26T21:42:52.259Z"
   },
   {
    "duration": 63,
    "start_time": "2022-06-26T21:42:52.280Z"
   },
   {
    "duration": 8,
    "start_time": "2022-06-26T21:42:52.345Z"
   },
   {
    "duration": 7,
    "start_time": "2022-06-26T21:42:52.355Z"
   },
   {
    "duration": 124,
    "start_time": "2022-06-26T21:42:52.363Z"
   },
   {
    "duration": 0,
    "start_time": "2022-06-26T21:42:52.488Z"
   },
   {
    "duration": 0,
    "start_time": "2022-06-26T21:42:52.490Z"
   },
   {
    "duration": 0,
    "start_time": "2022-06-26T21:42:52.491Z"
   },
   {
    "duration": 0,
    "start_time": "2022-06-26T21:42:52.492Z"
   },
   {
    "duration": 0,
    "start_time": "2022-06-26T21:42:52.493Z"
   },
   {
    "duration": 0,
    "start_time": "2022-06-26T21:42:52.494Z"
   },
   {
    "duration": 0,
    "start_time": "2022-06-26T21:42:52.495Z"
   },
   {
    "duration": 0,
    "start_time": "2022-06-26T21:42:52.496Z"
   },
   {
    "duration": 0,
    "start_time": "2022-06-26T21:42:52.497Z"
   },
   {
    "duration": 0,
    "start_time": "2022-06-26T21:42:52.498Z"
   },
   {
    "duration": 0,
    "start_time": "2022-06-26T21:42:52.499Z"
   },
   {
    "duration": 0,
    "start_time": "2022-06-26T21:42:52.500Z"
   },
   {
    "duration": 0,
    "start_time": "2022-06-26T21:42:52.501Z"
   },
   {
    "duration": 0,
    "start_time": "2022-06-26T21:42:52.528Z"
   },
   {
    "duration": 0,
    "start_time": "2022-06-26T21:42:52.529Z"
   },
   {
    "duration": 0,
    "start_time": "2022-06-26T21:42:52.530Z"
   },
   {
    "duration": 0,
    "start_time": "2022-06-26T21:42:52.531Z"
   },
   {
    "duration": 0,
    "start_time": "2022-06-26T21:42:52.531Z"
   },
   {
    "duration": 0,
    "start_time": "2022-06-26T21:42:52.532Z"
   },
   {
    "duration": 0,
    "start_time": "2022-06-26T21:42:52.533Z"
   },
   {
    "duration": 0,
    "start_time": "2022-06-26T21:42:52.534Z"
   },
   {
    "duration": 0,
    "start_time": "2022-06-26T21:42:52.535Z"
   },
   {
    "duration": 10,
    "start_time": "2022-06-26T21:45:04.687Z"
   },
   {
    "duration": 8,
    "start_time": "2022-06-26T21:45:13.906Z"
   },
   {
    "duration": 15,
    "start_time": "2022-06-26T21:45:16.410Z"
   },
   {
    "duration": 18,
    "start_time": "2022-06-26T21:45:17.455Z"
   },
   {
    "duration": 193,
    "start_time": "2022-06-26T21:45:17.723Z"
   },
   {
    "duration": 5,
    "start_time": "2022-06-26T21:45:18.010Z"
   },
   {
    "duration": 19,
    "start_time": "2022-06-26T21:45:18.132Z"
   },
   {
    "duration": 17,
    "start_time": "2022-06-26T21:45:18.810Z"
   },
   {
    "duration": 234,
    "start_time": "2022-06-26T21:45:19.079Z"
   },
   {
    "duration": 220,
    "start_time": "2022-06-26T21:45:20.415Z"
   },
   {
    "duration": 222,
    "start_time": "2022-06-26T21:45:20.637Z"
   },
   {
    "duration": 229,
    "start_time": "2022-06-26T21:45:21.006Z"
   },
   {
    "duration": 241,
    "start_time": "2022-06-26T21:45:21.237Z"
   },
   {
    "duration": 226,
    "start_time": "2022-06-26T21:45:21.479Z"
   },
   {
    "duration": 318,
    "start_time": "2022-06-26T21:45:21.738Z"
   },
   {
    "duration": 246,
    "start_time": "2022-06-26T21:45:22.058Z"
   },
   {
    "duration": 251,
    "start_time": "2022-06-26T21:45:22.305Z"
   },
   {
    "duration": 115,
    "start_time": "2022-06-26T21:47:44.655Z"
   },
   {
    "duration": 157,
    "start_time": "2022-06-26T21:48:11.390Z"
   },
   {
    "duration": 148,
    "start_time": "2022-06-26T21:48:38.057Z"
   },
   {
    "duration": 127,
    "start_time": "2022-06-26T21:48:39.331Z"
   },
   {
    "duration": 121,
    "start_time": "2022-06-26T21:48:39.924Z"
   },
   {
    "duration": 125,
    "start_time": "2022-06-26T21:48:47.387Z"
   },
   {
    "duration": 121,
    "start_time": "2022-06-26T21:53:49.830Z"
   },
   {
    "duration": 52,
    "start_time": "2022-06-26T21:53:50.159Z"
   },
   {
    "duration": 6,
    "start_time": "2022-06-26T21:56:03.351Z"
   },
   {
    "duration": 5,
    "start_time": "2022-06-26T21:56:03.965Z"
   },
   {
    "duration": 269,
    "start_time": "2022-06-26T21:56:04.701Z"
   },
   {
    "duration": 7,
    "start_time": "2022-06-26T21:56:14.443Z"
   },
   {
    "duration": 4,
    "start_time": "2022-06-26T21:56:15.044Z"
   },
   {
    "duration": 312,
    "start_time": "2022-06-26T21:56:18.015Z"
   },
   {
    "duration": 13,
    "start_time": "2022-06-26T21:59:26.951Z"
   },
   {
    "duration": 45,
    "start_time": "2022-06-26T22:00:12.093Z"
   },
   {
    "duration": 878,
    "start_time": "2022-06-26T22:01:09.210Z"
   },
   {
    "duration": 17,
    "start_time": "2022-06-26T22:01:10.440Z"
   },
   {
    "duration": 11,
    "start_time": "2022-06-26T22:01:10.727Z"
   },
   {
    "duration": 44,
    "start_time": "2022-06-26T22:01:38.090Z"
   },
   {
    "duration": 10,
    "start_time": "2022-06-26T22:01:41.546Z"
   },
   {
    "duration": 10,
    "start_time": "2022-06-26T22:01:43.719Z"
   },
   {
    "duration": 7,
    "start_time": "2022-06-26T22:01:46.439Z"
   },
   {
    "duration": 10,
    "start_time": "2022-06-26T22:01:46.877Z"
   },
   {
    "duration": 19,
    "start_time": "2022-06-26T22:01:48.274Z"
   },
   {
    "duration": 180,
    "start_time": "2022-06-26T22:01:49.415Z"
   },
   {
    "duration": 4,
    "start_time": "2022-06-26T22:01:49.775Z"
   },
   {
    "duration": 17,
    "start_time": "2022-06-26T22:01:50.412Z"
   },
   {
    "duration": 3,
    "start_time": "2022-06-26T22:01:51.887Z"
   },
   {
    "duration": 212,
    "start_time": "2022-06-26T22:01:52.332Z"
   },
   {
    "duration": 209,
    "start_time": "2022-06-26T22:01:53.463Z"
   },
   {
    "duration": 231,
    "start_time": "2022-06-26T22:01:53.809Z"
   },
   {
    "duration": 210,
    "start_time": "2022-06-26T22:01:54.152Z"
   },
   {
    "duration": 207,
    "start_time": "2022-06-26T22:01:54.364Z"
   },
   {
    "duration": 210,
    "start_time": "2022-06-26T22:01:54.585Z"
   },
   {
    "duration": 213,
    "start_time": "2022-06-26T22:01:54.911Z"
   },
   {
    "duration": 229,
    "start_time": "2022-06-26T22:01:55.127Z"
   },
   {
    "duration": 211,
    "start_time": "2022-06-26T22:01:55.358Z"
   },
   {
    "duration": 277,
    "start_time": "2022-06-26T22:01:56.030Z"
   },
   {
    "duration": 115,
    "start_time": "2022-06-26T22:01:56.696Z"
   },
   {
    "duration": 127,
    "start_time": "2022-06-26T22:01:57.610Z"
   },
   {
    "duration": 49,
    "start_time": "2022-06-26T22:08:11.992Z"
   },
   {
    "duration": 50,
    "start_time": "2022-06-26T22:08:19.193Z"
   },
   {
    "duration": 79,
    "start_time": "2022-06-26T22:08:30.192Z"
   },
   {
    "duration": 204,
    "start_time": "2022-06-26T22:15:36.747Z"
   },
   {
    "duration": 216,
    "start_time": "2022-06-26T22:15:52.811Z"
   },
   {
    "duration": 226,
    "start_time": "2022-06-26T22:19:48.770Z"
   },
   {
    "duration": 5,
    "start_time": "2022-06-26T22:20:04.006Z"
   },
   {
    "duration": 1081,
    "start_time": "2022-06-26T22:20:20.769Z"
   },
   {
    "duration": 388,
    "start_time": "2022-06-26T22:20:21.852Z"
   },
   {
    "duration": 26,
    "start_time": "2022-06-26T22:20:22.241Z"
   },
   {
    "duration": 60,
    "start_time": "2022-06-26T22:20:22.268Z"
   },
   {
    "duration": 35,
    "start_time": "2022-06-26T22:20:22.330Z"
   },
   {
    "duration": 70,
    "start_time": "2022-06-26T22:20:22.367Z"
   },
   {
    "duration": 15,
    "start_time": "2022-06-26T22:20:22.438Z"
   },
   {
    "duration": 174,
    "start_time": "2022-06-26T22:20:22.454Z"
   },
   {
    "duration": 42,
    "start_time": "2022-06-26T22:20:22.630Z"
   },
   {
    "duration": 9,
    "start_time": "2022-06-26T22:20:22.674Z"
   },
   {
    "duration": 7,
    "start_time": "2022-06-26T22:20:22.685Z"
   },
   {
    "duration": 40,
    "start_time": "2022-06-26T22:20:22.694Z"
   },
   {
    "duration": 51,
    "start_time": "2022-06-26T22:20:22.736Z"
   },
   {
    "duration": 71,
    "start_time": "2022-06-26T22:20:22.791Z"
   },
   {
    "duration": 42,
    "start_time": "2022-06-26T22:20:22.863Z"
   },
   {
    "duration": 21,
    "start_time": "2022-06-26T22:20:22.906Z"
   },
   {
    "duration": 27,
    "start_time": "2022-06-26T22:20:22.929Z"
   },
   {
    "duration": 24,
    "start_time": "2022-06-26T22:20:22.958Z"
   },
   {
    "duration": 57,
    "start_time": "2022-06-26T22:20:22.984Z"
   },
   {
    "duration": 55,
    "start_time": "2022-06-26T22:20:23.043Z"
   },
   {
    "duration": 29,
    "start_time": "2022-06-26T22:20:23.100Z"
   },
   {
    "duration": 19,
    "start_time": "2022-06-26T22:20:23.131Z"
   },
   {
    "duration": 9,
    "start_time": "2022-06-26T22:20:23.152Z"
   },
   {
    "duration": 10,
    "start_time": "2022-06-26T22:20:23.163Z"
   },
   {
    "duration": 18,
    "start_time": "2022-06-26T22:20:23.175Z"
   },
   {
    "duration": 235,
    "start_time": "2022-06-26T22:20:23.195Z"
   },
   {
    "duration": 4,
    "start_time": "2022-06-26T22:20:23.432Z"
   },
   {
    "duration": 21,
    "start_time": "2022-06-26T22:20:23.438Z"
   },
   {
    "duration": 3,
    "start_time": "2022-06-26T22:20:23.460Z"
   },
   {
    "duration": 250,
    "start_time": "2022-06-26T22:20:23.464Z"
   },
   {
    "duration": 251,
    "start_time": "2022-06-26T22:20:23.716Z"
   },
   {
    "duration": 222,
    "start_time": "2022-06-26T22:20:23.968Z"
   },
   {
    "duration": 216,
    "start_time": "2022-06-26T22:20:24.192Z"
   },
   {
    "duration": 221,
    "start_time": "2022-06-26T22:20:24.409Z"
   },
   {
    "duration": 220,
    "start_time": "2022-06-26T22:20:24.631Z"
   },
   {
    "duration": 292,
    "start_time": "2022-06-26T22:20:24.853Z"
   },
   {
    "duration": 242,
    "start_time": "2022-06-26T22:20:25.146Z"
   },
   {
    "duration": 230,
    "start_time": "2022-06-26T22:20:25.389Z"
   },
   {
    "duration": 145,
    "start_time": "2022-06-26T22:20:25.621Z"
   },
   {
    "duration": 138,
    "start_time": "2022-06-26T22:20:25.768Z"
   },
   {
    "duration": 137,
    "start_time": "2022-06-26T22:20:25.909Z"
   },
   {
    "duration": 7,
    "start_time": "2022-06-26T22:20:26.048Z"
   },
   {
    "duration": 11,
    "start_time": "2022-06-26T22:20:26.056Z"
   },
   {
    "duration": 324,
    "start_time": "2022-06-26T22:20:26.068Z"
   },
   {
    "duration": 9,
    "start_time": "2022-06-26T22:20:26.394Z"
   },
   {
    "duration": 11,
    "start_time": "2022-06-26T22:20:26.405Z"
   },
   {
    "duration": 240,
    "start_time": "2022-06-26T22:20:26.426Z"
   },
   {
    "duration": 268,
    "start_time": "2022-06-26T22:20:26.668Z"
   },
   {
    "duration": 5,
    "start_time": "2022-06-26T22:20:26.938Z"
   },
   {
    "duration": 1299,
    "start_time": "2022-06-27T12:46:19.257Z"
   },
   {
    "duration": 113,
    "start_time": "2022-06-27T12:46:22.852Z"
   },
   {
    "duration": 1346,
    "start_time": "2022-06-27T12:46:30.148Z"
   },
   {
    "duration": 428,
    "start_time": "2022-06-27T12:46:31.497Z"
   },
   {
    "duration": 28,
    "start_time": "2022-06-27T12:46:31.927Z"
   },
   {
    "duration": 51,
    "start_time": "2022-06-27T12:46:31.958Z"
   },
   {
    "duration": 60,
    "start_time": "2022-06-27T12:46:32.011Z"
   },
   {
    "duration": 45,
    "start_time": "2022-06-27T12:46:32.073Z"
   },
   {
    "duration": 41,
    "start_time": "2022-06-27T12:46:32.120Z"
   },
   {
    "duration": 201,
    "start_time": "2022-06-27T12:46:32.163Z"
   },
   {
    "duration": 43,
    "start_time": "2022-06-27T12:46:32.366Z"
   },
   {
    "duration": 9,
    "start_time": "2022-06-27T12:46:32.411Z"
   },
   {
    "duration": 31,
    "start_time": "2022-06-27T12:46:32.422Z"
   },
   {
    "duration": 17,
    "start_time": "2022-06-27T12:46:32.455Z"
   },
   {
    "duration": 46,
    "start_time": "2022-06-27T12:46:32.474Z"
   },
   {
    "duration": 90,
    "start_time": "2022-06-27T12:46:32.523Z"
   },
   {
    "duration": 68,
    "start_time": "2022-06-27T12:46:32.615Z"
   },
   {
    "duration": 8,
    "start_time": "2022-06-27T12:46:32.685Z"
   },
   {
    "duration": 28,
    "start_time": "2022-06-27T12:46:32.695Z"
   },
   {
    "duration": 46,
    "start_time": "2022-06-27T12:46:32.725Z"
   },
   {
    "duration": 24,
    "start_time": "2022-06-27T12:46:32.773Z"
   },
   {
    "duration": 72,
    "start_time": "2022-06-27T12:46:32.799Z"
   },
   {
    "duration": 11,
    "start_time": "2022-06-27T12:46:32.873Z"
   },
   {
    "duration": 11,
    "start_time": "2022-06-27T12:46:32.886Z"
   },
   {
    "duration": 8,
    "start_time": "2022-06-27T12:46:32.899Z"
   },
   {
    "duration": 47,
    "start_time": "2022-06-27T12:46:32.909Z"
   },
   {
    "duration": 18,
    "start_time": "2022-06-27T12:46:32.959Z"
   },
   {
    "duration": 248,
    "start_time": "2022-06-27T12:46:32.979Z"
   },
   {
    "duration": 5,
    "start_time": "2022-06-27T12:46:33.229Z"
   },
   {
    "duration": 33,
    "start_time": "2022-06-27T12:46:33.236Z"
   },
   {
    "duration": 4,
    "start_time": "2022-06-27T12:46:33.271Z"
   },
   {
    "duration": 288,
    "start_time": "2022-06-27T12:46:33.277Z"
   },
   {
    "duration": 261,
    "start_time": "2022-06-27T12:46:33.566Z"
   },
   {
    "duration": 261,
    "start_time": "2022-06-27T12:46:33.829Z"
   },
   {
    "duration": 269,
    "start_time": "2022-06-27T12:46:34.092Z"
   },
   {
    "duration": 327,
    "start_time": "2022-06-27T12:46:34.362Z"
   },
   {
    "duration": 262,
    "start_time": "2022-06-27T12:46:34.691Z"
   },
   {
    "duration": 337,
    "start_time": "2022-06-27T12:46:34.955Z"
   },
   {
    "duration": 280,
    "start_time": "2022-06-27T12:46:35.294Z"
   },
   {
    "duration": 264,
    "start_time": "2022-06-27T12:46:35.576Z"
   },
   {
    "duration": 162,
    "start_time": "2022-06-27T12:46:35.843Z"
   },
   {
    "duration": 156,
    "start_time": "2022-06-27T12:46:36.007Z"
   },
   {
    "duration": 155,
    "start_time": "2022-06-27T12:46:36.167Z"
   },
   {
    "duration": 7,
    "start_time": "2022-06-27T12:46:36.324Z"
   },
   {
    "duration": 18,
    "start_time": "2022-06-27T12:46:36.333Z"
   },
   {
    "duration": 290,
    "start_time": "2022-06-27T12:46:36.353Z"
   },
   {
    "duration": 10,
    "start_time": "2022-06-27T12:46:36.644Z"
   },
   {
    "duration": 6,
    "start_time": "2022-06-27T12:46:36.656Z"
   },
   {
    "duration": 266,
    "start_time": "2022-06-27T12:46:36.664Z"
   },
   {
    "duration": 262,
    "start_time": "2022-06-27T12:46:36.931Z"
   },
   {
    "duration": 4,
    "start_time": "2022-06-27T12:46:37.195Z"
   },
   {
    "duration": 11,
    "start_time": "2022-06-27T12:46:37.201Z"
   },
   {
    "duration": 12,
    "start_time": "2022-06-27T12:46:37.214Z"
   },
   {
    "duration": 6,
    "start_time": "2022-06-27T12:46:37.228Z"
   },
   {
    "duration": 146,
    "start_time": "2022-06-27T12:46:37.236Z"
   },
   {
    "duration": 0,
    "start_time": "2022-06-27T12:46:37.384Z"
   },
   {
    "duration": 0,
    "start_time": "2022-06-27T12:46:37.385Z"
   },
   {
    "duration": 0,
    "start_time": "2022-06-27T12:46:37.387Z"
   },
   {
    "duration": 0,
    "start_time": "2022-06-27T12:46:37.388Z"
   },
   {
    "duration": 0,
    "start_time": "2022-06-27T12:46:37.389Z"
   },
   {
    "duration": 206,
    "start_time": "2022-06-27T12:46:43.273Z"
   },
   {
    "duration": 1328,
    "start_time": "2022-06-27T12:47:26.587Z"
   },
   {
    "duration": 206,
    "start_time": "2022-06-27T12:47:35.316Z"
   },
   {
    "duration": 200,
    "start_time": "2022-06-27T12:47:40.466Z"
   },
   {
    "duration": 39,
    "start_time": "2022-06-27T12:47:42.804Z"
   },
   {
    "duration": 8,
    "start_time": "2022-06-27T12:49:03.052Z"
   },
   {
    "duration": 1356,
    "start_time": "2022-06-27T12:51:21.619Z"
   },
   {
    "duration": 436,
    "start_time": "2022-06-27T12:51:22.978Z"
   },
   {
    "duration": 29,
    "start_time": "2022-06-27T12:51:23.416Z"
   },
   {
    "duration": 63,
    "start_time": "2022-06-27T12:51:23.450Z"
   },
   {
    "duration": 56,
    "start_time": "2022-06-27T12:51:23.515Z"
   },
   {
    "duration": 43,
    "start_time": "2022-06-27T12:51:23.573Z"
   },
   {
    "duration": 37,
    "start_time": "2022-06-27T12:51:23.618Z"
   },
   {
    "duration": 202,
    "start_time": "2022-06-27T12:51:23.657Z"
   },
   {
    "duration": 48,
    "start_time": "2022-06-27T12:51:23.861Z"
   },
   {
    "duration": 9,
    "start_time": "2022-06-27T12:51:23.912Z"
   },
   {
    "duration": 33,
    "start_time": "2022-06-27T12:51:23.923Z"
   },
   {
    "duration": 15,
    "start_time": "2022-06-27T12:51:23.958Z"
   },
   {
    "duration": 52,
    "start_time": "2022-06-27T12:51:23.975Z"
   },
   {
    "duration": 90,
    "start_time": "2022-06-27T12:51:24.029Z"
   },
   {
    "duration": 67,
    "start_time": "2022-06-27T12:51:24.121Z"
   },
   {
    "duration": 8,
    "start_time": "2022-06-27T12:51:24.189Z"
   },
   {
    "duration": 30,
    "start_time": "2022-06-27T12:51:24.199Z"
   },
   {
    "duration": 40,
    "start_time": "2022-06-27T12:51:24.230Z"
   },
   {
    "duration": 24,
    "start_time": "2022-06-27T12:51:24.272Z"
   },
   {
    "duration": 76,
    "start_time": "2022-06-27T12:51:24.298Z"
   },
   {
    "duration": 16,
    "start_time": "2022-06-27T12:51:24.377Z"
   },
   {
    "duration": 14,
    "start_time": "2022-06-27T12:51:24.395Z"
   },
   {
    "duration": 46,
    "start_time": "2022-06-27T12:51:24.411Z"
   },
   {
    "duration": 16,
    "start_time": "2022-06-27T12:51:24.460Z"
   },
   {
    "duration": 24,
    "start_time": "2022-06-27T12:51:24.479Z"
   },
   {
    "duration": 282,
    "start_time": "2022-06-27T12:51:24.505Z"
   },
   {
    "duration": 6,
    "start_time": "2022-06-27T12:51:24.789Z"
   },
   {
    "duration": 22,
    "start_time": "2022-06-27T12:51:24.800Z"
   },
   {
    "duration": 3,
    "start_time": "2022-06-27T12:51:24.824Z"
   },
   {
    "duration": 269,
    "start_time": "2022-06-27T12:51:24.851Z"
   },
   {
    "duration": 269,
    "start_time": "2022-06-27T12:51:25.122Z"
   },
   {
    "duration": 258,
    "start_time": "2022-06-27T12:51:25.393Z"
   },
   {
    "duration": 260,
    "start_time": "2022-06-27T12:51:25.653Z"
   },
   {
    "duration": 273,
    "start_time": "2022-06-27T12:51:25.915Z"
   },
   {
    "duration": 266,
    "start_time": "2022-06-27T12:51:26.189Z"
   },
   {
    "duration": 343,
    "start_time": "2022-06-27T12:51:26.457Z"
   },
   {
    "duration": 294,
    "start_time": "2022-06-27T12:51:26.802Z"
   },
   {
    "duration": 266,
    "start_time": "2022-06-27T12:51:27.098Z"
   },
   {
    "duration": 170,
    "start_time": "2022-06-27T12:51:27.366Z"
   },
   {
    "duration": 154,
    "start_time": "2022-06-27T12:51:27.538Z"
   },
   {
    "duration": 159,
    "start_time": "2022-06-27T12:51:27.694Z"
   },
   {
    "duration": 8,
    "start_time": "2022-06-27T12:51:27.855Z"
   },
   {
    "duration": 8,
    "start_time": "2022-06-27T12:51:27.864Z"
   },
   {
    "duration": 310,
    "start_time": "2022-06-27T12:51:27.874Z"
   },
   {
    "duration": 8,
    "start_time": "2022-06-27T12:51:28.185Z"
   },
   {
    "duration": 8,
    "start_time": "2022-06-27T12:51:28.194Z"
   },
   {
    "duration": 8,
    "start_time": "2022-06-27T12:51:28.204Z"
   },
   {
    "duration": 285,
    "start_time": "2022-06-27T12:51:28.214Z"
   },
   {
    "duration": 268,
    "start_time": "2022-06-27T12:51:28.501Z"
   },
   {
    "duration": 4,
    "start_time": "2022-06-27T12:51:28.770Z"
   },
   {
    "duration": 8,
    "start_time": "2022-06-27T12:51:28.776Z"
   },
   {
    "duration": 1334,
    "start_time": "2022-06-27T12:51:28.786Z"
   },
   {
    "duration": 241,
    "start_time": "2022-06-27T12:51:30.122Z"
   },
   {
    "duration": 217,
    "start_time": "2022-06-27T12:51:30.365Z"
   },
   {
    "duration": 215,
    "start_time": "2022-06-27T12:51:30.584Z"
   },
   {
    "duration": 43,
    "start_time": "2022-06-27T12:51:30.801Z"
   },
   {
    "duration": 1388,
    "start_time": "2022-06-29T16:34:04.497Z"
   },
   {
    "duration": 702,
    "start_time": "2022-06-29T16:34:05.887Z"
   },
   {
    "duration": 28,
    "start_time": "2022-06-29T16:34:06.590Z"
   },
   {
    "duration": 46,
    "start_time": "2022-06-29T16:34:06.621Z"
   },
   {
    "duration": 33,
    "start_time": "2022-06-29T16:34:06.669Z"
   },
   {
    "duration": 61,
    "start_time": "2022-06-29T16:34:06.703Z"
   },
   {
    "duration": 20,
    "start_time": "2022-06-29T16:34:06.766Z"
   },
   {
    "duration": 198,
    "start_time": "2022-06-29T16:34:06.788Z"
   },
   {
    "duration": 42,
    "start_time": "2022-06-29T16:34:06.988Z"
   },
   {
    "duration": 28,
    "start_time": "2022-06-29T16:34:07.033Z"
   },
   {
    "duration": 10,
    "start_time": "2022-06-29T16:34:07.063Z"
   },
   {
    "duration": 17,
    "start_time": "2022-06-29T16:34:07.075Z"
   },
   {
    "duration": 79,
    "start_time": "2022-06-29T16:34:07.094Z"
   },
   {
    "duration": 92,
    "start_time": "2022-06-29T16:34:07.175Z"
   },
   {
    "duration": 43,
    "start_time": "2022-06-29T16:34:07.269Z"
   },
   {
    "duration": 7,
    "start_time": "2022-06-29T16:34:07.314Z"
   },
   {
    "duration": 56,
    "start_time": "2022-06-29T16:34:07.322Z"
   },
   {
    "duration": 30,
    "start_time": "2022-06-29T16:34:07.380Z"
   },
   {
    "duration": 50,
    "start_time": "2022-06-29T16:34:07.412Z"
   },
   {
    "duration": 50,
    "start_time": "2022-06-29T16:34:07.465Z"
   },
   {
    "duration": 35,
    "start_time": "2022-06-29T16:34:07.517Z"
   },
   {
    "duration": 13,
    "start_time": "2022-06-29T16:34:07.555Z"
   },
   {
    "duration": 10,
    "start_time": "2022-06-29T16:34:07.570Z"
   },
   {
    "duration": 15,
    "start_time": "2022-06-29T16:34:07.582Z"
   },
   {
    "duration": 53,
    "start_time": "2022-06-29T16:34:07.599Z"
   },
   {
    "duration": 226,
    "start_time": "2022-06-29T16:34:07.655Z"
   },
   {
    "duration": 4,
    "start_time": "2022-06-29T16:34:07.883Z"
   },
   {
    "duration": 28,
    "start_time": "2022-06-29T16:34:07.891Z"
   },
   {
    "duration": 8,
    "start_time": "2022-06-29T16:34:07.921Z"
   },
   {
    "duration": 245,
    "start_time": "2022-06-29T16:34:07.931Z"
   },
   {
    "duration": 250,
    "start_time": "2022-06-29T16:34:08.178Z"
   },
   {
    "duration": 236,
    "start_time": "2022-06-29T16:34:08.430Z"
   },
   {
    "duration": 253,
    "start_time": "2022-06-29T16:34:08.668Z"
   },
   {
    "duration": 241,
    "start_time": "2022-06-29T16:34:08.923Z"
   },
   {
    "duration": 249,
    "start_time": "2022-06-29T16:34:09.166Z"
   },
   {
    "duration": 338,
    "start_time": "2022-06-29T16:34:09.418Z"
   },
   {
    "duration": 244,
    "start_time": "2022-06-29T16:34:09.758Z"
   },
   {
    "duration": 283,
    "start_time": "2022-06-29T16:34:10.004Z"
   },
   {
    "duration": 140,
    "start_time": "2022-06-29T16:34:10.289Z"
   },
   {
    "duration": 139,
    "start_time": "2022-06-29T16:34:10.431Z"
   },
   {
    "duration": 146,
    "start_time": "2022-06-29T16:34:10.572Z"
   },
   {
    "duration": 6,
    "start_time": "2022-06-29T16:34:10.720Z"
   },
   {
    "duration": 12,
    "start_time": "2022-06-29T16:34:10.728Z"
   },
   {
    "duration": 256,
    "start_time": "2022-06-29T16:34:10.752Z"
   },
   {
    "duration": 6,
    "start_time": "2022-06-29T16:34:11.010Z"
   },
   {
    "duration": 8,
    "start_time": "2022-06-29T16:34:11.018Z"
   },
   {
    "duration": 13,
    "start_time": "2022-06-29T16:34:11.028Z"
   },
   {
    "duration": 252,
    "start_time": "2022-06-29T16:34:11.043Z"
   },
   {
    "duration": 270,
    "start_time": "2022-06-29T16:34:11.297Z"
   },
   {
    "duration": 4,
    "start_time": "2022-06-29T16:34:11.569Z"
   },
   {
    "duration": 21,
    "start_time": "2022-06-29T16:34:11.575Z"
   },
   {
    "duration": 1308,
    "start_time": "2022-06-29T16:34:11.598Z"
   },
   {
    "duration": 326,
    "start_time": "2022-06-29T16:34:12.908Z"
   },
   {
    "duration": 224,
    "start_time": "2022-06-29T16:34:13.236Z"
   },
   {
    "duration": 178,
    "start_time": "2022-06-29T16:34:13.461Z"
   },
   {
    "duration": 40,
    "start_time": "2022-06-29T16:34:13.641Z"
   },
   {
    "duration": 4,
    "start_time": "2022-06-29T16:38:36.864Z"
   },
   {
    "duration": 397,
    "start_time": "2022-06-29T16:38:36.869Z"
   },
   {
    "duration": 26,
    "start_time": "2022-06-29T16:38:37.269Z"
   },
   {
    "duration": 70,
    "start_time": "2022-06-29T16:38:37.297Z"
   },
   {
    "duration": 37,
    "start_time": "2022-06-29T16:38:37.369Z"
   },
   {
    "duration": 71,
    "start_time": "2022-06-29T16:38:37.408Z"
   },
   {
    "duration": 18,
    "start_time": "2022-06-29T16:38:37.481Z"
   },
   {
    "duration": 188,
    "start_time": "2022-06-29T16:38:37.501Z"
   },
   {
    "duration": 35,
    "start_time": "2022-06-29T16:38:37.691Z"
   },
   {
    "duration": 31,
    "start_time": "2022-06-29T16:38:37.728Z"
   },
   {
    "duration": 5,
    "start_time": "2022-06-29T16:38:37.763Z"
   },
   {
    "duration": 14,
    "start_time": "2022-06-29T16:38:37.770Z"
   },
   {
    "duration": 44,
    "start_time": "2022-06-29T16:38:37.786Z"
   },
   {
    "duration": 59,
    "start_time": "2022-06-29T16:38:37.853Z"
   },
   {
    "duration": 61,
    "start_time": "2022-06-29T16:38:37.913Z"
   },
   {
    "duration": 8,
    "start_time": "2022-06-29T16:38:37.976Z"
   },
   {
    "duration": 26,
    "start_time": "2022-06-29T16:38:37.985Z"
   },
   {
    "duration": 48,
    "start_time": "2022-06-29T16:38:38.013Z"
   },
   {
    "duration": 21,
    "start_time": "2022-06-29T16:38:38.063Z"
   },
   {
    "duration": 44,
    "start_time": "2022-06-29T16:38:38.085Z"
   },
   {
    "duration": 28,
    "start_time": "2022-06-29T16:38:38.131Z"
   },
   {
    "duration": 14,
    "start_time": "2022-06-29T16:38:38.161Z"
   },
   {
    "duration": 7,
    "start_time": "2022-06-29T16:38:38.177Z"
   },
   {
    "duration": 18,
    "start_time": "2022-06-29T16:38:38.186Z"
   },
   {
    "duration": 17,
    "start_time": "2022-06-29T16:38:38.205Z"
   },
   {
    "duration": 229,
    "start_time": "2022-06-29T16:38:38.224Z"
   },
   {
    "duration": 5,
    "start_time": "2022-06-29T16:38:38.454Z"
   },
   {
    "duration": 21,
    "start_time": "2022-06-29T16:38:38.460Z"
   },
   {
    "duration": 4,
    "start_time": "2022-06-29T16:38:38.484Z"
   },
   {
    "duration": 243,
    "start_time": "2022-06-29T16:38:38.489Z"
   },
   {
    "duration": 249,
    "start_time": "2022-06-29T16:38:38.734Z"
   },
   {
    "duration": 233,
    "start_time": "2022-06-29T16:38:38.984Z"
   },
   {
    "duration": 243,
    "start_time": "2022-06-29T16:38:39.219Z"
   },
   {
    "duration": 236,
    "start_time": "2022-06-29T16:38:39.464Z"
   },
   {
    "duration": 351,
    "start_time": "2022-06-29T16:38:39.702Z"
   },
   {
    "duration": 287,
    "start_time": "2022-06-29T16:38:40.055Z"
   },
   {
    "duration": 287,
    "start_time": "2022-06-29T16:38:40.344Z"
   },
   {
    "duration": 236,
    "start_time": "2022-06-29T16:38:40.633Z"
   },
   {
    "duration": 145,
    "start_time": "2022-06-29T16:38:40.871Z"
   },
   {
    "duration": 124,
    "start_time": "2022-06-29T16:38:41.017Z"
   },
   {
    "duration": 121,
    "start_time": "2022-06-29T16:38:41.151Z"
   },
   {
    "duration": 6,
    "start_time": "2022-06-29T16:38:41.274Z"
   },
   {
    "duration": 7,
    "start_time": "2022-06-29T16:38:41.282Z"
   },
   {
    "duration": 236,
    "start_time": "2022-06-29T16:38:41.290Z"
   },
   {
    "duration": 7,
    "start_time": "2022-06-29T16:38:41.528Z"
   },
   {
    "duration": 18,
    "start_time": "2022-06-29T16:38:41.536Z"
   },
   {
    "duration": 16,
    "start_time": "2022-06-29T16:38:41.556Z"
   },
   {
    "duration": 227,
    "start_time": "2022-06-29T16:38:41.574Z"
   },
   {
    "duration": 252,
    "start_time": "2022-06-29T16:38:41.803Z"
   },
   {
    "duration": 3,
    "start_time": "2022-06-29T16:38:42.057Z"
   },
   {
    "duration": 19,
    "start_time": "2022-06-29T16:38:42.062Z"
   },
   {
    "duration": 1206,
    "start_time": "2022-06-29T16:38:42.082Z"
   },
   {
    "duration": 175,
    "start_time": "2022-06-29T16:38:43.290Z"
   },
   {
    "duration": 182,
    "start_time": "2022-06-29T16:38:43.466Z"
   },
   {
    "duration": 179,
    "start_time": "2022-06-29T16:38:43.651Z"
   },
   {
    "duration": 34,
    "start_time": "2022-06-29T16:38:43.832Z"
   },
   {
    "duration": 61,
    "start_time": "2022-06-29T21:30:21.189Z"
   },
   {
    "duration": 1194,
    "start_time": "2022-06-29T21:30:24.392Z"
   },
   {
    "duration": 1631,
    "start_time": "2022-06-29T21:30:25.589Z"
   },
   {
    "duration": 47,
    "start_time": "2022-06-29T21:30:27.222Z"
   },
   {
    "duration": 53,
    "start_time": "2022-06-29T21:30:27.277Z"
   },
   {
    "duration": 49,
    "start_time": "2022-06-29T21:30:27.332Z"
   },
   {
    "duration": 51,
    "start_time": "2022-06-29T21:30:27.385Z"
   },
   {
    "duration": 34,
    "start_time": "2022-06-29T21:30:27.438Z"
   },
   {
    "duration": 211,
    "start_time": "2022-06-29T21:30:27.474Z"
   },
   {
    "duration": 38,
    "start_time": "2022-06-29T21:30:27.687Z"
   },
   {
    "duration": 9,
    "start_time": "2022-06-29T21:30:27.727Z"
   },
   {
    "duration": 26,
    "start_time": "2022-06-29T21:30:27.745Z"
   },
   {
    "duration": 16,
    "start_time": "2022-06-29T21:30:27.780Z"
   },
   {
    "duration": 60,
    "start_time": "2022-06-29T21:30:27.798Z"
   },
   {
    "duration": 74,
    "start_time": "2022-06-29T21:30:27.860Z"
   },
   {
    "duration": 64,
    "start_time": "2022-06-29T21:30:27.936Z"
   },
   {
    "duration": 8,
    "start_time": "2022-06-29T21:30:28.001Z"
   },
   {
    "duration": 36,
    "start_time": "2022-06-29T21:30:28.010Z"
   },
   {
    "duration": 39,
    "start_time": "2022-06-29T21:30:28.050Z"
   },
   {
    "duration": 29,
    "start_time": "2022-06-29T21:30:28.091Z"
   },
   {
    "duration": 62,
    "start_time": "2022-06-29T21:30:28.122Z"
   },
   {
    "duration": 10,
    "start_time": "2022-06-29T21:30:28.186Z"
   },
   {
    "duration": 20,
    "start_time": "2022-06-29T21:30:28.197Z"
   },
   {
    "duration": 8,
    "start_time": "2022-06-29T21:30:28.218Z"
   },
   {
    "duration": 17,
    "start_time": "2022-06-29T21:30:28.246Z"
   },
   {
    "duration": 37,
    "start_time": "2022-06-29T21:30:28.265Z"
   },
   {
    "duration": 254,
    "start_time": "2022-06-29T21:30:28.303Z"
   },
   {
    "duration": 7,
    "start_time": "2022-06-29T21:30:28.566Z"
   },
   {
    "duration": 30,
    "start_time": "2022-06-29T21:30:28.578Z"
   },
   {
    "duration": 3,
    "start_time": "2022-06-29T21:30:28.610Z"
   },
   {
    "duration": 272,
    "start_time": "2022-06-29T21:30:28.615Z"
   },
   {
    "duration": 287,
    "start_time": "2022-06-29T21:30:28.889Z"
   },
   {
    "duration": 268,
    "start_time": "2022-06-29T21:30:29.182Z"
   },
   {
    "duration": 284,
    "start_time": "2022-06-29T21:30:29.455Z"
   },
   {
    "duration": 265,
    "start_time": "2022-06-29T21:30:29.741Z"
   },
   {
    "duration": 279,
    "start_time": "2022-06-29T21:30:30.008Z"
   },
   {
    "duration": 337,
    "start_time": "2022-06-29T21:30:30.288Z"
   },
   {
    "duration": 277,
    "start_time": "2022-06-29T21:30:30.626Z"
   },
   {
    "duration": 276,
    "start_time": "2022-06-29T21:30:30.905Z"
   },
   {
    "duration": 148,
    "start_time": "2022-06-29T21:30:31.185Z"
   },
   {
    "duration": 154,
    "start_time": "2022-06-29T21:30:31.335Z"
   },
   {
    "duration": 149,
    "start_time": "2022-06-29T21:30:31.491Z"
   },
   {
    "duration": 18,
    "start_time": "2022-06-29T21:30:31.644Z"
   },
   {
    "duration": 21,
    "start_time": "2022-06-29T21:30:31.669Z"
   },
   {
    "duration": 289,
    "start_time": "2022-06-29T21:30:31.692Z"
   },
   {
    "duration": 8,
    "start_time": "2022-06-29T21:30:31.985Z"
   },
   {
    "duration": 10,
    "start_time": "2022-06-29T21:30:31.995Z"
   },
   {
    "duration": 7,
    "start_time": "2022-06-29T21:30:32.007Z"
   },
   {
    "duration": 285,
    "start_time": "2022-06-29T21:30:32.016Z"
   },
   {
    "duration": 293,
    "start_time": "2022-06-29T21:30:32.303Z"
   },
   {
    "duration": 4,
    "start_time": "2022-06-29T21:30:32.600Z"
   },
   {
    "duration": 18,
    "start_time": "2022-06-29T21:30:32.606Z"
   },
   {
    "duration": 1584,
    "start_time": "2022-06-29T21:30:32.626Z"
   },
   {
    "duration": 242,
    "start_time": "2022-06-29T21:30:34.249Z"
   },
   {
    "duration": 216,
    "start_time": "2022-06-29T21:30:34.493Z"
   },
   {
    "duration": 215,
    "start_time": "2022-06-29T21:30:34.711Z"
   },
   {
    "duration": 74,
    "start_time": "2022-06-29T21:30:34.927Z"
   },
   {
    "duration": 309,
    "start_time": "2022-06-29T21:30:43.502Z"
   },
   {
    "duration": 85,
    "start_time": "2022-06-29T21:31:01.737Z"
   },
   {
    "duration": 200,
    "start_time": "2022-06-29T21:31:10.890Z"
   },
   {
    "duration": 58,
    "start_time": "2022-07-01T18:30:06.122Z"
   },
   {
    "duration": 1102,
    "start_time": "2022-07-01T18:30:10.704Z"
   },
   {
    "duration": 1282,
    "start_time": "2022-07-01T18:30:11.808Z"
   },
   {
    "duration": 22,
    "start_time": "2022-07-01T18:30:13.092Z"
   },
   {
    "duration": 38,
    "start_time": "2022-07-01T18:30:13.116Z"
   },
   {
    "duration": 30,
    "start_time": "2022-07-01T18:30:13.155Z"
   },
   {
    "duration": 51,
    "start_time": "2022-07-01T18:30:13.187Z"
   },
   {
    "duration": 14,
    "start_time": "2022-07-01T18:30:13.239Z"
   },
   {
    "duration": 171,
    "start_time": "2022-07-01T18:30:13.254Z"
   },
   {
    "duration": 35,
    "start_time": "2022-07-01T18:30:13.428Z"
   },
   {
    "duration": 8,
    "start_time": "2022-07-01T18:30:13.465Z"
   },
   {
    "duration": 5,
    "start_time": "2022-07-01T18:30:13.474Z"
   },
   {
    "duration": 16,
    "start_time": "2022-07-01T18:30:13.481Z"
   },
   {
    "duration": 66,
    "start_time": "2022-07-01T18:30:13.499Z"
   },
   {
    "duration": 89,
    "start_time": "2022-07-01T18:30:13.568Z"
   },
   {
    "duration": 53,
    "start_time": "2022-07-01T18:30:13.659Z"
   },
   {
    "duration": 6,
    "start_time": "2022-07-01T18:30:13.714Z"
   },
   {
    "duration": 29,
    "start_time": "2022-07-01T18:30:13.722Z"
   },
   {
    "duration": 20,
    "start_time": "2022-07-01T18:30:13.752Z"
   },
   {
    "duration": 21,
    "start_time": "2022-07-01T18:30:13.774Z"
   },
   {
    "duration": 65,
    "start_time": "2022-07-01T18:30:13.797Z"
   },
   {
    "duration": 8,
    "start_time": "2022-07-01T18:30:13.864Z"
   },
   {
    "duration": 7,
    "start_time": "2022-07-01T18:30:13.874Z"
   },
   {
    "duration": 6,
    "start_time": "2022-07-01T18:30:13.883Z"
   },
   {
    "duration": 14,
    "start_time": "2022-07-01T18:30:13.891Z"
   },
   {
    "duration": 32,
    "start_time": "2022-07-01T18:30:13.907Z"
   },
   {
    "duration": 197,
    "start_time": "2022-07-01T18:30:13.941Z"
   },
   {
    "duration": 4,
    "start_time": "2022-07-01T18:30:14.139Z"
   },
   {
    "duration": 18,
    "start_time": "2022-07-01T18:30:14.146Z"
   },
   {
    "duration": 3,
    "start_time": "2022-07-01T18:30:14.165Z"
   },
   {
    "duration": 217,
    "start_time": "2022-07-01T18:30:14.170Z"
   },
   {
    "duration": 210,
    "start_time": "2022-07-01T18:30:14.389Z"
   },
   {
    "duration": 203,
    "start_time": "2022-07-01T18:30:14.600Z"
   },
   {
    "duration": 212,
    "start_time": "2022-07-01T18:30:14.804Z"
   },
   {
    "duration": 225,
    "start_time": "2022-07-01T18:30:15.017Z"
   },
   {
    "duration": 213,
    "start_time": "2022-07-01T18:30:15.244Z"
   },
   {
    "duration": 277,
    "start_time": "2022-07-01T18:30:15.458Z"
   },
   {
    "duration": 207,
    "start_time": "2022-07-01T18:30:15.736Z"
   },
   {
    "duration": 248,
    "start_time": "2022-07-01T18:30:15.945Z"
   },
   {
    "duration": 143,
    "start_time": "2022-07-01T18:30:16.195Z"
   },
   {
    "duration": 122,
    "start_time": "2022-07-01T18:30:16.339Z"
   },
   {
    "duration": 124,
    "start_time": "2022-07-01T18:30:16.463Z"
   },
   {
    "duration": 6,
    "start_time": "2022-07-01T18:30:16.589Z"
   },
   {
    "duration": 10,
    "start_time": "2022-07-01T18:30:16.596Z"
   },
   {
    "duration": 242,
    "start_time": "2022-07-01T18:30:16.607Z"
   },
   {
    "duration": 5,
    "start_time": "2022-07-01T18:30:16.851Z"
   },
   {
    "duration": 6,
    "start_time": "2022-07-01T18:30:16.858Z"
   },
   {
    "duration": 10,
    "start_time": "2022-07-01T18:30:16.866Z"
   },
   {
    "duration": 214,
    "start_time": "2022-07-01T18:30:16.878Z"
   },
   {
    "duration": 214,
    "start_time": "2022-07-01T18:30:17.093Z"
   },
   {
    "duration": 3,
    "start_time": "2022-07-01T18:30:17.308Z"
   },
   {
    "duration": 17,
    "start_time": "2022-07-01T18:30:17.312Z"
   },
   {
    "duration": 1167,
    "start_time": "2022-07-01T18:30:17.331Z"
   },
   {
    "duration": 177,
    "start_time": "2022-07-01T18:30:18.499Z"
   },
   {
    "duration": 179,
    "start_time": "2022-07-01T18:30:18.677Z"
   },
   {
    "duration": 181,
    "start_time": "2022-07-01T18:30:18.858Z"
   },
   {
    "duration": 54,
    "start_time": "2022-07-01T18:30:19.042Z"
   }
  ],
  "kernelspec": {
   "display_name": "Python 3 (ipykernel)",
   "language": "python",
   "name": "python3"
  },
  "language_info": {
   "codemirror_mode": {
    "name": "ipython",
    "version": 3
   },
   "file_extension": ".py",
   "mimetype": "text/x-python",
   "name": "python",
   "nbconvert_exporter": "python",
   "pygments_lexer": "ipython3",
   "version": "3.9.13"
  },
  "toc": {
   "base_numbering": 1,
   "nav_menu": {},
   "number_sections": true,
   "sideBar": true,
   "skip_h1_title": true,
   "title_cell": "Table of Contents",
   "title_sidebar": "Contents",
   "toc_cell": false,
   "toc_position": {
    "height": "556px",
    "left": "564px",
    "top": "111.125px",
    "width": "324px"
   },
   "toc_section_display": true,
   "toc_window_display": true
  }
 },
 "nbformat": 4,
 "nbformat_minor": 2
}
