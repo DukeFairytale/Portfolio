{
 "cells": [
  {
   "cell_type": "code",
   "execution_count": 30,
   "metadata": {},
   "outputs": [],
   "source": [
    "import pandas as pd\n",
    "import seaborn as sns\n",
    "import matplotlib.pyplot as plt\n",
    "import numpy as np\n",
    "from scipy import stats as st"
   ]
  },
  {
   "cell_type": "markdown",
   "metadata": {},
   "source": [
    "# Определение потенциально популярного продукта игрового интернет магазина"
   ]
  },
  {
   "cell_type": "markdown",
   "metadata": {},
   "source": [
    "## Изучение данных"
   ]
  },
  {
   "cell_type": "markdown",
   "metadata": {},
   "source": [
    "Интернет-магазин «Стримчик», продаёт по всему миру компьютерные игры. Из открытых источников доступны исторические данные о продажах игр, оценки пользователей и экспертов, жанры и платформы (например, Xbox или PlayStation). Необходимо выявить определяющие успешность игры закономерности. Это позволит сделать ставку на потенциально популярный продукт и спланировать рекламные кампании."
   ]
  },
  {
   "cell_type": "code",
   "execution_count": 31,
   "metadata": {},
   "outputs": [
    {
     "data": {
      "text/html": [
       "<div>\n",
       "<style scoped>\n",
       "    .dataframe tbody tr th:only-of-type {\n",
       "        vertical-align: middle;\n",
       "    }\n",
       "\n",
       "    .dataframe tbody tr th {\n",
       "        vertical-align: top;\n",
       "    }\n",
       "\n",
       "    .dataframe thead th {\n",
       "        text-align: right;\n",
       "    }\n",
       "</style>\n",
       "<table border=\"1\" class=\"dataframe\">\n",
       "  <thead>\n",
       "    <tr style=\"text-align: right;\">\n",
       "      <th></th>\n",
       "      <th>Name</th>\n",
       "      <th>Platform</th>\n",
       "      <th>Year_of_Release</th>\n",
       "      <th>Genre</th>\n",
       "      <th>NA_sales</th>\n",
       "      <th>EU_sales</th>\n",
       "      <th>JP_sales</th>\n",
       "      <th>Other_sales</th>\n",
       "      <th>Critic_Score</th>\n",
       "      <th>User_Score</th>\n",
       "      <th>Rating</th>\n",
       "    </tr>\n",
       "  </thead>\n",
       "  <tbody>\n",
       "    <tr>\n",
       "      <th>0</th>\n",
       "      <td>Wii Sports</td>\n",
       "      <td>Wii</td>\n",
       "      <td>2006.0</td>\n",
       "      <td>Sports</td>\n",
       "      <td>41.36</td>\n",
       "      <td>28.96</td>\n",
       "      <td>3.77</td>\n",
       "      <td>8.45</td>\n",
       "      <td>76.0</td>\n",
       "      <td>8</td>\n",
       "      <td>E</td>\n",
       "    </tr>\n",
       "    <tr>\n",
       "      <th>1</th>\n",
       "      <td>Super Mario Bros.</td>\n",
       "      <td>NES</td>\n",
       "      <td>1985.0</td>\n",
       "      <td>Platform</td>\n",
       "      <td>29.08</td>\n",
       "      <td>3.58</td>\n",
       "      <td>6.81</td>\n",
       "      <td>0.77</td>\n",
       "      <td>NaN</td>\n",
       "      <td>NaN</td>\n",
       "      <td>NaN</td>\n",
       "    </tr>\n",
       "    <tr>\n",
       "      <th>2</th>\n",
       "      <td>Mario Kart Wii</td>\n",
       "      <td>Wii</td>\n",
       "      <td>2008.0</td>\n",
       "      <td>Racing</td>\n",
       "      <td>15.68</td>\n",
       "      <td>12.76</td>\n",
       "      <td>3.79</td>\n",
       "      <td>3.29</td>\n",
       "      <td>82.0</td>\n",
       "      <td>8.3</td>\n",
       "      <td>E</td>\n",
       "    </tr>\n",
       "    <tr>\n",
       "      <th>3</th>\n",
       "      <td>Wii Sports Resort</td>\n",
       "      <td>Wii</td>\n",
       "      <td>2009.0</td>\n",
       "      <td>Sports</td>\n",
       "      <td>15.61</td>\n",
       "      <td>10.93</td>\n",
       "      <td>3.28</td>\n",
       "      <td>2.95</td>\n",
       "      <td>80.0</td>\n",
       "      <td>8</td>\n",
       "      <td>E</td>\n",
       "    </tr>\n",
       "    <tr>\n",
       "      <th>4</th>\n",
       "      <td>Pokemon Red/Pokemon Blue</td>\n",
       "      <td>GB</td>\n",
       "      <td>1996.0</td>\n",
       "      <td>Role-Playing</td>\n",
       "      <td>11.27</td>\n",
       "      <td>8.89</td>\n",
       "      <td>10.22</td>\n",
       "      <td>1.00</td>\n",
       "      <td>NaN</td>\n",
       "      <td>NaN</td>\n",
       "      <td>NaN</td>\n",
       "    </tr>\n",
       "  </tbody>\n",
       "</table>\n",
       "</div>"
      ],
      "text/plain": [
       "                       Name Platform  Year_of_Release         Genre  NA_sales  \\\n",
       "0                Wii Sports      Wii           2006.0        Sports     41.36   \n",
       "1         Super Mario Bros.      NES           1985.0      Platform     29.08   \n",
       "2            Mario Kart Wii      Wii           2008.0        Racing     15.68   \n",
       "3         Wii Sports Resort      Wii           2009.0        Sports     15.61   \n",
       "4  Pokemon Red/Pokemon Blue       GB           1996.0  Role-Playing     11.27   \n",
       "\n",
       "   EU_sales  JP_sales  Other_sales  Critic_Score User_Score Rating  \n",
       "0     28.96      3.77         8.45          76.0          8      E  \n",
       "1      3.58      6.81         0.77           NaN        NaN    NaN  \n",
       "2     12.76      3.79         3.29          82.0        8.3      E  \n",
       "3     10.93      3.28         2.95          80.0          8      E  \n",
       "4      8.89     10.22         1.00           NaN        NaN    NaN  "
      ]
     },
     "metadata": {},
     "output_type": "display_data"
    },
    {
     "name": "stdout",
     "output_type": "stream",
     "text": [
      "<class 'pandas.core.frame.DataFrame'>\n",
      "RangeIndex: 16715 entries, 0 to 16714\n",
      "Data columns (total 11 columns):\n",
      " #   Column           Non-Null Count  Dtype  \n",
      "---  ------           --------------  -----  \n",
      " 0   Name             16713 non-null  object \n",
      " 1   Platform         16715 non-null  object \n",
      " 2   Year_of_Release  16446 non-null  float64\n",
      " 3   Genre            16713 non-null  object \n",
      " 4   NA_sales         16715 non-null  float64\n",
      " 5   EU_sales         16715 non-null  float64\n",
      " 6   JP_sales         16715 non-null  float64\n",
      " 7   Other_sales      16715 non-null  float64\n",
      " 8   Critic_Score     8137 non-null   float64\n",
      " 9   User_Score       10014 non-null  object \n",
      " 10  Rating           9949 non-null   object \n",
      "dtypes: float64(6), object(5)\n",
      "memory usage: 1.4+ MB\n"
     ]
    }
   ],
   "source": [
    "df = pd.read_csv('/datasets/games.csv')\n",
    "display(df.head())\n",
    "df.info()"
   ]
  },
  {
   "cell_type": "markdown",
   "metadata": {},
   "source": []
  },
  {
   "cell_type": "markdown",
   "metadata": {},
   "source": [
    "При обзоре данных выявлены следующие пробемы:\n",
    "1. Пропуски в стобцах 'name', 'year_of_release', 'genre' 'critic_score', 'user_score', 'rating'.\n",
    "2. Неверные типы данных в столбцах year_of_release, user_score.\n",
    "3. Наличие верхнего регистра в названиях столбцов"
   ]
  },
  {
   "cell_type": "markdown",
   "metadata": {},
   "source": [
    "## Предобработка данных"
   ]
  },
  {
   "cell_type": "markdown",
   "metadata": {},
   "source": [
    "В этом блоке сделаем:\n",
    "1. Приведем столбцы к нижнему регистру \n",
    "2. Преобразуем данные в нужные типы\n",
    "3. Обработаем пропуски в столбцах\n",
    "4. Проведем проверку на дупликаты\n",
    "5. Посчитаем суммарные продажи по регионам в отдельный столбец"
   ]
  },
  {
   "cell_type": "code",
   "execution_count": 32,
   "metadata": {},
   "outputs": [
    {
     "data": {
      "text/html": [
       "<div>\n",
       "<style scoped>\n",
       "    .dataframe tbody tr th:only-of-type {\n",
       "        vertical-align: middle;\n",
       "    }\n",
       "\n",
       "    .dataframe tbody tr th {\n",
       "        vertical-align: top;\n",
       "    }\n",
       "\n",
       "    .dataframe thead th {\n",
       "        text-align: right;\n",
       "    }\n",
       "</style>\n",
       "<table border=\"1\" class=\"dataframe\">\n",
       "  <thead>\n",
       "    <tr style=\"text-align: right;\">\n",
       "      <th></th>\n",
       "      <th>name</th>\n",
       "      <th>platform</th>\n",
       "      <th>year_of_release</th>\n",
       "      <th>genre</th>\n",
       "      <th>na_sales</th>\n",
       "      <th>eu_sales</th>\n",
       "      <th>jp_sales</th>\n",
       "      <th>other_sales</th>\n",
       "      <th>critic_score</th>\n",
       "      <th>user_score</th>\n",
       "      <th>rating</th>\n",
       "    </tr>\n",
       "  </thead>\n",
       "  <tbody>\n",
       "  </tbody>\n",
       "</table>\n",
       "</div>"
      ],
      "text/plain": [
       "Empty DataFrame\n",
       "Columns: [name, platform, year_of_release, genre, na_sales, eu_sales, jp_sales, other_sales, critic_score, user_score, rating]\n",
       "Index: []"
      ]
     },
     "execution_count": 32,
     "metadata": {},
     "output_type": "execute_result"
    }
   ],
   "source": [
    "df.columns = df.columns.str.lower()\n",
    "df.head(0)"
   ]
  },
  {
   "cell_type": "code",
   "execution_count": 33,
   "metadata": {},
   "outputs": [
    {
     "data": {
      "text/plain": [
       "0"
      ]
     },
     "execution_count": 33,
     "metadata": {},
     "output_type": "execute_result"
    }
   ],
   "source": [
    "df.duplicated().sum()"
   ]
  },
  {
   "cell_type": "markdown",
   "metadata": {},
   "source": [
    "Дубликатов не обнаружено."
   ]
  },
  {
   "cell_type": "code",
   "execution_count": 36,
   "metadata": {},
   "outputs": [
    {
     "data": {
      "text/plain": [
       "name                0.011965\n",
       "platform            0.000000\n",
       "year_of_release     1.609333\n",
       "genre               0.011965\n",
       "na_sales            0.000000\n",
       "eu_sales            0.000000\n",
       "jp_sales            0.000000\n",
       "other_sales         0.000000\n",
       "critic_score       51.319174\n",
       "user_score         40.089740\n",
       "rating             40.478612\n",
       "dtype: float64"
      ]
     },
     "execution_count": 36,
     "metadata": {},
     "output_type": "execute_result"
    }
   ],
   "source": [
    "df.isna().mean() * 100"
   ]
  },
  {
   "cell_type": "markdown",
   "metadata": {},
   "source": [
    "Заполним значения в столбце 'name' значением 'unknown', так как невозможно определить какое именно значение было пропущено."
   ]
  },
  {
   "cell_type": "code",
   "execution_count": 17,
   "metadata": {},
   "outputs": [
    {
     "data": {
      "text/plain": [
       "0"
      ]
     },
     "execution_count": 17,
     "metadata": {},
     "output_type": "execute_result"
    }
   ],
   "source": [
    "df = df.dropna(subset=['name'])\n",
    "df['name'].isna().sum()"
   ]
  },
  {
   "cell_type": "markdown",
   "metadata": {},
   "source": [
    "Пропуски в столбце 'year_of_release' заполним специальным значением '-1', для того, чтобы избавиться от 'Nan' и привести столбец в формат 'int'"
   ]
  },
  {
   "cell_type": "code",
   "execution_count": 18,
   "metadata": {},
   "outputs": [
    {
     "name": "stdout",
     "output_type": "stream",
     "text": [
      "0\n"
     ]
    },
    {
     "data": {
      "text/plain": [
       "0        2006\n",
       "1        1985\n",
       "2        2008\n",
       "3        2009\n",
       "4        1996\n",
       "         ... \n",
       "16710    2016\n",
       "16711    2006\n",
       "16712    2016\n",
       "16713    2003\n",
       "16714    2016\n",
       "Name: year_of_release, Length: 16444, dtype: int64"
      ]
     },
     "execution_count": 18,
     "metadata": {},
     "output_type": "execute_result"
    }
   ],
   "source": [
    "df = df.dropna(subset = ['year_of_release'])\n",
    "print(df['year_of_release'].isna().sum())\n",
    "df['year_of_release'] = df['year_of_release'].astype('int')\n",
    "df['year_of_release']"
   ]
  },
  {
   "cell_type": "markdown",
   "metadata": {},
   "source": [
    "Просмотрим значения в столбцах с рейтингом и оценками."
   ]
  },
  {
   "cell_type": "code",
   "execution_count": 19,
   "metadata": {},
   "outputs": [
    {
     "name": "stdout",
     "output_type": "stream",
     "text": [
      "70.0    252\n",
      "71.0    248\n",
      "75.0    240\n",
      "80.0    235\n",
      "73.0    234\n",
      "       ... \n",
      "29.0      3\n",
      "20.0      3\n",
      "13.0      1\n",
      "17.0      1\n",
      "21.0      1\n",
      "Name: critic_score, Length: 81, dtype: int64\n",
      "tbd    2376\n",
      "7.8     322\n",
      "8       285\n",
      "8.2     276\n",
      "8.3     252\n",
      "       ... \n",
      "1.1       2\n",
      "0.6       2\n",
      "9.6       2\n",
      "0         1\n",
      "9.7       1\n",
      "Name: user_score, Length: 96, dtype: int64\n",
      "['E' nan 'M' 'T' 'E10+' 'K-A' 'AO' 'EC' 'RP']\n"
     ]
    }
   ],
   "source": [
    "print(df['critic_score'].value_counts())\n",
    "print(df['user_score'].value_counts())\n",
    "print(df['rating'].unique())"
   ]
  },
  {
   "cell_type": "markdown",
   "metadata": {},
   "source": [
    "Пропуски в столбцах с оценками и возрастным рейтингом заполнить невозможно, потому что игры это уникальная единица, и заполнять медианой или средним будет неверным решением. Но и удалять эти пропуски на стадии предобратки еще рано, потому что данные понадобяться на для оценки продаж.\n",
    "Значение 'tbd' - 'To Be Determind' - означает будет определено в будущем. Но поскольку значения в стообце строковые, их нужно перевести в 'float', для этого уберем строки с 'tbd'"
   ]
  },
  {
   "cell_type": "code",
   "execution_count": 20,
   "metadata": {},
   "outputs": [
    {
     "data": {
      "text/plain": [
       "array([8. , nan, 8.3, 8.5, 6.6, 8.4, 8.6, 7.7, 6.3, 7.4, 8.2, 9. , 7.9,\n",
       "       8.1, 8.7, 7.1, 3.4, 5.3, 4.8, 3.2, 8.9, 6.4, 7.8, 7.5, 2.6, 7.2,\n",
       "       9.2, 7. , 7.3, 4.3, 7.6, 5.7, 5. , 9.1, 6.5, 8.8, 6.9, 9.4, 6.8,\n",
       "       6.1, 6.7, 5.4, 4. , 4.9, 4.5, 9.3, 6.2, 4.2, 6. , 3.7, 4.1, 5.8,\n",
       "       5.6, 5.5, 4.4, 4.6, 5.9, 3.9, 3.1, 2.9, 5.2, 3.3, 4.7, 5.1, 3.5,\n",
       "       2.5, 1.9, 3. , 2.7, 2.2, 2. , 9.5, 2.1, 3.6, 2.8, 1.8, 3.8, 0. ,\n",
       "       1.6, 9.6, 2.4, 1.7, 1.1, 0.3, 1.5, 0.7, 1.2, 2.3, 0.5, 1.3, 0.2,\n",
       "       0.6, 1.4, 0.9, 1. , 9.7])"
      ]
     },
     "execution_count": 20,
     "metadata": {},
     "output_type": "execute_result"
    }
   ],
   "source": [
    "df.loc[df['user_score'] == 'tbd'] = float('nan')\n",
    "df['user_score'] = df['user_score'].astype('float')\n",
    "df['user_score'].unique()"
   ]
  },
  {
   "cell_type": "markdown",
   "metadata": {},
   "source": [
    "Добавим в таблицу суммарные значения по продажам."
   ]
  },
  {
   "cell_type": "code",
   "execution_count": 21,
   "metadata": {},
   "outputs": [
    {
     "data": {
      "text/html": [
       "<div>\n",
       "<style scoped>\n",
       "    .dataframe tbody tr th:only-of-type {\n",
       "        vertical-align: middle;\n",
       "    }\n",
       "\n",
       "    .dataframe tbody tr th {\n",
       "        vertical-align: top;\n",
       "    }\n",
       "\n",
       "    .dataframe thead th {\n",
       "        text-align: right;\n",
       "    }\n",
       "</style>\n",
       "<table border=\"1\" class=\"dataframe\">\n",
       "  <thead>\n",
       "    <tr style=\"text-align: right;\">\n",
       "      <th></th>\n",
       "      <th>name</th>\n",
       "      <th>platform</th>\n",
       "      <th>year_of_release</th>\n",
       "      <th>genre</th>\n",
       "      <th>na_sales</th>\n",
       "      <th>eu_sales</th>\n",
       "      <th>jp_sales</th>\n",
       "      <th>other_sales</th>\n",
       "      <th>critic_score</th>\n",
       "      <th>user_score</th>\n",
       "      <th>rating</th>\n",
       "      <th>sum_sales</th>\n",
       "    </tr>\n",
       "  </thead>\n",
       "  <tbody>\n",
       "    <tr>\n",
       "      <th>0</th>\n",
       "      <td>Wii Sports</td>\n",
       "      <td>Wii</td>\n",
       "      <td>2006.0</td>\n",
       "      <td>Sports</td>\n",
       "      <td>41.36</td>\n",
       "      <td>28.96</td>\n",
       "      <td>3.77</td>\n",
       "      <td>8.45</td>\n",
       "      <td>76.0</td>\n",
       "      <td>8.0</td>\n",
       "      <td>E</td>\n",
       "      <td>82.54</td>\n",
       "    </tr>\n",
       "    <tr>\n",
       "      <th>1</th>\n",
       "      <td>Super Mario Bros.</td>\n",
       "      <td>NES</td>\n",
       "      <td>1985.0</td>\n",
       "      <td>Platform</td>\n",
       "      <td>29.08</td>\n",
       "      <td>3.58</td>\n",
       "      <td>6.81</td>\n",
       "      <td>0.77</td>\n",
       "      <td>NaN</td>\n",
       "      <td>NaN</td>\n",
       "      <td>NaN</td>\n",
       "      <td>40.24</td>\n",
       "    </tr>\n",
       "    <tr>\n",
       "      <th>2</th>\n",
       "      <td>Mario Kart Wii</td>\n",
       "      <td>Wii</td>\n",
       "      <td>2008.0</td>\n",
       "      <td>Racing</td>\n",
       "      <td>15.68</td>\n",
       "      <td>12.76</td>\n",
       "      <td>3.79</td>\n",
       "      <td>3.29</td>\n",
       "      <td>82.0</td>\n",
       "      <td>8.3</td>\n",
       "      <td>E</td>\n",
       "      <td>35.52</td>\n",
       "    </tr>\n",
       "    <tr>\n",
       "      <th>3</th>\n",
       "      <td>Wii Sports Resort</td>\n",
       "      <td>Wii</td>\n",
       "      <td>2009.0</td>\n",
       "      <td>Sports</td>\n",
       "      <td>15.61</td>\n",
       "      <td>10.93</td>\n",
       "      <td>3.28</td>\n",
       "      <td>2.95</td>\n",
       "      <td>80.0</td>\n",
       "      <td>8.0</td>\n",
       "      <td>E</td>\n",
       "      <td>32.77</td>\n",
       "    </tr>\n",
       "    <tr>\n",
       "      <th>4</th>\n",
       "      <td>Pokemon Red/Pokemon Blue</td>\n",
       "      <td>GB</td>\n",
       "      <td>1996.0</td>\n",
       "      <td>Role-Playing</td>\n",
       "      <td>11.27</td>\n",
       "      <td>8.89</td>\n",
       "      <td>10.22</td>\n",
       "      <td>1.00</td>\n",
       "      <td>NaN</td>\n",
       "      <td>NaN</td>\n",
       "      <td>NaN</td>\n",
       "      <td>31.38</td>\n",
       "    </tr>\n",
       "  </tbody>\n",
       "</table>\n",
       "</div>"
      ],
      "text/plain": [
       "                       name platform  year_of_release         genre  na_sales  \\\n",
       "0                Wii Sports      Wii           2006.0        Sports     41.36   \n",
       "1         Super Mario Bros.      NES           1985.0      Platform     29.08   \n",
       "2            Mario Kart Wii      Wii           2008.0        Racing     15.68   \n",
       "3         Wii Sports Resort      Wii           2009.0        Sports     15.61   \n",
       "4  Pokemon Red/Pokemon Blue       GB           1996.0  Role-Playing     11.27   \n",
       "\n",
       "   eu_sales  jp_sales  other_sales  critic_score  user_score rating  sum_sales  \n",
       "0     28.96      3.77         8.45          76.0         8.0      E      82.54  \n",
       "1      3.58      6.81         0.77           NaN         NaN    NaN      40.24  \n",
       "2     12.76      3.79         3.29          82.0         8.3      E      35.52  \n",
       "3     10.93      3.28         2.95          80.0         8.0      E      32.77  \n",
       "4      8.89     10.22         1.00           NaN         NaN    NaN      31.38  "
      ]
     },
     "metadata": {},
     "output_type": "display_data"
    }
   ],
   "source": [
    "df['sum_sales'] = df['na_sales'] + df['eu_sales'] + df['jp_sales'] + df['other_sales']\n",
    "display(df.head())"
   ]
  },
  {
   "cell_type": "markdown",
   "metadata": {},
   "source": [
    "## Исследовательский анализ"
   ]
  },
  {
   "cell_type": "markdown",
   "metadata": {},
   "source": [
    "### Определение периода для анализа"
   ]
  },
  {
   "cell_type": "markdown",
   "metadata": {},
   "source": [
    "Посмтрим количество игр выходивших в каждый год, согласно выборке"
   ]
  },
  {
   "cell_type": "code",
   "execution_count": 22,
   "metadata": {},
   "outputs": [
    {
     "data": {
      "image/png": "[encoded data removed]",
      "text/plain": [
       "<Figure size 864x288 with 1 Axes>"
      ]
     },
     "metadata": {
      "needs_background": "light"
     },
     "output_type": "display_data"
    }
   ],
   "source": [
    "(df\n",
    " .pivot_table(columns='year_of_release', values = 'name', aggfunc='count')\n",
    " .T\n",
    " .plot(kind='bar', figsize=(12,4),  style = 'o-')\n",
    ")\n",
    "\n",
    "plt.title('Кол-во выпускаемых игр по годам'+ \"\\n\")\n",
    "plt.xlabel('Год')\n",
    "plt.ylabel('кол-во');"
   ]
  },
  {
   "cell_type": "markdown",
   "metadata": {},
   "source": [
    "График имеет хвост слева, на данных до 2000 года, в принципе, аудитория да и возможности для разработки игр и их продажи были до 2000 года сильно ограничены, поэтому отсечем этот хвост до 2000 года."
   ]
  },
  {
   "cell_type": "code",
   "execution_count": 23,
   "metadata": {},
   "outputs": [
    {
     "data": {
      "text/html": [
       "<div>\n",
       "<style scoped>\n",
       "    .dataframe tbody tr th:only-of-type {\n",
       "        vertical-align: middle;\n",
       "    }\n",
       "\n",
       "    .dataframe tbody tr th {\n",
       "        vertical-align: top;\n",
       "    }\n",
       "\n",
       "    .dataframe thead th {\n",
       "        text-align: right;\n",
       "    }\n",
       "</style>\n",
       "<table border=\"1\" class=\"dataframe\">\n",
       "  <thead>\n",
       "    <tr style=\"text-align: right;\">\n",
       "      <th></th>\n",
       "      <th>index</th>\n",
       "      <th>name</th>\n",
       "      <th>platform</th>\n",
       "      <th>year_of_release</th>\n",
       "      <th>genre</th>\n",
       "      <th>na_sales</th>\n",
       "      <th>eu_sales</th>\n",
       "      <th>jp_sales</th>\n",
       "      <th>other_sales</th>\n",
       "      <th>critic_score</th>\n",
       "      <th>user_score</th>\n",
       "      <th>rating</th>\n",
       "      <th>sum_sales</th>\n",
       "    </tr>\n",
       "  </thead>\n",
       "  <tbody>\n",
       "    <tr>\n",
       "      <th>0</th>\n",
       "      <td>16714</td>\n",
       "      <td>Winning Post 8 2016</td>\n",
       "      <td>PSV</td>\n",
       "      <td>2016.0</td>\n",
       "      <td>Simulation</td>\n",
       "      <td>0.00</td>\n",
       "      <td>0.00</td>\n",
       "      <td>0.01</td>\n",
       "      <td>0.00</td>\n",
       "      <td>NaN</td>\n",
       "      <td>NaN</td>\n",
       "      <td>NaN</td>\n",
       "      <td>0.01</td>\n",
       "    </tr>\n",
       "    <tr>\n",
       "      <th>1</th>\n",
       "      <td>15839</td>\n",
       "      <td>Mark McMorris Infinite Air</td>\n",
       "      <td>PS4</td>\n",
       "      <td>2016.0</td>\n",
       "      <td>Sports</td>\n",
       "      <td>0.01</td>\n",
       "      <td>0.00</td>\n",
       "      <td>0.00</td>\n",
       "      <td>0.00</td>\n",
       "      <td>49.0</td>\n",
       "      <td>6.0</td>\n",
       "      <td>T</td>\n",
       "      <td>0.01</td>\n",
       "    </tr>\n",
       "    <tr>\n",
       "      <th>2</th>\n",
       "      <td>15994</td>\n",
       "      <td>God Eater Off Shot:Shiou-hen Twin Pack &amp; Anima...</td>\n",
       "      <td>PS4</td>\n",
       "      <td>2016.0</td>\n",
       "      <td>Misc</td>\n",
       "      <td>0.00</td>\n",
       "      <td>0.00</td>\n",
       "      <td>0.02</td>\n",
       "      <td>0.00</td>\n",
       "      <td>NaN</td>\n",
       "      <td>NaN</td>\n",
       "      <td>NaN</td>\n",
       "      <td>0.02</td>\n",
       "    </tr>\n",
       "    <tr>\n",
       "      <th>3</th>\n",
       "      <td>15993</td>\n",
       "      <td>God Eater Off Shot: Soma Shikkuzaru-hen Twin P...</td>\n",
       "      <td>PS4</td>\n",
       "      <td>2016.0</td>\n",
       "      <td>Action</td>\n",
       "      <td>0.00</td>\n",
       "      <td>0.00</td>\n",
       "      <td>0.02</td>\n",
       "      <td>0.00</td>\n",
       "      <td>NaN</td>\n",
       "      <td>NaN</td>\n",
       "      <td>NaN</td>\n",
       "      <td>0.02</td>\n",
       "    </tr>\n",
       "    <tr>\n",
       "      <th>4</th>\n",
       "      <td>12400</td>\n",
       "      <td>TrackMania Turbo</td>\n",
       "      <td>XOne</td>\n",
       "      <td>2016.0</td>\n",
       "      <td>Action</td>\n",
       "      <td>0.02</td>\n",
       "      <td>0.04</td>\n",
       "      <td>0.00</td>\n",
       "      <td>0.00</td>\n",
       "      <td>76.0</td>\n",
       "      <td>7.7</td>\n",
       "      <td>E</td>\n",
       "      <td>0.06</td>\n",
       "    </tr>\n",
       "    <tr>\n",
       "      <th>...</th>\n",
       "      <td>...</td>\n",
       "      <td>...</td>\n",
       "      <td>...</td>\n",
       "      <td>...</td>\n",
       "      <td>...</td>\n",
       "      <td>...</td>\n",
       "      <td>...</td>\n",
       "      <td>...</td>\n",
       "      <td>...</td>\n",
       "      <td>...</td>\n",
       "      <td>...</td>\n",
       "      <td>...</td>\n",
       "      <td>...</td>\n",
       "    </tr>\n",
       "    <tr>\n",
       "      <th>12098</th>\n",
       "      <td>1171</td>\n",
       "      <td>Jampack Summer 2K</td>\n",
       "      <td>PS</td>\n",
       "      <td>2000.0</td>\n",
       "      <td>Misc</td>\n",
       "      <td>0.88</td>\n",
       "      <td>0.60</td>\n",
       "      <td>0.00</td>\n",
       "      <td>0.10</td>\n",
       "      <td>NaN</td>\n",
       "      <td>NaN</td>\n",
       "      <td>NaN</td>\n",
       "      <td>1.58</td>\n",
       "    </tr>\n",
       "    <tr>\n",
       "      <th>12099</th>\n",
       "      <td>13801</td>\n",
       "      <td>Looney Tunes Duck Dodgers Starring: Daffy Duck</td>\n",
       "      <td>N64</td>\n",
       "      <td>2000.0</td>\n",
       "      <td>Platform</td>\n",
       "      <td>0.03</td>\n",
       "      <td>0.01</td>\n",
       "      <td>0.00</td>\n",
       "      <td>0.00</td>\n",
       "      <td>NaN</td>\n",
       "      <td>NaN</td>\n",
       "      <td>NaN</td>\n",
       "      <td>0.04</td>\n",
       "    </tr>\n",
       "    <tr>\n",
       "      <th>12100</th>\n",
       "      <td>12348</td>\n",
       "      <td>Sunrise Eiyuutan R</td>\n",
       "      <td>PS2</td>\n",
       "      <td>2000.0</td>\n",
       "      <td>Role-Playing</td>\n",
       "      <td>0.00</td>\n",
       "      <td>0.00</td>\n",
       "      <td>0.06</td>\n",
       "      <td>0.00</td>\n",
       "      <td>NaN</td>\n",
       "      <td>NaN</td>\n",
       "      <td>NaN</td>\n",
       "      <td>0.06</td>\n",
       "    </tr>\n",
       "    <tr>\n",
       "      <th>12101</th>\n",
       "      <td>1977</td>\n",
       "      <td>Dave Mirra Freestyle BMX</td>\n",
       "      <td>PS</td>\n",
       "      <td>2000.0</td>\n",
       "      <td>Sports</td>\n",
       "      <td>0.91</td>\n",
       "      <td>0.11</td>\n",
       "      <td>0.00</td>\n",
       "      <td>0.03</td>\n",
       "      <td>82.0</td>\n",
       "      <td>8.4</td>\n",
       "      <td>E</td>\n",
       "      <td>1.05</td>\n",
       "    </tr>\n",
       "    <tr>\n",
       "      <th>12102</th>\n",
       "      <td>11381</td>\n",
       "      <td>Strider 2</td>\n",
       "      <td>PS</td>\n",
       "      <td>2000.0</td>\n",
       "      <td>Platform</td>\n",
       "      <td>0.05</td>\n",
       "      <td>0.03</td>\n",
       "      <td>0.00</td>\n",
       "      <td>0.01</td>\n",
       "      <td>69.0</td>\n",
       "      <td>8.1</td>\n",
       "      <td>E</td>\n",
       "      <td>0.09</td>\n",
       "    </tr>\n",
       "  </tbody>\n",
       "</table>\n",
       "<p>12103 rows × 13 columns</p>\n",
       "</div>"
      ],
      "text/plain": [
       "       index                                               name platform  \\\n",
       "0      16714                                Winning Post 8 2016      PSV   \n",
       "1      15839                         Mark McMorris Infinite Air      PS4   \n",
       "2      15994  God Eater Off Shot:Shiou-hen Twin Pack & Anima...      PS4   \n",
       "3      15993  God Eater Off Shot: Soma Shikkuzaru-hen Twin P...      PS4   \n",
       "4      12400                                   TrackMania Turbo     XOne   \n",
       "...      ...                                                ...      ...   \n",
       "12098   1171                                  Jampack Summer 2K       PS   \n",
       "12099  13801     Looney Tunes Duck Dodgers Starring: Daffy Duck      N64   \n",
       "12100  12348                                 Sunrise Eiyuutan R      PS2   \n",
       "12101   1977                           Dave Mirra Freestyle BMX       PS   \n",
       "12102  11381                                          Strider 2       PS   \n",
       "\n",
       "       year_of_release         genre  na_sales  eu_sales  jp_sales  \\\n",
       "0               2016.0    Simulation      0.00      0.00      0.01   \n",
       "1               2016.0        Sports      0.01      0.00      0.00   \n",
       "2               2016.0          Misc      0.00      0.00      0.02   \n",
       "3               2016.0        Action      0.00      0.00      0.02   \n",
       "4               2016.0        Action      0.02      0.04      0.00   \n",
       "...                ...           ...       ...       ...       ...   \n",
       "12098           2000.0          Misc      0.88      0.60      0.00   \n",
       "12099           2000.0      Platform      0.03      0.01      0.00   \n",
       "12100           2000.0  Role-Playing      0.00      0.00      0.06   \n",
       "12101           2000.0        Sports      0.91      0.11      0.00   \n",
       "12102           2000.0      Platform      0.05      0.03      0.00   \n",
       "\n",
       "       other_sales  critic_score  user_score rating  sum_sales  \n",
       "0             0.00           NaN         NaN    NaN       0.01  \n",
       "1             0.00          49.0         6.0      T       0.01  \n",
       "2             0.00           NaN         NaN    NaN       0.02  \n",
       "3             0.00           NaN         NaN    NaN       0.02  \n",
       "4             0.00          76.0         7.7      E       0.06  \n",
       "...            ...           ...         ...    ...        ...  \n",
       "12098         0.10           NaN         NaN    NaN       1.58  \n",
       "12099         0.00           NaN         NaN    NaN       0.04  \n",
       "12100         0.00           NaN         NaN    NaN       0.06  \n",
       "12101         0.03          82.0         8.4      E       1.05  \n",
       "12102         0.01          69.0         8.1      E       0.09  \n",
       "\n",
       "[12103 rows x 13 columns]"
      ]
     },
     "execution_count": 23,
     "metadata": {},
     "output_type": "execute_result"
    }
   ],
   "source": [
    "df_new = df[df['year_of_release'] >= 2000]\n",
    "df_new  = df_new.sort_values(by='year_of_release', ascending=False).reset_index()\n",
    "df_new "
   ]
  },
  {
   "cell_type": "code",
   "execution_count": 24,
   "metadata": {},
   "outputs": [
    {
     "data": {
      "image/png": "[encoded data removed]",
      "text/plain": [
       "<Figure size 864x288 with 1 Axes>"
      ]
     },
     "metadata": {
      "needs_background": "light"
     },
     "output_type": "display_data"
    }
   ],
   "source": [
    "(df_new \n",
    " .pivot_table(columns='year_of_release', values = 'name', aggfunc='count')\n",
    " .T\n",
    " .plot(kind='bar', figsize=(12,4),  style = 'o-')\n",
    ")\n",
    "\n",
    "plt.title('Кол-во выпускаемых игр по годам'+ \"\\n\")\n",
    "plt.xlabel('Год')\n",
    "plt.ylabel('кол-во');"
   ]
  },
  {
   "cell_type": "markdown",
   "metadata": {},
   "source": [
    "Теперь распределние данных выглядит нормально. Отсечением хвоста мы избавились от периодов в которых выпускалось наименьшее количество игр, оставив основные периоды. с 2000 по 2016 год."
   ]
  },
  {
   "cell_type": "markdown",
   "metadata": {},
   "source": [
    "### Определение популярных платформ. Определение срока платформ."
   ]
  },
  {
   "cell_type": "markdown",
   "metadata": {},
   "source": [
    "Для определение самых популярных платформ необходимо собрать таблицы распеределнные по платформам, и построить графики, на которых будет отражено использование каждой платформы в течение каждого года. Таким образом можно будет определеить топ платформ и за какой срок страые платформы, сменялись новыми."
   ]
  },
  {
   "cell_type": "code",
   "execution_count": 25,
   "metadata": {},
   "outputs": [
    {
     "data": {
      "text/html": [
       "<div>\n",
       "<style scoped>\n",
       "    .dataframe tbody tr th:only-of-type {\n",
       "        vertical-align: middle;\n",
       "    }\n",
       "\n",
       "    .dataframe tbody tr th {\n",
       "        vertical-align: top;\n",
       "    }\n",
       "\n",
       "    .dataframe thead th {\n",
       "        text-align: right;\n",
       "    }\n",
       "</style>\n",
       "<table border=\"1\" class=\"dataframe\">\n",
       "  <thead>\n",
       "    <tr style=\"text-align: right;\">\n",
       "      <th>year_of_release</th>\n",
       "      <th>2000.0</th>\n",
       "      <th>2001.0</th>\n",
       "      <th>2002.0</th>\n",
       "      <th>2003.0</th>\n",
       "      <th>2004.0</th>\n",
       "      <th>2005.0</th>\n",
       "      <th>2006.0</th>\n",
       "      <th>2007.0</th>\n",
       "      <th>2008.0</th>\n",
       "      <th>2009.0</th>\n",
       "      <th>2010.0</th>\n",
       "      <th>2011.0</th>\n",
       "      <th>2012.0</th>\n",
       "      <th>2013.0</th>\n",
       "      <th>2014.0</th>\n",
       "      <th>2015.0</th>\n",
       "      <th>2016.0</th>\n",
       "    </tr>\n",
       "    <tr>\n",
       "      <th>platform</th>\n",
       "      <th></th>\n",
       "      <th></th>\n",
       "      <th></th>\n",
       "      <th></th>\n",
       "      <th></th>\n",
       "      <th></th>\n",
       "      <th></th>\n",
       "      <th></th>\n",
       "      <th></th>\n",
       "      <th></th>\n",
       "      <th></th>\n",
       "      <th></th>\n",
       "      <th></th>\n",
       "      <th></th>\n",
       "      <th></th>\n",
       "      <th></th>\n",
       "      <th></th>\n",
       "    </tr>\n",
       "  </thead>\n",
       "  <tbody>\n",
       "    <tr>\n",
       "      <th>3DS</th>\n",
       "      <td>0.00</td>\n",
       "      <td>0.00</td>\n",
       "      <td>0.00</td>\n",
       "      <td>0.00</td>\n",
       "      <td>0.00</td>\n",
       "      <td>0.00</td>\n",
       "      <td>0.00</td>\n",
       "      <td>0.00</td>\n",
       "      <td>0.00</td>\n",
       "      <td>0.00</td>\n",
       "      <td>0.00</td>\n",
       "      <td>60.53</td>\n",
       "      <td>51.01</td>\n",
       "      <td>56.32</td>\n",
       "      <td>43.07</td>\n",
       "      <td>27.21</td>\n",
       "      <td>15.10</td>\n",
       "    </tr>\n",
       "    <tr>\n",
       "      <th>DC</th>\n",
       "      <td>5.99</td>\n",
       "      <td>1.07</td>\n",
       "      <td>0.29</td>\n",
       "      <td>0.00</td>\n",
       "      <td>0.00</td>\n",
       "      <td>0.00</td>\n",
       "      <td>0.00</td>\n",
       "      <td>0.02</td>\n",
       "      <td>0.04</td>\n",
       "      <td>0.00</td>\n",
       "      <td>0.00</td>\n",
       "      <td>0.00</td>\n",
       "      <td>0.00</td>\n",
       "      <td>0.00</td>\n",
       "      <td>0.00</td>\n",
       "      <td>0.00</td>\n",
       "      <td>0.00</td>\n",
       "    </tr>\n",
       "    <tr>\n",
       "      <th>DS</th>\n",
       "      <td>0.00</td>\n",
       "      <td>0.00</td>\n",
       "      <td>0.00</td>\n",
       "      <td>0.00</td>\n",
       "      <td>17.23</td>\n",
       "      <td>128.68</td>\n",
       "      <td>114.93</td>\n",
       "      <td>121.23</td>\n",
       "      <td>102.44</td>\n",
       "      <td>84.54</td>\n",
       "      <td>61.56</td>\n",
       "      <td>13.48</td>\n",
       "      <td>10.28</td>\n",
       "      <td>0.97</td>\n",
       "      <td>0.00</td>\n",
       "      <td>0.00</td>\n",
       "      <td>0.00</td>\n",
       "    </tr>\n",
       "    <tr>\n",
       "      <th>GB</th>\n",
       "      <td>19.76</td>\n",
       "      <td>9.24</td>\n",
       "      <td>0.00</td>\n",
       "      <td>0.00</td>\n",
       "      <td>0.00</td>\n",
       "      <td>0.00</td>\n",
       "      <td>0.00</td>\n",
       "      <td>0.00</td>\n",
       "      <td>0.00</td>\n",
       "      <td>0.00</td>\n",
       "      <td>0.00</td>\n",
       "      <td>0.00</td>\n",
       "      <td>0.00</td>\n",
       "      <td>0.00</td>\n",
       "      <td>0.00</td>\n",
       "      <td>0.00</td>\n",
       "      <td>0.00</td>\n",
       "    </tr>\n",
       "    <tr>\n",
       "      <th>GBA</th>\n",
       "      <td>0.07</td>\n",
       "      <td>51.32</td>\n",
       "      <td>63.22</td>\n",
       "      <td>50.14</td>\n",
       "      <td>64.05</td>\n",
       "      <td>27.28</td>\n",
       "      <td>4.41</td>\n",
       "      <td>3.21</td>\n",
       "      <td>0.00</td>\n",
       "      <td>0.00</td>\n",
       "      <td>0.00</td>\n",
       "      <td>0.00</td>\n",
       "      <td>0.00</td>\n",
       "      <td>0.00</td>\n",
       "      <td>0.00</td>\n",
       "      <td>0.00</td>\n",
       "      <td>0.00</td>\n",
       "    </tr>\n",
       "    <tr>\n",
       "      <th>GC</th>\n",
       "      <td>0.00</td>\n",
       "      <td>25.68</td>\n",
       "      <td>48.33</td>\n",
       "      <td>49.85</td>\n",
       "      <td>26.50</td>\n",
       "      <td>25.09</td>\n",
       "      <td>10.01</td>\n",
       "      <td>0.22</td>\n",
       "      <td>0.00</td>\n",
       "      <td>0.00</td>\n",
       "      <td>0.00</td>\n",
       "      <td>0.00</td>\n",
       "      <td>0.00</td>\n",
       "      <td>0.00</td>\n",
       "      <td>0.00</td>\n",
       "      <td>0.00</td>\n",
       "      <td>0.00</td>\n",
       "    </tr>\n",
       "    <tr>\n",
       "      <th>N64</th>\n",
       "      <td>33.97</td>\n",
       "      <td>3.25</td>\n",
       "      <td>0.08</td>\n",
       "      <td>0.00</td>\n",
       "      <td>0.00</td>\n",
       "      <td>0.00</td>\n",
       "      <td>0.00</td>\n",
       "      <td>0.00</td>\n",
       "      <td>0.00</td>\n",
       "      <td>0.00</td>\n",
       "      <td>0.00</td>\n",
       "      <td>0.00</td>\n",
       "      <td>0.00</td>\n",
       "      <td>0.00</td>\n",
       "      <td>0.00</td>\n",
       "      <td>0.00</td>\n",
       "      <td>0.00</td>\n",
       "    </tr>\n",
       "    <tr>\n",
       "      <th>PC</th>\n",
       "      <td>4.66</td>\n",
       "      <td>5.47</td>\n",
       "      <td>8.56</td>\n",
       "      <td>8.84</td>\n",
       "      <td>10.39</td>\n",
       "      <td>4.36</td>\n",
       "      <td>2.81</td>\n",
       "      <td>9.23</td>\n",
       "      <td>12.26</td>\n",
       "      <td>16.33</td>\n",
       "      <td>24.13</td>\n",
       "      <td>34.55</td>\n",
       "      <td>23.22</td>\n",
       "      <td>12.38</td>\n",
       "      <td>13.25</td>\n",
       "      <td>8.49</td>\n",
       "      <td>5.22</td>\n",
       "    </tr>\n",
       "    <tr>\n",
       "      <th>PS</th>\n",
       "      <td>86.71</td>\n",
       "      <td>34.32</td>\n",
       "      <td>6.67</td>\n",
       "      <td>2.07</td>\n",
       "      <td>0.00</td>\n",
       "      <td>0.00</td>\n",
       "      <td>0.00</td>\n",
       "      <td>0.00</td>\n",
       "      <td>0.00</td>\n",
       "      <td>0.00</td>\n",
       "      <td>0.00</td>\n",
       "      <td>0.00</td>\n",
       "      <td>0.00</td>\n",
       "      <td>0.00</td>\n",
       "      <td>0.00</td>\n",
       "      <td>0.00</td>\n",
       "      <td>0.00</td>\n",
       "    </tr>\n",
       "    <tr>\n",
       "      <th>PS2</th>\n",
       "      <td>34.91</td>\n",
       "      <td>159.77</td>\n",
       "      <td>198.07</td>\n",
       "      <td>180.71</td>\n",
       "      <td>209.10</td>\n",
       "      <td>154.96</td>\n",
       "      <td>100.49</td>\n",
       "      <td>66.39</td>\n",
       "      <td>43.74</td>\n",
       "      <td>18.93</td>\n",
       "      <td>3.72</td>\n",
       "      <td>0.40</td>\n",
       "      <td>0.00</td>\n",
       "      <td>0.00</td>\n",
       "      <td>0.00</td>\n",
       "      <td>0.00</td>\n",
       "      <td>0.00</td>\n",
       "    </tr>\n",
       "    <tr>\n",
       "      <th>PS3</th>\n",
       "      <td>0.00</td>\n",
       "      <td>0.00</td>\n",
       "      <td>0.00</td>\n",
       "      <td>0.00</td>\n",
       "      <td>0.00</td>\n",
       "      <td>0.00</td>\n",
       "      <td>20.46</td>\n",
       "      <td>72.99</td>\n",
       "      <td>117.01</td>\n",
       "      <td>128.92</td>\n",
       "      <td>140.18</td>\n",
       "      <td>154.14</td>\n",
       "      <td>107.29</td>\n",
       "      <td>113.24</td>\n",
       "      <td>47.40</td>\n",
       "      <td>16.30</td>\n",
       "      <td>3.16</td>\n",
       "    </tr>\n",
       "    <tr>\n",
       "      <th>PS4</th>\n",
       "      <td>0.00</td>\n",
       "      <td>0.00</td>\n",
       "      <td>0.00</td>\n",
       "      <td>0.00</td>\n",
       "      <td>0.00</td>\n",
       "      <td>0.00</td>\n",
       "      <td>0.00</td>\n",
       "      <td>0.00</td>\n",
       "      <td>0.00</td>\n",
       "      <td>0.00</td>\n",
       "      <td>0.00</td>\n",
       "      <td>0.00</td>\n",
       "      <td>0.00</td>\n",
       "      <td>25.99</td>\n",
       "      <td>100.00</td>\n",
       "      <td>118.86</td>\n",
       "      <td>69.15</td>\n",
       "    </tr>\n",
       "    <tr>\n",
       "      <th>PSP</th>\n",
       "      <td>0.00</td>\n",
       "      <td>0.00</td>\n",
       "      <td>0.00</td>\n",
       "      <td>0.00</td>\n",
       "      <td>7.03</td>\n",
       "      <td>43.71</td>\n",
       "      <td>52.48</td>\n",
       "      <td>44.48</td>\n",
       "      <td>32.48</td>\n",
       "      <td>33.31</td>\n",
       "      <td>32.08</td>\n",
       "      <td>16.72</td>\n",
       "      <td>7.32</td>\n",
       "      <td>3.14</td>\n",
       "      <td>0.24</td>\n",
       "      <td>0.12</td>\n",
       "      <td>0.00</td>\n",
       "    </tr>\n",
       "    <tr>\n",
       "      <th>PSV</th>\n",
       "      <td>0.00</td>\n",
       "      <td>0.00</td>\n",
       "      <td>0.00</td>\n",
       "      <td>0.00</td>\n",
       "      <td>0.00</td>\n",
       "      <td>0.00</td>\n",
       "      <td>0.00</td>\n",
       "      <td>0.00</td>\n",
       "      <td>0.00</td>\n",
       "      <td>0.00</td>\n",
       "      <td>0.00</td>\n",
       "      <td>4.63</td>\n",
       "      <td>16.19</td>\n",
       "      <td>10.59</td>\n",
       "      <td>11.90</td>\n",
       "      <td>5.95</td>\n",
       "      <td>4.24</td>\n",
       "    </tr>\n",
       "    <tr>\n",
       "      <th>WS</th>\n",
       "      <td>0.68</td>\n",
       "      <td>0.28</td>\n",
       "      <td>0.00</td>\n",
       "      <td>0.00</td>\n",
       "      <td>0.00</td>\n",
       "      <td>0.00</td>\n",
       "      <td>0.00</td>\n",
       "      <td>0.00</td>\n",
       "      <td>0.00</td>\n",
       "      <td>0.00</td>\n",
       "      <td>0.00</td>\n",
       "      <td>0.00</td>\n",
       "      <td>0.00</td>\n",
       "      <td>0.00</td>\n",
       "      <td>0.00</td>\n",
       "      <td>0.00</td>\n",
       "      <td>0.00</td>\n",
       "    </tr>\n",
       "    <tr>\n",
       "      <th>Wii</th>\n",
       "      <td>0.00</td>\n",
       "      <td>0.00</td>\n",
       "      <td>0.00</td>\n",
       "      <td>0.00</td>\n",
       "      <td>0.00</td>\n",
       "      <td>0.00</td>\n",
       "      <td>136.07</td>\n",
       "      <td>149.08</td>\n",
       "      <td>158.56</td>\n",
       "      <td>179.78</td>\n",
       "      <td>90.86</td>\n",
       "      <td>45.61</td>\n",
       "      <td>21.08</td>\n",
       "      <td>8.11</td>\n",
       "      <td>2.61</td>\n",
       "      <td>0.15</td>\n",
       "      <td>0.00</td>\n",
       "    </tr>\n",
       "    <tr>\n",
       "      <th>WiiU</th>\n",
       "      <td>0.00</td>\n",
       "      <td>0.00</td>\n",
       "      <td>0.00</td>\n",
       "      <td>0.00</td>\n",
       "      <td>0.00</td>\n",
       "      <td>0.00</td>\n",
       "      <td>0.00</td>\n",
       "      <td>0.00</td>\n",
       "      <td>0.00</td>\n",
       "      <td>0.00</td>\n",
       "      <td>0.00</td>\n",
       "      <td>0.00</td>\n",
       "      <td>17.56</td>\n",
       "      <td>21.65</td>\n",
       "      <td>22.01</td>\n",
       "      <td>16.27</td>\n",
       "      <td>4.30</td>\n",
       "    </tr>\n",
       "    <tr>\n",
       "      <th>X360</th>\n",
       "      <td>0.00</td>\n",
       "      <td>0.00</td>\n",
       "      <td>0.00</td>\n",
       "      <td>0.00</td>\n",
       "      <td>0.00</td>\n",
       "      <td>8.25</td>\n",
       "      <td>51.55</td>\n",
       "      <td>94.37</td>\n",
       "      <td>134.07</td>\n",
       "      <td>118.39</td>\n",
       "      <td>166.93</td>\n",
       "      <td>140.18</td>\n",
       "      <td>99.57</td>\n",
       "      <td>88.57</td>\n",
       "      <td>33.77</td>\n",
       "      <td>11.87</td>\n",
       "      <td>1.22</td>\n",
       "    </tr>\n",
       "    <tr>\n",
       "      <th>XB</th>\n",
       "      <td>0.99</td>\n",
       "      <td>20.97</td>\n",
       "      <td>44.30</td>\n",
       "      <td>51.43</td>\n",
       "      <td>62.20</td>\n",
       "      <td>46.50</td>\n",
       "      <td>9.26</td>\n",
       "      <td>0.55</td>\n",
       "      <td>0.18</td>\n",
       "      <td>0.00</td>\n",
       "      <td>0.00</td>\n",
       "      <td>0.00</td>\n",
       "      <td>0.00</td>\n",
       "      <td>0.00</td>\n",
       "      <td>0.00</td>\n",
       "      <td>0.00</td>\n",
       "      <td>0.00</td>\n",
       "    </tr>\n",
       "    <tr>\n",
       "      <th>XOne</th>\n",
       "      <td>0.00</td>\n",
       "      <td>0.00</td>\n",
       "      <td>0.00</td>\n",
       "      <td>0.00</td>\n",
       "      <td>0.00</td>\n",
       "      <td>0.00</td>\n",
       "      <td>0.00</td>\n",
       "      <td>0.00</td>\n",
       "      <td>0.00</td>\n",
       "      <td>0.00</td>\n",
       "      <td>0.00</td>\n",
       "      <td>0.00</td>\n",
       "      <td>0.00</td>\n",
       "      <td>18.96</td>\n",
       "      <td>54.07</td>\n",
       "      <td>59.92</td>\n",
       "      <td>25.82</td>\n",
       "    </tr>\n",
       "  </tbody>\n",
       "</table>\n",
       "</div>"
      ],
      "text/plain": [
       "year_of_release  2000.0  2001.0  2002.0  2003.0  2004.0  2005.0  2006.0  \\\n",
       "platform                                                                  \n",
       "3DS                0.00    0.00    0.00    0.00    0.00    0.00    0.00   \n",
       "DC                 5.99    1.07    0.29    0.00    0.00    0.00    0.00   \n",
       "DS                 0.00    0.00    0.00    0.00   17.23  128.68  114.93   \n",
       "GB                19.76    9.24    0.00    0.00    0.00    0.00    0.00   \n",
       "GBA                0.07   51.32   63.22   50.14   64.05   27.28    4.41   \n",
       "GC                 0.00   25.68   48.33   49.85   26.50   25.09   10.01   \n",
       "N64               33.97    3.25    0.08    0.00    0.00    0.00    0.00   \n",
       "PC                 4.66    5.47    8.56    8.84   10.39    4.36    2.81   \n",
       "PS                86.71   34.32    6.67    2.07    0.00    0.00    0.00   \n",
       "PS2               34.91  159.77  198.07  180.71  209.10  154.96  100.49   \n",
       "PS3                0.00    0.00    0.00    0.00    0.00    0.00   20.46   \n",
       "PS4                0.00    0.00    0.00    0.00    0.00    0.00    0.00   \n",
       "PSP                0.00    0.00    0.00    0.00    7.03   43.71   52.48   \n",
       "PSV                0.00    0.00    0.00    0.00    0.00    0.00    0.00   \n",
       "WS                 0.68    0.28    0.00    0.00    0.00    0.00    0.00   \n",
       "Wii                0.00    0.00    0.00    0.00    0.00    0.00  136.07   \n",
       "WiiU               0.00    0.00    0.00    0.00    0.00    0.00    0.00   \n",
       "X360               0.00    0.00    0.00    0.00    0.00    8.25   51.55   \n",
       "XB                 0.99   20.97   44.30   51.43   62.20   46.50    9.26   \n",
       "XOne               0.00    0.00    0.00    0.00    0.00    0.00    0.00   \n",
       "\n",
       "year_of_release  2007.0  2008.0  2009.0  2010.0  2011.0  2012.0  2013.0  \\\n",
       "platform                                                                  \n",
       "3DS                0.00    0.00    0.00    0.00   60.53   51.01   56.32   \n",
       "DC                 0.02    0.04    0.00    0.00    0.00    0.00    0.00   \n",
       "DS               121.23  102.44   84.54   61.56   13.48   10.28    0.97   \n",
       "GB                 0.00    0.00    0.00    0.00    0.00    0.00    0.00   \n",
       "GBA                3.21    0.00    0.00    0.00    0.00    0.00    0.00   \n",
       "GC                 0.22    0.00    0.00    0.00    0.00    0.00    0.00   \n",
       "N64                0.00    0.00    0.00    0.00    0.00    0.00    0.00   \n",
       "PC                 9.23   12.26   16.33   24.13   34.55   23.22   12.38   \n",
       "PS                 0.00    0.00    0.00    0.00    0.00    0.00    0.00   \n",
       "PS2               66.39   43.74   18.93    3.72    0.40    0.00    0.00   \n",
       "PS3               72.99  117.01  128.92  140.18  154.14  107.29  113.24   \n",
       "PS4                0.00    0.00    0.00    0.00    0.00    0.00   25.99   \n",
       "PSP               44.48   32.48   33.31   32.08   16.72    7.32    3.14   \n",
       "PSV                0.00    0.00    0.00    0.00    4.63   16.19   10.59   \n",
       "WS                 0.00    0.00    0.00    0.00    0.00    0.00    0.00   \n",
       "Wii              149.08  158.56  179.78   90.86   45.61   21.08    8.11   \n",
       "WiiU               0.00    0.00    0.00    0.00    0.00   17.56   21.65   \n",
       "X360              94.37  134.07  118.39  166.93  140.18   99.57   88.57   \n",
       "XB                 0.55    0.18    0.00    0.00    0.00    0.00    0.00   \n",
       "XOne               0.00    0.00    0.00    0.00    0.00    0.00   18.96   \n",
       "\n",
       "year_of_release  2014.0  2015.0  2016.0  \n",
       "platform                                 \n",
       "3DS               43.07   27.21   15.10  \n",
       "DC                 0.00    0.00    0.00  \n",
       "DS                 0.00    0.00    0.00  \n",
       "GB                 0.00    0.00    0.00  \n",
       "GBA                0.00    0.00    0.00  \n",
       "GC                 0.00    0.00    0.00  \n",
       "N64                0.00    0.00    0.00  \n",
       "PC                13.25    8.49    5.22  \n",
       "PS                 0.00    0.00    0.00  \n",
       "PS2                0.00    0.00    0.00  \n",
       "PS3               47.40   16.30    3.16  \n",
       "PS4              100.00  118.86   69.15  \n",
       "PSP                0.24    0.12    0.00  \n",
       "PSV               11.90    5.95    4.24  \n",
       "WS                 0.00    0.00    0.00  \n",
       "Wii                2.61    0.15    0.00  \n",
       "WiiU              22.01   16.27    4.30  \n",
       "X360              33.77   11.87    1.22  \n",
       "XB                 0.00    0.00    0.00  \n",
       "XOne              54.07   59.92   25.82  "
      ]
     },
     "execution_count": 25,
     "metadata": {},
     "output_type": "execute_result"
    }
   ],
   "source": [
    "platforms = df_new.pivot_table(index='platform', columns = 'year_of_release', values = 'sum_sales', aggfunc='sum').fillna(0)\n",
    "platforms"
   ]
  },
  {
   "cell_type": "code",
   "execution_count": 26,
   "metadata": {},
   "outputs": [
    {
     "data": {
      "text/plain": [
       "<AxesSubplot:xlabel='year_of_release', ylabel='platform'>"
      ]
     },
     "execution_count": 26,
     "metadata": {},
     "output_type": "execute_result"
    },
    {
     "data": {
      "image/png": "[encoded data removed]",
      "text/plain": [
       "<Figure size 1080x720 with 2 Axes>"
      ]
     },
     "metadata": {
      "needs_background": "light"
     },
     "output_type": "display_data"
    }
   ],
   "source": [
    "plt.figure(figsize = (15,10))\n",
    "sns.heatmap(platforms, vmin=0, vmax=50, center= 0, cmap= 'coolwarm', linewidths=.5)"
   ]
  },
  {
   "cell_type": "markdown",
   "metadata": {},
   "source": [
    "Итак, на хитмэпе видно, что в среднем платформы служат периодами 6-9 лет, затем появляется другая и продажи постепенно падают. Как и на прошлом графике видно что самый популярный период для игр был с 2006 по 2011 год. \n",
    "* PC заслуживает внимания за свою устойчивовсть, потому как на протяжении всего периода держался и имел доход, пусть и не такой большой, как у остальных платформ.\n",
    "* 3DS появился в 2011 года, с 2016 продажи сократились, но все же объемы достаточно велики.\n",
    "* PS3 к 2016 году уже начал терять свою популярность, из-за появления новой PS4.\n",
    "* PS4 платформа которая имеет наибольший доход, так же затмила собой остальные версии.\n",
    "* PSV начала старт в 2011, однако не показала себя выше среднего, но тем не менее продажи на 2016 год, все равно есть.\n",
    "* WiiU аналогично прошлой, остается на плаву.\n",
    "* X360 Пришел на смену XB в 2005 году, набрал уверенную популярность, но с выходом XOne, за этот перидод в 8 лет пошел на спад.\n",
    "* XOne пришел на смену старшему X360, второе место по продажам после PS4."
   ]
  },
  {
   "cell_type": "markdown",
   "metadata": {},
   "source": [
    "### Определяем актуальный период. Определяем потенциально прибыльные платформы."
   ]
  },
  {
   "cell_type": "markdown",
   "metadata": {},
   "source": [
    "Избавимся от устаревших консолей, оставим лишь те, игры на которые до сих пор покупают, те, что принесут потенциальную прибыль. На основании предыдущих данных возьмем период с 2013 по 2016 год."
   ]
  },
  {
   "cell_type": "code",
   "execution_count": 27,
   "metadata": {
    "scrolled": true
   },
   "outputs": [
    {
     "data": {
      "text/html": [
       "<div>\n",
       "<style scoped>\n",
       "    .dataframe tbody tr th:only-of-type {\n",
       "        vertical-align: middle;\n",
       "    }\n",
       "\n",
       "    .dataframe tbody tr th {\n",
       "        vertical-align: top;\n",
       "    }\n",
       "\n",
       "    .dataframe thead th {\n",
       "        text-align: right;\n",
       "    }\n",
       "</style>\n",
       "<table border=\"1\" class=\"dataframe\">\n",
       "  <thead>\n",
       "    <tr style=\"text-align: right;\">\n",
       "      <th></th>\n",
       "      <th>name</th>\n",
       "      <th>platform</th>\n",
       "      <th>year_of_release</th>\n",
       "      <th>genre</th>\n",
       "      <th>na_sales</th>\n",
       "      <th>eu_sales</th>\n",
       "      <th>jp_sales</th>\n",
       "      <th>other_sales</th>\n",
       "      <th>critic_score</th>\n",
       "      <th>user_score</th>\n",
       "      <th>rating</th>\n",
       "      <th>sum_sales</th>\n",
       "    </tr>\n",
       "  </thead>\n",
       "  <tbody>\n",
       "    <tr>\n",
       "      <th>0</th>\n",
       "      <td>Winning Post 8 2016</td>\n",
       "      <td>PSV</td>\n",
       "      <td>2016.0</td>\n",
       "      <td>Simulation</td>\n",
       "      <td>0.00</td>\n",
       "      <td>0.00</td>\n",
       "      <td>0.01</td>\n",
       "      <td>0.00</td>\n",
       "      <td>NaN</td>\n",
       "      <td>NaN</td>\n",
       "      <td>NaN</td>\n",
       "      <td>0.01</td>\n",
       "    </tr>\n",
       "    <tr>\n",
       "      <th>1</th>\n",
       "      <td>Naruto Shippuden: Ultimate Ninja Storm Collection</td>\n",
       "      <td>PS3</td>\n",
       "      <td>2016.0</td>\n",
       "      <td>Action</td>\n",
       "      <td>0.00</td>\n",
       "      <td>0.01</td>\n",
       "      <td>0.00</td>\n",
       "      <td>0.00</td>\n",
       "      <td>NaN</td>\n",
       "      <td>NaN</td>\n",
       "      <td>NaN</td>\n",
       "      <td>0.01</td>\n",
       "    </tr>\n",
       "    <tr>\n",
       "      <th>2</th>\n",
       "      <td>Battleborn</td>\n",
       "      <td>XOne</td>\n",
       "      <td>2016.0</td>\n",
       "      <td>Shooter</td>\n",
       "      <td>0.10</td>\n",
       "      <td>0.04</td>\n",
       "      <td>0.00</td>\n",
       "      <td>0.01</td>\n",
       "      <td>71.0</td>\n",
       "      <td>7.2</td>\n",
       "      <td>T</td>\n",
       "      <td>0.15</td>\n",
       "    </tr>\n",
       "    <tr>\n",
       "      <th>3</th>\n",
       "      <td>Warhammer: The End Times - Vermintide</td>\n",
       "      <td>PS4</td>\n",
       "      <td>2016.0</td>\n",
       "      <td>Action</td>\n",
       "      <td>0.01</td>\n",
       "      <td>0.02</td>\n",
       "      <td>0.00</td>\n",
       "      <td>0.01</td>\n",
       "      <td>NaN</td>\n",
       "      <td>NaN</td>\n",
       "      <td>NaN</td>\n",
       "      <td>0.04</td>\n",
       "    </tr>\n",
       "    <tr>\n",
       "      <th>4</th>\n",
       "      <td>DiRT Rally</td>\n",
       "      <td>PC</td>\n",
       "      <td>2016.0</td>\n",
       "      <td>Racing</td>\n",
       "      <td>0.00</td>\n",
       "      <td>0.03</td>\n",
       "      <td>0.00</td>\n",
       "      <td>0.00</td>\n",
       "      <td>86.0</td>\n",
       "      <td>8.7</td>\n",
       "      <td>E</td>\n",
       "      <td>0.03</td>\n",
       "    </tr>\n",
       "    <tr>\n",
       "      <th>...</th>\n",
       "      <td>...</td>\n",
       "      <td>...</td>\n",
       "      <td>...</td>\n",
       "      <td>...</td>\n",
       "      <td>...</td>\n",
       "      <td>...</td>\n",
       "      <td>...</td>\n",
       "      <td>...</td>\n",
       "      <td>...</td>\n",
       "      <td>...</td>\n",
       "      <td>...</td>\n",
       "      <td>...</td>\n",
       "    </tr>\n",
       "    <tr>\n",
       "      <th>2120</th>\n",
       "      <td>NHL 14</td>\n",
       "      <td>PS3</td>\n",
       "      <td>2013.0</td>\n",
       "      <td>Sports</td>\n",
       "      <td>0.28</td>\n",
       "      <td>0.17</td>\n",
       "      <td>0.00</td>\n",
       "      <td>0.09</td>\n",
       "      <td>80.0</td>\n",
       "      <td>6.0</td>\n",
       "      <td>E10+</td>\n",
       "      <td>0.54</td>\n",
       "    </tr>\n",
       "    <tr>\n",
       "      <th>2121</th>\n",
       "      <td>Army of Two: The Devil's Cartel</td>\n",
       "      <td>PS3</td>\n",
       "      <td>2013.0</td>\n",
       "      <td>Shooter</td>\n",
       "      <td>0.11</td>\n",
       "      <td>0.11</td>\n",
       "      <td>0.01</td>\n",
       "      <td>0.05</td>\n",
       "      <td>58.0</td>\n",
       "      <td>6.7</td>\n",
       "      <td>M</td>\n",
       "      <td>0.28</td>\n",
       "    </tr>\n",
       "    <tr>\n",
       "      <th>2122</th>\n",
       "      <td>1/2 Summer +</td>\n",
       "      <td>PSP</td>\n",
       "      <td>2013.0</td>\n",
       "      <td>Adventure</td>\n",
       "      <td>0.00</td>\n",
       "      <td>0.00</td>\n",
       "      <td>0.01</td>\n",
       "      <td>0.00</td>\n",
       "      <td>NaN</td>\n",
       "      <td>NaN</td>\n",
       "      <td>NaN</td>\n",
       "      <td>0.01</td>\n",
       "    </tr>\n",
       "    <tr>\n",
       "      <th>2123</th>\n",
       "      <td>Battlefield 4</td>\n",
       "      <td>PS3</td>\n",
       "      <td>2013.0</td>\n",
       "      <td>Shooter</td>\n",
       "      <td>1.30</td>\n",
       "      <td>1.42</td>\n",
       "      <td>0.27</td>\n",
       "      <td>0.50</td>\n",
       "      <td>80.0</td>\n",
       "      <td>5.8</td>\n",
       "      <td>M</td>\n",
       "      <td>3.49</td>\n",
       "    </tr>\n",
       "    <tr>\n",
       "      <th>2124</th>\n",
       "      <td>NBA Live 14</td>\n",
       "      <td>XOne</td>\n",
       "      <td>2013.0</td>\n",
       "      <td>Sports</td>\n",
       "      <td>0.16</td>\n",
       "      <td>0.02</td>\n",
       "      <td>0.00</td>\n",
       "      <td>0.02</td>\n",
       "      <td>36.0</td>\n",
       "      <td>3.1</td>\n",
       "      <td>E</td>\n",
       "      <td>0.20</td>\n",
       "    </tr>\n",
       "  </tbody>\n",
       "</table>\n",
       "<p>2125 rows × 12 columns</p>\n",
       "</div>"
      ],
      "text/plain": [
       "                                                   name platform  \\\n",
       "0                                   Winning Post 8 2016      PSV   \n",
       "1     Naruto Shippuden: Ultimate Ninja Storm Collection      PS3   \n",
       "2                                            Battleborn     XOne   \n",
       "3                 Warhammer: The End Times - Vermintide      PS4   \n",
       "4                                            DiRT Rally       PC   \n",
       "...                                                 ...      ...   \n",
       "2120                                             NHL 14      PS3   \n",
       "2121                    Army of Two: The Devil's Cartel      PS3   \n",
       "2122                                       1/2 Summer +      PSP   \n",
       "2123                                      Battlefield 4      PS3   \n",
       "2124                                        NBA Live 14     XOne   \n",
       "\n",
       "      year_of_release       genre  na_sales  eu_sales  jp_sales  other_sales  \\\n",
       "0              2016.0  Simulation      0.00      0.00      0.01         0.00   \n",
       "1              2016.0      Action      0.00      0.01      0.00         0.00   \n",
       "2              2016.0     Shooter      0.10      0.04      0.00         0.01   \n",
       "3              2016.0      Action      0.01      0.02      0.00         0.01   \n",
       "4              2016.0      Racing      0.00      0.03      0.00         0.00   \n",
       "...               ...         ...       ...       ...       ...          ...   \n",
       "2120           2013.0      Sports      0.28      0.17      0.00         0.09   \n",
       "2121           2013.0     Shooter      0.11      0.11      0.01         0.05   \n",
       "2122           2013.0   Adventure      0.00      0.00      0.01         0.00   \n",
       "2123           2013.0     Shooter      1.30      1.42      0.27         0.50   \n",
       "2124           2013.0      Sports      0.16      0.02      0.00         0.02   \n",
       "\n",
       "      critic_score  user_score rating  sum_sales  \n",
       "0              NaN         NaN    NaN       0.01  \n",
       "1              NaN         NaN    NaN       0.01  \n",
       "2             71.0         7.2      T       0.15  \n",
       "3              NaN         NaN    NaN       0.04  \n",
       "4             86.0         8.7      E       0.03  \n",
       "...            ...         ...    ...        ...  \n",
       "2120          80.0         6.0   E10+       0.54  \n",
       "2121          58.0         6.7      M       0.28  \n",
       "2122           NaN         NaN    NaN       0.01  \n",
       "2123          80.0         5.8      M       3.49  \n",
       "2124          36.0         3.1      E       0.20  \n",
       "\n",
       "[2125 rows x 12 columns]"
      ]
     },
     "execution_count": 27,
     "metadata": {},
     "output_type": "execute_result"
    }
   ],
   "source": [
    "df_forecast = df_new[df_new['year_of_release'] >= 2013]\n",
    "df_forecast = df_forecast.sort_values(by='year_of_release', ascending=False).reset_index(drop=True)\n",
    "del df_forecast['index']\n",
    "df_forecast"
   ]
  },
  {
   "cell_type": "markdown",
   "metadata": {},
   "source": [
    "Построим график, на котором отразим продажи по платформам за 6 лет."
   ]
  },
  {
   "cell_type": "code",
   "execution_count": 28,
   "metadata": {},
   "outputs": [
    {
     "data": {
      "text/plain": [
       "Text(0, 0.5, 'Прибыль')"
      ]
     },
     "execution_count": 28,
     "metadata": {},
     "output_type": "execute_result"
    },
    {
     "data": {
      "image/png": "[encoded data removed]",
      "text/plain": [
       "<Figure size 864x432 with 1 Axes>"
      ]
     },
     "metadata": {
      "needs_background": "light"
     },
     "output_type": "display_data"
    }
   ],
   "source": [
    "(df_forecast\n",
    " .pivot_table(index = 'year_of_release', columns='platform', values='sum_sales', aggfunc='sum')\n",
    " .T\n",
    " .plot(kind='bar', figsize=(12,6), grid=True)\n",
    ")\n",
    "\n",
    "plt.title('Прибыль с продаж игр по платформам'+ \"\\n\")\n",
    "plt.xlabel('Платформа')\n",
    "plt.ylabel('Прибыль')"
   ]
  },
  {
   "cell_type": "markdown",
   "metadata": {},
   "source": [
    "Судя по графики падают продажи по всем платформам, как и было на общем графики по продажам. Но наиболее популярные это:\n",
    "1. PS4\n",
    "2. XOne\n",
    "3. 3DS\n",
    "4. PC\n",
    "5. PSV\n",
    "6. WiiU                                                                                                                    Эти платформы, показывают самую большую прибыль на 2016 год, из-за отрицальной динамики продаж, эти платформы можно считать наиболее устойчивыми к понижениям и потере популярности в 2017 году."
   ]
  },
  {
   "cell_type": "markdown",
   "metadata": {},
   "source": [
    "### Диаграмма размаха по платформам"
   ]
  },
  {
   "cell_type": "code",
   "execution_count": 67,
   "metadata": {},
   "outputs": [
    {
     "data": {
      "text/plain": [
       "<seaborn.axisgrid.FacetGrid at 0x7f335eceea30>"
      ]
     },
     "execution_count": 67,
     "metadata": {},
     "output_type": "execute_result"
    },
    {
     "data": {
      "image/png": "[encoded data removed]",
      "text/plain": [
       "<Figure size 1080x1080 with 1 Axes>"
      ]
     },
     "metadata": {
      "needs_background": "light"
     },
     "output_type": "display_data"
    }
   ],
   "source": [
    "for_box = df.pivot_table(index = 'year_of_release', columns = 'platform', values = 'sum_sales', aggfunc='sum')\n",
    "g = sns.catplot(kind=\"box\", data= for_box, orient='h', palette = 'pastel')\n",
    "g.fig.set_figwidth(15)\n",
    "g.fig.set_figheight(15)\n",
    "g.set(ylim=(17, 31))"
   ]
  },
  {
   "cell_type": "markdown",
   "metadata": {},
   "source": [
    "По диаграмме размаха можно определить тип графиков отрицательные или положительные, об этом можно судить по медиане(в каком квартиле она расположена), соответсвенно можно выбрать и платформу в которую лучше всего вкладываться.\n",
    "Положительная скошенность по платформам:\n",
    "* GB, NES, PS, PS2, PSP, PSV, Wil, WiiU, XB.\n",
    "Выбросы были обнаружены:\n",
    "* 2600, GB, PC, WiiU\n",
    "XOne показывает нормальное распределение. Остальные графики имеют отрицательную скошенность."
   ]
  },
  {
   "cell_type": "markdown",
   "metadata": {},
   "source": [
    "### Зависимость отзывов от продаж"
   ]
  },
  {
   "cell_type": "markdown",
   "metadata": {},
   "source": [
    "Возьмем одну из популярных платформ - PS4, которая по продажам бьет все современные платформы, посчитаем корреляция и диаграму рассеивания."
   ]
  },
  {
   "cell_type": "code",
   "execution_count": 30,
   "metadata": {},
   "outputs": [
    {
     "name": "stdout",
     "output_type": "stream",
     "text": [
      "0.4064685741971657\n"
     ]
    },
    {
     "data": {
      "image/png": "[encoded data removed]",
      "text/plain": [
       "<Figure size 432x288 with 1 Axes>"
      ]
     },
     "metadata": {
      "needs_background": "light"
     },
     "output_type": "display_data"
    }
   ],
   "source": [
    "ps4 = df.query('platform == \"PS4\"')\n",
    "ps4.plot(x='critic_score', y='sum_sales', kind='scatter', grid=True)\n",
    "print(ps4['sum_sales'].corr(df['critic_score']))\n"
   ]
  },
  {
   "cell_type": "markdown",
   "metadata": {},
   "source": [
    "Значение корреляции Пирсона составило 0,4, значит зависимость от количества продаж и оценки критиков есть, пусть и не очень большая, но это может быть вызвано пропущенными значениями в стобце оценки. То же видно и на диаграмме рассеивания."
   ]
  },
  {
   "cell_type": "markdown",
   "metadata": {},
   "source": [
    "В столбце 'user_score' значения типа 'str' и присуетвует по мимо чисел tbd, что означает значения появятся в будущем, но график нельзя будет построить с этим значением, поэтому для этой диаграмы заменим это значение на '0'."
   ]
  },
  {
   "cell_type": "code",
   "execution_count": 31,
   "metadata": {},
   "outputs": [
    {
     "name": "stdout",
     "output_type": "stream",
     "text": [
      "-0.031957110204556376\n"
     ]
    },
    {
     "data": {
      "image/png": "[encoded data removed]",
      "text/plain": [
       "<Figure size 432x288 with 1 Axes>"
      ]
     },
     "metadata": {
      "needs_background": "light"
     },
     "output_type": "display_data"
    }
   ],
   "source": [
    "ps4.plot(x='user_score', y='sum_sales', kind='scatter', grid=True)\n",
    "print(ps4['sum_sales'].corr(ps4['user_score']))"
   ]
  },
  {
   "cell_type": "markdown",
   "metadata": {},
   "source": [
    "Тут корреляция Пирсона получилась отрицательной и значение очень маленькое, значит зависимости почти нет."
   ]
  },
  {
   "cell_type": "markdown",
   "metadata": {},
   "source": [
    "### Соотнесем выводы по остальным платформам"
   ]
  },
  {
   "cell_type": "code",
   "execution_count": 32,
   "metadata": {},
   "outputs": [
    {
     "name": "stdout",
     "output_type": "stream",
     "text": [
      "0.3392349287853148\n",
      "nan\n",
      "0.1960302829436937\n",
      "0.33380663565061747\n",
      "0.4064685741971654\n",
      "nan\n",
      "0.2540997021864077\n",
      "nan\n",
      "0.3795044989978415\n"
     ]
    },
    {
     "name": "stderr",
     "output_type": "stream",
     "text": [
      "/opt/conda/lib/python3.9/site-packages/numpy/lib/function_base.py:2683: RuntimeWarning: Degrees of freedom <= 0 for slice\n",
      "  c = cov(x, y, rowvar, dtype=dtype)\n",
      "/opt/conda/lib/python3.9/site-packages/numpy/lib/function_base.py:2542: RuntimeWarning: divide by zero encountered in true_divide\n",
      "  c *= np.true_divide(1, fact)\n"
     ]
    },
    {
     "name": "stdout",
     "output_type": "stream",
     "text": [
      "0.3503445460228665\n",
      "0.4121558682031697\n"
     ]
    },
    {
     "data": {
      "image/png": "[encoded data removed]",
      "text/plain": [
       "<Figure size 576x432 with 1 Axes>"
      ]
     },
     "metadata": {
      "needs_background": "light"
     },
     "output_type": "display_data"
    },
    {
     "data": {
      "image/png": "[encoded data removed]",
      "text/plain": [
       "<Figure size 576x432 with 1 Axes>"
      ]
     },
     "metadata": {
      "needs_background": "light"
     },
     "output_type": "display_data"
    },
    {
     "data": {
      "image/png": "[encoded data removed]",
      "text/plain": [
       "<Figure size 576x432 with 1 Axes>"
      ]
     },
     "metadata": {
      "needs_background": "light"
     },
     "output_type": "display_data"
    },
    {
     "data": {
      "image/png": "[encoded data removed]",
      "text/plain": [
       "<Figure size 576x432 with 1 Axes>"
      ]
     },
     "metadata": {
      "needs_background": "light"
     },
     "output_type": "display_data"
    },
    {
     "data": {
      "image/png": "[encoded data removed]",
      "text/plain": [
       "<Figure size 576x432 with 1 Axes>"
      ]
     },
     "metadata": {
      "needs_background": "light"
     },
     "output_type": "display_data"
    },
    {
     "data": {
      "image/png": "[encoded data removed]",
      "text/plain": [
       "<Figure size 576x432 with 1 Axes>"
      ]
     },
     "metadata": {
      "needs_background": "light"
     },
     "output_type": "display_data"
    },
    {
     "data": {
      "image/png": "[encoded data removed]",
      "text/plain": [
       "<Figure size 576x432 with 1 Axes>"
      ]
     },
     "metadata": {
      "needs_background": "light"
     },
     "output_type": "display_data"
    },
    {
     "data": {
      "image/png": "[encoded data removed]",
      "text/plain": [
       "<Figure size 576x432 with 1 Axes>"
      ]
     },
     "metadata": {
      "needs_background": "light"
     },
     "output_type": "display_data"
    },
    {
     "data": {
      "image/png": "[encoded data removed]",
      "text/plain": [
       "<Figure size 576x432 with 1 Axes>"
      ]
     },
     "metadata": {
      "needs_background": "light"
     },
     "output_type": "display_data"
    },
    {
     "data": {
      "image/png": "[encoded data removed]",
      "text/plain": [
       "<Figure size 576x432 with 1 Axes>"
      ]
     },
     "metadata": {
      "needs_background": "light"
     },
     "output_type": "display_data"
    },
    {
     "data": {
      "image/png": "[encoded data removed]",
      "text/plain": [
       "<Figure size 576x432 with 1 Axes>"
      ]
     },
     "metadata": {
      "needs_background": "light"
     },
     "output_type": "display_data"
    }
   ],
   "source": [
    "for name, data in df_forecast.groupby('platform'):\n",
    "    data.plot(title=name, x='critic_score', y = 'sum_sales',kind ='scatter', grid=True, figsize=(8,6)) \n",
    "    print(data['sum_sales'].corr(data['critic_score']))"
   ]
  },
  {
   "cell_type": "code",
   "execution_count": 33,
   "metadata": {},
   "outputs": [
    {
     "name": "stdout",
     "output_type": "stream",
     "text": [
      "0.3392349287853148\n",
      "nan\n",
      "0.1960302829436937\n",
      "0.33380663565061747\n",
      "0.4064685741971654\n",
      "nan\n",
      "0.2540997021864077\n",
      "nan\n",
      "0.3795044989978415\n",
      "0.3503445460228665\n",
      "0.4121558682031697\n"
     ]
    },
    {
     "data": {
      "image/png": "[encoded data removed]",
      "text/plain": [
       "<Figure size 576x432 with 1 Axes>"
      ]
     },
     "metadata": {
      "needs_background": "light"
     },
     "output_type": "display_data"
    },
    {
     "data": {
      "image/png": "[encoded data removed]",
      "text/plain": [
       "<Figure size 576x432 with 1 Axes>"
      ]
     },
     "metadata": {
      "needs_background": "light"
     },
     "output_type": "display_data"
    },
    {
     "data": {
      "image/png": "[encoded data removed]",
      "text/plain": [
       "<Figure size 576x432 with 1 Axes>"
      ]
     },
     "metadata": {
      "needs_background": "light"
     },
     "output_type": "display_data"
    },
    {
     "data": {
      "image/png": "[encoded data removed]",
      "text/plain": [
       "<Figure size 576x432 with 1 Axes>"
      ]
     },
     "metadata": {
      "needs_background": "light"
     },
     "output_type": "display_data"
    },
    {
     "data": {
      "image/png": "[encoded data removed]",
      "text/plain": [
       "<Figure size 576x432 with 1 Axes>"
      ]
     },
     "metadata": {
      "needs_background": "light"
     },
     "output_type": "display_data"
    },
    {
     "data": {
      "image/png": "[encoded data removed]",
      "text/plain": [
       "<Figure size 576x432 with 1 Axes>"
      ]
     },
     "metadata": {
      "needs_background": "light"
     },
     "output_type": "display_data"
    },
    {
     "data": {
      "image/png": "[encoded data removed]",
      "text/plain": [
       "<Figure size 576x432 with 1 Axes>"
      ]
     },
     "metadata": {
      "needs_background": "light"
     },
     "output_type": "display_data"
    },
    {
     "data": {
      "image/png": "[encoded data removed]",
      "text/plain": [
       "<Figure size 576x432 with 1 Axes>"
      ]
     },
     "metadata": {
      "needs_background": "light"
     },
     "output_type": "display_data"
    },
    {
     "data": {
      "image/png": "[encoded data removed]",
      "text/plain": [
       "<Figure size 576x432 with 1 Axes>"
      ]
     },
     "metadata": {
      "needs_background": "light"
     },
     "output_type": "display_data"
    },
    {
     "data": {
      "image/png": "[encoded data removed]",
      "text/plain": [
       "<Figure size 576x432 with 1 Axes>"
      ]
     },
     "metadata": {
      "needs_background": "light"
     },
     "output_type": "display_data"
    },
    {
     "data": {
      "image/png": "[encoded data removed]",
      "text/plain": [
       "<Figure size 576x432 with 1 Axes>"
      ]
     },
     "metadata": {
      "needs_background": "light"
     },
     "output_type": "display_data"
    }
   ],
   "source": [
    "for name, data in df_forecast.groupby('platform'):\n",
    "     data.plot(title=name, x='user_score', y = 'sum_sales',kind ='scatter', grid=True, figsize=(8,6)) \n",
    "     print(data['sum_sales'].corr(data['critic_score']))"
   ]
  },
  {
   "cell_type": "markdown",
   "metadata": {},
   "source": [
    "Исходя из построенных графиков и посчитанной корреляции, видно, что результаты распределения на диаграмме и корреляции близки к значениям популярной платформы"
   ]
  },
  {
   "cell_type": "markdown",
   "metadata": {},
   "source": [
    "### Определение прибыльных жанров"
   ]
  },
  {
   "cell_type": "code",
   "execution_count": 34,
   "metadata": {},
   "outputs": [
    {
     "data": {
      "text/plain": [
       "Text(0, 0.5, 'Прибыль')"
      ]
     },
     "execution_count": 34,
     "metadata": {},
     "output_type": "execute_result"
    },
    {
     "data": {
      "image/png": "[encoded data removed]",
      "text/plain": [
       "<Figure size 1008x720 with 1 Axes>"
      ]
     },
     "metadata": {
      "needs_background": "light"
     },
     "output_type": "display_data"
    }
   ],
   "source": [
    "(df_forecast\n",
    " .pivot_table(index = 'year_of_release', columns='genre', values='sum_sales', aggfunc='median')\n",
    " .T\n",
    " .plot(kind='bar', figsize=(14,10), grid=True)\n",
    ")\n",
    "\n",
    "plt.title('Прибыльные жанры'+ \"\\n\")\n",
    "plt.xlabel('Жанр')\n",
    "plt.ylabel('Прибыль')"
   ]
  },
  {
   "cell_type": "markdown",
   "metadata": {},
   "source": [
    "Самые прибыльные жанры:\n",
    "1. Shooter\n",
    "2. Sports\n",
    "3. Platform\n",
    "4. Fighting\n",
    "5. Action\n",
    "Видно, что как и продажи по играм, по жанрам тоже упали и наиболее популярными стали shooter и sports, которые меньше всех просели по продажам."
   ]
  },
  {
   "cell_type": "markdown",
   "metadata": {},
   "source": [
    "## Портрет пользователя каждого региона"
   ]
  },
  {
   "cell_type": "markdown",
   "metadata": {},
   "source": [
    "### Портрет пользователей по платформам ТОП-5:"
   ]
  },
  {
   "cell_type": "markdown",
   "metadata": {},
   "source": [
    "Для того чтобы составить топ 5 плаформ в долях, сгруппируем данные по платформам и продажам в регионах, затем отсортируем данные по убыванию и построим круговую диаграмму по первым пяти значениям."
   ]
  },
  {
   "cell_type": "code",
   "execution_count": 35,
   "metadata": {},
   "outputs": [
    {
     "data": {
      "text/plain": [
       "platform\n",
       "PS4     108.62\n",
       "XOne     92.77\n",
       "X360     80.90\n",
       "PS3      63.27\n",
       "3DS      37.71\n",
       "WiiU     29.01\n",
       "PC       11.11\n",
       "Wii       5.46\n",
       "PSV       5.03\n",
       "DS        0.46\n",
       "PSP       0.00\n",
       "Name: na_sales, dtype: float64"
      ]
     },
     "metadata": {},
     "output_type": "display_data"
    },
    {
     "data": {
      "text/plain": [
       "platform\n",
       "PS4     141.09\n",
       "PS3      67.23\n",
       "XOne     51.43\n",
       "X360     42.04\n",
       "3DS      30.11\n",
       "PC       25.27\n",
       "WiiU     19.69\n",
       "PSV       5.95\n",
       "Wii       4.46\n",
       "DS        0.43\n",
       "PSP       0.17\n",
       "Name: eu_sales, dtype: float64"
      ]
     },
     "metadata": {},
     "output_type": "display_data"
    },
    {
     "data": {
      "text/plain": [
       "platform\n",
       "3DS     67.70\n",
       "PS3     22.98\n",
       "PSV     18.48\n",
       "PS4     15.96\n",
       "WiiU    10.88\n",
       "PSP      3.29\n",
       "X360     0.50\n",
       "XOne     0.34\n",
       "Wii      0.05\n",
       "DS       0.00\n",
       "PC       0.00\n",
       "Name: jp_sales, dtype: float64"
      ]
     },
     "metadata": {},
     "output_type": "display_data"
    }
   ],
   "source": [
    "na_platform = df_forecast.groupby('platform')['na_sales'].sum()\n",
    "eu_platform = df_forecast.groupby('platform')['eu_sales'].sum()\n",
    "jp_platform = df_forecast.groupby('platform')['jp_sales'].sum()\n",
    "na_platform = na_platform.sort_values(ascending = False)\n",
    "eu_platform = eu_platform.sort_values(ascending = False)\n",
    "jp_platform = jp_platform.sort_values(ascending = False)\n",
    "display(na_platform)\n",
    "display(eu_platform)\n",
    "display(jp_platform)"
   ]
  },
  {
   "cell_type": "code",
   "execution_count": 36,
   "metadata": {},
   "outputs": [
    {
     "data": {
      "image/png": "[encoded data removed]",
      "text/plain": [
       "<Figure size 432x288 with 1 Axes>"
      ]
     },
     "metadata": {},
     "output_type": "display_data"
    },
    {
     "data": {
      "image/png": "[encoded data removed]",
      "text/plain": [
       "<Figure size 432x288 with 1 Axes>"
      ]
     },
     "metadata": {},
     "output_type": "display_data"
    },
    {
     "data": {
      "image/png": "[encoded data removed]",
      "text/plain": [
       "<Figure size 432x288 with 1 Axes>"
      ]
     },
     "metadata": {},
     "output_type": "display_data"
    }
   ],
   "source": [
    "plt.title('NA')\n",
    "na_platform.head(5).plot(kind='pie', autopct = '%1.1f%%')\n",
    "plt.show()\n",
    "plt.title('EU')\n",
    "eu_platform.head(5).plot(kind='pie', autopct = '%1.1f%%')\n",
    "plt.show()\n",
    "plt.title('JP')\n",
    "jp_platform.head(5).plot(kind='pie', autopct = '%1.1f%%')\n",
    "plt.show()"
   ]
  },
  {
   "cell_type": "markdown",
   "metadata": {},
   "source": [
    "Исходя из полученный диаграмм видно, что для Северной Америке и Европы PS4 являтся лидирующей консолью затем XOnе, для Еврпопы аналогичная ситуация с единственной разницей, что XOne только еще начинает набирать популярность, а PS3 потихонку падает. Япония показывает другую динамику 3DS почти 50% и вряд ли в 2017 году будет сильно меньше."
   ]
  },
  {
   "cell_type": "markdown",
   "metadata": {},
   "source": [
    "###  Портрет пользователей по жанрам ТОП-5:"
   ]
  },
  {
   "cell_type": "code",
   "execution_count": 68,
   "metadata": {},
   "outputs": [
    {
     "data": {
      "text/plain": [
       "genre\n",
       "Action          124.66\n",
       "Shooter         109.61\n",
       "Sports           65.17\n",
       "Role-Playing     46.40\n",
       "Misc             26.64\n",
       "Platform         17.91\n",
       "Fighting         15.53\n",
       "Racing           12.87\n",
       "Adventure         6.86\n",
       "Simulation        4.64\n",
       "Strategy          3.28\n",
       "Puzzle            0.77\n",
       "Name: na_sales, dtype: float64"
      ]
     },
     "metadata": {},
     "output_type": "display_data"
    },
    {
     "data": {
      "text/plain": [
       "genre\n",
       "Action          116.44\n",
       "Shooter          87.72\n",
       "Sports           60.22\n",
       "Role-Playing     36.97\n",
       "Racing           20.09\n",
       "Misc             19.24\n",
       "Platform         15.08\n",
       "Simulation       10.68\n",
       "Fighting          8.53\n",
       "Adventure         7.73\n",
       "Strategy          4.22\n",
       "Puzzle            0.95\n",
       "Name: eu_sales, dtype: float64"
      ]
     },
     "metadata": {},
     "output_type": "display_data"
    },
    {
     "data": {
      "text/plain": [
       "genre\n",
       "Role-Playing    51.04\n",
       "Action          40.02\n",
       "Misc             9.20\n",
       "Fighting         7.62\n",
       "Shooter          6.60\n",
       "Adventure        5.82\n",
       "Sports           5.41\n",
       "Platform         4.79\n",
       "Simulation       4.46\n",
       "Racing           2.27\n",
       "Strategy         1.77\n",
       "Puzzle           1.18\n",
       "Name: jp_sales, dtype: float64"
      ]
     },
     "metadata": {},
     "output_type": "display_data"
    }
   ],
   "source": [
    "na_genre = df_forecast.groupby('genre')['na_sales'].sum()\n",
    "eu_genre = df_forecast.groupby('genre')['eu_sales'].sum()\n",
    "jp_genre = df_forecast.groupby('genre')['jp_sales'].sum()\n",
    "na_genre = na_genre.sort_values(ascending = False)\n",
    "eu_genre = eu_genre.sort_values(ascending = False)\n",
    "jp_genre = jp_genre.sort_values(ascending = False)\n",
    "display(na_genre)\n",
    "display(eu_genre)\n",
    "display(jp_genre)"
   ]
  },
  {
   "cell_type": "code",
   "execution_count": 69,
   "metadata": {},
   "outputs": [
    {
     "data": {
      "image/png": "[encoded data removed]",
      "text/plain": [
       "<Figure size 432x288 with 1 Axes>"
      ]
     },
     "metadata": {},
     "output_type": "display_data"
    },
    {
     "data": {
      "image/png": "[encoded data removed]",
      "text/plain": [
       "<Figure size 432x288 with 1 Axes>"
      ]
     },
     "metadata": {},
     "output_type": "display_data"
    },
    {
     "data": {
      "image/png": "[encoded data removed]",
      "text/plain": [
       "<Figure size 432x288 with 1 Axes>"
      ]
     },
     "metadata": {},
     "output_type": "display_data"
    }
   ],
   "source": [
    "plt.title('NA')\n",
    "na_genre.head(5).plot(kind='pie', autopct = '%1.1f%%')\n",
    "plt.show()\n",
    "plt.title('EU')\n",
    "eu_genre.head(5).plot(kind='pie', autopct = '%1.1f%%')\n",
    "plt.show()\n",
    "plt.title('JP')\n",
    "jp_genre.head(5).plot(kind='pie', autopct = '%1.1f%%')\n",
    "plt.show()"
   ]
  },
  {
   "cell_type": "markdown",
   "metadata": {},
   "source": [
    "На этих графиках видно, что для Северной Америки и Европы топ-5 практически одинаковый. Но для Японии, одними из популярных являются также RP и Action. Значит у Японии своя специфика."
   ]
  },
  {
   "cell_type": "markdown",
   "metadata": {},
   "source": [
    "### Оценка влияния в зависимости от возрастной категории."
   ]
  },
  {
   "cell_type": "markdown",
   "metadata": {},
   "source": [
    "Для начала разберемся, что такое рейтинг ESRB - это возрастная категория, которая присваивается компьютерной игре, их всего 7:\n",
    "1. «EC» («Early childhood») — «Для детей младшего возраста»: Игра подходит для детей от 3 лет.\n",
    "2. «E» («Everyone») — «Для всех»: Содержание вполне подходит для возрастной категории от 6 лет.\n",
    "3. «E10+» («Everyone 10 and older») — «Для всех от 10 лет и старше».\n",
    "4. «T» («Teen») — «Подросткам»: Игра подходит для лиц от 13 лет.\n",
    "5. «M» («Mature») — «Для взрослых»: Материалы игры не подходят для подростков младше 17 лет. \n",
    "6. «AO» («Adults Only 18+») — «Только для взрослых»."
   ]
  },
  {
   "cell_type": "markdown",
   "metadata": {},
   "source": [
    "Создадим отдельные таблицы регионов и сгруппируем их по рейтингу и продажам и построим графики, чтобы определить есть зависимость."
   ]
  },
  {
   "cell_type": "code",
   "execution_count": 39,
   "metadata": {},
   "outputs": [
    {
     "data": {
      "text/plain": [
       "<AxesSubplot:xlabel='rating', ylabel='na_sales'>"
      ]
     },
     "execution_count": 39,
     "metadata": {},
     "output_type": "execute_result"
    },
    {
     "data": {
      "image/png": "[encoded data removed]",
      "text/plain": [
       "<Figure size 432x288 with 1 Axes>"
      ]
     },
     "metadata": {
      "needs_background": "light"
     },
     "output_type": "display_data"
    }
   ],
   "source": [
    "sns.barplot(x='rating', y='na_sales', data=df_forecast)"
   ]
  },
  {
   "cell_type": "code",
   "execution_count": 40,
   "metadata": {},
   "outputs": [
    {
     "data": {
      "text/plain": [
       "<AxesSubplot:xlabel='rating', ylabel='eu_sales'>"
      ]
     },
     "execution_count": 40,
     "metadata": {},
     "output_type": "execute_result"
    },
    {
     "data": {
      "image/png": "[encoded data removed]",
      "text/plain": [
       "<Figure size 432x288 with 1 Axes>"
      ]
     },
     "metadata": {
      "needs_background": "light"
     },
     "output_type": "display_data"
    }
   ],
   "source": [
    "sns.barplot(x='rating', y='eu_sales', data=df_forecast)"
   ]
  },
  {
   "cell_type": "code",
   "execution_count": 41,
   "metadata": {},
   "outputs": [
    {
     "data": {
      "text/plain": [
       "<AxesSubplot:xlabel='rating', ylabel='jp_sales'>"
      ]
     },
     "execution_count": 41,
     "metadata": {},
     "output_type": "execute_result"
    },
    {
     "data": {
      "image/png": "[encoded data removed]",
      "text/plain": [
       "<Figure size 432x288 with 1 Axes>"
      ]
     },
     "metadata": {
      "needs_background": "light"
     },
     "output_type": "display_data"
    }
   ],
   "source": [
    "sns.barplot(x='rating', y='jp_sales', data=df_forecast)"
   ]
  },
  {
   "cell_type": "markdown",
   "metadata": {},
   "source": [
    "Рейтинг 'M' имеет самые высокие значение в Северной Америке и Еврропе, далее идет рейтинг 'E'. Для Японии наиболее популярным является рейтинг 'T', затем так же 'E'. Из чего можно сделать вывод, что лучше всего будет обратиться к этим рейтингам."
   ]
  },
  {
   "cell_type": "markdown",
   "metadata": {},
   "source": [
    "## Проверка гипотез"
   ]
  },
  {
   "cell_type": "markdown",
   "metadata": {},
   "source": [
    "1. Средние пользовательские рейтинги платформ Xbox One и PC одинаковые;\n",
    "2. Средние пользовательские рейтинги жанров Action  и Sports разные."
   ]
  },
  {
   "cell_type": "markdown",
   "metadata": {},
   "source": [
    "### Проверка первой гипотезы"
   ]
  },
  {
   "cell_type": "markdown",
   "metadata": {},
   "source": [
    "* Н0: Средние пользовательские рейтинги платформ Xbox One и PC равны.\n",
    "* Н1: Средние пользвовательские рейтинги платформ Xbox One и PC различаются."
   ]
  },
  {
   "cell_type": "code",
   "execution_count": 42,
   "metadata": {},
   "outputs": [
    {
     "data": {
      "text/plain": [
       "2       7.2\n",
       "12      8.0\n",
       "20      6.8\n",
       "26      7.0\n",
       "30      1.6\n",
       "       ... \n",
       "1936    7.4\n",
       "1958    5.9\n",
       "1969    6.2\n",
       "2056    4.3\n",
       "2124    3.1\n",
       "Name: user_score, Length: 236, dtype: float64"
      ]
     },
     "metadata": {},
     "output_type": "display_data"
    },
    {
     "data": {
      "text/plain": [
       "3       NaN\n",
       "7       8.0\n",
       "8       8.0\n",
       "14      8.2\n",
       "19      6.1\n",
       "       ... \n",
       "1996    6.8\n",
       "2046    7.8\n",
       "2058    3.7\n",
       "2076    6.3\n",
       "2098    6.9\n",
       "Name: user_score, Length: 386, dtype: float64"
      ]
     },
     "metadata": {},
     "output_type": "display_data"
    }
   ],
   "source": [
    "XOne = df_forecast[df_forecast['platform'] == 'XOne']['user_score']\n",
    "PS4 = df_forecast[df_forecast['platform'] == 'PS4']['user_score']\n",
    "display(XOne)\n",
    "display(PS4)\n"
   ]
  },
  {
   "cell_type": "code",
   "execution_count": 43,
   "metadata": {},
   "outputs": [
    {
     "name": "stdout",
     "output_type": "stream",
     "text": [
      "p-значение: 0.10169342039498884\n",
      "Не получилось отвергнуть нулевую гипотезу\n"
     ]
    }
   ],
   "source": [
    "alpha = .05\n",
    "\n",
    "results = st.ttest_ind(XOne, PS4, nan_policy='omit')\n",
    "\n",
    "print('p-значение:', results.pvalue)\n",
    "\n",
    "if results.pvalue < alpha:\n",
    "    print(\"Отвергаем нулевую гипотезу\")\n",
    "else:\n",
    "    print(\"Не получилось отвергнуть нулевую гипотезу\") "
   ]
  },
  {
   "cell_type": "markdown",
   "metadata": {},
   "source": [
    "Посчитаем среднюю разницу в процентах:"
   ]
  },
  {
   "cell_type": "code",
   "execution_count": 44,
   "metadata": {},
   "outputs": [
    {
     "name": "stdout",
     "output_type": "stream",
     "text": [
      "6.521428571428572\n",
      "6.748249027237354\n",
      "Средняя разница в процентах: 3.478079278557443\n"
     ]
    }
   ],
   "source": [
    "print(XOne.mean())\n",
    "print(PS4.mean())\n",
    "mean_difference = (PS4.mean() - XOne.mean()) / XOne.mean() * 100\n",
    "print('Средняя разница в процентах:', mean_difference)"
   ]
  },
  {
   "cell_type": "markdown",
   "metadata": {},
   "source": [
    "Значение p-value получилось больше чем alpha, соотвественно принимаем нулевую гипотезу, о том, что средние пользовательсие рейтинги по платформам равны. Так же посчитали среднюю разницу в процентах, которая составила 3,5%, значит выборки действительно равны или незначительно различаются."
   ]
  },
  {
   "cell_type": "markdown",
   "metadata": {},
   "source": [
    "### Проверка второй гипотезы"
   ]
  },
  {
   "cell_type": "markdown",
   "metadata": {},
   "source": [
    "* Н0: Средние пользовательские рейтинги жанров Action и Sports не равны.\n",
    "* Н1: Средние пользовательские рейтинги жанров Action И Sports равны."
   ]
  },
  {
   "cell_type": "code",
   "execution_count": 45,
   "metadata": {},
   "outputs": [],
   "source": [
    "action = df_forecast[df_forecast['genre'] == 'Action']['user_score']\n",
    "sports = df_forecast[df_forecast['genre'] == 'Sports']['user_score']"
   ]
  },
  {
   "cell_type": "code",
   "execution_count": 46,
   "metadata": {},
   "outputs": [
    {
     "name": "stdout",
     "output_type": "stream",
     "text": [
      "p-значение: 1.0517832389141305e-27\n",
      "Отвергаем нулевую гипотезу\n"
     ]
    }
   ],
   "source": [
    "alpha = .05\n",
    "\n",
    "results = st.ttest_ind(sports, action, nan_policy='omit')\n",
    "\n",
    "print('p-значение:', results.pvalue)\n",
    "\n",
    "if results.pvalue < alpha:\n",
    "    print(\"Отвергаем нулевую гипотезу\")\n",
    "else:\n",
    "    print(\"Не получилось отвергнуть нулевую гипотезу\") "
   ]
  },
  {
   "cell_type": "markdown",
   "metadata": {},
   "source": []
  },
  {
   "cell_type": "code",
   "execution_count": 47,
   "metadata": {},
   "outputs": [
    {
     "name": "stdout",
     "output_type": "stream",
     "text": [
      "6.837532133676092\n",
      "5.238125000000001\n",
      "Средняя разница в процентах: 30.5339626999373\n"
     ]
    }
   ],
   "source": [
    "print(action.mean())\n",
    "print(sports.mean())\n",
    "mean_dif = (action.mean() - sports.mean()) / sports.mean() * 100\n",
    "print('Средняя разница в процентах:', mean_dif)"
   ]
  },
  {
   "cell_type": "markdown",
   "metadata": {},
   "source": [
    "Значение p-value получилось меньше чем alpha, соотвественно отвергаем нулевую гипотезу и принимаем альтернативную, о том, что средние пользовательсие рейтинги по жанры различаются. Так же посчитали среднюю разницу в процентах, которая составила 30,5%, значит выборки действительно различаются. Рейтинги пользователей по жанру Action выше чем по жанру Sports."
   ]
  },
  {
   "cell_type": "markdown",
   "metadata": {},
   "source": [
    "### Пояснения"
   ]
  },
  {
   "cell_type": "markdown",
   "metadata": {},
   "source": [
    "1. Формулировка гипотез. Основные гипотезы, которые говорят о равенстве рейтингов по платформам и различии рейтингов по жанрам, исходя из этого формулируется нулевая гипотеза, которая была первой, но она может быть и не верна, поэтому выбираем альтернативную, а альтернативная формируется противоположно нулевой.\n",
    "2. P-value. Это вероятность получить наблюдаемый или еще более далекий от предполагаемого результат при условии, что нулевая гипотеза верна."
   ]
  },
  {
   "cell_type": "markdown",
   "metadata": {},
   "source": [
    "## Вывод"
   ]
  },
  {
   "cell_type": "markdown",
   "metadata": {},
   "source": [
    "1. Были представлены данные о продажах игр по регионам. Данные были изучены, обнаружены пропуски, заменены были те, которые возможно, так же поменены форматы в столбцах 'year_of_release' на целочисленные 'int' и столбце 'user_score' на 'float', так же в столбце 'user_score', заменили значение tbd на nan. Так как это значение означает, что данные появится в будущем, его приняли, как пропуск.\n",
    "2. Посчитали и добавили в таблицу столбец с суммарными продажами игр по всем регионам.\n",
    "3. На стадии анализа, с помощью столбчатой диаграммы отсекли хвост за период до 2000 года. Так как по играм в те года, уже беспользно судить о современных играх.\n",
    "4. При определении самых популярных платформ, мы так же смогли определить пик продаж по играм, это с 2006 по 2011 год, затем продажи начали падать. Самыми популярными платформами оказались:\n",
    "* PC заслуживает внимания за свою устойчивовсть, потому как на протяжении всего периода держался и имел доход, пусть и не такой большой, как у остальных платформ.\n",
    "* 3DS \n",
    "* PS3 \n",
    "* PS4\n",
    "* PSV \n",
    "* WiiU \n",
    "* X360 \n",
    "5. С помощью хитмэпа, определи актуальный период для анализа, с 2010 по 2016 год. Также учитывая падение продаж по всем платформам, определили платформы, которые наиболее устойчивы с к этому:\n",
    "* PS4\n",
    "* XOne\n",
    "* 3DS\n",
    "* PC\n",
    "* PSV\n",
    "* WiiU\n",
    "6. Диаграмма размаха, помогла определить в  каких платформах находятся выбросы и какие имеют скошенность вправо(положительно):\n",
    "* GB, NES, PS, PS2, PSP, PSV, Wil, WiiU, XB.\n",
    "Выбросы были обнаружены:\n",
    "* 2600, GB, PC, WiiU\n",
    "* XOne показывает нормальное распределение. Остальные графики имеют отрицательную скошенность.\n",
    "7. Была определена зависимость продаж от отзывов критиков и пользователей, коэффициент Пирсона, который в среднем показал 0,4. Это значит, что зависимость есть, но не большая.\n",
    "8. Самые прибыльные жанры:\n",
    "* Action\n",
    "* Shooter\n",
    "* RP\n",
    "* Sports\n",
    "* Misc\n",
    "9. Определили портреты пользователей по регионам и выявили топ 5 платформ и топ 5 жанров. \n",
    "* За период 2013 - 2016 гг. Для Северной Америки:\n",
    "1. PS4 - 28,3%\n",
    "2. XOne - 24,2%\n",
    "3. X360 - 21,1%\n",
    "4. PS3 - 16,5%\n",
    "5. 3DS - 9,8% \n",
    "* Для Европы:\n",
    "1. PS4 - 42,5%\n",
    "2. PS3 - 20,3%\n",
    "3. XOne - 15,5%\n",
    "4. X360 - 12,6%\n",
    "5. 3DS - 9,1%\n",
    "* Для Японии:\n",
    "1. 3DS - 49,8%\n",
    "2. PS3 - 16,9%\n",
    "3. PSV - 13,6%\n",
    "4. PS4 - 11,7%\n",
    "5. WiiU - 8,0% \n",
    "* Жанры по регионам лидирующие Action и Shooter для Северной Америки и Еввропы и RP и Action для Японии.\n",
    "10. Согласно возрастного рейтинга выделили M и E для Северной Америки и Европы и T и E для Японии.\n",
    "11. Проверили гипотезы о равенстве средних рейтингов пользователей XOne и PS4, и о неравенстве средних рейтингов пользователей для жанров Action и Sports. Сформулировали нулевую и альтернативныю гипотезы и запутили проверку гипотез с помощью t-теста Cтьюдента. Проверка показала, что:\n",
    "* Средние рейтинги пользователей для платформ равны или незначительно отличаются.\n",
    "* Средние рейтинги пользователей по жанрам различаются. "
   ]
  },
  {
   "cell_type": "markdown",
   "metadata": {},
   "source": [
    "### Итоговый вывод."
   ]
  },
  {
   "cell_type": "markdown",
   "metadata": {},
   "source": [
    "на основании этих расчетов можно сказать, что делая прогноз на 2017 год, наибольшую прибыль смогут принести игры жанра Action, Shooter, Sports, RP и Mics. Платформы на которые следует выпускать такие игры это PS4 и XOne для Европы и Северной Америке и 3DS для Японии. "
   ]
  }
 ],
 "metadata": {
  "ExecuteTimeLog": [
   {
    "duration": 77,
    "start_time": "2022-06-29T16:41:34.376Z"
   },
   {
    "duration": 1437,
    "start_time": "2022-06-29T16:42:39.029Z"
   },
   {
    "duration": 3,
    "start_time": "2022-06-29T16:42:55.497Z"
   },
   {
    "duration": 9,
    "start_time": "2022-06-29T16:46:11.091Z"
   },
   {
    "duration": 3,
    "start_time": "2022-06-29T16:46:13.877Z"
   },
   {
    "duration": 10,
    "start_time": "2022-06-29T16:46:16.046Z"
   },
   {
    "duration": 3,
    "start_time": "2022-06-29T16:46:20.638Z"
   },
   {
    "duration": 68,
    "start_time": "2022-06-29T16:46:21.936Z"
   },
   {
    "duration": 65,
    "start_time": "2022-06-29T16:46:44.825Z"
   },
   {
    "duration": 11,
    "start_time": "2022-06-29T17:40:30.637Z"
   },
   {
    "duration": 3,
    "start_time": "2022-06-29T17:41:21.448Z"
   },
   {
    "duration": 11,
    "start_time": "2022-06-29T17:41:32.864Z"
   },
   {
    "duration": 9,
    "start_time": "2022-06-29T17:43:44.655Z"
   },
   {
    "duration": 65,
    "start_time": "2022-06-29T19:43:24.937Z"
   },
   {
    "duration": 1446,
    "start_time": "2022-06-29T19:43:31.367Z"
   },
   {
    "duration": 274,
    "start_time": "2022-06-29T19:43:32.815Z"
   },
   {
    "duration": 17,
    "start_time": "2022-06-29T19:43:33.171Z"
   },
   {
    "duration": 16,
    "start_time": "2022-06-29T19:43:33.336Z"
   },
   {
    "duration": 24,
    "start_time": "2022-06-29T19:49:59.681Z"
   },
   {
    "duration": 29,
    "start_time": "2022-06-29T19:56:01.069Z"
   },
   {
    "duration": 13,
    "start_time": "2022-06-29T19:56:09.068Z"
   },
   {
    "duration": 101,
    "start_time": "2022-06-29T19:57:21.478Z"
   },
   {
    "duration": 16,
    "start_time": "2022-06-29T19:57:38.718Z"
   },
   {
    "duration": 12,
    "start_time": "2022-06-29T19:57:52.588Z"
   },
   {
    "duration": 11,
    "start_time": "2022-06-29T19:58:02.524Z"
   },
   {
    "duration": 19,
    "start_time": "2022-06-29T20:01:30.991Z"
   },
   {
    "duration": 10,
    "start_time": "2022-06-29T20:01:43.101Z"
   },
   {
    "duration": 9,
    "start_time": "2022-06-29T20:01:54.293Z"
   },
   {
    "duration": 12,
    "start_time": "2022-06-29T20:04:22.527Z"
   },
   {
    "duration": 8,
    "start_time": "2022-06-29T20:04:40.177Z"
   },
   {
    "duration": 34,
    "start_time": "2022-06-29T20:04:50.121Z"
   },
   {
    "duration": 15,
    "start_time": "2022-06-29T20:05:26.579Z"
   },
   {
    "duration": 6,
    "start_time": "2022-06-29T20:05:43.420Z"
   },
   {
    "duration": 13,
    "start_time": "2022-06-29T20:06:16.955Z"
   },
   {
    "duration": 7,
    "start_time": "2022-06-29T20:06:38.787Z"
   },
   {
    "duration": 6,
    "start_time": "2022-06-29T20:06:44.399Z"
   },
   {
    "duration": 7,
    "start_time": "2022-06-29T20:06:56.275Z"
   },
   {
    "duration": 6,
    "start_time": "2022-06-29T20:07:14.973Z"
   },
   {
    "duration": 13,
    "start_time": "2022-06-29T20:08:23.165Z"
   },
   {
    "duration": 106,
    "start_time": "2022-06-29T20:09:02.206Z"
   },
   {
    "duration": 10,
    "start_time": "2022-06-29T20:09:08.880Z"
   },
   {
    "duration": 11,
    "start_time": "2022-06-29T20:09:15.267Z"
   },
   {
    "duration": 14,
    "start_time": "2022-06-29T20:09:20.770Z"
   },
   {
    "duration": 14,
    "start_time": "2022-06-29T20:09:32.633Z"
   },
   {
    "duration": 2048,
    "start_time": "2022-06-29T20:21:03.638Z"
   },
   {
    "duration": 22,
    "start_time": "2022-06-29T20:21:17.290Z"
   },
   {
    "duration": 16,
    "start_time": "2022-06-29T20:21:28.802Z"
   },
   {
    "duration": 8,
    "start_time": "2022-06-29T20:21:40.507Z"
   },
   {
    "duration": 22,
    "start_time": "2022-06-29T20:21:55.010Z"
   },
   {
    "duration": 23,
    "start_time": "2022-06-29T20:23:38.231Z"
   },
   {
    "duration": 26,
    "start_time": "2022-06-29T20:26:02.817Z"
   },
   {
    "duration": 134,
    "start_time": "2022-06-29T20:30:06.089Z"
   },
   {
    "duration": 27,
    "start_time": "2022-06-29T20:30:13.382Z"
   },
   {
    "duration": 28,
    "start_time": "2022-06-29T20:30:35.127Z"
   },
   {
    "duration": 12,
    "start_time": "2022-06-29T20:30:46.079Z"
   },
   {
    "duration": 6,
    "start_time": "2022-06-29T20:46:55.520Z"
   },
   {
    "duration": 10,
    "start_time": "2022-06-29T20:51:35.272Z"
   },
   {
    "duration": 880,
    "start_time": "2022-06-29T20:51:52.489Z"
   },
   {
    "duration": 15,
    "start_time": "2022-06-29T20:51:59.427Z"
   },
   {
    "duration": 9,
    "start_time": "2022-06-29T20:52:13.010Z"
   },
   {
    "duration": 10,
    "start_time": "2022-06-29T20:59:33.550Z"
   },
   {
    "duration": 8,
    "start_time": "2022-06-29T20:59:40.212Z"
   },
   {
    "duration": 9,
    "start_time": "2022-06-29T20:59:46.830Z"
   },
   {
    "duration": 5,
    "start_time": "2022-06-29T21:11:51.137Z"
   },
   {
    "duration": 5,
    "start_time": "2022-06-29T21:12:01.899Z"
   },
   {
    "duration": 7,
    "start_time": "2022-06-29T21:12:43.369Z"
   },
   {
    "duration": 9,
    "start_time": "2022-06-29T21:15:09.868Z"
   },
   {
    "duration": 10,
    "start_time": "2022-06-29T21:16:57.467Z"
   },
   {
    "duration": 1704,
    "start_time": "2022-06-29T21:21:33.826Z"
   },
   {
    "duration": 17,
    "start_time": "2022-06-29T21:21:52.686Z"
   },
   {
    "duration": 2,
    "start_time": "2022-06-29T21:24:48.117Z"
   },
   {
    "duration": 5,
    "start_time": "2022-06-29T21:24:50.671Z"
   },
   {
    "duration": 92,
    "start_time": "2022-06-29T21:24:50.678Z"
   },
   {
    "duration": 12,
    "start_time": "2022-06-29T21:24:50.776Z"
   },
   {
    "duration": 31,
    "start_time": "2022-06-29T21:24:50.790Z"
   },
   {
    "duration": 29,
    "start_time": "2022-06-29T21:24:50.824Z"
   },
   {
    "duration": 15,
    "start_time": "2022-06-29T21:24:50.865Z"
   },
   {
    "duration": 13,
    "start_time": "2022-06-29T21:24:50.882Z"
   },
   {
    "duration": 13,
    "start_time": "2022-06-29T21:24:50.897Z"
   },
   {
    "duration": 18,
    "start_time": "2022-06-29T21:24:50.913Z"
   },
   {
    "duration": 607,
    "start_time": "2022-06-29T21:33:50.716Z"
   },
   {
    "duration": 684,
    "start_time": "2022-06-29T21:34:10.894Z"
   },
   {
    "duration": 625,
    "start_time": "2022-06-29T21:35:00.093Z"
   },
   {
    "duration": 618,
    "start_time": "2022-06-29T21:35:08.322Z"
   },
   {
    "duration": 204,
    "start_time": "2022-06-29T21:36:02.779Z"
   },
   {
    "duration": 1528,
    "start_time": "2022-06-29T21:36:07.976Z"
   },
   {
    "duration": 367,
    "start_time": "2022-06-29T21:36:20.997Z"
   },
   {
    "duration": 890,
    "start_time": "2022-06-29T21:36:28.228Z"
   },
   {
    "duration": 371,
    "start_time": "2022-06-29T21:36:48.679Z"
   },
   {
    "duration": 1550,
    "start_time": "2022-06-29T21:37:09.835Z"
   },
   {
    "duration": 3437,
    "start_time": "2022-06-29T21:38:14.814Z"
   },
   {
    "duration": 1459,
    "start_time": "2022-06-29T21:38:40.614Z"
   },
   {
    "duration": 451,
    "start_time": "2022-06-29T21:39:48.584Z"
   },
   {
    "duration": 259,
    "start_time": "2022-06-29T21:39:58.701Z"
   },
   {
    "duration": 684,
    "start_time": "2022-06-29T21:40:05.980Z"
   },
   {
    "duration": 5,
    "start_time": "2022-06-29T21:46:57.181Z"
   },
   {
    "duration": 21,
    "start_time": "2022-06-29T21:47:03.669Z"
   },
   {
    "duration": 17,
    "start_time": "2022-06-29T21:47:21.187Z"
   },
   {
    "duration": 26,
    "start_time": "2022-06-29T21:47:34.940Z"
   },
   {
    "duration": 22,
    "start_time": "2022-06-29T21:47:50.971Z"
   },
   {
    "duration": 16,
    "start_time": "2022-06-29T21:47:58.511Z"
   },
   {
    "duration": 21,
    "start_time": "2022-06-29T21:48:05.167Z"
   },
   {
    "duration": 1106,
    "start_time": "2022-06-29T21:48:10.303Z"
   },
   {
    "duration": 87,
    "start_time": "2022-06-29T21:48:11.412Z"
   },
   {
    "duration": 8,
    "start_time": "2022-06-29T21:48:11.502Z"
   },
   {
    "duration": 47,
    "start_time": "2022-06-29T21:48:11.512Z"
   },
   {
    "duration": 12,
    "start_time": "2022-06-29T21:48:11.579Z"
   },
   {
    "duration": 7,
    "start_time": "2022-06-29T21:48:11.592Z"
   },
   {
    "duration": 9,
    "start_time": "2022-06-29T21:48:11.600Z"
   },
   {
    "duration": 9,
    "start_time": "2022-06-29T21:48:11.611Z"
   },
   {
    "duration": 28,
    "start_time": "2022-06-29T21:48:11.621Z"
   },
   {
    "duration": 430,
    "start_time": "2022-06-29T21:48:11.657Z"
   },
   {
    "duration": 21,
    "start_time": "2022-06-29T21:48:12.090Z"
   },
   {
    "duration": 25,
    "start_time": "2022-06-29T21:50:00.954Z"
   },
   {
    "duration": 24,
    "start_time": "2022-06-29T21:50:15.579Z"
   },
   {
    "duration": 22,
    "start_time": "2022-06-29T21:50:37.258Z"
   },
   {
    "duration": 1187,
    "start_time": "2022-06-29T21:50:46.538Z"
   },
   {
    "duration": 78,
    "start_time": "2022-06-29T21:50:47.726Z"
   },
   {
    "duration": 8,
    "start_time": "2022-06-29T21:50:47.805Z"
   },
   {
    "duration": 16,
    "start_time": "2022-06-29T21:50:47.815Z"
   },
   {
    "duration": 28,
    "start_time": "2022-06-29T21:50:47.833Z"
   },
   {
    "duration": 6,
    "start_time": "2022-06-29T21:50:47.863Z"
   },
   {
    "duration": 10,
    "start_time": "2022-06-29T21:50:47.871Z"
   },
   {
    "duration": 9,
    "start_time": "2022-06-29T21:50:47.883Z"
   },
   {
    "duration": 15,
    "start_time": "2022-06-29T21:50:47.893Z"
   },
   {
    "duration": 428,
    "start_time": "2022-06-29T21:50:47.910Z"
   },
   {
    "duration": 22,
    "start_time": "2022-06-29T21:50:48.352Z"
   },
   {
    "duration": 21,
    "start_time": "2022-06-29T21:50:59.169Z"
   },
   {
    "duration": 27,
    "start_time": "2022-06-29T21:51:04.330Z"
   },
   {
    "duration": 25,
    "start_time": "2022-06-29T21:51:07.400Z"
   },
   {
    "duration": 20,
    "start_time": "2022-06-29T21:51:22.989Z"
   },
   {
    "duration": 1164,
    "start_time": "2022-06-29T21:52:39.122Z"
   },
   {
    "duration": 79,
    "start_time": "2022-06-29T21:52:40.288Z"
   },
   {
    "duration": 9,
    "start_time": "2022-06-29T21:52:40.368Z"
   },
   {
    "duration": 25,
    "start_time": "2022-06-29T21:52:40.380Z"
   },
   {
    "duration": 12,
    "start_time": "2022-06-29T21:52:40.407Z"
   },
   {
    "duration": 33,
    "start_time": "2022-06-29T21:52:40.421Z"
   },
   {
    "duration": 11,
    "start_time": "2022-06-29T21:52:40.456Z"
   },
   {
    "duration": 10,
    "start_time": "2022-06-29T21:52:40.469Z"
   },
   {
    "duration": 24,
    "start_time": "2022-06-29T21:52:40.481Z"
   },
   {
    "duration": 417,
    "start_time": "2022-06-29T21:52:40.543Z"
   },
   {
    "duration": 20,
    "start_time": "2022-06-29T21:52:40.962Z"
   },
   {
    "duration": 1247,
    "start_time": "2022-07-01T17:15:23.732Z"
   },
   {
    "duration": 217,
    "start_time": "2022-07-01T17:15:24.981Z"
   },
   {
    "duration": 8,
    "start_time": "2022-07-01T17:15:25.200Z"
   },
   {
    "duration": 22,
    "start_time": "2022-07-01T17:15:25.210Z"
   },
   {
    "duration": 11,
    "start_time": "2022-07-01T17:15:25.234Z"
   },
   {
    "duration": 8,
    "start_time": "2022-07-01T17:15:25.247Z"
   },
   {
    "duration": 10,
    "start_time": "2022-07-01T17:15:25.257Z"
   },
   {
    "duration": 12,
    "start_time": "2022-07-01T17:15:25.268Z"
   },
   {
    "duration": 17,
    "start_time": "2022-07-01T17:15:25.282Z"
   },
   {
    "duration": 380,
    "start_time": "2022-07-01T17:15:25.328Z"
   },
   {
    "duration": 26,
    "start_time": "2022-07-01T17:15:25.710Z"
   },
   {
    "duration": 20,
    "start_time": "2022-07-01T17:15:39.616Z"
   },
   {
    "duration": 20,
    "start_time": "2022-07-01T17:15:42.580Z"
   },
   {
    "duration": 21,
    "start_time": "2022-07-01T17:16:18.793Z"
   },
   {
    "duration": 20,
    "start_time": "2022-07-01T17:16:24.455Z"
   },
   {
    "duration": 18,
    "start_time": "2022-07-01T17:16:34.470Z"
   },
   {
    "duration": 19,
    "start_time": "2022-07-01T17:16:54.627Z"
   },
   {
    "duration": 5,
    "start_time": "2022-07-01T17:17:21.256Z"
   },
   {
    "duration": 8,
    "start_time": "2022-07-01T17:17:23.063Z"
   },
   {
    "duration": 15,
    "start_time": "2022-07-01T17:17:23.209Z"
   },
   {
    "duration": 267,
    "start_time": "2022-07-01T17:17:23.446Z"
   },
   {
    "duration": 18,
    "start_time": "2022-07-01T17:17:24.086Z"
   },
   {
    "duration": 18,
    "start_time": "2022-07-01T17:17:32.994Z"
   },
   {
    "duration": 1113,
    "start_time": "2022-07-01T17:17:52.020Z"
   },
   {
    "duration": 76,
    "start_time": "2022-07-01T17:17:53.135Z"
   },
   {
    "duration": 8,
    "start_time": "2022-07-01T17:17:53.213Z"
   },
   {
    "duration": 23,
    "start_time": "2022-07-01T17:17:53.223Z"
   },
   {
    "duration": 15,
    "start_time": "2022-07-01T17:17:53.248Z"
   },
   {
    "duration": 15,
    "start_time": "2022-07-01T17:17:53.265Z"
   },
   {
    "duration": 7,
    "start_time": "2022-07-01T17:17:53.282Z"
   },
   {
    "duration": 10,
    "start_time": "2022-07-01T17:17:53.291Z"
   },
   {
    "duration": 31,
    "start_time": "2022-07-01T17:17:53.302Z"
   },
   {
    "duration": 419,
    "start_time": "2022-07-01T17:17:53.335Z"
   },
   {
    "duration": 20,
    "start_time": "2022-07-01T17:17:53.756Z"
   },
   {
    "duration": 19,
    "start_time": "2022-07-01T17:18:10.388Z"
   },
   {
    "duration": 19,
    "start_time": "2022-07-01T17:18:15.356Z"
   },
   {
    "duration": 7,
    "start_time": "2022-07-01T17:18:36.614Z"
   },
   {
    "duration": 27,
    "start_time": "2022-07-01T17:18:39.146Z"
   },
   {
    "duration": 104,
    "start_time": "2022-07-01T17:18:53.898Z"
   },
   {
    "duration": 15,
    "start_time": "2022-07-01T17:18:59.255Z"
   },
   {
    "duration": 1111,
    "start_time": "2022-07-01T17:19:03.736Z"
   },
   {
    "duration": 79,
    "start_time": "2022-07-01T17:19:04.849Z"
   },
   {
    "duration": 8,
    "start_time": "2022-07-01T17:19:04.930Z"
   },
   {
    "duration": 20,
    "start_time": "2022-07-01T17:19:04.939Z"
   },
   {
    "duration": 12,
    "start_time": "2022-07-01T17:19:04.961Z"
   },
   {
    "duration": 8,
    "start_time": "2022-07-01T17:19:04.975Z"
   },
   {
    "duration": 8,
    "start_time": "2022-07-01T17:19:04.985Z"
   },
   {
    "duration": 39,
    "start_time": "2022-07-01T17:19:04.995Z"
   },
   {
    "duration": 17,
    "start_time": "2022-07-01T17:19:05.035Z"
   },
   {
    "duration": 403,
    "start_time": "2022-07-01T17:19:05.054Z"
   },
   {
    "duration": 19,
    "start_time": "2022-07-01T17:19:05.458Z"
   },
   {
    "duration": 20,
    "start_time": "2022-07-01T17:19:29.043Z"
   },
   {
    "duration": 18,
    "start_time": "2022-07-01T17:23:26.731Z"
   },
   {
    "duration": 10,
    "start_time": "2022-07-01T17:23:59.179Z"
   },
   {
    "duration": 12,
    "start_time": "2022-07-01T17:24:05.784Z"
   },
   {
    "duration": 11,
    "start_time": "2022-07-01T17:24:11.392Z"
   },
   {
    "duration": 1115,
    "start_time": "2022-07-01T17:24:16.220Z"
   },
   {
    "duration": 77,
    "start_time": "2022-07-01T17:24:17.337Z"
   },
   {
    "duration": 8,
    "start_time": "2022-07-01T17:24:17.415Z"
   },
   {
    "duration": 16,
    "start_time": "2022-07-01T17:24:17.426Z"
   },
   {
    "duration": 10,
    "start_time": "2022-07-01T17:24:17.444Z"
   },
   {
    "duration": 6,
    "start_time": "2022-07-01T17:24:17.456Z"
   },
   {
    "duration": 6,
    "start_time": "2022-07-01T17:24:17.463Z"
   },
   {
    "duration": 8,
    "start_time": "2022-07-01T17:24:17.471Z"
   },
   {
    "duration": 48,
    "start_time": "2022-07-01T17:24:17.481Z"
   },
   {
    "duration": 371,
    "start_time": "2022-07-01T17:24:17.531Z"
   },
   {
    "duration": 10,
    "start_time": "2022-07-01T17:24:17.903Z"
   },
   {
    "duration": 236,
    "start_time": "2022-07-01T17:24:27.820Z"
   },
   {
    "duration": 212,
    "start_time": "2022-07-01T17:24:36.848Z"
   },
   {
    "duration": 211,
    "start_time": "2022-07-01T17:24:42.678Z"
   },
   {
    "duration": 223,
    "start_time": "2022-07-01T17:24:54.081Z"
   },
   {
    "duration": 241,
    "start_time": "2022-07-01T17:25:00.051Z"
   },
   {
    "duration": 10,
    "start_time": "2022-07-01T17:25:07.103Z"
   },
   {
    "duration": 25,
    "start_time": "2022-07-01T17:25:10.836Z"
   },
   {
    "duration": 1936,
    "start_time": "2022-07-01T17:25:27.943Z"
   },
   {
    "duration": 36,
    "start_time": "2022-07-01T17:25:37.294Z"
   },
   {
    "duration": 23,
    "start_time": "2022-07-01T17:25:43.086Z"
   },
   {
    "duration": 25,
    "start_time": "2022-07-01T17:25:53.094Z"
   },
   {
    "duration": 25,
    "start_time": "2022-07-01T17:26:00.975Z"
   },
   {
    "duration": 24,
    "start_time": "2022-07-01T17:26:34.895Z"
   },
   {
    "duration": 30,
    "start_time": "2022-07-01T17:26:47.621Z"
   },
   {
    "duration": 230,
    "start_time": "2022-07-01T17:26:58.611Z"
   },
   {
    "duration": 255,
    "start_time": "2022-07-01T17:27:14.507Z"
   },
   {
    "duration": 333,
    "start_time": "2022-07-01T17:27:23.131Z"
   },
   {
    "duration": 1095,
    "start_time": "2022-07-01T17:27:28.623Z"
   },
   {
    "duration": 73,
    "start_time": "2022-07-01T17:27:29.720Z"
   },
   {
    "duration": 7,
    "start_time": "2022-07-01T17:27:29.795Z"
   },
   {
    "duration": 18,
    "start_time": "2022-07-01T17:27:29.804Z"
   },
   {
    "duration": 9,
    "start_time": "2022-07-01T17:27:29.823Z"
   },
   {
    "duration": 6,
    "start_time": "2022-07-01T17:27:29.833Z"
   },
   {
    "duration": 7,
    "start_time": "2022-07-01T17:27:29.840Z"
   },
   {
    "duration": 10,
    "start_time": "2022-07-01T17:27:29.848Z"
   },
   {
    "duration": 16,
    "start_time": "2022-07-01T17:27:29.860Z"
   },
   {
    "duration": 351,
    "start_time": "2022-07-01T17:27:29.878Z"
   },
   {
    "duration": 29,
    "start_time": "2022-07-01T17:27:30.230Z"
   },
   {
    "duration": 211,
    "start_time": "2022-07-01T17:27:57.381Z"
   },
   {
    "duration": 31,
    "start_time": "2022-07-01T17:38:08.421Z"
   },
   {
    "duration": 36,
    "start_time": "2022-07-01T17:38:39.447Z"
   },
   {
    "duration": 53,
    "start_time": "2022-07-01T17:40:31.195Z"
   },
   {
    "duration": 93,
    "start_time": "2022-07-01T17:41:00.510Z"
   },
   {
    "duration": 10,
    "start_time": "2022-07-01T17:41:08.389Z"
   },
   {
    "duration": 2,
    "start_time": "2022-07-01T17:41:15.509Z"
   },
   {
    "duration": 3,
    "start_time": "2022-07-01T17:41:17.879Z"
   },
   {
    "duration": 69,
    "start_time": "2022-07-01T17:41:17.883Z"
   },
   {
    "duration": 7,
    "start_time": "2022-07-01T17:41:17.953Z"
   },
   {
    "duration": 16,
    "start_time": "2022-07-01T17:41:17.962Z"
   },
   {
    "duration": 7,
    "start_time": "2022-07-01T17:41:17.980Z"
   },
   {
    "duration": 5,
    "start_time": "2022-07-01T17:41:17.989Z"
   },
   {
    "duration": 33,
    "start_time": "2022-07-01T17:41:17.996Z"
   },
   {
    "duration": 8,
    "start_time": "2022-07-01T17:41:18.031Z"
   },
   {
    "duration": 14,
    "start_time": "2022-07-01T17:41:18.040Z"
   },
   {
    "duration": 316,
    "start_time": "2022-07-01T17:41:18.055Z"
   },
   {
    "duration": 26,
    "start_time": "2022-07-01T17:41:18.374Z"
   },
   {
    "duration": 227,
    "start_time": "2022-07-01T17:41:18.402Z"
   },
   {
    "duration": 49,
    "start_time": "2022-07-01T17:41:18.631Z"
   },
   {
    "duration": 9,
    "start_time": "2022-07-01T17:41:18.682Z"
   },
   {
    "duration": 448,
    "start_time": "2022-07-01T17:42:49.412Z"
   },
   {
    "duration": 1867,
    "start_time": "2022-07-01T17:43:48.812Z"
   },
   {
    "duration": 4,
    "start_time": "2022-07-01T17:45:11.193Z"
   },
   {
    "duration": 4,
    "start_time": "2022-07-01T17:45:32.922Z"
   },
   {
    "duration": 437,
    "start_time": "2022-07-01T17:45:37.800Z"
   },
   {
    "duration": 429,
    "start_time": "2022-07-01T17:45:52.409Z"
   },
   {
    "duration": 461,
    "start_time": "2022-07-01T17:46:06.143Z"
   },
   {
    "duration": 411,
    "start_time": "2022-07-01T17:46:14.152Z"
   },
   {
    "duration": 419,
    "start_time": "2022-07-01T17:46:18.040Z"
   },
   {
    "duration": 432,
    "start_time": "2022-07-01T17:47:26.625Z"
   },
   {
    "duration": 420,
    "start_time": "2022-07-01T17:50:07.161Z"
   },
   {
    "duration": 536,
    "start_time": "2022-07-01T18:08:58.595Z"
   },
   {
    "duration": 396,
    "start_time": "2022-07-01T18:11:19.059Z"
   },
   {
    "duration": 26,
    "start_time": "2022-07-01T18:13:58.975Z"
   },
   {
    "duration": 23,
    "start_time": "2022-07-01T18:17:15.730Z"
   },
   {
    "duration": 23,
    "start_time": "2022-07-01T18:17:33.698Z"
   },
   {
    "duration": 83,
    "start_time": "2022-07-01T18:19:50.189Z"
   },
   {
    "duration": 106,
    "start_time": "2022-07-01T18:19:54.227Z"
   },
   {
    "duration": 350,
    "start_time": "2022-07-01T18:20:08.717Z"
   },
   {
    "duration": 337,
    "start_time": "2022-07-01T18:20:16.988Z"
   },
   {
    "duration": 335,
    "start_time": "2022-07-01T18:20:34.352Z"
   },
   {
    "duration": 319,
    "start_time": "2022-07-01T18:21:12.391Z"
   },
   {
    "duration": 453,
    "start_time": "2022-07-01T18:21:31.195Z"
   },
   {
    "duration": 327,
    "start_time": "2022-07-01T18:21:40.191Z"
   },
   {
    "duration": 348,
    "start_time": "2022-07-01T18:24:22.927Z"
   },
   {
    "duration": 226,
    "start_time": "2022-07-01T18:24:42.994Z"
   },
   {
    "duration": 270,
    "start_time": "2022-07-01T18:24:52.835Z"
   },
   {
    "duration": 325,
    "start_time": "2022-07-01T18:25:06.705Z"
   },
   {
    "duration": 310,
    "start_time": "2022-07-01T18:25:18.441Z"
   },
   {
    "duration": 315,
    "start_time": "2022-07-01T18:26:43.891Z"
   },
   {
    "duration": 389,
    "start_time": "2022-07-01T18:26:50.894Z"
   },
   {
    "duration": 349,
    "start_time": "2022-07-01T18:27:00.894Z"
   },
   {
    "duration": 353,
    "start_time": "2022-07-01T18:27:28.108Z"
   },
   {
    "duration": 400,
    "start_time": "2022-07-01T18:28:13.823Z"
   },
   {
    "duration": 57,
    "start_time": "2022-07-01T22:13:19.520Z"
   },
   {
    "duration": 1346,
    "start_time": "2022-07-01T22:13:22.973Z"
   },
   {
    "duration": 200,
    "start_time": "2022-07-01T22:13:24.321Z"
   },
   {
    "duration": 10,
    "start_time": "2022-07-01T22:13:24.523Z"
   },
   {
    "duration": 50,
    "start_time": "2022-07-01T22:13:24.535Z"
   },
   {
    "duration": 51,
    "start_time": "2022-07-01T22:13:24.588Z"
   },
   {
    "duration": 26,
    "start_time": "2022-07-01T22:13:24.642Z"
   },
   {
    "duration": 61,
    "start_time": "2022-07-01T22:13:24.670Z"
   },
   {
    "duration": 21,
    "start_time": "2022-07-01T22:13:24.733Z"
   },
   {
    "duration": 56,
    "start_time": "2022-07-01T22:13:24.763Z"
   },
   {
    "duration": 379,
    "start_time": "2022-07-01T22:13:24.820Z"
   },
   {
    "duration": 29,
    "start_time": "2022-07-01T22:13:25.203Z"
   },
   {
    "duration": 228,
    "start_time": "2022-07-01T22:13:25.234Z"
   },
   {
    "duration": 52,
    "start_time": "2022-07-01T22:13:25.466Z"
   },
   {
    "duration": 485,
    "start_time": "2022-07-01T22:13:25.520Z"
   },
   {
    "duration": 21,
    "start_time": "2022-07-01T22:13:26.006Z"
   },
   {
    "duration": 427,
    "start_time": "2022-07-01T22:13:26.029Z"
   },
   {
    "duration": 338,
    "start_time": "2022-07-01T22:13:55.272Z"
   },
   {
    "duration": 18,
    "start_time": "2022-07-01T22:14:11.049Z"
   },
   {
    "duration": 1139,
    "start_time": "2022-07-01T22:14:35.638Z"
   },
   {
    "duration": 81,
    "start_time": "2022-07-01T22:14:36.781Z"
   },
   {
    "duration": 13,
    "start_time": "2022-07-01T22:14:36.873Z"
   },
   {
    "duration": 25,
    "start_time": "2022-07-01T22:14:36.888Z"
   },
   {
    "duration": 13,
    "start_time": "2022-07-01T22:14:36.915Z"
   },
   {
    "duration": 23,
    "start_time": "2022-07-01T22:14:36.929Z"
   },
   {
    "duration": 43,
    "start_time": "2022-07-01T22:14:36.953Z"
   },
   {
    "duration": 22,
    "start_time": "2022-07-01T22:14:36.998Z"
   },
   {
    "duration": 23,
    "start_time": "2022-07-01T22:14:37.022Z"
   },
   {
    "duration": 396,
    "start_time": "2022-07-01T22:14:37.047Z"
   },
   {
    "duration": 45,
    "start_time": "2022-07-01T22:14:37.450Z"
   },
   {
    "duration": 226,
    "start_time": "2022-07-01T22:14:37.497Z"
   },
   {
    "duration": 59,
    "start_time": "2022-07-01T22:14:37.724Z"
   },
   {
    "duration": 420,
    "start_time": "2022-07-01T22:14:37.786Z"
   },
   {
    "duration": 35,
    "start_time": "2022-07-01T22:14:38.207Z"
   },
   {
    "duration": 12538,
    "start_time": "2022-07-01T22:14:38.251Z"
   },
   {
    "duration": 256,
    "start_time": "2022-07-01T22:15:23.568Z"
   },
   {
    "duration": 357,
    "start_time": "2022-07-01T22:15:44.312Z"
   },
   {
    "duration": 269,
    "start_time": "2022-07-01T22:16:00.279Z"
   },
   {
    "duration": 262,
    "start_time": "2022-07-01T22:16:21.006Z"
   },
   {
    "duration": 1190,
    "start_time": "2022-07-01T22:16:26.635Z"
   },
   {
    "duration": 73,
    "start_time": "2022-07-01T22:16:27.827Z"
   },
   {
    "duration": 8,
    "start_time": "2022-07-01T22:16:27.901Z"
   },
   {
    "duration": 16,
    "start_time": "2022-07-01T22:16:27.911Z"
   },
   {
    "duration": 26,
    "start_time": "2022-07-01T22:16:27.928Z"
   },
   {
    "duration": 14,
    "start_time": "2022-07-01T22:16:27.956Z"
   },
   {
    "duration": 20,
    "start_time": "2022-07-01T22:16:27.971Z"
   },
   {
    "duration": 10,
    "start_time": "2022-07-01T22:16:27.993Z"
   },
   {
    "duration": 18,
    "start_time": "2022-07-01T22:16:28.004Z"
   },
   {
    "duration": 367,
    "start_time": "2022-07-01T22:16:28.024Z"
   },
   {
    "duration": 31,
    "start_time": "2022-07-01T22:16:28.392Z"
   },
   {
    "duration": 245,
    "start_time": "2022-07-01T22:16:28.425Z"
   },
   {
    "duration": 42,
    "start_time": "2022-07-01T22:16:28.671Z"
   },
   {
    "duration": 479,
    "start_time": "2022-07-01T22:16:28.714Z"
   },
   {
    "duration": 23,
    "start_time": "2022-07-01T22:16:29.194Z"
   },
   {
    "duration": 304,
    "start_time": "2022-07-01T22:16:29.218Z"
   },
   {
    "duration": 323,
    "start_time": "2022-07-01T22:16:44.796Z"
   },
   {
    "duration": 119,
    "start_time": "2022-07-01T22:20:26.750Z"
   },
   {
    "duration": 14,
    "start_time": "2022-07-01T22:20:49.706Z"
   },
   {
    "duration": 18,
    "start_time": "2022-07-01T22:21:20.876Z"
   },
   {
    "duration": 18,
    "start_time": "2022-07-01T22:21:34.178Z"
   },
   {
    "duration": 11,
    "start_time": "2022-07-01T22:21:40.522Z"
   },
   {
    "duration": 24,
    "start_time": "2022-07-01T22:23:51.031Z"
   },
   {
    "duration": 35,
    "start_time": "2022-07-01T22:23:57.633Z"
   },
   {
    "duration": 4,
    "start_time": "2022-07-01T22:30:19.845Z"
   },
   {
    "duration": 4,
    "start_time": "2022-07-01T22:30:24.743Z"
   },
   {
    "duration": 1536,
    "start_time": "2022-07-01T22:30:35.476Z"
   },
   {
    "duration": 1629,
    "start_time": "2022-07-01T22:30:59.526Z"
   },
   {
    "duration": 1398,
    "start_time": "2022-07-01T22:35:14.099Z"
   },
   {
    "duration": 1808,
    "start_time": "2022-07-01T22:35:25.201Z"
   },
   {
    "duration": 23,
    "start_time": "2022-07-01T22:37:03.290Z"
   },
   {
    "duration": 1634,
    "start_time": "2022-07-01T22:37:04.218Z"
   },
   {
    "duration": 5,
    "start_time": "2022-07-01T22:40:24.081Z"
   },
   {
    "duration": 332,
    "start_time": "2022-07-01T22:40:30.418Z"
   },
   {
    "duration": 471,
    "start_time": "2022-07-01T22:40:48.945Z"
   },
   {
    "duration": 414,
    "start_time": "2022-07-01T22:40:57.613Z"
   },
   {
    "duration": 412,
    "start_time": "2022-07-01T22:41:05.274Z"
   },
   {
    "duration": 505,
    "start_time": "2022-07-01T22:41:25.592Z"
   },
   {
    "duration": 1199,
    "start_time": "2022-07-01T22:41:51.427Z"
   },
   {
    "duration": 73,
    "start_time": "2022-07-01T22:41:52.628Z"
   },
   {
    "duration": 9,
    "start_time": "2022-07-01T22:41:52.703Z"
   },
   {
    "duration": 18,
    "start_time": "2022-07-01T22:41:52.713Z"
   },
   {
    "duration": 31,
    "start_time": "2022-07-01T22:41:52.734Z"
   },
   {
    "duration": 20,
    "start_time": "2022-07-01T22:41:52.769Z"
   },
   {
    "duration": 8,
    "start_time": "2022-07-01T22:41:52.791Z"
   },
   {
    "duration": 11,
    "start_time": "2022-07-01T22:41:52.800Z"
   },
   {
    "duration": 17,
    "start_time": "2022-07-01T22:41:52.812Z"
   },
   {
    "duration": 447,
    "start_time": "2022-07-01T22:41:52.831Z"
   },
   {
    "duration": 33,
    "start_time": "2022-07-01T22:41:53.282Z"
   },
   {
    "duration": 259,
    "start_time": "2022-07-01T22:41:53.317Z"
   },
   {
    "duration": 47,
    "start_time": "2022-07-01T22:41:53.578Z"
   },
   {
    "duration": 507,
    "start_time": "2022-07-01T22:41:53.628Z"
   },
   {
    "duration": 47,
    "start_time": "2022-07-01T22:41:54.137Z"
   },
   {
    "duration": 575,
    "start_time": "2022-07-01T22:41:54.186Z"
   },
   {
    "duration": 478,
    "start_time": "2022-07-01T22:42:55.726Z"
   },
   {
    "duration": 522,
    "start_time": "2022-07-01T22:43:00.574Z"
   },
   {
    "duration": 376,
    "start_time": "2022-07-01T22:43:18.518Z"
   },
   {
    "duration": 405,
    "start_time": "2022-07-01T22:44:51.455Z"
   },
   {
    "duration": 397,
    "start_time": "2022-07-01T22:45:12.838Z"
   },
   {
    "duration": 393,
    "start_time": "2022-07-01T22:45:23.602Z"
   },
   {
    "duration": 22,
    "start_time": "2022-07-01T22:45:41.719Z"
   },
   {
    "duration": 526,
    "start_time": "2022-07-01T22:45:42.379Z"
   },
   {
    "duration": 32,
    "start_time": "2022-07-01T22:56:40.077Z"
   },
   {
    "duration": 22,
    "start_time": "2022-07-01T22:57:17.148Z"
   },
   {
    "duration": 105,
    "start_time": "2022-07-01T22:57:17.180Z"
   },
   {
    "duration": 13,
    "start_time": "2022-07-01T22:57:17.288Z"
   },
   {
    "duration": 20,
    "start_time": "2022-07-01T22:57:17.305Z"
   },
   {
    "duration": 15,
    "start_time": "2022-07-01T22:57:17.327Z"
   },
   {
    "duration": 17,
    "start_time": "2022-07-01T22:57:17.345Z"
   },
   {
    "duration": 55,
    "start_time": "2022-07-01T22:57:17.364Z"
   },
   {
    "duration": 17,
    "start_time": "2022-07-01T22:57:17.421Z"
   },
   {
    "duration": 39,
    "start_time": "2022-07-01T22:57:17.440Z"
   },
   {
    "duration": 426,
    "start_time": "2022-07-01T22:57:17.480Z"
   },
   {
    "duration": 28,
    "start_time": "2022-07-01T22:57:17.909Z"
   },
   {
    "duration": 272,
    "start_time": "2022-07-01T22:57:17.938Z"
   },
   {
    "duration": 67,
    "start_time": "2022-07-01T22:57:18.214Z"
   },
   {
    "duration": 530,
    "start_time": "2022-07-01T22:57:18.284Z"
   },
   {
    "duration": 24,
    "start_time": "2022-07-01T22:57:18.816Z"
   },
   {
    "duration": 437,
    "start_time": "2022-07-01T22:57:18.853Z"
   },
   {
    "duration": 109,
    "start_time": "2022-07-01T22:58:36.586Z"
   },
   {
    "duration": 26,
    "start_time": "2022-07-01T22:58:42.450Z"
   },
   {
    "duration": 597,
    "start_time": "2022-07-01T22:59:08.968Z"
   },
   {
    "duration": 2541,
    "start_time": "2022-07-01T23:00:25.671Z"
   },
   {
    "duration": 2597,
    "start_time": "2022-07-01T23:00:35.276Z"
   },
   {
    "duration": 596,
    "start_time": "2022-07-01T23:01:10.326Z"
   },
   {
    "duration": 717,
    "start_time": "2022-07-01T23:01:23.128Z"
   },
   {
    "duration": 1047,
    "start_time": "2022-07-01T23:01:30.728Z"
   },
   {
    "duration": 764,
    "start_time": "2022-07-01T23:01:48.680Z"
   },
   {
    "duration": 896,
    "start_time": "2022-07-01T23:01:57.743Z"
   },
   {
    "duration": 814,
    "start_time": "2022-07-01T23:02:02.596Z"
   },
   {
    "duration": 1010,
    "start_time": "2022-07-01T23:02:18.774Z"
   },
   {
    "duration": 765,
    "start_time": "2022-07-01T23:03:43.580Z"
   },
   {
    "duration": 580,
    "start_time": "2022-07-01T23:03:50.553Z"
   },
   {
    "duration": 592,
    "start_time": "2022-07-01T23:03:58.965Z"
   },
   {
    "duration": 901,
    "start_time": "2022-07-01T23:04:06.876Z"
   },
   {
    "duration": 819,
    "start_time": "2022-07-01T23:04:12.930Z"
   },
   {
    "duration": 11,
    "start_time": "2022-07-01T23:04:52.189Z"
   },
   {
    "duration": 3,
    "start_time": "2022-07-01T23:06:15.482Z"
   },
   {
    "duration": 61,
    "start_time": "2022-07-01T23:06:15.487Z"
   },
   {
    "duration": 21,
    "start_time": "2022-07-01T23:06:15.550Z"
   },
   {
    "duration": 28,
    "start_time": "2022-07-01T23:06:15.573Z"
   },
   {
    "duration": 8,
    "start_time": "2022-07-01T23:06:15.604Z"
   },
   {
    "duration": 9,
    "start_time": "2022-07-01T23:06:15.614Z"
   },
   {
    "duration": 8,
    "start_time": "2022-07-01T23:06:15.624Z"
   },
   {
    "duration": 16,
    "start_time": "2022-07-01T23:06:15.633Z"
   },
   {
    "duration": 36,
    "start_time": "2022-07-01T23:06:15.650Z"
   },
   {
    "duration": 356,
    "start_time": "2022-07-01T23:06:15.688Z"
   },
   {
    "duration": 36,
    "start_time": "2022-07-01T23:06:16.046Z"
   },
   {
    "duration": 348,
    "start_time": "2022-07-01T23:06:16.084Z"
   },
   {
    "duration": 72,
    "start_time": "2022-07-01T23:06:16.434Z"
   },
   {
    "duration": 471,
    "start_time": "2022-07-01T23:06:16.509Z"
   },
   {
    "duration": 24,
    "start_time": "2022-07-01T23:06:16.982Z"
   },
   {
    "duration": 398,
    "start_time": "2022-07-01T23:06:17.008Z"
   },
   {
    "duration": 65,
    "start_time": "2022-07-01T23:07:56.900Z"
   },
   {
    "duration": 87,
    "start_time": "2022-07-01T23:08:04.136Z"
   },
   {
    "duration": 195,
    "start_time": "2022-07-01T23:08:11.793Z"
   },
   {
    "duration": 634,
    "start_time": "2022-07-01T23:08:21.177Z"
   },
   {
    "duration": 97,
    "start_time": "2022-07-01T23:08:47.376Z"
   },
   {
    "duration": 566,
    "start_time": "2022-07-01T23:08:52.830Z"
   },
   {
    "duration": 153,
    "start_time": "2022-07-01T23:09:10.241Z"
   },
   {
    "duration": 788,
    "start_time": "2022-07-01T23:10:12.440Z"
   },
   {
    "duration": 988,
    "start_time": "2022-07-01T23:10:24.992Z"
   },
   {
    "duration": 751,
    "start_time": "2022-07-01T23:11:12.749Z"
   },
   {
    "duration": 795,
    "start_time": "2022-07-01T23:11:18.514Z"
   },
   {
    "duration": 828,
    "start_time": "2022-07-01T23:11:39.682Z"
   },
   {
    "duration": 841,
    "start_time": "2022-07-01T23:11:46.814Z"
   },
   {
    "duration": 1251,
    "start_time": "2022-07-02T19:16:53.351Z"
   },
   {
    "duration": 99,
    "start_time": "2022-07-02T19:16:54.604Z"
   },
   {
    "duration": 8,
    "start_time": "2022-07-02T19:16:54.705Z"
   },
   {
    "duration": 19,
    "start_time": "2022-07-02T19:16:54.715Z"
   },
   {
    "duration": 10,
    "start_time": "2022-07-02T19:16:54.736Z"
   },
   {
    "duration": 6,
    "start_time": "2022-07-02T19:16:54.748Z"
   },
   {
    "duration": 7,
    "start_time": "2022-07-02T19:16:54.755Z"
   },
   {
    "duration": 10,
    "start_time": "2022-07-02T19:16:54.764Z"
   },
   {
    "duration": 15,
    "start_time": "2022-07-02T19:16:54.775Z"
   },
   {
    "duration": 370,
    "start_time": "2022-07-02T19:16:54.793Z"
   },
   {
    "duration": 29,
    "start_time": "2022-07-02T19:16:55.165Z"
   },
   {
    "duration": 323,
    "start_time": "2022-07-02T19:16:55.196Z"
   },
   {
    "duration": 56,
    "start_time": "2022-07-02T19:16:55.523Z"
   },
   {
    "duration": 500,
    "start_time": "2022-07-02T19:16:55.581Z"
   },
   {
    "duration": 24,
    "start_time": "2022-07-02T19:16:56.082Z"
   },
   {
    "duration": 386,
    "start_time": "2022-07-02T19:16:56.108Z"
   },
   {
    "duration": 815,
    "start_time": "2022-07-02T19:16:56.496Z"
   },
   {
    "duration": 18,
    "start_time": "2022-07-02T19:27:06.296Z"
   },
   {
    "duration": 54,
    "start_time": "2022-07-02T19:36:36.357Z"
   },
   {
    "duration": 283,
    "start_time": "2022-07-02T19:36:44.512Z"
   },
   {
    "duration": 157,
    "start_time": "2022-07-02T19:38:11.588Z"
   },
   {
    "duration": 181,
    "start_time": "2022-07-02T19:38:18.891Z"
   },
   {
    "duration": 290,
    "start_time": "2022-07-02T19:39:14.560Z"
   },
   {
    "duration": 163,
    "start_time": "2022-07-02T19:45:30.103Z"
   },
   {
    "duration": 5,
    "start_time": "2022-07-02T19:53:10.677Z"
   },
   {
    "duration": 15,
    "start_time": "2022-07-02T19:53:31.792Z"
   },
   {
    "duration": 8,
    "start_time": "2022-07-02T19:53:53.836Z"
   },
   {
    "duration": 12,
    "start_time": "2022-07-02T19:54:20.718Z"
   },
   {
    "duration": 23,
    "start_time": "2022-07-02T19:55:04.132Z"
   },
   {
    "duration": 10,
    "start_time": "2022-07-02T19:55:17.624Z"
   },
   {
    "duration": 9,
    "start_time": "2022-07-02T19:55:27.443Z"
   },
   {
    "duration": 6,
    "start_time": "2022-07-02T19:56:56.864Z"
   },
   {
    "duration": 24,
    "start_time": "2022-07-02T19:58:03.742Z"
   },
   {
    "duration": 17,
    "start_time": "2022-07-02T19:58:20.541Z"
   },
   {
    "duration": 16,
    "start_time": "2022-07-02T19:59:34.839Z"
   },
   {
    "duration": 12,
    "start_time": "2022-07-02T19:59:47.364Z"
   },
   {
    "duration": 16,
    "start_time": "2022-07-02T20:03:05.314Z"
   },
   {
    "duration": 8,
    "start_time": "2022-07-02T20:03:22.817Z"
   },
   {
    "duration": 352,
    "start_time": "2022-07-02T20:03:45.186Z"
   },
   {
    "duration": 8,
    "start_time": "2022-07-02T20:04:02.292Z"
   },
   {
    "duration": 11,
    "start_time": "2022-07-02T20:04:12.682Z"
   },
   {
    "duration": 852,
    "start_time": "2022-07-02T20:04:42.189Z"
   },
   {
    "duration": 20,
    "start_time": "2022-07-02T20:05:01.870Z"
   },
   {
    "duration": 17,
    "start_time": "2022-07-02T20:05:16.461Z"
   },
   {
    "duration": 150,
    "start_time": "2022-07-02T20:06:24.417Z"
   },
   {
    "duration": 152,
    "start_time": "2022-07-02T20:06:32.394Z"
   },
   {
    "duration": 250,
    "start_time": "2022-07-02T20:06:43.280Z"
   },
   {
    "duration": 150,
    "start_time": "2022-07-02T20:06:50.666Z"
   },
   {
    "duration": 210,
    "start_time": "2022-07-02T20:06:53.936Z"
   },
   {
    "duration": 9,
    "start_time": "2022-07-02T20:07:33.959Z"
   },
   {
    "duration": 15,
    "start_time": "2022-07-02T20:07:55.677Z"
   },
   {
    "duration": 10,
    "start_time": "2022-07-02T20:08:19.149Z"
   },
   {
    "duration": 317,
    "start_time": "2022-07-02T20:08:30.581Z"
   },
   {
    "duration": 1201,
    "start_time": "2022-07-02T20:08:51.098Z"
   },
   {
    "duration": 69,
    "start_time": "2022-07-02T20:08:52.301Z"
   },
   {
    "duration": 9,
    "start_time": "2022-07-02T20:08:52.372Z"
   },
   {
    "duration": 22,
    "start_time": "2022-07-02T20:08:52.383Z"
   },
   {
    "duration": 25,
    "start_time": "2022-07-02T20:08:52.406Z"
   },
   {
    "duration": 10,
    "start_time": "2022-07-02T20:08:52.433Z"
   },
   {
    "duration": 5,
    "start_time": "2022-07-02T20:08:52.445Z"
   },
   {
    "duration": 10,
    "start_time": "2022-07-02T20:08:52.452Z"
   },
   {
    "duration": 14,
    "start_time": "2022-07-02T20:08:52.464Z"
   },
   {
    "duration": 462,
    "start_time": "2022-07-02T20:08:52.481Z"
   },
   {
    "duration": 30,
    "start_time": "2022-07-02T20:08:52.946Z"
   },
   {
    "duration": 408,
    "start_time": "2022-07-02T20:08:52.978Z"
   },
   {
    "duration": 85,
    "start_time": "2022-07-02T20:08:53.388Z"
   },
   {
    "duration": 491,
    "start_time": "2022-07-02T20:08:53.476Z"
   },
   {
    "duration": 24,
    "start_time": "2022-07-02T20:08:53.969Z"
   },
   {
    "duration": 414,
    "start_time": "2022-07-02T20:08:53.995Z"
   },
   {
    "duration": 932,
    "start_time": "2022-07-02T20:08:54.411Z"
   },
   {
    "duration": 170,
    "start_time": "2022-07-02T20:08:55.346Z"
   },
   {
    "duration": 18,
    "start_time": "2022-07-02T20:08:55.523Z"
   },
   {
    "duration": 436,
    "start_time": "2022-07-02T20:08:55.544Z"
   },
   {
    "duration": 11,
    "start_time": "2022-07-02T20:09:11.656Z"
   },
   {
    "duration": 377,
    "start_time": "2022-07-02T20:09:14.801Z"
   },
   {
    "duration": 22,
    "start_time": "2022-07-02T20:09:20.431Z"
   },
   {
    "duration": 17,
    "start_time": "2022-07-02T20:09:27.898Z"
   },
   {
    "duration": 391,
    "start_time": "2022-07-02T20:09:28.313Z"
   },
   {
    "duration": 21,
    "start_time": "2022-07-02T20:11:01.527Z"
   },
   {
    "duration": 1165,
    "start_time": "2022-07-02T20:11:15.208Z"
   },
   {
    "duration": 66,
    "start_time": "2022-07-02T20:11:16.378Z"
   },
   {
    "duration": 8,
    "start_time": "2022-07-02T20:11:16.446Z"
   },
   {
    "duration": 18,
    "start_time": "2022-07-02T20:11:16.456Z"
   },
   {
    "duration": 10,
    "start_time": "2022-07-02T20:11:16.475Z"
   },
   {
    "duration": 6,
    "start_time": "2022-07-02T20:11:16.487Z"
   },
   {
    "duration": 35,
    "start_time": "2022-07-02T20:11:16.494Z"
   },
   {
    "duration": 11,
    "start_time": "2022-07-02T20:11:16.530Z"
   },
   {
    "duration": 21,
    "start_time": "2022-07-02T20:11:16.543Z"
   },
   {
    "duration": 377,
    "start_time": "2022-07-02T20:11:16.566Z"
   },
   {
    "duration": 31,
    "start_time": "2022-07-02T20:11:16.945Z"
   },
   {
    "duration": 373,
    "start_time": "2022-07-02T20:11:16.977Z"
   },
   {
    "duration": 51,
    "start_time": "2022-07-02T20:11:17.352Z"
   },
   {
    "duration": 476,
    "start_time": "2022-07-02T20:11:17.404Z"
   },
   {
    "duration": 24,
    "start_time": "2022-07-02T20:11:17.882Z"
   },
   {
    "duration": 390,
    "start_time": "2022-07-02T20:11:17.907Z"
   },
   {
    "duration": 870,
    "start_time": "2022-07-02T20:11:18.298Z"
   },
   {
    "duration": 165,
    "start_time": "2022-07-02T20:11:19.170Z"
   },
   {
    "duration": 16,
    "start_time": "2022-07-02T20:11:19.336Z"
   },
   {
    "duration": 428,
    "start_time": "2022-07-02T20:11:19.355Z"
   },
   {
    "duration": 16,
    "start_time": "2022-07-02T20:11:43.525Z"
   },
   {
    "duration": 13,
    "start_time": "2022-07-02T20:11:51.490Z"
   },
   {
    "duration": 17,
    "start_time": "2022-07-02T20:13:23.012Z"
   },
   {
    "duration": 16,
    "start_time": "2022-07-02T20:13:30.993Z"
   },
   {
    "duration": 1130,
    "start_time": "2022-07-02T20:13:37.317Z"
   },
   {
    "duration": 65,
    "start_time": "2022-07-02T20:13:38.449Z"
   },
   {
    "duration": 8,
    "start_time": "2022-07-02T20:13:38.516Z"
   },
   {
    "duration": 21,
    "start_time": "2022-07-02T20:13:38.526Z"
   },
   {
    "duration": 11,
    "start_time": "2022-07-02T20:13:38.549Z"
   },
   {
    "duration": 7,
    "start_time": "2022-07-02T20:13:38.561Z"
   },
   {
    "duration": 7,
    "start_time": "2022-07-02T20:13:38.569Z"
   },
   {
    "duration": 9,
    "start_time": "2022-07-02T20:13:38.578Z"
   },
   {
    "duration": 46,
    "start_time": "2022-07-02T20:13:38.589Z"
   },
   {
    "duration": 349,
    "start_time": "2022-07-02T20:13:38.638Z"
   },
   {
    "duration": 43,
    "start_time": "2022-07-02T20:13:38.989Z"
   },
   {
    "duration": 336,
    "start_time": "2022-07-02T20:13:39.034Z"
   },
   {
    "duration": 63,
    "start_time": "2022-07-02T20:13:39.372Z"
   },
   {
    "duration": 414,
    "start_time": "2022-07-02T20:13:39.436Z"
   },
   {
    "duration": 24,
    "start_time": "2022-07-02T20:13:39.852Z"
   },
   {
    "duration": 387,
    "start_time": "2022-07-02T20:13:39.877Z"
   },
   {
    "duration": 824,
    "start_time": "2022-07-02T20:13:40.266Z"
   },
   {
    "duration": 150,
    "start_time": "2022-07-02T20:13:41.092Z"
   },
   {
    "duration": 111,
    "start_time": "2022-07-02T20:13:41.244Z"
   },
   {
    "duration": 0,
    "start_time": "2022-07-02T20:13:41.357Z"
   },
   {
    "duration": 13,
    "start_time": "2022-07-02T20:14:18.695Z"
   },
   {
    "duration": 7,
    "start_time": "2022-07-02T20:16:15.139Z"
   },
   {
    "duration": 65,
    "start_time": "2022-07-02T20:16:46.985Z"
   },
   {
    "duration": 14,
    "start_time": "2022-07-02T20:16:51.767Z"
   },
   {
    "duration": 9,
    "start_time": "2022-07-02T20:17:14.966Z"
   },
   {
    "duration": 1083,
    "start_time": "2022-07-02T20:17:40.666Z"
   },
   {
    "duration": 66,
    "start_time": "2022-07-02T20:17:41.751Z"
   },
   {
    "duration": 8,
    "start_time": "2022-07-02T20:17:41.819Z"
   },
   {
    "duration": 16,
    "start_time": "2022-07-02T20:17:41.829Z"
   },
   {
    "duration": 9,
    "start_time": "2022-07-02T20:17:41.847Z"
   },
   {
    "duration": 7,
    "start_time": "2022-07-02T20:17:41.858Z"
   },
   {
    "duration": 6,
    "start_time": "2022-07-02T20:17:41.867Z"
   },
   {
    "duration": 9,
    "start_time": "2022-07-02T20:17:41.874Z"
   },
   {
    "duration": 48,
    "start_time": "2022-07-02T20:17:41.884Z"
   },
   {
    "duration": 350,
    "start_time": "2022-07-02T20:17:41.935Z"
   },
   {
    "duration": 29,
    "start_time": "2022-07-02T20:17:42.286Z"
   },
   {
    "duration": 360,
    "start_time": "2022-07-02T20:17:42.323Z"
   },
   {
    "duration": 63,
    "start_time": "2022-07-02T20:17:42.684Z"
   },
   {
    "duration": 404,
    "start_time": "2022-07-02T20:17:42.748Z"
   },
   {
    "duration": 23,
    "start_time": "2022-07-02T20:17:43.154Z"
   },
   {
    "duration": 364,
    "start_time": "2022-07-02T20:17:43.178Z"
   },
   {
    "duration": 795,
    "start_time": "2022-07-02T20:17:43.543Z"
   },
   {
    "duration": 152,
    "start_time": "2022-07-02T20:17:44.340Z"
   },
   {
    "duration": 110,
    "start_time": "2022-07-02T20:17:44.493Z"
   },
   {
    "duration": 0,
    "start_time": "2022-07-02T20:17:44.604Z"
   },
   {
    "duration": 11,
    "start_time": "2022-07-02T20:17:59.236Z"
   },
   {
    "duration": 336,
    "start_time": "2022-07-02T20:18:02.851Z"
   },
   {
    "duration": 1239,
    "start_time": "2022-07-02T20:18:12.117Z"
   },
   {
    "duration": 67,
    "start_time": "2022-07-02T20:18:13.358Z"
   },
   {
    "duration": 8,
    "start_time": "2022-07-02T20:18:13.427Z"
   },
   {
    "duration": 20,
    "start_time": "2022-07-02T20:18:13.437Z"
   },
   {
    "duration": 11,
    "start_time": "2022-07-02T20:18:13.459Z"
   },
   {
    "duration": 7,
    "start_time": "2022-07-02T20:18:13.472Z"
   },
   {
    "duration": 6,
    "start_time": "2022-07-02T20:18:13.480Z"
   },
   {
    "duration": 36,
    "start_time": "2022-07-02T20:18:13.488Z"
   },
   {
    "duration": 15,
    "start_time": "2022-07-02T20:18:13.525Z"
   },
   {
    "duration": 338,
    "start_time": "2022-07-02T20:18:13.542Z"
   },
   {
    "duration": 29,
    "start_time": "2022-07-02T20:18:13.881Z"
   },
   {
    "duration": 345,
    "start_time": "2022-07-02T20:18:13.912Z"
   },
   {
    "duration": 75,
    "start_time": "2022-07-02T20:18:14.258Z"
   },
   {
    "duration": 407,
    "start_time": "2022-07-02T20:18:14.335Z"
   },
   {
    "duration": 26,
    "start_time": "2022-07-02T20:18:14.744Z"
   },
   {
    "duration": 379,
    "start_time": "2022-07-02T20:18:14.772Z"
   },
   {
    "duration": 837,
    "start_time": "2022-07-02T20:18:15.152Z"
   },
   {
    "duration": 154,
    "start_time": "2022-07-02T20:18:15.991Z"
   },
   {
    "duration": 11,
    "start_time": "2022-07-02T20:18:16.147Z"
   },
   {
    "duration": 417,
    "start_time": "2022-07-02T20:18:16.160Z"
   },
   {
    "duration": 12,
    "start_time": "2022-07-02T20:19:35.681Z"
   },
   {
    "duration": 404,
    "start_time": "2022-07-02T20:19:38.892Z"
   },
   {
    "duration": 12,
    "start_time": "2022-07-02T20:19:47.111Z"
   },
   {
    "duration": 468,
    "start_time": "2022-07-02T20:19:49.979Z"
   },
   {
    "duration": 1091,
    "start_time": "2022-07-02T20:21:44.050Z"
   },
   {
    "duration": 66,
    "start_time": "2022-07-02T20:21:45.143Z"
   },
   {
    "duration": 7,
    "start_time": "2022-07-02T20:21:45.211Z"
   },
   {
    "duration": 15,
    "start_time": "2022-07-02T20:21:45.224Z"
   },
   {
    "duration": 10,
    "start_time": "2022-07-02T20:21:45.240Z"
   },
   {
    "duration": 6,
    "start_time": "2022-07-02T20:21:45.251Z"
   },
   {
    "duration": 11,
    "start_time": "2022-07-02T20:21:45.258Z"
   },
   {
    "duration": 14,
    "start_time": "2022-07-02T20:21:45.270Z"
   },
   {
    "duration": 39,
    "start_time": "2022-07-02T20:21:45.285Z"
   },
   {
    "duration": 348,
    "start_time": "2022-07-02T20:21:45.326Z"
   },
   {
    "duration": 27,
    "start_time": "2022-07-02T20:21:45.675Z"
   },
   {
    "duration": 319,
    "start_time": "2022-07-02T20:21:45.704Z"
   },
   {
    "duration": 53,
    "start_time": "2022-07-02T20:21:46.024Z"
   },
   {
    "duration": 455,
    "start_time": "2022-07-02T20:21:46.078Z"
   },
   {
    "duration": 22,
    "start_time": "2022-07-02T20:21:46.535Z"
   },
   {
    "duration": 370,
    "start_time": "2022-07-02T20:21:46.559Z"
   },
   {
    "duration": 814,
    "start_time": "2022-07-02T20:21:46.930Z"
   },
   {
    "duration": 145,
    "start_time": "2022-07-02T20:21:47.746Z"
   },
   {
    "duration": 11,
    "start_time": "2022-07-02T20:21:47.893Z"
   },
   {
    "duration": 520,
    "start_time": "2022-07-02T20:21:47.905Z"
   },
   {
    "duration": 141,
    "start_time": "2022-07-02T20:24:48.085Z"
   },
   {
    "duration": 24,
    "start_time": "2022-07-02T20:31:07.364Z"
   },
   {
    "duration": 13,
    "start_time": "2022-07-02T20:31:30.081Z"
   },
   {
    "duration": 3,
    "start_time": "2022-07-02T20:32:41.814Z"
   },
   {
    "duration": 66,
    "start_time": "2022-07-02T20:32:41.821Z"
   },
   {
    "duration": 7,
    "start_time": "2022-07-02T20:32:41.889Z"
   },
   {
    "duration": 16,
    "start_time": "2022-07-02T20:32:41.898Z"
   },
   {
    "duration": 12,
    "start_time": "2022-07-02T20:32:41.917Z"
   },
   {
    "duration": 8,
    "start_time": "2022-07-02T20:32:41.931Z"
   },
   {
    "duration": 10,
    "start_time": "2022-07-02T20:32:41.941Z"
   },
   {
    "duration": 11,
    "start_time": "2022-07-02T20:32:41.953Z"
   },
   {
    "duration": 12,
    "start_time": "2022-07-02T20:32:41.966Z"
   },
   {
    "duration": 43,
    "start_time": "2022-07-02T20:32:41.980Z"
   },
   {
    "duration": 322,
    "start_time": "2022-07-02T20:32:42.025Z"
   },
   {
    "duration": 28,
    "start_time": "2022-07-02T20:32:42.349Z"
   },
   {
    "duration": 387,
    "start_time": "2022-07-02T20:32:42.378Z"
   },
   {
    "duration": 62,
    "start_time": "2022-07-02T20:32:42.766Z"
   },
   {
    "duration": 443,
    "start_time": "2022-07-02T20:32:42.830Z"
   },
   {
    "duration": 23,
    "start_time": "2022-07-02T20:32:43.275Z"
   },
   {
    "duration": 451,
    "start_time": "2022-07-02T20:32:43.300Z"
   },
   {
    "duration": 738,
    "start_time": "2022-07-02T20:32:43.753Z"
   },
   {
    "duration": 147,
    "start_time": "2022-07-02T20:32:44.492Z"
   },
   {
    "duration": 10,
    "start_time": "2022-07-02T20:32:44.641Z"
   },
   {
    "duration": 154,
    "start_time": "2022-07-02T20:32:44.653Z"
   },
   {
    "duration": 140,
    "start_time": "2022-07-02T20:33:24.930Z"
   },
   {
    "duration": 15,
    "start_time": "2022-07-02T20:36:27.600Z"
   },
   {
    "duration": 54,
    "start_time": "2022-07-02T20:37:04.133Z"
   },
   {
    "duration": 43,
    "start_time": "2022-07-02T20:37:13.623Z"
   },
   {
    "duration": 48,
    "start_time": "2022-07-02T20:37:46.743Z"
   },
   {
    "duration": 13,
    "start_time": "2022-07-02T20:38:33.444Z"
   },
   {
    "duration": 48,
    "start_time": "2022-07-02T20:38:41.475Z"
   },
   {
    "duration": 46,
    "start_time": "2022-07-02T20:40:09.274Z"
   },
   {
    "duration": 4,
    "start_time": "2022-07-02T20:40:21.927Z"
   },
   {
    "duration": 14,
    "start_time": "2022-07-02T20:40:25.190Z"
   },
   {
    "duration": 22,
    "start_time": "2022-07-02T20:40:30.970Z"
   },
   {
    "duration": 17,
    "start_time": "2022-07-02T20:40:42.225Z"
   },
   {
    "duration": 63,
    "start_time": "2022-07-02T20:43:49.000Z"
   },
   {
    "duration": 126,
    "start_time": "2022-07-02T20:43:54.342Z"
   },
   {
    "duration": 17,
    "start_time": "2022-07-02T20:44:34.897Z"
   },
   {
    "duration": 47,
    "start_time": "2022-07-02T20:45:11.685Z"
   },
   {
    "duration": 1145,
    "start_time": "2022-07-02T20:45:19.965Z"
   },
   {
    "duration": 25,
    "start_time": "2022-07-02T20:45:58.540Z"
   },
   {
    "duration": 1296,
    "start_time": "2022-07-02T20:48:44.889Z"
   },
   {
    "duration": 77,
    "start_time": "2022-07-02T20:49:15.390Z"
   },
   {
    "duration": 122,
    "start_time": "2022-07-02T20:49:21.557Z"
   },
   {
    "duration": 24,
    "start_time": "2022-07-02T20:49:48.419Z"
   },
   {
    "duration": 21,
    "start_time": "2022-07-02T20:49:58.774Z"
   },
   {
    "duration": 1118,
    "start_time": "2022-07-02T20:50:10.311Z"
   },
   {
    "duration": 63,
    "start_time": "2022-07-02T20:50:11.431Z"
   },
   {
    "duration": 7,
    "start_time": "2022-07-02T20:50:11.496Z"
   },
   {
    "duration": 23,
    "start_time": "2022-07-02T20:50:11.505Z"
   },
   {
    "duration": 10,
    "start_time": "2022-07-02T20:50:11.529Z"
   },
   {
    "duration": 8,
    "start_time": "2022-07-02T20:50:11.540Z"
   },
   {
    "duration": 7,
    "start_time": "2022-07-02T20:50:11.549Z"
   },
   {
    "duration": 13,
    "start_time": "2022-07-02T20:50:11.558Z"
   },
   {
    "duration": 11,
    "start_time": "2022-07-02T20:50:11.572Z"
   },
   {
    "duration": 41,
    "start_time": "2022-07-02T20:50:11.585Z"
   },
   {
    "duration": 329,
    "start_time": "2022-07-02T20:50:11.628Z"
   },
   {
    "duration": 28,
    "start_time": "2022-07-02T20:50:11.959Z"
   },
   {
    "duration": 318,
    "start_time": "2022-07-02T20:50:11.988Z"
   },
   {
    "duration": 61,
    "start_time": "2022-07-02T20:50:12.307Z"
   },
   {
    "duration": 446,
    "start_time": "2022-07-02T20:50:12.369Z"
   },
   {
    "duration": 26,
    "start_time": "2022-07-02T20:50:12.817Z"
   },
   {
    "duration": 359,
    "start_time": "2022-07-02T20:50:12.845Z"
   },
   {
    "duration": 802,
    "start_time": "2022-07-02T20:50:13.205Z"
   },
   {
    "duration": 147,
    "start_time": "2022-07-02T20:50:14.009Z"
   },
   {
    "duration": 137,
    "start_time": "2022-07-02T20:50:14.158Z"
   },
   {
    "duration": 117,
    "start_time": "2022-07-02T20:50:14.296Z"
   },
   {
    "duration": 20,
    "start_time": "2022-07-02T20:50:29.063Z"
   },
   {
    "duration": 16,
    "start_time": "2022-07-02T20:51:07.765Z"
   },
   {
    "duration": 3972,
    "start_time": "2022-07-02T20:52:28.452Z"
   },
   {
    "duration": 4469,
    "start_time": "2022-07-02T20:53:42.119Z"
   },
   {
    "duration": 4353,
    "start_time": "2022-07-02T20:53:55.916Z"
   },
   {
    "duration": 54,
    "start_time": "2022-07-02T20:55:12.182Z"
   },
   {
    "duration": 4235,
    "start_time": "2022-07-02T20:55:19.311Z"
   },
   {
    "duration": 4304,
    "start_time": "2022-07-02T20:55:40.352Z"
   },
   {
    "duration": 4191,
    "start_time": "2022-07-02T20:56:25.644Z"
   },
   {
    "duration": 1125,
    "start_time": "2022-07-02T20:57:57.029Z"
   },
   {
    "duration": 66,
    "start_time": "2022-07-02T20:57:58.156Z"
   },
   {
    "duration": 7,
    "start_time": "2022-07-02T20:57:58.224Z"
   },
   {
    "duration": 18,
    "start_time": "2022-07-02T20:57:58.233Z"
   },
   {
    "duration": 11,
    "start_time": "2022-07-02T20:57:58.252Z"
   },
   {
    "duration": 6,
    "start_time": "2022-07-02T20:57:58.264Z"
   },
   {
    "duration": 21,
    "start_time": "2022-07-02T20:57:58.271Z"
   },
   {
    "duration": 11,
    "start_time": "2022-07-02T20:57:58.293Z"
   },
   {
    "duration": 25,
    "start_time": "2022-07-02T20:57:58.306Z"
   },
   {
    "duration": 15,
    "start_time": "2022-07-02T20:57:58.333Z"
   },
   {
    "duration": 387,
    "start_time": "2022-07-02T20:57:58.350Z"
   },
   {
    "duration": 29,
    "start_time": "2022-07-02T20:57:58.739Z"
   },
   {
    "duration": 356,
    "start_time": "2022-07-02T20:57:58.769Z"
   },
   {
    "duration": 63,
    "start_time": "2022-07-02T20:57:59.127Z"
   },
   {
    "duration": 453,
    "start_time": "2022-07-02T20:57:59.192Z"
   },
   {
    "duration": 25,
    "start_time": "2022-07-02T20:57:59.646Z"
   },
   {
    "duration": 393,
    "start_time": "2022-07-02T20:57:59.673Z"
   },
   {
    "duration": 867,
    "start_time": "2022-07-02T20:58:00.067Z"
   },
   {
    "duration": 154,
    "start_time": "2022-07-02T20:58:00.936Z"
   },
   {
    "duration": 154,
    "start_time": "2022-07-02T20:58:01.091Z"
   },
   {
    "duration": 4412,
    "start_time": "2022-07-02T20:58:01.247Z"
   },
   {
    "duration": 4327,
    "start_time": "2022-07-02T20:58:05.661Z"
   },
   {
    "duration": 51,
    "start_time": "2022-07-02T20:58:20.110Z"
   },
   {
    "duration": 3,
    "start_time": "2022-07-02T20:58:25.875Z"
   },
   {
    "duration": 4346,
    "start_time": "2022-07-02T20:58:31.689Z"
   },
   {
    "duration": 1681,
    "start_time": "2022-07-02T21:01:08.512Z"
   },
   {
    "duration": 97,
    "start_time": "2022-07-02T21:01:37.810Z"
   },
   {
    "duration": 1755,
    "start_time": "2022-07-02T21:01:44.027Z"
   },
   {
    "duration": 357,
    "start_time": "2022-07-02T21:04:09.762Z"
   },
   {
    "duration": 354,
    "start_time": "2022-07-02T21:04:40.083Z"
   },
   {
    "duration": 360,
    "start_time": "2022-07-02T21:06:15.987Z"
   },
   {
    "duration": 381,
    "start_time": "2022-07-02T21:06:24.867Z"
   },
   {
    "duration": 48,
    "start_time": "2022-07-03T11:50:47.672Z"
   },
   {
    "duration": 1203,
    "start_time": "2022-07-03T11:50:51.189Z"
   },
   {
    "duration": 252,
    "start_time": "2022-07-03T11:50:52.394Z"
   },
   {
    "duration": 8,
    "start_time": "2022-07-03T11:50:52.647Z"
   },
   {
    "duration": 26,
    "start_time": "2022-07-03T11:50:52.657Z"
   },
   {
    "duration": 10,
    "start_time": "2022-07-03T11:50:52.685Z"
   },
   {
    "duration": 10,
    "start_time": "2022-07-03T11:50:52.697Z"
   },
   {
    "duration": 24,
    "start_time": "2022-07-03T11:50:52.708Z"
   },
   {
    "duration": 12,
    "start_time": "2022-07-03T11:50:52.733Z"
   },
   {
    "duration": 15,
    "start_time": "2022-07-03T11:50:52.746Z"
   },
   {
    "duration": 16,
    "start_time": "2022-07-03T11:50:52.762Z"
   },
   {
    "duration": 385,
    "start_time": "2022-07-03T11:50:52.779Z"
   },
   {
    "duration": 31,
    "start_time": "2022-07-03T11:50:53.165Z"
   },
   {
    "duration": 357,
    "start_time": "2022-07-03T11:50:53.198Z"
   },
   {
    "duration": 59,
    "start_time": "2022-07-03T11:50:53.558Z"
   },
   {
    "duration": 511,
    "start_time": "2022-07-03T11:50:53.629Z"
   },
   {
    "duration": 24,
    "start_time": "2022-07-03T11:50:54.146Z"
   },
   {
    "duration": 389,
    "start_time": "2022-07-03T11:50:54.172Z"
   },
   {
    "duration": 882,
    "start_time": "2022-07-03T11:50:54.562Z"
   },
   {
    "duration": 153,
    "start_time": "2022-07-03T11:50:55.447Z"
   },
   {
    "duration": 146,
    "start_time": "2022-07-03T11:50:55.602Z"
   },
   {
    "duration": 1771,
    "start_time": "2022-07-03T11:50:55.749Z"
   },
   {
    "duration": 1821,
    "start_time": "2022-07-03T11:50:57.521Z"
   },
   {
    "duration": 372,
    "start_time": "2022-07-03T11:50:59.344Z"
   },
   {
    "duration": 4,
    "start_time": "2022-07-03T11:50:59.718Z"
   },
   {
    "duration": 81,
    "start_time": "2022-07-03T11:50:59.728Z"
   },
   {
    "duration": 8,
    "start_time": "2022-07-03T11:51:19.942Z"
   },
   {
    "duration": 6,
    "start_time": "2022-07-03T11:52:52.605Z"
   },
   {
    "duration": 7,
    "start_time": "2022-07-03T11:53:42.077Z"
   },
   {
    "duration": 6,
    "start_time": "2022-07-03T11:54:36.573Z"
   },
   {
    "duration": 8,
    "start_time": "2022-07-03T11:54:41.741Z"
   },
   {
    "duration": 12,
    "start_time": "2022-07-03T11:55:06.839Z"
   },
   {
    "duration": 8,
    "start_time": "2022-07-03T11:55:15.973Z"
   },
   {
    "duration": 9,
    "start_time": "2022-07-03T11:55:53.040Z"
   },
   {
    "duration": 15,
    "start_time": "2022-07-03T11:56:12.274Z"
   },
   {
    "duration": 164,
    "start_time": "2022-07-03T11:57:17.927Z"
   },
   {
    "duration": 82,
    "start_time": "2022-07-03T11:57:28.698Z"
   },
   {
    "duration": 105,
    "start_time": "2022-07-03T11:58:10.207Z"
   },
   {
    "duration": 296,
    "start_time": "2022-07-03T11:58:46.374Z"
   },
   {
    "duration": 278,
    "start_time": "2022-07-03T11:59:06.998Z"
   },
   {
    "duration": 13,
    "start_time": "2022-07-03T12:12:36.744Z"
   },
   {
    "duration": 16,
    "start_time": "2022-07-03T12:13:17.040Z"
   },
   {
    "duration": 297,
    "start_time": "2022-07-03T12:14:04.903Z"
   },
   {
    "duration": 120,
    "start_time": "2022-07-03T12:50:11.694Z"
   },
   {
    "duration": 5,
    "start_time": "2022-07-03T12:50:19.006Z"
   },
   {
    "duration": 5,
    "start_time": "2022-07-03T12:50:23.322Z"
   },
   {
    "duration": 1431,
    "start_time": "2022-07-04T15:19:17.566Z"
   },
   {
    "duration": 233,
    "start_time": "2022-07-04T15:19:19.000Z"
   },
   {
    "duration": 8,
    "start_time": "2022-07-04T15:19:19.235Z"
   },
   {
    "duration": 20,
    "start_time": "2022-07-04T15:19:19.245Z"
   },
   {
    "duration": 12,
    "start_time": "2022-07-04T15:19:19.267Z"
   },
   {
    "duration": 9,
    "start_time": "2022-07-04T15:19:19.281Z"
   },
   {
    "duration": 10,
    "start_time": "2022-07-04T15:19:19.292Z"
   },
   {
    "duration": 11,
    "start_time": "2022-07-04T15:19:19.303Z"
   },
   {
    "duration": 13,
    "start_time": "2022-07-04T15:19:19.342Z"
   },
   {
    "duration": 17,
    "start_time": "2022-07-04T15:19:19.358Z"
   },
   {
    "duration": 407,
    "start_time": "2022-07-04T15:19:19.377Z"
   },
   {
    "duration": 33,
    "start_time": "2022-07-04T15:19:19.786Z"
   },
   {
    "duration": 375,
    "start_time": "2022-07-04T15:19:19.821Z"
   },
   {
    "duration": 69,
    "start_time": "2022-07-04T15:19:20.199Z"
   },
   {
    "duration": 497,
    "start_time": "2022-07-04T15:19:20.271Z"
   },
   {
    "duration": 27,
    "start_time": "2022-07-04T15:19:20.771Z"
   },
   {
    "duration": 423,
    "start_time": "2022-07-04T15:19:20.799Z"
   },
   {
    "duration": 916,
    "start_time": "2022-07-04T15:19:21.224Z"
   },
   {
    "duration": 171,
    "start_time": "2022-07-04T15:19:22.142Z"
   },
   {
    "duration": 171,
    "start_time": "2022-07-04T15:19:22.315Z"
   },
   {
    "duration": 1946,
    "start_time": "2022-07-04T15:19:22.488Z"
   },
   {
    "duration": 1984,
    "start_time": "2022-07-04T15:19:24.436Z"
   },
   {
    "duration": 442,
    "start_time": "2022-07-04T15:19:26.422Z"
   },
   {
    "duration": 22,
    "start_time": "2022-07-04T15:19:26.866Z"
   },
   {
    "duration": 389,
    "start_time": "2022-07-04T15:19:26.890Z"
   },
   {
    "duration": 18,
    "start_time": "2022-07-04T15:19:27.281Z"
   },
   {
    "duration": 456,
    "start_time": "2022-07-04T15:19:27.301Z"
   },
   {
    "duration": 6,
    "start_time": "2022-07-04T15:19:27.760Z"
   },
   {
    "duration": 102,
    "start_time": "2022-07-04T15:19:27.767Z"
   },
   {
    "duration": 4,
    "start_time": "2022-07-04T15:22:44.115Z"
   },
   {
    "duration": 79,
    "start_time": "2022-07-04T15:22:48.695Z"
   },
   {
    "duration": 110,
    "start_time": "2022-07-04T15:24:12.664Z"
   },
   {
    "duration": 220,
    "start_time": "2022-07-04T15:24:33.824Z"
   },
   {
    "duration": 226,
    "start_time": "2022-07-04T15:24:46.473Z"
   },
   {
    "duration": 236,
    "start_time": "2022-07-04T15:25:03.143Z"
   },
   {
    "duration": 207,
    "start_time": "2022-07-04T15:25:06.396Z"
   },
   {
    "duration": 2089,
    "start_time": "2022-07-04T15:25:39.240Z"
   },
   {
    "duration": 81,
    "start_time": "2022-07-04T15:26:08.124Z"
   },
   {
    "duration": 1922,
    "start_time": "2022-07-04T15:26:20.098Z"
   },
   {
    "duration": 6,
    "start_time": "2022-07-04T15:40:09.181Z"
   },
   {
    "duration": 11,
    "start_time": "2022-07-04T15:40:25.510Z"
   },
   {
    "duration": 4,
    "start_time": "2022-07-04T15:40:53.118Z"
   },
   {
    "duration": 94,
    "start_time": "2022-07-04T15:40:53.125Z"
   },
   {
    "duration": 10,
    "start_time": "2022-07-04T15:40:53.221Z"
   },
   {
    "duration": 18,
    "start_time": "2022-07-04T15:40:53.242Z"
   },
   {
    "duration": 11,
    "start_time": "2022-07-04T15:40:53.262Z"
   },
   {
    "duration": 10,
    "start_time": "2022-07-04T15:40:53.274Z"
   },
   {
    "duration": 9,
    "start_time": "2022-07-04T15:40:53.286Z"
   },
   {
    "duration": 45,
    "start_time": "2022-07-04T15:40:53.297Z"
   },
   {
    "duration": 13,
    "start_time": "2022-07-04T15:40:53.343Z"
   },
   {
    "duration": 18,
    "start_time": "2022-07-04T15:40:53.357Z"
   },
   {
    "duration": 390,
    "start_time": "2022-07-04T15:40:53.378Z"
   },
   {
    "duration": 30,
    "start_time": "2022-07-04T15:40:53.770Z"
   },
   {
    "duration": 552,
    "start_time": "2022-07-04T15:40:53.802Z"
   },
   {
    "duration": 85,
    "start_time": "2022-07-04T15:40:54.357Z"
   },
   {
    "duration": 458,
    "start_time": "2022-07-04T15:40:54.443Z"
   },
   {
    "duration": 26,
    "start_time": "2022-07-04T15:40:54.903Z"
   },
   {
    "duration": 424,
    "start_time": "2022-07-04T15:40:54.931Z"
   },
   {
    "duration": 842,
    "start_time": "2022-07-04T15:40:55.357Z"
   },
   {
    "duration": 176,
    "start_time": "2022-07-04T15:40:56.200Z"
   },
   {
    "duration": 176,
    "start_time": "2022-07-04T15:40:56.378Z"
   },
   {
    "duration": 2250,
    "start_time": "2022-07-04T15:40:56.557Z"
   },
   {
    "duration": 2255,
    "start_time": "2022-07-04T15:40:58.809Z"
   },
   {
    "duration": 459,
    "start_time": "2022-07-04T15:41:01.069Z"
   },
   {
    "duration": 27,
    "start_time": "2022-07-04T15:41:01.531Z"
   },
   {
    "duration": 329,
    "start_time": "2022-07-04T15:41:01.560Z"
   },
   {
    "duration": 17,
    "start_time": "2022-07-04T15:41:01.890Z"
   },
   {
    "duration": 349,
    "start_time": "2022-07-04T15:41:01.909Z"
   },
   {
    "duration": 262,
    "start_time": "2022-07-04T15:41:02.261Z"
   },
   {
    "duration": 247,
    "start_time": "2022-07-04T15:41:02.528Z"
   },
   {
    "duration": 224,
    "start_time": "2022-07-04T15:41:02.777Z"
   },
   {
    "duration": 6,
    "start_time": "2022-07-04T15:41:03.003Z"
   },
   {
    "duration": 10,
    "start_time": "2022-07-04T15:41:03.010Z"
   },
   {
    "duration": 4,
    "start_time": "2022-07-04T16:06:45.237Z"
   },
   {
    "duration": 4,
    "start_time": "2022-07-04T16:06:57.925Z"
   },
   {
    "duration": 5,
    "start_time": "2022-07-04T16:10:32.615Z"
   },
   {
    "duration": 5,
    "start_time": "2022-07-04T16:10:33.464Z"
   },
   {
    "duration": 11,
    "start_time": "2022-07-04T16:12:02.556Z"
   },
   {
    "duration": 10,
    "start_time": "2022-07-04T16:12:09.861Z"
   },
   {
    "duration": 10,
    "start_time": "2022-07-04T16:12:16.990Z"
   },
   {
    "duration": 9,
    "start_time": "2022-07-04T16:13:34.223Z"
   },
   {
    "duration": 10,
    "start_time": "2022-07-04T16:14:05.865Z"
   },
   {
    "duration": 12,
    "start_time": "2022-07-04T16:14:07.513Z"
   },
   {
    "duration": 1288,
    "start_time": "2022-07-04T16:14:36.249Z"
   },
   {
    "duration": 87,
    "start_time": "2022-07-04T16:14:37.539Z"
   },
   {
    "duration": 9,
    "start_time": "2022-07-04T16:14:37.627Z"
   },
   {
    "duration": 22,
    "start_time": "2022-07-04T16:14:37.638Z"
   },
   {
    "duration": 12,
    "start_time": "2022-07-04T16:14:37.662Z"
   },
   {
    "duration": 8,
    "start_time": "2022-07-04T16:14:37.675Z"
   },
   {
    "duration": 9,
    "start_time": "2022-07-04T16:14:37.685Z"
   },
   {
    "duration": 13,
    "start_time": "2022-07-04T16:14:37.696Z"
   },
   {
    "duration": 39,
    "start_time": "2022-07-04T16:14:37.710Z"
   },
   {
    "duration": 22,
    "start_time": "2022-07-04T16:14:37.751Z"
   },
   {
    "duration": 379,
    "start_time": "2022-07-04T16:14:37.775Z"
   },
   {
    "duration": 31,
    "start_time": "2022-07-04T16:14:38.156Z"
   },
   {
    "duration": 374,
    "start_time": "2022-07-04T16:14:38.189Z"
   },
   {
    "duration": 63,
    "start_time": "2022-07-04T16:14:38.566Z"
   },
   {
    "duration": 474,
    "start_time": "2022-07-04T16:14:38.642Z"
   },
   {
    "duration": 32,
    "start_time": "2022-07-04T16:14:39.117Z"
   },
   {
    "duration": 436,
    "start_time": "2022-07-04T16:14:39.150Z"
   },
   {
    "duration": 943,
    "start_time": "2022-07-04T16:14:39.587Z"
   },
   {
    "duration": 168,
    "start_time": "2022-07-04T16:14:40.532Z"
   },
   {
    "duration": 152,
    "start_time": "2022-07-04T16:14:40.702Z"
   },
   {
    "duration": 1961,
    "start_time": "2022-07-04T16:14:40.856Z"
   },
   {
    "duration": 1914,
    "start_time": "2022-07-04T16:14:42.819Z"
   },
   {
    "duration": 450,
    "start_time": "2022-07-04T16:14:44.735Z"
   },
   {
    "duration": 19,
    "start_time": "2022-07-04T16:14:45.187Z"
   },
   {
    "duration": 349,
    "start_time": "2022-07-04T16:14:45.208Z"
   },
   {
    "duration": 21,
    "start_time": "2022-07-04T16:14:45.559Z"
   },
   {
    "duration": 490,
    "start_time": "2022-07-04T16:14:45.582Z"
   },
   {
    "duration": 255,
    "start_time": "2022-07-04T16:14:46.074Z"
   },
   {
    "duration": 255,
    "start_time": "2022-07-04T16:14:46.331Z"
   },
   {
    "duration": 323,
    "start_time": "2022-07-04T16:14:46.589Z"
   },
   {
    "duration": 7,
    "start_time": "2022-07-04T16:14:46.914Z"
   },
   {
    "duration": 20,
    "start_time": "2022-07-04T16:14:46.924Z"
   },
   {
    "duration": 19,
    "start_time": "2022-07-04T16:14:46.946Z"
   },
   {
    "duration": 7,
    "start_time": "2022-07-04T16:15:22.741Z"
   },
   {
    "duration": 19,
    "start_time": "2022-07-04T16:15:23.412Z"
   },
   {
    "duration": 352,
    "start_time": "2022-07-04T16:15:24.684Z"
   },
   {
    "duration": 10,
    "start_time": "2022-07-04T16:18:36.726Z"
   },
   {
    "duration": 13,
    "start_time": "2022-07-04T16:20:19.165Z"
   },
   {
    "duration": 19,
    "start_time": "2022-07-04T16:20:32.934Z"
   },
   {
    "duration": 371,
    "start_time": "2022-07-04T16:20:38.978Z"
   },
   {
    "duration": 32,
    "start_time": "2022-07-04T16:20:44.063Z"
   },
   {
    "duration": 1246,
    "start_time": "2022-07-04T16:20:51.755Z"
   },
   {
    "duration": 89,
    "start_time": "2022-07-04T16:20:53.003Z"
   },
   {
    "duration": 8,
    "start_time": "2022-07-04T16:20:53.094Z"
   },
   {
    "duration": 21,
    "start_time": "2022-07-04T16:20:53.105Z"
   },
   {
    "duration": 14,
    "start_time": "2022-07-04T16:20:53.141Z"
   },
   {
    "duration": 8,
    "start_time": "2022-07-04T16:20:53.157Z"
   },
   {
    "duration": 5,
    "start_time": "2022-07-04T16:20:53.167Z"
   },
   {
    "duration": 11,
    "start_time": "2022-07-04T16:20:53.175Z"
   },
   {
    "duration": 15,
    "start_time": "2022-07-04T16:20:53.188Z"
   },
   {
    "duration": 22,
    "start_time": "2022-07-04T16:20:53.241Z"
   },
   {
    "duration": 418,
    "start_time": "2022-07-04T16:20:53.265Z"
   },
   {
    "duration": 33,
    "start_time": "2022-07-04T16:20:53.685Z"
   },
   {
    "duration": 388,
    "start_time": "2022-07-04T16:20:53.720Z"
   },
   {
    "duration": 69,
    "start_time": "2022-07-04T16:20:54.110Z"
   },
   {
    "duration": 491,
    "start_time": "2022-07-04T16:20:54.180Z"
   },
   {
    "duration": 27,
    "start_time": "2022-07-04T16:20:54.673Z"
   },
   {
    "duration": 434,
    "start_time": "2022-07-04T16:20:54.702Z"
   },
   {
    "duration": 894,
    "start_time": "2022-07-04T16:20:55.139Z"
   },
   {
    "duration": 177,
    "start_time": "2022-07-04T16:20:56.035Z"
   },
   {
    "duration": 165,
    "start_time": "2022-07-04T16:20:56.214Z"
   },
   {
    "duration": 2017,
    "start_time": "2022-07-04T16:20:56.381Z"
   },
   {
    "duration": 2098,
    "start_time": "2022-07-04T16:20:58.400Z"
   },
   {
    "duration": 431,
    "start_time": "2022-07-04T16:21:00.500Z"
   },
   {
    "duration": 21,
    "start_time": "2022-07-04T16:21:00.933Z"
   },
   {
    "duration": 310,
    "start_time": "2022-07-04T16:21:00.955Z"
   },
   {
    "duration": 16,
    "start_time": "2022-07-04T16:21:01.267Z"
   },
   {
    "duration": 445,
    "start_time": "2022-07-04T16:21:01.284Z"
   },
   {
    "duration": 239,
    "start_time": "2022-07-04T16:21:01.732Z"
   },
   {
    "duration": 213,
    "start_time": "2022-07-04T16:21:01.972Z"
   },
   {
    "duration": 223,
    "start_time": "2022-07-04T16:21:02.187Z"
   },
   {
    "duration": 7,
    "start_time": "2022-07-04T16:21:02.412Z"
   },
   {
    "duration": 9,
    "start_time": "2022-07-04T16:21:02.421Z"
   },
   {
    "duration": 11,
    "start_time": "2022-07-04T16:21:02.442Z"
   },
   {
    "duration": 4,
    "start_time": "2022-07-04T16:25:13.100Z"
   },
   {
    "duration": 10,
    "start_time": "2022-07-04T16:25:26.070Z"
   },
   {
    "duration": 9,
    "start_time": "2022-07-04T16:25:40.212Z"
   },
   {
    "duration": 9,
    "start_time": "2022-07-04T16:25:40.916Z"
   },
   {
    "duration": 6,
    "start_time": "2022-07-04T16:26:12.944Z"
   },
   {
    "duration": 7,
    "start_time": "2022-07-04T16:26:46.921Z"
   },
   {
    "duration": 112,
    "start_time": "2022-07-04T16:27:21.254Z"
   },
   {
    "duration": 11,
    "start_time": "2022-07-04T16:27:28.018Z"
   },
   {
    "duration": 12,
    "start_time": "2022-07-04T16:27:34.114Z"
   },
   {
    "duration": 6,
    "start_time": "2022-07-04T16:29:25.869Z"
   },
   {
    "duration": 5,
    "start_time": "2022-07-04T16:30:37.746Z"
   },
   {
    "duration": 7,
    "start_time": "2022-07-04T16:30:44.005Z"
   },
   {
    "duration": 5,
    "start_time": "2022-07-04T16:31:10.845Z"
   },
   {
    "duration": 4,
    "start_time": "2022-07-04T16:38:03.199Z"
   },
   {
    "duration": 6,
    "start_time": "2022-07-04T16:39:25.205Z"
   },
   {
    "duration": 1412,
    "start_time": "2022-07-04T18:14:55.765Z"
   },
   {
    "duration": 108,
    "start_time": "2022-07-04T18:14:57.179Z"
   },
   {
    "duration": 9,
    "start_time": "2022-07-04T18:14:57.289Z"
   },
   {
    "duration": 18,
    "start_time": "2022-07-04T18:14:57.301Z"
   },
   {
    "duration": 30,
    "start_time": "2022-07-04T18:14:57.321Z"
   },
   {
    "duration": 11,
    "start_time": "2022-07-04T18:14:57.352Z"
   },
   {
    "duration": 7,
    "start_time": "2022-07-04T18:14:57.365Z"
   },
   {
    "duration": 14,
    "start_time": "2022-07-04T18:14:57.374Z"
   },
   {
    "duration": 19,
    "start_time": "2022-07-04T18:14:57.390Z"
   },
   {
    "duration": 23,
    "start_time": "2022-07-04T18:14:57.448Z"
   },
   {
    "duration": 415,
    "start_time": "2022-07-04T18:14:57.474Z"
   },
   {
    "duration": 42,
    "start_time": "2022-07-04T18:14:57.891Z"
   },
   {
    "duration": 375,
    "start_time": "2022-07-04T18:14:57.945Z"
   },
   {
    "duration": 87,
    "start_time": "2022-07-04T18:14:58.322Z"
   },
   {
    "duration": 587,
    "start_time": "2022-07-04T18:14:58.411Z"
   },
   {
    "duration": 48,
    "start_time": "2022-07-04T18:14:59.000Z"
   },
   {
    "duration": 529,
    "start_time": "2022-07-04T18:14:59.050Z"
   },
   {
    "duration": 935,
    "start_time": "2022-07-04T18:14:59.582Z"
   },
   {
    "duration": 172,
    "start_time": "2022-07-04T18:15:00.519Z"
   },
   {
    "duration": 241,
    "start_time": "2022-07-04T18:15:00.692Z"
   },
   {
    "duration": 2190,
    "start_time": "2022-07-04T18:15:00.935Z"
   },
   {
    "duration": 2161,
    "start_time": "2022-07-04T18:15:03.127Z"
   },
   {
    "duration": 432,
    "start_time": "2022-07-04T18:15:05.290Z"
   },
   {
    "duration": 27,
    "start_time": "2022-07-04T18:15:05.723Z"
   },
   {
    "duration": 329,
    "start_time": "2022-07-04T18:15:05.754Z"
   },
   {
    "duration": 20,
    "start_time": "2022-07-04T18:15:06.085Z"
   },
   {
    "duration": 575,
    "start_time": "2022-07-04T18:15:06.107Z"
   },
   {
    "duration": 324,
    "start_time": "2022-07-04T18:15:06.687Z"
   },
   {
    "duration": 315,
    "start_time": "2022-07-04T18:15:07.013Z"
   },
   {
    "duration": 334,
    "start_time": "2022-07-04T18:15:07.330Z"
   },
   {
    "duration": 14,
    "start_time": "2022-07-04T18:15:07.666Z"
   },
   {
    "duration": 177,
    "start_time": "2022-07-04T18:15:07.682Z"
   },
   {
    "duration": 0,
    "start_time": "2022-07-04T18:15:07.861Z"
   },
   {
    "duration": 0,
    "start_time": "2022-07-04T18:15:07.863Z"
   },
   {
    "duration": 0,
    "start_time": "2022-07-04T18:15:07.865Z"
   },
   {
    "duration": 0,
    "start_time": "2022-07-04T18:15:07.867Z"
   },
   {
    "duration": 24,
    "start_time": "2022-07-04T18:17:39.290Z"
   },
   {
    "duration": 9,
    "start_time": "2022-07-04T18:18:19.548Z"
   },
   {
    "duration": 10,
    "start_time": "2022-07-04T18:18:40.000Z"
   },
   {
    "duration": 38,
    "start_time": "2022-07-04T18:25:04.877Z"
   },
   {
    "duration": 347,
    "start_time": "2022-07-04T18:25:05.840Z"
   },
   {
    "duration": 41,
    "start_time": "2022-07-04T18:27:04.365Z"
   },
   {
    "duration": 262,
    "start_time": "2022-07-04T18:27:08.604Z"
   },
   {
    "duration": 1187,
    "start_time": "2022-07-04T18:27:44.710Z"
   },
   {
    "duration": 71,
    "start_time": "2022-07-04T18:27:45.900Z"
   },
   {
    "duration": 9,
    "start_time": "2022-07-04T18:27:45.972Z"
   },
   {
    "duration": 26,
    "start_time": "2022-07-04T18:27:45.984Z"
   },
   {
    "duration": 13,
    "start_time": "2022-07-04T18:27:46.012Z"
   },
   {
    "duration": 24,
    "start_time": "2022-07-04T18:27:46.027Z"
   },
   {
    "duration": 16,
    "start_time": "2022-07-04T18:27:46.053Z"
   },
   {
    "duration": 10,
    "start_time": "2022-07-04T18:27:46.070Z"
   },
   {
    "duration": 14,
    "start_time": "2022-07-04T18:27:46.081Z"
   },
   {
    "duration": 17,
    "start_time": "2022-07-04T18:27:46.098Z"
   },
   {
    "duration": 386,
    "start_time": "2022-07-04T18:27:46.116Z"
   },
   {
    "duration": 43,
    "start_time": "2022-07-04T18:27:46.504Z"
   },
   {
    "duration": 229,
    "start_time": "2022-07-04T18:27:46.548Z"
   },
   {
    "duration": 46,
    "start_time": "2022-07-04T18:27:46.778Z"
   },
   {
    "duration": 509,
    "start_time": "2022-07-04T18:27:46.825Z"
   },
   {
    "duration": 33,
    "start_time": "2022-07-04T18:27:47.335Z"
   },
   {
    "duration": 406,
    "start_time": "2022-07-04T18:27:47.370Z"
   },
   {
    "duration": 900,
    "start_time": "2022-07-04T18:27:47.778Z"
   },
   {
    "duration": 168,
    "start_time": "2022-07-04T18:27:48.681Z"
   },
   {
    "duration": 204,
    "start_time": "2022-07-04T18:27:48.851Z"
   },
   {
    "duration": 1923,
    "start_time": "2022-07-04T18:27:49.057Z"
   },
   {
    "duration": 1894,
    "start_time": "2022-07-04T18:27:50.982Z"
   },
   {
    "duration": 427,
    "start_time": "2022-07-04T18:27:52.878Z"
   },
   {
    "duration": 18,
    "start_time": "2022-07-04T18:27:53.307Z"
   },
   {
    "duration": 306,
    "start_time": "2022-07-04T18:27:53.327Z"
   },
   {
    "duration": 22,
    "start_time": "2022-07-04T18:27:53.635Z"
   },
   {
    "duration": 443,
    "start_time": "2022-07-04T18:27:53.658Z"
   },
   {
    "duration": 217,
    "start_time": "2022-07-04T18:27:54.104Z"
   },
   {
    "duration": 207,
    "start_time": "2022-07-04T18:27:54.323Z"
   },
   {
    "duration": 209,
    "start_time": "2022-07-04T18:27:54.531Z"
   },
   {
    "duration": 11,
    "start_time": "2022-07-04T18:27:54.746Z"
   },
   {
    "duration": 111,
    "start_time": "2022-07-04T18:27:54.759Z"
   },
   {
    "duration": 0,
    "start_time": "2022-07-04T18:27:54.871Z"
   },
   {
    "duration": 0,
    "start_time": "2022-07-04T18:27:54.872Z"
   },
   {
    "duration": 0,
    "start_time": "2022-07-04T18:27:54.873Z"
   },
   {
    "duration": 0,
    "start_time": "2022-07-04T18:27:54.874Z"
   },
   {
    "duration": 10,
    "start_time": "2022-07-04T18:28:04.560Z"
   },
   {
    "duration": 6,
    "start_time": "2022-07-04T18:28:08.672Z"
   },
   {
    "duration": 7,
    "start_time": "2022-07-04T18:28:11.644Z"
   },
   {
    "duration": 6,
    "start_time": "2022-07-04T18:28:25.333Z"
   },
   {
    "duration": 11,
    "start_time": "2022-07-04T18:36:39.044Z"
   },
   {
    "duration": 14,
    "start_time": "2022-07-04T18:36:48.245Z"
   },
   {
    "duration": 10,
    "start_time": "2022-07-04T18:39:49.086Z"
   },
   {
    "duration": 1578,
    "start_time": "2022-07-06T00:34:45.579Z"
   },
   {
    "duration": 506,
    "start_time": "2022-07-06T00:34:47.160Z"
   },
   {
    "duration": 8,
    "start_time": "2022-07-06T00:34:47.668Z"
   },
   {
    "duration": 17,
    "start_time": "2022-07-06T00:34:47.678Z"
   },
   {
    "duration": 13,
    "start_time": "2022-07-06T00:34:47.696Z"
   },
   {
    "duration": 14,
    "start_time": "2022-07-06T00:34:47.711Z"
   },
   {
    "duration": 10,
    "start_time": "2022-07-06T00:34:47.727Z"
   },
   {
    "duration": 10,
    "start_time": "2022-07-06T00:34:47.739Z"
   },
   {
    "duration": 62,
    "start_time": "2022-07-06T00:34:47.752Z"
   },
   {
    "duration": 19,
    "start_time": "2022-07-06T00:34:47.819Z"
   },
   {
    "duration": 503,
    "start_time": "2022-07-06T00:34:47.841Z"
   },
   {
    "duration": 0,
    "start_time": "2022-07-06T00:34:48.346Z"
   },
   {
    "duration": 0,
    "start_time": "2022-07-06T00:34:48.347Z"
   },
   {
    "duration": 0,
    "start_time": "2022-07-06T00:34:48.348Z"
   },
   {
    "duration": 0,
    "start_time": "2022-07-06T00:34:48.349Z"
   },
   {
    "duration": 0,
    "start_time": "2022-07-06T00:34:48.350Z"
   },
   {
    "duration": 0,
    "start_time": "2022-07-06T00:34:48.352Z"
   },
   {
    "duration": 0,
    "start_time": "2022-07-06T00:34:48.354Z"
   },
   {
    "duration": 0,
    "start_time": "2022-07-06T00:34:48.355Z"
   },
   {
    "duration": 0,
    "start_time": "2022-07-06T00:34:48.356Z"
   },
   {
    "duration": 0,
    "start_time": "2022-07-06T00:34:48.358Z"
   },
   {
    "duration": 0,
    "start_time": "2022-07-06T00:34:48.359Z"
   },
   {
    "duration": 0,
    "start_time": "2022-07-06T00:34:48.360Z"
   },
   {
    "duration": 0,
    "start_time": "2022-07-06T00:34:48.361Z"
   },
   {
    "duration": 0,
    "start_time": "2022-07-06T00:34:48.362Z"
   },
   {
    "duration": 0,
    "start_time": "2022-07-06T00:34:48.363Z"
   },
   {
    "duration": 0,
    "start_time": "2022-07-06T00:34:48.364Z"
   },
   {
    "duration": 0,
    "start_time": "2022-07-06T00:34:48.365Z"
   },
   {
    "duration": 0,
    "start_time": "2022-07-06T00:34:48.402Z"
   },
   {
    "duration": 0,
    "start_time": "2022-07-06T00:34:48.404Z"
   },
   {
    "duration": 0,
    "start_time": "2022-07-06T00:34:48.406Z"
   },
   {
    "duration": 0,
    "start_time": "2022-07-06T00:34:48.408Z"
   },
   {
    "duration": 1,
    "start_time": "2022-07-06T00:34:48.409Z"
   },
   {
    "duration": 0,
    "start_time": "2022-07-06T00:34:48.411Z"
   },
   {
    "duration": 0,
    "start_time": "2022-07-06T00:34:48.413Z"
   },
   {
    "duration": 0,
    "start_time": "2022-07-06T00:34:48.415Z"
   },
   {
    "duration": 11,
    "start_time": "2022-07-06T00:35:53.723Z"
   },
   {
    "duration": 3,
    "start_time": "2022-07-06T00:35:58.671Z"
   },
   {
    "duration": 88,
    "start_time": "2022-07-06T00:35:58.680Z"
   },
   {
    "duration": 9,
    "start_time": "2022-07-06T00:35:58.770Z"
   },
   {
    "duration": 36,
    "start_time": "2022-07-06T00:35:58.781Z"
   },
   {
    "duration": 11,
    "start_time": "2022-07-06T00:35:58.820Z"
   },
   {
    "duration": 8,
    "start_time": "2022-07-06T00:35:58.833Z"
   },
   {
    "duration": 10,
    "start_time": "2022-07-06T00:35:58.843Z"
   },
   {
    "duration": 43,
    "start_time": "2022-07-06T00:35:58.855Z"
   },
   {
    "duration": 32,
    "start_time": "2022-07-06T00:35:58.900Z"
   },
   {
    "duration": 20,
    "start_time": "2022-07-06T00:35:58.934Z"
   },
   {
    "duration": 406,
    "start_time": "2022-07-06T00:35:58.957Z"
   },
   {
    "duration": 0,
    "start_time": "2022-07-06T00:35:59.365Z"
   },
   {
    "duration": 0,
    "start_time": "2022-07-06T00:35:59.366Z"
   },
   {
    "duration": 0,
    "start_time": "2022-07-06T00:35:59.367Z"
   },
   {
    "duration": 0,
    "start_time": "2022-07-06T00:35:59.368Z"
   },
   {
    "duration": 0,
    "start_time": "2022-07-06T00:35:59.369Z"
   },
   {
    "duration": 0,
    "start_time": "2022-07-06T00:35:59.371Z"
   },
   {
    "duration": 0,
    "start_time": "2022-07-06T00:35:59.372Z"
   },
   {
    "duration": 0,
    "start_time": "2022-07-06T00:35:59.373Z"
   },
   {
    "duration": 0,
    "start_time": "2022-07-06T00:35:59.374Z"
   },
   {
    "duration": 0,
    "start_time": "2022-07-06T00:35:59.375Z"
   },
   {
    "duration": 0,
    "start_time": "2022-07-06T00:35:59.376Z"
   },
   {
    "duration": 0,
    "start_time": "2022-07-06T00:35:59.398Z"
   },
   {
    "duration": 0,
    "start_time": "2022-07-06T00:35:59.399Z"
   },
   {
    "duration": 0,
    "start_time": "2022-07-06T00:35:59.401Z"
   },
   {
    "duration": 0,
    "start_time": "2022-07-06T00:35:59.405Z"
   },
   {
    "duration": 0,
    "start_time": "2022-07-06T00:35:59.407Z"
   },
   {
    "duration": 0,
    "start_time": "2022-07-06T00:35:59.408Z"
   },
   {
    "duration": 0,
    "start_time": "2022-07-06T00:35:59.410Z"
   },
   {
    "duration": 0,
    "start_time": "2022-07-06T00:35:59.412Z"
   },
   {
    "duration": 0,
    "start_time": "2022-07-06T00:35:59.414Z"
   },
   {
    "duration": 0,
    "start_time": "2022-07-06T00:35:59.416Z"
   },
   {
    "duration": 0,
    "start_time": "2022-07-06T00:35:59.417Z"
   },
   {
    "duration": 0,
    "start_time": "2022-07-06T00:35:59.419Z"
   },
   {
    "duration": 0,
    "start_time": "2022-07-06T00:35:59.421Z"
   },
   {
    "duration": 0,
    "start_time": "2022-07-06T00:35:59.422Z"
   },
   {
    "duration": 1293,
    "start_time": "2022-07-06T00:37:45.177Z"
   },
   {
    "duration": 90,
    "start_time": "2022-07-06T00:37:46.473Z"
   },
   {
    "duration": 10,
    "start_time": "2022-07-06T00:37:46.565Z"
   },
   {
    "duration": 44,
    "start_time": "2022-07-06T00:37:46.577Z"
   },
   {
    "duration": 17,
    "start_time": "2022-07-06T00:37:46.624Z"
   },
   {
    "duration": 16,
    "start_time": "2022-07-06T00:37:46.644Z"
   },
   {
    "duration": 39,
    "start_time": "2022-07-06T00:37:46.663Z"
   },
   {
    "duration": 15,
    "start_time": "2022-07-06T00:37:46.704Z"
   },
   {
    "duration": 29,
    "start_time": "2022-07-06T00:37:46.722Z"
   },
   {
    "duration": 60,
    "start_time": "2022-07-06T00:37:46.754Z"
   },
   {
    "duration": 438,
    "start_time": "2022-07-06T00:37:46.817Z"
   },
   {
    "duration": 43,
    "start_time": "2022-07-06T00:37:47.257Z"
   },
   {
    "duration": 264,
    "start_time": "2022-07-06T00:37:47.302Z"
   },
   {
    "duration": 65,
    "start_time": "2022-07-06T00:37:47.568Z"
   },
   {
    "duration": 501,
    "start_time": "2022-07-06T00:37:47.635Z"
   },
   {
    "duration": 31,
    "start_time": "2022-07-06T00:37:48.138Z"
   },
   {
    "duration": 467,
    "start_time": "2022-07-06T00:37:48.171Z"
   },
   {
    "duration": 1010,
    "start_time": "2022-07-06T00:37:48.640Z"
   },
   {
    "duration": 199,
    "start_time": "2022-07-06T00:37:49.653Z"
   },
   {
    "duration": 197,
    "start_time": "2022-07-06T00:37:49.853Z"
   },
   {
    "duration": 2060,
    "start_time": "2022-07-06T00:37:50.052Z"
   },
   {
    "duration": 2075,
    "start_time": "2022-07-06T00:37:52.115Z"
   },
   {
    "duration": 439,
    "start_time": "2022-07-06T00:37:54.192Z"
   },
   {
    "duration": 17,
    "start_time": "2022-07-06T00:37:54.632Z"
   },
   {
    "duration": 338,
    "start_time": "2022-07-06T00:37:54.651Z"
   },
   {
    "duration": 25,
    "start_time": "2022-07-06T00:37:54.998Z"
   },
   {
    "duration": 475,
    "start_time": "2022-07-06T00:37:55.025Z"
   },
   {
    "duration": 243,
    "start_time": "2022-07-06T00:37:55.505Z"
   },
   {
    "duration": 225,
    "start_time": "2022-07-06T00:37:55.750Z"
   },
   {
    "duration": 229,
    "start_time": "2022-07-06T00:37:55.977Z"
   },
   {
    "duration": 14,
    "start_time": "2022-07-06T00:37:56.208Z"
   },
   {
    "duration": 12,
    "start_time": "2022-07-06T00:37:56.224Z"
   },
   {
    "duration": 134,
    "start_time": "2022-07-06T00:37:56.238Z"
   },
   {
    "duration": 0,
    "start_time": "2022-07-06T00:37:56.374Z"
   },
   {
    "duration": 0,
    "start_time": "2022-07-06T00:37:56.375Z"
   },
   {
    "duration": 0,
    "start_time": "2022-07-06T00:37:56.376Z"
   },
   {
    "duration": 10,
    "start_time": "2022-07-06T00:38:01.653Z"
   },
   {
    "duration": 10,
    "start_time": "2022-07-06T00:38:03.926Z"
   },
   {
    "duration": 7,
    "start_time": "2022-07-06T00:38:05.988Z"
   },
   {
    "duration": 9,
    "start_time": "2022-07-06T00:38:08.414Z"
   },
   {
    "duration": 6,
    "start_time": "2022-07-06T00:38:09.474Z"
   },
   {
    "duration": 8,
    "start_time": "2022-07-06T00:39:32.322Z"
   },
   {
    "duration": 11,
    "start_time": "2022-07-06T00:39:32.754Z"
   },
   {
    "duration": 13,
    "start_time": "2022-07-06T00:39:39.729Z"
   },
   {
    "duration": 8,
    "start_time": "2022-07-06T00:39:40.419Z"
   },
   {
    "duration": 10,
    "start_time": "2022-07-06T00:39:41.529Z"
   },
   {
    "duration": 8,
    "start_time": "2022-07-06T00:40:02.705Z"
   },
   {
    "duration": 10,
    "start_time": "2022-07-06T00:40:06.103Z"
   },
   {
    "duration": 7,
    "start_time": "2022-07-06T00:40:06.264Z"
   },
   {
    "duration": 7,
    "start_time": "2022-07-06T00:40:07.295Z"
   },
   {
    "duration": 9,
    "start_time": "2022-07-06T00:42:09.487Z"
   },
   {
    "duration": 9,
    "start_time": "2022-07-06T00:42:57.310Z"
   },
   {
    "duration": 21,
    "start_time": "2022-07-06T00:43:52.833Z"
   },
   {
    "duration": 508,
    "start_time": "2022-07-06T00:45:21.144Z"
   },
   {
    "duration": 481,
    "start_time": "2022-07-06T00:45:30.213Z"
   },
   {
    "duration": 516,
    "start_time": "2022-07-06T00:45:34.991Z"
   },
   {
    "duration": 512,
    "start_time": "2022-07-06T00:47:41.401Z"
   },
   {
    "duration": 471,
    "start_time": "2022-07-06T00:47:55.011Z"
   },
   {
    "duration": 508,
    "start_time": "2022-07-06T00:47:59.968Z"
   },
   {
    "duration": 353,
    "start_time": "2022-07-06T00:48:27.839Z"
   },
   {
    "duration": 490,
    "start_time": "2022-07-06T00:48:34.908Z"
   },
   {
    "duration": 30,
    "start_time": "2022-07-06T00:49:08.996Z"
   },
   {
    "duration": 410,
    "start_time": "2022-07-06T00:49:12.311Z"
   },
   {
    "duration": 753,
    "start_time": "2022-07-06T00:51:28.369Z"
   },
   {
    "duration": 883,
    "start_time": "2022-07-06T00:51:48.850Z"
   },
   {
    "duration": 8,
    "start_time": "2022-07-06T01:00:35.103Z"
   },
   {
    "duration": 1156,
    "start_time": "2022-07-06T01:00:45.500Z"
   },
   {
    "duration": 90,
    "start_time": "2022-07-06T01:00:46.658Z"
   },
   {
    "duration": 13,
    "start_time": "2022-07-06T01:00:46.750Z"
   },
   {
    "duration": 47,
    "start_time": "2022-07-06T01:00:46.767Z"
   },
   {
    "duration": 15,
    "start_time": "2022-07-06T01:00:46.816Z"
   },
   {
    "duration": 26,
    "start_time": "2022-07-06T01:00:46.833Z"
   },
   {
    "duration": 154,
    "start_time": "2022-07-06T01:00:46.861Z"
   },
   {
    "duration": 0,
    "start_time": "2022-07-06T01:00:47.018Z"
   },
   {
    "duration": 0,
    "start_time": "2022-07-06T01:00:47.019Z"
   },
   {
    "duration": 0,
    "start_time": "2022-07-06T01:00:47.020Z"
   },
   {
    "duration": 0,
    "start_time": "2022-07-06T01:00:47.022Z"
   },
   {
    "duration": 0,
    "start_time": "2022-07-06T01:00:47.023Z"
   },
   {
    "duration": 0,
    "start_time": "2022-07-06T01:00:47.024Z"
   },
   {
    "duration": 0,
    "start_time": "2022-07-06T01:00:47.025Z"
   },
   {
    "duration": 0,
    "start_time": "2022-07-06T01:00:47.025Z"
   },
   {
    "duration": 0,
    "start_time": "2022-07-06T01:00:47.027Z"
   },
   {
    "duration": 0,
    "start_time": "2022-07-06T01:00:47.028Z"
   },
   {
    "duration": 0,
    "start_time": "2022-07-06T01:00:47.030Z"
   },
   {
    "duration": 0,
    "start_time": "2022-07-06T01:00:47.031Z"
   },
   {
    "duration": 0,
    "start_time": "2022-07-06T01:00:47.033Z"
   },
   {
    "duration": 0,
    "start_time": "2022-07-06T01:00:47.034Z"
   },
   {
    "duration": 0,
    "start_time": "2022-07-06T01:00:47.035Z"
   },
   {
    "duration": 0,
    "start_time": "2022-07-06T01:00:47.037Z"
   },
   {
    "duration": 0,
    "start_time": "2022-07-06T01:00:47.038Z"
   },
   {
    "duration": 0,
    "start_time": "2022-07-06T01:00:47.040Z"
   },
   {
    "duration": 0,
    "start_time": "2022-07-06T01:00:47.042Z"
   },
   {
    "duration": 0,
    "start_time": "2022-07-06T01:00:47.043Z"
   },
   {
    "duration": 0,
    "start_time": "2022-07-06T01:00:47.045Z"
   },
   {
    "duration": 0,
    "start_time": "2022-07-06T01:00:47.046Z"
   },
   {
    "duration": 0,
    "start_time": "2022-07-06T01:00:47.047Z"
   },
   {
    "duration": 0,
    "start_time": "2022-07-06T01:00:47.099Z"
   },
   {
    "duration": 1,
    "start_time": "2022-07-06T01:00:47.100Z"
   },
   {
    "duration": 0,
    "start_time": "2022-07-06T01:00:47.102Z"
   },
   {
    "duration": 0,
    "start_time": "2022-07-06T01:00:47.103Z"
   },
   {
    "duration": 0,
    "start_time": "2022-07-06T01:00:47.105Z"
   },
   {
    "duration": 0,
    "start_time": "2022-07-06T01:00:47.106Z"
   },
   {
    "duration": 9,
    "start_time": "2022-07-06T01:01:04.466Z"
   },
   {
    "duration": 1149,
    "start_time": "2022-07-06T01:01:08.819Z"
   },
   {
    "duration": 80,
    "start_time": "2022-07-06T01:01:09.970Z"
   },
   {
    "duration": 8,
    "start_time": "2022-07-06T01:01:10.052Z"
   },
   {
    "duration": 34,
    "start_time": "2022-07-06T01:01:10.062Z"
   },
   {
    "duration": 11,
    "start_time": "2022-07-06T01:01:10.098Z"
   },
   {
    "duration": 16,
    "start_time": "2022-07-06T01:01:10.110Z"
   },
   {
    "duration": 124,
    "start_time": "2022-07-06T01:01:10.128Z"
   },
   {
    "duration": 0,
    "start_time": "2022-07-06T01:01:10.254Z"
   },
   {
    "duration": 0,
    "start_time": "2022-07-06T01:01:10.256Z"
   },
   {
    "duration": 0,
    "start_time": "2022-07-06T01:01:10.257Z"
   },
   {
    "duration": 0,
    "start_time": "2022-07-06T01:01:10.257Z"
   },
   {
    "duration": 0,
    "start_time": "2022-07-06T01:01:10.258Z"
   },
   {
    "duration": 0,
    "start_time": "2022-07-06T01:01:10.259Z"
   },
   {
    "duration": 0,
    "start_time": "2022-07-06T01:01:10.260Z"
   },
   {
    "duration": 0,
    "start_time": "2022-07-06T01:01:10.261Z"
   },
   {
    "duration": 0,
    "start_time": "2022-07-06T01:01:10.262Z"
   },
   {
    "duration": 0,
    "start_time": "2022-07-06T01:01:10.263Z"
   },
   {
    "duration": 0,
    "start_time": "2022-07-06T01:01:10.264Z"
   },
   {
    "duration": 0,
    "start_time": "2022-07-06T01:01:10.265Z"
   },
   {
    "duration": 0,
    "start_time": "2022-07-06T01:01:10.266Z"
   },
   {
    "duration": 0,
    "start_time": "2022-07-06T01:01:10.267Z"
   },
   {
    "duration": 0,
    "start_time": "2022-07-06T01:01:10.269Z"
   },
   {
    "duration": 0,
    "start_time": "2022-07-06T01:01:10.298Z"
   },
   {
    "duration": 0,
    "start_time": "2022-07-06T01:01:10.299Z"
   },
   {
    "duration": 0,
    "start_time": "2022-07-06T01:01:10.300Z"
   },
   {
    "duration": 0,
    "start_time": "2022-07-06T01:01:10.301Z"
   },
   {
    "duration": 0,
    "start_time": "2022-07-06T01:01:10.302Z"
   },
   {
    "duration": 0,
    "start_time": "2022-07-06T01:01:10.304Z"
   },
   {
    "duration": 0,
    "start_time": "2022-07-06T01:01:10.305Z"
   },
   {
    "duration": 0,
    "start_time": "2022-07-06T01:01:10.306Z"
   },
   {
    "duration": 0,
    "start_time": "2022-07-06T01:01:10.307Z"
   },
   {
    "duration": 0,
    "start_time": "2022-07-06T01:01:10.308Z"
   },
   {
    "duration": 0,
    "start_time": "2022-07-06T01:01:10.309Z"
   },
   {
    "duration": 0,
    "start_time": "2022-07-06T01:01:10.310Z"
   },
   {
    "duration": 0,
    "start_time": "2022-07-06T01:01:10.311Z"
   },
   {
    "duration": 0,
    "start_time": "2022-07-06T01:01:10.313Z"
   },
   {
    "duration": 11,
    "start_time": "2022-07-06T01:03:23.450Z"
   },
   {
    "duration": 11,
    "start_time": "2022-07-06T01:03:28.569Z"
   },
   {
    "duration": 12,
    "start_time": "2022-07-06T01:04:02.619Z"
   },
   {
    "duration": 397,
    "start_time": "2022-07-06T01:06:16.386Z"
   },
   {
    "duration": 3,
    "start_time": "2022-07-06T01:07:56.314Z"
   },
   {
    "duration": 119,
    "start_time": "2022-07-06T01:07:56.323Z"
   },
   {
    "duration": 9,
    "start_time": "2022-07-06T01:07:56.445Z"
   },
   {
    "duration": 24,
    "start_time": "2022-07-06T01:07:56.456Z"
   },
   {
    "duration": 10,
    "start_time": "2022-07-06T01:07:56.500Z"
   },
   {
    "duration": 14,
    "start_time": "2022-07-06T01:07:56.511Z"
   },
   {
    "duration": 12,
    "start_time": "2022-07-06T01:07:56.557Z"
   },
   {
    "duration": 10,
    "start_time": "2022-07-06T01:07:56.571Z"
   },
   {
    "duration": 24,
    "start_time": "2022-07-06T01:07:56.583Z"
   },
   {
    "duration": 23,
    "start_time": "2022-07-06T01:07:56.608Z"
   },
   {
    "duration": 435,
    "start_time": "2022-07-06T01:07:56.634Z"
   },
   {
    "duration": 46,
    "start_time": "2022-07-06T01:07:57.071Z"
   },
   {
    "duration": 246,
    "start_time": "2022-07-06T01:07:57.119Z"
   },
   {
    "duration": 56,
    "start_time": "2022-07-06T01:07:57.367Z"
   },
   {
    "duration": 472,
    "start_time": "2022-07-06T01:07:57.424Z"
   },
   {
    "duration": 27,
    "start_time": "2022-07-06T01:07:57.899Z"
   },
   {
    "duration": 317,
    "start_time": "2022-07-06T01:07:57.928Z"
   },
   {
    "duration": 926,
    "start_time": "2022-07-06T01:07:58.246Z"
   },
   {
    "duration": 177,
    "start_time": "2022-07-06T01:07:59.174Z"
   },
   {
    "duration": 174,
    "start_time": "2022-07-06T01:07:59.354Z"
   },
   {
    "duration": 1811,
    "start_time": "2022-07-06T01:07:59.530Z"
   },
   {
    "duration": 1882,
    "start_time": "2022-07-06T01:08:01.343Z"
   },
   {
    "duration": 357,
    "start_time": "2022-07-06T01:08:03.226Z"
   },
   {
    "duration": 24,
    "start_time": "2022-07-06T01:08:03.585Z"
   },
   {
    "duration": 326,
    "start_time": "2022-07-06T01:08:03.611Z"
   },
   {
    "duration": 15,
    "start_time": "2022-07-06T01:08:03.939Z"
   },
   {
    "duration": 458,
    "start_time": "2022-07-06T01:08:03.956Z"
   },
   {
    "duration": 218,
    "start_time": "2022-07-06T01:08:04.416Z"
   },
   {
    "duration": 217,
    "start_time": "2022-07-06T01:08:04.636Z"
   },
   {
    "duration": 207,
    "start_time": "2022-07-06T01:08:04.855Z"
   },
   {
    "duration": 13,
    "start_time": "2022-07-06T01:08:05.066Z"
   },
   {
    "duration": 7,
    "start_time": "2022-07-06T01:08:05.097Z"
   },
   {
    "duration": 8,
    "start_time": "2022-07-06T01:08:05.106Z"
   },
   {
    "duration": 11,
    "start_time": "2022-07-06T01:08:05.116Z"
   },
   {
    "duration": 8,
    "start_time": "2022-07-06T01:08:05.129Z"
   },
   {
    "duration": 13,
    "start_time": "2022-07-06T01:08:05.138Z"
   },
   {
    "duration": 78,
    "start_time": "2022-07-06T01:09:30.077Z"
   },
   {
    "duration": 821,
    "start_time": "2022-07-06T01:11:53.112Z"
   },
   {
    "duration": 936,
    "start_time": "2022-07-06T01:12:08.875Z"
   },
   {
    "duration": 699,
    "start_time": "2022-07-06T01:12:29.826Z"
   },
   {
    "duration": 812,
    "start_time": "2022-07-06T01:12:33.822Z"
   },
   {
    "duration": 955,
    "start_time": "2022-07-06T01:13:48.865Z"
   },
   {
    "duration": 711,
    "start_time": "2022-07-06T01:14:03.203Z"
   },
   {
    "duration": 850,
    "start_time": "2022-07-06T01:14:09.527Z"
   },
   {
    "duration": 1025,
    "start_time": "2022-07-06T01:14:19.840Z"
   },
   {
    "duration": 742,
    "start_time": "2022-07-06T01:14:29.532Z"
   },
   {
    "duration": 829,
    "start_time": "2022-07-06T01:14:58.074Z"
   },
   {
    "duration": 796,
    "start_time": "2022-07-06T01:15:54.738Z"
   },
   {
    "duration": 938,
    "start_time": "2022-07-06T01:16:17.260Z"
   },
   {
    "duration": 741,
    "start_time": "2022-07-06T01:16:30.625Z"
   },
   {
    "duration": 765,
    "start_time": "2022-07-06T01:16:44.695Z"
   },
   {
    "duration": 835,
    "start_time": "2022-07-06T01:17:14.836Z"
   },
   {
    "duration": 795,
    "start_time": "2022-07-06T01:17:34.336Z"
   },
   {
    "duration": 945,
    "start_time": "2022-07-06T01:18:33.000Z"
   },
   {
    "duration": 775,
    "start_time": "2022-07-06T01:18:42.854Z"
   },
   {
    "duration": 769,
    "start_time": "2022-07-06T01:18:58.148Z"
   },
   {
    "duration": 16,
    "start_time": "2022-07-06T01:32:06.950Z"
   },
   {
    "duration": 321,
    "start_time": "2022-07-06T01:32:07.428Z"
   },
   {
    "duration": 1475,
    "start_time": "2022-07-06T10:36:43.618Z"
   },
   {
    "duration": 122,
    "start_time": "2022-07-06T10:36:45.096Z"
   },
   {
    "duration": 18,
    "start_time": "2022-07-06T10:36:45.221Z"
   },
   {
    "duration": 20,
    "start_time": "2022-07-06T10:36:45.242Z"
   },
   {
    "duration": 11,
    "start_time": "2022-07-06T10:36:45.265Z"
   },
   {
    "duration": 8,
    "start_time": "2022-07-06T10:37:01.562Z"
   },
   {
    "duration": 7,
    "start_time": "2022-07-06T10:37:16.344Z"
   },
   {
    "duration": 30,
    "start_time": "2022-07-06T10:37:20.921Z"
   },
   {
    "duration": 3,
    "start_time": "2022-07-06T10:37:24.247Z"
   },
   {
    "duration": 65,
    "start_time": "2022-07-06T10:37:24.254Z"
   },
   {
    "duration": 20,
    "start_time": "2022-07-06T10:37:24.321Z"
   },
   {
    "duration": 35,
    "start_time": "2022-07-06T10:37:24.343Z"
   },
   {
    "duration": 24,
    "start_time": "2022-07-06T10:37:24.381Z"
   },
   {
    "duration": 8,
    "start_time": "2022-07-06T10:37:26.759Z"
   },
   {
    "duration": 30,
    "start_time": "2022-07-06T10:37:29.108Z"
   },
   {
    "duration": 3,
    "start_time": "2022-07-06T10:37:43.047Z"
   },
   {
    "duration": 86,
    "start_time": "2022-07-06T10:37:43.052Z"
   },
   {
    "duration": 7,
    "start_time": "2022-07-06T10:37:43.140Z"
   },
   {
    "duration": 47,
    "start_time": "2022-07-06T10:37:43.149Z"
   },
   {
    "duration": 20,
    "start_time": "2022-07-06T10:37:43.198Z"
   },
   {
    "duration": 6,
    "start_time": "2022-07-06T10:37:55.998Z"
   },
   {
    "duration": 6,
    "start_time": "2022-07-06T10:37:58.303Z"
   },
   {
    "duration": 3,
    "start_time": "2022-07-06T10:38:06.354Z"
   },
   {
    "duration": 90,
    "start_time": "2022-07-06T10:38:06.360Z"
   },
   {
    "duration": 12,
    "start_time": "2022-07-06T10:38:06.452Z"
   },
   {
    "duration": 32,
    "start_time": "2022-07-06T10:38:06.467Z"
   },
   {
    "duration": 26,
    "start_time": "2022-07-06T10:38:06.501Z"
   },
   {
    "duration": 4,
    "start_time": "2022-07-06T10:38:12.677Z"
   },
   {
    "duration": 6,
    "start_time": "2022-07-06T10:38:15.077Z"
   },
   {
    "duration": 3,
    "start_time": "2022-07-06T10:38:21.053Z"
   },
   {
    "duration": 79,
    "start_time": "2022-07-06T10:38:21.058Z"
   },
   {
    "duration": 9,
    "start_time": "2022-07-06T10:38:21.138Z"
   },
   {
    "duration": 27,
    "start_time": "2022-07-06T10:38:21.149Z"
   },
   {
    "duration": 11,
    "start_time": "2022-07-06T10:38:21.178Z"
   },
   {
    "duration": 28,
    "start_time": "2022-07-06T10:38:24.461Z"
   },
   {
    "duration": 10,
    "start_time": "2022-07-06T10:38:26.856Z"
   }
  ],
  "kernelspec": {
   "display_name": "Python 3 (ipykernel)",
   "language": "python",
   "name": "python3"
  },
  "language_info": {
   "codemirror_mode": {
    "name": "ipython",
    "version": 3
   },
   "file_extension": ".py",
   "mimetype": "text/x-python",
   "name": "python",
   "nbconvert_exporter": "python",
   "pygments_lexer": "ipython3",
   "version": "3.9.13"
  },
  "toc": {
   "base_numbering": 1,
   "nav_menu": {},
   "number_sections": true,
   "sideBar": true,
   "skip_h1_title": true,
   "title_cell": "Table of Contents",
   "title_sidebar": "Contents",
   "toc_cell": false,
   "toc_position": {
    "height": "calc(100% - 180px)",
    "left": "10px",
    "top": "150px",
    "width": "346.667px"
   },
   "toc_section_display": true,
   "toc_window_display": false
  }
 },
 "nbformat": 4,
 "nbformat_minor": 2
}
