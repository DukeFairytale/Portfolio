{
 "cells": [
  {
   "cell_type": "markdown",
   "metadata": {},
   "source": [
    "# Приоритизация гипотез. А/В тест для увеличения выручки интернет магазина"
   ]
  },
  {
   "cell_type": "markdown",
   "metadata": {},
   "source": [
    "Интернет магазину необходимо проверить сформированные гипотезы. Выбрать наиболее перспективные из них. А так изучить анализ проведенного A/B теста. Определить какая группа оказалась наиболее стастически значимой, а так же решить, какой был результат теста, либо стоит ли его продолжать.\n",
    "Проект состоит из двуз частей:\n",
    "1. В файле /datasets/hypothesis.csv 9 гипотез по увеличению выручки интернет-магазина с указанными параметрами Reach, Impact, Confidence, Effort.\n",
    "2. Результаты проведенного A/B-теста, которые описаны в файлах /datasets/orders.csv и /datasets/visitors.csv."
   ]
  },
  {
   "cell_type": "markdown",
   "metadata": {},
   "source": [
    "Провели A/B-тест и получили результаты, которые описаны в файлах /datasets/orders.csv и /datasets/visitors.csv."
   ]
  },
  {
   "cell_type": "code",
   "execution_count": 1,
   "metadata": {},
   "outputs": [],
   "source": [
    "import pandas as pd\n",
    "import seaborn as sns\n",
    "import numpy as np\n",
    "import datetime as dt\n",
    "from matplotlib import pyplot as plt\n",
    "import scipy.stats as stats"
   ]
  },
  {
   "cell_type": "markdown",
   "metadata": {},
   "source": [
    "## Приоритизация гипотез"
   ]
  },
  {
   "cell_type": "code",
   "execution_count": 2,
   "metadata": {},
   "outputs": [
    {
     "data": {
      "text/html": [
       "<div>\n",
       "<style scoped>\n",
       "    .dataframe tbody tr th:only-of-type {\n",
       "        vertical-align: middle;\n",
       "    }\n",
       "\n",
       "    .dataframe tbody tr th {\n",
       "        vertical-align: top;\n",
       "    }\n",
       "\n",
       "    .dataframe thead th {\n",
       "        text-align: right;\n",
       "    }\n",
       "</style>\n",
       "<table border=\"1\" class=\"dataframe\">\n",
       "  <thead>\n",
       "    <tr style=\"text-align: right;\">\n",
       "      <th></th>\n",
       "      <th>Hypothesis</th>\n",
       "      <th>Reach</th>\n",
       "      <th>Impact</th>\n",
       "      <th>Confidence</th>\n",
       "      <th>Efforts</th>\n",
       "    </tr>\n",
       "  </thead>\n",
       "  <tbody>\n",
       "    <tr>\n",
       "      <th>0</th>\n",
       "      <td>Добавить два новых канала привлечения трафика,...</td>\n",
       "      <td>3</td>\n",
       "      <td>10</td>\n",
       "      <td>8</td>\n",
       "      <td>6</td>\n",
       "    </tr>\n",
       "    <tr>\n",
       "      <th>1</th>\n",
       "      <td>Запустить собственную службу доставки, что сок...</td>\n",
       "      <td>2</td>\n",
       "      <td>5</td>\n",
       "      <td>4</td>\n",
       "      <td>10</td>\n",
       "    </tr>\n",
       "    <tr>\n",
       "      <th>2</th>\n",
       "      <td>Добавить блоки рекомендаций товаров на сайт ин...</td>\n",
       "      <td>8</td>\n",
       "      <td>3</td>\n",
       "      <td>7</td>\n",
       "      <td>3</td>\n",
       "    </tr>\n",
       "    <tr>\n",
       "      <th>3</th>\n",
       "      <td>Изменить структура категорий, что увеличит кон...</td>\n",
       "      <td>8</td>\n",
       "      <td>3</td>\n",
       "      <td>3</td>\n",
       "      <td>8</td>\n",
       "    </tr>\n",
       "    <tr>\n",
       "      <th>4</th>\n",
       "      <td>Изменить цвет фона главной страницы, чтобы уве...</td>\n",
       "      <td>3</td>\n",
       "      <td>1</td>\n",
       "      <td>1</td>\n",
       "      <td>1</td>\n",
       "    </tr>\n",
       "    <tr>\n",
       "      <th>5</th>\n",
       "      <td>Добавить страницу отзывов клиентов о магазине,...</td>\n",
       "      <td>3</td>\n",
       "      <td>2</td>\n",
       "      <td>2</td>\n",
       "      <td>3</td>\n",
       "    </tr>\n",
       "    <tr>\n",
       "      <th>6</th>\n",
       "      <td>Показать на главной странице баннеры с актуаль...</td>\n",
       "      <td>5</td>\n",
       "      <td>3</td>\n",
       "      <td>8</td>\n",
       "      <td>3</td>\n",
       "    </tr>\n",
       "    <tr>\n",
       "      <th>7</th>\n",
       "      <td>Добавить форму подписки на все основные страни...</td>\n",
       "      <td>10</td>\n",
       "      <td>7</td>\n",
       "      <td>8</td>\n",
       "      <td>5</td>\n",
       "    </tr>\n",
       "    <tr>\n",
       "      <th>8</th>\n",
       "      <td>Запустить акцию, дающую скидку на товар в день...</td>\n",
       "      <td>1</td>\n",
       "      <td>9</td>\n",
       "      <td>9</td>\n",
       "      <td>5</td>\n",
       "    </tr>\n",
       "  </tbody>\n",
       "</table>\n",
       "</div>"
      ],
      "text/plain": [
       "                                          Hypothesis  Reach  Impact  \\\n",
       "0  Добавить два новых канала привлечения трафика,...      3      10   \n",
       "1  Запустить собственную службу доставки, что сок...      2       5   \n",
       "2  Добавить блоки рекомендаций товаров на сайт ин...      8       3   \n",
       "3  Изменить структура категорий, что увеличит кон...      8       3   \n",
       "4  Изменить цвет фона главной страницы, чтобы уве...      3       1   \n",
       "5  Добавить страницу отзывов клиентов о магазине,...      3       2   \n",
       "6  Показать на главной странице баннеры с актуаль...      5       3   \n",
       "7  Добавить форму подписки на все основные страни...     10       7   \n",
       "8  Запустить акцию, дающую скидку на товар в день...      1       9   \n",
       "\n",
       "   Confidence  Efforts  \n",
       "0           8        6  \n",
       "1           4       10  \n",
       "2           7        3  \n",
       "3           3        8  \n",
       "4           1        1  \n",
       "5           2        3  \n",
       "6           8        3  \n",
       "7           8        5  \n",
       "8           9        5  "
      ]
     },
     "execution_count": 2,
     "metadata": {},
     "output_type": "execute_result"
    }
   ],
   "source": [
    "data = pd.read_csv('/datasets/hypothesis.csv')\n",
    "data"
   ]
  },
  {
   "cell_type": "code",
   "execution_count": 3,
   "metadata": {
    "scrolled": false
   },
   "outputs": [
    {
     "data": {
      "text/html": [
       "<style  type=\"text/css\" >\n",
       "#T_c60ee_row0_col0,#T_c60ee_row1_col0,#T_c60ee_row2_col0,#T_c60ee_row3_col0,#T_c60ee_row4_col0,#T_c60ee_row5_col0,#T_c60ee_row6_col0,#T_c60ee_row7_col0,#T_c60ee_row8_col0{\n",
       "            width:  300px;\n",
       "        }</style><table id=\"T_c60ee_\" ><thead>    <tr>        <th class=\"blank level0\" ></th>        <th class=\"col_heading level0 col0\" >hypothesis</th>        <th class=\"col_heading level0 col1\" >reach</th>        <th class=\"col_heading level0 col2\" >impact</th>        <th class=\"col_heading level0 col3\" >confidence</th>        <th class=\"col_heading level0 col4\" >efforts</th>    </tr></thead><tbody>\n",
       "                <tr>\n",
       "                        <th id=\"T_c60ee_level0_row0\" class=\"row_heading level0 row0\" >0</th>\n",
       "                        <td id=\"T_c60ee_row0_col0\" class=\"data row0 col0\" >Добавить два новых канала привлечения трафика, что позволит привлекать на 30% больше пользователей</td>\n",
       "                        <td id=\"T_c60ee_row0_col1\" class=\"data row0 col1\" >3</td>\n",
       "                        <td id=\"T_c60ee_row0_col2\" class=\"data row0 col2\" >10</td>\n",
       "                        <td id=\"T_c60ee_row0_col3\" class=\"data row0 col3\" >8</td>\n",
       "                        <td id=\"T_c60ee_row0_col4\" class=\"data row0 col4\" >6</td>\n",
       "            </tr>\n",
       "            <tr>\n",
       "                        <th id=\"T_c60ee_level0_row1\" class=\"row_heading level0 row1\" >1</th>\n",
       "                        <td id=\"T_c60ee_row1_col0\" class=\"data row1 col0\" >Запустить собственную службу доставки, что сократит срок доставки заказов</td>\n",
       "                        <td id=\"T_c60ee_row1_col1\" class=\"data row1 col1\" >2</td>\n",
       "                        <td id=\"T_c60ee_row1_col2\" class=\"data row1 col2\" >5</td>\n",
       "                        <td id=\"T_c60ee_row1_col3\" class=\"data row1 col3\" >4</td>\n",
       "                        <td id=\"T_c60ee_row1_col4\" class=\"data row1 col4\" >10</td>\n",
       "            </tr>\n",
       "            <tr>\n",
       "                        <th id=\"T_c60ee_level0_row2\" class=\"row_heading level0 row2\" >2</th>\n",
       "                        <td id=\"T_c60ee_row2_col0\" class=\"data row2 col0\" >Добавить блоки рекомендаций товаров на сайт интернет магазина, чтобы повысить конверсию и средний чек заказа</td>\n",
       "                        <td id=\"T_c60ee_row2_col1\" class=\"data row2 col1\" >8</td>\n",
       "                        <td id=\"T_c60ee_row2_col2\" class=\"data row2 col2\" >3</td>\n",
       "                        <td id=\"T_c60ee_row2_col3\" class=\"data row2 col3\" >7</td>\n",
       "                        <td id=\"T_c60ee_row2_col4\" class=\"data row2 col4\" >3</td>\n",
       "            </tr>\n",
       "            <tr>\n",
       "                        <th id=\"T_c60ee_level0_row3\" class=\"row_heading level0 row3\" >3</th>\n",
       "                        <td id=\"T_c60ee_row3_col0\" class=\"data row3 col0\" >Изменить структура категорий, что увеличит конверсию, т.к. пользователи быстрее найдут нужный товар</td>\n",
       "                        <td id=\"T_c60ee_row3_col1\" class=\"data row3 col1\" >8</td>\n",
       "                        <td id=\"T_c60ee_row3_col2\" class=\"data row3 col2\" >3</td>\n",
       "                        <td id=\"T_c60ee_row3_col3\" class=\"data row3 col3\" >3</td>\n",
       "                        <td id=\"T_c60ee_row3_col4\" class=\"data row3 col4\" >8</td>\n",
       "            </tr>\n",
       "            <tr>\n",
       "                        <th id=\"T_c60ee_level0_row4\" class=\"row_heading level0 row4\" >4</th>\n",
       "                        <td id=\"T_c60ee_row4_col0\" class=\"data row4 col0\" >Изменить цвет фона главной страницы, чтобы увеличить вовлеченность пользователей</td>\n",
       "                        <td id=\"T_c60ee_row4_col1\" class=\"data row4 col1\" >3</td>\n",
       "                        <td id=\"T_c60ee_row4_col2\" class=\"data row4 col2\" >1</td>\n",
       "                        <td id=\"T_c60ee_row4_col3\" class=\"data row4 col3\" >1</td>\n",
       "                        <td id=\"T_c60ee_row4_col4\" class=\"data row4 col4\" >1</td>\n",
       "            </tr>\n",
       "            <tr>\n",
       "                        <th id=\"T_c60ee_level0_row5\" class=\"row_heading level0 row5\" >5</th>\n",
       "                        <td id=\"T_c60ee_row5_col0\" class=\"data row5 col0\" >Добавить страницу отзывов клиентов о магазине, что позволит увеличить количество заказов</td>\n",
       "                        <td id=\"T_c60ee_row5_col1\" class=\"data row5 col1\" >3</td>\n",
       "                        <td id=\"T_c60ee_row5_col2\" class=\"data row5 col2\" >2</td>\n",
       "                        <td id=\"T_c60ee_row5_col3\" class=\"data row5 col3\" >2</td>\n",
       "                        <td id=\"T_c60ee_row5_col4\" class=\"data row5 col4\" >3</td>\n",
       "            </tr>\n",
       "            <tr>\n",
       "                        <th id=\"T_c60ee_level0_row6\" class=\"row_heading level0 row6\" >6</th>\n",
       "                        <td id=\"T_c60ee_row6_col0\" class=\"data row6 col0\" >Показать на главной странице баннеры с актуальными акциями и распродажами, чтобы увеличить конверсию</td>\n",
       "                        <td id=\"T_c60ee_row6_col1\" class=\"data row6 col1\" >5</td>\n",
       "                        <td id=\"T_c60ee_row6_col2\" class=\"data row6 col2\" >3</td>\n",
       "                        <td id=\"T_c60ee_row6_col3\" class=\"data row6 col3\" >8</td>\n",
       "                        <td id=\"T_c60ee_row6_col4\" class=\"data row6 col4\" >3</td>\n",
       "            </tr>\n",
       "            <tr>\n",
       "                        <th id=\"T_c60ee_level0_row7\" class=\"row_heading level0 row7\" >7</th>\n",
       "                        <td id=\"T_c60ee_row7_col0\" class=\"data row7 col0\" >Добавить форму подписки на все основные страницы, чтобы собрать базу клиентов для email-рассылок</td>\n",
       "                        <td id=\"T_c60ee_row7_col1\" class=\"data row7 col1\" >10</td>\n",
       "                        <td id=\"T_c60ee_row7_col2\" class=\"data row7 col2\" >7</td>\n",
       "                        <td id=\"T_c60ee_row7_col3\" class=\"data row7 col3\" >8</td>\n",
       "                        <td id=\"T_c60ee_row7_col4\" class=\"data row7 col4\" >5</td>\n",
       "            </tr>\n",
       "            <tr>\n",
       "                        <th id=\"T_c60ee_level0_row8\" class=\"row_heading level0 row8\" >8</th>\n",
       "                        <td id=\"T_c60ee_row8_col0\" class=\"data row8 col0\" >Запустить акцию, дающую скидку на товар в день рождения</td>\n",
       "                        <td id=\"T_c60ee_row8_col1\" class=\"data row8 col1\" >1</td>\n",
       "                        <td id=\"T_c60ee_row8_col2\" class=\"data row8 col2\" >9</td>\n",
       "                        <td id=\"T_c60ee_row8_col3\" class=\"data row8 col3\" >9</td>\n",
       "                        <td id=\"T_c60ee_row8_col4\" class=\"data row8 col4\" >5</td>\n",
       "            </tr>\n",
       "    </tbody></table>"
      ],
      "text/plain": [
       "<pandas.io.formats.style.Styler at 0x7fb4ab5fcac0>"
      ]
     },
     "execution_count": 3,
     "metadata": {},
     "output_type": "execute_result"
    }
   ],
   "source": [
    "data.columns = data.columns.str.lower()\n",
    "data.style.set_properties(subset=['hypothesis'], **{'width': '300px'})"
   ]
  },
  {
   "cell_type": "code",
   "execution_count": 4,
   "metadata": {},
   "outputs": [
    {
     "data": {
      "text/html": [
       "<div>\n",
       "<style scoped>\n",
       "    .dataframe tbody tr th:only-of-type {\n",
       "        vertical-align: middle;\n",
       "    }\n",
       "\n",
       "    .dataframe tbody tr th {\n",
       "        vertical-align: top;\n",
       "    }\n",
       "\n",
       "    .dataframe thead th {\n",
       "        text-align: right;\n",
       "    }\n",
       "</style>\n",
       "<table border=\"1\" class=\"dataframe\">\n",
       "  <thead>\n",
       "    <tr style=\"text-align: right;\">\n",
       "      <th></th>\n",
       "      <th>hypothesis</th>\n",
       "      <th>ICE</th>\n",
       "    </tr>\n",
       "  </thead>\n",
       "  <tbody>\n",
       "    <tr>\n",
       "      <th>8</th>\n",
       "      <td>Запустить акцию, дающую скидку на товар в день...</td>\n",
       "      <td>16.200000</td>\n",
       "    </tr>\n",
       "    <tr>\n",
       "      <th>0</th>\n",
       "      <td>Добавить два новых канала привлечения трафика,...</td>\n",
       "      <td>13.333333</td>\n",
       "    </tr>\n",
       "    <tr>\n",
       "      <th>7</th>\n",
       "      <td>Добавить форму подписки на все основные страни...</td>\n",
       "      <td>11.200000</td>\n",
       "    </tr>\n",
       "    <tr>\n",
       "      <th>6</th>\n",
       "      <td>Показать на главной странице баннеры с актуаль...</td>\n",
       "      <td>8.000000</td>\n",
       "    </tr>\n",
       "    <tr>\n",
       "      <th>2</th>\n",
       "      <td>Добавить блоки рекомендаций товаров на сайт ин...</td>\n",
       "      <td>7.000000</td>\n",
       "    </tr>\n",
       "    <tr>\n",
       "      <th>1</th>\n",
       "      <td>Запустить собственную службу доставки, что сок...</td>\n",
       "      <td>2.000000</td>\n",
       "    </tr>\n",
       "    <tr>\n",
       "      <th>5</th>\n",
       "      <td>Добавить страницу отзывов клиентов о магазине,...</td>\n",
       "      <td>1.333333</td>\n",
       "    </tr>\n",
       "    <tr>\n",
       "      <th>3</th>\n",
       "      <td>Изменить структура категорий, что увеличит кон...</td>\n",
       "      <td>1.125000</td>\n",
       "    </tr>\n",
       "    <tr>\n",
       "      <th>4</th>\n",
       "      <td>Изменить цвет фона главной страницы, чтобы уве...</td>\n",
       "      <td>1.000000</td>\n",
       "    </tr>\n",
       "  </tbody>\n",
       "</table>\n",
       "</div>"
      ],
      "text/plain": [
       "                                          hypothesis        ICE\n",
       "8  Запустить акцию, дающую скидку на товар в день...  16.200000\n",
       "0  Добавить два новых канала привлечения трафика,...  13.333333\n",
       "7  Добавить форму подписки на все основные страни...  11.200000\n",
       "6  Показать на главной странице баннеры с актуаль...   8.000000\n",
       "2  Добавить блоки рекомендаций товаров на сайт ин...   7.000000\n",
       "1  Запустить собственную службу доставки, что сок...   2.000000\n",
       "5  Добавить страницу отзывов клиентов о магазине,...   1.333333\n",
       "3  Изменить структура категорий, что увеличит кон...   1.125000\n",
       "4  Изменить цвет фона главной страницы, чтобы уве...   1.000000"
      ]
     },
     "metadata": {},
     "output_type": "display_data"
    }
   ],
   "source": [
    "data['ICE'] = (data['impact'] * data['confidence']) / data['efforts']\n",
    "display(data[['hypothesis', 'ICE']].sort_values(by='ICE', ascending=False))"
   ]
  },
  {
   "cell_type": "code",
   "execution_count": 5,
   "metadata": {},
   "outputs": [
    {
     "data": {
      "text/html": [
       "<div>\n",
       "<style scoped>\n",
       "    .dataframe tbody tr th:only-of-type {\n",
       "        vertical-align: middle;\n",
       "    }\n",
       "\n",
       "    .dataframe tbody tr th {\n",
       "        vertical-align: top;\n",
       "    }\n",
       "\n",
       "    .dataframe thead th {\n",
       "        text-align: right;\n",
       "    }\n",
       "</style>\n",
       "<table border=\"1\" class=\"dataframe\">\n",
       "  <thead>\n",
       "    <tr style=\"text-align: right;\">\n",
       "      <th></th>\n",
       "      <th>hypothesis</th>\n",
       "      <th>RICE</th>\n",
       "    </tr>\n",
       "  </thead>\n",
       "  <tbody>\n",
       "    <tr>\n",
       "      <th>7</th>\n",
       "      <td>Добавить форму подписки на все основные страни...</td>\n",
       "      <td>112.0</td>\n",
       "    </tr>\n",
       "    <tr>\n",
       "      <th>2</th>\n",
       "      <td>Добавить блоки рекомендаций товаров на сайт ин...</td>\n",
       "      <td>56.0</td>\n",
       "    </tr>\n",
       "    <tr>\n",
       "      <th>0</th>\n",
       "      <td>Добавить два новых канала привлечения трафика,...</td>\n",
       "      <td>40.0</td>\n",
       "    </tr>\n",
       "    <tr>\n",
       "      <th>6</th>\n",
       "      <td>Показать на главной странице баннеры с актуаль...</td>\n",
       "      <td>40.0</td>\n",
       "    </tr>\n",
       "    <tr>\n",
       "      <th>8</th>\n",
       "      <td>Запустить акцию, дающую скидку на товар в день...</td>\n",
       "      <td>16.2</td>\n",
       "    </tr>\n",
       "    <tr>\n",
       "      <th>3</th>\n",
       "      <td>Изменить структура категорий, что увеличит кон...</td>\n",
       "      <td>9.0</td>\n",
       "    </tr>\n",
       "    <tr>\n",
       "      <th>1</th>\n",
       "      <td>Запустить собственную службу доставки, что сок...</td>\n",
       "      <td>4.0</td>\n",
       "    </tr>\n",
       "    <tr>\n",
       "      <th>5</th>\n",
       "      <td>Добавить страницу отзывов клиентов о магазине,...</td>\n",
       "      <td>4.0</td>\n",
       "    </tr>\n",
       "    <tr>\n",
       "      <th>4</th>\n",
       "      <td>Изменить цвет фона главной страницы, чтобы уве...</td>\n",
       "      <td>3.0</td>\n",
       "    </tr>\n",
       "  </tbody>\n",
       "</table>\n",
       "</div>"
      ],
      "text/plain": [
       "                                          hypothesis   RICE\n",
       "7  Добавить форму подписки на все основные страни...  112.0\n",
       "2  Добавить блоки рекомендаций товаров на сайт ин...   56.0\n",
       "0  Добавить два новых канала привлечения трафика,...   40.0\n",
       "6  Показать на главной странице баннеры с актуаль...   40.0\n",
       "8  Запустить акцию, дающую скидку на товар в день...   16.2\n",
       "3  Изменить структура категорий, что увеличит кон...    9.0\n",
       "1  Запустить собственную службу доставки, что сок...    4.0\n",
       "5  Добавить страницу отзывов клиентов о магазине,...    4.0\n",
       "4  Изменить цвет фона главной страницы, чтобы уве...    3.0"
      ]
     },
     "metadata": {},
     "output_type": "display_data"
    }
   ],
   "source": [
    "data['RICE'] = (data['reach'] * data['impact'] * data['confidence']) / data['efforts']\n",
    "display(data[['hypothesis', 'RICE']].sort_values(by='RICE', ascending = False))"
   ]
  },
  {
   "cell_type": "markdown",
   "metadata": {},
   "source": [
    "### Вывод:"
   ]
  },
  {
   "cell_type": "markdown",
   "metadata": {},
   "source": [
    "Показатели приотета гипотез изменились при использовании ICE и RICE. При применние ICE Самой первой следовало проверить гипотезу о \"запуске акции, дающую скидку на день рождения\", а при примении RICE \"Добавить форму подписки на все основные страницы\", Это произошло потому что, фреймворк RICE учитывает еще и параметр \"Reach\", который показывает охват пользователей, в отличии от ICE. Согласно этому, охват гипотезы о акции на день рождения охватит только одного пользователя, а о добавлении формы подписки 10 пользователей."
   ]
  },
  {
   "cell_type": "markdown",
   "metadata": {},
   "source": [
    "## Анализ A/B-теста"
   ]
  },
  {
   "cell_type": "markdown",
   "metadata": {},
   "source": [
    "### Обзор данных"
   ]
  },
  {
   "cell_type": "code",
   "execution_count": 6,
   "metadata": {},
   "outputs": [
    {
     "data": {
      "text/html": [
       "<div>\n",
       "<style scoped>\n",
       "    .dataframe tbody tr th:only-of-type {\n",
       "        vertical-align: middle;\n",
       "    }\n",
       "\n",
       "    .dataframe tbody tr th {\n",
       "        vertical-align: top;\n",
       "    }\n",
       "\n",
       "    .dataframe thead th {\n",
       "        text-align: right;\n",
       "    }\n",
       "</style>\n",
       "<table border=\"1\" class=\"dataframe\">\n",
       "  <thead>\n",
       "    <tr style=\"text-align: right;\">\n",
       "      <th></th>\n",
       "      <th>transactionId</th>\n",
       "      <th>visitorId</th>\n",
       "      <th>date</th>\n",
       "      <th>revenue</th>\n",
       "      <th>group</th>\n",
       "    </tr>\n",
       "  </thead>\n",
       "  <tbody>\n",
       "    <tr>\n",
       "      <th>0</th>\n",
       "      <td>3667963787</td>\n",
       "      <td>3312258926</td>\n",
       "      <td>2019-08-15</td>\n",
       "      <td>1650</td>\n",
       "      <td>B</td>\n",
       "    </tr>\n",
       "    <tr>\n",
       "      <th>1</th>\n",
       "      <td>2804400009</td>\n",
       "      <td>3642806036</td>\n",
       "      <td>2019-08-15</td>\n",
       "      <td>730</td>\n",
       "      <td>B</td>\n",
       "    </tr>\n",
       "    <tr>\n",
       "      <th>2</th>\n",
       "      <td>2961555356</td>\n",
       "      <td>4069496402</td>\n",
       "      <td>2019-08-15</td>\n",
       "      <td>400</td>\n",
       "      <td>A</td>\n",
       "    </tr>\n",
       "    <tr>\n",
       "      <th>3</th>\n",
       "      <td>3797467345</td>\n",
       "      <td>1196621759</td>\n",
       "      <td>2019-08-15</td>\n",
       "      <td>9759</td>\n",
       "      <td>B</td>\n",
       "    </tr>\n",
       "    <tr>\n",
       "      <th>4</th>\n",
       "      <td>2282983706</td>\n",
       "      <td>2322279887</td>\n",
       "      <td>2019-08-15</td>\n",
       "      <td>2308</td>\n",
       "      <td>B</td>\n",
       "    </tr>\n",
       "  </tbody>\n",
       "</table>\n",
       "</div>"
      ],
      "text/plain": [
       "   transactionId   visitorId        date  revenue group\n",
       "0     3667963787  3312258926  2019-08-15     1650     B\n",
       "1     2804400009  3642806036  2019-08-15      730     B\n",
       "2     2961555356  4069496402  2019-08-15      400     A\n",
       "3     3797467345  1196621759  2019-08-15     9759     B\n",
       "4     2282983706  2322279887  2019-08-15     2308     B"
      ]
     },
     "metadata": {},
     "output_type": "display_data"
    },
    {
     "data": {
      "text/html": [
       "<div>\n",
       "<style scoped>\n",
       "    .dataframe tbody tr th:only-of-type {\n",
       "        vertical-align: middle;\n",
       "    }\n",
       "\n",
       "    .dataframe tbody tr th {\n",
       "        vertical-align: top;\n",
       "    }\n",
       "\n",
       "    .dataframe thead th {\n",
       "        text-align: right;\n",
       "    }\n",
       "</style>\n",
       "<table border=\"1\" class=\"dataframe\">\n",
       "  <thead>\n",
       "    <tr style=\"text-align: right;\">\n",
       "      <th></th>\n",
       "      <th>date</th>\n",
       "      <th>group</th>\n",
       "      <th>visitors</th>\n",
       "    </tr>\n",
       "  </thead>\n",
       "  <tbody>\n",
       "    <tr>\n",
       "      <th>0</th>\n",
       "      <td>2019-08-01</td>\n",
       "      <td>A</td>\n",
       "      <td>719</td>\n",
       "    </tr>\n",
       "    <tr>\n",
       "      <th>1</th>\n",
       "      <td>2019-08-02</td>\n",
       "      <td>A</td>\n",
       "      <td>619</td>\n",
       "    </tr>\n",
       "    <tr>\n",
       "      <th>2</th>\n",
       "      <td>2019-08-03</td>\n",
       "      <td>A</td>\n",
       "      <td>507</td>\n",
       "    </tr>\n",
       "    <tr>\n",
       "      <th>3</th>\n",
       "      <td>2019-08-04</td>\n",
       "      <td>A</td>\n",
       "      <td>717</td>\n",
       "    </tr>\n",
       "    <tr>\n",
       "      <th>4</th>\n",
       "      <td>2019-08-05</td>\n",
       "      <td>A</td>\n",
       "      <td>756</td>\n",
       "    </tr>\n",
       "  </tbody>\n",
       "</table>\n",
       "</div>"
      ],
      "text/plain": [
       "         date group  visitors\n",
       "0  2019-08-01     A       719\n",
       "1  2019-08-02     A       619\n",
       "2  2019-08-03     A       507\n",
       "3  2019-08-04     A       717\n",
       "4  2019-08-05     A       756"
      ]
     },
     "execution_count": 6,
     "metadata": {},
     "output_type": "execute_result"
    }
   ],
   "source": [
    "orders = pd.read_csv('/datasets/orders.csv')\n",
    "visitors = pd.read_csv('/datasets/visitors.csv')\n",
    "display(orders.head(5))\n",
    "visitors.head(5)"
   ]
  },
  {
   "cell_type": "code",
   "execution_count": 7,
   "metadata": {},
   "outputs": [
    {
     "name": "stdout",
     "output_type": "stream",
     "text": [
      "<class 'pandas.core.frame.DataFrame'>\n",
      "RangeIndex: 1197 entries, 0 to 1196\n",
      "Data columns (total 5 columns):\n",
      " #   Column         Non-Null Count  Dtype \n",
      "---  ------         --------------  ----- \n",
      " 0   transactionId  1197 non-null   int64 \n",
      " 1   visitorId      1197 non-null   int64 \n",
      " 2   date           1197 non-null   object\n",
      " 3   revenue        1197 non-null   int64 \n",
      " 4   group          1197 non-null   object\n",
      "dtypes: int64(3), object(2)\n",
      "memory usage: 46.9+ KB\n",
      "<class 'pandas.core.frame.DataFrame'>\n",
      "RangeIndex: 62 entries, 0 to 61\n",
      "Data columns (total 3 columns):\n",
      " #   Column    Non-Null Count  Dtype \n",
      "---  ------    --------------  ----- \n",
      " 0   date      62 non-null     object\n",
      " 1   group     62 non-null     object\n",
      " 2   visitors  62 non-null     int64 \n",
      "dtypes: int64(1), object(2)\n",
      "memory usage: 1.6+ KB\n"
     ]
    }
   ],
   "source": [
    "orders.info()\n",
    "visitors.info()"
   ]
  },
  {
   "cell_type": "markdown",
   "metadata": {},
   "source": [
    "### Подготовка данных"
   ]
  },
  {
   "cell_type": "markdown",
   "metadata": {},
   "source": [
    "Приведем формат времени к формату datetime."
   ]
  },
  {
   "cell_type": "code",
   "execution_count": 8,
   "metadata": {},
   "outputs": [],
   "source": [
    "orders['date'] = orders['date'].map(\n",
    "    lambda x: dt.datetime.strptime(x, '%Y-%m-%d')\n",
    ")\n",
    "visitors['date'] = visitors['date'].map(\n",
    "    lambda x: dt.datetime.strptime(x, '%Y-%m-%d')\n",
    ")"
   ]
  },
  {
   "cell_type": "markdown",
   "metadata": {},
   "source": [
    "Проверим нет ли в данных пользователей, которые попали в обе группы"
   ]
  },
  {
   "cell_type": "code",
   "execution_count": 9,
   "metadata": {},
   "outputs": [
    {
     "data": {
      "text/plain": [
       "visitorId\n",
       "5114589          [B]\n",
       "6958315          [B]\n",
       "8300375       [B, A]\n",
       "11685486         [A]\n",
       "39475350         [B]\n",
       "               ...  \n",
       "4266935830    [A, B]\n",
       "4278982564       [A]\n",
       "4279090005       [B]\n",
       "4281247801       [B]\n",
       "4283872382       [B]\n",
       "Name: group, Length: 1031, dtype: object"
      ]
     },
     "execution_count": 9,
     "metadata": {},
     "output_type": "execute_result"
    }
   ],
   "source": [
    "orders.groupby('visitorId')['group'].unique()"
   ]
  },
  {
   "cell_type": "markdown",
   "metadata": {},
   "source": [
    "Действительно в данных есть пользователи, которые попали в обе группы, избавимся от них:"
   ]
  },
  {
   "cell_type": "code",
   "execution_count": 10,
   "metadata": {},
   "outputs": [
    {
     "data": {
      "text/html": [
       "<div>\n",
       "<style scoped>\n",
       "    .dataframe tbody tr th:only-of-type {\n",
       "        vertical-align: middle;\n",
       "    }\n",
       "\n",
       "    .dataframe tbody tr th {\n",
       "        vertical-align: top;\n",
       "    }\n",
       "\n",
       "    .dataframe thead th {\n",
       "        text-align: right;\n",
       "    }\n",
       "</style>\n",
       "<table border=\"1\" class=\"dataframe\">\n",
       "  <thead>\n",
       "    <tr style=\"text-align: right;\">\n",
       "      <th></th>\n",
       "      <th>transactionId_x</th>\n",
       "      <th>visitorId</th>\n",
       "      <th>date_x</th>\n",
       "      <th>revenue_x</th>\n",
       "      <th>group_x</th>\n",
       "      <th>transactionId_y</th>\n",
       "      <th>date_y</th>\n",
       "      <th>revenue_y</th>\n",
       "      <th>group_y</th>\n",
       "    </tr>\n",
       "  </thead>\n",
       "  <tbody>\n",
       "    <tr>\n",
       "      <th>0</th>\n",
       "      <td>2961555356</td>\n",
       "      <td>4069496402</td>\n",
       "      <td>2019-08-15</td>\n",
       "      <td>400</td>\n",
       "      <td>A</td>\n",
       "      <td>1473132782</td>\n",
       "      <td>2019-08-12</td>\n",
       "      <td>640</td>\n",
       "      <td>B</td>\n",
       "    </tr>\n",
       "    <tr>\n",
       "      <th>1</th>\n",
       "      <td>2223239646</td>\n",
       "      <td>199603092</td>\n",
       "      <td>2019-08-15</td>\n",
       "      <td>3488</td>\n",
       "      <td>A</td>\n",
       "      <td>437656952</td>\n",
       "      <td>2019-08-02</td>\n",
       "      <td>3488</td>\n",
       "      <td>B</td>\n",
       "    </tr>\n",
       "    <tr>\n",
       "      <th>2</th>\n",
       "      <td>62794304</td>\n",
       "      <td>199603092</td>\n",
       "      <td>2019-08-22</td>\n",
       "      <td>6976</td>\n",
       "      <td>A</td>\n",
       "      <td>437656952</td>\n",
       "      <td>2019-08-02</td>\n",
       "      <td>3488</td>\n",
       "      <td>B</td>\n",
       "    </tr>\n",
       "    <tr>\n",
       "      <th>3</th>\n",
       "      <td>2971973105</td>\n",
       "      <td>199603092</td>\n",
       "      <td>2019-08-27</td>\n",
       "      <td>2790</td>\n",
       "      <td>A</td>\n",
       "      <td>437656952</td>\n",
       "      <td>2019-08-02</td>\n",
       "      <td>3488</td>\n",
       "      <td>B</td>\n",
       "    </tr>\n",
       "    <tr>\n",
       "      <th>4</th>\n",
       "      <td>1941707234</td>\n",
       "      <td>199603092</td>\n",
       "      <td>2019-08-12</td>\n",
       "      <td>6438</td>\n",
       "      <td>A</td>\n",
       "      <td>437656952</td>\n",
       "      <td>2019-08-02</td>\n",
       "      <td>3488</td>\n",
       "      <td>B</td>\n",
       "    </tr>\n",
       "    <tr>\n",
       "      <th>...</th>\n",
       "      <td>...</td>\n",
       "      <td>...</td>\n",
       "      <td>...</td>\n",
       "      <td>...</td>\n",
       "      <td>...</td>\n",
       "      <td>...</td>\n",
       "      <td>...</td>\n",
       "      <td>...</td>\n",
       "      <td>...</td>\n",
       "    </tr>\n",
       "    <tr>\n",
       "      <th>178</th>\n",
       "      <td>3757656646</td>\n",
       "      <td>4186807279</td>\n",
       "      <td>2019-08-14</td>\n",
       "      <td>4990</td>\n",
       "      <td>A</td>\n",
       "      <td>1759418862</td>\n",
       "      <td>2019-08-21</td>\n",
       "      <td>18560</td>\n",
       "      <td>B</td>\n",
       "    </tr>\n",
       "    <tr>\n",
       "      <th>179</th>\n",
       "      <td>3757656646</td>\n",
       "      <td>4186807279</td>\n",
       "      <td>2019-08-14</td>\n",
       "      <td>4990</td>\n",
       "      <td>A</td>\n",
       "      <td>380064637</td>\n",
       "      <td>2019-08-27</td>\n",
       "      <td>13740</td>\n",
       "      <td>B</td>\n",
       "    </tr>\n",
       "    <tr>\n",
       "      <th>180</th>\n",
       "      <td>3612788481</td>\n",
       "      <td>2712142231</td>\n",
       "      <td>2019-08-14</td>\n",
       "      <td>2490</td>\n",
       "      <td>A</td>\n",
       "      <td>1251767592</td>\n",
       "      <td>2019-08-16</td>\n",
       "      <td>790</td>\n",
       "      <td>B</td>\n",
       "    </tr>\n",
       "    <tr>\n",
       "      <th>181</th>\n",
       "      <td>4052155355</td>\n",
       "      <td>2949041841</td>\n",
       "      <td>2019-08-14</td>\n",
       "      <td>190</td>\n",
       "      <td>A</td>\n",
       "      <td>1329499668</td>\n",
       "      <td>2019-08-14</td>\n",
       "      <td>10380</td>\n",
       "      <td>B</td>\n",
       "    </tr>\n",
       "    <tr>\n",
       "      <th>182</th>\n",
       "      <td>1458356232</td>\n",
       "      <td>963407295</td>\n",
       "      <td>2019-08-14</td>\n",
       "      <td>4940</td>\n",
       "      <td>A</td>\n",
       "      <td>2904772834</td>\n",
       "      <td>2019-08-15</td>\n",
       "      <td>300</td>\n",
       "      <td>B</td>\n",
       "    </tr>\n",
       "  </tbody>\n",
       "</table>\n",
       "<p>183 rows × 9 columns</p>\n",
       "</div>"
      ],
      "text/plain": [
       "     transactionId_x   visitorId     date_x  revenue_x group_x  \\\n",
       "0         2961555356  4069496402 2019-08-15        400       A   \n",
       "1         2223239646   199603092 2019-08-15       3488       A   \n",
       "2           62794304   199603092 2019-08-22       6976       A   \n",
       "3         2971973105   199603092 2019-08-27       2790       A   \n",
       "4         1941707234   199603092 2019-08-12       6438       A   \n",
       "..               ...         ...        ...        ...     ...   \n",
       "178       3757656646  4186807279 2019-08-14       4990       A   \n",
       "179       3757656646  4186807279 2019-08-14       4990       A   \n",
       "180       3612788481  2712142231 2019-08-14       2490       A   \n",
       "181       4052155355  2949041841 2019-08-14        190       A   \n",
       "182       1458356232   963407295 2019-08-14       4940       A   \n",
       "\n",
       "     transactionId_y     date_y  revenue_y group_y  \n",
       "0         1473132782 2019-08-12        640       B  \n",
       "1          437656952 2019-08-02       3488       B  \n",
       "2          437656952 2019-08-02       3488       B  \n",
       "3          437656952 2019-08-02       3488       B  \n",
       "4          437656952 2019-08-02       3488       B  \n",
       "..               ...        ...        ...     ...  \n",
       "178       1759418862 2019-08-21      18560       B  \n",
       "179        380064637 2019-08-27      13740       B  \n",
       "180       1251767592 2019-08-16        790       B  \n",
       "181       1329499668 2019-08-14      10380       B  \n",
       "182       2904772834 2019-08-15        300       B  \n",
       "\n",
       "[183 rows x 9 columns]"
      ]
     },
     "metadata": {},
     "output_type": "display_data"
    },
    {
     "data": {
      "text/plain": [
       "array([4069496402,  199603092, 3803269165, 2378935119,  237748145,\n",
       "       4256040402, 2038680547, 1738359350, 2458001652, 3891541246,\n",
       "       2716752286, 3656415546, 2686716486, 2954449915, 2927087541,\n",
       "       3234906277,  457167155, 2579882178, 3957174400, 1648269707,\n",
       "       2780786433,  818047933, 2044997962, 1959144690, 3202540741,\n",
       "       1333886533,  351125977, 3951559397,  393266494, 3984495233,\n",
       "       4120364173, 4266935830, 1230306981, 1294878855, 1614305549,\n",
       "          8300375,  477780734, 1668030113, 3717692402, 3766097110,\n",
       "       3941795274,  471551937, 1316129916, 1801183820, 1602967004,\n",
       "       2587333274, 2600415354,  232979603, 3972127743, 1404934699,\n",
       "        276558944, 3062433592, 2654030115, 3963646447, 4186807279,\n",
       "       2712142231, 2949041841,  963407295])"
      ]
     },
     "metadata": {},
     "output_type": "display_data"
    },
    {
     "data": {
      "text/html": [
       "<div>\n",
       "<style scoped>\n",
       "    .dataframe tbody tr th:only-of-type {\n",
       "        vertical-align: middle;\n",
       "    }\n",
       "\n",
       "    .dataframe tbody tr th {\n",
       "        vertical-align: top;\n",
       "    }\n",
       "\n",
       "    .dataframe thead th {\n",
       "        text-align: right;\n",
       "    }\n",
       "</style>\n",
       "<table border=\"1\" class=\"dataframe\">\n",
       "  <thead>\n",
       "    <tr style=\"text-align: right;\">\n",
       "      <th></th>\n",
       "      <th>transactionId</th>\n",
       "      <th>visitorId</th>\n",
       "      <th>date</th>\n",
       "      <th>revenue</th>\n",
       "      <th>group</th>\n",
       "    </tr>\n",
       "  </thead>\n",
       "  <tbody>\n",
       "    <tr>\n",
       "      <th>0</th>\n",
       "      <td>3667963787</td>\n",
       "      <td>3312258926</td>\n",
       "      <td>2019-08-15</td>\n",
       "      <td>1650</td>\n",
       "      <td>B</td>\n",
       "    </tr>\n",
       "    <tr>\n",
       "      <th>1</th>\n",
       "      <td>2804400009</td>\n",
       "      <td>3642806036</td>\n",
       "      <td>2019-08-15</td>\n",
       "      <td>730</td>\n",
       "      <td>B</td>\n",
       "    </tr>\n",
       "    <tr>\n",
       "      <th>3</th>\n",
       "      <td>3797467345</td>\n",
       "      <td>1196621759</td>\n",
       "      <td>2019-08-15</td>\n",
       "      <td>9759</td>\n",
       "      <td>B</td>\n",
       "    </tr>\n",
       "    <tr>\n",
       "      <th>4</th>\n",
       "      <td>2282983706</td>\n",
       "      <td>2322279887</td>\n",
       "      <td>2019-08-15</td>\n",
       "      <td>2308</td>\n",
       "      <td>B</td>\n",
       "    </tr>\n",
       "    <tr>\n",
       "      <th>5</th>\n",
       "      <td>182168103</td>\n",
       "      <td>935554773</td>\n",
       "      <td>2019-08-15</td>\n",
       "      <td>2210</td>\n",
       "      <td>B</td>\n",
       "    </tr>\n",
       "    <tr>\n",
       "      <th>...</th>\n",
       "      <td>...</td>\n",
       "      <td>...</td>\n",
       "      <td>...</td>\n",
       "      <td>...</td>\n",
       "      <td>...</td>\n",
       "    </tr>\n",
       "    <tr>\n",
       "      <th>1191</th>\n",
       "      <td>3592955527</td>\n",
       "      <td>608641596</td>\n",
       "      <td>2019-08-14</td>\n",
       "      <td>16490</td>\n",
       "      <td>B</td>\n",
       "    </tr>\n",
       "    <tr>\n",
       "      <th>1192</th>\n",
       "      <td>2662137336</td>\n",
       "      <td>3733762160</td>\n",
       "      <td>2019-08-14</td>\n",
       "      <td>6490</td>\n",
       "      <td>B</td>\n",
       "    </tr>\n",
       "    <tr>\n",
       "      <th>1193</th>\n",
       "      <td>2203539145</td>\n",
       "      <td>370388673</td>\n",
       "      <td>2019-08-14</td>\n",
       "      <td>3190</td>\n",
       "      <td>A</td>\n",
       "    </tr>\n",
       "    <tr>\n",
       "      <th>1194</th>\n",
       "      <td>1807773912</td>\n",
       "      <td>573423106</td>\n",
       "      <td>2019-08-14</td>\n",
       "      <td>10550</td>\n",
       "      <td>A</td>\n",
       "    </tr>\n",
       "    <tr>\n",
       "      <th>1196</th>\n",
       "      <td>3936777065</td>\n",
       "      <td>2108080724</td>\n",
       "      <td>2019-08-15</td>\n",
       "      <td>202740</td>\n",
       "      <td>B</td>\n",
       "    </tr>\n",
       "  </tbody>\n",
       "</table>\n",
       "<p>1016 rows × 5 columns</p>\n",
       "</div>"
      ],
      "text/plain": [
       "      transactionId   visitorId       date  revenue group\n",
       "0        3667963787  3312258926 2019-08-15     1650     B\n",
       "1        2804400009  3642806036 2019-08-15      730     B\n",
       "3        3797467345  1196621759 2019-08-15     9759     B\n",
       "4        2282983706  2322279887 2019-08-15     2308     B\n",
       "5         182168103   935554773 2019-08-15     2210     B\n",
       "...             ...         ...        ...      ...   ...\n",
       "1191     3592955527   608641596 2019-08-14    16490     B\n",
       "1192     2662137336  3733762160 2019-08-14     6490     B\n",
       "1193     2203539145   370388673 2019-08-14     3190     A\n",
       "1194     1807773912   573423106 2019-08-14    10550     A\n",
       "1196     3936777065  2108080724 2019-08-15   202740     B\n",
       "\n",
       "[1016 rows x 5 columns]"
      ]
     },
     "execution_count": 10,
     "metadata": {},
     "output_type": "execute_result"
    }
   ],
   "source": [
    "# разделим датафрейм на две части по группе и смерджим обратно, используя visitorId\n",
    "orders_a = orders.query('group == \"A\"')\n",
    "orders_b = orders.query('group == \"B\"')\n",
    "# используем тип объединения inner, чтобы в объединенный датасет попали только id, которые есть в обеих группах. \n",
    "orders_id = orders_a.merge(orders_b, on='visitorId', how='inner') \n",
    " \n",
    "display(orders_id)\n",
    " \n",
    "# выберем уникальные id\n",
    "id_list = orders_id['visitorId'].unique()\n",
    "display(id_list)\n",
    "len(id_list)\n",
    " \n",
    "# отфильтруем исходный датафрем по id\n",
    "orders = orders[~orders['visitorId'].isin(id_list)]\n",
    "orders"
   ]
  },
  {
   "cell_type": "markdown",
   "metadata": {},
   "source": [
    "### Кумулятивная выручка по группам"
   ]
  },
  {
   "cell_type": "markdown",
   "metadata": {},
   "source": [
    "Собираем кумулятивные данные:"
   ]
  },
  {
   "cell_type": "code",
   "execution_count": 11,
   "metadata": {},
   "outputs": [],
   "source": [
    "datesGroups = orders[['date','group']].drop_duplicates() #создаем массив с уникальными парами 'date' и 'group'"
   ]
  },
  {
   "cell_type": "code",
   "execution_count": 12,
   "metadata": {},
   "outputs": [
    {
     "data": {
      "text/html": [
       "<div>\n",
       "<style scoped>\n",
       "    .dataframe tbody tr th:only-of-type {\n",
       "        vertical-align: middle;\n",
       "    }\n",
       "\n",
       "    .dataframe tbody tr th {\n",
       "        vertical-align: top;\n",
       "    }\n",
       "\n",
       "    .dataframe thead th {\n",
       "        text-align: right;\n",
       "    }\n",
       "</style>\n",
       "<table border=\"1\" class=\"dataframe\">\n",
       "  <thead>\n",
       "    <tr style=\"text-align: right;\">\n",
       "      <th></th>\n",
       "      <th>date</th>\n",
       "      <th>group</th>\n",
       "      <th>transactionId</th>\n",
       "      <th>visitorId</th>\n",
       "      <th>revenue</th>\n",
       "    </tr>\n",
       "  </thead>\n",
       "  <tbody>\n",
       "    <tr>\n",
       "      <th>55</th>\n",
       "      <td>2019-08-01</td>\n",
       "      <td>A</td>\n",
       "      <td>23</td>\n",
       "      <td>19</td>\n",
       "      <td>142779</td>\n",
       "    </tr>\n",
       "    <tr>\n",
       "      <th>66</th>\n",
       "      <td>2019-08-01</td>\n",
       "      <td>B</td>\n",
       "      <td>17</td>\n",
       "      <td>17</td>\n",
       "      <td>59758</td>\n",
       "    </tr>\n",
       "    <tr>\n",
       "      <th>175</th>\n",
       "      <td>2019-08-02</td>\n",
       "      <td>A</td>\n",
       "      <td>42</td>\n",
       "      <td>36</td>\n",
       "      <td>234381</td>\n",
       "    </tr>\n",
       "    <tr>\n",
       "      <th>173</th>\n",
       "      <td>2019-08-02</td>\n",
       "      <td>B</td>\n",
       "      <td>40</td>\n",
       "      <td>39</td>\n",
       "      <td>221801</td>\n",
       "    </tr>\n",
       "    <tr>\n",
       "      <th>291</th>\n",
       "      <td>2019-08-03</td>\n",
       "      <td>A</td>\n",
       "      <td>66</td>\n",
       "      <td>60</td>\n",
       "      <td>346854</td>\n",
       "    </tr>\n",
       "    <tr>\n",
       "      <th>...</th>\n",
       "      <td>...</td>\n",
       "      <td>...</td>\n",
       "      <td>...</td>\n",
       "      <td>...</td>\n",
       "      <td>...</td>\n",
       "    </tr>\n",
       "    <tr>\n",
       "      <th>533</th>\n",
       "      <td>2019-08-29</td>\n",
       "      <td>B</td>\n",
       "      <td>510</td>\n",
       "      <td>490</td>\n",
       "      <td>4746610</td>\n",
       "    </tr>\n",
       "    <tr>\n",
       "      <th>757</th>\n",
       "      <td>2019-08-30</td>\n",
       "      <td>A</td>\n",
       "      <td>460</td>\n",
       "      <td>437</td>\n",
       "      <td>3311413</td>\n",
       "    </tr>\n",
       "    <tr>\n",
       "      <th>690</th>\n",
       "      <td>2019-08-30</td>\n",
       "      <td>B</td>\n",
       "      <td>531</td>\n",
       "      <td>511</td>\n",
       "      <td>4955833</td>\n",
       "    </tr>\n",
       "    <tr>\n",
       "      <th>958</th>\n",
       "      <td>2019-08-31</td>\n",
       "      <td>A</td>\n",
       "      <td>468</td>\n",
       "      <td>445</td>\n",
       "      <td>3364656</td>\n",
       "    </tr>\n",
       "    <tr>\n",
       "      <th>930</th>\n",
       "      <td>2019-08-31</td>\n",
       "      <td>B</td>\n",
       "      <td>548</td>\n",
       "      <td>528</td>\n",
       "      <td>5068972</td>\n",
       "    </tr>\n",
       "  </tbody>\n",
       "</table>\n",
       "<p>62 rows × 5 columns</p>\n",
       "</div>"
      ],
      "text/plain": [
       "          date group  transactionId  visitorId  revenue\n",
       "55  2019-08-01     A             23         19   142779\n",
       "66  2019-08-01     B             17         17    59758\n",
       "175 2019-08-02     A             42         36   234381\n",
       "173 2019-08-02     B             40         39   221801\n",
       "291 2019-08-03     A             66         60   346854\n",
       "..         ...   ...            ...        ...      ...\n",
       "533 2019-08-29     B            510        490  4746610\n",
       "757 2019-08-30     A            460        437  3311413\n",
       "690 2019-08-30     B            531        511  4955833\n",
       "958 2019-08-31     A            468        445  3364656\n",
       "930 2019-08-31     B            548        528  5068972\n",
       "\n",
       "[62 rows x 5 columns]"
      ]
     },
     "execution_count": 12,
     "metadata": {},
     "output_type": "execute_result"
    }
   ],
   "source": [
    "ordersAggregated = datesGroups.apply(\n",
    "    lambda x: orders[np.logical_and(orders['date'] <=\n",
    "                                   x['date'], orders['group'] == x['group'])].agg({\n",
    "        'date' : 'max',\n",
    "        'group' : 'max',\n",
    "        'transactionId' : pd.Series.nunique,\n",
    "        'visitorId' : pd.Series.nunique,\n",
    "        'revenue' : 'sum'}), axis=1).sort_values(by=['date', 'group'])\n",
    "\n",
    "ordersAggregated  # собираем кумулятивные данные по дням о заказах"
   ]
  },
  {
   "cell_type": "code",
   "execution_count": 13,
   "metadata": {},
   "outputs": [
    {
     "data": {
      "text/html": [
       "<div>\n",
       "<style scoped>\n",
       "    .dataframe tbody tr th:only-of-type {\n",
       "        vertical-align: middle;\n",
       "    }\n",
       "\n",
       "    .dataframe tbody tr th {\n",
       "        vertical-align: top;\n",
       "    }\n",
       "\n",
       "    .dataframe thead th {\n",
       "        text-align: right;\n",
       "    }\n",
       "</style>\n",
       "<table border=\"1\" class=\"dataframe\">\n",
       "  <thead>\n",
       "    <tr style=\"text-align: right;\">\n",
       "      <th></th>\n",
       "      <th>date</th>\n",
       "      <th>group</th>\n",
       "      <th>visitors</th>\n",
       "    </tr>\n",
       "  </thead>\n",
       "  <tbody>\n",
       "    <tr>\n",
       "      <th>55</th>\n",
       "      <td>2019-08-01</td>\n",
       "      <td>A</td>\n",
       "      <td>719</td>\n",
       "    </tr>\n",
       "    <tr>\n",
       "      <th>66</th>\n",
       "      <td>2019-08-01</td>\n",
       "      <td>B</td>\n",
       "      <td>713</td>\n",
       "    </tr>\n",
       "    <tr>\n",
       "      <th>175</th>\n",
       "      <td>2019-08-02</td>\n",
       "      <td>A</td>\n",
       "      <td>1338</td>\n",
       "    </tr>\n",
       "    <tr>\n",
       "      <th>173</th>\n",
       "      <td>2019-08-02</td>\n",
       "      <td>B</td>\n",
       "      <td>1294</td>\n",
       "    </tr>\n",
       "    <tr>\n",
       "      <th>291</th>\n",
       "      <td>2019-08-03</td>\n",
       "      <td>A</td>\n",
       "      <td>1845</td>\n",
       "    </tr>\n",
       "    <tr>\n",
       "      <th>...</th>\n",
       "      <td>...</td>\n",
       "      <td>...</td>\n",
       "      <td>...</td>\n",
       "    </tr>\n",
       "    <tr>\n",
       "      <th>533</th>\n",
       "      <td>2019-08-29</td>\n",
       "      <td>B</td>\n",
       "      <td>17708</td>\n",
       "    </tr>\n",
       "    <tr>\n",
       "      <th>757</th>\n",
       "      <td>2019-08-30</td>\n",
       "      <td>A</td>\n",
       "      <td>18037</td>\n",
       "    </tr>\n",
       "    <tr>\n",
       "      <th>690</th>\n",
       "      <td>2019-08-30</td>\n",
       "      <td>B</td>\n",
       "      <td>18198</td>\n",
       "    </tr>\n",
       "    <tr>\n",
       "      <th>958</th>\n",
       "      <td>2019-08-31</td>\n",
       "      <td>A</td>\n",
       "      <td>18736</td>\n",
       "    </tr>\n",
       "    <tr>\n",
       "      <th>930</th>\n",
       "      <td>2019-08-31</td>\n",
       "      <td>B</td>\n",
       "      <td>18916</td>\n",
       "    </tr>\n",
       "  </tbody>\n",
       "</table>\n",
       "<p>62 rows × 3 columns</p>\n",
       "</div>"
      ],
      "text/plain": [
       "          date group  visitors\n",
       "55  2019-08-01     A       719\n",
       "66  2019-08-01     B       713\n",
       "175 2019-08-02     A      1338\n",
       "173 2019-08-02     B      1294\n",
       "291 2019-08-03     A      1845\n",
       "..         ...   ...       ...\n",
       "533 2019-08-29     B     17708\n",
       "757 2019-08-30     A     18037\n",
       "690 2019-08-30     B     18198\n",
       "958 2019-08-31     A     18736\n",
       "930 2019-08-31     B     18916\n",
       "\n",
       "[62 rows x 3 columns]"
      ]
     },
     "execution_count": 13,
     "metadata": {},
     "output_type": "execute_result"
    }
   ],
   "source": [
    "visitorsAggregated = datesGroups.apply(lambda x:\n",
    "                                      visitors[np.logical_and(visitors['date'] <= x['date'],\n",
    "                                                             visitors['group'] == x['group'])].agg({\n",
    "                                          'date' : 'max',\n",
    "                                          'group' : 'max',\n",
    "                                          'visitors' : 'sum'}), axis=1).sort_values(by=['date', 'group'])\n",
    "visitorsAggregated #собираем кумулятивные данные о посетителях"
   ]
  },
  {
   "cell_type": "code",
   "execution_count": 14,
   "metadata": {},
   "outputs": [
    {
     "data": {
      "text/html": [
       "<div>\n",
       "<style scoped>\n",
       "    .dataframe tbody tr th:only-of-type {\n",
       "        vertical-align: middle;\n",
       "    }\n",
       "\n",
       "    .dataframe tbody tr th {\n",
       "        vertical-align: top;\n",
       "    }\n",
       "\n",
       "    .dataframe thead th {\n",
       "        text-align: right;\n",
       "    }\n",
       "</style>\n",
       "<table border=\"1\" class=\"dataframe\">\n",
       "  <thead>\n",
       "    <tr style=\"text-align: right;\">\n",
       "      <th></th>\n",
       "      <th>date</th>\n",
       "      <th>group</th>\n",
       "      <th>orders</th>\n",
       "      <th>buyers</th>\n",
       "      <th>revenue</th>\n",
       "      <th>visitors</th>\n",
       "    </tr>\n",
       "  </thead>\n",
       "  <tbody>\n",
       "    <tr>\n",
       "      <th>0</th>\n",
       "      <td>2019-08-01</td>\n",
       "      <td>A</td>\n",
       "      <td>23</td>\n",
       "      <td>19</td>\n",
       "      <td>142779</td>\n",
       "      <td>719</td>\n",
       "    </tr>\n",
       "    <tr>\n",
       "      <th>1</th>\n",
       "      <td>2019-08-01</td>\n",
       "      <td>B</td>\n",
       "      <td>17</td>\n",
       "      <td>17</td>\n",
       "      <td>59758</td>\n",
       "      <td>713</td>\n",
       "    </tr>\n",
       "    <tr>\n",
       "      <th>2</th>\n",
       "      <td>2019-08-02</td>\n",
       "      <td>A</td>\n",
       "      <td>42</td>\n",
       "      <td>36</td>\n",
       "      <td>234381</td>\n",
       "      <td>1338</td>\n",
       "    </tr>\n",
       "    <tr>\n",
       "      <th>3</th>\n",
       "      <td>2019-08-02</td>\n",
       "      <td>B</td>\n",
       "      <td>40</td>\n",
       "      <td>39</td>\n",
       "      <td>221801</td>\n",
       "      <td>1294</td>\n",
       "    </tr>\n",
       "    <tr>\n",
       "      <th>4</th>\n",
       "      <td>2019-08-03</td>\n",
       "      <td>A</td>\n",
       "      <td>66</td>\n",
       "      <td>60</td>\n",
       "      <td>346854</td>\n",
       "      <td>1845</td>\n",
       "    </tr>\n",
       "  </tbody>\n",
       "</table>\n",
       "</div>"
      ],
      "text/plain": [
       "        date group  orders  buyers  revenue  visitors\n",
       "0 2019-08-01     A      23      19   142779       719\n",
       "1 2019-08-01     B      17      17    59758       713\n",
       "2 2019-08-02     A      42      36   234381      1338\n",
       "3 2019-08-02     B      40      39   221801      1294\n",
       "4 2019-08-03     A      66      60   346854      1845"
      ]
     },
     "execution_count": 14,
     "metadata": {},
     "output_type": "execute_result"
    }
   ],
   "source": [
    "# объединяем кумулятивные данные в одной таблице\n",
    "cumulativeData = ordersAggregated.merge(visitorsAggregated, left_on=['date', 'group'], right_on=['date', 'group'])\n",
    "cumulativeData.columns = ['date', 'group', 'orders', 'buyers', 'revenue', 'visitors']\n",
    "cumulativeData.head(5)"
   ]
  },
  {
   "cell_type": "code",
   "execution_count": 15,
   "metadata": {},
   "outputs": [
    {
     "data": {
      "image/png": "[encoded data removed]",
      "text/plain": [
       "<Figure size 720x360 with 1 Axes>"
      ]
     },
     "metadata": {
      "needs_background": "light"
     },
     "output_type": "display_data"
    }
   ],
   "source": [
    "#объявляем переменные по группам теста и строим график\n",
    "# датафрейм с кумулятивным количеством заказов и кумулятивной выручкой по дням в группе А\n",
    "cumulativeRevenueA = cumulativeData[cumulativeData['group']=='A'][['date','revenue', 'orders']]\n",
    "\n",
    "# датафрейм с кумулятивным количеством заказов и кумулятивной выручкой по дням в группе B\n",
    "cumulativeRevenueB = cumulativeData[cumulativeData['group']=='B'][['date','revenue', 'orders']]\n",
    "plt.figure(figsize=(10,5))\n",
    "# Строим график выручки группы А\n",
    "plt.plot(cumulativeRevenueA['date'], cumulativeRevenueA['revenue'], label='A')\n",
    "\n",
    "# Строим график выручки группы B\n",
    "plt.plot(cumulativeRevenueB['date'], cumulativeRevenueB['revenue'], label='B')\n",
    "\n",
    "plt.legend()\n",
    "plt.title('Выручка по группам')\n",
    "plt.xlabel('Дата')\n",
    "plt.ylabel('Выручка')\n",
    "plt.show()"
   ]
  },
  {
   "cell_type": "markdown",
   "metadata": {},
   "source": [
    "Ближе к середине теста сегмент В вышел вперед и продолжал лидировать весь остаток теста. Однако в середине теста заметет резкий скачок, возможно выбросы влияют на результаты."
   ]
  },
  {
   "cell_type": "markdown",
   "metadata": {},
   "source": [
    "### Кумулятивный средний чек по группам"
   ]
  },
  {
   "cell_type": "code",
   "execution_count": 16,
   "metadata": {},
   "outputs": [
    {
     "data": {
      "image/png": "[encoded data removed]",
      "text/plain": [
       "<Figure size 720x360 with 1 Axes>"
      ]
     },
     "metadata": {
      "needs_background": "light"
     },
     "output_type": "display_data"
    }
   ],
   "source": [
    "# строим графики кумулятивного среднего чека по группам\n",
    "plt.figure(figsize=(10,5))\n",
    "plt.plot(cumulativeRevenueA['date'], cumulativeRevenueA['revenue']/cumulativeRevenueA['orders'], label='A')\n",
    "plt.plot(cumulativeRevenueB['date'], cumulativeRevenueB['revenue']/cumulativeRevenueB['orders'], label='B')\n",
    "plt.legend()\n",
    "plt.title('Средний чек по группам')\n",
    "plt.xlabel('Дата')\n",
    "plt.ylabel('Средняя выручка с чека')\n",
    "plt.show()"
   ]
  },
  {
   "cell_type": "markdown",
   "metadata": {},
   "source": [
    "Кумулятивное движение среднего чека так же продолжает колебаться и в сегменте В так же заметен резкий скачок, требуется дополнительный анализ выбросов."
   ]
  },
  {
   "cell_type": "markdown",
   "metadata": {},
   "source": [
    "### Относительное изменение кумулятивного среднего чека группы B к группе A"
   ]
  },
  {
   "cell_type": "code",
   "execution_count": 17,
   "metadata": {},
   "outputs": [
    {
     "data": {
      "image/png": "[encoded data removed]",
      "text/plain": [
       "<Figure size 720x360 with 1 Axes>"
      ]
     },
     "metadata": {
      "needs_background": "light"
     },
     "output_type": "display_data"
    }
   ],
   "source": [
    "# собираем данные в одном датафрейме\n",
    "mergedCumulativeRevenue = cumulativeRevenueA.merge(cumulativeRevenueB, left_on='date', right_on='date', how='left', suffixes=['A', 'B'])\n",
    "plt.figure(figsize=(10,5))\n",
    "# cтроим отношение средних чеков\n",
    "plt.plot(mergedCumulativeRevenue['date'], (mergedCumulativeRevenue['revenueB']/mergedCumulativeRevenue['ordersB'])/(mergedCumulativeRevenue['revenueA']/mergedCumulativeRevenue['ordersA'])-1)\n",
    "\n",
    "# добавляем ось X\n",
    "plt.axhline(y=0, color='black', linestyle='--') \n",
    "plt.title('Кумулятивное изменение группы В к группе А')\n",
    "plt.xlabel('Дата')\n",
    "plt.ylabel('Конверсия')\n",
    "plt.show()"
   ]
  },
  {
   "cell_type": "markdown",
   "metadata": {},
   "source": [
    "Результаты теста резко и значительно менялись на протяжении теста, скорее всего именно тогда и были совершены аномальные заказы"
   ]
  },
  {
   "cell_type": "markdown",
   "metadata": {},
   "source": [
    "### Кумулятивная конверсия по группам"
   ]
  },
  {
   "cell_type": "code",
   "execution_count": 18,
   "metadata": {},
   "outputs": [
    {
     "data": {
      "text/html": [
       "<div>\n",
       "<style scoped>\n",
       "    .dataframe tbody tr th:only-of-type {\n",
       "        vertical-align: middle;\n",
       "    }\n",
       "\n",
       "    .dataframe tbody tr th {\n",
       "        vertical-align: top;\n",
       "    }\n",
       "\n",
       "    .dataframe thead th {\n",
       "        text-align: right;\n",
       "    }\n",
       "</style>\n",
       "<table border=\"1\" class=\"dataframe\">\n",
       "  <thead>\n",
       "    <tr style=\"text-align: right;\">\n",
       "      <th></th>\n",
       "      <th>date</th>\n",
       "      <th>group</th>\n",
       "      <th>orders</th>\n",
       "      <th>buyers</th>\n",
       "      <th>revenue</th>\n",
       "      <th>visitors</th>\n",
       "      <th>conversion</th>\n",
       "    </tr>\n",
       "  </thead>\n",
       "  <tbody>\n",
       "    <tr>\n",
       "      <th>0</th>\n",
       "      <td>2019-08-01</td>\n",
       "      <td>A</td>\n",
       "      <td>23</td>\n",
       "      <td>19</td>\n",
       "      <td>142779</td>\n",
       "      <td>719</td>\n",
       "      <td>0.032</td>\n",
       "    </tr>\n",
       "    <tr>\n",
       "      <th>1</th>\n",
       "      <td>2019-08-01</td>\n",
       "      <td>B</td>\n",
       "      <td>17</td>\n",
       "      <td>17</td>\n",
       "      <td>59758</td>\n",
       "      <td>713</td>\n",
       "      <td>0.024</td>\n",
       "    </tr>\n",
       "    <tr>\n",
       "      <th>2</th>\n",
       "      <td>2019-08-02</td>\n",
       "      <td>A</td>\n",
       "      <td>42</td>\n",
       "      <td>36</td>\n",
       "      <td>234381</td>\n",
       "      <td>1338</td>\n",
       "      <td>0.031</td>\n",
       "    </tr>\n",
       "    <tr>\n",
       "      <th>3</th>\n",
       "      <td>2019-08-02</td>\n",
       "      <td>B</td>\n",
       "      <td>40</td>\n",
       "      <td>39</td>\n",
       "      <td>221801</td>\n",
       "      <td>1294</td>\n",
       "      <td>0.031</td>\n",
       "    </tr>\n",
       "    <tr>\n",
       "      <th>4</th>\n",
       "      <td>2019-08-03</td>\n",
       "      <td>A</td>\n",
       "      <td>66</td>\n",
       "      <td>60</td>\n",
       "      <td>346854</td>\n",
       "      <td>1845</td>\n",
       "      <td>0.036</td>\n",
       "    </tr>\n",
       "  </tbody>\n",
       "</table>\n",
       "</div>"
      ],
      "text/plain": [
       "        date group  orders  buyers  revenue  visitors  conversion\n",
       "0 2019-08-01     A      23      19   142779       719       0.032\n",
       "1 2019-08-01     B      17      17    59758       713       0.024\n",
       "2 2019-08-02     A      42      36   234381      1338       0.031\n",
       "3 2019-08-02     B      40      39   221801      1294       0.031\n",
       "4 2019-08-03     A      66      60   346854      1845       0.036"
      ]
     },
     "metadata": {},
     "output_type": "display_data"
    }
   ],
   "source": [
    "# добавляем показатели конвернсии в массив\n",
    "cumulativeData['conversion'] = round(cumulativeData['orders'] / cumulativeData['visitors'], 3)\n",
    "display(cumulativeData.head())"
   ]
  },
  {
   "cell_type": "code",
   "execution_count": 19,
   "metadata": {
    "scrolled": true
   },
   "outputs": [
    {
     "name": "stdout",
     "output_type": "stream",
     "text": [
      "2019-08-31 00:00:00\n",
      "2019-08-01 00:00:00\n",
      "0.036\n"
     ]
    }
   ],
   "source": [
    "# для того чтобы задать масштаб графика определим максимальную и минимальную даты\n",
    "# и максимальную и минимальную конверсии\n",
    "print(cumulativeData['date'].max())\n",
    "print(cumulativeData['date'].min())\n",
    "print(cumulativeData['conversion'].max())"
   ]
  },
  {
   "cell_type": "code",
   "execution_count": 20,
   "metadata": {},
   "outputs": [
    {
     "data": {
      "image/png": "[encoded data removed]",
      "text/plain": [
       "<Figure size 720x360 with 1 Axes>"
      ]
     },
     "metadata": {
      "needs_background": "light"
     },
     "output_type": "display_data"
    }
   ],
   "source": [
    "# отделяем данные по группе A\n",
    "cumulativeDataA = cumulativeData[cumulativeData['group']=='A']\n",
    "\n",
    "# отделяем данные по группе B\n",
    "cumulativeDataB = cumulativeData[cumulativeData['group']=='B']\n",
    "\n",
    "# строим графики\n",
    "plt.figure(figsize=(10,5))\n",
    "plt.plot(cumulativeDataA['date'], cumulativeDataA['conversion'], label='A')\n",
    "plt.plot(cumulativeDataB['date'], cumulativeDataB['conversion'], label='B')\n",
    "plt.legend()\n",
    "plt.axis([dt.datetime(2019, 8, 1), dt.datetime(2019, 8, 31), 0, 0.036])\n",
    "plt.title('Измения конверсии по группам')\n",
    "plt.xlabel('Дата')\n",
    "plt.ylabel('Конверсия')\n",
    "plt.show()"
   ]
  },
  {
   "cell_type": "markdown",
   "metadata": {},
   "source": [
    "В начале теста видно, что сегмент А имел большую конверсию чем сегмент В, но со временем сегмент В выровнялся, а сегмент А снизился и конверсии обоих сегментов зафиксировались."
   ]
  },
  {
   "cell_type": "markdown",
   "metadata": {},
   "source": [
    "### Относительное изменение кумулятивной конверсии группы B к группе A"
   ]
  },
  {
   "cell_type": "code",
   "execution_count": 21,
   "metadata": {},
   "outputs": [
    {
     "data": {
      "image/png": "[encoded data removed]",
      "text/plain": [
       "<Figure size 720x360 with 1 Axes>"
      ]
     },
     "metadata": {
      "needs_background": "light"
     },
     "output_type": "display_data"
    }
   ],
   "source": [
    "mergedCumulativeConversions = cumulativeDataA[['date','conversion']].merge(cumulativeDataB[['date','conversion']], left_on='date', right_on='date', how='left', suffixes=['A', 'B'])\n",
    "plt.figure(figsize=(10,5))\n",
    "plt.plot(mergedCumulativeConversions['date'], mergedCumulativeConversions['conversionB']/mergedCumulativeConversions['conversionA']-1, label=\"Относительный прирост конверсии группы B относительно группы A\")\n",
    "plt.legend()\n",
    "\n",
    "plt.axhline(y=0, color='black', linestyle='--')\n",
    "plt.axhline(y=0.2, color='grey', linestyle='--')\n",
    "plt.axis([dt.datetime(2019, 8, 1), dt.datetime(2019, 8, 31), -0.5, 0.5])\n",
    "plt.title('Относительный прирост конверсии')\n",
    "plt.xlabel('Дата')\n",
    "plt.ylabel('Конверсия')\n",
    "plt.show()"
   ]
  },
  {
   "cell_type": "markdown",
   "metadata": {},
   "source": [
    "В начале теста группа В проигрывала группе А, но затем выросла, и вырвалась вперед и практически зафиксировалась. Но отношение конверсии еще не установилось. Стоит проанализировать аномалии, возможно они изменят картину."
   ]
  },
  {
   "cell_type": "markdown",
   "metadata": {},
   "source": [
    "### Количество заказов по пользователям"
   ]
  },
  {
   "cell_type": "code",
   "execution_count": 22,
   "metadata": {},
   "outputs": [
    {
     "data": {
      "text/html": [
       "<div>\n",
       "<style scoped>\n",
       "    .dataframe tbody tr th:only-of-type {\n",
       "        vertical-align: middle;\n",
       "    }\n",
       "\n",
       "    .dataframe tbody tr th {\n",
       "        vertical-align: top;\n",
       "    }\n",
       "\n",
       "    .dataframe thead th {\n",
       "        text-align: right;\n",
       "    }\n",
       "</style>\n",
       "<table border=\"1\" class=\"dataframe\">\n",
       "  <thead>\n",
       "    <tr style=\"text-align: right;\">\n",
       "      <th></th>\n",
       "      <th>userId</th>\n",
       "      <th>orders</th>\n",
       "    </tr>\n",
       "  </thead>\n",
       "  <tbody>\n",
       "    <tr>\n",
       "      <th>908</th>\n",
       "      <td>3967698036</td>\n",
       "      <td>3</td>\n",
       "    </tr>\n",
       "    <tr>\n",
       "      <th>55</th>\n",
       "      <td>249864742</td>\n",
       "      <td>3</td>\n",
       "    </tr>\n",
       "    <tr>\n",
       "      <th>478</th>\n",
       "      <td>2108163459</td>\n",
       "      <td>3</td>\n",
       "    </tr>\n",
       "    <tr>\n",
       "      <th>687</th>\n",
       "      <td>2988190573</td>\n",
       "      <td>3</td>\n",
       "    </tr>\n",
       "    <tr>\n",
       "      <th>890</th>\n",
       "      <td>3908431265</td>\n",
       "      <td>3</td>\n",
       "    </tr>\n",
       "    <tr>\n",
       "      <th>138</th>\n",
       "      <td>611059232</td>\n",
       "      <td>3</td>\n",
       "    </tr>\n",
       "    <tr>\n",
       "      <th>632</th>\n",
       "      <td>2742574263</td>\n",
       "      <td>3</td>\n",
       "    </tr>\n",
       "    <tr>\n",
       "      <th>157</th>\n",
       "      <td>678354126</td>\n",
       "      <td>2</td>\n",
       "    </tr>\n",
       "    <tr>\n",
       "      <th>323</th>\n",
       "      <td>1404560065</td>\n",
       "      <td>2</td>\n",
       "    </tr>\n",
       "    <tr>\n",
       "      <th>452</th>\n",
       "      <td>1985475298</td>\n",
       "      <td>2</td>\n",
       "    </tr>\n",
       "  </tbody>\n",
       "</table>\n",
       "</div>"
      ],
      "text/plain": [
       "         userId  orders\n",
       "908  3967698036       3\n",
       "55    249864742       3\n",
       "478  2108163459       3\n",
       "687  2988190573       3\n",
       "890  3908431265       3\n",
       "138   611059232       3\n",
       "632  2742574263       3\n",
       "157   678354126       2\n",
       "323  1404560065       2\n",
       "452  1985475298       2"
      ]
     },
     "metadata": {},
     "output_type": "display_data"
    }
   ],
   "source": [
    "ordersByUsers = (\n",
    "    orders.groupby('visitorId', as_index=False)\n",
    "    .agg({'transactionId': 'nunique'})\n",
    ")\n",
    "\n",
    "ordersByUsers.columns = ['userId', 'orders']\n",
    "\n",
    "display(ordersByUsers.sort_values(by='orders', ascending=False).head(10)) "
   ]
  },
  {
   "cell_type": "code",
   "execution_count": 23,
   "metadata": {},
   "outputs": [
    {
     "data": {
      "image/png": "[encoded data removed]",
      "text/plain": [
       "<Figure size 432x288 with 1 Axes>"
      ]
     },
     "metadata": {
      "needs_background": "light"
     },
     "output_type": "display_data"
    }
   ],
   "source": [
    "plt.hist(ordersByUsers['orders'])\n",
    "plt.title('Гистограмма распределения заказов')\n",
    "plt.xlabel('Количество')\n",
    "plt.ylabel('Пользователи')\n",
    "plt.show()"
   ]
  },
  {
   "cell_type": "markdown",
   "metadata": {},
   "source": [
    "Большинство пользователей совершило один заказ, но чтобы определить сколько пользователей совершило 2 и более заказов построим точечный график."
   ]
  },
  {
   "cell_type": "code",
   "execution_count": 24,
   "metadata": {},
   "outputs": [
    {
     "data": {
      "image/png": "[encoded data removed]",
      "text/plain": [
       "<Figure size 432x288 with 1 Axes>"
      ]
     },
     "metadata": {
      "needs_background": "light"
     },
     "output_type": "display_data"
    }
   ],
   "source": [
    "x_values = pd.Series(range(0, len(ordersByUsers)))\n",
    "plt.scatter(x_values, ordersByUsers['orders']) \n",
    "plt.title('Распределение заказов')\n",
    "plt.xlabel('Пользователи')\n",
    "plt.ylabel('Кол-во заказов')\n",
    "plt.show()"
   ]
  },
  {
   "cell_type": "markdown",
   "metadata": {},
   "source": [
    "Пользователи сделавших 3 заказа очень мало всего лишь 7 человек, возможно они и могут выбросами, чтобы определить так ли это посчитаем перцентили"
   ]
  },
  {
   "cell_type": "markdown",
   "metadata": {},
   "source": [
    "### Считаем 95-й и 99-й перцентили количества заказов на пользователя"
   ]
  },
  {
   "cell_type": "code",
   "execution_count": 25,
   "metadata": {},
   "outputs": [
    {
     "name": "stdout",
     "output_type": "stream",
     "text": [
      "[1. 2.]\n"
     ]
    }
   ],
   "source": [
    "print(np.percentile(ordersByUsers['orders'], [95, 99]))"
   ]
  },
  {
   "cell_type": "markdown",
   "metadata": {},
   "source": [
    "Не более 5% пользователей совершали 2 заказа и не более 1% пользователей совершали 3 заказа."
   ]
  },
  {
   "cell_type": "markdown",
   "metadata": {},
   "source": [
    "### Строим точечный график стоимостей заказов"
   ]
  },
  {
   "cell_type": "code",
   "execution_count": 26,
   "metadata": {},
   "outputs": [
    {
     "data": {
      "text/html": [
       "<div>\n",
       "<style scoped>\n",
       "    .dataframe tbody tr th:only-of-type {\n",
       "        vertical-align: middle;\n",
       "    }\n",
       "\n",
       "    .dataframe tbody tr th {\n",
       "        vertical-align: top;\n",
       "    }\n",
       "\n",
       "    .dataframe thead th {\n",
       "        text-align: right;\n",
       "    }\n",
       "</style>\n",
       "<table border=\"1\" class=\"dataframe\">\n",
       "  <thead>\n",
       "    <tr style=\"text-align: right;\">\n",
       "      <th></th>\n",
       "      <th>transactionId</th>\n",
       "      <th>visitorId</th>\n",
       "      <th>date</th>\n",
       "      <th>revenue</th>\n",
       "      <th>group</th>\n",
       "    </tr>\n",
       "  </thead>\n",
       "  <tbody>\n",
       "    <tr>\n",
       "      <th>425</th>\n",
       "      <td>590470918</td>\n",
       "      <td>1920142716</td>\n",
       "      <td>2019-08-19</td>\n",
       "      <td>1294500</td>\n",
       "      <td>B</td>\n",
       "    </tr>\n",
       "    <tr>\n",
       "      <th>1196</th>\n",
       "      <td>3936777065</td>\n",
       "      <td>2108080724</td>\n",
       "      <td>2019-08-15</td>\n",
       "      <td>202740</td>\n",
       "      <td>B</td>\n",
       "    </tr>\n",
       "    <tr>\n",
       "      <th>1136</th>\n",
       "      <td>666610489</td>\n",
       "      <td>1307669133</td>\n",
       "      <td>2019-08-13</td>\n",
       "      <td>92550</td>\n",
       "      <td>A</td>\n",
       "    </tr>\n",
       "    <tr>\n",
       "      <th>744</th>\n",
       "      <td>3668308183</td>\n",
       "      <td>888512513</td>\n",
       "      <td>2019-08-27</td>\n",
       "      <td>86620</td>\n",
       "      <td>B</td>\n",
       "    </tr>\n",
       "    <tr>\n",
       "      <th>743</th>\n",
       "      <td>3603576309</td>\n",
       "      <td>4133034833</td>\n",
       "      <td>2019-08-09</td>\n",
       "      <td>67990</td>\n",
       "      <td>A</td>\n",
       "    </tr>\n",
       "    <tr>\n",
       "      <th>1103</th>\n",
       "      <td>1348774318</td>\n",
       "      <td>1164614297</td>\n",
       "      <td>2019-08-12</td>\n",
       "      <td>66350</td>\n",
       "      <td>A</td>\n",
       "    </tr>\n",
       "    <tr>\n",
       "      <th>1099</th>\n",
       "      <td>316924019</td>\n",
       "      <td>148427295</td>\n",
       "      <td>2019-08-12</td>\n",
       "      <td>65710</td>\n",
       "      <td>A</td>\n",
       "    </tr>\n",
       "    <tr>\n",
       "      <th>949</th>\n",
       "      <td>1347999392</td>\n",
       "      <td>887908475</td>\n",
       "      <td>2019-08-21</td>\n",
       "      <td>60450</td>\n",
       "      <td>A</td>\n",
       "    </tr>\n",
       "    <tr>\n",
       "      <th>940</th>\n",
       "      <td>2420050534</td>\n",
       "      <td>4003628586</td>\n",
       "      <td>2019-08-08</td>\n",
       "      <td>58550</td>\n",
       "      <td>B</td>\n",
       "    </tr>\n",
       "    <tr>\n",
       "      <th>131</th>\n",
       "      <td>3163614039</td>\n",
       "      <td>2254586615</td>\n",
       "      <td>2019-08-22</td>\n",
       "      <td>53904</td>\n",
       "      <td>A</td>\n",
       "    </tr>\n",
       "  </tbody>\n",
       "</table>\n",
       "</div>"
      ],
      "text/plain": [
       "      transactionId   visitorId       date  revenue group\n",
       "425       590470918  1920142716 2019-08-19  1294500     B\n",
       "1196     3936777065  2108080724 2019-08-15   202740     B\n",
       "1136      666610489  1307669133 2019-08-13    92550     A\n",
       "744      3668308183   888512513 2019-08-27    86620     B\n",
       "743      3603576309  4133034833 2019-08-09    67990     A\n",
       "1103     1348774318  1164614297 2019-08-12    66350     A\n",
       "1099      316924019   148427295 2019-08-12    65710     A\n",
       "949      1347999392   887908475 2019-08-21    60450     A\n",
       "940      2420050534  4003628586 2019-08-08    58550     B\n",
       "131      3163614039  2254586615 2019-08-22    53904     A"
      ]
     },
     "metadata": {},
     "output_type": "display_data"
    },
    {
     "data": {
      "image/png": "[encoded data removed]",
      "text/plain": [
       "<Figure size 432x288 with 1 Axes>"
      ]
     },
     "metadata": {
      "needs_background": "light"
     },
     "output_type": "display_data"
    }
   ],
   "source": [
    "display(orders.sort_values(by='revenue', ascending=False).head(10))\n",
    "x_values = pd.Series(range(0, len(orders['revenue'])))\n",
    "plt.scatter(x_values, orders['revenue'])\n",
    "plt.title('Распределения стоимости заказов')\n",
    "plt.xlabel('Пользователи')\n",
    "plt.ylabel('Стоимость заказа')\n",
    "plt.show()"
   ]
  },
  {
   "cell_type": "markdown",
   "metadata": {},
   "source": [
    "Большая часть заказов находиться до 100 тыс. руб., есть один заказ в 200 тыс. руб и один заказ свыше 1.2 млн. руб. Заказ свыше одного млн. выглядит аномально. Посчитаем перцентили стоимости заказов."
   ]
  },
  {
   "cell_type": "markdown",
   "metadata": {},
   "source": [
    "### Считаем 95-й и 99-й перцентили стоимости заказов"
   ]
  },
  {
   "cell_type": "code",
   "execution_count": 27,
   "metadata": {},
   "outputs": [
    {
     "name": "stdout",
     "output_type": "stream",
     "text": [
      "[26785. 53904.]\n"
     ]
    }
   ],
   "source": [
    "print(np.percentile(orders['revenue'], [95, 99])) "
   ]
  },
  {
   "cell_type": "markdown",
   "metadata": {},
   "source": [
    "Большая часть заказов была сделана до 26785 тыс. руб. 5% от 26785 до 53904 и не больше чем 1% свыше 53904 тыс. руб."
   ]
  },
  {
   "cell_type": "markdown",
   "metadata": {},
   "source": [
    "### Считаем статистическую значимость различий в конверсии между группами по «сырым» данным"
   ]
  },
  {
   "cell_type": "code",
   "execution_count": 28,
   "metadata": {},
   "outputs": [
    {
     "data": {
      "text/html": [
       "<div>\n",
       "<style scoped>\n",
       "    .dataframe tbody tr th:only-of-type {\n",
       "        vertical-align: middle;\n",
       "    }\n",
       "\n",
       "    .dataframe tbody tr th {\n",
       "        vertical-align: top;\n",
       "    }\n",
       "\n",
       "    .dataframe thead th {\n",
       "        text-align: right;\n",
       "    }\n",
       "</style>\n",
       "<table border=\"1\" class=\"dataframe\">\n",
       "  <thead>\n",
       "    <tr style=\"text-align: right;\">\n",
       "      <th></th>\n",
       "      <th>date</th>\n",
       "      <th>ordersPerDateA</th>\n",
       "      <th>revenuePerDateA</th>\n",
       "      <th>ordersPerDateB</th>\n",
       "      <th>revenuePerDateB</th>\n",
       "      <th>ordersCummulativeA</th>\n",
       "      <th>revenueCummulativeA</th>\n",
       "      <th>ordersCummulativeB</th>\n",
       "      <th>revenueCummulativeB</th>\n",
       "      <th>visitorsPerDateA</th>\n",
       "      <th>visitorsPerDateB</th>\n",
       "      <th>visitorsCummulativeA</th>\n",
       "      <th>visitorsCummulativeB</th>\n",
       "    </tr>\n",
       "  </thead>\n",
       "  <tbody>\n",
       "    <tr>\n",
       "      <th>0</th>\n",
       "      <td>2019-08-01</td>\n",
       "      <td>23</td>\n",
       "      <td>142779</td>\n",
       "      <td>17</td>\n",
       "      <td>59758</td>\n",
       "      <td>23</td>\n",
       "      <td>142779</td>\n",
       "      <td>17</td>\n",
       "      <td>59758</td>\n",
       "      <td>719</td>\n",
       "      <td>713</td>\n",
       "      <td>719</td>\n",
       "      <td>713</td>\n",
       "    </tr>\n",
       "    <tr>\n",
       "      <th>1</th>\n",
       "      <td>2019-08-02</td>\n",
       "      <td>19</td>\n",
       "      <td>91602</td>\n",
       "      <td>23</td>\n",
       "      <td>162043</td>\n",
       "      <td>42</td>\n",
       "      <td>234381</td>\n",
       "      <td>40</td>\n",
       "      <td>221801</td>\n",
       "      <td>619</td>\n",
       "      <td>581</td>\n",
       "      <td>1338</td>\n",
       "      <td>1294</td>\n",
       "    </tr>\n",
       "    <tr>\n",
       "      <th>2</th>\n",
       "      <td>2019-08-03</td>\n",
       "      <td>24</td>\n",
       "      <td>112473</td>\n",
       "      <td>14</td>\n",
       "      <td>67049</td>\n",
       "      <td>66</td>\n",
       "      <td>346854</td>\n",
       "      <td>54</td>\n",
       "      <td>288850</td>\n",
       "      <td>507</td>\n",
       "      <td>509</td>\n",
       "      <td>1845</td>\n",
       "      <td>1803</td>\n",
       "    </tr>\n",
       "    <tr>\n",
       "      <th>3</th>\n",
       "      <td>2019-08-04</td>\n",
       "      <td>11</td>\n",
       "      <td>41176</td>\n",
       "      <td>14</td>\n",
       "      <td>96890</td>\n",
       "      <td>77</td>\n",
       "      <td>388030</td>\n",
       "      <td>68</td>\n",
       "      <td>385740</td>\n",
       "      <td>717</td>\n",
       "      <td>770</td>\n",
       "      <td>2562</td>\n",
       "      <td>2573</td>\n",
       "    </tr>\n",
       "    <tr>\n",
       "      <th>4</th>\n",
       "      <td>2019-08-05</td>\n",
       "      <td>22</td>\n",
       "      <td>86383</td>\n",
       "      <td>21</td>\n",
       "      <td>89908</td>\n",
       "      <td>99</td>\n",
       "      <td>474413</td>\n",
       "      <td>89</td>\n",
       "      <td>475648</td>\n",
       "      <td>756</td>\n",
       "      <td>707</td>\n",
       "      <td>3318</td>\n",
       "      <td>3280</td>\n",
       "    </tr>\n",
       "  </tbody>\n",
       "</table>\n",
       "</div>"
      ],
      "text/plain": [
       "        date  ordersPerDateA  revenuePerDateA  ordersPerDateB  \\\n",
       "0 2019-08-01              23           142779              17   \n",
       "1 2019-08-02              19            91602              23   \n",
       "2 2019-08-03              24           112473              14   \n",
       "3 2019-08-04              11            41176              14   \n",
       "4 2019-08-05              22            86383              21   \n",
       "\n",
       "   revenuePerDateB  ordersCummulativeA  revenueCummulativeA  \\\n",
       "0            59758                  23               142779   \n",
       "1           162043                  42               234381   \n",
       "2            67049                  66               346854   \n",
       "3            96890                  77               388030   \n",
       "4            89908                  99               474413   \n",
       "\n",
       "   ordersCummulativeB  revenueCummulativeB  visitorsPerDateA  \\\n",
       "0                  17                59758               719   \n",
       "1                  40               221801               619   \n",
       "2                  54               288850               507   \n",
       "3                  68               385740               717   \n",
       "4                  89               475648               756   \n",
       "\n",
       "   visitorsPerDateB  visitorsCummulativeA  visitorsCummulativeB  \n",
       "0               713                   719                   713  \n",
       "1               581                  1338                  1294  \n",
       "2               509                  1845                  1803  \n",
       "3               770                  2562                  2573  \n",
       "4               707                  3318                  3280  "
      ]
     },
     "metadata": {},
     "output_type": "display_data"
    }
   ],
   "source": [
    "# Соберем кумулятивные данные по заказам и пользователям в один массив\n",
    "# Собираем данные по пользователям\n",
    "visitorsADaily = visitors[visitors['group'] == 'A'][['date', 'visitors']]\n",
    "visitorsADaily.columns = ['date', 'visitorsPerDateA']\n",
    "\n",
    "visitorsACummulative = visitorsADaily.apply(\n",
    "    lambda x: visitorsADaily[visitorsADaily['date'] <= x['date']].agg(\n",
    "        {'date': 'max', 'visitorsPerDateA': 'sum'}\n",
    "    ),\n",
    "    axis=1,\n",
    ")\n",
    "visitorsACummulative.columns = ['date', 'visitorsCummulativeA']\n",
    "\n",
    "visitorsBDaily = visitors[visitors['group'] == 'B'][['date', 'visitors']]\n",
    "visitorsBDaily.columns = ['date', 'visitorsPerDateB']\n",
    "\n",
    "visitorsBCummulative = visitorsBDaily.apply(\n",
    "    lambda x: visitorsBDaily[visitorsBDaily['date'] <= x['date']].agg(\n",
    "        {'date': 'max', 'visitorsPerDateB': 'sum'}\n",
    "    ),\n",
    "    axis=1,\n",
    ")\n",
    "visitorsBCummulative.columns = ['date', 'visitorsCummulativeB']\n",
    "# Аналогично делаем с заказам\n",
    "ordersADaily = (\n",
    "    orders[orders['group'] == 'A'][['date', 'transactionId', 'visitorId', 'revenue']]\n",
    "    .groupby('date', as_index=False)\n",
    "    .agg({'transactionId': pd.Series.nunique, 'revenue': 'sum'})\n",
    ")\n",
    "ordersADaily.columns = ['date', 'ordersPerDateA', 'revenuePerDateA']\n",
    "\n",
    "ordersACummulative = ordersADaily.apply(\n",
    "    lambda x: ordersADaily[ordersADaily['date'] <= x['date']].agg(\n",
    "        {'date': 'max', 'ordersPerDateA': 'sum', 'revenuePerDateA': 'sum'}\n",
    "    ),\n",
    "    axis=1,\n",
    ").sort_values(by=['date'])\n",
    "ordersACummulative.columns = [\n",
    "    'date',\n",
    "    'ordersCummulativeA',\n",
    "    'revenueCummulativeA',\n",
    "]\n",
    "\n",
    "ordersBDaily = (\n",
    "    orders[orders['group'] == 'B'][['date', 'transactionId', 'visitorId', 'revenue']]\n",
    "    .groupby('date', as_index=False)\n",
    "    .agg({'transactionId': pd.Series.nunique, 'revenue': 'sum'})\n",
    ")\n",
    "ordersBDaily.columns = ['date', 'ordersPerDateB', 'revenuePerDateB']\n",
    "\n",
    "ordersBCummulative = ordersBDaily.apply(\n",
    "    lambda x: ordersBDaily[ordersBDaily['date'] <= x['date']].agg(\n",
    "        {'date': 'max', 'ordersPerDateB': 'sum', 'revenuePerDateB': 'sum'}\n",
    "    ),\n",
    "    axis=1,\n",
    ").sort_values(by=['date'])\n",
    "ordersBCummulative.columns = [\n",
    "    'date',\n",
    "    'ordersCummulativeB',\n",
    "    'revenueCummulativeB',\n",
    "]\n",
    "# Собираем полученные данные в один массив\n",
    "df = (\n",
    "    ordersADaily.merge(\n",
    "        ordersBDaily, left_on='date', right_on='date', how='left'\n",
    "    )\n",
    "    .merge(ordersACummulative, left_on='date', right_on='date', how='left')\n",
    "    .merge(ordersBCummulative, left_on='date', right_on='date', how='left')\n",
    "    .merge(visitorsADaily, left_on='date', right_on='date', how='left')\n",
    "    .merge(visitorsBDaily, left_on='date', right_on='date', how='left')\n",
    "    .merge(visitorsACummulative, left_on='date', right_on='date', how='left')\n",
    "    .merge(visitorsBCummulative, left_on='date', right_on='date', how='left')\n",
    ")\n",
    "\n",
    "display(df.head(5)) "
   ]
  },
  {
   "cell_type": "code",
   "execution_count": 29,
   "metadata": {},
   "outputs": [
    {
     "data": {
      "text/html": [
       "<div>\n",
       "<style scoped>\n",
       "    .dataframe tbody tr th:only-of-type {\n",
       "        vertical-align: middle;\n",
       "    }\n",
       "\n",
       "    .dataframe tbody tr th {\n",
       "        vertical-align: top;\n",
       "    }\n",
       "\n",
       "    .dataframe thead th {\n",
       "        text-align: right;\n",
       "    }\n",
       "</style>\n",
       "<table border=\"1\" class=\"dataframe\">\n",
       "  <thead>\n",
       "    <tr style=\"text-align: right;\">\n",
       "      <th></th>\n",
       "      <th>userId</th>\n",
       "      <th>orders</th>\n",
       "    </tr>\n",
       "  </thead>\n",
       "  <tbody>\n",
       "    <tr>\n",
       "      <th>0</th>\n",
       "      <td>11685486</td>\n",
       "      <td>1</td>\n",
       "    </tr>\n",
       "    <tr>\n",
       "      <th>1</th>\n",
       "      <td>54447517</td>\n",
       "      <td>1</td>\n",
       "    </tr>\n",
       "    <tr>\n",
       "      <th>2</th>\n",
       "      <td>66685450</td>\n",
       "      <td>1</td>\n",
       "    </tr>\n",
       "    <tr>\n",
       "      <th>3</th>\n",
       "      <td>78758296</td>\n",
       "      <td>1</td>\n",
       "    </tr>\n",
       "    <tr>\n",
       "      <th>4</th>\n",
       "      <td>85103373</td>\n",
       "      <td>1</td>\n",
       "    </tr>\n",
       "    <tr>\n",
       "      <th>...</th>\n",
       "      <td>...</td>\n",
       "      <td>...</td>\n",
       "    </tr>\n",
       "    <tr>\n",
       "      <th>440</th>\n",
       "      <td>4227830084</td>\n",
       "      <td>1</td>\n",
       "    </tr>\n",
       "    <tr>\n",
       "      <th>441</th>\n",
       "      <td>4237561104</td>\n",
       "      <td>1</td>\n",
       "    </tr>\n",
       "    <tr>\n",
       "      <th>442</th>\n",
       "      <td>4243832526</td>\n",
       "      <td>1</td>\n",
       "    </tr>\n",
       "    <tr>\n",
       "      <th>443</th>\n",
       "      <td>4259830713</td>\n",
       "      <td>1</td>\n",
       "    </tr>\n",
       "    <tr>\n",
       "      <th>444</th>\n",
       "      <td>4278982564</td>\n",
       "      <td>1</td>\n",
       "    </tr>\n",
       "  </tbody>\n",
       "</table>\n",
       "<p>445 rows × 2 columns</p>\n",
       "</div>"
      ],
      "text/plain": [
       "         userId  orders\n",
       "0      11685486       1\n",
       "1      54447517       1\n",
       "2      66685450       1\n",
       "3      78758296       1\n",
       "4      85103373       1\n",
       "..          ...     ...\n",
       "440  4227830084       1\n",
       "441  4237561104       1\n",
       "442  4243832526       1\n",
       "443  4259830713       1\n",
       "444  4278982564       1\n",
       "\n",
       "[445 rows x 2 columns]"
      ]
     },
     "metadata": {},
     "output_type": "display_data"
    },
    {
     "data": {
      "text/html": [
       "<div>\n",
       "<style scoped>\n",
       "    .dataframe tbody tr th:only-of-type {\n",
       "        vertical-align: middle;\n",
       "    }\n",
       "\n",
       "    .dataframe tbody tr th {\n",
       "        vertical-align: top;\n",
       "    }\n",
       "\n",
       "    .dataframe thead th {\n",
       "        text-align: right;\n",
       "    }\n",
       "</style>\n",
       "<table border=\"1\" class=\"dataframe\">\n",
       "  <thead>\n",
       "    <tr style=\"text-align: right;\">\n",
       "      <th></th>\n",
       "      <th>userId</th>\n",
       "      <th>orders</th>\n",
       "    </tr>\n",
       "  </thead>\n",
       "  <tbody>\n",
       "    <tr>\n",
       "      <th>0</th>\n",
       "      <td>5114589</td>\n",
       "      <td>1</td>\n",
       "    </tr>\n",
       "    <tr>\n",
       "      <th>1</th>\n",
       "      <td>6958315</td>\n",
       "      <td>1</td>\n",
       "    </tr>\n",
       "    <tr>\n",
       "      <th>2</th>\n",
       "      <td>39475350</td>\n",
       "      <td>1</td>\n",
       "    </tr>\n",
       "    <tr>\n",
       "      <th>3</th>\n",
       "      <td>47206413</td>\n",
       "      <td>1</td>\n",
       "    </tr>\n",
       "    <tr>\n",
       "      <th>4</th>\n",
       "      <td>48147722</td>\n",
       "      <td>1</td>\n",
       "    </tr>\n",
       "    <tr>\n",
       "      <th>...</th>\n",
       "      <td>...</td>\n",
       "      <td>...</td>\n",
       "    </tr>\n",
       "    <tr>\n",
       "      <th>523</th>\n",
       "      <td>4251115836</td>\n",
       "      <td>1</td>\n",
       "    </tr>\n",
       "    <tr>\n",
       "      <th>524</th>\n",
       "      <td>4258103007</td>\n",
       "      <td>1</td>\n",
       "    </tr>\n",
       "    <tr>\n",
       "      <th>525</th>\n",
       "      <td>4279090005</td>\n",
       "      <td>1</td>\n",
       "    </tr>\n",
       "    <tr>\n",
       "      <th>526</th>\n",
       "      <td>4281247801</td>\n",
       "      <td>1</td>\n",
       "    </tr>\n",
       "    <tr>\n",
       "      <th>527</th>\n",
       "      <td>4283872382</td>\n",
       "      <td>1</td>\n",
       "    </tr>\n",
       "  </tbody>\n",
       "</table>\n",
       "<p>528 rows × 2 columns</p>\n",
       "</div>"
      ],
      "text/plain": [
       "         userId  orders\n",
       "0       5114589       1\n",
       "1       6958315       1\n",
       "2      39475350       1\n",
       "3      47206413       1\n",
       "4      48147722       1\n",
       "..          ...     ...\n",
       "523  4251115836       1\n",
       "524  4258103007       1\n",
       "525  4279090005       1\n",
       "526  4281247801       1\n",
       "527  4283872382       1\n",
       "\n",
       "[528 rows x 2 columns]"
      ]
     },
     "metadata": {},
     "output_type": "display_data"
    }
   ],
   "source": [
    "# Определяем группы для теста \n",
    "ordersByUsersA = (\n",
    "    orders[orders['group'] == 'A']\n",
    "    .groupby('visitorId', as_index=False)\n",
    "    .agg({'transactionId': pd.Series.nunique})\n",
    ")\n",
    "ordersByUsersA.columns = ['userId', 'orders']\n",
    "\n",
    "ordersByUsersB = (\n",
    "    orders[orders['group'] == 'B']\n",
    "    .groupby('visitorId', as_index=False)\n",
    "    .agg({'transactionId': pd.Series.nunique})\n",
    ")\n",
    "ordersByUsersB.columns = ['userId', 'orders'] \n",
    "display(ordersByUsersA)\n",
    "display(ordersByUsersB)"
   ]
  },
  {
   "cell_type": "code",
   "execution_count": 30,
   "metadata": {},
   "outputs": [],
   "source": [
    "#Объявляем переменные в которых пользователям с заказами будет соотвествовать число заказов пользователя.\n",
    "sampleA = pd.concat([ordersByUsersA['orders'],pd.Series(0, index=np.arange(df['visitorsPerDateA'].sum() - len(ordersByUsersA['orders'])), name='orders')],axis=0)\n",
    "\n",
    "sampleB = pd.concat([ordersByUsersB['orders'],pd.Series(0, index=np.arange(df['visitorsPerDateB'].sum() - len(ordersByUsersB['orders'])), name='orders')],axis=0)\n"
   ]
  },
  {
   "cell_type": "markdown",
   "metadata": {},
   "source": [
    "Проверим гипотезы о:\n",
    "* Н0 различий в среднем количестве заказов между группами нет.\n",
    "* Н1 различия в среднем между группами есть.\n",
    "Для этого применим тест Манна-Уитни."
   ]
  },
  {
   "cell_type": "code",
   "execution_count": 31,
   "metadata": {},
   "outputs": [
    {
     "name": "stdout",
     "output_type": "stream",
     "text": [
      "P-value 0.011\n",
      "Относительное различие 0.160\n"
     ]
    }
   ],
   "source": [
    "# p-value для сравнения среднего между группами\n",
    "print('P-value', \"{0:.3f}\".format(stats.mannwhitneyu(sampleA, sampleB)[1])) \n",
    "# Относительное различие между группами\n",
    "print('Относительное различие', \"{0:.3f}\".format((df['ordersPerDateB'].sum()/df['visitorsPerDateB'].sum())/(df['ordersPerDateA'].sum()/df['visitorsPerDateA'].sum())-1)) \n"
   ]
  },
  {
   "cell_type": "markdown",
   "metadata": {},
   "source": [
    "p-value меньше чем 0.05, значит отвергаем нулевую гипотезу о том, различий между группами нет, и принимаем альтернативную: \"Различия в среднем между группами есть.\n",
    "Относительный прирост среднего группы В к конверсии группы А равн 16%."
   ]
  },
  {
   "cell_type": "markdown",
   "metadata": {},
   "source": [
    "### Считаем статистическую значимость различий в среднем чеке заказа между группами по «сырым» данным."
   ]
  },
  {
   "cell_type": "markdown",
   "metadata": {},
   "source": [
    "Проверим гипотезы о:\n",
    "\n",
    "Н0 различий в среднем чеке заказов между группами нет.\n",
    "Н1 различия в среднем чеке между группами есть. Для этого применим тест Манна-Уитни."
   ]
  },
  {
   "cell_type": "code",
   "execution_count": 32,
   "metadata": {},
   "outputs": [
    {
     "name": "stdout",
     "output_type": "stream",
     "text": [
      "P-value 0.829\n",
      "Относительное различие 0.287\n"
     ]
    }
   ],
   "source": [
    "# p-value для сравнения среднего чека между группами\n",
    "print('P-value', '{0:.3f}'.format(stats.mannwhitneyu(orders[orders['group']=='A']['revenue'], orders[orders['group']=='B']['revenue'])[1]))\n",
    "# Относительное различие среднего чека между группами\n",
    "print('Относительное различие', '{0:.3f}'.format(orders[orders['group']=='B']['revenue'].mean()/orders[orders['group']=='A']['revenue'].mean()-1)) "
   ]
  },
  {
   "cell_type": "markdown",
   "metadata": {},
   "source": [
    "p-value больше 0.05, значит статистически значимых отличий в среднем чеке между группами нет, А так же относительное различие среднего чека составило 28,7% не является статистически значимым, так как была принята нулевая гипотеза."
   ]
  },
  {
   "cell_type": "markdown",
   "metadata": {},
   "source": [
    "### Считаем статистическую значимость различий в конверсии между группами по «очищенным» данным."
   ]
  },
  {
   "cell_type": "markdown",
   "metadata": {},
   "source": [
    "Приступаем к очистке данных от аномалий, Мы определили 95 и 99 перцентили количества заказов и суммы заказов на основе этого, принимаем за аномальных пользователей тех, кто совершил более 2 заказов и тех кто совершил заказ свыше 26785 тыс рублей. Таким образом мы уберем 1% пользователей с наибольшим числом заказов и от 1% до 5% заказов с наибольшей стоимостью"
   ]
  },
  {
   "cell_type": "code",
   "execution_count": 33,
   "metadata": {},
   "outputs": [
    {
     "data": {
      "text/plain": [
       "1099    148427295\n",
       "928     204675465\n",
       "33      249864742\n",
       "684     358944393\n",
       "648     382846391\n",
       "dtype: int64"
      ]
     },
     "metadata": {},
     "output_type": "display_data"
    }
   ],
   "source": [
    "usersWithManyOrders = pd.concat(\n",
    "    [\n",
    "        ordersByUsersA[ordersByUsersA['orders'] > 2]['userId'],\n",
    "        ordersByUsersB[ordersByUsersB['orders'] > 2]['userId'],\n",
    "    ],\n",
    "    axis=0,\n",
    ")\n",
    "usersWithExpensiveOrders = orders[orders['revenue'] > 28000]['visitorId']\n",
    "abnormalUsers = (\n",
    "    pd.concat([usersWithManyOrders, usersWithExpensiveOrders], axis=0)\n",
    "    .drop_duplicates()\n",
    "    .sort_values()\n",
    ")\n",
    "display(abnormalUsers.head())"
   ]
  },
  {
   "cell_type": "markdown",
   "metadata": {},
   "source": [
    "Таким образом мы получили список аномальных пользователей"
   ]
  },
  {
   "cell_type": "markdown",
   "metadata": {},
   "source": [
    "Сохраняем очищенные данные в переменные:"
   ]
  },
  {
   "cell_type": "code",
   "execution_count": 34,
   "metadata": {},
   "outputs": [],
   "source": [
    "sampleAFiltered = pd.concat(\n",
    "    [\n",
    "        ordersByUsersA[\n",
    "            np.logical_not(ordersByUsersA['userId'].isin(abnormalUsers))\n",
    "        ]['orders'],\n",
    "        pd.Series(\n",
    "            0,\n",
    "            index=np.arange(\n",
    "                df['visitorsPerDateA'].sum() - len(ordersByUsersA['orders'])\n",
    "            ),\n",
    "            name='orders',\n",
    "        ),\n",
    "    ],\n",
    "    axis=0,\n",
    ")\n",
    "\n",
    "sampleBFiltered = pd.concat(\n",
    "    [\n",
    "        ordersByUsersB[\n",
    "            np.logical_not(ordersByUsersB['userId'].isin(abnormalUsers))\n",
    "        ]['orders'],\n",
    "        pd.Series(\n",
    "            0,\n",
    "            index=np.arange(\n",
    "                df['visitorsPerDateB'].sum() - len(ordersByUsersB['orders'])\n",
    "            ),\n",
    "            name='orders',\n",
    "        ),\n",
    "    ],\n",
    "    axis=0,\n",
    ") "
   ]
  },
  {
   "cell_type": "markdown",
   "metadata": {},
   "source": [
    "Проверим гипотезы о:\n",
    "* Н0 различий в среднем количестве заказов между группами нет.\n",
    "* Н1 различия в среднем между группами есть.\n",
    "Для этого применим тест Манна-Уитни."
   ]
  },
  {
   "cell_type": "code",
   "execution_count": 35,
   "metadata": {},
   "outputs": [
    {
     "name": "stdout",
     "output_type": "stream",
     "text": [
      "P-value 0.009\n",
      "Относительное различие 0.189\n"
     ]
    }
   ],
   "source": [
    "# p-value для сравнения среднего между очищенными группами\n",
    "print('P-value', '{0:.3f}'.format(stats.mannwhitneyu(sampleAFiltered, sampleBFiltered)[1]))\n",
    "# Относительное различие между очищенными группами\n",
    "print('Относительное различие','{0:.3f}'.format(sampleBFiltered.mean()/sampleAFiltered.mean()-1))"
   ]
  },
  {
   "cell_type": "markdown",
   "metadata": {},
   "source": [
    "Аналогично с \"сырыми данными, сегмент В лучше сегмента А. Отвергаем нулевую гипотезу и принимаем альтернативную. А приросто конверсии группы В к группе А равен 19%"
   ]
  },
  {
   "cell_type": "markdown",
   "metadata": {},
   "source": [
    "### Считаем статистическую значимость различий в среднем чеке заказа между группами по «очищенным» данным "
   ]
  },
  {
   "cell_type": "markdown",
   "metadata": {},
   "source": [
    "Проверим гипотезы о:\n",
    "\n",
    "* Н0 различий в среднем чеке заказов между группами нет.\n",
    "* Н1 различия в среднем чеке между группами есть. Для этого применим тест Манна-Уитни."
   ]
  },
  {
   "cell_type": "code",
   "execution_count": 36,
   "metadata": {},
   "outputs": [
    {
     "name": "stdout",
     "output_type": "stream",
     "text": [
      "P-value 0.762\n",
      "Относительное различие -0.022\n"
     ]
    }
   ],
   "source": [
    "# # p-value для сравнения среднего чека между очищенными группами\n",
    "print('P-value',\n",
    "    '{0:.3f}'.format(\n",
    "        stats.mannwhitneyu(\n",
    "            orders[\n",
    "                np.logical_and(\n",
    "                    orders['group'] == 'A',\n",
    "                    np.logical_not(orders['visitorId'].isin(abnormalUsers)),\n",
    "                )\n",
    "            ]['revenue'],\n",
    "            orders[\n",
    "                np.logical_and(\n",
    "                    orders['group'] == 'B',\n",
    "                    np.logical_not(orders['visitorId'].isin(abnormalUsers)),\n",
    "                )\n",
    "            ]['revenue'],\n",
    "        )[1]\n",
    "    )\n",
    ")\n",
    "# Относительное различие среднего чека между очищенными группами\n",
    "print('Относительное различие',\n",
    "    \"{0:.3f}\".format(\n",
    "        orders[\n",
    "            np.logical_and(\n",
    "                orders['group'] == 'B',\n",
    "                np.logical_not(orders['visitorId'].isin(abnormalUsers)),\n",
    "            )\n",
    "        ]['revenue'].mean()\n",
    "        / orders[\n",
    "            np.logical_and(\n",
    "                orders['group'] == 'A',\n",
    "                np.logical_not(orders['visitorId'].isin(abnormalUsers)),\n",
    "            )\n",
    "        ]['revenue'].mean()\n",
    "        - 1\n",
    "    )\n",
    ") "
   ]
  },
  {
   "cell_type": "markdown",
   "metadata": {},
   "source": [
    "p-value больше 0.05 значит принимаем нулевую гипотезу о том что различий в среднем чеке заказов между группами нет., но при этом значительно упал прирост конверсии группы В к группе А."
   ]
  },
  {
   "cell_type": "markdown",
   "metadata": {},
   "source": [
    "### Вывод"
   ]
  },
  {
   "cell_type": "markdown",
   "metadata": {},
   "source": [
    "1. Группы статистически различны. Об этом говорят проведенные тесты.\n",
    "2. Согласно данным можно сделать вывод о том, что выбросы все же повлияли на анализ, сегмент В лидировал до удаления выбросов, так же лидирует по количеству заказов, но вот по среднему чеку, проигрывает сегменту А на 2.2 процента.\n",
    "3. Исходя из этого можно сказать, что сегмент В лидирует по количеству заказов, но средний чек сегмента В ниже чем сегмента А на 2.2 процента. Только разница в том, что различие по неочищенным данным в пользу сегмента В, а по очищенным в пользу сегмента А "
   ]
  },
  {
   "cell_type": "markdown",
   "metadata": {},
   "source": [
    "## Общий вывод."
   ]
  },
  {
   "cell_type": "markdown",
   "metadata": {},
   "source": [
    "1. Можно принять разницу в 2 процента незначительной, тогда тест можно признать успешным, на основании прироста конверсии в 19% по колиечству заказов сегмент В выигрывает и тест можно завершать. \n",
    "2. Так же учитывая количество заказов сегмента B, можно сказать, что он определенно выигрывает у сегмента А.\n",
    "3. Поэтому можно сказачать что, различий по среднему чеку между сегментами, но по приросту заказов сегмент В выигрывает, причем количество заказов продолжает расти и даже с сохраввнившеимся средним чеком выручка будет расти.\n",
    "4. Тест считается завершенным. "
   ]
  }
 ],
 "metadata": {
  "ExecuteTimeLog": [
   {
    "duration": 519,
    "start_time": "2022-08-26T10:33:39.385Z"
   },
   {
    "duration": 83,
    "start_time": "2022-08-26T10:34:42.630Z"
   },
   {
    "duration": 6481,
    "start_time": "2022-08-26T10:35:22.016Z"
   },
   {
    "duration": 1004,
    "start_time": "2022-08-26T10:36:29.434Z"
   },
   {
    "duration": 5,
    "start_time": "2022-08-26T10:37:06.568Z"
   },
   {
    "duration": 14,
    "start_time": "2022-08-26T10:37:08.137Z"
   },
   {
    "duration": 9,
    "start_time": "2022-08-26T10:38:06.001Z"
   },
   {
    "duration": 11,
    "start_time": "2022-08-26T10:38:14.151Z"
   },
   {
    "duration": 62,
    "start_time": "2022-08-26T10:40:24.841Z"
   },
   {
    "duration": 14,
    "start_time": "2022-08-26T10:41:21.054Z"
   },
   {
    "duration": 13,
    "start_time": "2022-08-26T10:41:24.507Z"
   },
   {
    "duration": 12,
    "start_time": "2022-08-26T10:41:25.637Z"
   },
   {
    "duration": 11,
    "start_time": "2022-08-26T10:43:54.073Z"
   },
   {
    "duration": 10,
    "start_time": "2022-08-26T10:43:54.788Z"
   },
   {
    "duration": 53,
    "start_time": "2022-08-26T10:43:59.804Z"
   },
   {
    "duration": 13,
    "start_time": "2022-08-26T10:44:02.887Z"
   },
   {
    "duration": 12,
    "start_time": "2022-08-26T10:44:05.604Z"
   },
   {
    "duration": 1262,
    "start_time": "2022-08-26T10:44:17.216Z"
   },
   {
    "duration": 40,
    "start_time": "2022-08-26T10:44:18.481Z"
   },
   {
    "duration": 58,
    "start_time": "2022-08-26T10:44:18.523Z"
   },
   {
    "duration": 15,
    "start_time": "2022-08-26T10:44:18.582Z"
   },
   {
    "duration": 14,
    "start_time": "2022-08-26T10:44:18.599Z"
   },
   {
    "duration": 172,
    "start_time": "2022-08-26T11:37:20.066Z"
   },
   {
    "duration": 74,
    "start_time": "2022-08-26T11:37:38.505Z"
   },
   {
    "duration": 6,
    "start_time": "2022-08-26T11:44:31.143Z"
   },
   {
    "duration": 94,
    "start_time": "2022-08-26T11:53:06.455Z"
   },
   {
    "duration": 149,
    "start_time": "2022-08-26T11:53:16.585Z"
   },
   {
    "duration": 193,
    "start_time": "2022-08-26T11:53:37.037Z"
   },
   {
    "duration": 210,
    "start_time": "2022-08-26T11:53:54.858Z"
   },
   {
    "duration": 242,
    "start_time": "2022-08-26T11:55:00.081Z"
   },
   {
    "duration": 130,
    "start_time": "2022-08-26T12:00:25.103Z"
   },
   {
    "duration": 141,
    "start_time": "2022-08-26T12:00:38.917Z"
   },
   {
    "duration": 7,
    "start_time": "2022-08-26T12:04:36.318Z"
   },
   {
    "duration": 16,
    "start_time": "2022-08-26T12:04:50.684Z"
   },
   {
    "duration": 327,
    "start_time": "2022-08-26T12:06:21.995Z"
   },
   {
    "duration": 288,
    "start_time": "2022-08-26T12:07:23.076Z"
   },
   {
    "duration": 279,
    "start_time": "2022-08-26T12:10:07.757Z"
   },
   {
    "duration": 396,
    "start_time": "2022-08-26T12:12:25.222Z"
   },
   {
    "duration": 11,
    "start_time": "2022-08-26T12:15:40.185Z"
   },
   {
    "duration": 7,
    "start_time": "2022-08-26T12:16:03.865Z"
   },
   {
    "duration": 11,
    "start_time": "2022-08-26T12:16:22.371Z"
   },
   {
    "duration": 351,
    "start_time": "2022-08-26T12:17:36.768Z"
   },
   {
    "duration": 5,
    "start_time": "2022-08-26T12:24:10.541Z"
   },
   {
    "duration": 14,
    "start_time": "2022-08-26T12:25:56.269Z"
   },
   {
    "duration": 7,
    "start_time": "2022-08-26T12:25:58.872Z"
   },
   {
    "duration": 336,
    "start_time": "2022-08-26T12:26:56.777Z"
   },
   {
    "duration": 3,
    "start_time": "2022-08-26T12:27:20.093Z"
   },
   {
    "duration": 2,
    "start_time": "2022-08-26T12:27:22.202Z"
   },
   {
    "duration": 36,
    "start_time": "2022-08-26T12:27:22.207Z"
   },
   {
    "duration": 11,
    "start_time": "2022-08-26T12:27:22.245Z"
   },
   {
    "duration": 17,
    "start_time": "2022-08-26T12:27:22.258Z"
   },
   {
    "duration": 23,
    "start_time": "2022-08-26T12:27:22.278Z"
   },
   {
    "duration": 69,
    "start_time": "2022-08-26T12:27:22.303Z"
   },
   {
    "duration": 9,
    "start_time": "2022-08-26T12:27:22.374Z"
   },
   {
    "duration": 205,
    "start_time": "2022-08-26T12:27:22.384Z"
   },
   {
    "duration": 139,
    "start_time": "2022-08-26T12:27:22.591Z"
   },
   {
    "duration": 13,
    "start_time": "2022-08-26T12:27:22.731Z"
   },
   {
    "duration": 387,
    "start_time": "2022-08-26T12:27:22.745Z"
   },
   {
    "duration": 3,
    "start_time": "2022-08-26T12:27:23.134Z"
   },
   {
    "duration": 297,
    "start_time": "2022-08-26T12:27:23.138Z"
   },
   {
    "duration": 422,
    "start_time": "2022-08-26T12:27:23.438Z"
   },
   {
    "duration": 21,
    "start_time": "2022-08-26T12:27:23.862Z"
   },
   {
    "duration": 9,
    "start_time": "2022-08-26T12:27:23.884Z"
   },
   {
    "duration": 338,
    "start_time": "2022-08-26T12:27:23.895Z"
   },
   {
    "duration": 329,
    "start_time": "2022-08-26T12:28:25.634Z"
   },
   {
    "duration": 312,
    "start_time": "2022-08-26T12:29:34.657Z"
   },
   {
    "duration": 355,
    "start_time": "2022-08-26T12:30:31.944Z"
   },
   {
    "duration": 20,
    "start_time": "2022-08-26T12:30:43.260Z"
   },
   {
    "duration": 3,
    "start_time": "2022-08-26T12:30:47.526Z"
   },
   {
    "duration": 37,
    "start_time": "2022-08-26T12:30:47.532Z"
   },
   {
    "duration": 13,
    "start_time": "2022-08-26T12:30:47.571Z"
   },
   {
    "duration": 11,
    "start_time": "2022-08-26T12:30:47.586Z"
   },
   {
    "duration": 13,
    "start_time": "2022-08-26T12:30:47.599Z"
   },
   {
    "duration": 73,
    "start_time": "2022-08-26T12:30:47.614Z"
   },
   {
    "duration": 14,
    "start_time": "2022-08-26T12:30:47.688Z"
   },
   {
    "duration": 10,
    "start_time": "2022-08-26T12:30:47.704Z"
   },
   {
    "duration": 206,
    "start_time": "2022-08-26T12:30:47.716Z"
   },
   {
    "duration": 133,
    "start_time": "2022-08-26T12:30:47.924Z"
   },
   {
    "duration": 15,
    "start_time": "2022-08-26T12:30:48.068Z"
   },
   {
    "duration": 300,
    "start_time": "2022-08-26T12:30:48.085Z"
   },
   {
    "duration": 3,
    "start_time": "2022-08-26T12:30:48.387Z"
   },
   {
    "duration": 214,
    "start_time": "2022-08-26T12:30:48.392Z"
   },
   {
    "duration": 270,
    "start_time": "2022-08-26T12:30:48.608Z"
   },
   {
    "duration": 12,
    "start_time": "2022-08-26T12:30:48.880Z"
   },
   {
    "duration": 7,
    "start_time": "2022-08-26T12:30:48.894Z"
   },
   {
    "duration": 213,
    "start_time": "2022-08-26T12:30:48.903Z"
   },
   {
    "duration": 62,
    "start_time": "2022-08-26T12:45:17.948Z"
   },
   {
    "duration": 152,
    "start_time": "2022-08-26T12:47:26.790Z"
   },
   {
    "duration": 27,
    "start_time": "2022-08-26T12:47:45.302Z"
   },
   {
    "duration": 31,
    "start_time": "2022-08-26T12:48:17.948Z"
   },
   {
    "duration": 18,
    "start_time": "2022-08-26T12:49:14.493Z"
   },
   {
    "duration": 1210,
    "start_time": "2022-08-26T12:49:22.923Z"
   },
   {
    "duration": 38,
    "start_time": "2022-08-26T12:49:24.135Z"
   },
   {
    "duration": 50,
    "start_time": "2022-08-26T12:49:24.175Z"
   },
   {
    "duration": 14,
    "start_time": "2022-08-26T12:49:24.227Z"
   },
   {
    "duration": 34,
    "start_time": "2022-08-26T12:49:24.243Z"
   },
   {
    "duration": 67,
    "start_time": "2022-08-26T12:49:24.278Z"
   },
   {
    "duration": 19,
    "start_time": "2022-08-26T12:49:24.346Z"
   },
   {
    "duration": 17,
    "start_time": "2022-08-26T12:49:24.367Z"
   },
   {
    "duration": 69,
    "start_time": "2022-08-26T12:49:24.386Z"
   },
   {
    "duration": 45,
    "start_time": "2022-08-26T12:49:24.457Z"
   },
   {
    "duration": 6,
    "start_time": "2022-08-26T12:49:24.503Z"
   },
   {
    "duration": 234,
    "start_time": "2022-08-26T12:49:24.511Z"
   },
   {
    "duration": 149,
    "start_time": "2022-08-26T12:49:24.747Z"
   },
   {
    "duration": 13,
    "start_time": "2022-08-26T12:49:24.899Z"
   },
   {
    "duration": 289,
    "start_time": "2022-08-26T12:49:24.913Z"
   },
   {
    "duration": 2,
    "start_time": "2022-08-26T12:49:25.204Z"
   },
   {
    "duration": 206,
    "start_time": "2022-08-26T12:49:25.208Z"
   },
   {
    "duration": 254,
    "start_time": "2022-08-26T12:49:25.416Z"
   },
   {
    "duration": 11,
    "start_time": "2022-08-26T12:49:25.672Z"
   },
   {
    "duration": 13,
    "start_time": "2022-08-26T12:49:25.685Z"
   },
   {
    "duration": 216,
    "start_time": "2022-08-26T12:49:25.700Z"
   },
   {
    "duration": 1227,
    "start_time": "2022-08-26T12:50:35.286Z"
   },
   {
    "duration": 44,
    "start_time": "2022-08-26T12:50:36.516Z"
   },
   {
    "duration": 66,
    "start_time": "2022-08-26T12:50:36.562Z"
   },
   {
    "duration": 18,
    "start_time": "2022-08-26T12:50:36.631Z"
   },
   {
    "duration": 36,
    "start_time": "2022-08-26T12:50:36.651Z"
   },
   {
    "duration": 76,
    "start_time": "2022-08-26T12:50:36.689Z"
   },
   {
    "duration": 24,
    "start_time": "2022-08-26T12:50:36.767Z"
   },
   {
    "duration": 23,
    "start_time": "2022-08-26T12:50:36.794Z"
   },
   {
    "duration": 97,
    "start_time": "2022-08-26T12:50:36.820Z"
   },
   {
    "duration": 54,
    "start_time": "2022-08-26T12:50:36.920Z"
   },
   {
    "duration": 7,
    "start_time": "2022-08-26T12:50:36.976Z"
   },
   {
    "duration": 216,
    "start_time": "2022-08-26T12:50:36.984Z"
   },
   {
    "duration": 146,
    "start_time": "2022-08-26T12:50:37.202Z"
   },
   {
    "duration": 21,
    "start_time": "2022-08-26T12:50:37.350Z"
   },
   {
    "duration": 283,
    "start_time": "2022-08-26T12:50:37.373Z"
   },
   {
    "duration": 9,
    "start_time": "2022-08-26T12:50:37.658Z"
   },
   {
    "duration": 188,
    "start_time": "2022-08-26T12:50:37.669Z"
   },
   {
    "duration": 280,
    "start_time": "2022-08-26T12:50:37.858Z"
   },
   {
    "duration": 11,
    "start_time": "2022-08-26T12:50:38.139Z"
   },
   {
    "duration": 6,
    "start_time": "2022-08-26T12:50:38.167Z"
   },
   {
    "duration": 198,
    "start_time": "2022-08-26T12:50:38.175Z"
   },
   {
    "duration": 200,
    "start_time": "2022-08-26T12:53:55.755Z"
   },
   {
    "duration": 172,
    "start_time": "2022-08-26T12:56:16.884Z"
   },
   {
    "duration": 6,
    "start_time": "2022-08-26T12:56:29.554Z"
   },
   {
    "duration": 189,
    "start_time": "2022-08-26T12:56:30.430Z"
   },
   {
    "duration": 511,
    "start_time": "2022-08-26T12:59:30.477Z"
   },
   {
    "duration": 257,
    "start_time": "2022-08-26T13:01:26.310Z"
   },
   {
    "duration": 1304,
    "start_time": "2022-08-26T14:27:44.255Z"
   },
   {
    "duration": 81,
    "start_time": "2022-08-26T14:27:45.561Z"
   },
   {
    "duration": 49,
    "start_time": "2022-08-26T14:27:45.644Z"
   },
   {
    "duration": 14,
    "start_time": "2022-08-26T14:27:45.695Z"
   },
   {
    "duration": 14,
    "start_time": "2022-08-26T14:27:45.711Z"
   },
   {
    "duration": 156,
    "start_time": "2022-08-26T14:27:45.727Z"
   },
   {
    "duration": 20,
    "start_time": "2022-08-26T14:27:45.885Z"
   },
   {
    "duration": 21,
    "start_time": "2022-08-26T14:27:45.907Z"
   },
   {
    "duration": 72,
    "start_time": "2022-08-26T14:27:45.930Z"
   },
   {
    "duration": 44,
    "start_time": "2022-08-26T14:27:46.003Z"
   },
   {
    "duration": 8,
    "start_time": "2022-08-26T14:27:46.049Z"
   },
   {
    "duration": 232,
    "start_time": "2022-08-26T14:27:46.058Z"
   },
   {
    "duration": 150,
    "start_time": "2022-08-26T14:27:46.291Z"
   },
   {
    "duration": 13,
    "start_time": "2022-08-26T14:27:46.444Z"
   },
   {
    "duration": 296,
    "start_time": "2022-08-26T14:27:46.458Z"
   },
   {
    "duration": 3,
    "start_time": "2022-08-26T14:27:46.756Z"
   },
   {
    "duration": 194,
    "start_time": "2022-08-26T14:27:46.761Z"
   },
   {
    "duration": 377,
    "start_time": "2022-08-26T14:27:46.957Z"
   },
   {
    "duration": 14,
    "start_time": "2022-08-26T14:27:47.336Z"
   },
   {
    "duration": 11,
    "start_time": "2022-08-26T14:27:47.352Z"
   },
   {
    "duration": 219,
    "start_time": "2022-08-26T14:27:47.365Z"
   },
   {
    "duration": 313,
    "start_time": "2022-08-26T14:27:47.585Z"
   },
   {
    "duration": 108,
    "start_time": "2022-08-26T14:32:31.102Z"
   },
   {
    "duration": 13,
    "start_time": "2022-08-26T14:32:56.255Z"
   },
   {
    "duration": 12,
    "start_time": "2022-08-26T14:33:04.749Z"
   },
   {
    "duration": 11,
    "start_time": "2022-08-26T14:33:14.893Z"
   },
   {
    "duration": 12,
    "start_time": "2022-08-26T14:33:50.556Z"
   },
   {
    "duration": 127,
    "start_time": "2022-08-26T14:34:12.307Z"
   },
   {
    "duration": 146,
    "start_time": "2022-08-26T14:35:56.709Z"
   },
   {
    "duration": 5,
    "start_time": "2022-08-26T14:39:20.143Z"
   },
   {
    "duration": 219,
    "start_time": "2022-08-26T14:42:35.729Z"
   },
   {
    "duration": 151,
    "start_time": "2022-08-26T14:43:30.693Z"
   },
   {
    "duration": 4,
    "start_time": "2022-08-26T14:47:07.163Z"
   },
   {
    "duration": 116,
    "start_time": "2022-08-26T15:06:42.826Z"
   },
   {
    "duration": 138,
    "start_time": "2022-08-26T15:08:06.083Z"
   },
   {
    "duration": 118,
    "start_time": "2022-08-26T15:08:46.132Z"
   },
   {
    "duration": 232,
    "start_time": "2022-08-26T15:10:02.845Z"
   },
   {
    "duration": 220,
    "start_time": "2022-08-26T15:10:14.559Z"
   },
   {
    "duration": 226,
    "start_time": "2022-08-26T15:11:36.387Z"
   },
   {
    "duration": 11,
    "start_time": "2022-08-26T15:12:50.237Z"
   },
   {
    "duration": 221,
    "start_time": "2022-08-26T15:14:03.304Z"
   },
   {
    "duration": 13,
    "start_time": "2022-08-26T15:14:03.897Z"
   },
   {
    "duration": 159,
    "start_time": "2022-08-26T15:15:05.999Z"
   },
   {
    "duration": 3,
    "start_time": "2022-08-26T15:16:30.538Z"
   },
   {
    "duration": 3,
    "start_time": "2022-08-26T15:16:32.635Z"
   },
   {
    "duration": 37,
    "start_time": "2022-08-26T15:16:32.641Z"
   },
   {
    "duration": 13,
    "start_time": "2022-08-26T15:16:32.680Z"
   },
   {
    "duration": 15,
    "start_time": "2022-08-26T15:16:32.695Z"
   },
   {
    "duration": 13,
    "start_time": "2022-08-26T15:16:32.712Z"
   },
   {
    "duration": 64,
    "start_time": "2022-08-26T15:16:32.727Z"
   },
   {
    "duration": 16,
    "start_time": "2022-08-26T15:16:32.794Z"
   },
   {
    "duration": 17,
    "start_time": "2022-08-26T15:16:32.812Z"
   },
   {
    "duration": 68,
    "start_time": "2022-08-26T15:16:32.830Z"
   },
   {
    "duration": 43,
    "start_time": "2022-08-26T15:16:32.900Z"
   },
   {
    "duration": 5,
    "start_time": "2022-08-26T15:16:32.945Z"
   },
   {
    "duration": 207,
    "start_time": "2022-08-26T15:16:32.951Z"
   },
   {
    "duration": 135,
    "start_time": "2022-08-26T15:16:33.160Z"
   },
   {
    "duration": 21,
    "start_time": "2022-08-26T15:16:33.297Z"
   },
   {
    "duration": 200,
    "start_time": "2022-08-26T15:16:33.320Z"
   },
   {
    "duration": 3,
    "start_time": "2022-08-26T15:16:33.522Z"
   },
   {
    "duration": 204,
    "start_time": "2022-08-26T15:16:33.526Z"
   },
   {
    "duration": 285,
    "start_time": "2022-08-26T15:16:33.732Z"
   },
   {
    "duration": 15,
    "start_time": "2022-08-26T15:16:34.019Z"
   },
   {
    "duration": 11,
    "start_time": "2022-08-26T15:16:34.036Z"
   },
   {
    "duration": 197,
    "start_time": "2022-08-26T15:16:34.048Z"
   },
   {
    "duration": 280,
    "start_time": "2022-08-26T15:16:34.247Z"
   },
   {
    "duration": 12,
    "start_time": "2022-08-26T15:16:34.529Z"
   },
   {
    "duration": 150,
    "start_time": "2022-08-26T15:16:34.543Z"
   },
   {
    "duration": 144,
    "start_time": "2022-08-26T15:16:34.694Z"
   },
   {
    "duration": 4,
    "start_time": "2022-08-26T15:16:34.840Z"
   },
   {
    "duration": 153,
    "start_time": "2022-08-26T15:16:34.845Z"
   },
   {
    "duration": 10,
    "start_time": "2022-08-26T15:16:35.001Z"
   },
   {
    "duration": 233,
    "start_time": "2022-08-26T15:16:35.013Z"
   },
   {
    "duration": 1139,
    "start_time": "2022-08-26T15:16:35.248Z"
   },
   {
    "duration": 225,
    "start_time": "2022-08-26T15:17:04.555Z"
   },
   {
    "duration": 1200,
    "start_time": "2022-08-26T15:18:17.533Z"
   },
   {
    "duration": 163,
    "start_time": "2022-08-26T15:18:28.033Z"
   },
   {
    "duration": 154,
    "start_time": "2022-08-26T15:20:54.333Z"
   },
   {
    "duration": 160,
    "start_time": "2022-08-26T15:21:40.152Z"
   },
   {
    "duration": 138,
    "start_time": "2022-08-26T15:25:06.322Z"
   },
   {
    "duration": 7,
    "start_time": "2022-08-26T15:25:13.000Z"
   },
   {
    "duration": 23,
    "start_time": "2022-08-26T15:26:26.288Z"
   },
   {
    "duration": 25,
    "start_time": "2022-08-26T15:30:15.303Z"
   },
   {
    "duration": 11,
    "start_time": "2022-08-26T15:33:11.338Z"
   },
   {
    "duration": 732,
    "start_time": "2022-08-26T15:40:27.804Z"
   },
   {
    "duration": 699,
    "start_time": "2022-08-26T15:40:58.772Z"
   },
   {
    "duration": 8,
    "start_time": "2022-08-26T15:43:06.241Z"
   },
   {
    "duration": 10,
    "start_time": "2022-08-26T15:47:09.936Z"
   },
   {
    "duration": 11,
    "start_time": "2022-08-26T15:47:25.894Z"
   },
   {
    "duration": 737,
    "start_time": "2022-08-26T15:49:22.515Z"
   },
   {
    "duration": 9,
    "start_time": "2022-08-26T15:49:37.239Z"
   },
   {
    "duration": 28,
    "start_time": "2022-08-26T15:53:43.739Z"
   },
   {
    "duration": 9,
    "start_time": "2022-08-26T15:55:37.057Z"
   },
   {
    "duration": 9,
    "start_time": "2022-08-26T15:55:38.183Z"
   },
   {
    "duration": 23,
    "start_time": "2022-08-26T15:55:38.704Z"
   },
   {
    "duration": 1055,
    "start_time": "2022-08-26T16:01:44.680Z"
   },
   {
    "duration": 14,
    "start_time": "2022-08-26T16:02:07.559Z"
   },
   {
    "duration": 10,
    "start_time": "2022-08-26T16:20:34.688Z"
   },
   {
    "duration": 9,
    "start_time": "2022-08-26T16:20:35.368Z"
   },
   {
    "duration": 26,
    "start_time": "2022-08-26T16:20:35.688Z"
   },
   {
    "duration": 16,
    "start_time": "2022-08-26T16:20:36.392Z"
   },
   {
    "duration": 10,
    "start_time": "2022-08-26T16:21:21.204Z"
   },
   {
    "duration": 10,
    "start_time": "2022-08-26T16:21:32.440Z"
   },
   {
    "duration": 1567,
    "start_time": "2022-08-26T17:17:10.137Z"
   },
   {
    "duration": 122,
    "start_time": "2022-08-26T17:17:11.706Z"
   },
   {
    "duration": 88,
    "start_time": "2022-08-26T17:17:11.830Z"
   },
   {
    "duration": 14,
    "start_time": "2022-08-26T17:17:11.920Z"
   },
   {
    "duration": 77,
    "start_time": "2022-08-26T17:17:11.937Z"
   },
   {
    "duration": 337,
    "start_time": "2022-08-26T17:17:12.019Z"
   },
   {
    "duration": 23,
    "start_time": "2022-08-26T17:17:12.358Z"
   },
   {
    "duration": 170,
    "start_time": "2022-08-26T17:17:12.383Z"
   },
   {
    "duration": 308,
    "start_time": "2022-08-26T17:17:12.561Z"
   },
   {
    "duration": 203,
    "start_time": "2022-08-26T17:17:12.878Z"
   },
   {
    "duration": 53,
    "start_time": "2022-08-26T17:17:13.086Z"
   },
   {
    "duration": 380,
    "start_time": "2022-08-26T17:17:13.145Z"
   },
   {
    "duration": 188,
    "start_time": "2022-08-26T17:17:13.534Z"
   },
   {
    "duration": 30,
    "start_time": "2022-08-26T17:17:13.742Z"
   },
   {
    "duration": 439,
    "start_time": "2022-08-26T17:17:13.777Z"
   },
   {
    "duration": 3,
    "start_time": "2022-08-26T17:17:14.218Z"
   },
   {
    "duration": 354,
    "start_time": "2022-08-26T17:17:14.223Z"
   },
   {
    "duration": 405,
    "start_time": "2022-08-26T17:17:14.596Z"
   },
   {
    "duration": 34,
    "start_time": "2022-08-26T17:17:15.003Z"
   },
   {
    "duration": 61,
    "start_time": "2022-08-26T17:17:15.039Z"
   },
   {
    "duration": 359,
    "start_time": "2022-08-26T17:17:15.102Z"
   },
   {
    "duration": 338,
    "start_time": "2022-08-26T17:17:15.474Z"
   },
   {
    "duration": 18,
    "start_time": "2022-08-26T17:17:15.815Z"
   },
   {
    "duration": 253,
    "start_time": "2022-08-26T17:17:15.845Z"
   },
   {
    "duration": 179,
    "start_time": "2022-08-26T17:17:16.101Z"
   },
   {
    "duration": 4,
    "start_time": "2022-08-26T17:17:16.283Z"
   },
   {
    "duration": 285,
    "start_time": "2022-08-26T17:17:16.290Z"
   },
   {
    "duration": 10,
    "start_time": "2022-08-26T17:17:16.579Z"
   },
   {
    "duration": 402,
    "start_time": "2022-08-26T17:17:16.591Z"
   },
   {
    "duration": 205,
    "start_time": "2022-08-26T17:17:16.995Z"
   },
   {
    "duration": 15,
    "start_time": "2022-08-26T17:17:17.202Z"
   },
   {
    "duration": 131,
    "start_time": "2022-08-26T17:17:17.226Z"
   },
   {
    "duration": 21,
    "start_time": "2022-08-26T17:17:17.368Z"
   },
   {
    "duration": 74,
    "start_time": "2022-08-26T17:17:17.391Z"
   },
   {
    "duration": 98,
    "start_time": "2022-08-26T17:17:17.473Z"
   },
   {
    "duration": 33,
    "start_time": "2022-08-26T17:17:17.574Z"
   },
   {
    "duration": 35,
    "start_time": "2022-08-26T17:17:17.609Z"
   },
   {
    "duration": 57,
    "start_time": "2022-08-26T18:55:03.901Z"
   },
   {
    "duration": 1424,
    "start_time": "2022-08-26T18:55:06.962Z"
   },
   {
    "duration": 85,
    "start_time": "2022-08-26T18:55:08.388Z"
   },
   {
    "duration": 54,
    "start_time": "2022-08-26T18:55:08.475Z"
   },
   {
    "duration": 12,
    "start_time": "2022-08-26T18:55:08.531Z"
   },
   {
    "duration": 11,
    "start_time": "2022-08-26T18:55:08.547Z"
   },
   {
    "duration": 148,
    "start_time": "2022-08-26T18:55:08.560Z"
   },
   {
    "duration": 18,
    "start_time": "2022-08-26T18:55:08.710Z"
   },
   {
    "duration": 17,
    "start_time": "2022-08-26T18:55:08.730Z"
   },
   {
    "duration": 95,
    "start_time": "2022-08-26T18:55:08.750Z"
   },
   {
    "duration": 65,
    "start_time": "2022-08-26T18:55:08.846Z"
   },
   {
    "duration": 8,
    "start_time": "2022-08-26T18:55:08.913Z"
   },
   {
    "duration": 223,
    "start_time": "2022-08-26T18:55:08.923Z"
   },
   {
    "duration": 153,
    "start_time": "2022-08-26T18:55:09.148Z"
   },
   {
    "duration": 14,
    "start_time": "2022-08-26T18:55:09.310Z"
   },
   {
    "duration": 310,
    "start_time": "2022-08-26T18:55:09.326Z"
   },
   {
    "duration": 3,
    "start_time": "2022-08-26T18:55:09.637Z"
   },
   {
    "duration": 214,
    "start_time": "2022-08-26T18:55:09.642Z"
   },
   {
    "duration": 356,
    "start_time": "2022-08-26T18:55:09.857Z"
   },
   {
    "duration": 14,
    "start_time": "2022-08-26T18:55:10.216Z"
   },
   {
    "duration": 11,
    "start_time": "2022-08-26T18:55:10.232Z"
   },
   {
    "duration": 231,
    "start_time": "2022-08-26T18:55:10.245Z"
   },
   {
    "duration": 318,
    "start_time": "2022-08-26T18:55:10.478Z"
   },
   {
    "duration": 17,
    "start_time": "2022-08-26T18:55:10.799Z"
   },
   {
    "duration": 157,
    "start_time": "2022-08-26T18:55:10.819Z"
   },
   {
    "duration": 165,
    "start_time": "2022-08-26T18:55:10.978Z"
   },
   {
    "duration": 5,
    "start_time": "2022-08-26T18:55:11.144Z"
   },
   {
    "duration": 255,
    "start_time": "2022-08-26T18:55:11.151Z"
   },
   {
    "duration": 5,
    "start_time": "2022-08-26T18:55:11.411Z"
   },
   {
    "duration": 255,
    "start_time": "2022-08-26T18:55:11.418Z"
   },
   {
    "duration": 250,
    "start_time": "2022-08-26T18:55:11.675Z"
   },
   {
    "duration": 9,
    "start_time": "2022-08-26T18:55:11.928Z"
   },
   {
    "duration": 43,
    "start_time": "2022-08-26T18:55:11.939Z"
   },
   {
    "duration": 42,
    "start_time": "2022-08-26T18:55:11.984Z"
   },
   {
    "duration": 16,
    "start_time": "2022-08-26T18:55:12.029Z"
   },
   {
    "duration": 16,
    "start_time": "2022-08-26T18:55:12.048Z"
   },
   {
    "duration": 53,
    "start_time": "2022-08-26T18:55:12.067Z"
   },
   {
    "duration": 18,
    "start_time": "2022-08-26T18:55:12.125Z"
   },
   {
    "duration": 250,
    "start_time": "2022-08-26T18:55:54.716Z"
   },
   {
    "duration": 178,
    "start_time": "2022-08-26T18:58:04.577Z"
   },
   {
    "duration": 226,
    "start_time": "2022-08-26T18:58:13.954Z"
   },
   {
    "duration": 339,
    "start_time": "2022-08-26T18:58:20.850Z"
   },
   {
    "duration": 241,
    "start_time": "2022-08-26T18:58:38.209Z"
   },
   {
    "duration": 242,
    "start_time": "2022-08-26T18:58:45.480Z"
   },
   {
    "duration": 214,
    "start_time": "2022-08-26T18:59:26.207Z"
   },
   {
    "duration": 235,
    "start_time": "2022-08-26T18:59:59.431Z"
   },
   {
    "duration": 546,
    "start_time": "2022-08-26T19:01:38.351Z"
   },
   {
    "duration": 1264,
    "start_time": "2022-08-26T19:01:58.154Z"
   },
   {
    "duration": 37,
    "start_time": "2022-08-26T19:01:59.421Z"
   },
   {
    "duration": 60,
    "start_time": "2022-08-26T19:01:59.459Z"
   },
   {
    "duration": 13,
    "start_time": "2022-08-26T19:01:59.521Z"
   },
   {
    "duration": 17,
    "start_time": "2022-08-26T19:01:59.536Z"
   },
   {
    "duration": 91,
    "start_time": "2022-08-26T19:01:59.556Z"
   },
   {
    "duration": 24,
    "start_time": "2022-08-26T19:01:59.649Z"
   },
   {
    "duration": 26,
    "start_time": "2022-08-26T19:01:59.675Z"
   },
   {
    "duration": 105,
    "start_time": "2022-08-26T19:01:59.709Z"
   },
   {
    "duration": 55,
    "start_time": "2022-08-26T19:01:59.818Z"
   },
   {
    "duration": 25,
    "start_time": "2022-08-26T19:01:59.876Z"
   },
   {
    "duration": 240,
    "start_time": "2022-08-26T19:01:59.911Z"
   },
   {
    "duration": 166,
    "start_time": "2022-08-26T19:02:00.153Z"
   },
   {
    "duration": 14,
    "start_time": "2022-08-26T19:02:00.321Z"
   },
   {
    "duration": 410,
    "start_time": "2022-08-26T19:02:00.336Z"
   },
   {
    "duration": 265,
    "start_time": "2022-08-26T19:02:00.748Z"
   },
   {
    "duration": 548,
    "start_time": "2022-08-26T19:02:01.016Z"
   },
   {
    "duration": 26,
    "start_time": "2022-08-26T19:02:01.566Z"
   },
   {
    "duration": 39,
    "start_time": "2022-08-26T19:02:01.595Z"
   },
   {
    "duration": 304,
    "start_time": "2022-08-26T19:02:01.637Z"
   },
   {
    "duration": 341,
    "start_time": "2022-08-26T19:02:01.943Z"
   },
   {
    "duration": 18,
    "start_time": "2022-08-26T19:02:02.286Z"
   },
   {
    "duration": 178,
    "start_time": "2022-08-26T19:02:02.308Z"
   },
   {
    "duration": 183,
    "start_time": "2022-08-26T19:02:02.488Z"
   },
   {
    "duration": 5,
    "start_time": "2022-08-26T19:02:02.673Z"
   },
   {
    "duration": 267,
    "start_time": "2022-08-26T19:02:02.680Z"
   },
   {
    "duration": 5,
    "start_time": "2022-08-26T19:02:02.950Z"
   },
   {
    "duration": 317,
    "start_time": "2022-08-26T19:02:02.960Z"
   },
   {
    "duration": 186,
    "start_time": "2022-08-26T19:02:03.279Z"
   },
   {
    "duration": 9,
    "start_time": "2022-08-26T19:02:03.466Z"
   },
   {
    "duration": 51,
    "start_time": "2022-08-26T19:02:03.477Z"
   },
   {
    "duration": 11,
    "start_time": "2022-08-26T19:02:03.531Z"
   },
   {
    "duration": 18,
    "start_time": "2022-08-26T19:02:03.544Z"
   },
   {
    "duration": 35,
    "start_time": "2022-08-26T19:02:03.564Z"
   },
   {
    "duration": 38,
    "start_time": "2022-08-26T19:02:03.601Z"
   },
   {
    "duration": 16,
    "start_time": "2022-08-26T19:02:03.641Z"
   },
   {
    "duration": 288,
    "start_time": "2022-08-26T19:02:44.662Z"
   },
   {
    "duration": 300,
    "start_time": "2022-08-26T19:02:56.624Z"
   },
   {
    "duration": 307,
    "start_time": "2022-08-26T19:03:11.041Z"
   },
   {
    "duration": 316,
    "start_time": "2022-08-26T19:03:47.249Z"
   },
   {
    "duration": 224,
    "start_time": "2022-08-26T19:04:25.995Z"
   },
   {
    "duration": 349,
    "start_time": "2022-08-26T19:04:59.280Z"
   },
   {
    "duration": 86,
    "start_time": "2022-08-26T19:06:14.466Z"
   },
   {
    "duration": 161,
    "start_time": "2022-08-26T19:06:26.914Z"
   },
   {
    "duration": 161,
    "start_time": "2022-08-26T19:07:11.258Z"
   },
   {
    "duration": 172,
    "start_time": "2022-08-26T19:07:49.699Z"
   },
   {
    "duration": 91,
    "start_time": "2022-08-26T19:12:50.813Z"
   },
   {
    "duration": 12,
    "start_time": "2022-08-26T19:12:59.644Z"
   },
   {
    "duration": 28,
    "start_time": "2022-08-26T19:13:35.068Z"
   },
   {
    "duration": 25,
    "start_time": "2022-08-26T19:14:05.299Z"
   },
   {
    "duration": 15,
    "start_time": "2022-08-26T19:14:48.835Z"
   },
   {
    "duration": 1342,
    "start_time": "2022-08-27T05:42:05.367Z"
   },
   {
    "duration": 79,
    "start_time": "2022-08-27T05:42:06.712Z"
   },
   {
    "duration": 61,
    "start_time": "2022-08-27T05:42:06.793Z"
   },
   {
    "duration": 15,
    "start_time": "2022-08-27T05:42:06.856Z"
   },
   {
    "duration": 14,
    "start_time": "2022-08-27T05:42:06.873Z"
   },
   {
    "duration": 204,
    "start_time": "2022-08-27T05:42:06.889Z"
   },
   {
    "duration": 31,
    "start_time": "2022-08-27T05:42:07.095Z"
   },
   {
    "duration": 42,
    "start_time": "2022-08-27T05:42:07.127Z"
   },
   {
    "duration": 96,
    "start_time": "2022-08-27T05:42:07.171Z"
   },
   {
    "duration": 60,
    "start_time": "2022-08-27T05:42:07.270Z"
   },
   {
    "duration": 7,
    "start_time": "2022-08-27T05:42:07.333Z"
   },
   {
    "duration": 227,
    "start_time": "2022-08-27T05:42:07.342Z"
   },
   {
    "duration": 159,
    "start_time": "2022-08-27T05:42:07.570Z"
   },
   {
    "duration": 24,
    "start_time": "2022-08-27T05:42:07.731Z"
   },
   {
    "duration": 306,
    "start_time": "2022-08-27T05:42:07.758Z"
   },
   {
    "duration": 237,
    "start_time": "2022-08-27T05:42:08.066Z"
   },
   {
    "duration": 362,
    "start_time": "2022-08-27T05:42:08.305Z"
   },
   {
    "duration": 13,
    "start_time": "2022-08-27T05:42:08.669Z"
   },
   {
    "duration": 8,
    "start_time": "2022-08-27T05:42:08.684Z"
   },
   {
    "duration": 252,
    "start_time": "2022-08-27T05:42:08.693Z"
   },
   {
    "duration": 300,
    "start_time": "2022-08-27T05:42:08.948Z"
   },
   {
    "duration": 12,
    "start_time": "2022-08-27T05:42:09.250Z"
   },
   {
    "duration": 168,
    "start_time": "2022-08-27T05:42:09.264Z"
   },
   {
    "duration": 166,
    "start_time": "2022-08-27T05:42:09.434Z"
   },
   {
    "duration": 20,
    "start_time": "2022-08-27T05:42:09.602Z"
   },
   {
    "duration": 231,
    "start_time": "2022-08-27T05:42:09.624Z"
   },
   {
    "duration": 5,
    "start_time": "2022-08-27T05:42:09.857Z"
   },
   {
    "duration": 259,
    "start_time": "2022-08-27T05:42:09.865Z"
   },
   {
    "duration": 155,
    "start_time": "2022-08-27T05:42:10.126Z"
   },
   {
    "duration": 8,
    "start_time": "2022-08-27T05:42:10.282Z"
   },
   {
    "duration": 47,
    "start_time": "2022-08-27T05:42:10.292Z"
   },
   {
    "duration": 15,
    "start_time": "2022-08-27T05:42:10.341Z"
   },
   {
    "duration": 12,
    "start_time": "2022-08-27T05:42:10.358Z"
   },
   {
    "duration": 11,
    "start_time": "2022-08-27T05:42:10.372Z"
   },
   {
    "duration": 56,
    "start_time": "2022-08-27T05:42:10.385Z"
   },
   {
    "duration": 14,
    "start_time": "2022-08-27T05:42:10.443Z"
   },
   {
    "duration": 1242,
    "start_time": "2022-08-27T10:38:07.394Z"
   },
   {
    "duration": 70,
    "start_time": "2022-08-27T10:38:08.638Z"
   },
   {
    "duration": 44,
    "start_time": "2022-08-27T10:38:08.709Z"
   },
   {
    "duration": 10,
    "start_time": "2022-08-27T10:38:08.755Z"
   },
   {
    "duration": 9,
    "start_time": "2022-08-27T10:38:08.766Z"
   },
   {
    "duration": 175,
    "start_time": "2022-08-27T10:38:08.776Z"
   },
   {
    "duration": 22,
    "start_time": "2022-08-27T10:38:08.953Z"
   },
   {
    "duration": 31,
    "start_time": "2022-08-27T10:38:08.977Z"
   },
   {
    "duration": 106,
    "start_time": "2022-08-27T10:38:09.010Z"
   },
   {
    "duration": 35,
    "start_time": "2022-08-27T10:38:09.118Z"
   },
   {
    "duration": 4,
    "start_time": "2022-08-27T10:38:09.154Z"
   },
   {
    "duration": 203,
    "start_time": "2022-08-27T10:38:09.159Z"
   },
   {
    "duration": 122,
    "start_time": "2022-08-27T10:38:09.364Z"
   },
   {
    "duration": 17,
    "start_time": "2022-08-27T10:38:09.488Z"
   },
   {
    "duration": 251,
    "start_time": "2022-08-27T10:38:09.507Z"
   },
   {
    "duration": 179,
    "start_time": "2022-08-27T10:38:09.759Z"
   },
   {
    "duration": 309,
    "start_time": "2022-08-27T10:38:09.939Z"
   },
   {
    "duration": 13,
    "start_time": "2022-08-27T10:38:10.250Z"
   },
   {
    "duration": 5,
    "start_time": "2022-08-27T10:38:10.265Z"
   },
   {
    "duration": 200,
    "start_time": "2022-08-27T10:38:10.271Z"
   },
   {
    "duration": 311,
    "start_time": "2022-08-27T10:38:10.473Z"
   },
   {
    "duration": 20,
    "start_time": "2022-08-27T10:38:10.786Z"
   },
   {
    "duration": 128,
    "start_time": "2022-08-27T10:38:10.808Z"
   },
   {
    "duration": 134,
    "start_time": "2022-08-27T10:38:10.937Z"
   },
   {
    "duration": 4,
    "start_time": "2022-08-27T10:38:11.072Z"
   },
   {
    "duration": 180,
    "start_time": "2022-08-27T10:38:11.078Z"
   },
   {
    "duration": 17,
    "start_time": "2022-08-27T10:38:11.260Z"
   },
   {
    "duration": 207,
    "start_time": "2022-08-27T10:38:11.281Z"
   },
   {
    "duration": 151,
    "start_time": "2022-08-27T10:38:11.490Z"
   },
   {
    "duration": 7,
    "start_time": "2022-08-27T10:38:11.643Z"
   },
   {
    "duration": 21,
    "start_time": "2022-08-27T10:38:11.651Z"
   },
   {
    "duration": 32,
    "start_time": "2022-08-27T10:38:11.673Z"
   },
   {
    "duration": 9,
    "start_time": "2022-08-27T10:38:11.707Z"
   },
   {
    "duration": 7,
    "start_time": "2022-08-27T10:38:11.718Z"
   },
   {
    "duration": 31,
    "start_time": "2022-08-27T10:38:11.727Z"
   },
   {
    "duration": 12,
    "start_time": "2022-08-27T10:38:11.760Z"
   }
  ],
  "kernelspec": {
   "display_name": "Python 3 (ipykernel)",
   "language": "python",
   "name": "python3"
  },
  "language_info": {
   "codemirror_mode": {
    "name": "ipython",
    "version": 3
   },
   "file_extension": ".py",
   "mimetype": "text/x-python",
   "name": "python",
   "nbconvert_exporter": "python",
   "pygments_lexer": "ipython3",
   "version": "3.9.13"
  },
  "toc": {
   "base_numbering": 1,
   "nav_menu": {},
   "number_sections": true,
   "sideBar": true,
   "skip_h1_title": true,
   "title_cell": "Table of Contents",
   "title_sidebar": "Contents",
   "toc_cell": false,
   "toc_position": {
    "height": "calc(100% - 180px)",
    "left": "10px",
    "top": "150px",
    "width": "225.27499389648438px"
   },
   "toc_section_display": true,
   "toc_window_display": true
  }
 },
 "nbformat": 4,
 "nbformat_minor": 2
}
